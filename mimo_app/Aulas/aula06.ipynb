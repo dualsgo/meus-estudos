{
 "cells": [
  {
   "cell_type": "markdown",
   "metadata": {},
   "source": [
    "# MIMO - 06 - Operações com listas\n",
    "\n",
    "Para explorar os dados que armazenamos em listas, muitas vezes é útil encontrar os valores extremos: O mínimo e o máximo."
   ]
  },
  {
   "cell_type": "markdown",
   "metadata": {},
   "source": [
    "### 06.1 - Encontrando dados extremos\n",
    "\n",
    "Para encontrar o maior número em uma lista de dados, codificamos max(), com o nome da lista entre os parênteses.\n",
    "\n",
    "Para encontrar o menor, codificamos min().\n",
    "\n",
    "Podemos salvar esses resultados em variáveis se necessário."
   ]
  },
  {
   "cell_type": "code",
   "execution_count": 1,
   "metadata": {},
   "outputs": [
    {
     "name": "stdout",
     "output_type": "stream",
     "text": [
      "[3, 5, 4, 6, 7, 2, 1]\n",
      "7\n",
      "1\n"
     ]
    }
   ],
   "source": [
    "pontos = [3, 5, 4, 6, 7, 2, 1]\n",
    "print(pontos)\n",
    "print(max(pontos))\n",
    "print(min(pontos))\n"
   ]
  },
  {
   "cell_type": "markdown",
   "metadata": {},
   "source": [
    "### 06.2 - Classificando dados\n",
    "\n",
    "As listas classificadas são úteis quando queremos entender a posição dos pontos de dados individuais, como pontuações, em relação aos outros.\n",
    "\n",
    "Para classificar uma lista como pontos, codificamos o nome da lista, um ponto e em seguida sort()"
   ]
  },
  {
   "cell_type": "code",
   "execution_count": 2,
   "metadata": {},
   "outputs": [
    {
     "name": "stdout",
     "output_type": "stream",
     "text": [
      "[10, 11, 4, 15, 11, 7]\n",
      "[4, 7, 10, 11, 11, 15]\n"
     ]
    }
   ],
   "source": [
    "pontos = [10, 11, 4, 15, 11, 7]\n",
    "print(pontos)\n",
    "\n",
    "pontos.sort()\n",
    "print(pontos)"
   ]
  },
  {
   "cell_type": "markdown",
   "metadata": {},
   "source": [
    "Ao usar sort() numa lista de números, os números são classificados em ordem crescente, sejam eles inteiros ou de ponto flutuante, negativos ou positivos.\n",
    "\n",
    "Ao usar sort() em uma lista de com strings, os valores são ordenados em ordem alfabética.\n",
    "\n",
    "Se quisermos uma lista classificada em ordem decrescente, podemos usar o argumento reverse=True"
   ]
  },
  {
   "cell_type": "code",
   "execution_count": 4,
   "metadata": {},
   "outputs": [
    {
     "name": "stdout",
     "output_type": "stream",
     "text": [
      "[15, 11, 11, 10, 7, 4]\n"
     ]
    }
   ],
   "source": [
    "pontos.sort(reverse=True)\n",
    "print(pontos)\n"
   ]
  },
  {
   "cell_type": "markdown",
   "metadata": {},
   "source": [
    "# 06.3 - Somando dados\n",
    "\n",
    "Saber a soma dos números nas listas é útil ao comparar diferentes conjuntos de dados, como a diferença nas inscrições semanais em dois meses.\n",
    "\n",
    "Para calcular o total de uma lista, usamos sum() com o nome da lista entre os parênteses.\n",
    "\n",
    "Para reutilizar a soma da lista, podemos salvar o resultado em uma variável."
   ]
  },
  {
   "cell_type": "code",
   "execution_count": 5,
   "metadata": {},
   "outputs": [
    {
     "name": "stdout",
     "output_type": "stream",
     "text": [
      "68\n",
      "165\n"
     ]
    }
   ],
   "source": [
    "junho = [30, 6, 20, 12]\n",
    "julho = [20, 5, 100, 40]\n",
    "\n",
    "print(sum(junho))\n",
    "print(sum(julho))"
   ]
  },
  {
   "cell_type": "markdown",
   "metadata": {},
   "source": [
    "# 06.4 - Unindo listas de dados\n",
    "\n",
    "Frequentemente encontraremos diferentes conjuntos de dados que devemos combinar em um só, como o valor das vendas no fim de semana.\n",
    "\n",
    "Para combinar dois conjuntos de dados, criamos uma expressão usando o operador +. A segunda lista é anexada no final da primeira. Portanto, a ordem das listas é importante.\n",
    "\n",
    "Podemos salvar alista combinada em uma variável para reutilizá-la."
   ]
  },
  {
   "cell_type": "code",
   "execution_count": 6,
   "metadata": {},
   "outputs": [
    {
     "name": "stdout",
     "output_type": "stream",
     "text": [
      "[50, 3, 20, 22, 5]\n",
      "[60, 10, 9, 11, 40]\n",
      "[50, 3, 20, 22, 5, 60, 10, 9, 11, 40]\n"
     ]
    }
   ],
   "source": [
    "sabado = [50, 3, 20, 22, 5]\n",
    "print(sabado)\n",
    "domingo = [60, 10, 9, 11, 40]\n",
    "print(domingo)\n",
    "\n",
    "vendas_fds = sabado + domingo\n",
    "print(vendas_fds)"
   ]
  },
  {
   "cell_type": "markdown",
   "metadata": {},
   "source": [
    "A união também funciona com diferentes tipos de valores.\n",
    "\n",
    "A ordem dos elementos na lista combinada é importante. Se quisermos que os elementos sejam classificados, podemos usar o método sort()."
   ]
  },
  {
   "cell_type": "markdown",
   "metadata": {},
   "source": [
    "# 06.5 - Contando elementos\n",
    "\n",
    "Ao explorar conjuntos de dados, é bom saber quantas vezes um dado está presente, como a resposta mais frequente a uma pesquisa.\n",
    "\n",
    "Para contar a frequência que um valor aparece em uma lista como, começamos com o nome da lista, um ponto e em seguida o método count(), com o valor desejado entre os parênteses.\n",
    "\n",
    "Podemos salvar o resultado da consulta em uma variável para reutilizá-la depois."
   ]
  },
  {
   "cell_type": "code",
   "execution_count": 7,
   "metadata": {},
   "outputs": [
    {
     "name": "stdout",
     "output_type": "stream",
     "text": [
      "5\n"
     ]
    }
   ],
   "source": [
    "respostas = ['sim', 'não', 'as vezes', 'sim', 'sim', 'não', 'não', 'não', 'sim', 'as vezes', 'não', 'sim']\n",
    "frequencia = respostas.count('sim')\n",
    "print(frequencia)\n"
   ]
  },
  {
   "cell_type": "markdown",
   "metadata": {},
   "source": [
    "Se quisessemos exibir cada resposta e sua frequência, poderíamos usar um loop for"
   ]
  },
  {
   "cell_type": "code",
   "execution_count": 8,
   "metadata": {},
   "outputs": [
    {
     "name": "stdout",
     "output_type": "stream",
     "text": [
      "sim: 5\n",
      "não: 5\n",
      "as vezes: 2\n"
     ]
    }
   ],
   "source": [
    "questionario = []\n",
    "\n",
    "for resposta in respostas:\n",
    "  # Se a resposta já estiver no questionário, não precisamos contá-la novamente.\n",
    "  if resposta not in questionario:\n",
    "    # Se a resposta não estiver no questionário, contamos quantas vezes ela aparece na lista de respostas.\n",
    "    frequencia = respostas.count(resposta)\n",
    "    # Exibimos a resposta e sua frequência.\n",
    "    print(f'{resposta}: {frequencia}')\n",
    "    # Adicionamos a resposta ao questionário.\n",
    "    questionario.append(resposta)\n",
    "    \n",
    "# Podemos usar qualquer tipo de valor."
   ]
  },
  {
   "cell_type": "markdown",
   "metadata": {},
   "source": [
    "Se não quisermos saber o número exato, mas apenas se existe um elemento específico, usamos a palavra-chave in\n",
    "O resultado será um boolean, True se houver o item na lista, caso contrário, False"
   ]
  },
  {
   "cell_type": "code",
   "execution_count": 9,
   "metadata": {},
   "outputs": [
    {
     "name": "stdout",
     "output_type": "stream",
     "text": [
      "True\n"
     ]
    }
   ],
   "source": [
    "print('não' in respostas)"
   ]
  },
  {
   "cell_type": "markdown",
   "metadata": {},
   "source": []
  }
 ],
 "metadata": {
  "kernelspec": {
   "display_name": "Python 3",
   "language": "python",
   "name": "python3"
  },
  "language_info": {
   "codemirror_mode": {
    "name": "ipython",
    "version": 3
   },
   "file_extension": ".py",
   "mimetype": "text/x-python",
   "name": "python",
   "nbconvert_exporter": "python",
   "pygments_lexer": "ipython3",
   "version": "3.12.1"
  }
 },
 "nbformat": 4,
 "nbformat_minor": 2
}
