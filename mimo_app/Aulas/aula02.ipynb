{
 "cells": [
  {
   "cell_type": "code",
   "execution_count": null,
   "metadata": {},
   "outputs": [],
   "source": [
    "# MIMO - 02 - Tipos e comparações"
   ]
  },
  {
   "cell_type": "markdown",
   "metadata": {},
   "source": [
    "### 02.1 - Comparando números\n",
    "\n",
    "#### Operadores de comparação\n",
    "\n",
    "Além de comparar se os valores são iguais ou diferentes, como visto anteriormente, podemos usar comparações para verificar se um número é menor ou maior que outro número.\n",
    "\n",
    "Para isso utilizamos os operadores < (menor que) e > (maior que) que assim como antes retornam True ou False."
   ]
  },
  {
   "cell_type": "code",
   "execution_count": 1,
   "metadata": {},
   "outputs": [
    {
     "name": "stdout",
     "output_type": "stream",
     "text": [
      "True\n",
      "False\n"
     ]
    }
   ],
   "source": [
    "# Se o número da esquerda for menor que o da direita, o resultado será True.\n",
    "print(1 < 10)\n",
    "\n",
    "# Se o número da esquerda não for menor que o da direita, o resultado será False.\n",
    "print(10 < 1)  "
   ]
  },
  {
   "cell_type": "code",
   "execution_count": null,
   "metadata": {},
   "outputs": [],
   "source": [
    "# Se o número da esquerda não for maior que o da direita, o resultado será False.\n",
    "print(1 > 10)\n",
    "\n",
    "# Se o número da esquerda for maior que o da direita, o resultado será True.\n",
    "print(10 > 1)"
   ]
  },
  {
   "cell_type": "code",
   "execution_count": 2,
   "metadata": {},
   "outputs": [
    {
     "name": "stdout",
     "output_type": "stream",
     "text": [
      "False\n",
      "False\n"
     ]
    }
   ],
   "source": [
    "# Caso os números sejam iguais retornará False em todos os casos!\n",
    "print(1 > 1)\n",
    "print(1 < 1)"
   ]
  },
  {
   "cell_type": "markdown",
   "metadata": {},
   "source": [
    "#### Verificando a igualdade\n",
    "\n",
    "Para verificar se um número é menor ou igual ou se é menor ou igual a outro, usamos os operadores <= ou >=.\n",
    "\n",
    "Agora verificamos duas possibilidades, se o número é menor ou igual ou se é menor ou igual a outro."
   ]
  },
  {
   "cell_type": "code",
   "execution_count": null,
   "metadata": {},
   "outputs": [],
   "source": [
    "print(1 >= 1) # True\n",
    "print(1 <= 1) # True"
   ]
  },
  {
   "cell_type": "markdown",
   "metadata": {},
   "source": [
    "Além dos valores, podemos comparar as variáveis umas com as outras e salvar o resultado da comparação (True ou False) em outra variável."
   ]
  },
  {
   "cell_type": "code",
   "execution_count": 3,
   "metadata": {},
   "outputs": [
    {
     "name": "stdout",
     "output_type": "stream",
     "text": [
      "True\n"
     ]
    }
   ],
   "source": [
    "menor_valor = 1\n",
    "maior_valor = 11\n",
    "\n",
    "resultado = menor_valor <= maior_valor\n",
    "\n",
    "print(resultado)"
   ]
  },
  {
   "cell_type": "markdown",
   "metadata": {},
   "source": [
    "### 02.2 - Comparando strings\n",
    "\n",
    "Podemos usar comparações para verificar se uma string é igual ou diferente de outra string.\n",
    "\n",
    "Para verificar se uma string é igual a outra, utilizamos o operador de igualdade (==).\n",
    "\n",
    "Assim como com os números, se a string da esquerda for igual à string da direita o resultado é True. Se não, o resultado e False."
   ]
  },
  {
   "cell_type": "code",
   "execution_count": 4,
   "metadata": {},
   "outputs": [
    {
     "name": "stdout",
     "output_type": "stream",
     "text": [
      "True\n",
      "False\n"
     ]
    }
   ],
   "source": [
    "print('online' == 'online')  # True\n",
    "print('online' == 'ONLINE')  # False - Pois as letras maiúsculas e minúsculas são diferentes."
   ]
  },
  {
   "cell_type": "markdown",
   "metadata": {},
   "source": [
    "Para verificar se uma string não é igual (ou diferente) de outra, utilizamos o operador de desigualdade (!=).\n",
    "\n",
    "Se a string da esquerda for diferente da string da direita, o resultado é True. Se não, o resultado é False."
   ]
  },
  {
   "cell_type": "code",
   "execution_count": null,
   "metadata": {},
   "outputs": [],
   "source": [
    "print('online' != 'offline')  # True\n",
    "print('online' != 'online')  # False\n",
    "print('online' != 'ONLINE')  # True"
   ]
  },
  {
   "cell_type": "markdown",
   "metadata": {},
   "source": [
    "Também podemos comparar variáveis que armazenam strings entre sí."
   ]
  },
  {
   "cell_type": "code",
   "execution_count": 5,
   "metadata": {},
   "outputs": [
    {
     "name": "stdout",
     "output_type": "stream",
     "text": [
      "False\n",
      "True\n"
     ]
    }
   ],
   "source": [
    "fruta_1 = 'Maçã'\n",
    "fruta_2 = 'Laranja'\n",
    "print(fruta_1 == fruta_2)  # False\n",
    "print(fruta_1 != fruta_2)  # True"
   ]
  },
  {
   "cell_type": "markdown",
   "metadata": {},
   "source": [
    "### 02.3 - Descobrindo tipos\n",
    "\n",
    "Já vimos alguns tipos de dados, como números e strings. Em termos de programação, esses valores são chamados de tipos.\n",
    "\n",
    "- Strings (str) - São caracteres entre aspas duplas ou simples.\n",
    "- Inteiros (int) - Representam números sem decimais.\n",
    "- Ponto flutuante (float) - São números com um ou mais dígitos após a vírgula decimal.\n",
    "- Boolean (bool) - Representam os valores especiais True e False."
   ]
  },
  {
   "cell_type": "markdown",
   "metadata": {},
   "source": [
    "#### Conversão de tipos\n",
    "\n",
    "As vezes precisamos converter um tipo de dado para outro. Por exemplo, se quisermos comparar um número inteiro com um número de ponto flutuante, precisamos convertê-los para o mesmo tipo de dados. Se não fizermos isso, o Python retornará um erro.\n",
    "\n",
    "Existem métodos integrados para nos ajudar a converter tipos de dados, mas antes precisamos saber se é possível converter um tipo de dado em outro.\n",
    "\n",
    "Vimos os tipos de dados básicos em Python. Se não tivermos certeza do tipo de valor, podemos verificá-lo. O método type() verifica o tipo de dado.\n",
    "Podemos verificar o tipo de qualquer variável com type(), colocando-a entre os parênteses.\n",
    "\n",
    "Se combinarmos o método type() com o método print(), podemos ver uma versão abreviada do tipo de dado no console"
   ]
  },
  {
   "cell_type": "code",
   "execution_count": 6,
   "metadata": {},
   "outputs": [
    {
     "name": "stdout",
     "output_type": "stream",
     "text": [
      "<class 'int'>\n"
     ]
    }
   ],
   "source": [
    "dado = 100  # A variável recebe um valor do tipo inteiro\n",
    "print(type(dado))  # Exibe <class 'int'>"
   ]
  },
  {
   "cell_type": "markdown",
   "metadata": {},
   "source": [
    "Após ter certeza do tipo de dado, podemos converter um tipo de dado em outro. Para isso, usamos os métodos int(), float(), str() e bool()."
   ]
  },
  {
   "cell_type": "markdown",
   "metadata": {},
   "source": [
    "- int() nos ajudará a converter o valor da string idade para um número inteiro, de modo que seja possível realizar a comparação sem causar um erro."
   ]
  },
  {
   "cell_type": "code",
   "execution_count": 8,
   "metadata": {},
   "outputs": [
    {
     "name": "stdout",
     "output_type": "stream",
     "text": [
      "True\n"
     ]
    }
   ],
   "source": [
    "# A variável recebe um valor do tipo string\n",
    "idade = '17'\n",
    "\n",
    "# Atualizamos o valor da variável convertendo o valor para inteiro\n",
    "idade = int(idade)\n",
    "\n",
    "# Agora podemos comparar a idade com o valor 18.\n",
    "print(idade < 18)  "
   ]
  },
  {
   "cell_type": "markdown",
   "metadata": {},
   "source": [
    "- O método str() nos permite pegar valores numéricos e convertê-los em strings."
   ]
  },
  {
   "cell_type": "code",
   "execution_count": null,
   "metadata": {},
   "outputs": [],
   "source": [
    "ano = 2023\n",
    "print(type(ano)) # Exibe <class 'int'>\n",
    "\n",
    "# Atualizamos o valor da variável convertendo o valor para string\n",
    "ano = str(ano) \n",
    "\n",
    "# Agora podemos concatenar o ano com uma string utilizando o operador +\n",
    "print('O ano é ' + ano)"
   ]
  },
  {
   "cell_type": "markdown",
   "metadata": {},
   "source": [
    "Importante: Não podemos concatenar um número (int) com uma string. Isso causará um erro. Mas seria possível utilizar a vírgula para combinar os valores de diferentes tipos dentro do print(). (Veremos adiante)"
   ]
  },
  {
   "cell_type": "markdown",
   "metadata": {},
   "source": [
    "- Se usarmos int() em números de ponto flutuante, simplesmente removeremos o ponto decimal e os valores subsequentes. Não haverá arredondamento!"
   ]
  },
  {
   "cell_type": "code",
   "execution_count": 9,
   "metadata": {},
   "outputs": [
    {
     "name": "stdout",
     "output_type": "stream",
     "text": [
      "9\n"
     ]
    }
   ],
   "source": [
    "preco = 9.99\n",
    "print(int(preco))"
   ]
  },
  {
   "cell_type": "markdown",
   "metadata": {},
   "source": [
    "  Importante: Se quisermos arredondar um número de ponto flutuante, podemos usar round(). Isso arredondará o número para o inteiro mais próximo."
   ]
  },
  {
   "cell_type": "code",
   "execution_count": 10,
   "metadata": {},
   "outputs": [
    {
     "name": "stdout",
     "output_type": "stream",
     "text": [
      "10\n"
     ]
    }
   ],
   "source": [
    "preco = round(preco)\n",
    "print(preco) # 10"
   ]
  },
  {
   "cell_type": "markdown",
   "metadata": {},
   "source": [
    "- Da mesma forma podemos utilizar float() em um número inteiro. Isso adicionará um ponto decimal e a capacidade de armazenar valores fracionários."
   ]
  },
  {
   "cell_type": "code",
   "execution_count": 11,
   "metadata": {},
   "outputs": [
    {
     "name": "stdout",
     "output_type": "stream",
     "text": [
      "12.0\n"
     ]
    }
   ],
   "source": [
    "meses = 12\n",
    "print(float(meses)) # 12.0"
   ]
  },
  {
   "cell_type": "markdown",
   "metadata": {},
   "source": [
    "- Se utilizarmos int() em um boolean, o valor numérico equivalente será 1 para True e 0 para False (1.0 e 0.0 caso seja converta para float)."
   ]
  },
  {
   "cell_type": "code",
   "execution_count": null,
   "metadata": {},
   "outputs": [],
   "source": [
    "print(float(True))\n",
    "print(int(False))"
   ]
  },
  {
   "cell_type": "markdown",
   "metadata": {},
   "source": [
    "- Podemos usar bool() para converter uma variável para boolean. Se a variável tiver conteúdo ela se tornará True. Se estiver vazia ou for 0, ela se tornará False."
   ]
  },
  {
   "cell_type": "code",
   "execution_count": 12,
   "metadata": {},
   "outputs": [
    {
     "name": "stdout",
     "output_type": "stream",
     "text": [
      "True\n",
      "False\n",
      "True\n",
      "False\n"
     ]
    }
   ],
   "source": [
    "nome = 'Maycon'  # A variável recebe um valor do tipo string\n",
    "print(bool(nome)) # True\n",
    "\n",
    "sobrenome = ''  # A variável recebe um valor do tipo string vazio\n",
    "print(bool(sobrenome)) # False\n",
    "\n",
    "idade = 30  # A variável recebe um valor do tipo inteiro diferente de 0\n",
    "print(bool(idade)) # True\n",
    "\n",
    "dinheiro = 0  # A variável recebe um valor do tipo inteiro igual a 0\n",
    "print(bool(dinheiro))  # False"
   ]
  },
  {
   "cell_type": "markdown",
   "metadata": {},
   "source": [
    "### 02.4 - Formatando strings\n",
    "\n",
    "Vamos aprender a exibir diferentes tipos de valores juntos no console com um recurso útil conhecido como strings formatadas.\n",
    "\n",
    "Aprendemos que podemos utilizar + para adicionar duas strings e exibi-las juntas."
   ]
  },
  {
   "cell_type": "code",
   "execution_count": null,
   "metadata": {},
   "outputs": [],
   "source": [
    "print('Essa parte' + ' com essa.')  "
   ]
  },
  {
   "cell_type": "markdown",
   "metadata": {},
   "source": [
    "Usar + para combinar dados numéricos com strings produz um erro.\n",
    "\n",
    "A solução seria utilizar vírgula (,) para concatenar valores diferentes em uma expressão."
   ]
  },
  {
   "cell_type": "code",
   "execution_count": 13,
   "metadata": {},
   "outputs": [
    {
     "name": "stdout",
     "output_type": "stream",
     "text": [
      "Eu tenho 30 anos\n"
     ]
    }
   ],
   "source": [
    "print('Eu tenho', 30, 'anos')"
   ]
  },
  {
   "cell_type": "markdown",
   "metadata": {},
   "source": [
    "O separador padrão da vírgula é um espaço.\n",
    "O separador pode ser alterado com o argumento sep da função print()\n",
    "\n",
    "(Veremos mais sobre funções e argumentos adiante)"
   ]
  },
  {
   "cell_type": "code",
   "execution_count": 15,
   "metadata": {},
   "outputs": [
    {
     "name": "stdout",
     "output_type": "stream",
     "text": [
      "Podemos****mudar o separador****com sep\n"
     ]
    }
   ],
   "source": [
    "print('Podemos', 'mudar o separador', 'com sep', sep='****')"
   ]
  },
  {
   "cell_type": "markdown",
   "metadata": {},
   "source": [
    "#### O RECURSO MAIS MODERNO:\n",
    "\n",
    "As f strings (abreviação de strings formatadas) nos permitem exibir expressões como adicionar um número a uma string, sem nenhum erro.\n",
    "\n",
    "Cada instrução f-string consiste em duas partes: \n",
    "\n",
    "- primeiro o caractere f\n",
    "- depois a string que queremos, contendo um conjunto de chaves {} (abertura e fechamento) contendo o valor que desejamos exibir na instrução print()."
   ]
  },
  {
   "cell_type": "code",
   "execution_count": null,
   "metadata": {},
   "outputs": [],
   "source": [
    "print(f'{2} novas mensagens')"
   ]
  },
  {
   "cell_type": "markdown",
   "metadata": {},
   "source": [
    "Inserir variáveis entre as chaves também funciona."
   ]
  },
  {
   "cell_type": "code",
   "execution_count": null,
   "metadata": {},
   "outputs": [],
   "source": [
    "nome = 'Ana'\n",
    "print(f'Nome: {nome}')"
   ]
  },
  {
   "cell_type": "markdown",
   "metadata": {},
   "source": [
    "Também podemos usar expressões (com variáveis ou sem)"
   ]
  },
  {
   "cell_type": "code",
   "execution_count": 16,
   "metadata": {},
   "outputs": [
    {
     "name": "stdout",
     "output_type": "stream",
     "text": [
      "Faltam percorrer 6 Km.\n"
     ]
    }
   ],
   "source": [
    "distancia = 10\n",
    "distancia_percorrida = 4\n",
    "\n",
    "print(f'Faltam percorrer {distancia - distancia_percorrida} Km.')"
   ]
  },
  {
   "cell_type": "markdown",
   "metadata": {},
   "source": [
    "Podemos usar quantas chaves forem necessárias."
   ]
  },
  {
   "cell_type": "code",
   "execution_count": null,
   "metadata": {},
   "outputs": [],
   "source": [
    "print(f'A distância é de {distancia}Km. Você percorreu {distancia_percorrida}Km. Faltam percorrer {distancia - distancia_percorrida}Km.')"
   ]
  },
  {
   "cell_type": "markdown",
   "metadata": {},
   "source": [
    "Podemos armazenar a f-string em uma variável"
   ]
  },
  {
   "cell_type": "code",
   "execution_count": 17,
   "metadata": {},
   "outputs": [
    {
     "name": "stdout",
     "output_type": "stream",
     "text": [
      "7 novas notificações\n"
     ]
    }
   ],
   "source": [
    "notificacoes = 7\n",
    "\n",
    "status = f'{notificacoes} novas notificações'\n",
    "\n",
    "print(status)"
   ]
  }
 ],
 "metadata": {
  "kernelspec": {
   "display_name": "Python 3",
   "language": "python",
   "name": "python3"
  },
  "language_info": {
   "codemirror_mode": {
    "name": "ipython",
    "version": 3
   },
   "file_extension": ".py",
   "mimetype": "text/x-python",
   "name": "python",
   "nbconvert_exporter": "python",
   "pygments_lexer": "ipython3",
   "version": "3.12.1"
  }
 },
 "nbformat": 4,
 "nbformat_minor": 2
}
