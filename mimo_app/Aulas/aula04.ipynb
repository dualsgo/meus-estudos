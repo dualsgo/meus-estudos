{
 "cells": [
  {
   "cell_type": "code",
   "execution_count": null,
   "metadata": {},
   "outputs": [],
   "source": [
    "# MIMO - 04 - Loops\n"
   ]
  },
  {
   "cell_type": "markdown",
   "metadata": {},
   "source": [
    "### 4.1 - Autoatribuição e operadores\n",
    "\n",
    "Vamos aprender um novo conceito que explica como as variáveis controlam as coisas como adicionar ou retirar reais de uma carteira.\n",
    "\n",
    "Quando criamos uma variável, atribuímos um valor a ela, como atribuir 3 a carteira"
   ]
  },
  {
   "cell_type": "code",
   "execution_count": 2,
   "metadata": {},
   "outputs": [
    {
     "name": "stdout",
     "output_type": "stream",
     "text": [
      "carteira = 3\n"
     ]
    }
   ],
   "source": [
    "carteira = 3\n",
    "print(f'carteira = {carteira}')"
   ]
  },
  {
   "cell_type": "markdown",
   "metadata": {},
   "source": [
    "Autoatibuição é quando definimos uma variável com seu próprio valor. Por exemplo, podemos definir carteira com valor 3 com"
   ]
  },
  {
   "cell_type": "code",
   "execution_count": 3,
   "metadata": {},
   "outputs": [
    {
     "name": "stdout",
     "output_type": "stream",
     "text": [
      "carteira = 3\n"
     ]
    }
   ],
   "source": [
    "carteira = carteira\n",
    "print(f'carteira = {carteira}')"
   ]
  },
  {
   "cell_type": "markdown",
   "metadata": {},
   "source": [
    "Como podemos autoatribuir variáveis, podemos aumentar ou diminuir variáveis definidas com números."
   ]
  },
  {
   "cell_type": "code",
   "execution_count": 4,
   "metadata": {},
   "outputs": [
    {
     "name": "stdout",
     "output_type": "stream",
     "text": [
      "carteira + 1: 4\n",
      "carteira + 1: 5\n"
     ]
    }
   ],
   "source": [
    "carteira = carteira + 1\n",
    "print(f'carteira + 1: {carteira}')\n",
    "\n",
    "carteira = carteira + 1\n",
    "print(f'carteira + 1: {carteira}')"
   ]
  },
  {
   "cell_type": "markdown",
   "metadata": {},
   "source": [
    "Variáveis autoatribuídas nos permitem rastrear dados que mudam ao longo do tempo."
   ]
  },
  {
   "cell_type": "code",
   "execution_count": null,
   "metadata": {},
   "outputs": [],
   "source": [
    "carteira = 3\n",
    "carteira = carteira + 2\n",
    "carteira = carteira - 1\n",
    "print(carteira)"
   ]
  },
  {
   "cell_type": "markdown",
   "metadata": {},
   "source": [
    "Variáveis definidas com strings funcionam da mesma forma."
   ]
  },
  {
   "cell_type": "code",
   "execution_count": null,
   "metadata": {},
   "outputs": [],
   "source": [
    "titulo = 'Senhor: '\n",
    "nome = titulo + 'Maycon'\n",
    "nome = nome + ' Douglas.'\n",
    "print(nome)"
   ]
  },
  {
   "cell_type": "markdown",
   "metadata": {},
   "source": [
    "Como a autoatribuição é uma ferramenta poderosa para criar programas, vamos aprender alguns operadores que nos ajudam a escrever código com mais rapidez.\n",
    "\n",
    "Sabemos que podemos adicionar 1 a uma variável escrevendo o nome da variável."
   ]
  },
  {
   "cell_type": "code",
   "execution_count": null,
   "metadata": {},
   "outputs": [],
   "source": [
    "likes = 5\n",
    "likes = likes + 1 # 5 + 1 = 6\n",
    "print(likes)"
   ]
  },
  {
   "cell_type": "markdown",
   "metadata": {},
   "source": [
    "Em vez de escrever o nome da variável, podemos usar o operador += para adicionar um número com likes += 1"
   ]
  },
  {
   "cell_type": "code",
   "execution_count": null,
   "metadata": {},
   "outputs": [],
   "source": [
    "likes = 5\n",
    "likes += 1  # é o mesmo que likes = likes + 1\n",
    "print(likes)"
   ]
  },
  {
   "cell_type": "markdown",
   "metadata": {},
   "source": [
    "Para subtrair do valor de uma variável, usamos -="
   ]
  },
  {
   "cell_type": "code",
   "execution_count": null,
   "metadata": {},
   "outputs": [],
   "source": [
    "likes -= 1  # é o mesmo que likes = likes - 1 \n",
    "print(likes)"
   ]
  },
  {
   "cell_type": "markdown",
   "metadata": {},
   "source": [
    "### 4.2 - Loops while\n",
    "\n",
    "Os programas repetem as mesmas linhas de código continuamente para construir todo o tipo de coisas, como elementos repetidos de aplicativos.\n",
    "\n",
    "Uma maneira de repetir linhas de código é escrevê-las repetidamente, mas isso leva muito tempo se quisermos criar programas maiores.\n",
    "\n",
    "Para construir programas e sites maiores, repetimos linhas de código usando um loop while.\n",
    "\n",
    "Usar um loop while para repetir linhas de código começa com a palavra chave while.\n",
    "\n",
    "O loop while repete seu bloco de código enquanto sua condição e True.\n",
    "\n",
    "O código que o loop while repete vem depois de :, dentro do bloco de código recuado.\n",
    "\n",
    "Se a condição de um loop while permanecer True para sempre, nós o chamaremos de loop infinito."
   ]
  },
  {
   "cell_type": "code",
   "execution_count": 5,
   "metadata": {},
   "outputs": [
    {
     "name": "stdout",
     "output_type": "stream",
     "text": [
      "Repita\n"
     ]
    }
   ],
   "source": [
    "verdade = True\n",
    "\n",
    "# O código dentro do loop while é repetido enquanto a condição for True\n",
    "while verdade:\n",
    "    \n",
    "# Repetimos o comando print() com a string 'Repita' enquanto a condição for True\n",
    "    print('Repita') \n",
    "    \n",
    "# Se não mudarmos a condição, o loop while será infinito e nunca terminará. Mudamos a condição para False para que o loop while termine\n",
    "    verdade = False "
   ]
  },
  {
   "cell_type": "markdown",
   "metadata": {},
   "source": [
    "Podemos usar um loop while para repetir linhas de código um número específico de vezes.\n",
    "\n",
    "Definimos uma variável quantidade contadora com valor igual a zero. Ela será atualizada dentro do loop, a cada repetição. Além disso ela será usada na declaração condicional. Vejamos o exemplo:"
   ]
  },
  {
   "cell_type": "code",
   "execution_count": 7,
   "metadata": {},
   "outputs": [
    {
     "name": "stdout",
     "output_type": "stream",
     "text": [
      "0 - Adicionando\n",
      "1 - Adicionando\n",
      "2 - Adicionando\n",
      "3 - Adicionando\n",
      "4 - Adicionando\n",
      "5 - Adicionando\n",
      "6 - Adicionando\n",
      "7 - Adicionando\n",
      "8 - Adicionando\n",
      "9 - Adicionando\n",
      "10 - Adicionando\n"
     ]
    }
   ],
   "source": [
    "quantidade = 0\n",
    "\n",
    "# O código dentro do loop while é repetido enquanto a condição for True. Nesse caso, enquanto quantidade for menor que 10\n",
    "while quantidade <= 10:\n",
    "\n",
    "# Repetimos o comando print() com a string 'Adicionando' enquanto a condição for True    \n",
    "    print(f'{quantidade} - Adicionando')\n",
    "# Adicionamos 1 ao contador para atualizá-lo a cada repetição do loop\n",
    "    quantidade += 1"
   ]
  },
  {
   "cell_type": "markdown",
   "metadata": {},
   "source": [
    "### 4.3 - Parando loops while\n",
    "\n",
    "Vamos nos concentrar em como impedir de fazer um loop infinito.\n",
    "\n",
    "Como vimos, para parar um loop, começamos criando uma variável fora do loop."
   ]
  },
  {
   "cell_type": "code",
   "execution_count": null,
   "metadata": {},
   "outputs": [],
   "source": [
    "continuar = True\n",
    "\n",
    "while continuar: # É o mesmo que comparar se continuar == True\n",
    "    print('De novo...')  # O loop while repete seu bloco de código enquanto continuar for True\n",
    "    # Dentro do bloco de código, paramos o loop definindo continuar como False\n",
    "    continuar = False\n",
    "    \n",
    "    print('Só dessa vez.')"
   ]
  },
  {
   "cell_type": "markdown",
   "metadata": {},
   "source": [
    "O loop executa todo o seu bloco porque continuar é True no início, mas não é executado novamente se definimos continuar como False"
   ]
  },
  {
   "cell_type": "markdown",
   "metadata": {},
   "source": [
    "### 4.4 - Controlando loops while\n",
    "\n",
    "Vamos nos aprofundar no controle dos tempos em que um loop while repete seu código.\n",
    "\n",
    "Para controlar o tempo de repetição de um loop while, começamos com uma variável definida com um número. Chamamos essa variável de contador.\n",
    "\n",
    "Em seguida, usamos uma comparação na condição para comparar a variável de contador com um número.\n",
    "\n",
    "Dentro do bloco de código, fazemos a condição retornar False e paramos o loop incrementando a variável de contador.\n",
    "\n",
    "Neste caso usamos += e aumentamos o valor da variável em 1 cada vez que o loop é executado.\n"
   ]
  },
  {
   "cell_type": "code",
   "execution_count": 8,
   "metadata": {},
   "outputs": [
    {
     "name": "stdout",
     "output_type": "stream",
     "text": [
      "1 - Agora temos um limite de repetições\n",
      "2 - Agora temos um limite de repetições\n",
      "3 - Agora temos um limite de repetições\n"
     ]
    }
   ],
   "source": [
    "contador = 1\n",
    "# O loop while repete seu bloco de código enquanto a condição for True\n",
    "while contador < 4:\n",
    "    # Nesse caso, enquanto contador for menor que 4\n",
    "    print(f'{contador} - Agora temos um limite de repetições')\n",
    "    contador += 1 # Adicionamos 1 ao contador para atualizá-lo a cada repetição do loop"
   ]
  },
  {
   "cell_type": "markdown",
   "metadata": {},
   "source": [
    "Alterar o valor da variável de contador muda quando o loop é iniciado.\n",
    "\n",
    "Alterar a condição informa ao loop quando parar.\n",
    "\n",
    "A ordem do código afeta o que o console exibe! Se colocar o incremento antes do print pro exemplo"
   ]
  },
  {
   "cell_type": "code",
   "execution_count": 9,
   "metadata": {},
   "outputs": [
    {
     "name": "stdout",
     "output_type": "stream",
     "text": [
      "2 - Agora temos um limite de repetições\n",
      "3 - Agora temos um limite de repetições\n",
      "4 - Agora temos um limite de repetições\n"
     ]
    }
   ],
   "source": [
    "contador = 1  \n",
    "# O loop while repete seu bloco de código enquanto a condição for True\n",
    "while contador < 4:\n",
    "    contador += 1  # Adicionamos 1 ao contador para atualizá-lo a cada repetição do loop. Nesse caso o contador é atualizado antes do print, então ele começa em 2 e vai até 4\n",
    "    print(f'{contador} - Agora temos um limite de repetições') #  O contador irá até o 4 pois o incremento é feito antes do print, sendo assim o print() é executado pois a condição é verificada após o incremento"
   ]
  },
  {
   "cell_type": "markdown",
   "metadata": {},
   "source": [
    "### 4.4 - Parando loops for\n",
    "\n",
    "Usando loops for, podemos escrever programas com muito menos código e facilitar o entendimento de outros programadores.\n",
    "\n",
    "Para criar um loop for, adicionamos a palavra-chave for, uma variável como i ou qualquer outro nome, a palavra in e, finalmente range()\n",
    "\n",
    "- for i in range():\n",
    "\n",
    "Em um loop for, podemos especificar quantas vezes gostaríamos que nosso loop fosse executado com a instrução range() intervalo.\n",
    "\n",
    "Adicionar um número como 6, dentro de range() significa que ele fará uma iteração sobre o bloco de código 6 vezes (0 a 5) pois a contagem começa em 0 que é o primeiro número de índice.\n",
    "\n",
    "O loop for também repete seu bloco de código enquanto a condição for True"
   ]
  },
  {
   "cell_type": "code",
   "execution_count": 13,
   "metadata": {},
   "outputs": [
    {
     "name": "stdout",
     "output_type": "stream",
     "text": [
      "0\n",
      "1\n",
      "2\n",
      "3\n",
      "4\n",
      "5\n"
     ]
    }
   ],
   "source": [
    "for i in range(6):  # O range() é o argumento de parada do loop for. Nesse caso, o loop for irá de 0 a 5\n",
    "    print(i)"
   ]
  },
  {
   "cell_type": "markdown",
   "metadata": {},
   "source": [
    "A variável antes de in, nesse caso, i, é a variável de contador. Conta em que iteração o loop está.\n",
    "\n",
    "A mesma contagem utilizando while seria:"
   ]
  },
  {
   "cell_type": "code",
   "execution_count": 12,
   "metadata": {},
   "outputs": [
    {
     "name": "stdout",
     "output_type": "stream",
     "text": [
      "0\n",
      "1\n",
      "2\n",
      "3\n",
      "4\n",
      "5\n"
     ]
    }
   ],
   "source": [
    "i = 0  # A variável de contador é definida antes do loop\n",
    "while i < 6: # O loop while repete seu bloco de código enquanto a condição for True\n",
    "    print(i)\n",
    "    i += 1 # Adicionamos 1 ao contador para atualizá-lo a cada repetição do loop"
   ]
  }
 ],
 "metadata": {
  "kernelspec": {
   "display_name": "Python 3",
   "language": "python",
   "name": "python3"
  },
  "language_info": {
   "codemirror_mode": {
    "name": "ipython",
    "version": 3
   },
   "file_extension": ".py",
   "mimetype": "text/x-python",
   "name": "python",
   "nbconvert_exporter": "python",
   "pygments_lexer": "ipython3",
   "version": "3.12.1"
  }
 },
 "nbformat": 4,
 "nbformat_minor": 2
}
