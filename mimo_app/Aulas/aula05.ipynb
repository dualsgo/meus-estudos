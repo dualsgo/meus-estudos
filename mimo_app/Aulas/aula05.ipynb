{
 "cells": [
  {
   "cell_type": "markdown",
   "metadata": {},
   "source": [
    "# MIMO - 05 - Listas\n",
    "\n",
    "Conseguir organizar muitos dados relacionados, como variáveis de idade, por exemplo, é uma parte essencial da ciência de dados."
   ]
  },
  {
   "cell_type": "markdown",
   "metadata": {},
   "source": [
    "### 05.1 - Agrupando dados em listas\n",
    "\n",
    "Se tivéssemos que criar uma variável para cada dado novo, nosso código ficaria muito longo e complicado.\n",
    "\n",
    "Em vez disso, podemos coletar dados relacionados numa lista usando [].\n",
    "\n",
    "Os valores ou dados numa lista são chamados de elementos.\n",
    "\n",
    "Para criar uma lista vazia, codificamos o nome da lista e atribuímos [] ou list() a ela.\n"
   ]
  },
  {
   "cell_type": "code",
   "execution_count": null,
   "metadata": {},
   "outputs": [],
   "source": [
    "lista = list()\n",
    "lista = []\n"
   ]
  },
  {
   "cell_type": "markdown",
   "metadata": {},
   "source": [
    "Usamos vírgula para separar dois ou mais valores em uma lista. \n",
    "Podemos adicionar quantos elementos quisermos e de todos os tipos."
   ]
  },
  {
   "cell_type": "code",
   "execution_count": 1,
   "metadata": {},
   "outputs": [
    {
     "name": "stdout",
     "output_type": "stream",
     "text": [
      "['String', 3, 3.14, True]\n"
     ]
    }
   ],
   "source": [
    "lista = [\"String\", 3, 3.14, True]\n",
    "print(lista)\n",
    "\n",
    "# Listas são mutáveis, o que significa que podemos alterar seus elementos."
   ]
  },
  {
   "cell_type": "markdown",
   "metadata": {},
   "source": [
    "### 05.2 - Alterando dados em listas\n",
    "\n",
    "Vamos nos aprofundar no gerenciamento de listas e em como atualizar os dados contidos nelas. Por exemplo, como os dados de temperatura podem mudar ao longo do dia."
   ]
  },
  {
   "cell_type": "code",
   "execution_count": 2,
   "metadata": {},
   "outputs": [
    {
     "name": "stdout",
     "output_type": "stream",
     "text": [
      "[17, 20, 26, 24]\n"
     ]
    }
   ],
   "source": [
    "temperature = [17, 20, 26, 24]\n",
    "print(temperature)"
   ]
  },
  {
   "cell_type": "markdown",
   "metadata": {},
   "source": [
    "As listas podem armazenar qualquer dado, seja string, boolean, ponto flutuante ou inteiro.\n",
    "Cada elemento de uma lista possui uma posição chamada índice.\n",
    "Os índices começam em zero e aumentam com cada valor adicional. Isso significa que o segundo elemento está no índice [1]."
   ]
  },
  {
   "cell_type": "code",
   "execution_count": 4,
   "metadata": {},
   "outputs": [
    {
     "name": "stdout",
     "output_type": "stream",
     "text": [
      "20\n"
     ]
    }
   ],
   "source": [
    "print(temperature[1])\n"
   ]
  },
  {
   "cell_type": "markdown",
   "metadata": {},
   "source": [
    "Para alterar o terceiro valor de temperature na lista, acessamos o valor através do seu índice e usamos = para atribuir a ele um novo valor"
   ]
  },
  {
   "cell_type": "code",
   "execution_count": 8,
   "metadata": {},
   "outputs": [
    {
     "name": "stdout",
     "output_type": "stream",
     "text": [
      "[17, 20, 26, 24]\n",
      "[17, 20, 25, 24]\n"
     ]
    }
   ],
   "source": [
    "temperature = [17, 20, 26, 24]\n",
    "\n",
    "print(temperature) # Lista original\n",
    "temperature[2] = 25\n",
    "print(temperature)  # Lista alterada"
   ]
  },
  {
   "cell_type": "markdown",
   "metadata": {},
   "source": [
    "Se quisermos saber qual é o índice de um elemento, podemos usar o método index().\n",
    "O método index() retorna o índice do primeiro elemento com o valor especificado.\n",
    "\n",
    "A sintaxe é: \n",
    "- list.index(element, start, end)"
   ]
  },
  {
   "cell_type": "code",
   "execution_count": 9,
   "metadata": {},
   "outputs": [
    {
     "name": "stdout",
     "output_type": "stream",
     "text": [
      "2\n"
     ]
    }
   ],
   "source": [
    "print(temperature.index(25))\n"
   ]
  },
  {
   "cell_type": "markdown",
   "metadata": {},
   "source": [
    "### 05.3 - Atualizando  listas\n",
    "\n",
    "Vamos aprender como adicionar e remover valores de uma lista. Como neste app, que utiliza uma lista para gerenciar os dados de pontuação do usuário.\n",
    "\n",
    "Para adicionar o valor 25 a uma lista, codificamos o nome da lista seguido por um ponto e então a instrução append(). Sua sintaxe é: \n",
    "- list.append(element)"
   ]
  },
  {
   "cell_type": "code",
   "execution_count": 10,
   "metadata": {},
   "outputs": [
    {
     "name": "stdout",
     "output_type": "stream",
     "text": [
      "[24, 23]\n",
      "[24, 23, 25]\n"
     ]
    }
   ],
   "source": [
    "scores = [24, 23]\n",
    "print(scores)\n",
    "scores.append(25)\n",
    "print(scores)"
   ]
  },
  {
   "cell_type": "markdown",
   "metadata": {},
   "source": [
    "Adicionar um valor com append() o coloca no final da lista.\n",
    "\n",
    "Adicionamos um valor a um índice específico com insert(). Ao codificar insert(0, 33) adicionaremos o valor ao início da lista. A função insert possui dois parâmetros. Primeiro, o índice onde queremos inserir o valor, seguido do valor.\n",
    "\n",
    "A sintaxe é:\n",
    "- list.insert(index, element)"
   ]
  },
  {
   "cell_type": "code",
   "execution_count": 11,
   "metadata": {},
   "outputs": [
    {
     "name": "stdout",
     "output_type": "stream",
     "text": [
      "[33, 24, 23, 25]\n"
     ]
    }
   ],
   "source": [
    "(scores.insert(0, 33))\n",
    "print(scores)"
   ]
  },
  {
   "cell_type": "markdown",
   "metadata": {},
   "source": [
    "Tanto append() quanto insert() só podem adicionar um elemento por vez."
   ]
  },
  {
   "cell_type": "markdown",
   "metadata": {},
   "source": [
    "Para remover o último elemento de uma lista, codificamos o nome da lista, um ponto e a instrução pop()"
   ]
  },
  {
   "cell_type": "code",
   "execution_count": null,
   "metadata": {},
   "outputs": [],
   "source": [
    "scores.pop()\n",
    "print(scores)"
   ]
  },
  {
   "cell_type": "markdown",
   "metadata": {},
   "source": [
    "Para remover um valor em um índice específico, adicionamos o índice que queremos remover entre parênteses, como pop(1)\n",
    "\n",
    "O valor removido também pode ser armazenado em uma variável."
   ]
  },
  {
   "cell_type": "code",
   "execution_count": 13,
   "metadata": {},
   "outputs": [
    {
     "name": "stdout",
     "output_type": "stream",
     "text": [
      "[33, 23, 25]\n",
      "[33, 25]\n",
      "23\n"
     ]
    }
   ],
   "source": [
    "print(scores) # Lista original\n",
    "\n",
    "removido = scores.pop(1)\n",
    "\n",
    "print(scores) # Lista alterada\n",
    "print(removido) # Elemento removido"
   ]
  },
  {
   "cell_type": "markdown",
   "metadata": {},
   "source": [
    "Para remover um elemento específico, usamos remove().\n",
    "A sintaxe é:\n",
    "- list.remove(element)\n",
    "\n",
    "Se o elemento não existir, o Python retornará um erro. Por isso é importante ter certeza de que o elemento existe antes de removê-lo.\n",
    "\n",
    "Podemos verificar antes se o elemento existe com o operador in.\n",
    "O operador in retorna True se o elemento existir na lista e False se não existir.\n"
   ]
  },
  {
   "cell_type": "code",
   "execution_count": null,
   "metadata": {},
   "outputs": [],
   "source": [
    "if 24 in scores:\n",
    "    scores.remove(24)\n",
    "else:\n",
    "    print(\"O elemento não existe\")"
   ]
  },
  {
   "cell_type": "markdown",
   "metadata": {},
   "source": [
    "Podemos utilizar o método clear() para remover todos os elementos de uma lista.\n",
    "A sintaxe é: \n",
    "- list.clear()\n",
    "\n",
    "clear difere de del, pois não exclui a lista, apenas remove todos os elementos."
   ]
  },
  {
   "cell_type": "markdown",
   "metadata": {},
   "source": [
    "### 05.4 - Loops sobre listas\n",
    "\n",
    "Existe uma maneira fácil de iterar por todos os elementos de lista usando um loop for.\n",
    "\n",
    "Para isso, escrevemos for uma variável de contador, a palavra in e o nome da lista"
   ]
  },
  {
   "cell_type": "code",
   "execution_count": 14,
   "metadata": {},
   "outputs": [
    {
     "name": "stdout",
     "output_type": "stream",
     "text": [
      "17\n",
      "22\n",
      "34\n",
      "13\n"
     ]
    }
   ],
   "source": [
    "final_scores = [17, 22, 34, 13]\n",
    "\n",
    "# Para cada elemento da lista, o loop for executa o bloco de código\n",
    "for score in final_scores:\n",
    "    # A variável score contém o valor do elemento da lista em que o loop está atualmente e o exibe\n",
    "    print(score)"
   ]
  },
  {
   "cell_type": "markdown",
   "metadata": {},
   "source": [
    "O loop será executado para tantos elementos quanto houver na lista.\n",
    "\n",
    "A variável antes de in contém o valor do elemento da lista em que o loop está atualmente.\n",
    "\n",
    "Se quisermos saber quantos elementos existem em uma lista, podemos usar a função len(). A sintaxe é: len(list)"
   ]
  },
  {
   "cell_type": "code",
   "execution_count": 15,
   "metadata": {},
   "outputs": [
    {
     "name": "stdout",
     "output_type": "stream",
     "text": [
      "4\n"
     ]
    }
   ],
   "source": [
    "print(len(final_scores)) # Retorna 4"
   ]
  },
  {
   "cell_type": "markdown",
   "metadata": {},
   "source": [
    "Durante a iteração, se quisermos saber o índice e valor do elemento atual, podemos usar a função enumerate().\n",
    "A sintaxe é: \n",
    "- enumerate(list)\n",
    "\n",
    "Podemos indicar o índice inicial da contagem com o argumento start.\n",
    "A sintaxe é: \n",
    "- enumerate(list, start)\n",
    "- \n",
    "O argumento start é opcional. Se não for especificado, a contagem começa em 0. Ele não altera o índice da lista, apenas o valor do índice durante a iteração."
   ]
  },
  {
   "cell_type": "code",
   "execution_count": 16,
   "metadata": {},
   "outputs": [
    {
     "name": "stdout",
     "output_type": "stream",
     "text": [
      "No índice 10 está o valor 17.\n",
      "No índice 11 está o valor 22.\n",
      "No índice 12 está o valor 34.\n",
      "No índice 13 está o valor 13.\n"
     ]
    }
   ],
   "source": [
    "for indice, elemento in enumerate(final_scores, 10):  # O índice inicial da contagem é 10\n",
    "    print(f'No índice {indice} está o valor {elemento}.')"
   ]
  },
  {
   "cell_type": "markdown",
   "metadata": {},
   "source": [
    "### 05.5 - Decidindo com listas\n",
    "\n",
    "Vamos descobrir como podemos contar os elementos nas listas e usá-los com instruções if.\n",
    "\n",
    "Usamos a instrução len() com o nome da lista entre parênteses para obter o número de elementos em uma lista.\n",
    "\n",
    "Podemos usar print() para exibir o comprimento de uma lista no console\n",
    "\n",
    "Podemos armazenar o comprimento de uma lista em uma variável"
   ]
  },
  {
   "cell_type": "code",
   "execution_count": 17,
   "metadata": {},
   "outputs": [
    {
     "name": "stdout",
     "output_type": "stream",
     "text": [
      "['Sarah', 'Mike', 'Ella']\n",
      "3\n"
     ]
    }
   ],
   "source": [
    "users = ['Sarah', 'Mike', 'Ella']\n",
    "print(users)\n",
    "number_of_users = len(users) # Retorna 3\n",
    "print(number_of_users)"
   ]
  },
  {
   "cell_type": "markdown",
   "metadata": {},
   "source": [
    "Podemos usar o comprimento da lista par criar instruções condicionais com base no número de elementos."
   ]
  },
  {
   "cell_type": "code",
   "execution_count": 18,
   "metadata": {},
   "outputs": [
    {
     "name": "stdout",
     "output_type": "stream",
     "text": [
      "Precisamos de mais membros!\n"
     ]
    }
   ],
   "source": [
    "if number_of_users < 4:\n",
    "    # Se o número de usuários for menor que 4, exibimos uma mensagem de erro\n",
    "    print('Precisamos de mais membros!')\n",
    "else:\n",
    "    # Se o número de usuários for maior ou igual a 4, exibimos uma mensagem de sucesso\n",
    "    print('Temos gente o suficiente!')"
   ]
  },
  {
   "cell_type": "markdown",
   "metadata": {},
   "source": [
    "Podemos usar o operador in para verificar se um elemento existe em uma lista e tomar uma decisão com base nisso.\n",
    "\n",
    "O operador in retorna True se o elemento existir na lista e False se não existir."
   ]
  },
  {
   "cell_type": "code",
   "execution_count": 19,
   "metadata": {},
   "outputs": [
    {
     "name": "stdout",
     "output_type": "stream",
     "text": [
      "Sarah está na lista\n"
     ]
    }
   ],
   "source": [
    "if 'Sarah' in users:\n",
    "    print('Sarah está na lista')\n",
    "else:\n",
    "    print('Sarah não está na lista')"
   ]
  },
  {
   "cell_type": "markdown",
   "metadata": {},
   "source": [
    "Podemos combinar isso com uma iteração:\n",
    "\n",
    "Se quisermos verificar por exemplo os números pares, podemos usar o operador % (módulo)\n",
    "\n",
    "O operador % retorna o resto da divisão entre dois números. Se o resto for 0, o número é par, se for 1, o número é ímpar.\n",
    "\n",
    "Durante a iteração, podemos criar novas listas e adicionar elementos a elas."
   ]
  },
  {
   "cell_type": "code",
   "execution_count": 20,
   "metadata": {},
   "outputs": [
    {
     "name": "stdout",
     "output_type": "stream",
     "text": [
      "O número 1 é ímpar\n",
      "O número 1 é ímpar\n",
      "O número 2 é par\n",
      "O número 3 é ímpar\n",
      "O número 5 é ímpar\n",
      "O número 8 é par\n",
      "O número 13 é ímpar\n",
      "O número 21 é ímpar\n",
      "O número 34 é par\n",
      "O número 55 é ímpar\n",
      "[2, 8, 34]\n"
     ]
    }
   ],
   "source": [
    "sequencia_fibonacci = [1, 1, 2, 3, 5, 8, 13, 21, 34, 55]\n",
    "\n",
    "pares = []\n",
    "impares = []\n",
    "\n",
    "# Esse loop itera sobre todos os elementos da lista e verifica se o número é par ou ímpar\n",
    "for numero in sequencia_fibonacci:\n",
    "    # Se o resto da divisão por 2 for 0, o número é par\n",
    "    if numero % 2 == 0:\n",
    "        print(f'O número {numero} é par')\n",
    "        pares.append(numero)\n",
    "    else:\n",
    "        print(f'O número {numero} é ímpar')\n",
    "        impares.append(numero)\n",
    "        \n",
    "print(pares)"
   ]
  },
  {
   "cell_type": "markdown",
   "metadata": {},
   "source": [
    "Outras listas podem ser adicionadas a uma lista com o método extend().\n",
    " \n",
    "A sintaxe é:\n",
    " - list.extend(list2)\n",
    "\n",
    "Podemos usar o método extend() para adicionar os números pares e ímpares a uma lista de números. extend() adiciona os elementos de uma lista a outra lista. Ele só funciona se os elementos forem do mesmo tipo e se as listas já existirem."
   ]
  },
  {
   "cell_type": "code",
   "execution_count": 21,
   "metadata": {},
   "outputs": [
    {
     "name": "stdout",
     "output_type": "stream",
     "text": [
      "[2, 8, 34, 1, 1, 3, 5, 13, 21, 55]\n"
     ]
    }
   ],
   "source": [
    "numeros = []\n",
    "numeros.extend(pares) \n",
    "numeros.extend(impares)\n",
    "print(numeros)"
   ]
  },
  {
   "cell_type": "markdown",
   "metadata": {},
   "source": [
    "A função sorted() retorna uma nova lista ordenada com base em uma lista existente.\n",
    "\n",
    "A sintaxe é: \n",
    "- sorted(list)"
   ]
  },
  {
   "cell_type": "code",
   "execution_count": 23,
   "metadata": {},
   "outputs": [
    {
     "name": "stdout",
     "output_type": "stream",
     "text": [
      "[1, 2, 3, 4, 5]\n",
      "[3, 1, 2, 5, 4]\n"
     ]
    }
   ],
   "source": [
    "lista_desordenada = [3, 1, 2, 5, 4]\n",
    "print(sorted(lista_desordenada) \n",
    ")\n",
    "print(lista_desordenada)"
   ]
  },
  {
   "cell_type": "markdown",
   "metadata": {},
   "source": [
    "A função sorted() não altera a lista existente. Ela retorna uma nova lista ordenada. Podemos atribuir essa nova lista a uma variável."
   ]
  },
  {
   "cell_type": "code",
   "execution_count": 25,
   "metadata": {},
   "outputs": [
    {
     "name": "stdout",
     "output_type": "stream",
     "text": [
      "[1, 2, 3, 4, 5]\n"
     ]
    }
   ],
   "source": [
    "lista_ordenada = sorted(lista_desordenada)\n",
    "print(lista_ordenada)"
   ]
  },
  {
   "cell_type": "markdown",
   "metadata": {},
   "source": [
    "A função sort() ordena a lista existente.\n",
    "\n",
    "A sintaxe é: \n",
    "- list.sort()\n",
    "\n",
    "A função sort() altera a lista existente. Ela não retorna uma nova lista."
   ]
  },
  {
   "cell_type": "code",
   "execution_count": 26,
   "metadata": {},
   "outputs": [
    {
     "name": "stdout",
     "output_type": "stream",
     "text": [
      "[1, 2, 3, 4, 5]\n"
     ]
    }
   ],
   "source": [
    "lista_desordenada = [3, 1, 2, 5, 4]\n",
    "lista_desordenada.sort()\n",
    "print(lista_desordenada)"
   ]
  },
  {
   "cell_type": "markdown",
   "metadata": {},
   "source": [
    "É importante entender a diferença entre sorted() e sort(). \n",
    "\n",
    "- sorted() retorna uma nova lista ordenada e não altera a lista existente.\n",
    "- sort() altera a lista existente e não retorna uma nova lista. \n",
    "\n",
    "As listas devem conter apenas elementos do mesmo tipo para serem ordenadas."
   ]
  }
 ],
 "metadata": {
  "kernelspec": {
   "display_name": "Python 3",
   "language": "python",
   "name": "python3"
  },
  "language_info": {
   "codemirror_mode": {
    "name": "ipython",
    "version": 3
   },
   "file_extension": ".py",
   "mimetype": "text/x-python",
   "name": "python",
   "nbconvert_exporter": "python",
   "pygments_lexer": "ipython3",
   "version": "3.12.1"
  }
 },
 "nbformat": 4,
 "nbformat_minor": 2
}
