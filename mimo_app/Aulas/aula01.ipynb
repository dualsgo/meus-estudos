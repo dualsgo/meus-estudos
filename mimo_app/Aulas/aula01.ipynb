{
 "cells": [
  {
   "cell_type": "markdown",
   "metadata": {},
   "source": [
    "# MIMO - 01 - Noções básicas de Python"
   ]
  },
  {
   "cell_type": "markdown",
   "metadata": {},
   "source": [
    "### 01.1 - Criando variáveis\n",
    "Python é uma linguagem de programação fantástica para iniciantes e especialistas. É a linguagem de escolha para muitas empresas e uma escolha popular para projetos pessoais. Você pode usá-lo para automatizar tarefas, sair na frente no trabalho com análise de dados, aprendizado de máquina e muito mais!\n",
    "\n",
    "Não importa o quão complexo seja um programa, ele começa com uma única linha de código. Essa primeira linha geralmente é uma variável. Os programas usam variáveis para lembrar informações. Como caixas móveis, as variáveis têm conteúdo e nomes que nos dizem o que está dentro."
   ]
  },
  {
   "cell_type": "markdown",
   "metadata": {},
   "source": [
    "#### Nomes das variáveis\n",
    "\n",
    "Para criar uma variável, começamos digitando seu nome.\n",
    "\n",
    "Os nomes das variáveis devem ser palavras únicas sem espaços ou, se quisermos um nome de variável com várias palavras, podemos separar as palavras com sublinhados (_) ou maiúsculas.\n",
    "\n",
    "Após criar e nomear uma variável, usamos o operador de atribuição (=) para armazenar um valor dentro dela. Armazenar um valor em uma variável é como colocar coisas em uma caixa rotulada."
   ]
  },
  {
   "cell_type": "code",
   "execution_count": null,
   "metadata": {},
   "outputs": [],
   "source": [
    "# A sintaxe é simples: nome_da_variavel = valor_da_variavel\n",
    "caixa = \"Conteúdo\"\n",
    "\n",
    "# Vamos criar uma variável com nome simples e atribuir um valor a ela.\n",
    "exemplo = \"Valor da variável\"\n",
    "\n",
    "# Usamos sublinhado (_) para conectar as palavras adicionais (snake_case).\n",
    "exemplo_snake_case = 'Parece um cobra' # minúsculas e sublinhado (snake_case)\n",
    "\n",
    "# Ou usamos maiúsculas para cada palavra adicional (CamelCase).\n",
    "exemploCamelCase = 'Lembra as corcovas de um camelo' # maiúsculas e minúsculas (CamelCase)\n",
    "\n",
    "# Por convenção, usaremo o snake_case para variáveis e CamelCase para classes (que veremos mais tarde)."
   ]
  },
  {
   "cell_type": "markdown",
   "metadata": {},
   "source": [
    "Para nos ajudar a entender o que está numa variável, escolhemos nomes descritivos em vez de abreviações e etc"
   ]
  },
  {
   "cell_type": "code",
   "execution_count": null,
   "metadata": {},
   "outputs": [],
   "source": [
    "# Por exemplo, para armazenar especificamente o ano atual em uma variável, podemos fazer o seguinte:\n",
    "ano_atual = 2024\n",
    "\n",
    "# Isso é mais esplícito do que usarmos o nome abreviado a ou somente a palavra ano, pois não ficaria claro a qual ano estamos nos referindo."
   ]
  },
  {
   "cell_type": "markdown",
   "metadata": {},
   "source": [
    "#### Valores das variáveis\n",
    "\n",
    "Os valores das variáveis podem ser alterados a qualquer momento. Podemos alterar o valor de uma variável quantas vezes quisermos. O Python sempre usa o valor mais recente que armazenamos na variável.\n",
    "\n",
    "As variáveis podem conter todos os tipos de valores. Vamos dar uma olhada no armazenamento de valores de texto (string).\n",
    "Os valores de cadeia de caracteres são texto entre aspas duplas ou simples chamados strings.\n",
    "A utilização do tipo de aspas depende do que queremos armazenar na variável. Por exemplo, se quisermos armazenar uma string que contenha aspas, usamos aspas simples para envolver a string e aspas duplas para envolver a citação dentro dea e vice versa. Caso isso não seja feito, o Python não saberá onde a string termina e gerará um erro.\n"
   ]
  },
  {
   "cell_type": "code",
   "execution_count": null,
   "metadata": {},
   "outputs": [],
   "source": [
    "citacao = \"O técnico disse: 'Vamos vencer!'\"\n",
    "\n",
    "# Uma forma de contornar esse problema é usar uma barra invertida (\\), que é um caractere de escape antes da aspas que queremos armazenar na string. Porém isso pode ser um pouco confuso.\n",
    "citacao = 'O técnico disse: \\'Vamos vencer!\\''  # Dessa forma, o Python sabe que a aspas simples não é o fim da string.\n",
    "\n",
    "# É importante manter o padrão de uso no programa. Escolhemos um tipo e o usamos em todo o programa.\n",
    "\n",
    "# As strings podem conter todos os tipos de letras e símbolos, incluindo espaços.\n",
    "\n",
    "exemplo_string = 'Pode conter letras, números (1, 2, 3) e caracteres especiais (@, #, $)'"
   ]
  },
  {
   "cell_type": "markdown",
   "metadata": {},
   "source": [
    "#### Console - Exibindo valores\n",
    "\n",
    "Linhas de código são instruções para o computador seguir. Quando executamos código, dizemos ao computador para seguir as instruções que montamos.\n",
    "A ordem das instruções é importante porque o computador segue as instruções, linha por linha.\n",
    "\n",
    "Com a instrução especial print(), dizemos ao computador para exibir um valor em uma área chamada console, também conhecida como shell.\n",
    "Podemos usar a instrução quantas vezes quisermos. O computador exibe cada valor em uma nova linha no console."
   ]
  },
  {
   "cell_type": "code",
   "execution_count": null,
   "metadata": {},
   "outputs": [],
   "source": [
    "# print() - Exibe o valor entre os parênteses no console\n",
    "\n",
    "print('Essa instrução irá aparecer primeiro!') \n",
    "print('E essa em seguida, em ordem.')"
   ]
  },
  {
   "cell_type": "code",
   "execution_count": null,
   "metadata": {},
   "outputs": [],
   "source": [
    "# Podemos usar para exibir variáveis também - print(variavel) - Quando exibimos variáveis no console, seus valores aparecem em vez de seus nomes.\n",
    "\n",
    "nome = 'Maycon' # Definimos que a variável nome guarda o valor Maycon\n",
    "\n",
    "print(nome)  # E estamos dizendo - Mostre o que há dentro da caixa nome"
   ]
  },
  {
   "cell_type": "markdown",
   "metadata": {},
   "source": [
    "### 01.2 - Usando variáveis\n",
    "\n",
    "As variáveis são chamadas de variáveis porque os valores que elas armazenam podem ser alterados. Podemos atualizar redeclarando a variável e dando-lhe um novo valor. Podemos atualizar as variáveis quantas vezes quisermos.\n"
   ]
  },
  {
   "cell_type": "code",
   "execution_count": null,
   "metadata": {},
   "outputs": [],
   "source": [
    "nome = 'José' # Nome agora guarda o valor José\n",
    "\n",
    "print(nome) # O valor da variável nome é atualizado e exibido\n",
    "\n",
    "nome = 'Antônio' # Atualizamos o valor da variável nome que agora guarda o valor Antônio\n",
    "\n",
    "print(nome) # O valor mais recente da variável será exibido e o anterior será esquecido"
   ]
  },
  {
   "cell_type": "markdown",
   "metadata": {},
   "source": [
    "Também podemos dar às variáveis os valores de outras variáveis"
   ]
  },
  {
   "cell_type": "code",
   "execution_count": null,
   "metadata": {},
   "outputs": [],
   "source": [
    "variavel_1 = '1 - Esse é o meu primeiro valor!'\n",
    "print(variavel_1)\n",
    "\n",
    "variavel_2 = '2 - Esse é o meu segundo valor!'\n",
    "print(variavel_2)\n",
    "\n",
    "variavel_3 = variavel_1  # Atribuímos ums variável como valor de outra\n",
    "print(variavel_3) # A variável 3 agora guarda o mesmo valor da variável 1."
   ]
  },
  {
   "cell_type": "markdown",
   "metadata": {},
   "source": [
    "Quando atualizamos uma variável, ela esquece seu valor anterior. Aqui, podemos exibir a variável duas vezes e ver como seu valor é atualizado."
   ]
  },
  {
   "cell_type": "code",
   "execution_count": null,
   "metadata": {},
   "outputs": [],
   "source": [
    "status = \"Estudando\"\n",
    "status = \"Descansando\"\n",
    "print(status)  # O valor da última instrução será exibido"
   ]
  },
  {
   "cell_type": "markdown",
   "metadata": {},
   "source": [
    "#### Expressões\n",
    "\n",
    "Valores combinados com operadores são outra maneira de atualizar variáveis. Podemos usar expressões para atualizar variáveis com base em seus valores anteriores.\n",
    "\n",
    "Podemos adicionar valores de strings com um sinal + (concatenação). Chamamos a adição de valores de cadeia de caracteres de expressão, pois a saída cria um único valor."
   ]
  },
  {
   "cell_type": "code",
   "execution_count": null,
   "metadata": {},
   "outputs": [],
   "source": [
    "expressao = 'Essa parte do texto ' + 'se conecta a essa.'\n",
    "print(expressao) # O resultado será uma string com os dois valores concatenados"
   ]
  },
  {
   "cell_type": "markdown",
   "metadata": {},
   "source": [
    "Quando as expressões contêm variáveis, elas usam os valores nas variáveis"
   ]
  },
  {
   "cell_type": "code",
   "execution_count": null,
   "metadata": {},
   "outputs": [],
   "source": [
    "texto_1 = 'Vamos unir essa parte '\n",
    "print(texto_1)\n",
    "\n",
    "texto_2 = 'com essa parte.'\n",
    "print(texto_2)\n",
    "\n",
    "# Ao concatenar duas variáveis, o Python as une em uma única string.\n",
    "print(texto_1 + texto_2)"
   ]
  },
  {
   "cell_type": "markdown",
   "metadata": {},
   "source": [
    "Como as expressões se tornam valores, podemos armazená-las em variáveis da mesma forma que os valores."
   ]
  },
  {
   "cell_type": "code",
   "execution_count": null,
   "metadata": {},
   "outputs": [],
   "source": [
    "textao = texto_1 + texto_2\n",
    "# textao agora guarda o valor de texto_1 + texto_2 como uma única string\n",
    "print(textao)"
   ]
  },
  {
   "cell_type": "markdown",
   "metadata": {},
   "source": [
    "#### Números\n",
    "\n",
    "Já vimos antes que as variáveis também podem armazenar números. Ao contrário das cadeias de caracteres, os valores numéricos não usam aspas."
   ]
  },
  {
   "cell_type": "code",
   "execution_count": null,
   "metadata": {},
   "outputs": [],
   "source": [
    "numero = '1'  # valor string\n",
    "print(numero)\n",
    "\n",
    "numero = 1  # valor numérico\n",
    "print(numero)"
   ]
  },
  {
   "cell_type": "markdown",
   "metadata": {},
   "source": [
    "Os números facilitam o controle de dados numéricos. Podemos criar expressões com números também. Veja os dois exemplos a seguir:"
   ]
  },
  {
   "cell_type": "code",
   "execution_count": null,
   "metadata": {},
   "outputs": [],
   "source": [
    "# Estamos usando strings\n",
    "calculo = '10' + '1'\n",
    "\n",
    "# O resultado será uma string, pois estamos utilizando dois valores desse tipo\n",
    "print(calculo)"
   ]
  },
  {
   "cell_type": "code",
   "execution_count": null,
   "metadata": {},
   "outputs": [],
   "source": [
    "# Agora estamos utilizando dois valores numéricos (Repare que não há aspas)\n",
    "calculo = 10 + 1\n",
    "\n",
    "# Nesse outro caso, o resultado será um número inteiro\n",
    "print(calculo)  "
   ]
  },
  {
   "cell_type": "markdown",
   "metadata": {},
   "source": [
    "Note que quando utilizamos dois valores string, mesmo que representem números, o operador + une os valores. Ao contrário de valroes numéricos, o operador + funciona como operador de adição e soma os valores.\n",
    "\n",
    "Mas e se utilizarmos um valor de cada tipo?"
   ]
  },
  {
   "cell_type": "code",
   "execution_count": null,
   "metadata": {},
   "outputs": [],
   "source": [
    "calulo = 10 + '1'  # O resultado será um erro, pois não podemos somar um número com uma string"
   ]
  },
  {
   "cell_type": "markdown",
   "metadata": {},
   "source": [
    "Alugns outros operadores aritméticos são:\n",
    "\n",
    "- O sinal * para multiplicar números\n",
    "- O sinal / para dividir números. \n",
    "\n",
    "Veremos a lista completa mais tarde.\n",
    "\n",
    "Também podemos usar variáveis com números para cálculos. Como as expressões se tornam valores, podemos armazenar resultados de cálculo em variáveis."
   ]
  },
  {
   "cell_type": "code",
   "execution_count": null,
   "metadata": {},
   "outputs": [],
   "source": [
    "expressao = calculo + numero  # calculo vale 11 e numero vale 1\n",
    "print(expressao)  # A expressao terá como valor a soma desses números"
   ]
  },
  {
   "cell_type": "markdown",
   "metadata": {},
   "source": [
    "### 01.3 - Verdadeiro ou falso\n",
    "\n",
    "Há um valor especial que não é numa cadeia de caracteres nem um número: (True).\n",
    "\n",
    "Não há aspas em torno dele, e não é um valor numérico.\n",
    "True é ótimo para situações como verificar se um recurso está ativado ou se os dados estão disponíveis.\n",
    "\n",
    "Podemos armazenar em uma variável como uma cadeia de caracteres ou um número. Exibi-lo também funciona da mesma forma."
   ]
  },
  {
   "cell_type": "code",
   "execution_count": null,
   "metadata": {},
   "outputs": [],
   "source": [
    "ligado = True  # Indica que algo está ligado\n",
    "print(f'Está ligado? {ligado}')"
   ]
  },
  {
   "cell_type": "markdown",
   "metadata": {},
   "source": [
    "False é outro valor especial e o oposto de True.\n",
    "\n",
    "Podemos salvar False em uma variável da mesma forma."
   ]
  },
  {
   "cell_type": "code",
   "execution_count": null,
   "metadata": {},
   "outputs": [],
   "source": [
    "ligado = False\n",
    "print(f'Está ligado? {ligado}')"
   ]
  },
  {
   "cell_type": "markdown",
   "metadata": {},
   "source": [
    "Importante: \"True\" e \"False\" ou true e false não são o mesmo que True e False!"
   ]
  },
  {
   "cell_type": "markdown",
   "metadata": {},
   "source": [
    "#### Negando valores - Operador de negação not\n",
    "O not é o operador de negação que transforma os valores em seu oposto. Quando mudamos um valor para o seu oposto com not, nós o negamos.\n",
    "\n",
    "- O código not na frente de True faz com que a expressão resulte em False. Se algo não é verdade, tem que ser falso. \n",
    "\n",
    "- O operador not antes de False altera seu valor para True. Se um valor não é False, tem que ser True.\n",
    "\n",
    "Podemos usar o operador com variáveis para negar seus valores."
   ]
  },
  {
   "cell_type": "code",
   "execution_count": null,
   "metadata": {},
   "outputs": [],
   "source": [
    "verdade = True\n",
    "print(verdade)\n",
    "\n",
    "# Uma não mentira é igual à verdade\n",
    "nao_mentira = not False \n",
    "print(nao_mentira)\n",
    "\n",
    "mentira = False\n",
    "print(mentira)\n",
    "# Uma não verdade é igual à mentira\n",
    "nao_verdade = not True\n",
    "print(nao_verdade)"
   ]
  },
  {
   "cell_type": "code",
   "execution_count": null,
   "metadata": {},
   "outputs": [],
   "source": [
    "ligado = True\n",
    "\n",
    "# Desligado é o mesmo que não ligado\n",
    "desligado = not ligado\n",
    "\n",
    "print(desligado) # Está desligado?"
   ]
  },
  {
   "cell_type": "markdown",
   "metadata": {},
   "source": [
    "### 01.4 - Verificando a igualdade numérica\n",
    "\n",
    "Veremos agora alguns operadores que nos permitem comparar valores e variáveis.\n",
    "\n",
    "#### Operador de igualdade (==)\n",
    "\n",
    "Diferente da matemática, o operador de igualdade em Python é == já que o sinal de igual (=) é usado para atribuir valores a variáveis.\n",
    "\n",
    "Aprendemos a criar e armazenar valores, mas como compará-los? Como verificar se o PIN inserido de um usuário corresponde ao PIN salvo."
   ]
  },
  {
   "cell_type": "code",
   "execution_count": 21,
   "metadata": {},
   "outputs": [
    {
     "name": "stdout",
     "output_type": "stream",
     "text": [
      "False\n"
     ]
    }
   ],
   "source": [
    "pin_inserido = 5441\n",
    "pin_salvo = 5440\n",
    "\n",
    "# Para comparar se dois números são iguais, usamos o operador de igualdade (==).\n",
    "\n",
    "verificacao = pin_inserido == pin_salvo\n",
    "# Ao comparar, há apenas dois resultados: True ou False\n",
    "\n",
    "print(verificacao)\n",
    "# Exibe False pois os valores são diferentes"
   ]
  },
  {
   "cell_type": "markdown",
   "metadata": {},
   "source": [
    "- Quando comparamos os mesmos números com o operador de igualdade, o resultado é True\n",
    "\n",
    "- Quando comparamos os diferentes números com o operador de igualdade, o resultado é False."
   ]
  },
  {
   "cell_type": "markdown",
   "metadata": {},
   "source": [
    "#### Operador de desigualdade (!=)\n",
    "\n",
    "Para verificar se um número não é igual a outro, usamos o operador de desigualdade (!=).\n",
    "\n",
    "Podemos armazenar o resultado de uma comparação com o operador de igualdade ou desigualdade em uma variável.\n",
    "\n",
    "Podemos comparar valores com variáveis e variáveis com outras variáveis com os operadores."
   ]
  },
  {
   "cell_type": "code",
   "execution_count": 23,
   "metadata": {},
   "outputs": [
    {
     "name": "stdout",
     "output_type": "stream",
     "text": [
      "True\n",
      "True\n"
     ]
    }
   ],
   "source": [
    "primeiro = 1\n",
    "segundo = 2\n",
    "\n",
    "# primeiro não é igual a segundo?\n",
    "print(primeiro != segundo)  # Exibe True\n",
    "print(1 != 2)  # Exibe True"
   ]
  }
 ],
 "metadata": {
  "kernelspec": {
   "display_name": "Python 3",
   "language": "python",
   "name": "python3"
  },
  "language_info": {
   "codemirror_mode": {
    "name": "ipython",
    "version": 3
   },
   "file_extension": ".py",
   "mimetype": "text/x-python",
   "name": "python",
   "nbconvert_exporter": "python",
   "pygments_lexer": "ipython3",
   "version": "3.12.1"
  }
 },
 "nbformat": 4,
 "nbformat_minor": 2
}
