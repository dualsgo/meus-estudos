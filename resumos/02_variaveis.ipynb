{
 "cells": [
  {
   "cell_type": "markdown",
   "metadata": {},
   "source": [
    "# Introdução a Linguagem Python\n",
    "\n",
    "## Variáveis\n",
    "\n",
    "Não importa o quão complexo seja um programa, ele começa com uma única linha de código. Essa primeira linha geralmente é uma variável. Os programas usam variáveis para lembrar informações.\n",
    "\n",
    "Como caixas móveis, as variáveis têm conteúdo e nomes que nos dizem o que está dentro. O próprio nome sugere que o conteúdo dessas caixa pode ser variado (quase) de qualquer forma.\n",
    "\n",
    "O que todas as variáveis Python têm?\n",
    "\n",
    "- um nome\n",
    "- um valor (o conteúdo da caixa)\n",
    "### Nomes de variáveis\n",
    "\n",
    "Vamos começar com os problemas relacionados ao nome de uma variável.\n",
    "As variáveis não aparecem em um programa automaticamente. Como desenvolvedor, você deve decidir quantas variáveis e quais usar em seus programas.\n",
    "\n",
    "Se quiser dar um nome a uma variável, você deve seguir algumas regras estritas:\n",
    "\n",
    "- O nome da variável deve ser composto de letras maiúsculas ou minúsculas, dígitos e o caractere _ (sublinhado)\n",
    "- O nome da variável deve começar com uma letra\n",
    "- O caractere de sublinhado é uma letra\n",
    "- as letras maiúsculas e minúsculas são tratadas como diferentes (um pouco diferente do que no mundo real - Alice e ALICE são os mesmos nomes, mas em Python são dois nomes de variáveis diferentes e, consequentemente, duas variáveis diferentes)\n",
    "- O nome da variável não deve ser nenhuma das palavras reservadas do Python (as palavras-chave).\n",
    "- O Python não impõe restrições ao comprimento dos nomes de variáveis, mas isso não significa que um nome de variável longo seja melhor do que um nome curto.\n",
    "- O Python permite que você use não apenas letras latinas, mas também caracteres específicos de idiomas que usam outros alfabetos.\n"
   ]
  },
  {
   "cell_type": "code",
   "execution_count": null,
   "metadata": {},
   "outputs": [],
   "source": [
    "# Variáveis válidas:\n",
    "\n",
    "# nome\n",
    "# idade\n",
    "# nota_final\n",
    "# temperatura_do_corpo\n",
    "# velocidade_angular\n",
    "# é_maior_de_idade\n",
    "\n",
    "# Variáveis inválidas:\n",
    "\n",
    "# 123abc (começa com um número)\n",
    "# @usuario (contém um caractere especial não permitido)\n",
    "# idade-aluno (contém um caractere de hífen não permitido)\n",
    "# True (palavra reservada)\n",
    "# class (palavra reservada)\n",
    "# Nome& (contém um caractere especial não permitido)\n",
    "# Ω_resistencia (contém caracteres específicos de outros alfabetos, mas é permitido)"
   ]
  },
  {
   "cell_type": "markdown",
   "metadata": {},
   "source": [
    "O PEP 8 - Guia de Estilo para Código Python recomenda a seguinte convenção de nomeclatura para variáveis e funções em Python:\n",
    "\n",
    "- Os nomes de variáveis devem estar em letras minúsculas, com palavras separadas por sublinhados para melhorar a legibilidade (por exemplo, var, my_variable)\n",
    "- Nomes de funções seguem a mesma convenção que nomes de variáveis (por exemplo, fun, my_function)\n",
    "- Também é possível usar casos mistos (por exemplo, myVariable), mas apenas em contextos onde esse já é o estilo predominante, para manter a compatibilidade com a convenção adotada"
   ]
  },
  {
   "cell_type": "markdown",
   "metadata": {},
   "source": [
    "### Como criar variáveis\n",
    "\n",
    "O valor de uma variável é o que você coloca nela. Pode variar com a frequência desejada. Pode ser um inteiro um momento e um momento depois, se tornar uma string.\n",
    "\n",
    "Uma variável passa a existir como resultado da atribuição de um valor a ela. Ao contrário de outros idiomas, você não precisa declará-lo de nenhuma maneira especial. Se você atribuir qualquer valor a uma variável inexistente, a variável será criada automaticamente. Você não precisa fazer mais nada.\n",
    "\n",
    "A criação (ou seja, sua sintaxe) é extremamente simples. Consiste em: \n",
    "\n",
    "- Nomear a variável, seguindo as regras definidas anteriormente.\n",
    "- Utilizar o sinal de atribuição (=) (Falaremos mais sobre operadores adiante)\n",
    "- Seguido do valor que deseja colocar na variável.\n",
    "\n",
    "Para nos ajudar a entender o que está numa variável, escolhemos nomes descritivos em vez de abreviações e etc"
   ]
  },
  {
   "cell_type": "code",
   "execution_count": 3,
   "metadata": {},
   "outputs": [],
   "source": [
    "# Armazenar um valor em uma variável é como colocar coisas em uma caixa rotulada.\n",
    "caixa = \"Conteúdo\"\n",
    "\n",
    "# Tipagem dinâmica - Tipos de dados serão abordados em detalhes mais adiante\n",
    "variavel = 10           # Python infere que a variável é do tipo inteiro\n",
    "variavel = \"texto\"      # Agora, Python infere que a variável é do tipo string"
   ]
  },
  {
   "cell_type": "markdown",
   "metadata": {},
   "source": [
    "Você tem permissão para usar quantas declarações de variáveis forem necessárias para atingir seu objetivo.\n",
    "No entanto, você não pode usar uma variável que não existe (em outras palavras, uma variável que não recebeu um valor).\n",
    "\n",
    "As variáveis são chamadas de variáveis porque os valores que elas armazenam podem ser alterados. Podemos atualizar redeclarando a variável e dando-lhe um novo valor.\n",
    "\n",
    "Podemos atualizar as variáveis quantas vezes quisermos."
   ]
  },
  {
   "cell_type": "code",
   "execution_count": 5,
   "metadata": {},
   "outputs": [],
   "source": [
    "caixa = 'Novo conteúdo' # O conteúdo da caixa foi alterado\n",
    "caixa = 10              # O conteúdo da caixa foi alterado novamente\n",
    "caixa = 10.5            # Sempre que um novo valor é atribuído, a variável esquece o valor anterior\n",
    "caixa = True            # O conteúdo da caixa foi alterado mais uma vez"
   ]
  },
  {
   "cell_type": "markdown",
   "metadata": {},
   "source": [
    "Podemos atribuir qualquer tipo de valor a uma variável (Falaremos sobre tipos de dados mais a frente mas veja alguns a seguir).\n"
   ]
  },
  {
   "cell_type": "code",
   "execution_count": 6,
   "metadata": {},
   "outputs": [],
   "source": [
    "# Tipos de dados em Python\n",
    "inteiro = 42            # Exemplo de inteiro\n",
    "ponto_flutuante = 3.14  # Exemplo de float\n",
    "texto = \"Olá, Python!\"  # Exemplo de string\n",
    "booleano = True         # Exemplo de booleano\n",
    "lista = [1, 2, 3]       # Exemplo de variável composta (lista)"
   ]
  },
  {
   "cell_type": "markdown",
   "metadata": {},
   "source": [
    "Isso significa que também podemos atribuir uma variável a outra variável. Nesse caso utilizamos o nome da variável no processo de atribuição, que representará o seu valor.\n",
    "\n",
    "Quando atualizamos uma variável, ela esquece o seu valor anterior."
   ]
  },
  {
   "cell_type": "code",
   "execution_count": 11,
   "metadata": {
    "ExecuteTime": {
     "end_time": "2024-02-05T01:18:53.778705400Z",
     "start_time": "2024-02-05T01:18:53.759863800Z"
    }
   },
   "outputs": [
    {
     "name": "stdout",
     "output_type": "stream",
     "text": [
      "a = 1\n",
      "b = 5\n",
      "Valores trocados:\n",
      "a = 5\n",
      "b = 5\n"
     ]
    }
   ],
   "source": [
    "a = 1 # a recebe o valor 1\n",
    "print('a =', a)\n",
    "\n",
    "b = 2 # b recebe o valor 2\n",
    "print('b =', b)\n",
    "\n",
    "a = b # a recebe o valor de b que é 2\n",
    "print('Valores trocados:')\n",
    "\n",
    "print('a =', a)\n",
    "print('b =', b)\n"
   ]
  },
  {
   "cell_type": "markdown",
   "metadata": {},
   "source": [
    "Imagine que queremos trocar o valor entre duas variáveis, ou seja, fazer a valer 2 e b valer 1.\n",
    "\n",
    "Como vimos anteriormente, ao atualizar o valor de uma variável ela esquece seu valor anterior.\n",
    "Uma forma de resolver o problema seria criar uma variável temporária que armazenaria um dos valores."
   ]
  },
  {
   "cell_type": "code",
   "execution_count": 12,
   "metadata": {},
   "outputs": [
    {
     "name": "stdout",
     "output_type": "stream",
     "text": [
      "a = 1\n",
      "b = 2\n",
      "t = 1\n",
      "Valores trocados:\n",
      "a = 2\n",
      "b = 1\n"
     ]
    }
   ],
   "source": [
    "a = 1 # a recebe o valor 1\n",
    "print('a =', a)\n",
    "\n",
    "b = 2 # b recebe o valor 2\n",
    "print('b =', b)\n",
    "\n",
    "t = a # t recebe o valor de a que é 1\n",
    "print('t =', t)\n",
    "\n",
    "print('Valores trocados:')\n",
    "\n",
    "a = b # a recebe o valor de b que é 2\n",
    "print('a =', a)\n",
    "\n",
    "b = t # b recebe o valor de t que é 1\n",
    "print('b =', b)"
   ]
  },
  {
   "cell_type": "markdown",
   "metadata": {},
   "source": [
    "Obviamente este exemplo é muito simples e poderíamos simplesmente atualizar as variáveis, repetindo a atribuição."
   ]
  },
  {
   "cell_type": "code",
   "execution_count": 13,
   "metadata": {},
   "outputs": [
    {
     "name": "stdout",
     "output_type": "stream",
     "text": [
      "a = 1\n",
      "b = 2\n",
      "Valores trocados:\n",
      "a = 2\n",
      "b = 1\n"
     ]
    }
   ],
   "source": [
    "a = 1 # a recebe o valor 1\n",
    "print('a =', a)\n",
    "\n",
    "b = 2 # b recebe o valor 2\n",
    "print('b =', b)\n",
    "\n",
    "print('Valores trocados:')\n",
    "a = 2 # a recebe o valor 2\n",
    "print('a =', a)\n",
    "\n",
    "b = 1 # b recebe o valor 1\n",
    "print('b =', b)"
   ]
  },
  {
   "cell_type": "markdown",
   "metadata": {},
   "source": [
    "Mas com a tecnica de desempacotamento poderíamos fazer algo semelhante de forma mais concisa e elegante. Essa técnica aproveita a capacidade do Python de realizar atribuições simultâneas. Neste caso, os valores à direita do sinal de igualdade são empacotados em uma tupla (b, a) e, em seguida, desempacotados nas variáveis à esquerda (a, b). Isso resulta na troca dos valores entre as variáveis a e b sem a necessidade de uma variável temporária. \n",
    "\n",
    "Obs.: Tuplas serão abordadas em detalhes mais adiante."
   ]
  },
  {
   "cell_type": "code",
   "execution_count": 2,
   "metadata": {
    "ExecuteTime": {
     "end_time": "2024-02-05T01:19:01.724604400Z",
     "start_time": "2024-02-05T01:19:01.665660200Z"
    }
   },
   "outputs": [
    {
     "name": "stdout",
     "output_type": "stream",
     "text": [
      "1 2\n",
      "2 1\n"
     ]
    }
   ],
   "source": [
    "a = 1\n",
    "b = 2\n",
    "print(a, b)\n",
    "\n",
    "a, b = b, a # a recebe o valor de b que é 2 e b recebe o valor de a que é 1\n",
    "print(a, b)\n",
    "\n",
    "# a, b\n",
    "# 1, 2\n",
    "\n",
    "# b, a\n",
    "# 1, 2"
   ]
  },
  {
   "cell_type": "markdown",
   "metadata": {},
   "source": [
    "Outra técnica útil quando você deseja inicializar várias variáveis com o mesmo valor, economizando linhas de código e tornando o código mais conciso é chamada de \"atribuição em cadeia\" em Python."
   ]
  },
  {
   "cell_type": "code",
   "execution_count": null,
   "metadata": {},
   "outputs": [],
   "source": [
    "a = b = c = d = 0 # a, b, c e d recebem o valor 0\n",
    "# se a recebe b, e b recebe c, e c recebe d, e d recebe 0, então a, b, c e d são iguais a 0"
   ]
  },
  {
   "cell_type": "markdown",
   "metadata": {},
   "source": [
    "Neste caso específico, você está atribuindo o valor 0 para todas as variáveis a, b, c e d em uma única linha.\n",
    "\n",
    "Essa forma de atribuição é possível porque o valor à direita do sinal de igualdade é avaliado apenas uma vez e atribuído a todas as variáveis da esquerda para a direita. Portanto, todas essas variáveis acabam com o mesmo valor, que é 0."
   ]
  }
 ],
 "metadata": {
  "kernelspec": {
   "display_name": "Python 3",
   "language": "python",
   "name": "python3"
  },
  "language_info": {
   "codemirror_mode": {
    "name": "ipython",
    "version": 3
   },
   "file_extension": ".py",
   "mimetype": "text/x-python",
   "name": "python",
   "nbconvert_exporter": "python",
   "pygments_lexer": "ipython3",
   "version": "3.12.1"
  }
 },
 "nbformat": 4,
 "nbformat_minor": 2
}
