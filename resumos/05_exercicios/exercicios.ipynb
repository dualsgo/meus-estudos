{
 "cells": [
  {
   "cell_type": "markdown",
   "metadata": {},
   "source": [
    "**Exercício 1: Nível Básico**\n",
    "\n",
    "Peça ao usuário que digite uma frase e utilize o método `len()` para exibir o comprimento da frase.\n",
    "\n",
    "**Exercício 2: Nível Básico**\n",
    "\n",
    "Solicite ao usuário que informe um caractere, e utilize o método `count()` para exibir quantas vezes esse caractere aparece em uma frase pré-definida.\n",
    "\n",
    "**Exercício 3: Nível Básico**\n",
    "\n",
    "Crie uma função que receba uma string como argumento e retorne a mesma string com todos os caracteres em maiúsculas.\n",
    "\n",
    "**Exercício 4: Nível Intermediário**\n",
    "\n",
    "Peça ao usuário que digite uma frase e utilize o método `split()` para dividir a frase em palavras. Exiba o número total de palavras e a lista de palavras separadas.\n",
    "\n",
    "**Exercício 5: Nível Intermediário**\n",
    "\n",
    "Crie uma função que receba uma frase e um caractere como argumentos e substitua todas as ocorrências desse caractere por '*'. Exiba a frase resultante.\n",
    "\n",
    "**Exercício 6: Nível Intermediário**\n",
    "\n",
    "Solicite ao usuário que digite uma palavra e utilize o método `isalpha()` para verificar se a entrada contém apenas letras do alfabeto.\n",
    "\n",
    "**Exercício 7: Nível Avançado**\n",
    "\n",
    "Crie uma função que receba uma lista de palavras e as una em uma única string separada por vírgulas, utilizando o método `join()`. Exiba a string resultante.\n",
    "\n",
    "**Exercício 8: Nível Avançado**\n",
    "\n",
    "Peça ao usuário que digite uma frase e utilize o método `find()` para verificar se a palavra \"Python\" está presente na frase. Exiba a posição da palavra ou uma mensagem indicando que não foi encontrada.\n",
    "\n",
    "**Exercício 9: Nível Avançado**\n",
    "\n",
    "Crie uma função que receba uma frase e remova todos os espaços em branco utilizando o método `replace()`. Exiba a frase resultante.\n",
    "\n",
    "**Exercício 10: Nível Avançado**\n",
    "\n",
    "Solicite ao usuário que digite uma sequência de palavras separadas por vírgulas. Utilize o método `split()` para criar uma lista com essas palavras. Em seguida, crie uma função que receba essa lista e retorne a quantidade de palavras que começam com a letra 'A'. Exiba o resultado."
   ]
  }
 ],
 "metadata": {
  "language_info": {
   "name": "python"
  }
 },
 "nbformat": 4,
 "nbformat_minor": 2
}
