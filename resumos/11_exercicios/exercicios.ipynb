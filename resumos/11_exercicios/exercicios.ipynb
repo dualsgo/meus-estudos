{
 "cells": [
  {
   "cell_type": "markdown",
   "metadata": {},
   "source": [
    "## Exercícios sobre Manipulação de Dados em Python\n",
    "\n",
    "### Nível Fácil\n",
    "\n",
    "1. Crie uma variável chamada `carteira` e atribua a ela um valor inteiro representando a quantidade de dinheiro na carteira. Em seguida, utilize operadores de autoatribuição para adicionar 5 unidades à carteira e imprima o resultado.\n",
    "\n",
    "2. Escreva um programa que solicita ao usuário que digite um número. Utilize um loop while para imprimir todos os números de 1 até o número fornecido.\n",
    "\n",
    "### Nível Médio\n",
    "\n",
    "3. Implemente uma função chamada `calcular_media` que recebe uma lista de números como argumento e retorna a média dos valores.\n",
    "\n",
    "4. Crie um programa que simula uma calculadora simples. Solicite ao usuário que digite dois números e uma operação (soma, subtração, multiplicação ou divisão). Execute a operação e imprima o resultado.\n",
    "\n",
    "### Nível Avançado\n",
    "\n",
    "5. Desenvolva um programa que pede ao usuário para adivinhar um número entre 1 e 10. Utilize um loop while e forneça dicas sobre se o número é maior ou menor do que a tentativa atual.\n",
    "\n",
    "6. Escreva uma função chamada `inverter_string` que recebe uma string como argumento e retorna a string invertida.\n",
    "\n",
    "### Desafio\n",
    "\n",
    "7. Crie um programa que gera automaticamente uma sequência de Fibonacci até o décimo termo. (Dica: utilize um loop).\n",
    "\n",
    "8. Implemente um jogo de trivia com pelo menos cinco perguntas. O usuário deve responder às perguntas, e o programa deve fornecer uma pontuação no final.\n",
    "\n",
    "9. Desenvolva um programa que lê um arquivo de texto e conta o número de palavras únicas no arquivo.\n",
    "\n",
    "10. Crie uma função chamada `calcular_potencia` que recebe dois números inteiros como argumento e retorna o resultado da base elevada ao expoente. Utilize o operador de autoatribuição para calcular a potência.\n",
    "\n",
    "Lembre-se de utilizar boas práticas de codificação, como comentários explicativos e nomes de variáveis significativos."
   ]
  }
 ],
 "metadata": {
  "language_info": {
   "name": "python"
  }
 },
 "nbformat": 4,
 "nbformat_minor": 2
}
