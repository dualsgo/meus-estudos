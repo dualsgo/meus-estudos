{
 "cells": [
  {
   "cell_type": "markdown",
   "metadata": {},
   "source": [
    "# Exercícios de Programação Orientada a Objetos em Python\n",
    "\n",
    "### Nível Iniciante\n",
    "\n",
    "1. **Crie uma Classe de Veículo:**\n",
    "   - Crie uma classe chamada `Veiculo`.\n",
    "   - Adicione atributos como `cor`, `modelo`, `ano`, etc.\n",
    "   - Implemente um método `mostrar_informacoes` que exibe os detalhes do veículo.\n",
    "\n",
    "2. **Herança em Veículos:**\n",
    "   - Crie subclasses específicas de veículos, como `Carro` e `Moto`, que herdam da classe `Veiculo`.\n",
    "   - Adicione métodos específicos para cada tipo de veículo.\n",
    "\n",
    "3. **Adicionando Funcionalidades:**\n",
    "   - Adicione métodos à classe `Veiculo` que representam funcionalidades, como ligar, desligar, acelerar, etc.\n",
    "\n",
    "4. **Encapsulamento e Propriedades:**\n",
    "   - Torne alguns atributos privados e use propriedades para acessá-los.\n",
    "   - Implemente métodos para validar e modificar esses atributos.\n",
    "\n",
    "5. **Abstração em Jogos:**\n",
    "   - Crie uma classe `Jogo` que representa um jogo genérico.\n",
    "   - Adicione métodos como `iniciar`, `pausar` e `terminar`.\n",
    "\n",
    "### Nível Intermediário\n",
    "\n",
    "6. **Herança em Jogos:**\n",
    "   - Crie subclasses específicas de jogos, como `JogoAventura` e `JogoEsporte`, que herdam da classe `Jogo`.\n",
    "   - Adicione métodos específicos para cada tipo de jogo.\n",
    "\n",
    "7. **Interface Gráfica Simples:**\n",
    "   - Implemente uma classe `Botao` que representa um botão em uma interface gráfica.\n",
    "   - Adicione métodos para clicar, destacar, etc.\n",
    "\n",
    "8. **Polimorfismo em Animais:**\n",
    "   - Crie uma classe `Animal` com um método `emitir_som`.\n",
    "   - Crie subclasses como `Cao`, `Gato`, `Passaro`, cada uma sobrescrevendo o método `emitir_som`.\n",
    "\n",
    "9. **Sistema Bancário Simples:**\n",
    "   - Crie uma classe `ContaBancaria` com métodos para depósito, saque e consulta de saldo.\n",
    "   - Adicione subclasses como `ContaCorrente` e `ContaPoupanca` com funcionalidades específicas.\n",
    "\n",
    "### Nível Avançado\n",
    "\n",
    "10. **Abstração em Processamento de Texto:**\n",
    "    - Crie uma classe `Documento` que representa um documento de texto.\n",
    "    - Adicione métodos para contar palavras, encontrar e substituir texto, etc.\n",
    "\n",
    "Lembre-se de que esses exercícios são sugestões e podem ser adaptados de acordo com o seu nível de familiaridade com os conceitos. Sinta-se à vontade para ajustar ou expandir os exercícios conforme necessário."
   ]
  }
 ],
 "metadata": {
  "language_info": {
   "name": "python"
  }
 },
 "nbformat": 4,
 "nbformat_minor": 2
}
