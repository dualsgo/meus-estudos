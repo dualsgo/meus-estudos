{
 "cells": [
  {
   "cell_type": "markdown",
   "metadata": {},
   "source": [
    "## Exercícios sobre Loops e Controle de Fluxo em Python\n",
    "\n",
    "### Nível Fácil\n",
    "\n",
    "1. Crie um programa que solicita ao usuário que insira um número inteiro. Em seguida, utilize um loop for para imprimir todos os números de 1 até o número fornecido.\n",
    "\n",
    "2. Escreva uma função chamada `verificar_par` que recebe um número como argumento. A função deve retornar uma mensagem indicando se o número é par ou ímpar.\n",
    "\n",
    "### Nível Médio\n",
    "\n",
    "3. Implemente um programa que imprime os primeiros 10 números da sequência de Fibonacci. (Dica: cada número na sequência é a soma dos dois anteriores).\n",
    "\n",
    "4. Crie uma função chamada `contar_vogais` que recebe uma string como argumento e retorna a quantidade total de vogais na string.\n",
    "\n",
    "### Nível Avançado\n",
    "\n",
    "5. Desenvolva um programa que simule o jogo \"Pedra, Papel e Tesoura\" contra o computador. Solicite ao usuário que escolha uma opção e, em seguida, utilize estruturas condicionais para determinar o vencedor.\n",
    "\n",
    "6. Escreva uma função chamada `achar_primos` que recebe um número inteiro como argumento e retorna uma lista com todos os números primos até o número fornecido.\n",
    "\n",
    "### Desafio\n",
    "\n",
    "7. Crie um programa que gera automaticamente uma senha aleatória para o usuário. A senha deve conter letras maiúsculas, letras minúsculas, números e caracteres especiais. (Dica: utilize a biblioteca `random` e `string` do Python).\n",
    "\n",
    "8. Implemente um jogo da forca simples. O programa deve escolher aleatoriamente uma palavra e permitir que o usuário adivinhe as letras. Mostre o progresso da palavra e o número de tentativas restantes.\n",
    "\n",
    "9. Desenvolva um programa que solicita ao usuário que insira uma frase. Em seguida, conte e imprima a frequência de cada palavra na frase.\n",
    "\n",
    "10. Crie uma função chamada `calcular_fatorial` que recebe um número inteiro como argumento e retorna o fatorial desse número.\n",
    "\n",
    "Lembre-se de utilizar boas práticas de programação, como comentar seu código e escolher nomes de variáveis significativos."
   ]
  }
 ],
 "metadata": {
  "language_info": {
   "name": "python"
  }
 },
 "nbformat": 4,
 "nbformat_minor": 2
}
