{
 "cells": [
  {
   "cell_type": "markdown",
   "metadata": {},
   "source": [
    "# Exercícios sobre Operadores Lógicos, Bit a Bit e Bases Numéricas em Python\n",
    "\n",
    "### Nível Fácil\n",
    "\n",
    "1. Utilizando o operador `and`, crie uma expressão lógica que avalie se um número `num` é positivo e menor que 50."
   ]
  },
  {
   "cell_type": "code",
   "execution_count": 3,
   "metadata": {},
   "outputs": [
    {
     "name": "stdout",
     "output_type": "stream",
     "text": [
      "O número 100 é negativo ou maior que 50\n"
     ]
    }
   ],
   "source": [
    "num = int(input('Digite um número: '))\n",
    "avaliacao = num > 0 and num < 50\n",
    "#           positivo e  menor que 50\n",
    "if avaliacao:\n",
    "  avaliacao = 'positivo e menor que 50'\n",
    "else:\n",
    "  avaliacao = 'negativo ou maior que 50'\n",
    "  \n",
    "print(f'O número {num} é {avaliacao}')\n"
   ]
  },
  {
   "cell_type": "markdown",
   "metadata": {},
   "source": [
    "2. Declare duas variáveis, `binario` e `hexadecimal`, e atribua a elas valores em diferentes bases numéricas. Em seguida, imprima os valores utilizando a função `print()`."
   ]
  },
  {
   "cell_type": "code",
   "execution_count": 9,
   "metadata": {},
   "outputs": [
    {
     "name": "stdout",
     "output_type": "stream",
     "text": [
      "2\n",
      "16\n"
     ]
    }
   ],
   "source": [
    "binario = 0b10\n",
    "hexadecimal = 0x10\n",
    "\n",
    "print(binario)\n",
    "print(hexadecimal)"
   ]
  },
  {
   "cell_type": "markdown",
   "metadata": {},
   "source": [
    "3. Atribua um número binário a uma variável chamada `numero_binario` e converta-o para decimal. Imprima o resultado."
   ]
  },
  {
   "cell_type": "code",
   "execution_count": 13,
   "metadata": {},
   "outputs": [
    {
     "name": "stdout",
     "output_type": "stream",
     "text": [
      "30\n",
      "30\n",
      "30\n",
      "30\n"
     ]
    }
   ],
   "source": [
    "binario = 0b11110\n",
    "decimal = format(binario, 'd') # converte para decimal usando format\n",
    "print(decimal)\n",
    "print(binario) # o Python exibe o valor em binário por padrão. A saída é 30\n"
   ]
  },
  {
   "cell_type": "markdown",
   "metadata": {},
   "source": [
    "4. Utilize o operador `not` para inverter o valor de uma variável booleana chamada `verdadeiro`."
   ]
  },
  {
   "cell_type": "code",
   "execution_count": 15,
   "metadata": {},
   "outputs": [
    {
     "name": "stdout",
     "output_type": "stream",
     "text": [
      "False\n"
     ]
    }
   ],
   "source": [
    "verdadeiro = True\n",
    "falso = not verdadeiro\n",
    "print(falso)"
   ]
  },
  {
   "cell_type": "markdown",
   "metadata": {},
   "source": [
    "### Nível Médio\n",
    "\n",
    "5. Dada uma variável inteira `a = 21`, use operadores bit a bit para verificar se o segundo bit está ligado."
   ]
  },
  {
   "cell_type": "code",
   "execution_count": 27,
   "metadata": {},
   "outputs": [
    {
     "name": "stdout",
     "output_type": "stream",
     "text": [
      "O bit 1 da máscara está desligado\n"
     ]
    }
   ],
   "source": [
    "# Dada uma variável inteira `a = 21`\n",
    "registro = 21\n",
    "# Representação binária de 21: 10101\n",
    "\n",
    "# Use operadores bit a bit para verificar se o segundo bit está ligado.\n",
    "\n",
    "# Máscara para o segundo bit (contando da direita para a esquerda)\n",
    "mascara = 2\n",
    "# Representação binária de 2: 00010\n",
    "\n",
    "# Aplicando a operação bit a bit AND (&) entre o registro e a máscara\n",
    "comparacao = registro & mascara\n",
    "#                                      10101\n",
    "#                                      00010\n",
    "#                                      -----\n",
    "# Resultado da operação bit a bit AND: 00000\n",
    "# & espera que ambos os bits sejam 1 para que o resultado seja 1\n",
    "# Verificando se o resultado é diferente de zero (se o segundo bit está ligado)\n",
    "\n",
    "if comparacao: # Se o resultado for diferente de zero\n",
    "    print('O bit 1 da máscara está ligado')\n",
    "else: # Se o resultado for zero\n",
    "    print('O bit 1 da máscara está desligado')"
   ]
  },
  {
   "cell_type": "markdown",
   "metadata": {},
   "source": [
    "6. Escreva uma função chamada `decimal_para_binario` que recebe um número decimal e retorna sua representação binária como uma string."
   ]
  },
  {
   "cell_type": "code",
   "execution_count": 28,
   "metadata": {},
   "outputs": [
    {
     "name": "stdout",
     "output_type": "stream",
     "text": [
      "O número 7 em binário é 111\n"
     ]
    }
   ],
   "source": [
    "decimal_para_binario = int(input('Digite um número inteiro: '))\n",
    "binario = format(decimal_para_binario, 'b')\n",
    "print(f'O número {decimal_para_binario} em binário é {binario}')"
   ]
  },
  {
   "cell_type": "markdown",
   "metadata": {},
   "source": [
    "7. Crie uma variável `caractere` e atribua a ela um caractere qualquer. Em seguida, imprima seu código ASCII usando a função `ord()`."
   ]
  },
  {
   "cell_type": "code",
   "execution_count": 31,
   "metadata": {},
   "outputs": [
    {
     "name": "stdout",
     "output_type": "stream",
     "text": [
      "O caractere T tem o código ASCII 84\n"
     ]
    }
   ],
   "source": [
    "caractere = input('Digite um caractere: ')\n",
    "print(f'O caractere {caractere} tem o código ASCII {ord(caractere)}')"
   ]
  },
  {
   "cell_type": "markdown",
   "metadata": {},
   "source": [
    "8. Implemente uma função chamada `deslocamento_esquerda` que realize um deslocamento para a esquerda em um número binário."
   ]
  },
  {
   "cell_type": "code",
   "execution_count": 37,
   "metadata": {},
   "outputs": [
    {
     "data": {
      "text/plain": [
       "40"
      ]
     },
     "execution_count": 37,
     "metadata": {},
     "output_type": "execute_result"
    }
   ],
   "source": [
    "def deslocamento_esquerda(numero, deslocamento):\n",
    "    return numero << deslocamento\n",
    "\n",
    "deslocamento_esquerda(10, 2)\n",
    "#   1010\n",
    "# 101000"
   ]
  },
  {
   "cell_type": "markdown",
   "metadata": {},
   "source": [
    "### Nível Avançado\n",
    "\n",
    "9. Crie um programa que utilize uma máscara de bits para verificar se o quarto bit de uma variável `registro` está ligado. Imprima o resultado."
   ]
  },
  {
   "cell_type": "code",
   "execution_count": 42,
   "metadata": {},
   "outputs": [
    {
     "name": "stdout",
     "output_type": "stream",
     "text": [
      "Desligado\n"
     ]
    }
   ],
   "source": [
    "mascara = 8\n",
    "registro = 100\n",
    "verificacao = mascara & registro\n",
    "# 0001000\n",
    "# 1100100\n",
    "# -------\n",
    "# 0000000\n",
    "\n",
    "if verificacao:\n",
    "  print('Ligado')\n",
    "else:\n",
    "  print('Desligado')"
   ]
  },
  {
   "cell_type": "markdown",
   "metadata": {},
   "source": [
    "10. Implemente uma função chamada `definir_bit` que, dado um número e uma posição, defina o bit nessa posição como 1. Teste a função com diferentes valores."
   ]
  },
  {
   "cell_type": "code",
   "execution_count": 44,
   "metadata": {},
   "outputs": [
    {
     "name": "stdout",
     "output_type": "stream",
     "text": [
      "14\n"
     ]
    }
   ],
   "source": [
    "def definir_bit(numero, posicao): # Define o bit na posição especificada\n",
    "    mascara = 1 << posicao # Cria uma máscara com um bit na posição desejada\n",
    "    # 0001 (1 em binário)\n",
    "    # 0010 (deslocamento de 1 para a esquerda)\n",
    "    # ----\n",
    "    # 0010 (máscara)\n",
    "    return numero | mascara # Define o bit na posição desejada com a operação OR que é a conjunção inclusiva, verifica se pelo menos um bit é 1. O motivo para usar o operador de bit OR é que, quando você aplica essa operação com um bit 1 em uma determinada posição, o resultado será 1 nessa posição, independentemente do valor original do bit. Se o bit original já for 1, ele permanece 1; se for 0, torna-se 1.\n",
    "  \n",
    "print(definir_bit(10, 2))\n",
    "# 01010 (10 em binário)\n",
    "# 00100 (máscara)\n",
    "# -----\n",
    "# 01110\n",
    "\n",
    "# Resumindo, se o bit for 1, ele permanece 1; se for 0, torna-se 1."
   ]
  }
 ],
 "metadata": {
  "kernelspec": {
   "display_name": "Python 3",
   "language": "python",
   "name": "python3"
  },
  "language_info": {
   "codemirror_mode": {
    "name": "ipython",
    "version": 3
   },
   "file_extension": ".py",
   "mimetype": "text/x-python",
   "name": "python",
   "nbconvert_exporter": "python",
   "pygments_lexer": "ipython3",
   "version": "3.12.1"
  }
 },
 "nbformat": 4,
 "nbformat_minor": 2
}
