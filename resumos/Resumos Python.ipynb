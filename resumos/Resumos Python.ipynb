{
 "cells": [
  {
   "cell_type": "markdown",
   "id": "38eab90f",
   "metadata": {},
   "source": [
    "## Curso Python #04 - Primeiros comandos em Python3\n",
    "Agora chegou a hora de aprender os comandos básicos do Python e fazer os primeiros programas em Linguagem Python."
   ]
  },
  {
   "cell_type": "markdown",
   "id": "5bc9b901",
   "metadata": {},
   "source": [
    "#### FUNÇÃO print():\n",
    "A função print() exibe no console o texto desejado.\n",
    "\n",
    "Os dados de texto são delimitados por aspas simples ou duplas (Podem conter letras, números e caracteres especiais).\n",
    "\n",
    "A sintaxe da função print() é:\n",
    "- o nome da função\n",
    "- seguido de um par de abertura e fechamento de parênteses\n",
    "- o valor que deseja exibir deve estar dentro (envolvido pelos parênteses)"
   ]
  },
  {
   "cell_type": "code",
   "execution_count": 17,
   "id": "4b3aac5a",
   "metadata": {},
   "outputs": [
    {
     "name": "stdout",
     "output_type": "stream",
     "text": [
      "Olá, mundo!\n"
     ]
    }
   ],
   "source": [
    "print('Olá, mundo!')\n",
    "# Ao executar o programa o texto será exibido no console."
   ]
  },
  {
   "cell_type": "markdown",
   "id": "84b2369b",
   "metadata": {},
   "source": [
    "A função exibe seu resultado em uma linha diferente cada vez que é chamada, mas é possível controlar esse comportamento utilizando caracteres de escape ou atributos."
   ]
  },
  {
   "cell_type": "code",
   "execution_count": 18,
   "id": "355ccf7b",
   "metadata": {},
   "outputs": [
    {
     "name": "stdout",
     "output_type": "stream",
     "text": [
      "Essa é uma linha de código\n",
      "Essa é outra linha de código\n"
     ]
    }
   ],
   "source": [
    "print('Essa é uma linha de código')\n",
    "print('Essa é outra linha de código')"
   ]
  },
  {
   "cell_type": "markdown",
   "id": "dc2f76d3",
   "metadata": {},
   "source": [
    " A função print() possui um atributo opicional chamado end. Ele permite que você especifique o que deve ser exibido após o último caractere da função print().\n",
    "\n",
    " O valor padrão de end é uma quebra de linha(\\n), isso faz com que a próxima instrução seja exibida em uma nova linha, como vimos anteriormente. Se mudarmos o valor para qualquer outro, a próxima instrução será exibida ao lado, separada pelo valor escolhido."
   ]
  },
  {
   "cell_type": "code",
   "execution_count": 19,
   "id": "1344d25f",
   "metadata": {},
   "outputs": [
    {
     "name": "stdout",
     "output_type": "stream",
     "text": [
      "Olá, mundo! % Olá, mundo!\n"
     ]
    }
   ],
   "source": [
    "print('Olá, mundo!', end=' % ')\n",
    "print('Olá, mundo!', end='\\n')"
   ]
  },
  {
   "cell_type": "markdown",
   "id": "7b745038",
   "metadata": {},
   "source": [
    "- Se uma das aspas for omitida, o programa irá apresentar um erro de sintaxe."
   ]
  },
  {
   "cell_type": "code",
   "execution_count": 20,
   "id": "6e8dd13c",
   "metadata": {},
   "outputs": [],
   "source": [
    "# print('Olá, mundo) # Erro de sintaxe (Remova o hashtag para ver o erro)\n",
    "# Literal de cadeia de caracteres (string) não fechada\t"
   ]
  },
  {
   "cell_type": "markdown",
   "id": "e35f6280",
   "metadata": {},
   "source": [
    "- Caso as duas aspas sejam omitidas o programa irá exibir um erro diferente, pois irá interpretar cada palavra como uma variável e não irá encontrá-las (além do erro de sintaxe)."
   ]
  },
  {
   "cell_type": "code",
   "execution_count": 21,
   "id": "43e4a378",
   "metadata": {},
   "outputs": [],
   "source": [
    "# print(Olá, mundo) # Erro de sintaxe (Remova o hashtag para ver o erro)\n",
    "# NameError: name 'Olá' is not defined"
   ]
  },
  {
   "cell_type": "markdown",
   "id": "5ffb77e1",
   "metadata": {},
   "source": [
    "Também podemos exibir números.\n",
    "\n",
    "Números entre aspas são considerados textos! Os números são usados para cálculos matemáticos, por exemplo:"
   ]
  },
  {
   "cell_type": "code",
   "execution_count": 22,
   "id": "b8cba9cf",
   "metadata": {},
   "outputs": [
    {
     "name": "stdout",
     "output_type": "stream",
     "text": [
      "11\n"
     ]
    }
   ],
   "source": [
    "print(7 + 4) # 11\n",
    "# Dois dados numéricos são somados ao utilizar o operador de adição (+)"
   ]
  },
  {
   "cell_type": "markdown",
   "id": "033f9fbd",
   "metadata": {},
   "source": [
    "Se colocarmos os números entre as aspas e utilizarmos o operador +, o programa não irá apresentar um erro, mas não irá exibir a soma entre os números e sim unir os dois textos.\n",
    "\n",
    "Essa ação é chamada de concatenação - O operador + une strings e soma valores numéricos."
   ]
  },
  {
   "cell_type": "code",
   "execution_count": 23,
   "id": "861da208",
   "metadata": {},
   "outputs": [
    {
     "name": "stdout",
     "output_type": "stream",
     "text": [
      "74\n"
     ]
    }
   ],
   "source": [
    "print(\"7\" + \"4\")  # Exibe '74'\n",
    "# Duas strings são unidas ao utilizar o operador + (concatenação)"
   ]
  },
  {
   "cell_type": "markdown",
   "id": "da0118ff",
   "metadata": {},
   "source": [
    "Também é possível utilizar a vírgula para concatenar os valores. A diferença é que o operador de soma + só funciona com valores do mesmo tipo, por exemplo, string + string ou número + número.\n",
    "\n",
    "A vírgula permite utilizar valores de tipos diferentes:"
   ]
  },
  {
   "cell_type": "code",
   "execution_count": 24,
   "id": "954c2eb7",
   "metadata": {},
   "outputs": [
    {
     "name": "stdout",
     "output_type": "stream",
     "text": [
      "7 4\n"
     ]
    }
   ],
   "source": [
    "# Usando vírgula para concatenar um dado string (\"7\") e um dado numérico (4):\n",
    "\n",
    "print('7', 4) # Exibe '7 4'"
   ]
  },
  {
   "cell_type": "markdown",
   "id": "863f720b",
   "metadata": {},
   "source": [
    "Há um espaço entre os valores, pois esté é o separador padrão ao utilizar vírgula na concatenação.\n",
    "\n",
    "O separador também é um atributo de print(). O atributo sep permite que você especifique o que deve ser exibido entre os valores passados para a função print().\n",
    "\n",
    "A sintaxe é sep='separador' (separador representa o caractere que você deseja usar)"
   ]
  },
  {
   "cell_type": "markdown",
   "id": "7511abac",
   "metadata": {},
   "source": [
    "#### VARIÁVEIS:\n",
    "\n",
    "Variáveis são úteis para armazenar os valores. Recomenda-se utilizar letras minúsculas para nomeá-las.\n",
    "\n",
    "Toda variável é um objeto em Python. Isso significa que ela possui atributos e métodos.\n",
    "\n",
    "O símbolo de = é chamado de operador de atribuição. A sintaxe da atribuição é:\n",
    "- nome da variável\n",
    "- operador de atribuição\n",
    "- valor\n",
    "\n",
    "Podemos ler o operador de atribuição como 'recebe'.\n",
    "\n",
    "Se utilizarmos as variáveis nas funções print() o seu valor será exibido. Concatenamos os valores com a vírgula, pois seus valores são de tipos diferentes."
   ]
  },
  {
   "cell_type": "code",
   "execution_count": 25,
   "id": "4453ce8b",
   "metadata": {},
   "outputs": [
    {
     "name": "stdout",
     "output_type": "stream",
     "text": [
      "Guanabara\n",
      "25\n",
      "75.8\n",
      "Guanabara 25 75.8\n"
     ]
    }
   ],
   "source": [
    "nome = 'Guanabara'  # nome recebe Guanabara\n",
    "print(nome)  # Exibe 'Guanabara'\n",
    "\n",
    "idade = 25  # idade recebe 25\n",
    "print(idade)  # Exibe 25\n",
    "\n",
    "peso = 75.8  # peso recebe 75.8\n",
    "print(peso)  # Exibe 75.8\n",
    "\n",
    "print(nome, idade, peso)  # Exibe 'Guanabara 25 75.8'"
   ]
  },
  {
   "cell_type": "markdown",
   "id": "6d820006",
   "metadata": {},
   "source": []
  },
  {
   "cell_type": "markdown",
   "id": "5af52c24",
   "metadata": {},
   "source": []
  }
 ],
 "metadata": {
  "kernelspec": {
   "display_name": "Python 3 (ipykernel)",
   "language": "python",
   "name": "python3"
  },
  "language_info": {
   "codemirror_mode": {
    "name": "ipython",
    "version": 3
   },
   "file_extension": ".py",
   "mimetype": "text/x-python",
   "name": "python",
   "nbconvert_exporter": "python",
   "pygments_lexer": "ipython3",
   "version": "3.12.1"
  }
 },
 "nbformat": 4,
 "nbformat_minor": 5
}
