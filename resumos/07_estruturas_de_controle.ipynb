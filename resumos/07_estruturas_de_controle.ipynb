{
 "cells": [
  {
   "cell_type": "markdown",
   "metadata": {},
   "source": [
    "# Introdução a linguagem Python\n",
    "\n",
    "## Condições\n",
    "\n",
    "As estruturas condicionais oferecem possibilidades distintas para situações distintas. Assim os nossos programas se tornam mais inteligentes e tomam decisões, dependendo das condições apresentadas.\n",
    "\n",
    "Programas inteligentes usam booleans (True e False) para tomar decisões sobre executar linhas de código ou ignorá-las\n",
    "\n",
    "As estruturas condicionais utilizam a indentação para destacar seus blocos de código. As instruçõe fora da indentação serão exibidas, independente da condição ser atendida ou não.\n",
    "\n",
    "Valores como True são chamados de condições e declarações que dependem de condições são chamadas de condicionais. As condições ficam entre o if e :, decidindo se o código será executado ou ignorado.\n",
    "\n",
    "A sintaxe de uma estrutura condicional é a seguinte"
   ]
  },
  {
   "cell_type": "code",
   "execution_count": null,
   "metadata": {},
   "outputs": [],
   "source": [
    "if True:\n",
    "    # Bloco True\n",
    "    print('Bloco de código que será executado caso a condição seja atendida.')\n",
    "else:\n",
    "    # Bloco False\n",
    "    print(\"Bloco de código que será executado caso a condição não seja atendida.\")\n",
    "    \n",
    "# Instrução fora do bloco\n",
    "print('Fim do programa.')"
   ]
  },
  {
   "cell_type": "markdown",
   "metadata": {},
   "source": [
    "Essa declaração condicional consiste nos seguintes elementos, estritamente necessários, somente nesta e nesta ordem:\n",
    "\n",
    "- a palavra-chave if;\n",
    "um espaço para separar a palavra-chave;\n",
    "\n",
    "- uma expressão (uma pergunta ou uma resposta) cujo valor será interpretado apenas em termos de True (quando seu valor for diferente de zero) e False (quando for igual a zero);\n",
    "\n",
    "- dois pontos seguidos por uma nova linha;\n",
    "\n",
    "- uma instrução recuada ou um conjunto de instruções (pelo menos uma instrução é absolutamente necessária); o recuo pode ser obtido de duas maneiras: inserindo um número específico de espaços (a recomendação é usar quatro espaços de recuo) ou usando o caractere de tabulação;\n",
    "\n",
    "- Nota: se houver mais de uma instrução na peça recuada, a indentação deve ser a mesma em todas as linhas; mesmo que você use as guias misturadas com os espaços, é importante tornar todos os recuos exatamente iguais - o Python 3 não permite a mistura de espaços e guias para o recuo."
   ]
  },
  {
   "cell_type": "markdown",
   "metadata": {},
   "source": [
    "## if\n",
    "\n",
    "Usamos uma instrução SE (if) para escrever código que responda a diferentes situações. O comando if é uma instrução condicional.\n",
    "\n",
    "Ele permite que você execute algumas instruções somente se uma determinada condição for atendida. Se a condição não for atendida, as instruções não serão executadas.\n",
    "\n",
    "É como dizer 'SE algo é verdade, faça isso'\n",
    "  \n",
    "if (se) é a condicional inicial. Ela espera que a condição seja atendida, retornando True.\n",
    "\n",
    "As instruções if não decide pular ou executar o código inteiro. Eles só tomam decisões sobre um bloco de código.\n",
    "\n",
    "As instruções que devem ser executadas se a condição for atendida são chamadas de bloco if. Elas devem ser indentations para identificar o bloco.\n",
    "\n",
    "Um bloco de código pode ser mais do que uma linha. Todas as linhas com o mesmo recuo pertencem ao mesmo bloco de código.\n",
    "\n",
    "Se o recuo estiver incorreto, o computador não conseguirá entender seu código. Isso retorna um erro Indentation Error no console.\n",
    "\n",
    "Qualquer código que não esteja recuado será executado independentemente da condição."
   ]
  },
  {
   "cell_type": "markdown",
   "metadata": {},
   "source": [
    "## elif\n",
    "\n",
    "As instruções elif só serão verificadas se a condição if não for atendida. Se a condição elif for atendida, as demais condições serão ignoradas.\n",
    "\n",
    "OBSERVAÇÃO:\n",
    "elif pode ser usado quantas vezes for necessário, mas deve sempre ser usado após um if.\n",
    "\n",
    "else só pode ser usado como última opção mas também pode ser omitido.\n",
    "\n",
    "Vamos aprender como escrever instruções condicionais que tratam de condições específicas, como no programa abaixo. \n",
    "\n",
    "Em nosso exemplo, o programa usa instruções condicionais para mostrar saudações diferentes se a hora for inferior a 7, 12, 17, e 21.\n",
    "\n",
    "Usando if e else, podemos escrever um programa que mostre uma saudação se hora for menor que 12 e outra se não atender a condição\n",
    "\n",
    "Para uma condição mais específica, como se hora for maior que 12, mas menor que 17, podemos codificar elif hora < 17:\n",
    "\n",
    "elif significa 'senão se': elif é usado quando há uma segunda condição a ser verificada quando a condição do bloco if não foi atendida. Por se tratar de um intervalo limitado, vamos definir bem as condições."
   ]
  },
  {
   "cell_type": "code",
   "execution_count": null,
   "metadata": {},
   "outputs": [],
   "source": [
    "# Altere a variável hora para testar as condições\n",
    "hora = 12 # Define a hora atual\n",
    "\n",
    "# Se a hora for menor que 12, exibe 'Bom dia!'\n",
    "if 5 <= hora <= 11:  # Dia entre 5 e 11\n",
    "    print('Bom dia!')\n",
    "    \n",
    "# Se a hora for maior que 12, mas menor que 17, exibe 'Boa tarde!'\n",
    "elif 12 <= hora <= 17:  # Tarde entre 12 e 17\n",
    "    print('Boa tarde!')\n",
    "    \n",
    "# Se a hora for maior que 17, mas menor que 23, exibe 'Boa noite!'\n",
    "elif 18 <= hora <= 23:  # Noite entre 18 e 23\n",
    "    print('Boa noite!')\n",
    "\n",
    "# Se a hora for maior que 23, mas menor que 5, exibe 'Boa madrugada!'\n",
    "# Basicamente, se nenhuma das condições acima for atendida, exibe 'Boa madrugada!'\n",
    "else:  # Madrugada será entre 24 e 4\n",
    "    print('Boa madrugada!')"
   ]
  },
  {
   "cell_type": "markdown",
   "metadata": {},
   "source": [
    "##### Diferença entre usar if elif e if if\n",
    "\n",
    "Se a hora for entre 5 e 11, o programa irá exibir 'Bom dia!'. Como a condição foi atendida, o programa não irá verificar as outras condições. Mesmo que seja 10 horas, o programa não irá exibir 'São 10 horas!' pois instruímos ele a exibir apenas uma das condições."
   ]
  },
  {
   "cell_type": "code",
   "execution_count": null,
   "metadata": {},
   "outputs": [],
   "source": [
    "hora = 10\n",
    "\n",
    "# if elif é usado quando queremos que o programa execute apenas uma das condições.\n",
    "# Exemplo de if elif\n",
    "if 5 <= hora <= 11:  # Dia entre 5 e 11\n",
    "    print('Bom dia!')\n",
    "elif hora == 10:\n",
    "    print('São 10 horas!')"
   ]
  },
  {
   "cell_type": "markdown",
   "metadata": {},
   "source": [
    "if if é usado quando queremos que o programa execute todas as condições que forem atendidas.\n",
    "\n",
    "Exemplo de if if:\n",
    "\n",
    "Se a hora for entre 5 e 11, o programa irá exibir 'Bom dia!'. Como há outra condição, o programa irá verificar se ela é atendida. Como é 10 horas, o programa irá exibir 'São 10 horas!'. Como instruímos ele a exibir todas as condições, ele irá exibir todas as condições que forem atendidas."
   ]
  },
  {
   "cell_type": "code",
   "execution_count": null,
   "metadata": {},
   "outputs": [],
   "source": [
    "if 5 <= hora <= 11:  # Dia entre 5 e 11\n",
    "    print('Bom dia!')\n",
    "if hora == 10:\n",
    "    print('São 10 horas!')"
   ]
  },
  {
   "cell_type": "markdown",
   "metadata": {},
   "source": [
    "## else\n",
    "\n",
    "Um ótimo software não decide apenas o que fazer quando uma condição é True, mas também possui um plano de backup se a condição for False.\n",
    "\n",
    "O comando else é uma instrução condicional que executa algumas instruções caso a condição do comando if não seja atendida. Em outras palavras, nos fornece uma alternativa para o bloco if.\n",
    "\n",
    "A execução senão é a seguinte:\n",
    "\n",
    "- se a condição for avaliada como True a instrução if é executada e a instrução condicional chega ao fim;\n",
    "\n",
    "- se a condição for avaliada como False, a instrução else é executada e a instrução condicional chega ao fim.\n",
    "\n",
    "Tudo o que dissemos sobre a indentação funciona da mesma maneira dentro do ramo else:\n",
    "else (senão) é a condicional final. Ela não necessita de uma condição própria, pois será a resposta padrão caso nenhuma condição seja atendida, retornando False."
   ]
  },
  {
   "cell_type": "markdown",
   "metadata": {},
   "source": [
    "### Condições e execução condicional\n",
    "\n",
    "Você já sabe fazer perguntas em Python, mas ainda não sabe como fazer uso racional das respostas. Você precisa ter um mecanismo que permita que você faça algo se uma condição for atendida, e não faça se não for.\n",
    "\n",
    "O que você pode fazer com a resposta (ou seja, o resultado de uma operação de comparação) que você obtém do computador?\n",
    "\n",
    "Há pelo menos duas possibilidades:\n",
    "\n",
    "- primeiro, você pode memorizá-la (armazená-la em uma variável) e usá-la posteriormente. Como você faz isso? Bem, você usa uma variável arbitrária como esta:"
   ]
  },
  {
   "cell_type": "code",
   "execution_count": null,
   "metadata": {},
   "outputs": [],
   "source": [
    "number_of_lions = 3   # Número de leões\n",
    "number_of_lionesses = 4   # Número de leoas\n",
    "\n",
    "answer = number_of_lions >= number_of_lionesses\n",
    "# answer armazena a resposta para a pergunta: \"O número de leões é maior ou igual ao número de leoas?\" Resposta: False 3 não é maior ou igual a 4\t\n"
   ]
  },
  {
   "cell_type": "markdown",
   "metadata": {},
   "source": [
    "A segunda possibilidade é mais conveniente e muito mais comum: você pode usar a resposta para decidir sobre o futuro do programa.\n",
    "\n",
    "Para tomar essas decisões, o Python oferece uma instrução especial. Devido à sua natureza e aplicação, é chamada de instrução condicional (ou declaração condicional).\n",
    "\n",
    "Quando você deseja executar algum código apenas se uma determinada condição for atendida, você pode usar uma declaração condicional: uma única declaração if, por exemplo:"
   ]
  },
  {
   "cell_type": "code",
   "execution_count": null,
   "metadata": {},
   "outputs": [],
   "source": [
    "x = 10\n",
    "if x == 10:   # condição\n",
    "    print(\"x é igual a 10\")   # Executado se a condição for True."
   ]
  },
  {
   "cell_type": "markdown",
   "metadata": {},
   "source": [
    "Uma série de declarações if, por exemplo: Cada declaração if é testada separadamente."
   ]
  },
  {
   "cell_type": "code",
   "execution_count": null,
   "metadata": {},
   "outputs": [],
   "source": [
    "x = 10\n",
    "\n",
    "if x > 5:  # condição um\n",
    "    print(\"x é maior que 5\")   # Executado se a condição um for True.\n",
    "    \n",
    "if x < 10:  # condição dois\n",
    "    print(\"x é menor que 10\")   # Executado se a condição dois for True.\n",
    "    \n",
    "if x == 10:  # condição três\n",
    "    print(\"x é igual a 10\")   # Executado se a condição três for True."
   ]
  },
  {
   "cell_type": "markdown",
   "metadata": {},
   "source": [
    "Uma declaração if-else, por exemplo:"
   ]
  },
  {
   "cell_type": "code",
   "execution_count": null,
   "metadata": {},
   "outputs": [],
   "source": [
    "x = 10\n",
    "\n",
    "if x < 10:  # condição\n",
    "    print(\"x é menor que 10\")   # Executado se a condição for True.\n",
    "else:\n",
    "    print(\"x é maior ou igual a 10\")   # Executado se a condição for False."
   ]
  },
  {
   "cell_type": "markdown",
   "metadata": {},
   "source": [
    "Uma série de instruções if seguidas de um else, por exemplo:"
   ]
  },
  {
   "cell_type": "code",
   "execution_count": null,
   "metadata": {},
   "outputs": [],
   "source": [
    "x = 10\n",
    "\n",
    "if x > 5:  # condição um\n",
    "    print(\"x é maior que 5\")   # Executado se a condição um for True.\n",
    "    \n",
    "if x < 10:  # condição dois\n",
    "    print(\"x é menor que 10\")   # Executado se a condição dois for True.\n",
    "    \n",
    "if x == 10:  # condição três\n",
    "    print(\"x é igual a 10\")   # Executado se a condição três for True."
   ]
  },
  {
   "cell_type": "markdown",
   "metadata": {},
   "source": [
    "Cada um if é testado separadamente. O corpo do else é executado se o último if for False.\n",
    "\n",
    "A declaração if-elif-else, por exemplo:"
   ]
  },
  {
   "cell_type": "code",
   "execution_count": null,
   "metadata": {},
   "outputs": [],
   "source": [
    "x = 10\n",
    "\n",
    "if x == 10:  # True\n",
    "    print(\"x == 10\")\n",
    "\n",
    "if x > 15:  # False\n",
    "    print(\"x > 15\")\n",
    "\n",
    "elif x > 10:  # False\n",
    "    print(\"x > 10\")\n",
    "\n",
    "elif x > 5:  # True\n",
    "    print(\"x > 5\")\n",
    "\n",
    "else:\n",
    "    print(\"senão não será executado\")"
   ]
  },
  {
   "cell_type": "markdown",
   "metadata": {},
   "source": [
    "Se a condição para if for False, o programa verifica as condições dos blocos elif subsequentes - o primeiro bloco elif que é True é executado. Se todas as condições forem False, o bloco else será executado.\n",
    "\n",
    "Instruções condicional aninhadas, por exemplo:\n"
   ]
  },
  {
   "cell_type": "code",
   "execution_count": null,
   "metadata": {},
   "outputs": [],
   "source": [
    "x = 10\n",
    "\n",
    "if x > 5:  # True\n",
    "    if x == 6:  # False\n",
    "        print(\"aninhado: x == 6\")\n",
    "    elif x == 10:  # True\n",
    "        print(\"aninhado: x == 10\")\n",
    "    else:\n",
    "        print(\"aninhado: else\")\n",
    "else:\n",
    "    print(\"else\")"
   ]
  },
  {
   "cell_type": "markdown",
   "metadata": {},
   "source": [
    "Se qualquer uma das ramificações if-elif-else contiver apenas uma instrução, você poderá codificá-la de forma mais abrangente (não é necessário criar uma linha recuada após a palavra-chave, mas apenas continuar a linha após os dois pontos)\n",
    "\n",
    "A sintaxe é a seguinte:\n",
    "\n",
    "valor1 if condição else valor2"
   ]
  },
  {
   "cell_type": "code",
   "execution_count": null,
   "metadata": {},
   "outputs": [],
   "source": [
    "# Ler dois números\n",
    "number1 = int(input(\"Digite o primeiro número: \"))\n",
    "number2 = int(input(\"Digite o segundo número: \"))\n",
    "\n",
    "# Escolha o número maior\n",
    "if number1 > number2:\n",
    "    larger_number = number1\n",
    "else:\n",
    "    larger_number = number2\n",
    "\n",
    "# Imprimir o resultado\n",
    "print(\"O maior número é:\", larger_number)"
   ]
  },
  {
   "cell_type": "code",
   "execution_count": null,
   "metadata": {},
   "outputs": [],
   "source": [
    "# A mesma estrutura pode ser simplificada\n",
    "larger_number = number1 if number1 > number2 else number2\n"
   ]
  }
 ],
 "metadata": {
  "kernelspec": {
   "display_name": "Python 3",
   "language": "python",
   "name": "python3"
  },
  "language_info": {
   "codemirror_mode": {
    "name": "ipython",
    "version": 3
   },
   "file_extension": ".py",
   "mimetype": "text/x-python",
   "name": "python",
   "nbconvert_exporter": "python",
   "pygments_lexer": "ipython3",
   "version": "3.12.1"
  }
 },
 "nbformat": 4,
 "nbformat_minor": 2
}
