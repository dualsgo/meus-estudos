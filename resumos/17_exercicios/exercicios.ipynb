{
 "cells": [
  {
   "cell_type": "markdown",
   "metadata": {},
   "source": [
    "# Exercícios sobre Operadores Lógicos, Bit a Bit e Bases Numéricas em Python\n",
    "\n",
    "### Nível Fácil\n",
    "\n",
    "1. Utilizando o operador `and`, crie uma expressão lógica que avalie se um número `num` é positivo e menor que 50.\n",
    "2. Declare duas variáveis, `binario` e `hexadecimal`, e atribua a elas valores em diferentes bases numéricas. Em seguida, imprima os valores utilizando a função `print()`.\n",
    "3. Atribua um número binário a uma variável chamada `numero_binario` e converta-o para decimal. Imprima o resultado.\n",
    "4. Utilize o operador `not` para inverter o valor de uma variável booleana chamada `verdadeiro`.\n",
    "\n",
    "### Nível Médio\n",
    "\n",
    "5. Dada uma variável inteira `a = 21`, use operadores bit a bit para verificar se o segundo bit está ligado.\n",
    "6. Escreva uma função chamada `decimal_para_binario` que recebe um número decimal e retorna sua representação binária como uma string.\n",
    "7. Crie uma variável `caractere` e atribua a ela um caractere qualquer. Em seguida, imprima seu código ASCII usando a função `ord()`.\n",
    "8. Implemente uma função chamada `deslocamento_esquerda` que realize um deslocamento para a esquerda em um número binário.\n",
    "\n",
    "### Nível Avançado\n",
    "\n",
    "9. Crie um programa que utilize uma máscara de bits para verificar se o quarto bit de uma variável `registro` está ligado. Imprima o resultado.\n",
    "10. Implemente uma função chamada `definir_bit` que, dado um número e uma posição, defina o bit nessa posição como 1. Teste a função com diferentes valores.\n",
    "\n",
    "Lembre-se de seguir as regras de nomenclatura e boas práticas de código, conforme mencionadas na introdução ao Python. Experimente explorar cada conceito de forma prática para um melhor entendimento."
   ]
  }
 ],
 "metadata": {
  "language_info": {
   "name": "python"
  }
 },
 "nbformat": 4,
 "nbformat_minor": 2
}
