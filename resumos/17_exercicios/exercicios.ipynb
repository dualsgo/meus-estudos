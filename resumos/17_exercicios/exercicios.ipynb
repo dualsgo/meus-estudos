{
 "cells": [
  {
   "cell_type": "markdown",
   "metadata": {},
   "source": [
    "# Exercícios de Conjuntos em Python\n",
    "\n",
    "### Nível Fácil\n",
    "\n",
    "1. Crie uma função chamada `exibir_conjunto` que recebe um conjunto como parâmetro e imprime cada elemento em uma linha.\n",
    "\n",
    "2. Escreva um programa que utilize dois conjuntos para representar os alunos que jogam futebol e os que jogam basquete em uma escola. Em seguida, imprima os alunos que praticam ambos os esportes.\n",
    "\n",
    "### Nível Médio\n",
    "\n",
    "3. Implemente uma função chamada `verificar_disjoint` que recebe dois conjuntos e retorna True se eles não têm elementos em comum, e False caso contrário.\n",
    "\n",
    "4. Crie um programa que utilize conjuntos para representar os caracteres únicos de duas strings. Em seguida, imprima os caracteres que estão presentes em ambas as strings.\n",
    "\n",
    "### Nível Avançado\n",
    "\n",
    "5. Desenvolva uma função chamada `conjunto_complementar` que recebe dois conjuntos A e B como argumentos e retorna um novo conjunto com todos os elementos de A que não estão em B.\n",
    "\n",
    "6. Escreva um programa que utilize conjuntos para verificar se uma lista contém elementos duplicados.\n",
    "\n",
    "### Desafio\n",
    "\n",
    "7. Crie uma função chamada `conjunto_cartesiano` que recebe dois conjuntos como argumentos e retorna o conjunto cartesiano desses conjuntos. O conjunto cartesiano é formado por todos os pares ordenados nos quais o primeiro elemento pertence ao primeiro conjunto e o segundo elemento pertence ao segundo conjunto.\n",
    "\n",
    "8. Implemente um programa que utilize conjuntos para verificar se uma lista é subconjunto de outra lista.\n",
    "\n",
    "9. Desenvolva uma função chamada `conjunto_potencia` que recebe um conjunto como argumento e retorna o conjunto das partes desse conjunto (conjunto das partes). O conjunto das partes é o conjunto de todos os subconjuntos possíveis.\n",
    "\n",
    "10. Crie um programa que utiliza conjuntos para simular um jogo de loteria. O programa deve gerar aleatoriamente um conjunto de números escolhidos pelo jogador e comparar com um conjunto de números sorteados. Imprima quantos números coincidem."
   ]
  }
 ],
 "metadata": {
  "language_info": {
   "name": "python"
  }
 },
 "nbformat": 4,
 "nbformat_minor": 2
}
