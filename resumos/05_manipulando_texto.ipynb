{
 "cells": [
  {
   "cell_type": "markdown",
   "metadata": {},
   "source": [
    "# Introdução a linguagem Python\n",
    "\n",
    "### Manipulando textos\n",
    "\n",
    "Uma cadeia de caracteres, ou string, é um texto entre aspas simples ou duplas.\n",
    "\n",
    "Ao atribuir uma frase a uma variável, a frase é dividida em espaços na memória e cada um desses espaços recebe um índice que identifica sua posição, iniciando em zero. Os caracteres da frase, incluindo os espaços entre as palavras, ocupam essas posições. Esse é o comportamento de uma lista; Uma string é uma lista de caracteres."
   ]
  },
  {
   "cell_type": "code",
   "execution_count": 1,
   "metadata": {},
   "outputs": [],
   "source": [
    "frase = 'Curso em Vídeo Python'"
   ]
  },
  {
   "cell_type": "markdown",
   "metadata": {},
   "source": [
    "### Fatiamento\n",
    "\n",
    "Podemos realizar operações com string.\n",
    "\n",
    "Tecnicamente, uma string é uma lista de caracteres. Sendo assim, podemos acessar os seus índices da mesma forma que faríamos com uma lista. (Veremos mais sobre listas adiante)"
   ]
  },
  {
   "cell_type": "markdown",
   "metadata": {},
   "source": [
    "### Análise\n",
    "\n",
    "O método len() mostra o comprimento da cadeia de caracteres\n"
   ]
  },
  {
   "cell_type": "code",
   "execution_count": null,
   "metadata": {},
   "outputs": [],
   "source": [
    "print(len(frase))"
   ]
  },
  {
   "cell_type": "markdown",
   "metadata": {},
   "source": [
    "O método .count('valor') mostra a quantidade de ocorrências de um valor informado entre as aspas"
   ]
  },
  {
   "cell_type": "code",
   "execution_count": null,
   "metadata": {},
   "outputs": [],
   "source": [
    "# Irá exibir a quantidade de ocorrências de o minúsculo.\n",
    "print(frase.count('o'))\n",
    "\n",
    "\n",
    "# Esse método aceita a indicação de um intervalo em seus argumentos\n",
    "print(frase.count('0', 0, 13))"
   ]
  },
  {
   "cell_type": "markdown",
   "metadata": {},
   "source": [
    "O método .find(valor) exibe a primeira posição de um caractere ou de um conjunto"
   ]
  },
  {
   "cell_type": "code",
   "execution_count": null,
   "metadata": {},
   "outputs": [],
   "source": [
    "print(frase.find('deo'))\n",
    "# Exibe 11, que é a posição do caractere d\n",
    "# Se o valor não for encontrado, o retorno será -1"
   ]
  },
  {
   "cell_type": "markdown",
   "metadata": {},
   "source": [
    "O operador in pode ser utilizado para retornar um boolean ao verificar se há uma correspondência dentro da string"
   ]
  },
  {
   "cell_type": "code",
   "execution_count": null,
   "metadata": {},
   "outputs": [],
   "source": [
    "print('Curso' in frase)"
   ]
  },
  {
   "cell_type": "markdown",
   "metadata": {},
   "source": [
    "### Transformação\n",
    "\n",
    "Uma string é imutável, mas podemos utilizar alguns métodos para alterá-la.\n",
    "\n",
    "Às vezes precisamos atualizar os dados numa string sem criar uma string totalmente nova.\n",
    "\n",
    "Podemos substituir uma parte de uma string armazenada numa variável codificando primeiro o nome da variável e depois o método .replace()\n",
    "\n",
    "O método .replace(valor, novo_valor) altera um valor por outro, mas não altera a string original, apenas exibe a mudança.\n",
    "\n",
    "Dentro dos parênteses, adicionamos a parte que queremos substituir, uma vírgula e depois o novo valor\n",
    "\n",
    "replace é útil para atualizar strings, mas também para remover caracteres indesejados\n",
    "\n",
    "Por exemplo, se quisermos remover os espaços em branco de uma string, podemos usar o método .replace(' ', '')\n",
    "\n",
    "Quando usamos replace() substituiremos todas as ocorrências do valor dentro da string"
   ]
  },
  {
   "cell_type": "code",
   "execution_count": 8,
   "metadata": {},
   "outputs": [
    {
     "name": "stdout",
     "output_type": "stream",
     "text": [
      "Curso em Vídeo Python\n",
      "Curso em Vídeo Android\n"
     ]
    }
   ],
   "source": [
    "frase.replace('Python', 'Android')\n",
    "\n",
    "print(frase)\n",
    "# Se codificarmos a variável original, notaremos que o valor dela permanece inalterado. Isso ocorre pois o método .replace() não altera o valor da variável original, mas cria uma nova string com o valor atualizado.\n",
    "\n",
    "nova_frase = frase.replace('Python', 'Android')\n",
    "print(nova_frase)"
   ]
  },
  {
   "cell_type": "markdown",
   "metadata": {},
   "source": [
    "Os métodos .upper() e .lower() transformam os caracteres em maiúsculas e minúsculas respectivamente."
   ]
  },
  {
   "cell_type": "code",
   "execution_count": null,
   "metadata": {},
   "outputs": [],
   "source": [
    "print(frase.upper())\n",
    "print(frase.lower())"
   ]
  },
  {
   "cell_type": "markdown",
   "metadata": {},
   "source": [
    "O método .title() transforma apenas o primeiro caractere de cada palavra em maiúsculo."
   ]
  },
  {
   "cell_type": "code",
   "execution_count": null,
   "metadata": {},
   "outputs": [],
   "source": [
    "print(frase.title())"
   ]
  },
  {
   "cell_type": "markdown",
   "metadata": {},
   "source": [
    "O método .capitalize() transforma apenas o primeiro caractere em maiúsculo"
   ]
  },
  {
   "cell_type": "code",
   "execution_count": null,
   "metadata": {},
   "outputs": [],
   "source": [
    "print(frase.capitalize())"
   ]
  },
  {
   "cell_type": "markdown",
   "metadata": {},
   "source": [
    "### Divisão de strings\n",
    "\n",
    "Ao trabalhar com diferentes tipos de dados, muitas vezes os receberemos em um formato que pode dificultar o trabalho.\n",
    "\n",
    "Conseguimos dividir strings e armazenar os valores individuais numa lista utilizando o método .split()\n",
    "\n",
    "O método split() utiliza os espaços entre as palavras e divíde a string, criando uma lista com as palavras.\n",
    "\n",
    "Cada palavra será um elemento e terá sua própria indexação e cada caractere das palavras receberão seus próprios índices."
   ]
  },
  {
   "cell_type": "code",
   "execution_count": null,
   "metadata": {},
   "outputs": [],
   "source": [
    "print(frase.split())\n",
    "\n",
    "frase_dividida = frase.split()\n",
    "\n",
    "print(frase_dividida[2][0])\n",
    "# Exibindo o primeiro caractere da terceira palavra\n",
    "\n",
    "# Nesse exemplo, o primeiro valor indica a palavra e o segundo o caractere\n"
   ]
  },
  {
   "cell_type": "markdown",
   "metadata": {},
   "source": [
    "As strings são separadas em espaços em branco por padrão. Podemos ver isso se exibirmos a string como uma lista.\n",
    "\n",
    "Uma string é uma sequência de caracteres. Podemos pensar em uma string como uma lista de caracteres."
   ]
  },
  {
   "cell_type": "code",
   "execution_count": 2,
   "metadata": {},
   "outputs": [
    {
     "name": "stdout",
     "output_type": "stream",
     "text": [
      "Maycon Douglas Barros da Silva\n",
      "['Maycon', 'Douglas', 'Barros', 'da', 'Silva']\n"
     ]
    }
   ],
   "source": [
    "nome_completo = \"Maycon Douglas Barros da Silva\" \n",
    "\n",
    "print(nome_completo)\n",
    "\n",
    "lista = nome_completo.split()\n",
    "print(lista) # ['Maycon', 'Douglas', 'Barros', 'da', 'Silva']"
   ]
  },
  {
   "cell_type": "markdown",
   "metadata": {},
   "source": [
    "Cada item da lista recebe um índice, começando em 0. Podemos acessar qualquer item da lista usando seu índice."
   ]
  },
  {
   "cell_type": "code",
   "execution_count": 3,
   "metadata": {},
   "outputs": [
    {
     "name": "stdout",
     "output_type": "stream",
     "text": [
      "Maycon\n"
     ]
    }
   ],
   "source": [
    "print(lista[0]) # Maycon"
   ]
  },
  {
   "cell_type": "markdown",
   "metadata": {},
   "source": [
    "Além disso, cada caractere em uma string também recebe um índice. Podemos acessar qualquer caractere em uma string usando seu índice. O primeiro índice representa o item da lista que queremos acessar e o segundo índice representa o caractere dentro do item."
   ]
  },
  {
   "cell_type": "code",
   "execution_count": 5,
   "metadata": {},
   "outputs": [
    {
     "name": "stdout",
     "output_type": "stream",
     "text": [
      "M\n"
     ]
    }
   ],
   "source": [
    "print(lista[0][0]) # M"
   ]
  },
  {
   "cell_type": "markdown",
   "metadata": {},
   "source": [
    "Podemos usar o método .split() para dividir uma string em qualquer caractere que quisermos.\n",
    "\n",
    "Podemos especificar exatamente como queremos dividir uma string colocando um separador entre parênteses.\n",
    "\n",
    "Por exemplo, se quisermos dividir uma string em cada vírgula, colocamos a vírgula entre parênteses.\n"
   ]
  },
  {
   "cell_type": "code",
   "execution_count": 7,
   "metadata": {},
   "outputs": [
    {
     "name": "stdout",
     "output_type": "stream",
     "text": [
      "['Valores', 'separados', 'por', 'vírgula']\n"
     ]
    }
   ],
   "source": [
    "texto = 'Valores, separados, por, vírgula'\n",
    "\n",
    "print(texto.split(', '))"
   ]
  },
  {
   "cell_type": "markdown",
   "metadata": {},
   "source": [
    "### Junção\n",
    "\n",
    "O método 'separador'.join(valor) reúne os itens de um conjunto separado utilizando o separador indicado."
   ]
  },
  {
   "cell_type": "code",
   "execution_count": null,
   "metadata": {},
   "outputs": [],
   "source": [
    "print('-'.join(frase_dividida))"
   ]
  },
  {
   "cell_type": "markdown",
   "metadata": {},
   "source": [
    "Ou somente separa os caracteres com o separador indicado"
   ]
  },
  {
   "cell_type": "code",
   "execution_count": null,
   "metadata": {},
   "outputs": [],
   "source": [
    "print('-'.join(frase))"
   ]
  },
  {
   "cell_type": "markdown",
   "metadata": {},
   "source": [
    "O método .strip() irá remover os espaços desnecessários, na esquerda de na direita, mas não os espaços entre as palavras.\n",
    "\n",
    "Nesse exemplo a string recebeu espaços excedentes"
   ]
  },
  {
   "cell_type": "code",
   "execution_count": null,
   "metadata": {},
   "outputs": [],
   "source": [
    "frase = '   Aprenda Python   '\n",
    "print(frase)\n",
    "\n",
    "print(frase.strip())\n",
    "# Há duas variações: Somente da direita rstrip() e somente da esquerda lstrip()"
   ]
  },
  {
   "cell_type": "markdown",
   "metadata": {},
   "source": [
    "### Análise de strings\n",
    "\n",
    "Em Python tudo é tratado como objeto.\n",
    "\n",
    "Objetos e possuem métodos.\n",
    "\n",
    "Os métodos são funções que podem ser executadas por um objeto. Existem métodos para analisar as strings. \n",
    "\n",
    "A sintaxe dos métodos é em notação de ponto\n",
    "\n",
    "objeto.método()\n",
    "\n",
    "Podemos usar a função dir() para exibir todos os métodos disponíveis para um objeto."
   ]
  },
  {
   "cell_type": "code",
   "execution_count": null,
   "metadata": {},
   "outputs": [],
   "source": [
    "algo = input('Digite algo: ')"
   ]
  },
  {
   "cell_type": "code",
   "execution_count": null,
   "metadata": {},
   "outputs": [],
   "source": [
    "dir(algo)\n",
    "# Exibe todos os métodos disponíveis para a variável\n"
   ]
  },
  {
   "cell_type": "markdown",
   "metadata": {},
   "source": [
    "Algums métodos de string são:"
   ]
  },
  {
   "cell_type": "code",
   "execution_count": null,
   "metadata": {},
   "outputs": [],
   "source": [
    "print(algo.isnumeric())  # Verifica se o valor é um número para dizer se é possível converter para int ou float\n",
    "\n",
    "print(algo.isalpha())  # Verifica se o valor é alfabético\n",
    "\n",
    "print(algo.isalnum())  # Verifica se o valor possui letras e números.\n",
    "\n",
    "print(algo.isupper())  # Verifica se o valor está em maiúsculo.\n",
    "\n",
    "print(algo.islower())  # Verifica se o valor está em minúsculo.\n",
    "\n",
    "print(algo.isspace())  # Verifica se o valor é um espaço (espaço, tab, quebra de linha)\n",
    "\n",
    "print(algo.istitle())  # Verifica se o valor está em formato de título. Ex: Curso em Vídeo\n",
    "\n",
    "print(algo.isprintable())  # Verifica se o valor é imprimível. Ex: \\n não é imprimível\n",
    "\n",
    "print(algo.isascii())  # Verifica se o valor está em formato ASCII. Acentos não são ASCII\n",
    "\n",
    "print(algo.isdecimal())  # Verifica se o valor é decimal\n",
    "\n",
    "print(algo.isdigit())  # Verifica se o valor é um dígito. \n",
    "\n",
    "print(algo.isidentifier())  # Verifica se o valor é um identificador. Ex: Nome de variável, função, classe, etc."
   ]
  }
 ],
 "metadata": {
  "kernelspec": {
   "display_name": "Python 3",
   "language": "python",
   "name": "python3"
  },
  "language_info": {
   "codemirror_mode": {
    "name": "ipython",
    "version": 3
   },
   "file_extension": ".py",
   "mimetype": "text/x-python",
   "name": "python",
   "nbconvert_exporter": "python",
   "pygments_lexer": "ipython3",
   "version": "3.12.1"
  }
 },
 "nbformat": 4,
 "nbformat_minor": 2
}
