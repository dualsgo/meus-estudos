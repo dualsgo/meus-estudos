{
 "cells": [
  {
   "cell_type": "markdown",
   "metadata": {},
   "source": [
    "## Exercícios sobre Estruturas Condicionais em Python\n",
    "\n",
    "### Nível Fácil\n",
    "\n",
    "1. Crie uma variável chamada `idade` e atribua a ela um valor inteiro que represente sua idade."
   ]
  },
  {
   "cell_type": "code",
   "execution_count": 2,
   "metadata": {},
   "outputs": [],
   "source": [
    "idade = 30"
   ]
  },
  {
   "cell_type": "markdown",
   "metadata": {},
   "source": [
    "2. Utilize uma estrutura condicional para verificar se a idade é maior ou igual a 18. Se for verdade, imprima \"Você é maior de idade\". Caso contrário, imprima \"Você é menor de idade\"."
   ]
  },
  {
   "cell_type": "code",
   "execution_count": 3,
   "metadata": {},
   "outputs": [
    {
     "name": "stdout",
     "output_type": "stream",
     "text": [
      "Você é maior de idade\n"
     ]
    }
   ],
   "source": [
    "if idade >= 18:\n",
    "  print('Você é maior de idade')\t\n",
    "else:\n",
    "  print('Você é menor de idade')"
   ]
  },
  {
   "cell_type": "markdown",
   "metadata": {},
   "source": [
    "### Nível Médio\n",
    "\n",
    "3. Crie uma lista de números inteiros. Utilize uma estrutura condicional para verificar se a lista está vazia. Se estiver vazia, imprima \"A lista está vazia\". Caso contrário, imprima \"A lista não está vazia\" e também imprima a quantidade de elementos na lista."
   ]
  },
  {
   "cell_type": "code",
   "execution_count": 10,
   "metadata": {},
   "outputs": [
    {
     "name": "stdout",
     "output_type": "stream",
     "text": [
      "A lista está vazia\n",
      "A lista tem 0 elementos\n"
     ]
    }
   ],
   "source": [
    "lista = [1, 2, 3, 4, 5]\n",
    "\n",
    "if len(lista):\n",
    "  print('A lista não está vazia')\n",
    "else:\n",
    "  print('A lista está vazia')\n",
    "print('A lista tem', len(lista), 'elementos')"
   ]
  },
  {
   "cell_type": "markdown",
   "metadata": {},
   "source": [
    "4. Crie uma variável chamada `nota` e atribua a ela um valor de ponto flutuante representando a sua nota em uma prova. Utilize uma estrutura condicional para verificar se a nota é maior ou igual a 7. Se for verdade, imprima \"Parabéns! Você foi aprovado\". Caso contrário, imprima \"Infelizmente, você não foi aprovado\"."
   ]
  },
  {
   "cell_type": "code",
   "execution_count": 13,
   "metadata": {},
   "outputs": [
    {
     "name": "stdout",
     "output_type": "stream",
     "text": [
      "Infelizmente você não foi aprovado.\n"
     ]
    }
   ],
   "source": [
    "nota = 5.\n",
    "\n",
    "print('Parabéns. Você foi aprovado!' if nota >= 7 else 'Infelizmente você não foi aprovado.')"
   ]
  },
  {
   "cell_type": "markdown",
   "metadata": {},
   "source": [
    "### Nível Avançado\n",
    "\n",
    "5. Crie uma função chamada `verificar_numero` que recebe um número como argumento. A função deve retornar uma mensagem indicando se o número é positivo, negativo ou zero."
   ]
  },
  {
   "cell_type": "code",
   "execution_count": 16,
   "metadata": {},
   "outputs": [
    {
     "name": "stdout",
     "output_type": "stream",
     "text": [
      "Positivo\n"
     ]
    }
   ],
   "source": [
    "def verifica_numero(numero):\n",
    "    if numero > 0:\n",
    "        return 'Positivo'\n",
    "    elif numero == 0:\n",
    "        return 'Zero'\n",
    "    else:\n",
    "        return 'Negativo'\n",
    "\n",
    "\n",
    "print(verifica_numero(int(input('Deseja verificar qual número? ')))) "
   ]
  },
  {
   "cell_type": "markdown",
   "metadata": {},
   "source": [
    "6. Crie um programa que simula um sistema de autenticação. Solicite ao usuário que digite um nome de usuário e uma senha. Utilize estruturas condicionais para verificar se o nome de usuário é \"admin\" e a senha é \"senha123\". Se ambas as condições forem verdadeiras, imprima \"Login bem-sucedido\". Caso contrário, imprima \"Nome de usuário ou senha incorretos\"."
   ]
  },
  {
   "cell_type": "code",
   "execution_count": 19,
   "metadata": {},
   "outputs": [
    {
     "name": "stdout",
     "output_type": "stream",
     "text": [
      "Nome de usuário ou senha incorretos.\n"
     ]
    }
   ],
   "source": [
    "nome_usuario = str(input('Digite o nome de usuário: ')).strip()\n",
    "senha = str(input('Digite a senha: ')).strip()\n",
    "\n",
    "if nome_usuario == 'admin' and senha == 'senha123':\n",
    "  print('Login bem-sucedido')\n",
    "else:\n",
    "  print('Nome de usuário ou senha incorretos.')"
   ]
  }
 ],
 "metadata": {
  "kernelspec": {
   "display_name": "Python 3",
   "language": "python",
   "name": "python3"
  },
  "language_info": {
   "codemirror_mode": {
    "name": "ipython",
    "version": 3
   },
   "file_extension": ".py",
   "mimetype": "text/x-python",
   "name": "python",
   "nbconvert_exporter": "python",
   "pygments_lexer": "ipython3",
   "version": "3.12.1"
  }
 },
 "nbformat": 4,
 "nbformat_minor": 2
}
