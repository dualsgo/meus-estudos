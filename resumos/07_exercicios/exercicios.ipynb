{
 "cells": [
  {
   "cell_type": "markdown",
   "metadata": {},
   "source": [
    "## Exercícios sobre Estruturas Condicionais em Python\n",
    "\n",
    "### Nível Fácil\n",
    "\n",
    "1. Crie uma variável chamada `idade` e atribua a ela um valor inteiro que represente sua idade.\n",
    "2. Utilize uma estrutura condicional para verificar se a idade é maior ou igual a 18. Se for verdade, imprima \"Você é maior de idade\". Caso contrário, imprima \"Você é menor de idade\".\n",
    "\n",
    "### Nível Médio\n",
    "\n",
    "3. Crie uma lista de números inteiros. Utilize uma estrutura condicional para verificar se a lista está vazia. Se estiver vazia, imprima \"A lista está vazia\". Caso contrário, imprima \"A lista não está vazia\" e também imprima a quantidade de elementos na lista.\n",
    "\n",
    "4. Crie uma variável chamada `nota` e atribua a ela um valor de ponto flutuante representando a sua nota em uma prova. Utilize uma estrutura condicional para verificar se a nota é maior ou igual a 7. Se for verdade, imprima \"Parabéns! Você foi aprovado\". Caso contrário, imprima \"Infelizmente, você não foi aprovado\".\n",
    "\n",
    "### Nível Avançado\n",
    "\n",
    "5. Crie uma função chamada `verificar_numero` que recebe um número como argumento. A função deve retornar uma mensagem indicando se o número é positivo, negativo ou zero.\n",
    "\n",
    "6. Crie um programa que simula um sistema de autenticação. Solicite ao usuário que digite um nome de usuário e uma senha. Utilize estruturas condicionais para verificar se o nome de usuário é \"admin\" e a senha é \"senha123\". Se ambas as condições forem verdadeiras, imprima \"Login bem-sucedido\". Caso contrário, imprima \"Nome de usuário ou senha incorretos\".\n",
    "\n",
    "Lembre-se de seguir as boas práticas de código, como utilizar comentários para explicar trechos importantes e escolher nomes de variáveis significativos."
   ]
  }
 ],
 "metadata": {
  "language_info": {
   "name": "python"
  }
 },
 "nbformat": 4,
 "nbformat_minor": 2
}
