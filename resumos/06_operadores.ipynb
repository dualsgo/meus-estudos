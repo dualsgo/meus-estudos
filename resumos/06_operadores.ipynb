{
 "cells": [
  {
   "cell_type": "markdown",
   "metadata": {},
   "source": [
    "# Introdução a linguagem Python"
   ]
  },
  {
   "cell_type": "markdown",
   "metadata": {},
   "source": [
    "## Operadores\n",
    "\n",
    "Um programador cria um programa e o programa faz perguntas.\n",
    "\n",
    "Um computador executa o programa e fornece as respostas.\n",
    "\n",
    "O programa deve conseguir reagir conforme as respostas recebidas.\n",
    "\n",
    "Felizmente, os computadores sabem apenas dois tipos de respostas: 'Sim, isso é verdade' ou 'não, isso é falso'.\n",
    "\n",
    "Você nunca receberá uma resposta como \"Deixe-me pensar\", \"Não sei\" ou \"provavelmente, sim, mas não tenho certeza\".\n",
    "\n",
    "Para fazer perguntas, o Python usa um conjunto de operadores muito especiais. Vamos examiná-los um após o outro, ilustrando seus efeitos em alguns exemplos simples.\n",
    "\n",
    "Um operador é um símbolo da linguagem de programação, capaz de operar com os valores. Por exemplo, assim como na aritmética, o sinal de + (mais) é o operador que consegue adicionar dois números, dando o resultado da adição."
   ]
  },
  {
   "cell_type": "markdown",
   "metadata": {},
   "source": [
    "### Operadores aritiméticos\n",
    "\n",
    "Vamos começar com os operadores que estão associados às operações aritméticas mais amplamente reconhecidas:\n",
    "\n",
    "- ( + mais ) - adiciona dois valores\n",
    "- ( - menos ) - subtrai um valor de outro\n",
    "- ( * asterisco ) - multiplica dois valores\n",
    "- ( ** dois asteriscos ) - eleva um valor a potência de outro\n",
    "- ( / barra ) - divide um valor por outro\n",
    "- ( // barra dupla ) - divide um valor por outro (arredondando o resultado para baixo)\n",
    "- ( % porcentagem ) - calcula o resto da divisão de um valor por outro"
   ]
  },
  {
   "cell_type": "markdown",
   "metadata": {},
   "source": [
    "#### Exponenciação\n",
    "\n",
    "Os exemplos mostram uma característica muito importante de praticamente todos os operadores numéricos do Python.\n",
    "\n",
    "quando os dois ** argumentos são inteiros, o resultado também é um número inteiro;"
   ]
  },
  {
   "cell_type": "code",
   "execution_count": 1,
   "metadata": {},
   "outputs": [
    {
     "name": "stdout",
     "output_type": "stream",
     "text": [
      "8\n"
     ]
    }
   ],
   "source": [
    "print(2 ** 3)  # 8"
   ]
  },
  {
   "cell_type": "markdown",
   "metadata": {},
   "source": [
    "Quando pelo menos um argumento ** é um float, o resultado também é um float."
   ]
  },
  {
   "cell_type": "code",
   "execution_count": 2,
   "metadata": {},
   "outputs": [
    {
     "name": "stdout",
     "output_type": "stream",
     "text": [
      "8.0\n",
      "8.0\n",
      "8.0\n"
     ]
    }
   ],
   "source": [
    "print(2 ** 3.)  # 8.0\n",
    "print(2. ** 3)  # 8.0\n",
    "print(2. ** 3.)  # 8.0"
   ]
  },
  {
   "cell_type": "markdown",
   "metadata": {},
   "source": [
    "#### Multiplicação\n",
    "\n",
    "Um sinal de * (asterisco) é um operador de multiplicação.\n",
    "\n",
    "Nota: Esse operador também tem age em strings."
   ]
  },
  {
   "cell_type": "code",
   "execution_count": 3,
   "metadata": {},
   "outputs": [
    {
     "name": "stdout",
     "output_type": "stream",
     "text": [
      "6\n",
      "6.0\n",
      "6.0\n",
      "6.0\n",
      "OiOiOiOiOi\n"
     ]
    }
   ],
   "source": [
    "print(2 * 3)  # 6\n",
    "print(2 * 3.)  # 6.0\n",
    "print(2. * 3)  # 6.0\n",
    "print(2. * 3.)  # 6.0\n",
    "\n",
    "print('Oi' * 5)  # * Multiplica o texto"
   ]
  },
  {
   "cell_type": "markdown",
   "metadata": {},
   "source": [
    "#### Divisão\n",
    "\n",
    "Um sinal / (barra) é um operador de divisão.\n",
    "O valor na frente da barra é um dividendo, o valor atrás da barra, um divisor."
   ]
  },
  {
   "cell_type": "code",
   "execution_count": null,
   "metadata": {},
   "outputs": [],
   "source": [
    "print(6 / 3)  # 2.0\n",
    "print(6 / 3.)  # 2.0\n",
    "print(6. / 3)  # 2.0\n",
    "print(6. / 3.)  # 2.0"
   ]
  },
  {
   "cell_type": "markdown",
   "metadata": {},
   "source": [
    "O resultado produzido pelo operador de divisão é sempre um float, independentemente de parecer ou não ser um flutuante à primeira vista: 1 / 2, ou se parece com um inteiro puro: 2 / 1.\n",
    "\n",
    "Isso é um problema? Sim, o limite continua igual. Às vezes acontece que você realmente precisa de uma divisão que forneça um valor inteiro, não um valor flutuante.\n",
    "\n",
    "Felizmente, o Python pode ajudá-lo com isso."
   ]
  },
  {
   "cell_type": "markdown",
   "metadata": {},
   "source": [
    "#### Divisão de número inteiro (divisão arredondada)\n",
    "\n",
    "Um sinal // (barra dupla) é um operador de divisão inteira. Difere do padrão / operador em dois detalhes:\n",
    "\n",
    "- Seu resultado não possui a parte fracionária ‒ está ausente (para inteiros), ou é sempre igual a zero (para flutuantes); isso significa que os resultados são sempre arredondados;\n",
    "- Aplica-se a regra integer vs. float."
   ]
  },
  {
   "cell_type": "code",
   "execution_count": null,
   "metadata": {},
   "outputs": [],
   "source": [
    "# Como você pode ver, a divisão de inteiro por inteiro dá um resultado inteiro.\n",
    "print(6 // 3)  # 2\n",
    "\n",
    "# Todos os outros casos produzem floats.\n",
    "print(6 // 3.)  # 2.0\n",
    "print(6. // 3)  # 2.0\n",
    "print(6. // 3.)  # 2.0"
   ]
  },
  {
   "cell_type": "markdown",
   "metadata": {},
   "source": [
    "Observe o trecho a seguir:\n",
    "\n",
    "Obtemos dois uns - um inteiro e um flutuador."
   ]
  },
  {
   "cell_type": "code",
   "execution_count": null,
   "metadata": {},
   "outputs": [],
   "source": [
    "print(6 // 4)  # 1\n",
    "print(6. // 4)  # 1.0"
   ]
  },
  {
   "cell_type": "markdown",
   "metadata": {},
   "source": [
    "O resultado da divisão do número inteiro é sempre arredondado para o valor inteiro mais próximo que é menor que o resultado real (não arredondado).\n",
    "\n",
    "Isso é muito importante: o arredondamento sempre vai para o número inteiro menor.\n",
    "\n",
    "Imagine que usamos / em vez de // - você poderia prever os resultados?"
   ]
  },
  {
   "cell_type": "code",
   "execution_count": null,
   "metadata": {},
   "outputs": [],
   "source": [
    "print(6 / 4)  # 1.5\n",
    "print(6. / 4)  # 1.5"
   ]
  },
  {
   "cell_type": "markdown",
   "metadata": {},
   "source": [
    "Observe o código abaixo e tente prever os resultados mais uma vez:"
   ]
  },
  {
   "cell_type": "code",
   "execution_count": null,
   "metadata": {},
   "outputs": [],
   "source": [
    "print(-6 // 4)  # -2\n",
    "print(6. // -4)  # -2.0"
   ]
  },
  {
   "cell_type": "markdown",
   "metadata": {},
   "source": [
    "O resultado é dois pares negativos. O resultado real (não arredondado) é -1,5 em ambos os casos. No entanto, os resultados são sujeitos a arredondamento. O arredondamento vai em direção ao valor inteiro menor, e o valor inteiro menor é -2, portanto: -2 e -2.0."
   ]
  },
  {
   "cell_type": "code",
   "execution_count": null,
   "metadata": {},
   "outputs": [],
   "source": [
    "# Note a diferença em relação à divisão tradicional\n",
    "print(-6 / 4)  # -1.5\n",
    "print(6 / -4)  # -1.5"
   ]
  },
  {
   "cell_type": "markdown",
   "metadata": {},
   "source": [
    "#### Restante (módulo)\n",
    "\n",
    "Sua representação gráfica em Python é o sinal de % (percentual), que pode parecer um pouco confuso. O resultado do operador é o restante após a divisão do número inteiro. Em outras palavras, é o valor que falta após dividir um valor por outro para produzir um quociente inteiro."
   ]
  },
  {
   "cell_type": "code",
   "execution_count": null,
   "metadata": {},
   "outputs": [],
   "source": [
    "\n",
    "print(14 % 4)  # 2"
   ]
  },
  {
   "cell_type": "markdown",
   "metadata": {},
   "source": [
    "Como você pode ver, o resultado é dois. É por isso que:\n",
    "\n",
    "14 // 4 dá 3 → este é o quociente inteiro;\n",
    "\n",
    "3 * 4 dá 12 → como resultado da multiplicação de quociente e divisor;\n",
    "\n",
    "14 - 12 dá 2 → este é o restante.\n",
    "\n",
    "Este exemplo é um pouco mais complicado.\n",
    "\n",
    "Qual é o resultado?"
   ]
  },
  {
   "cell_type": "code",
   "execution_count": null,
   "metadata": {},
   "outputs": [],
   "source": [
    "print(12 % 4.5)"
   ]
  },
  {
   "cell_type": "markdown",
   "metadata": {},
   "source": [
    "3.0 – não 3, mas 3,0.\n",
    "\n",
    "A regra ainda funciona: 12 dividido por 4,5 dá 2,6666666666666665.\n",
    "\n",
    "- O quociente é 2.\n",
    "- O produto de 2 e 4,5 é 9.\n",
    "- O restante é 12 - 9 = 3,0\n",
    "- O resultado é um float porque um dos operandos é um float."
   ]
  },
  {
   "cell_type": "markdown",
   "metadata": {},
   "source": [
    "#### Como não dividir\n",
    "\n",
    "Como você provavelmente sabe, a divisão por zero não funciona.\n",
    "\n",
    "Não tente:\n",
    "- realizar uma divisão por zero;\n",
    "- realizar uma divisão inteira por zero;\n",
    "- encontrar o resto de uma divisão por zero\n"
   ]
  },
  {
   "cell_type": "markdown",
   "metadata": {},
   "source": [
    "#### Adição\n",
    "\n",
    "O operador de adição é o sinal de + (mais), totalmente conforme os padrões matemáticos quando usado com valores do tipo int ou float."
   ]
  },
  {
   "cell_type": "code",
   "execution_count": 3,
   "metadata": {},
   "outputs": [
    {
     "name": "stdout",
     "output_type": "stream",
     "text": [
      "2\n"
     ]
    }
   ],
   "source": [
    "print(1 + 1)  # 2"
   ]
  },
  {
   "cell_type": "markdown",
   "metadata": {},
   "source": [
    "Lembre-se. O operador + também pode ser usado com valores string como operador de concatenação que une os caracteres."
   ]
  },
  {
   "cell_type": "code",
   "execution_count": 1,
   "metadata": {},
   "outputs": [
    {
     "name": "stdout",
     "output_type": "stream",
     "text": [
      "OiOlá\n"
     ]
    }
   ],
   "source": [
    "print('Oi' + 'Olá')  # + Concatenação"
   ]
  },
  {
   "cell_type": "markdown",
   "metadata": {},
   "source": [
    "#### O operador de subtração: operadores unários e binários\n",
    "\n",
    "O operador de subtração é obviamente o sinal - (menos), embora você deva notar que esse operador também tem outro significado - ele pode alterar o sinal de um número.\n",
    "\n",
    "Esta é uma grande oportunidade para apresentar uma distinção muito importante entre operadores unários e binários.\n",
    "\n",
    "Ao subtrair aplicações, o operador menos espera dois argumentos: \n",
    "\n",
    "o esquerdo (um minuendo em termos aritméticos) e o direito (um subtraendo).\n",
    "\n",
    "Por esta razão, o operador de subtração é considerado um dos operadores binários, assim como os operadores de adição, multiplicação e divisão.\n",
    "\n",
    "Mas o operador menos pode ser usado de uma forma diferente (unária) ‒ dê uma olhada na última linha do trecho abaixo:"
   ]
  },
  {
   "cell_type": "code",
   "execution_count": null,
   "metadata": {},
   "outputs": [],
   "source": [
    "print(-4 - 4)   # -8 - operador binário: subtração\n",
    "print(4. - 8)  # -4.0 - operador binário: subtração\n",
    "print(-1.1)   # -1.1 - operador unário: altera o sinal do operando"
   ]
  },
  {
   "cell_type": "markdown",
   "metadata": {},
   "source": [
    "#### Operadores e suas prioridades\n",
    "\n",
    "O fenômeno que faz com que alguns operadores ajam antes de outros é conhecido como a hierarquia de prioridades.\n",
    "\n",
    "O Python define com precisão as prioridades de todos os operadores e assume que os operadores de prioridade mais alta executam suas operações antes dos operadores de prioridade mais baixa.\n",
    "\n",
    ">**\t\n",
    ">\n",
    ">+, - unário\n",
    ">\n",
    ">*, /, //, %\t\n",
    ">\n",
    ">+, -\tbinário"
   ]
  },
  {
   "cell_type": "markdown",
   "metadata": {},
   "source": [
    "#### Operadores e suas ligações\n",
    "\n",
    "A ligação do operador determina a ordem das computações executadas por alguns operadores com igual prioridade, colocados lado a lado em uma expressão.\n",
    "A maioria dos operadores do Python tem ligação do lado esquerdo, o que significa que o cálculo da expressão é realizado da esquerda para a direita."
   ]
  },
  {
   "cell_type": "code",
   "execution_count": null,
   "metadata": {},
   "outputs": [],
   "source": [
    "print(9 % 6 % 2)  # 1"
   ]
  },
  {
   "cell_type": "markdown",
   "metadata": {},
   "source": [
    "Há duas maneiras possíveis de avaliar essa expressão:\n",
    "\n",
    "da esquerda para a direita: primeiro 9 % 6 dá 3, e então 3 % 2 dá 1;\n",
    "\n",
    "da direita para a esquerda: primeiro 6 % 2 dá 0 e depois 9 % 0 causa um erro fatal.\n",
    "\n",
    "O resultado deve ser 1. Este operador tem ligação do lado esquerdo.\n",
    "\n",
    "Mas há uma exceção interessante.\n",
    "\n",
    "2 ** 2 ** 3  # 256\n",
    "\n",
    "Os dois resultados possíveis são:\n",
    "\n",
    "2 ** 2 → 4; 4 ** 3 → 64\n",
    "\n",
    "2 ** 3 → 8; 2 ** 8 → 256\n",
    "\n",
    "O resultado mostra claramente que o operador de exponenciação usa a associação do lado direito"
   ]
  },
  {
   "cell_type": "code",
   "execution_count": 5,
   "metadata": {},
   "outputs": [
    {
     "name": "stdout",
     "output_type": "stream",
     "text": [
      "256\n"
     ]
    }
   ],
   "source": [
    "print(2 ** 2 ** 3)  # 256"
   ]
  },
  {
   "cell_type": "markdown",
   "metadata": {},
   "source": [
    "Observação: operadores unários localizados ao lado direito do operador de potência se vinculam mais fortemente\n",
    "\n",
    "Exemplo:"
   ]
  },
  {
   "cell_type": "code",
   "execution_count": null,
   "metadata": {},
   "outputs": [],
   "source": [
    "print(-3 ** 2)  # -9 - o operador unário - é aplicado depois do operador de potência.\n",
    "# de forma explicita seria como: -(3 ** 2)\n",
    "\n",
    "print((-3) ** 2) # 9 - o operador unário - é aplicado antes do operador de potência (o parêntese é usado para alterar a prioridade)\n",
    "# de forma explicita seria como: (-3) ** 2\n",
    "# -3 * -3 = 9 - sinais iguais na multiplicação resultam em um número positivo\n",
    "\n",
    "# caso fosse (-3) ** 3 o resultado seria -27 pois teríamos (-3 * -3) * -3 = +9 * -3 = -27\n",
    "# sinais diferentes na multiplicação resultam em um número negativo"
   ]
  },
  {
   "cell_type": "markdown",
   "metadata": {},
   "source": [
    "#### Operadores e parênteses\n",
    "\n",
    "Claro, você sempre pode usar parênteses, o que pode alterar a ordem natural de um cálculo.\n",
    "\n",
    "Conforme as regras aritméticas, sub-expressões entre parênteses são sempre calculadas primeiro."
   ]
  },
  {
   "cell_type": "code",
   "execution_count": null,
   "metadata": {},
   "outputs": [],
   "source": [
    "print((5 * ((25 % 13) + 100) / (2 * 13)) // 2)  # 10.0"
   ]
  },
  {
   "cell_type": "markdown",
   "metadata": {},
   "source": [
    "### Operadores de comparação\n",
    "\n",
    "Pergunta: os dois valores são iguais?\n",
    "\n",
    "Para fazer essa pergunta, você usa o operador == (igual a).\n",
    "\n",
    "Não se esqueça dessa importante distinção:\n",
    "\n",
    "- = é um operador de atribuição, por exemplo: \"a = b\" atribui a variável \"a\" com o valor de b;"
   ]
  },
  {
   "cell_type": "markdown",
   "metadata": {},
   "source": [
    "#### Operador Relacional de Igualdade (==)\n",
    "\n",
    "É um operador binário com ligação do lado esquerdo. Ela precisa de dois argumentos e verifica se são iguais.\n",
    "\n",
    "O operador == (igual a) compara os valores de dois operandos. Se forem iguais, o resultado da comparação é True. Se eles não forem iguais, o resultado da comparação é False."
   ]
  },
  {
   "cell_type": "code",
   "execution_count": null,
   "metadata": {},
   "outputs": [],
   "source": [
    "# Pregunta #1: Qual é o resultado da comparação a seguir?\n",
    "print(2 == 2)\n",
    "\n",
    "# Resposta: True - claro, 2 é igual a 2. Python responderá True."
   ]
  },
  {
   "cell_type": "code",
   "execution_count": null,
   "metadata": {},
   "outputs": [],
   "source": [
    "# Pregunta #2: Qual é o resultado da comparação a seguir?\n",
    "print(2 == 2.)\n",
    "\n",
    "# Resposta: True - Python não se importa se você usa um ponto decimal ou não. O valor absoluto é o mesmo."
   ]
  },
  {
   "cell_type": "code",
   "execution_count": null,
   "metadata": {},
   "outputs": [],
   "source": [
    "# Pergunta #3: Qual é o resultado da comparação a seguir?\n",
    "print(2 == '2')\n",
    "\n",
    "# Resposta: False - um valor inteiro não é igual a uma string."
   ]
  },
  {
   "cell_type": "code",
   "execution_count": null,
   "metadata": {},
   "outputs": [],
   "source": [
    "valor_esquerdo = 2\n",
    "valor_direito = 2\n",
    "\n",
    "print(valor_esquerdo == valor_direito) "
   ]
  },
  {
   "cell_type": "markdown",
   "metadata": {},
   "source": [
    "Podemos usar comparações para verificar se uma string é igual ou diferente de outra string.\n",
    "\n",
    "Para verificar se uma string é igual a outra, utilizamos o operador de igualdade (==).\n",
    "\n",
    "Se a string da esquerda for igual à string da direita o resultado é True. Se não, o resultado e False."
   ]
  },
  {
   "cell_type": "code",
   "execution_count": null,
   "metadata": {},
   "outputs": [],
   "source": [
    "print('online' == 'online')  # True\n",
    "print('online' == 'ONLINE')  # False - Pois as letras maiúsculas e minúsculas são diferentes."
   ]
  },
  {
   "cell_type": "markdown",
   "metadata": {},
   "source": [
    "#### Desigualdade: o operador de desigualdade (!=)\n",
    "\n",
    "O operador \"!=\" (Não é igual a ou diferente de) também compara os valores de dois operandos.\n",
    "\n",
    "Aqui está a diferença: se eles são iguais, o resultado da comparação é False. Se eles não forem iguais, o resultado da comparação é True."
   ]
  },
  {
   "cell_type": "code",
   "execution_count": null,
   "metadata": {},
   "outputs": [],
   "source": [
    "print(valor_esquerdo != valor_direito)"
   ]
  },
  {
   "cell_type": "markdown",
   "metadata": {},
   "source": [
    "Para verificar se uma string não é igual (ou diferente) de outra, utilizamos o operador de desigualdade (!=)\n",
    "Se a string da esquerda for diferente da string da direita, o resultado é True. Se não, o resultado é False."
   ]
  },
  {
   "cell_type": "code",
   "execution_count": null,
   "metadata": {},
   "outputs": [],
   "source": [
    "print('online' != 'offline')  # True\n",
    "print('online' != 'online')  # False\n",
    "print('online' != 'ONLINE')  # True"
   ]
  },
  {
   "cell_type": "markdown",
   "metadata": {},
   "source": [
    "Também podemos comparar variáveis que armazenam strings entre sí."
   ]
  },
  {
   "cell_type": "code",
   "execution_count": null,
   "metadata": {},
   "outputs": [],
   "source": [
    "fruta_1 = 'Maçã'\n",
    "fruta_2 = 'Laranja'\n",
    "\n",
    "print(fruta_1 == fruta_2)  # False\n",
    "print(fruta_1 != fruta_2)  # True"
   ]
  },
  {
   "cell_type": "markdown",
   "metadata": {},
   "source": [
    "#### Comparando números - Operadores de comparação\n",
    "\n",
    "Podemos usar comparações para verificar se um número é menor ou maior que outro número.\n",
    "\n",
    "Para isso utilizamos os operadores < (menor que) e > (maior que) que retornam True ou False."
   ]
  },
  {
   "cell_type": "code",
   "execution_count": null,
   "metadata": {},
   "outputs": [],
   "source": [
    "print(1 < 10)  # Se o número da esquerda for menor que o da direita, o resultado será True.\n",
    "print(10 < 1)  # Se o número da esquerda não for menor que o da direita, o resultado será False.\n",
    "\n",
    "print(1 > 10)  # Se o número da esquerda não for maior que o da direita, o resultado será False.\n",
    "print(10 > 1)  # Se o número da esquerda for maior que o da direita, o resultado será True."
   ]
  },
  {
   "cell_type": "markdown",
   "metadata": {},
   "source": [
    "Caso os números sejam iguais retornará False em todos os casos!"
   ]
  },
  {
   "cell_type": "code",
   "execution_count": null,
   "metadata": {},
   "outputs": [],
   "source": [
    "print(1 > 1) # False\n",
    "print(1 < 1) # False"
   ]
  },
  {
   "cell_type": "markdown",
   "metadata": {},
   "source": [
    "#### Verificando a igualdade\n",
    "\n",
    "Para verificar se um número é menor ou igual ou se é menor ou igual a outro, usamos os operadores <= ou >=\n",
    "\n",
    "Agora verificamos duas possibilidades, se o número é menor ou igual ou se é menor ou igual a outro."
   ]
  },
  {
   "cell_type": "code",
   "execution_count": null,
   "metadata": {},
   "outputs": [],
   "source": [
    "print(1 >= 1) # True\n",
    "print(1 <= 1) # True"
   ]
  },
  {
   "cell_type": "markdown",
   "metadata": {},
   "source": [
    "Assim como podemos comparar variáveis umas com as outras.\n",
    "\n",
    "Podemos armazenar o resultado das comparações em variáveis."
   ]
  },
  {
   "cell_type": "code",
   "execution_count": null,
   "metadata": {},
   "outputs": [],
   "source": [
    "menor_valor = 1\n",
    "maior_valor = 11\n",
    "\n",
    "resultado = menor_valor <= maior_valor\n",
    "\n",
    "print(resultado)"
   ]
  },
  {
   "cell_type": "markdown",
   "metadata": {},
   "source": [
    "### Operadores lógicos\n",
    "\n",
    "É claro que o Python deve ter operadores para criar conjunções e disjunções. Sem eles, o poder expressivo da linguagem seria substancialmente enfraquecido. Eles são chamados de operadores lógicos.\n",
    "\n",
    "Conjunção (AND)\n",
    "\n",
    "Se tivermos tempo livre, e se o tempo estiver bom, vamos dar uma volta.\n",
    "\n",
    "Usamos a conjunção and, o que significa que sair para passear depende do cumprimento simultâneo dessas duas condições.\n",
    "\n",
    "Disjunção (OR)\n",
    "\n",
    "Se você for ao supermercado ou ao açougue, compre carne.\n",
    "A aparência da palavra or significa que a compra depende de pelo menos uma dessas condições."
   ]
  },
  {
   "cell_type": "markdown",
   "metadata": {},
   "source": [
    "#### O operador and\n",
    "\n",
    "Um operador de conjunção lógica em Python é a palavra and. É um operador binário com uma prioridade menor do que a expressa pelos operadores de comparação. Ela nos permite codificar condições complexas.\n",
    "\n",
    "Vejamos como os programas atuam em decisões complexas. Sabemos como executar ou pular código como base em uma condição. Mas e se quiséssemos verificar duas ou mais condições?\n",
    "\n",
    "O operador and nos permite executar código somente se ambas as condições forem True. Ele ignora o bloco de código se uma ou mais condições forem False.\n"
   ]
  },
  {
   "cell_type": "code",
   "execution_count": 6,
   "metadata": {},
   "outputs": [
    {
     "name": "stdout",
     "output_type": "stream",
     "text": [
      "True\n"
     ]
    }
   ],
   "source": [
    "x = 1\n",
    "\n",
    "# o valor de x é maior ou igual a 1 e menor ou igual a 10?\n",
    "print(x >= 1 and x <= 10)\n",
    "\n",
    "# Se x estiver entre 1 e 10, o resultado será True. Caso contrário, será False."
   ]
  },
  {
   "cell_type": "markdown",
   "metadata": {},
   "source": [
    "O resultado fornecido pelo operador and pode ser determinado com base na tabela verdade.\n",
    "\n",
    "OPERADOR AND (e) - Ambos precisam ser True\n",
    "\n",
    "- TRUE + TRUE = TRUE\n",
    "- TRUE + FALSE = FALSE\n",
    "- FALSE + TRUE = FALSE\n",
    "- FALSE + FALSE = FALSE"
   ]
  },
  {
   "cell_type": "markdown",
   "metadata": {},
   "source": [
    "#### O operador or\n",
    "\n",
    "Um operador de disjunção é a palavra or. É um operador binário com uma prioridade menor do que and (assim como + em comparação com *).\n",
    "\n",
    "Para executar o código quando uma das condições for True, usamos o operador or (ou). Com ele, o código só será ignorado se todas as condições forem False.\n",
    "\n",
    "OPERADOR OR (ou) - Pelo menos um precisa ser True\n",
    "\n",
    "- TRUE + TRUE = TRUE\n",
    "- TRUE + FALSE = TRUE\n",
    "- FALSE + TRUE = TRUE\n",
    "- FALSE + FALSE = FALSE"
   ]
  },
  {
   "cell_type": "code",
   "execution_count": 9,
   "metadata": {},
   "outputs": [
    {
     "name": "stdout",
     "output_type": "stream",
     "text": [
      "True\n"
     ]
    }
   ],
   "source": [
    "x = 11\n",
    "\n",
    "# o valor de x é maior ou igual a 1 ou menor ou igual a 10?\n",
    "print(x >= 1 or x <= 10)"
   ]
  },
  {
   "cell_type": "markdown",
   "metadata": {},
   "source": [
    "### Bases numéricas\n",
    "\n",
    "Números octais e hexadecimais\n",
    "\n",
    "Se um inteiro for precedido por um prefixo 0O ou 0o (zero-o), ele será tratado como um valor octal. Isso significa que o número deve conter dígitos retirados apenas do intervalo 0 a 7.\n",
    "\n",
    "0o123 é um número octal com um valor (decimal) igual a 83.\n",
    "\n",
    "A função print() faz a conversão automaticamente."
   ]
  },
  {
   "cell_type": "code",
   "execution_count": null,
   "metadata": {},
   "outputs": [],
   "source": [
    "print(0o123)\n",
    "print(int('0123', 8))  # 8 é a base do número octal (0123)"
   ]
  },
  {
   "cell_type": "markdown",
   "metadata": {},
   "source": [
    "Hexadecimais são números precedidos pelo prefixo 0x ou 0X (zero-x).\n",
    "\n",
    "0x123 é um número hexadecimal com um valor (decimal) igual a 291. \n",
    "\n",
    "A função print() também pode gerenciar esses valores."
   ]
  },
  {
   "cell_type": "code",
   "execution_count": null,
   "metadata": {},
   "outputs": [],
   "source": [
    "print(0x123)\n",
    "\n",
    "# Podemos converter um número hexadecimal em decimal usando a função int() e especificando a base do número hexadecimal (16) como segundo argumento:\n",
    "\n",
    "print(int('0x' + '123', 16))  # 16 é a base do número hexadecimal (0x123)"
   ]
  },
  {
   "cell_type": "markdown",
   "metadata": {},
   "source": [
    "Assim utilizaremos a função format() para converter um número decimal em octal ou hexadecimal.\n",
    "\n",
    "Basta especificar a base como segundo argumento da função format(). 'o' para octal e 'x' para hexadecimal."
   ]
  },
  {
   "cell_type": "code",
   "execution_count": 10,
   "metadata": {},
   "outputs": [
    {
     "name": "stdout",
     "output_type": "stream",
     "text": [
      "123\n",
      "53\n",
      "1010011\n"
     ]
    }
   ],
   "source": [
    "print(format(83, 'o'))\n",
    "print(format(83, 'x'))\n",
    "print(format(83, 'b'))"
   ]
  },
  {
   "cell_type": "markdown",
   "metadata": {},
   "source": [
    "Números binários\n",
    "\n",
    "Números binários são a base da computação moderna. Eles são usados para representar todos os tipos de dados dentro de um computador. São representados por 0 e 1, que podem ser entendidos como \"desligado\" e \"ligado\", respectivamente. Os computadores usam eletricidade para funcionar, e a eletricidade pode estar ligada ou desligada. Portanto, os computadores usam o sistema binário para representar todos os tipos de dados.\n",
    "\n",
    "Os números binários são escritos com um prefixo 0b:"
   ]
  },
  {
   "cell_type": "code",
   "execution_count": 17,
   "metadata": {},
   "outputs": [
    {
     "name": "stdout",
     "output_type": "stream",
     "text": [
      "83\n"
     ]
    },
    {
     "data": {
      "text/plain": [
       "int"
      ]
     },
     "execution_count": 17,
     "metadata": {},
     "output_type": "execute_result"
    }
   ],
   "source": [
    "print(0b1010011)\n",
    "type(0b1010011)"
   ]
  },
  {
   "cell_type": "markdown",
   "metadata": {},
   "source": [
    "As conbinações de 0 e 1 são chamadas de bits. Um bit pode ser usado para armazenar um único valor lógico. Por exemplo, 0 pode representar False e 1 pode representar True.\n",
    "\n",
    "Um grupo de 4 bits é chamado de nibble. Um nibble pode armazenar 16 valores diferentes (2 ** 4).\n",
    "\n",
    "Um nibble pode ser representado por um único dígito hexadecimal. Por exemplo, o valor hexadecimal 0xA pode ser representado como 1010 em binário.\n",
    "\n",
    "Um grupo de 2 nibbles (4 bits) é chamado de byte. Um byte pode armazenar 256 valores diferentes (2 ** 8).\n",
    "\n",
    "Um byte pode ser usado para armazenar um caractere. Por exemplo, o caractere 'A' pode ser representado como 01000001."
   ]
  },
  {
   "cell_type": "markdown",
   "metadata": {},
   "source": [
    "### ASCII\n",
    "\n",
    "Cada caractere é representado por um número inteiro, e vice-versa. O Python usa o código ASCII para isso. Você pode ver a tabela ASCII aqui: https://pt.wikipedia.org/wiki/ASCII\n",
    "\n",
    "Por exemplo, o caractere 'A' é representado pelo número 65 (01000001 em binário), 'B' pelo 66, etc.\n",
    "\n",
    "O Python tem uma função chamada ord() que retorna o código ASCII de um caractere:"
   ]
  },
  {
   "cell_type": "code",
   "execution_count": 14,
   "metadata": {},
   "outputs": [
    {
     "data": {
      "text/plain": [
       "84"
      ]
     },
     "execution_count": 14,
     "metadata": {},
     "output_type": "execute_result"
    }
   ],
   "source": [
    "ord('T')"
   ]
  },
  {
   "cell_type": "markdown",
   "metadata": {},
   "source": [
    "\n",
    "O contrário também é possível. Podemos converter um número para seu equivalente em caractere usando a função chr():"
   ]
  },
  {
   "cell_type": "code",
   "execution_count": 15,
   "metadata": {},
   "outputs": [
    {
     "data": {
      "text/plain": [
       "'T'"
      ]
     },
     "execution_count": 15,
     "metadata": {},
     "output_type": "execute_result"
    }
   ],
   "source": [
    "chr(84)"
   ]
  },
  {
   "cell_type": "markdown",
   "metadata": {},
   "source": [
    "\n",
    "Ou exibir seu correspondente binário com a função bin():\n",
    "\n",
    "bin() é uma função embutida que converte um número inteiro em sua representação binária. O resultado é uma string prefixada com 0b. \n",
    "\n",
    "Para remover o prefixo, você pode usar a função format() para converter o número em uma string e especificar o formato binário:"
   ]
  },
  {
   "cell_type": "code",
   "execution_count": 16,
   "metadata": {},
   "outputs": [
    {
     "name": "stdout",
     "output_type": "stream",
     "text": [
      "0b1010100\n",
      "1010100\n"
     ]
    }
   ],
   "source": [
    "print(bin(84))\n",
    "\n",
    "print(format(84, 'b'))"
   ]
  },
  {
   "cell_type": "markdown",
   "metadata": {},
   "source": [
    "###  Valores lógicos vs. bits únicos\n",
    "\n",
    "Os operadores lógicos recebem seus argumentos como um todo, independentemente de quantos bits eles contenham. Os operadores estão cientes apenas do valor: zero (quando todos os bits são redefinidos) significa False; diferente de zero (quando pelo menos um bit for definido) significa True.\n",
    "\n",
    "O resultado de suas operações é um desses valores: False ou True. Isso significa que esse fragmento atribuirá o valor True à variável j se i não for zero; caso contrário, será False.\n"
   ]
  },
  {
   "cell_type": "code",
   "execution_count": null,
   "metadata": {},
   "outputs": [],
   "source": [
    "i = 1\n",
    "j = not not i\n",
    "print(j)  # True\n"
   ]
  },
  {
   "cell_type": "markdown",
   "metadata": {},
   "source": [
    "#### Operadores bit a bit\n",
    "\n",
    "No entanto, existem quatro operadores que permitem manipular bits únicos de dados. Eles são chamados de operadores bit a bit.\n",
    "\n",
    "Eles abrangem todas as operações que mencionamos anteriormente no contexto lógico e um operador adicional. Este é o operador xor (as em exclusivo ou) e é indicado como ^ (circunflexo).\n",
    "\n",
    "Aqui estão todos eles:\n",
    "\n",
    "-  ( & e comercial ) - conjunção bit a bit; & requer exatamente dois 1 s para fornecer 1 como resultado;\n",
    "  \n",
    "- ( | barra ) - disjunção bit a bit; | requer pelo menos um 1 para fornecer 1 como resultado;\n",
    "\n",
    "- ( ^ circunflexo ) ‒ bit a bit exclusivo ou (xor).  ^ requer exatamente um 1 para fornecer 1 como resultado.\n",
    "  \n",
    "- ( ~ til ) - negação bit a bit;\n"
   ]
  },
  {
   "cell_type": "code",
   "execution_count": null,
   "metadata": {},
   "outputs": [],
   "source": [
    "# Operações bit a bit (& , | , e ^ ) - conjunção bit a bit, disjunção bit a bit e bit a bit exclusivo ou (xor)\n",
    "\n",
    "# A\tB  A & B  A | B  A ^ B\n",
    "# 0\t0\t   0   \t  0      0\n",
    "# 0\t1\t   0\t    1\t     1\n",
    "# 1\t0\t   0\t   \t1\t   \t 1\n",
    "# 1\t1\t   1\t \t \t1\t   \t 0\n",
    "\n",
    "# Operações bit a bit (~ ) - negação bit a bit\n",
    "# A   ~  \n",
    "# 0\t  1\n",
    "# 1\t  0"
   ]
  },
  {
   "cell_type": "markdown",
   "metadata": {},
   "source": [
    "Vamos acrescentar uma observação importante: os argumentos desses operadores devem ser números inteiros; não devemos usar carros alegóricos aqui.\n",
    "\n",
    "A diferença na operação dos operadores lógicos e de bit é importante: os operadores lógicos não penetram no nível de bit de seu argumento. Eles estão interessados apenas no valor inteiro final.\n",
    "\n",
    "Os operadores de bit a bit são mais rigorosos: eles lidam com cada bit separadamente. Se assumirmos que a variável inteira ocupa 64 bits (o que é comum em sistemas de computadores modernos), você pode imaginar a operação bit a bit como uma avaliação de 64 vezes do operador lógico para cada par de bits dos argumentos. Essa analogia é obviamente imperfeita, pois no mundo real todas essas 64 operações são realizadas ao mesmo tempo (simultaneamente)."
   ]
  },
  {
   "cell_type": "markdown",
   "metadata": {},
   "source": [
    "#### Operações lógicas x operações de bit\n",
    "\n",
    "Se assumirmos que os números inteiros são armazenados com 32 bits, a imagem bit a bit das duas variáveis será a seguinte:"
   ]
  },
  {
   "cell_type": "code",
   "execution_count": null,
   "metadata": {},
   "outputs": [],
   "source": [
    "i = 15\n",
    "j = 22\n",
    "\n",
    "# i = 00000000 00000000 00000000 00001111\n",
    "# j = 00000000 00000000 00000000 00010110"
   ]
  },
  {
   "cell_type": "code",
   "execution_count": null,
   "metadata": {},
   "outputs": [],
   "source": [
    "# A tarefa é dada:\n",
    "log = i and j\n",
    "print(log)"
   ]
  },
  {
   "cell_type": "code",
   "execution_count": null,
   "metadata": {},
   "outputs": [],
   "source": [
    "# Agora, a operação bit a bit - aqui está:\n",
    "bit = i & j\n",
    "print(bit)"
   ]
  },
  {
   "cell_type": "markdown",
   "metadata": {},
   "source": [
    "O operador & operará com cada par de bits correspondentes separadamente, produzindo os valores dos bits relevantes do resultado. Portanto, o resultado será o seguinte:\n",
    "\n",
    "& requer exatamente dois 1 s para fornecer 1 como resultado;\n",
    "\n",
    "i 00001111\n",
    "\n",
    "j 00010110\n",
    "\n",
    "bit = i & j\n",
    "\n",
    "000000110\n",
    "\n",
    "Esses bits correspondem ao valor inteiro de seis."
   ]
  },
  {
   "cell_type": "markdown",
   "metadata": {},
   "source": [
    "Vejamos os operadores de negação agora. Primeiro a lógica:"
   ]
  },
  {
   "cell_type": "code",
   "execution_count": null,
   "metadata": {},
   "outputs": [],
   "source": [
    "logneg = not i # A variável logneg será definida como False - nada mais precisa ser feito.\n",
    "print(logneg)"
   ]
  },
  {
   "cell_type": "markdown",
   "metadata": {},
   "source": [
    "\n",
    "A negação bit a bit é assim:"
   ]
  },
  {
   "cell_type": "code",
   "execution_count": null,
   "metadata": {},
   "outputs": [],
   "source": [
    "bitneg = ~i # A variável bitneg será definida como -16."
   ]
  },
  {
   "cell_type": "markdown",
   "metadata": {},
   "source": [
    "Pode ser um pouco surpreendente: o valor da variável bitneg é -16. \n",
    "\n",
    "Isso pode parecer estranho, mas não é. O valor inteiro -16 é representado em binário como 11111111111111111111111111110000.\n",
    "\n",
    "A negação bit a bit de 00000000000000000000000000001111 é 11111111111111111111111111110000."
   ]
  },
  {
   "cell_type": "markdown",
   "metadata": {},
   "source": [
    "Cada um desses operadores de dois argumentos pode ser usado de forma abreviada. Estes são os exemplos de notações equivalentes:\n",
    "\n",
    "x = x & y\n",
    "\n",
    "x &= y\n",
    "\n",
    "x = x | y\n",
    "\n",
    "x |= y\n",
    "\n",
    "x = x ^ y\n",
    "\n",
    "x ^= y"
   ]
  },
  {
   "cell_type": "markdown",
   "metadata": {},
   "source": [
    "#### Como lidamos com bits únicos?\n",
    "\n",
    "Vamos mostrar para que você pode usar operadores bit a bit. Imagine que você é um desenvolvedor obrigado a escrever uma parte importante de um sistema operacional. Você foi informado de que pode usar uma variável atribuída da seguinte maneira:"
   ]
  },
  {
   "cell_type": "code",
   "execution_count": null,
   "metadata": {},
   "outputs": [],
   "source": [
    "flag_register = 0x1234"
   ]
  },
  {
   "cell_type": "markdown",
   "metadata": {},
   "source": [
    "A variável armazena as informações sobre vários aspectos da operação do sistema. Cada bit da variável armazena um valor sim/não. Você também foi informado de que apenas um desses bits é seu - o terceiro (lembre-se de que os bits são numerados de zero, e o número de bits zero é o mais baixo, enquanto o mais alto é o número 31). Os bits restantes não têm permissão para alterar, porque pretendem armazenar outros dados. Aqui está o seu bit marcado com a letra x: \n",
    "\n",
    "flag_register = 0000000000000000000000000000x000"
   ]
  },
  {
   "cell_type": "markdown",
   "metadata": {},
   "source": [
    "Você pode se deparar com as seguintes tarefas:\n",
    "\n",
    "1. Verifique o estado do seu bit - você quer descobrir o valor do seu bit; comparar a variável inteira com zero não fará nada, porque os bits restantes podem ter valores completamente imprevisíveis, mas você pode usar a seguinte propriedade de conjunção:\n",
    "\n",
    "x & 1 = x\n",
    "\n",
    "x & 0 = 0\n",
    "\n",
    "Se você aplicar a operação & à variável flag_register junto com a seguinte imagem de bit:\n",
    "\n",
    "00000000000000000000000000001000\n",
    "\n",
    "(observe o 1 na posição do bit), como resultado, você obtém uma das seguintes cadeias de bits:\n",
    "\n",
    "00000000000000000000000000001000 se o bit foi definido como 1\n",
    "\n",
    "00000000000000000000000000000000 se o bit foi redefinido para 0\n",
    "\n",
    "Essa sequência de zeros e uns, cuja tarefa é capturar o valor ou alterar os bits selecionados, é chamada de máscara de bit.\n",
    "\n",
    "Vamos construir uma máscara de bit para detectar o estado do bit. Deve apontar para o terceiro bit. Esse bit tem o peso de 23 = 8. Uma máscara adequada pode ser criada pela seguinte declaração:"
   ]
  },
  {
   "cell_type": "code",
   "execution_count": null,
   "metadata": {},
   "outputs": [],
   "source": [
    "the_mask = 8\n",
    "\n",
    "# Você também pode fazer uma sequência de instruções, dependendo do estado do seu bit. Aqui está:\n",
    "if flag_register & the_mask:\n",
    "    print(\"Bit 3 está ligado\")\n",
    "else:\n",
    "    print(\"Bit 3 está desligado\")"
   ]
  },
  {
   "cell_type": "markdown",
   "metadata": {},
   "source": [
    "2. Redefinir seu bit - você atribui um zero ao bit enquanto todos os outros bits devem permanecer inalterados; vamos usar a mesma propriedade da conjunção como antes, mas vamos usar uma máscara ligeiramente diferente, exatamente como abaixo:\n",
    "\n",
    "11111111111111111111111111110111\n",
    "\n",
    "Observe que a máscara foi criada como resultado da negação de todos os bits da variável the_mask. Redefinir o bit é simples, e fica assim (escolha o que você mais gosta):"
   ]
  },
  {
   "cell_type": "code",
   "execution_count": null,
   "metadata": {},
   "outputs": [],
   "source": [
    "flag_register = flag_register & ~the_mask\n",
    "flag_register &= ~the_mask"
   ]
  },
  {
   "cell_type": "markdown",
   "metadata": {},
   "source": [
    "3. Defina seu bit - você atribui um 1 ao bit, enquanto todos os bits restantes devem permanecer inalterados; use a seguinte propriedade de disjunção:\n",
    "\n",
    "x | 1 = 1\n",
    "\n",
    "x | 0 = x\n",
    "\n",
    "Você está pronto para definir o seu bit com uma das seguintes instruções:"
   ]
  },
  {
   "cell_type": "code",
   "execution_count": null,
   "metadata": {},
   "outputs": [],
   "source": [
    "flag_register = flag_register | the_mask\n",
    "flag_register |= the_mask"
   ]
  },
  {
   "cell_type": "markdown",
   "metadata": {},
   "source": [
    "4. Negue sua parte - você substitui um 1 por um 0 e um 0 por um 1. Você pode usar uma propriedade interessante do operador xor:\n",
    "\n",
    "x ^ 1 = ~x\n",
    "\n",
    "x ^ 0 = x\n",
    "\n",
    "e negue sua parte com as seguintes instruções:"
   ]
  },
  {
   "cell_type": "code",
   "execution_count": null,
   "metadata": {},
   "outputs": [],
   "source": [
    "flag_register = flag_register ^ the_mask\n",
    "flag_register ^= the_mask"
   ]
  },
  {
   "cell_type": "markdown",
   "metadata": {},
   "source": [
    "#### Deslocamento binário para a esquerda e deslocamento binário para a direita\n",
    "\n",
    "O Python oferece ainda outra operação relacionada a bits únicos: deslocamento. Isso é aplicado apenas a valores inteiros, e você não deve usar carros alegóricos como argumentos para ele.\n",
    "\n",
    "Você já aplica essa operação com muita frequência e inconsciência. Como você multiplica um número por dez? Dê uma olhada:\n",
    "\n",
    "12345 * 10 = 123450\n",
    "\n",
    "Como você pode ver, multiplicar por dez é, na verdade, um deslocamento de todos os dígitos para a esquerda e preencher a lacuna resultante com zero.\n",
    "\n",
    "Divisão por dez? Dê uma olhada:\n",
    "12340 / 10 = 1234\n",
    "\n",
    "Dividir por dez nada mais é do que mudar os dígitos para a direita.\n",
    "\n",
    "O mesmo tipo de operação é realizado pelo computador, mas com uma diferença: como dois é a base para números binários (não 10), deslocar um valor um bit para a esquerda corresponde à multiplicação por dois; respectivamente, mudar um bit para a direita é como dividir por dois (observe que o bit mais à direita está perdido).\n",
    "\n",
    "Os operadores de deslocamento em Python são um par de dígrafos: << e >>, sugerindo claramente em qual direção o deslocamento vai agir.\n",
    "\n",
    "valor << bits\n",
    "\n",
    "valor >> bits\n",
    "\n",
    "O argumento à esquerda desses operadores é um valor inteiro cujos bits são deslocados. O argumento certo determina o tamanho do turno. Ela mostra que essa operação certamente não é comutativa."
   ]
  },
  {
   "cell_type": "code",
   "execution_count": null,
   "metadata": {},
   "outputs": [],
   "source": [
    "var = 17\n",
    "# 00000000000000000000000000010001 - 17\n",
    "var_right = var >> 1\n",
    "# 00000000000000000000000000001000 - 8\n",
    "var_left = var << 2\n",
    "# 00000000000000000000000001000100 - 68\n",
    "print(var, var_left, var_right)\n",
    "# 17 68 8"
   ]
  },
  {
   "cell_type": "markdown",
   "metadata": {},
   "source": [
    "17 >> 1 → 17 // 2 (17 piso dividido por 2 à potência de 1) → 8 (deslocar para a direita por um bit é igual a divisão inteira por dois)\n",
    "\n",
    "17 << 2 → 17 * 4 (17 multiplicado por 2 à potência de 2) → 68 (deslocar para a esquerda por dois bits é igual a multiplicação do número inteiro por quatro)"
   ]
  }
 ],
 "metadata": {
  "kernelspec": {
   "display_name": "Python 3",
   "language": "python",
   "name": "python3"
  },
  "language_info": {
   "codemirror_mode": {
    "name": "ipython",
    "version": 3
   },
   "file_extension": ".py",
   "mimetype": "text/x-python",
   "name": "python",
   "nbconvert_exporter": "python",
   "pygments_lexer": "ipython3",
   "version": "3.12.1"
  }
 },
 "nbformat": 4,
 "nbformat_minor": 2
}
