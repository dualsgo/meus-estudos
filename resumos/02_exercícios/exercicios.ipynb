{
 "cells": [
  {
   "cell_type": "markdown",
   "metadata": {},
   "source": [
    "# Exercícios sobre Variáveis em Python\n",
    "\n",
    "### Nível Fácil\n",
    "\n",
    "1. Crie uma variável chamada `idade` e atribua a ela o valor da sua idade.\n",
    "2. Declare duas variáveis, `nome` e `sobrenome`, e atribua a elas seus respectivos nomes.\n",
    "3. Atribua um número inteiro a uma variável chamada `quantidade_alunos` representando o número de alunos em uma turma.\n",
    "4. Crie uma variável chamada `temperatura_atual` e atribua a ela um valor de ponto flutuante representando a temperatura atual em graus Celsius.\n",
    "\n",
    "### Nível Médio\n",
    "\n",
    "5. Utilizando a técnica de desempacotamento, troque os valores entre duas variáveis chamadas `a` e `b`.\n",
    "6. Atribua um texto a uma variável chamada `frase` e, em seguida, imprima-a na tela.\n",
    "7. Inicialize três variáveis, `lado1`, `lado2` e `lado3`, com valores inteiros representando os lados de um triângulo.\n",
    "8. Crie uma variável chamada `media_notas` e atribua a média de três notas que você escolher.\n",
    "\n",
    "### Nível Avançado\n",
    "\n",
    "9. Utilizando a atribuição em cadeia, crie quatro variáveis, `x`, `y`, `z` e `w`, e atribua a todas o valor 10.\n",
    "10. Declare duas variáveis, `ponto_x` e `ponto_y`, e atribua a elas coordenadas de um ponto no plano cartesiano. Em seguida, crie uma terceira variável chamada `distancia_origem` que receba a distância desse ponto até a origem (0,0).\n",
    "\n",
    "Lembre-se de seguir as regras de nomenclatura e boas práticas de código, conforme mencionadas na introdução ao Python."
   ]
  }
 ],
 "metadata": {
  "language_info": {
   "name": "python"
  }
 },
 "nbformat": 4,
 "nbformat_minor": 2
}
