{
 "cells": [
  {
   "cell_type": "markdown",
   "metadata": {},
   "source": [
    "# # Introdução à Linguagem Python - Exercícios\n",
    "## Funções e Listas em Python\n",
    "\n",
    "### Nível Fácil\n",
    "\n",
    "1. Crie uma função chamada `exibir_multiplos` que recebe um número inteiro como parâmetro e exibe os múltiplos desse número de 1 a 5 utilizando um loop for.\n",
    "\n",
    "2. Escreva uma função chamada `soma_lista` que recebe uma lista de números como parâmetro e retorna a soma de todos os elementos da lista.\n",
    "\n",
    "### Nível Médio\n",
    "\n",
    "3. Implemente uma função chamada `contar_pares` que recebe uma lista de números como argumento e retorna a quantidade de números pares na lista.\n",
    "\n",
    "4. Crie um programa que utiliza uma função chamada `adicionar_elemento` para adicionar um novo elemento ao final de uma lista. Solicite ao usuário que insira o elemento e, em seguida, exiba a lista atualizada.\n",
    "\n",
    "### Nível Avançado\n",
    "\n",
    "5. Desenvolva uma função chamada `remover_elemento` que recebe uma lista e um elemento como argumentos, removendo todas as ocorrências desse elemento da lista.\n",
    "\n",
    "6. Escreva um programa que utiliza uma função chamada `inverter_lista` para inverter os elementos de uma lista. Solicite ao usuário que insira os elementos da lista e, em seguida, exiba a lista invertida.\n",
    "\n",
    "### Desafio\n",
    "\n",
    "7. Crie uma função chamada `jogo_adivinhacao` que simula um jogo de adivinhação. A função deve gerar um número aleatório entre 1 e 100 e permitir que o usuário faça tentativas para adivinhar o número. Forneça dicas sobre se o número é maior ou menor. Ao final, exiba quantas tentativas foram necessárias.\n",
    "\n",
    "8. Implemente um programa que utiliza uma função chamada `unir_listas` para receber duas listas do usuário e retornar uma terceira lista contendo os elementos das duas listas originais, sem elementos duplicados.\n",
    "\n",
    "9. Desenvolva uma função chamada `media_alunos` que recebe uma lista de dicionários, onde cada dicionário representa um aluno com as chaves 'nome' e 'nota'. A função deve calcular e retornar a média de notas dos alunos.\n",
    "\n",
    "10. Crie uma função chamada `maior_palavra` que recebe uma string como argumento e retorna a maior palavra dessa string. Considere que as palavras estão separadas por espaços e não incluem pontuações. Se houver duas ou mais palavras com o mesmo comprimento, retorne a primeira encontrada.\n",
    "\n",
    "Lembre-se de utilizar boas práticas de codificação, como comentários explicativos e nomes de variáveis significativos."
   ]
  }
 ],
 "metadata": {
  "language_info": {
   "name": "python"
  }
 },
 "nbformat": 4,
 "nbformat_minor": 2
}
