{
 "cells": [
  {
   "cell_type": "markdown",
   "id": "9dcc2d72",
   "metadata": {},
   "source": [
    "# Introdução a Linguagem Python\n",
    "\n",
    "A programação é o ato de compor os elementos da linguagem de programação na ordem que causará o efeito desejado. O efeito pode ser diferente em cada caso específico - depende da imaginação, do conhecimento e da experiência do programador.\n",
    "\n",
    "Obviamente, essa composição precisa ser correta em muitos sentidos:\n",
    "\n",
    "- em ordem alfabética - um programa precisa ser escrito em um script reconhecível, ou seja, em uma linguagem de programação específica;\n",
    "\n",
    "- lexicalmente - cada linguagem de programação tem seu dicionário e você precisa dominá-lo; felizmente, é muito mais simples e menor do que o dicionário de qualquer linguagem natural;\n",
    "\n",
    "- sintaticamente - cada idioma tem suas regras e elas devem ser obedecidas;\n",
    "\n",
    "- semanticamente - o programa tem que fazer sentido.\n",
    "\n",
    "Podemos dizer então que cada linguagem (máquina ou natural, não importa) consiste nos seguintes elementos:\n",
    "\n",
    "- Um alfabeto: um conjunto de símbolos que podem ser usados para construir palavras. O \"alfabeto\" é um conjunto padronizado de símbolos gráficos (letras) usado para representar os sons de uma língua. Cada língua pode ter seu próprio alfabeto, com um conjunto específico de letras e caracteres. O alfabeto é a base da escrita em muitas línguas e é essencial para a comunicação escrita.\n",
    "\n",
    "- Uma lexis ou dicionário: um conjunto de palavras que podem ser usadas para construir frases. \"Lexis\" refere-se ao vocabulário ou ao conjunto de palavras em uma língua, ou em um contexto específico. Envolve todas as palavras, expressões e termos que fazem parte do léxico de uma língua ou de uma área de conhecimento. A análise do lexis inclui o estudo da semântica, colocações e usos específicos das palavras em diferentes contextos.\n",
    "\n",
    "- Uma sintaxe: um conjunto de regras que definem como as palavras podem ser combinadas para formar frases. A sintaxe refere-se à estrutura ou às regras gramaticais de uma linguagem. Na linguagem natural, isso se relaciona à organização das palavras e frases para formar sentenças gramaticalmente corretas. Em programação, a sintaxe está relacionada à estrutura e às regras de construção de código-fonte em uma linguagem de programação específica. Violando a sintaxe de uma linguagem resultará em erros de compilação ou interpretação.\n",
    "\n",
    "- Semântica: um conjunto de regras que definem o significado das frases. A semântica refere-se ao significado das palavras, frases ou instruções em uma linguagem. Na linguagem natural, a semântica lida com o significado das palavras e como elas se relacionam entre si. Em programação, a semântica está relacionada ao significado das instruções e estruturas de controle no código-fonte. Mesmo que o código tenha uma sintaxe correta, erros semânticos podem ocorrer se o significado das instruções não concordar com a lógica pretendida. Pyhton não retorna erros semânticos, então fique atento a resultados inesperados.\n",
    "\n",
    "Computadores possuem sua própria linguagem, chamada linguagem de máquina e um conjunto completo de comandos conhecidos como lista de instruções ou IL. A linguagem de máquina é uma linguagem de baixo nível, composta por instruções binárias (0s e 1s) que podem ser executadas diretamente pelo processador. Cada instrução é representada por um código binário específico.\n",
    "A linguagem de máquina é difícil de ser lida e compreendida por humanos. Por isso, os programadores usam linguagens de programação de alto nível, que são mais fáceis de serem lidas e compreendidas. Essas linguagens são chamadas de linguagens de programação de alto nível porque são mais próximas da linguagem natural. (Python é uma linguagem de programação de alto nível e é muito semelhante ao inglês) Elas são mais fáceis de serem lidas e compreendidas por humanos, mas não podem ser executadas diretamente pelo processador. Por isso, precisam ser traduzidas para a linguagem de máquina antes de serem executadas. Essa tradução é feita por um programa chamado compilador ou interpretador."
   ]
  }
 ],
 "metadata": {
  "kernelspec": {
   "display_name": "Python 3 (ipykernel)",
   "language": "python",
   "name": "python3"
  },
  "language_info": {
   "codemirror_mode": {
    "name": "ipython",
    "version": 3
   },
   "file_extension": ".py",
   "mimetype": "text/x-python",
   "name": "python",
   "nbconvert_exporter": "python",
   "pygments_lexer": "ipython3",
   "version": "3.12.1"
  }
 },
 "nbformat": 4,
 "nbformat_minor": 5
}
