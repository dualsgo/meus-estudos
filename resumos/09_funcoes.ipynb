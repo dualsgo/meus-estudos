{
 "cells": [
  {
   "cell_type": "markdown",
   "metadata": {},
   "source": [
    "# Introdução a Linguagem Python"
   ]
  },
  {
   "cell_type": "markdown",
   "metadata": {},
   "source": [
    "## Funções\n",
    "\n",
    "Programas precisam executar regularmente a mesma tarefa continuamente. Em vez de reescrever o mesmo código, podemos usar funções para agrupar código relacionados e executar a tarefa em um só lugar.\n",
    "\n",
    "Uma função nesse contexto é uma rotina, com atividades ou ações que são feitas constantemente em uma parte separada do código capaz de:\n",
    "\n",
    "- Causar algum efeito (por exemplo, exibir um texto na tela)\n",
    "- Avaliar um valor (por exemplo, calcular uma soma)- Retornar um valor (por exemplo, retornar o resultado de uma soma)\n",
    "\n",
    "As funções podem vir:\n",
    "\n",
    "- Do próprio Python (como a função print()) que é chamada de função interna, pois já vem com o Python e não é necessário instalar nada para usá-la.\n",
    "- De bibliotecas externas (como a função sqrt() da biblioteca math) que é chamada de função externa, pois é necessário instalar a biblioteca para usá-la.\n",
    "- Do seu próprio código (como a função soma()) que é chamada de função definida pelo usuário, pois você mesmo a criou definindo o que ela deve fazer com a palavra-chave def e sua sintaxe.\n",
    "\n",
    "\n"
   ]
  },
  {
   "cell_type": "markdown",
   "metadata": {},
   "source": [
    "#### Definindo uma função\n",
    "\n",
    "\n",
    "Declaramos uma função com a seguinte sintaxe:\n",
    "\n",
    "- a palavra-chave def (def significa definir, ou seja, estamos definindo uma função)\n",
    "- o nome da função (seguindo as mesmas regras de nomeclatura que as variáveis)\n",
    "- abertura e fechamento de parênteses. Dentro deles podem haver ou não parâmetros\n",
    "- Para finalizar a declaração que inicia o bloco de código, colocamos dois pontos\n",
    "- Para agrupar o bloco de código da função, usamos o recuo. O recuo é um espaço em branco no início de uma linha de código. O recuo é importante em Python, pois indica que o código recuado faz parte do bloco de código anterior. As regras de aninhamento são as mesmas que para as instruções if, for, while, etc. - você pode usar espaços ou tabulações, mas não misture os dois."
   ]
  },
  {
   "cell_type": "code",
   "execution_count": 2,
   "metadata": {},
   "outputs": [
    {
     "name": "stdout",
     "output_type": "stream",
     "text": [
      "Código que será executado.\n"
     ]
    }
   ],
   "source": [
    "def funcao():\n",
    "    print('Código que será executado.')\n",
    "    \n",
    "    \n",
    "# Para executar o código, precisamos chamar a função. Fazemos isso codificando seu nome seguido de parênteses.\n",
    "\n",
    "funcao()"
   ]
  },
  {
   "cell_type": "markdown",
   "metadata": {},
   "source": [
    "Ao escrever suas próprias funções, devemos dar a elas nomes significativos que deixam claro o que elas fazem. Por exemplo, se você escrever uma função que exibe um texto na tela, você pode chamá-la de exibe_texto()\n",
    "\n",
    "Programa principal - Deve estar a duas linhas de distância da função"
   ]
  },
  {
   "cell_type": "markdown",
   "metadata": {},
   "source": [
    "#### Parâmetros e argumentos\n",
    "\n",
    "Às vezes, as funções precisam de informações específicas para ajudá-las a executar suas tarefas.\n",
    "\n",
    "O poder total da função se revela quando pode ser equipado com uma interface capaz de aceitar dados fornecidos pelo invocador. Esses dados podem modificar o comportamento da função, tornando-a mais flexível e adaptável às condições variáveis.\n",
    "\n",
    "Como dissemos antes, uma função pode ter um efeito ou um resultado.\n",
    "Há também um terceiro componente que pode ser usado para modificar o comportamento de uma função: o parâmetro.\n",
    "\n",
    "As funções matemáticas geralmente levam um parâmetro. Por exemplo, sin(x) leva um x, que é a medida de um ângulo.\n",
    "\n",
    "As funções Python, por outro lado, são mais versáteis. Dependendo das necessidades individuais, eles podem aceitar qualquer número de parâmetros ‒ quantos forem necessários para realizar suas tarefas. Quando dizemos qualquer número, que inclui zero ‒ algumas funções do Python não necessitam de parâmetros, como por exemplo print() que mesmo ao ser chamada sem argumentos imprime uma linha em branco. Ou seja, ela causa um efeito sem precisar de um argumento.\n",
    "\n",
    "Apesar do número de argumentos necessários/fornecidos, as funções do Python exigem fortemente a presença de um par de parênteses ‒ abrindo e fechando, respectivamente. Os parênteses identificam uma função. \n",
    "\n",
    "Se desejamos passar mais de um argumento para uma função, devemos separá-los com uma vírgula.\n",
    "\n",
    "Um parâmetro é na verdade uma variável, mas há dois fatores importantes que tornam os parâmetros diferentes e especiais:\n",
    "\n",
    "- parâmetros existem apenas dentro de funções nas quais eles foram definidos, e o único lugar onde o parâmetro pode ser definido é um espaço entre um par de parênteses na declaração def;\n",
    "- a atribuição de um valor ao parâmetro é feita no momento da chamada da função, especificando o argumento correspondente."
   ]
  },
  {
   "cell_type": "code",
   "execution_count": 4,
   "metadata": {},
   "outputs": [
    {
     "name": "stdout",
     "output_type": "stream",
     "text": [
      "Olá, Maycon\n"
     ]
    }
   ],
   "source": [
    "# Para passar o valor para uma função, primeiro adicionamos uma variável chamada parâmetro entre os parênteses.\n",
    "def ola_nome(nome):\n",
    "    print(f'Olá, {nome}')\n",
    "\n",
    "# O parâmetro atua como uma variável que armazena um valor. Ainda não tem um valor interno. O valor é passado para a função quando a chamamos.\n",
    "\n",
    "# Para passar um valor para a variável, colocamos entre parênteses quando chamamos a função\n",
    "ola_nome('Maycon')\n",
    "\n",
    "# Altere o valor do parâmetro para ver como ele afeta a saída da função."
   ]
  },
  {
   "cell_type": "markdown",
   "metadata": {},
   "source": [
    "O único argumento entregue à função print() neste exemplo é uma string:\n",
    "\n",
    "Não se esqueça:\n",
    "- parâmetros vivem em funções internas (este é o ambiente natural)\n",
    "- argumentos existem fora das funções e são portadores de valores passados para os parâmetros correspondentes."
   ]
  },
  {
   "cell_type": "markdown",
   "metadata": {},
   "source": [
    "#### Chamado da função\n",
    "\n",
    "Python lê as definições da função e as lembra, mas não inicia nenhuma sem a sua permissão. Ou seja, precisamos dizer ao Python para executar a função. Isso é chamado de invocação da função.\n",
    "\n",
    "O nome da função, juntamente com os parênteses e o(s) argumento(s), formam a invocação da função.\n",
    "\n",
    "Quando você invoca uma função, o Python se lembra do local onde aconteceu e salta para a função invocada. O corpo da função é então executado.\n",
    "\n",
    "Alcançar o final da função força o Python a retornar ao local imediatamente após o ponto de chamada.\n",
    "\n",
    "Há duas coisas muito importantes:\n",
    "\n",
    "- Você não deve invocar uma função que não é conhecida no momento da invocação. Lembre - se o Python lê seu código de cima para baixo. Ela não vai olhar para frente para encontrar uma função que você esqueceu de colocar no lugar certo (\"certo\" significa \"antes da invocação\".)\n",
    "\n",
    "- Você não deve ter uma função e uma variável com o mesmo nome. Dependendo da ordem em que você os define o código até pode funcionar, mas não é uma boa prática de programação. Você pode se confundir e o Python também.\n",
    "É boa prática usar um certo padrão para nomear funções com verbos que tornam sua função mais descritiva assim como deixar claro o que uma variável guarda.\n",
    "\n",
    "\n",
    "Vamos analizar o que acontece quando o Python encontra uma invocação como esta abaixo:\n",
    "\n",
    "> function_name(argument)\n",
    "\n",
    "- Primeiro, o Python verifica se o nome especificado é legal (ele navega em seus dados internos para encontrar uma função atual do nome; se essa pesquisa falhar, o Python anula o código)\n",
    "- Segundo, o Python verifica se os requisitos da função para o número de argumentos permitem que você chame a função dessa maneira (por exemplo, se uma função específica exigir exatamente dois argumentos, qualquer invocação que forneça apenas um argumento será considerada errônea e abortará os execução) a menos que o argumento seja opcional;\n",
    "- terceiro, o Python deixa seu código por um momento e salta para a função que você deseja chamar; é claro, ele também usa seus argumentos e os passa para a função;\n",
    "- quarto, a função executa seu código, causa o efeito desejado (se houver), avalia o(s) resultado(s) desejado(s) (se houver) e termina sua tarefa;\n",
    "- por fim, o Python retorna ao seu código (para o local imediatamente após a invocação) e retoma a execução.\n",
    "\n",
    "Os parâmetros serão passados entre os parênteses e o programa irá executar a tarefa com os valores passados."
   ]
  },
  {
   "cell_type": "code",
   "execution_count": 7,
   "metadata": {},
   "outputs": [
    {
     "name": "stdout",
     "output_type": "stream",
     "text": [
      "Digite um número: 1\n",
      "Digite um número: 598\n"
     ]
    }
   ],
   "source": [
    "# A definição especifica que nossa função opera em apenas um parâmetro chamado number. Você pode usá-lo como uma variável comum, mas apenas dentro da função - não é visível em nenhum outro lugar.\n",
    "\n",
    "def message(number):\n",
    "    print(\"Digite um número:\", number)\n",
    "\n",
    "\n",
    "message(1) \n",
    "message(598)\n",
    "\n",
    "# Você consegue ver como isso funciona? O valor do argumento usado durante a invocação foi passado para a função, definindo o valor inicial do parâmetro chamado number."
   ]
  },
  {
   "cell_type": "markdown",
   "metadata": {},
   "source": [
    "Um valor para o parâmetro chegará do ambiente da função. Lembre-se: especificar um ou mais parâmetros na definição de uma função também é um requisito, e você precisa preenchê-lo durante a chamada. Você deve fornecer quantos argumentos houver parâmetros definidos. Não fazer isso causará um erro."
   ]
  },
  {
   "cell_type": "code",
   "execution_count": 5,
   "metadata": {},
   "outputs": [
    {
     "ename": "TypeError",
     "evalue": "message() missing 1 required positional argument: 'number'",
     "output_type": "error",
     "traceback": [
      "\u001b[1;31m---------------------------------------------------------------------------\u001b[0m",
      "\u001b[1;31mTypeError\u001b[0m                                 Traceback (most recent call last)",
      "Cell \u001b[1;32mIn[5], line 4\u001b[0m\n\u001b[0;32m      1\u001b[0m \u001b[38;5;28;01mdef\u001b[39;00m \u001b[38;5;21mmessage\u001b[39m(number): \u001b[38;5;66;03m# Função definida com um parâmetro\u001b[39;00m\n\u001b[0;32m      2\u001b[0m   \u001b[38;5;28mprint\u001b[39m(\u001b[38;5;124m\"\u001b[39m\u001b[38;5;124mDigite um número:\u001b[39m\u001b[38;5;124m\"\u001b[39m, number)\n\u001b[1;32m----> 4\u001b[0m \u001b[43mmessage\u001b[49m\u001b[43m(\u001b[49m\u001b[43m)\u001b[49m \u001b[38;5;66;03m# Função chamada sem argumento\u001b[39;00m\n",
      "\u001b[1;31mTypeError\u001b[0m: message() missing 1 required positional argument: 'number'"
     ]
    }
   ],
   "source": [
    "def message(number): # Função definida com um parâmetro\n",
    "  print(\"Digite um número:\", number)\n",
    "\n",
    "message() # Função chamada sem argumento"
   ]
  },
  {
   "cell_type": "markdown",
   "metadata": {},
   "source": [
    "Temos que torná-lo sensível a uma circunstância importante. É legal e possível ter uma variável com o mesmo parâmetro de função."
   ]
  },
  {
   "cell_type": "code",
   "execution_count": 8,
   "metadata": {},
   "outputs": [
    {
     "name": "stdout",
     "output_type": "stream",
     "text": [
      "Digite um número: 1\n",
      "1234\n"
     ]
    }
   ],
   "source": [
    "# O trecho ilustra o fenômeno:\n",
    "def message(number):\n",
    "    print(\"Digite um número:\", number)\n",
    "\n",
    "\n",
    "number = 1234\n",
    "message(1)\n",
    "print(number)"
   ]
  },
  {
   "cell_type": "markdown",
   "metadata": {},
   "source": [
    "Uma situação como essa ativa um mecanismo chamado shadowing:\n",
    "\n",
    "O parâmetro da função é obscurecido pela variável global com o mesmo nome.\n",
    "O parâmetro ainda existe, mas não é visível dentro da função.\n",
    "Evitamos esse fenômeno, dando nomes diferentes às variáveis e parâmetros."
   ]
  },
  {
   "cell_type": "markdown",
   "metadata": {},
   "source": [
    "Uma função pode ter quantos parâmetros você quiser, mas quanto mais parâmetros tiver, mais difícil será memorizar suas funções e propósitos."
   ]
  },
  {
   "cell_type": "code",
   "execution_count": 9,
   "metadata": {},
   "outputs": [
    {
     "name": "stdout",
     "output_type": "stream",
     "text": [
      "Entrar um número 1\n"
     ]
    }
   ],
   "source": [
    "def message(what, number):\n",
    "    print(\"Entrar\", what, \"número\", number)\n",
    "    \n",
    "# Isso também significa que a invocação da função exigirá dois argumentos.\n",
    "message(\"um\", 1)"
   ]
  },
  {
   "cell_type": "markdown",
   "metadata": {},
   "source": [
    " O uso de * antes de um parâmetro permite que a função aceite um número variável de argumentos. Isso é chamado de empacotamento de argumentos. No caso da função contador, ela aceita qualquer número de argumentos e os itera."
   ]
  },
  {
   "cell_type": "code",
   "execution_count": 14,
   "metadata": {},
   "outputs": [
    {
     "name": "stdout",
     "output_type": "stream",
     "text": [
      "2 - 1 - 7 - \n",
      "8 - 0 - \n",
      "4 - 4 - 7 - 6 - 2 - \n"
     ]
    }
   ],
   "source": [
    "# Note que há somente um parâmetro na definição da função...\n",
    "def contador(*num):\n",
    "    for valor in num:\n",
    "        print(valor, end=' - ')\n",
    "    print()\n",
    "\n",
    "# ... mas a função pode ser chamada com vários argumentos sem exibir erros\n",
    "contador(2, 1, 7)\n",
    "contador(8, 0)\n",
    "contador(4, 4, 7, 6, 2)"
   ]
  },
  {
   "cell_type": "markdown",
   "metadata": {},
   "source": [
    " Os tipos de parâmetros e argumentos não são verificados pelo Python. Você pode passar qualquer valor para qualquer parâmetro. O Python não se importa com isso. É sua responsabilidade garantir que os valores sejam adequados para o propósito da função."
   ]
  },
  {
   "cell_type": "markdown",
   "metadata": {},
   "source": [
    "#### Usando vários parâmetros\n",
    "\n",
    "As funções precisam de vários parâmetros para executar tarefas em mais dados. Podemos criar funções com um único parâmetro ou adicionar mais, os separando com vírgula.\n",
    "\n",
    "Para passar os valores para a função também os separamos com vírgula. Passamos os valores para uma função na ordem dos parâmetros. Podemos adicionar quantos valores quisermos, desde que os separemos por vírgula."
   ]
  },
  {
   "cell_type": "code",
   "execution_count": 10,
   "metadata": {},
   "outputs": [
    {
     "name": "stdout",
     "output_type": "stream",
     "text": [
      "Olá, Maycon. Sua idade é 30 e o seu sexo é masculino.\n"
     ]
    }
   ],
   "source": [
    "def infos(nome, idade, sexo):\n",
    "    texto = f'Olá, {nome}. Sua idade é {idade} e o seu sexo é {sexo}.'\n",
    "    return texto\n",
    "\n",
    "# Altere os valores dos argumentos para ver como eles afetam a saída da função.\n",
    "print(infos('Maycon', 30, 'masculino'))"
   ]
  },
  {
   "cell_type": "markdown",
   "metadata": {},
   "source": [
    "Uma técnica que atribui o i-ésimo (primeiro, segundo e assim por diante) argumento para o i-ésimo (primeiro, segundo, etc.) parâmetro de função é chamada de passagem de parâmetro posicional, enquanto argumentos passados dessa maneira são chamados de argumento posicional.\n",
    "\n",
    "Os valores dos parâmetros precisam ser passados na ordem Se não passarmos os valores na ordem dos parâmetros, eles serão atribuídos aos parâmetros na ordem em que os passamos."
   ]
  },
  {
   "cell_type": "code",
   "execution_count": 13,
   "metadata": {},
   "outputs": [
    {
     "name": "stdout",
     "output_type": "stream",
     "text": [
      "a = 1, b = 2, c = 3\n",
      "a = 3, b = 2, c = 1\n",
      "a = 1, b = 3, c = 2\n",
      "a = 2, b = 1, c = 3\n"
     ]
    }
   ],
   "source": [
    "def my_function(a, b, c): # a, b, c são parâmetros, exatamente nessa ordem\n",
    "    print(f'a = {a}, b = {b}, c = {c}')\n",
    "\n",
    "\n",
    "# Isso significa que os argumentos passados para a função devem ser colocados na mesma ordem.\n",
    "my_function(1, 2, 3)\n",
    "my_function(3, 2, 1)\n",
    "my_function(1, 3, 2)\n",
    "my_function(2, 1, 3)"
   ]
  },
  {
   "cell_type": "markdown",
   "metadata": {},
   "source": [
    "O Python oferece outra convenção para a passagem de argumentos, em que o significado do argumento é determinado por seu nome, e não por sua posição - é chamado de passagem de argumento de palavra-chave.\n",
    "\n",
    "O conceito é claro - os valores passados para os parâmetros são precedidos pelos nomes dos parâmetros de destino, seguidos pelo sinal =.\n",
    "\n",
    "A posição não importa aqui - o valor de cada argumento sabe seu destino com base no nome usado.\n",
    "\n",
    "Obviamente, você não deve usar um nome de parâmetro inexistente. O Python não aceitará isso e gerará um erro. TypeError: introduction() got an unexpected keyword argument 'surname'"
   ]
  },
  {
   "cell_type": "code",
   "execution_count": 15,
   "metadata": {},
   "outputs": [
    {
     "name": "stdout",
     "output_type": "stream",
     "text": [
      "Olá meu nome é James Bond\n",
      "Olá meu nome é Luke Skywalker\n"
     ]
    }
   ],
   "source": [
    "def introduction(first_name, last_name):\n",
    "    print(\"Olá meu nome é\", first_name, last_name)\n",
    "\n",
    "\n",
    "introduction(first_name = \"James\", last_name = \"Bond\") # Olá meu nome é James Bond\n",
    "introduction(last_name = \"Skywalker\", first_name = \"Luke\") # Olá meu nome é Luke Skywalker"
   ]
  },
  {
   "cell_type": "markdown",
   "metadata": {},
   "source": [
    "Você pode combinar os dois estilos, se quiser - há apenas uma regra inquebrável:\n",
    "\n",
    "- você precisa colocar argumentos posicionais antes dos argumentos das palavras-chave. Se você pensar por um momento, certamente entenderá o porquê."
   ]
  },
  {
   "cell_type": "code",
   "execution_count": 19,
   "metadata": {},
   "outputs": [
    {
     "name": "stdout",
     "output_type": "stream",
     "text": [
      "1 + 2 + 3 = 6\n",
      "2 + 3 + 1 = 6\n",
      "3 + 2 + 1 = 6\n"
     ]
    }
   ],
   "source": [
    "def adding(a, b, c):\n",
    "    print(a, \"+\", b, \"+\", c, \"=\", a + b + c)\n",
    "\n",
    "\n",
    "# A função, quando chamada da seguinte maneira:\n",
    "adding(1, 2, 3)\n",
    "\n",
    "# Obviamente, você pode substituir essa chamada por uma variante de palavra-chave, como esta:\n",
    "adding(c = 1, a = 2, b = 3)\n",
    "\n",
    "# Vamos tentar combinar os dois estilos agora.\n",
    "adding(3, c = 1, b = 2)\n",
    "\n",
    "\n"
   ]
  },
  {
   "cell_type": "markdown",
   "metadata": {},
   "source": [
    "Vamos analisar:\n",
    "\n",
    "- o argumento (3) para o parâmetro a é passado usando a maneira posicional;\n",
    "- os argumentos para c e b são especificados como palavras-chave.\n",
    "\n",
    "essa chamada é válida e produzirá a mesma saída que as duas chamadas anteriores."
   ]
  },
  {
   "cell_type": "code",
   "execution_count": 21,
   "metadata": {},
   "outputs": [
    {
     "ename": "TypeError",
     "evalue": "adding() got multiple values for argument 'a'",
     "output_type": "error",
     "traceback": [
      "\u001b[1;31m---------------------------------------------------------------------------\u001b[0m",
      "\u001b[1;31mTypeError\u001b[0m                                 Traceback (most recent call last)",
      "Cell \u001b[1;32mIn[21], line 6\u001b[0m\n\u001b[0;32m      2\u001b[0m     \u001b[38;5;28mprint\u001b[39m(a, \u001b[38;5;124m\"\u001b[39m\u001b[38;5;124m+\u001b[39m\u001b[38;5;124m\"\u001b[39m, b, \u001b[38;5;124m\"\u001b[39m\u001b[38;5;124m+\u001b[39m\u001b[38;5;124m\"\u001b[39m, c, \u001b[38;5;124m\"\u001b[39m\u001b[38;5;124m=\u001b[39m\u001b[38;5;124m\"\u001b[39m, a \u001b[38;5;241m+\u001b[39m b \u001b[38;5;241m+\u001b[39m c)\n\u001b[0;32m      5\u001b[0m \u001b[38;5;66;03m# Porém, se você tentar fazer isso:\u001b[39;00m\n\u001b[1;32m----> 6\u001b[0m \u001b[43madding\u001b[49m\u001b[43m(\u001b[49m\u001b[38;5;241;43m3\u001b[39;49m\u001b[43m,\u001b[49m\u001b[43m \u001b[49m\u001b[43ma\u001b[49m\u001b[43m \u001b[49m\u001b[38;5;241;43m=\u001b[39;49m\u001b[43m \u001b[49m\u001b[38;5;241;43m1\u001b[39;49m\u001b[43m,\u001b[49m\u001b[43m \u001b[49m\u001b[43mb\u001b[49m\u001b[43m \u001b[49m\u001b[38;5;241;43m=\u001b[39;49m\u001b[43m \u001b[49m\u001b[38;5;241;43m2\u001b[39;49m\u001b[43m)\u001b[49m\n\u001b[0;32m      7\u001b[0m \u001b[38;5;66;03m# TypeError: adding() got multiple values for argument 'a'\u001b[39;00m\n",
      "\u001b[1;31mTypeError\u001b[0m: adding() got multiple values for argument 'a'"
     ]
    }
   ],
   "source": [
    "def adding(a, b, c):\n",
    "    print(a, \"+\", b, \"+\", c, \"=\", a + b + c)\n",
    "\n",
    "\n",
    "# Porém, se você tentar fazer isso:\n",
    "adding(3, a = 1, b = 2)"
   ]
  },
  {
   "cell_type": "markdown",
   "metadata": {},
   "source": [
    "Você receberá um erro de tempo de execução. O Python não pode aceitar isso, pois não pode decidir qual valor deve ser atribuído ao parâmetro a - o valor posicional (3) ou o valor da palavra-chave (1).\n",
    "\n",
    "Tenha cuidado e cuidado com os erros. Se você tentar passar mais de um valor para um argumento, tudo que obterá será um erro de tempo de execução."
   ]
  },
  {
   "cell_type": "markdown",
   "metadata": {},
   "source": [
    " #### Valores padronizados\n",
    "\n",
    " Podemos definir um valor padrão para um parâmetro.\n",
    " Às vezes, os valores de um determinado parâmetro são usados com mais frequência do que outros. Esses argumentos podem ter seus valores padrão (predefinidos) considerados quando seus argumentos correspondentes foram omitidos. Isso é chamado de parâmetro padrão. Também é usado para evitar erros de tempo de execução."
   ]
  },
  {
   "cell_type": "code",
   "execution_count": 16,
   "metadata": {},
   "outputs": [
    {
     "name": "stdout",
     "output_type": "stream",
     "text": [
      "Olá, Maycon. Sua idade é 30 e o seu sexo é não informado.\n"
     ]
    }
   ],
   "source": [
    "def infos(nome, idade, sexo='não informado'):\n",
    "    texto = f'Olá, {nome}. Sua idade é {idade} e o seu sexo é {sexo}.'\n",
    "    return texto\n",
    "\n",
    "\n",
    "# Agora podemos chamar a função sem passar um valor para o parâmetro sexo.\n",
    "print(infos('Maycon', 30))"
   ]
  },
  {
   "cell_type": "markdown",
   "metadata": {},
   "source": [
    "Você pode ir além se for útil.\n",
    "Os valores padrão são usados quando nenhum argumento é passado para o parâmetro correspondente. Diferente de caso você não defina valores padrão e não passe argumentos, você receberá um erro de tempo de execução.\n",
    "Ambos os parâmetros têm seus valores padrão agora, veja o código abaixo:\n"
   ]
  },
  {
   "cell_type": "code",
   "execution_count": 22,
   "metadata": {},
   "outputs": [
    {
     "name": "stdout",
     "output_type": "stream",
     "text": [
      "Olá meu nome é John Smith\n"
     ]
    }
   ],
   "source": [
    "def introduction(first_name=\"John\", last_name=\"Smith\"):\n",
    "    print(\"Olá meu nome é\", first_name, last_name)\n",
    "\n",
    "\n",
    "# Isso torna a seguinte chamada absolutamente válida:\n",
    "introduction()"
   ]
  },
  {
   "cell_type": "markdown",
   "metadata": {},
   "source": [
    "### A função print()"
   ]
  },
  {
   "cell_type": "markdown",
   "metadata": {},
   "source": [
    "### A função input()"
   ]
  },
  {
   "cell_type": "markdown",
   "metadata": {},
   "source": [
    "### Convertendo dados"
   ]
  },
  {
   "cell_type": "markdown",
   "metadata": {},
   "source": []
  }
 ],
 "metadata": {
  "kernelspec": {
   "display_name": "Python 3",
   "language": "python",
   "name": "python3"
  },
  "language_info": {
   "codemirror_mode": {
    "name": "ipython",
    "version": 3
   },
   "file_extension": ".py",
   "mimetype": "text/x-python",
   "name": "python",
   "nbconvert_exporter": "python",
   "pygments_lexer": "ipython3",
   "version": "3.12.1"
  }
 },
 "nbformat": 4,
 "nbformat_minor": 2
}
