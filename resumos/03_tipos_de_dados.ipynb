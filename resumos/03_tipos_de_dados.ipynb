{
 "cells": [
  {
   "cell_type": "markdown",
   "metadata": {},
   "source": [
    "# Introdução a Linguagem Python"
   ]
  },
  {
   "cell_type": "markdown",
   "metadata": {},
   "source": [
    "## Tipos de dados\n",
    "\n",
    "Literais são dados cujos valores são determinados pelo próprio literal. Em outras palavras, um literal representa um valor fixo, não variável. Por exemplo, em termos de valor literal, 1 e '1' têm o mesmo valor, que é 1, mas seus tipos são diferentes. O valor literal refere-se ao valor intrínseco que o dado representa. Portanto, o valor literal de 1 e '1' é o mesmo (1), mas o tipo de dado associado a cada um deles é diferente.\n",
    "\n",
    "Neste exemplo, você encontrará dois tipos diferentes de literais:\n",
    "\n",
    "Uma string e um número inteiro.\n",
    "\n",
    "A função print() os apresenta exatamente da mesma maneira ‒ este exemplo é óbvio, pois sua representação legível por humanos também é a mesma.\n",
    "\n",
    "Internamente, na memória do computador, esses dois valores são armazenados de formas completamente diferentes ‒ a string existe apenas como uma string ‒ uma série de letras. O número é convertido em representação de máquina (um conjunto de bits). A função print() é capaz de mostrar ambos em um formato legível para humanos."
   ]
  },
  {
   "cell_type": "markdown",
   "metadata": {},
   "source": [
    "## Strings"
   ]
  },
  {
   "cell_type": "markdown",
   "metadata": {},
   "source": [
    "Os dados de texto que são delimitados por aspas simples ou duplas são chamados de cadeias de caracteres, ou simplesmente strings. Uma string é um conjunto de caracteres que podem ser letras, números, símbolos ou espaços. Uma string é sempre colocada entre aspas simples ou duplas, dependendo do contexto.\n",
    "\n",
    " A utilização do tipo de aspas depende do que queremos armazenar na variável. Por exemplo, se quisermos armazenar uma string que contenha citação, usamos aspas simples para envolver a string e aspas duplas para envolver a citação dentro dela e vice versa. Caso isso não seja feito, o Python não saberá onde a string termina e gerará um erro de sintaxe."
   ]
  },
  {
   "cell_type": "code",
   "execution_count": null,
   "metadata": {},
   "outputs": [],
   "source": [
    "texto = 'Sou uma cadeia de caracteres. Posso conter letras, números (1, 2, 3), espaços e símbolos (!, @, #, $).'\n",
    "\n",
    "texto = \"Sou uma cadeia de caracteres. Posso conter letras, números (1, 2, 3), espaços e símbolos (!, @, #, $).\""
   ]
  }
 ],
 "metadata": {
  "kernelspec": {
   "display_name": "Python 3",
   "language": "python",
   "name": "python3"
  },
  "language_info": {
   "name": "python",
   "version": "3.12.1"
  }
 },
 "nbformat": 4,
 "nbformat_minor": 2
}
