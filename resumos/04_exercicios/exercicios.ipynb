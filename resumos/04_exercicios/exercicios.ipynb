{
 "cells": [
  {
   "cell_type": "markdown",
   "metadata": {},
   "source": [
    "**Exercício 1 - Fácil:**\n",
    "Peça ao usuário para inserir seu nome e exiba uma mensagem de boas-vindas com o nome digitado.\n",
    "\n",
    "**Exercício 2 - Fácil:**\n",
    "Solicite ao usuário que insira dois números inteiros, some-os e exiba o resultado.\n",
    "\n",
    "**Exercício 3 - Fácil:**\n",
    "Crie um programa que receba a idade do usuário e determine se ele é maior de idade (idade maior ou igual a 18) ou menor de idade.\n",
    "\n",
    "**Exercício 4 - Moderado:**\n",
    "Peça ao usuário para inserir um número decimal e exiba a parte inteira desse número.\n",
    "\n",
    "**Exercício 5 - Moderado:**\n",
    "Crie um programa que calcule a média de três notas digitadas pelo usuário.\n",
    "\n",
    "**Exercício 6 - Moderado:**\n",
    "Solicite ao usuário que insira uma temperatura em Celsius e converta-a para Fahrenheit usando a fórmula F = C * 9/5 + 32.\n",
    "\n",
    "**Exercício 7 - Difícil:**\n",
    "Peça ao usuário que insira um número e determine se é primo ou não.\n",
    "\n",
    "**Exercício 8 - Difícil:**\n",
    "Crie um programa que solicite ao usuário que insira uma frase e conte quantas vogais (a, e, i, o, u) existem na frase.\n",
    "\n",
    "**Exercício 9 - Difícil:**\n",
    "Desenvolva um programa que receba o ano de nascimento do usuário e determine sua idade atual.\n",
    "\n",
    "**Exercício 10 - Difícil:**\n",
    "Peça ao usuário que insira um valor em reais e converta esse valor para dólares considerando uma taxa de câmbio fictícia. Exiba o resultado."
   ]
  }
 ],
 "metadata": {
  "language_info": {
   "name": "python"
  }
 },
 "nbformat": 4,
 "nbformat_minor": 2
}
