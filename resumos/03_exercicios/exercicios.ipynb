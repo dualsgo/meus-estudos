{
 "cells": [
  {
   "cell_type": "markdown",
   "metadata": {},
   "source": [
    "# Exercícios sobre Tipos de Dados em Python\n",
    "\n",
    "### Nível Fácil\n",
    "\n",
    "1. Crie uma variável chamada `texto_curto` e atribua a ela uma string curta de sua escolha.\n",
    "2. Declare uma variável chamada `numero_inteiro` e atribua a ela um número inteiro positivo.\n",
    "3. Crie uma variável chamada `numero_ponto_flutuante` e atribua a ela um número de ponto flutuante negativo.\n",
    "4. Atribua o valor booleano True a uma variável chamada `verdadeiro`.\n",
    "\n",
    "### Nível Médio\n",
    "\n",
    "5. Concatene as variáveis `texto_curto` e `numero_inteiro` em uma nova variável chamada `concatenado` e imprima o resultado.\n",
    "6. Crie uma variável chamada `distancia_km` e atribua a ela um valor float representando uma distância em quilômetros.\n",
    "7. Atribua o valor booleano False a uma variável chamada `falso`.\n",
    "8. Utilizando operadores de comparação, verifique se `numero_inteiro` é maior que `numero_ponto_flutuante` e atribua o resultado a uma variável chamada `comparacao_resultado`.\n",
    "\n",
    "### Nível Avançado\n",
    "\n",
    "9. Crie uma variável chamada `frase_complexa` que contenha uma string longa com pelo menos três frases.\n",
    "10. Declare uma variável chamada `media` e atribua a ela um valor float representando uma média de notas. Em seguida, verifique se a média é maior que 7.0 e atribua o resultado a uma variável chamada `aprovado`."
   ]
  }
 ],
 "metadata": {
  "language_info": {
   "name": "python"
  }
 },
 "nbformat": 4,
 "nbformat_minor": 2
}
