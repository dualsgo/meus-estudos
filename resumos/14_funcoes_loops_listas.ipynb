{
 "cells": [
  {
   "cell_type": "markdown",
   "metadata": {},
   "source": [
    "# # Introdução a Linguagem Python\n",
    "## Funções com loops\n",
    "\n",
    "Intervalos como range(3) nos dizem quantas vezes o loop for é executado, como três vezes nesse caso"
   ]
  },
  {
   "cell_type": "code",
   "execution_count": null,
   "metadata": {},
   "outputs": [],
   "source": [
    "def progress():\n",
    "    for i in range(1, 4):\n",
    "        print(f'Download file {i} out of 3')\n",
    "\n",
    "progress()"
   ]
  },
  {
   "cell_type": "markdown",
   "metadata": {},
   "source": [
    "Para reutilizar um loop for com qualquer intervalo, passamos um parâmetro entre range()\n",
    "\n",
    "O valor que passamos ao chamar a função é armazenado no parâmetro e depois usado como intervalo"
   ]
  },
  {
   "cell_type": "code",
   "execution_count": 2,
   "metadata": {},
   "outputs": [
    {
     "ename": "KeyboardInterrupt",
     "evalue": "Interrupted by user",
     "output_type": "error",
     "traceback": [
      "\u001b[1;31m---------------------------------------------------------------------------\u001b[0m",
      "\u001b[1;31mKeyboardInterrupt\u001b[0m                         Traceback (most recent call last)",
      "Cell \u001b[1;32mIn[2], line 5\u001b[0m\n\u001b[0;32m      2\u001b[0m     \u001b[38;5;28;01mfor\u001b[39;00m i \u001b[38;5;129;01min\u001b[39;00m \u001b[38;5;28mrange\u001b[39m(files):\n\u001b[0;32m      3\u001b[0m         \u001b[38;5;28mprint\u001b[39m(\u001b[38;5;124mf\u001b[39m\u001b[38;5;124m'\u001b[39m\u001b[38;5;124mDownload file \u001b[39m\u001b[38;5;132;01m{\u001b[39;00mi\u001b[38;5;241m+\u001b[39m\u001b[38;5;241m1\u001b[39m\u001b[38;5;132;01m}\u001b[39;00m\u001b[38;5;124m out of  \u001b[39m\u001b[38;5;132;01m{\u001b[39;00mfiles\u001b[38;5;132;01m}\u001b[39;00m\u001b[38;5;124m'\u001b[39m)\n\u001b[1;32m----> 5\u001b[0m qt_files \u001b[38;5;241m=\u001b[39m \u001b[38;5;28mint\u001b[39m(\u001b[38;5;28;43minput\u001b[39;49m\u001b[43m(\u001b[49m\u001b[38;5;124;43m'\u001b[39;49m\u001b[38;5;124;43mFiles = \u001b[39;49m\u001b[38;5;124;43m'\u001b[39;49m\u001b[43m)\u001b[49m)\n\u001b[0;32m      7\u001b[0m progress(qt_files)\n",
      "File \u001b[1;32m~\\AppData\\Roaming\\Python\\Python312\\site-packages\\ipykernel\\kernelbase.py:1270\u001b[0m, in \u001b[0;36mKernel.raw_input\u001b[1;34m(self, prompt)\u001b[0m\n\u001b[0;32m   1268\u001b[0m     msg \u001b[38;5;241m=\u001b[39m \u001b[38;5;124m\"\u001b[39m\u001b[38;5;124mraw_input was called, but this frontend does not support input requests.\u001b[39m\u001b[38;5;124m\"\u001b[39m\n\u001b[0;32m   1269\u001b[0m     \u001b[38;5;28;01mraise\u001b[39;00m StdinNotImplementedError(msg)\n\u001b[1;32m-> 1270\u001b[0m \u001b[38;5;28;01mreturn\u001b[39;00m \u001b[38;5;28;43mself\u001b[39;49m\u001b[38;5;241;43m.\u001b[39;49m\u001b[43m_input_request\u001b[49m\u001b[43m(\u001b[49m\n\u001b[0;32m   1271\u001b[0m \u001b[43m    \u001b[49m\u001b[38;5;28;43mstr\u001b[39;49m\u001b[43m(\u001b[49m\u001b[43mprompt\u001b[49m\u001b[43m)\u001b[49m\u001b[43m,\u001b[49m\n\u001b[0;32m   1272\u001b[0m \u001b[43m    \u001b[49m\u001b[38;5;28;43mself\u001b[39;49m\u001b[38;5;241;43m.\u001b[39;49m\u001b[43m_parent_ident\u001b[49m\u001b[43m[\u001b[49m\u001b[38;5;124;43m\"\u001b[39;49m\u001b[38;5;124;43mshell\u001b[39;49m\u001b[38;5;124;43m\"\u001b[39;49m\u001b[43m]\u001b[49m\u001b[43m,\u001b[49m\n\u001b[0;32m   1273\u001b[0m \u001b[43m    \u001b[49m\u001b[38;5;28;43mself\u001b[39;49m\u001b[38;5;241;43m.\u001b[39;49m\u001b[43mget_parent\u001b[49m\u001b[43m(\u001b[49m\u001b[38;5;124;43m\"\u001b[39;49m\u001b[38;5;124;43mshell\u001b[39;49m\u001b[38;5;124;43m\"\u001b[39;49m\u001b[43m)\u001b[49m\u001b[43m,\u001b[49m\n\u001b[0;32m   1274\u001b[0m \u001b[43m    \u001b[49m\u001b[43mpassword\u001b[49m\u001b[38;5;241;43m=\u001b[39;49m\u001b[38;5;28;43;01mFalse\u001b[39;49;00m\u001b[43m,\u001b[49m\n\u001b[0;32m   1275\u001b[0m \u001b[43m\u001b[49m\u001b[43m)\u001b[49m\n",
      "File \u001b[1;32m~\\AppData\\Roaming\\Python\\Python312\\site-packages\\ipykernel\\kernelbase.py:1313\u001b[0m, in \u001b[0;36mKernel._input_request\u001b[1;34m(self, prompt, ident, parent, password)\u001b[0m\n\u001b[0;32m   1310\u001b[0m \u001b[38;5;28;01mexcept\u001b[39;00m \u001b[38;5;167;01mKeyboardInterrupt\u001b[39;00m:\n\u001b[0;32m   1311\u001b[0m     \u001b[38;5;66;03m# re-raise KeyboardInterrupt, to truncate traceback\u001b[39;00m\n\u001b[0;32m   1312\u001b[0m     msg \u001b[38;5;241m=\u001b[39m \u001b[38;5;124m\"\u001b[39m\u001b[38;5;124mInterrupted by user\u001b[39m\u001b[38;5;124m\"\u001b[39m\n\u001b[1;32m-> 1313\u001b[0m     \u001b[38;5;28;01mraise\u001b[39;00m \u001b[38;5;167;01mKeyboardInterrupt\u001b[39;00m(msg) \u001b[38;5;28;01mfrom\u001b[39;00m \u001b[38;5;28;01mNone\u001b[39;00m\n\u001b[0;32m   1314\u001b[0m \u001b[38;5;28;01mexcept\u001b[39;00m \u001b[38;5;167;01mException\u001b[39;00m:\n\u001b[0;32m   1315\u001b[0m     \u001b[38;5;28mself\u001b[39m\u001b[38;5;241m.\u001b[39mlog\u001b[38;5;241m.\u001b[39mwarning(\u001b[38;5;124m\"\u001b[39m\u001b[38;5;124mInvalid Message:\u001b[39m\u001b[38;5;124m\"\u001b[39m, exc_info\u001b[38;5;241m=\u001b[39m\u001b[38;5;28;01mTrue\u001b[39;00m)\n",
      "\u001b[1;31mKeyboardInterrupt\u001b[0m: Interrupted by user"
     ]
    }
   ],
   "source": [
    "def progress(files):\n",
    "    for i in range(files):\n",
    "        print(f'Download file {i+1} out of  {files}')\n",
    "        \n",
    "qt_files = int(input('Files = '))\n",
    "\n",
    "progress(qt_files)"
   ]
  },
  {
   "cell_type": "markdown",
   "metadata": {},
   "source": [
    "Para reutilizar um loop que itera pro uma lista, podemos aninhá-lo em uma função, como este loop for\n",
    "\n",
    "Para iterar com qualquer tipo de lista, usamos o parâmetro da função em vez de uma lista fixa."
   ]
  },
  {
   "cell_type": "code",
   "execution_count": 8,
   "metadata": {},
   "outputs": [],
   "source": [
    "def metade_do_preco(carrinho):\n",
    "    for preco in carrinho:\n",
    "        print(f'Novo preço: {preco/2}')\n",
    "\n",
    "lista_carrinho = [5, 20, 8]"
   ]
  },
  {
   "cell_type": "code",
   "execution_count": 10,
   "metadata": {},
   "outputs": [
    {
     "name": "stdout",
     "output_type": "stream",
     "text": [
      "Novo preço: 2.5\n",
      "Novo preço: 10.0\n",
      "Novo preço: 4.0\n"
     ]
    }
   ],
   "source": [
    "# Ao percorre a lista no parâmetro, podemos chamar a função com qualquer lista, como lista_carrihno aqui\n",
    "metade_do_preco(lista_carrinho)"
   ]
  },
  {
   "cell_type": "code",
   "execution_count": 7,
   "metadata": {},
   "outputs": [
    {
     "name": "stdout",
     "output_type": "stream",
     "text": [
      "Novo preço: 5.0\n",
      "Novo preço: 15.0\n",
      "Novo preço: 40.0\n",
      "Novo preço: 50.0\n",
      "Novo preço: 100.0\n",
      "Novo preço: 150.0\n"
     ]
    }
   ],
   "source": [
    "# Ou uma lista de compras \n",
    "lista_compras = [10, 30, 80, 100, 200, 300]\n",
    "metade_do_preco(lista_compras)"
   ]
  },
  {
   "cell_type": "markdown",
   "metadata": {},
   "source": [
    "## Funções com listas - Listas como argumentos\n",
    "\n",
    "Qualquer tipo de valor pode servir como entrada ou saída de uma função. Vejamos as funções podem usar listas como players\n",
    "\n",
    "Essa função verifica se a lista de jogadores tem mais de um elemento, o que significa que é um jogo multiplayer.\n",
    "\n",
    "\n"
   ]
  },
  {
   "cell_type": "markdown",
   "metadata": {},
   "source": [
    "## "
   ]
  },
  {
   "cell_type": "code",
   "execution_count": 11,
   "metadata": {},
   "outputs": [],
   "source": [
    "def is_multiplayer(players):\n",
    "    return len(players) >= 2\n",
    "\n",
    "# Passamos listas para funções assim como fazemos com qualquer outro valor: codificando um nome de lista entre os parênteses da função.\n",
    "players = ['Amy', 'Jay']"
   ]
  },
  {
   "cell_type": "code",
   "execution_count": 12,
   "metadata": {},
   "outputs": [
    {
     "name": "stdout",
     "output_type": "stream",
     "text": [
      "True\n"
     ]
    }
   ],
   "source": [
    "# Após passarmos a lista para a função, podemos usar o parâmetro para exibi-la.\n",
    "print(is_multiplayer(players))"
   ]
  },
  {
   "cell_type": "markdown",
   "metadata": {},
   "source": [
    "Lembre-se de que os parâmetros são como variáveis que armazenam os valores que passamos para uma função. \n",
    "\n",
    "Aqui o parâmetro filmes irá armazenar os elementos da lista_filmes"
   ]
  },
  {
   "cell_type": "code",
   "execution_count": 14,
   "metadata": {},
   "outputs": [],
   "source": [
    "def display_programme(filmes):\n",
    "    print('Filmes disponíveis: ')\n",
    "    # A lista será exibida na sua formatação original com os elementos separados por vírgula entre colchetes\n",
    "    print(filmes)\n",
    "\n",
    "lista_filmes = ['Alien', 'Moon']\n",
    "lista_tarefas = ['Fazer popoca', 'Lavar a louça']"
   ]
  },
  {
   "cell_type": "code",
   "execution_count": 16,
   "metadata": {},
   "outputs": [
    {
     "name": "stdout",
     "output_type": "stream",
     "text": [
      "Filmes disponíveis: \n",
      "['Alien', 'Moon']\n"
     ]
    }
   ],
   "source": [
    "# já que é com esse valor que chamamos a função.\n",
    "display_programme(lista_filmes)"
   ]
  },
  {
   "cell_type": "code",
   "execution_count": 17,
   "metadata": {},
   "outputs": [
    {
     "name": "stdout",
     "output_type": "stream",
     "text": [
      "Filmes disponíveis: \n",
      "['Fazer popoca', 'Lavar a louça']\n"
     ]
    }
   ],
   "source": [
    "# Se mudarmos o valor\n",
    "display_programme(lista_tarefas)"
   ]
  },
  {
   "cell_type": "markdown",
   "metadata": {},
   "source": [
    " Dentro da função, podemos usar todas as operações de listas, como len() para obter o número de passageiros"
   ]
  },
  {
   "cell_type": "code",
   "execution_count": 18,
   "metadata": {},
   "outputs": [
    {
     "name": "stdout",
     "output_type": "stream",
     "text": [
      "Temos 4 passageiros\n"
     ]
    }
   ],
   "source": [
    "def contagem_passageiros(passageiros):\n",
    "    return len(passageiros)\n",
    "\n",
    "lista_passageiros = ['Ana', 'Juan', 'Cláudia', 'Fátima']\n",
    "print(f'Temos {contagem_passageiros(lista_passageiros)} passageiros')"
   ]
  },
  {
   "cell_type": "markdown",
   "metadata": {},
   "source": [
    "A função pode usar o cumprimento da lista para comparações\n",
    "\n",
    "Às vezes queremos que nossa função recupere certos elementos de uma lista."
   ]
  },
  {
   "cell_type": "code",
   "execution_count": 19,
   "metadata": {},
   "outputs": [
    {
     "name": "stdout",
     "output_type": "stream",
     "text": [
      "O vencedor foi: Jay\n"
     ]
    }
   ],
   "source": [
    "def get_vencedor(competidores):\n",
    "    vencedor = competidores[0]\n",
    "    print(f'O vencedor foi: {vencedor}')\n",
    "\n",
    "competidores = ['Jay', 'Meg', 'Cy']\n",
    "get_vencedor(competidores)\n"
   ]
  },
  {
   "cell_type": "markdown",
   "metadata": {},
   "source": [
    "As funções também podem atualizar listas, como atualizar o nome em tabela[0] para aquele no parâmetro time"
   ]
  },
  {
   "cell_type": "code",
   "execution_count": 21,
   "metadata": {},
   "outputs": [
    {
     "name": "stdout",
     "output_type": "stream",
     "text": [
      "['Botafogo', 'Palmeiras', 'Atlético', 'Flamengo', 'Gremio']\n"
     ]
    }
   ],
   "source": [
    "def mudar_lider(tabela, time):\n",
    "    tabela[0] = time\n",
    "    return tabela\n",
    "\n",
    "tabela = ['Botafogo', 'Palmeiras', 'Atlético', 'Flamengo', 'Gremio']\n",
    "print(tabela)"
   ]
  },
  {
   "cell_type": "code",
   "execution_count": 22,
   "metadata": {},
   "outputs": [
    {
     "name": "stdout",
     "output_type": "stream",
     "text": [
      "['Vasco', 'Palmeiras', 'Atlético', 'Flamengo', 'Gremio']\n"
     ]
    }
   ],
   "source": [
    "tabela = mudar_lider(tabela, 'Vasco')\n",
    "print(tabela)"
   ]
  }
 ],
 "metadata": {
  "kernelspec": {
   "display_name": "Python 3",
   "language": "python",
   "name": "python3"
  },
  "language_info": {
   "codemirror_mode": {
    "name": "ipython",
    "version": 3
   },
   "file_extension": ".py",
   "mimetype": "text/x-python",
   "name": "python",
   "nbconvert_exporter": "python",
   "pygments_lexer": "ipython3",
   "version": "3.12.1"
  }
 },
 "nbformat": 4,
 "nbformat_minor": 2
}
