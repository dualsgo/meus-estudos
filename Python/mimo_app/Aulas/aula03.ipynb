{
 "cells": [
  {
   "cell_type": "markdown",
   "metadata": {},
   "source": [
    "# MIMO - 03 - Declarações Condicionais"
   ]
  },
  {
   "cell_type": "markdown",
   "metadata": {},
   "source": [
    "### 03.1 - Tomando decisões\n",
    "\n",
    "Programas inteligentes usam booleans (True e False) para tomar decisões sobre executar linhas de código ou ignorá-las."
   ]
  },
  {
   "cell_type": "markdown",
   "metadata": {},
   "source": [
    "#### Condições e declarações condicionais\n",
    "\n",
    "Usamos uma instrução SE para escrever código que responda a diferentes situações.\n",
    "\n",
    "Nós utilizamos a palavra-chave if. A instrução só executa o código se a condição for avaliada como verdade (True). \n",
    "\n",
    "É como dizer 'SE algo é verdade, faça isso'"
   ]
  },
  {
   "cell_type": "code",
   "execution_count": null,
   "metadata": {},
   "outputs": [],
   "source": [
    "# Podemos salvar o valor boolean em uma variável.\n",
    "algo = True"
   ]
  },
  {
   "cell_type": "markdown",
   "metadata": {},
   "source": [
    "Valores como True são chamados de condições e declarações que dependem de condições são chamadas de condicionais.\n",
    "\n",
    "As condições ficam entre o if e :, decidindo se o código será executado ou ignorado."
   ]
  },
  {
   "cell_type": "code",
   "execution_count": 2,
   "metadata": {},
   "outputs": [
    {
     "name": "stdout",
     "output_type": "stream",
     "text": [
      "É verdade!\n"
     ]
    }
   ],
   "source": [
    "if algo:\n",
    "    print('É verdade!')"
   ]
  },
  {
   "cell_type": "markdown",
   "metadata": {},
   "source": [
    "Se quisermos pular o código, a condição deverá ser falsa (False)"
   ]
  },
  {
   "cell_type": "code",
   "execution_count": 3,
   "metadata": {},
   "outputs": [],
   "source": [
    "algo = False\n",
    "\n",
    "if algo:\n",
    "    print('Falso!')  # Nada será exibido"
   ]
  },
  {
   "cell_type": "markdown",
   "metadata": {},
   "source": [
    "#### Bloco de código\n",
    "\n",
    "As instruções if não decide pular ou executar o código inteiro. Eles só tomam decisões sobre um bloco de código.\n",
    "\n",
    "Usamos o recuo de dois espaços para destacar blocos de código. O recuo refere-se ao espaço entre o código e a margem do editor de código.\n",
    "\n",
    "Um bloco de código pode ser mais do que uma linha. Todas as linhas com o mesmo recuo pertencem ao mesmo bloco de código.\n",
    "\n",
    "Se o recuo estiver incorreto, o computador não conseguirá entender seu código. Isso retorna um erro Indentation Error no console.\n",
    "\n",
    " Qualquer código que não esteja recuado será executado independentemente da condição."
   ]
  },
  {
   "cell_type": "code",
   "execution_count": 5,
   "metadata": {},
   "outputs": [
    {
     "name": "stdout",
     "output_type": "stream",
     "text": [
      "Será executada independente do resultado!\n"
     ]
    }
   ],
   "source": [
    "algo = False\n",
    "\n",
    "if algo:\n",
    "    print('Verdade!')\n",
    "\n",
    "print('Será executada independente do resultado!')"
   ]
  },
  {
   "cell_type": "markdown",
   "metadata": {},
   "source": [
    "### 03.2 - Usando condições\n",
    "\n",
    "Podemos usar operadores de comparação em programas para verificar se uma pergunta está correta, por exemplo.\n",
    "\n",
    "Podemos usar o operador de igualdade para verificar se a resposta está correta."
   ]
  },
  {
   "cell_type": "code",
   "execution_count": 6,
   "metadata": {},
   "outputs": [
    {
     "name": "stdout",
     "output_type": "stream",
     "text": [
      "Certa resposta!\n"
     ]
    }
   ],
   "source": [
    "resposta = 'Picasso'\n",
    "resposta_correta = 'Picasso'\n",
    "\n",
    "if resposta == resposta_correta:\n",
    "    print('Certa resposta!')"
   ]
  },
  {
   "cell_type": "markdown",
   "metadata": {},
   "source": [
    "Podemos usar um operador de desigualdade para verificar se a resposta não está correta.\n",
    "\n",
    "O código abaixo não será executado, pois a resposta está correta."
   ]
  },
  {
   "cell_type": "code",
   "execution_count": 7,
   "metadata": {},
   "outputs": [],
   "source": [
    "if resposta != resposta_correta:\n",
    "    print('Resposta errada!')"
   ]
  },
  {
   "cell_type": "markdown",
   "metadata": {},
   "source": [
    "As instruções if funcionam com todos os operadores de comparação.\n",
    "\n",
    "Podemos armazenar o resultado de uma comparação em uma variável e usá-la como condição."
   ]
  },
  {
   "cell_type": "code",
   "execution_count": 9,
   "metadata": {},
   "outputs": [
    {
     "name": "stdout",
     "output_type": "stream",
     "text": [
      "Pontos suficientes para passar!\n"
     ]
    }
   ],
   "source": [
    "pontos = 51\n",
    "passou = pontos > 50  # True\n",
    "\n",
    "# O código abaixo será executado, pois a condição é verdadeira.\n",
    "if passou: \n",
    "    print('Pontos suficientes para passar!')"
   ]
  },
  {
   "cell_type": "markdown",
   "metadata": {},
   "source": [
    "### 03.3 - Programando condições ELSE\n",
    "\n",
    "Um ótimo software não decide apenas o que fazer quando uma condição é True, mas também possui um plano de backup se a condição for False.\n",
    "\n",
    "Já sabemos que as instruções if nos ajudam a executar o código se uma condição como disponivel for True.\n",
    "\n",
    "Vamos adicionar outra instrução if que usa a variavel nao_diponivel para verificar se o item não está disponível.\n",
    "\n",
    "Se o item não estiver disponível, queremos exibir uma mensagem diferente."
   ]
  },
  {
   "cell_type": "code",
   "execution_count": 12,
   "metadata": {},
   "outputs": [
    {
     "name": "stdout",
     "output_type": "stream",
     "text": [
      "Em estoque!\n"
     ]
    }
   ],
   "source": [
    "disponivel = True\n",
    "\n",
    "if disponivel:\n",
    "    print('Em estoque!')\n",
    "\n",
    "# Aqui estamos negando a variável disponivel. Como vimos, negar um valor é o mesmo que dar o valor contrário.\n",
    "indisponivel = not disponivel\n",
    "\n",
    "# Agora estamos verificando se está indisponível: Se está disponível, logo NÃO está indisponível.\n",
    "if indisponivel:\n",
    "    print('Sem estoque!')"
   ]
  },
  {
   "cell_type": "markdown",
   "metadata": {},
   "source": [
    "Em vez de criar duas instruções if, usamos uma instrução if/else para obter o mesmo resultado.\n",
    "\n",
    "Vamos fazer algumas alterações no código:"
   ]
  },
  {
   "cell_type": "code",
   "execution_count": 16,
   "metadata": {},
   "outputs": [
    {
     "name": "stdout",
     "output_type": "stream",
     "text": [
      "Em estoque!\n"
     ]
    }
   ],
   "source": [
    "# Alterne o valor da variável disponivel e veja o resultado.\n",
    "disponivel = True \n",
    "\n",
    "# Se disponível for True, a condição será verdadeira e o bloco de código if será executado.\n",
    "if disponivel:\n",
    "    print('Em estoque!') # Bloco de código if\n",
    "    \n",
    "# Se disponível for False, a condição será falsa e o bloco de código if não será executado. Logo, o bloco de código else será executado.\n",
    "else:\n",
    "    print('Sem estoque!') # Bloco de código else"
   ]
  },
  {
   "cell_type": "markdown",
   "metadata": {},
   "source": [
    "A instrução else vai sempre no final. Ela não precisa de sua própria condição, pois trata de casos em que a condição if não é atendida.\n",
    "\n",
    "É como uma resposta padrão."
   ]
  },
  {
   "cell_type": "code",
   "execution_count": 17,
   "metadata": {},
   "outputs": [
    {
     "name": "stdout",
     "output_type": "stream",
     "text": [
      "Número incorreto!\n"
     ]
    }
   ],
   "source": [
    "numero = 13\n",
    "\n",
    "# Nossa condição espera que o valor seja 1 para executar o bloco de código if.\n",
    "if numero == 1:\n",
    "    print('Número correto!')\n",
    "    \n",
    "# Senão exibirá 'Número incorreto!' para todos os números diferentes de 1.\n",
    "else:\n",
    "    print('Número incorreto!')"
   ]
  },
  {
   "cell_type": "markdown",
   "metadata": {},
   "source": [
    "### 03.4 - Incorporando um ELIF\n",
    "\n",
    "As vezes não queremos apenas que o programa faça isso ou aquilo, mas queremos que ele faça isso e aquilo\n",
    "\n",
    "Vamos aprender como escrever instruções condicionais que tratam de condições específicas, como no programa abaixo. Ele usa instruções condicionais para mostrar saudações diferentes se a hora for inferior a 7, 12, 17, e 21.\n",
    "\n",
    "Usando if e else, podemos escrever um programa que mostre uma saudação se hora for menor que 12 e outra se não atender a condição\n",
    "\n",
    "Para uma condição mais específica, como se hora for maior que 12, mas menor que 17, podemos codificar elif hora < 17:\n",
    "\n",
    "elif significa 'senão se': elif é usado quando há uma segunda condição a ser verificada quando a condição do bloco if não foi atendida.\n",
    "\n",
    "Contanto que venha antes do else, podemos adicionar quantas instruções elif quisermos.\n",
    "\n",
    "Por se tratar de um intervalo limitado, vamos definir bem as condições."
   ]
  },
  {
   "cell_type": "code",
   "execution_count": 21,
   "metadata": {},
   "outputs": [
    {
     "name": "stdout",
     "output_type": "stream",
     "text": [
      "Boa madrugada!\n"
     ]
    }
   ],
   "source": [
    "# Altere a hora para ver outros resultados.\n",
    "hora = 25 # Define a hora atual\n",
    "\n",
    "# Se a hora for entre 5 e 11, exibe 'Bom dia!'\n",
    "if 5 <= hora <= 11:\n",
    "    print('Bom dia!')\n",
    "    \n",
    "# Se a hora for entre 12 e 17, exibe 'Boa tarde!'\n",
    "elif 12 <= hora <= 17:\n",
    "    print('Boa tarde!')\n",
    "    \n",
    "# Se a hora for entre 18 e 23, mas menor que 23, exibe 'Boa noite!'\n",
    "elif 18 <= hora <= 23: \n",
    "    print('Boa noite!')\n",
    "\n",
    "# Basicamente, se nenhuma das condições acima for atendida, exibe 'Boa madrugada!'. \n",
    "# Isso inclui valores negativos e maiores que 23. Uma forma seria deixar explícito que a hora deve ser 24, 1, 2, 3 ou 4.\n",
    "# Como else não aceita condições, podemos usar elif com a condição hora == 24 or 0 < hora <= 4. Falar sobre operadores lógicos adiante.\n",
    "else:\n",
    "    print('Boa madrugada!')"
   ]
  },
  {
   "cell_type": "markdown",
   "metadata": {},
   "source": [
    "Importante: Diferença entre usar if elif e if if\n",
    "\n",
    "if elif é usado quando queremos que o programa execute apenas uma das condições.\n",
    "\n",
    "Criamos um programa que:\n",
    "\n",
    "- verifica SE a hora está entre 5 e 11 e exiba 'Bom dia!' caso a condição seja atendida.\n",
    "- SE NÃO, verifica se são 10 horas e exibe 'São 10 horas!\n",
    "\n",
    "Definimos a hora com 10, oque atende as duas condições. Porém como a condição IF foi atendida, o programa não irá verificar as outras condições. Mesmo que seja 10 horas, o programa não irá exibir 'São 10 horas!' pois instruímos ele a exibir apenas uma das condições."
   ]
  },
  {
   "cell_type": "code",
   "execution_count": 22,
   "metadata": {},
   "outputs": [
    {
     "name": "stdout",
     "output_type": "stream",
     "text": [
      "Bom dia!\n"
     ]
    }
   ],
   "source": [
    "# Exemplo de if elif\n",
    "hora = 10\n",
    "\n",
    "if 5 <= hora <= 11:\n",
    "    print('Bom dia!')\n",
    "elif hora == 10:\n",
    "    print('São 10 horas!')"
   ]
  },
  {
   "cell_type": "markdown",
   "metadata": {},
   "source": [
    "if if é usado quando queremos que o programa execute todas as condições que forem atendidas.\n",
    "\n",
    "Diferente do programa anterior, usamos dois if, isso significa que o programa irá verifica ambas as condições."
   ]
  },
  {
   "cell_type": "code",
   "execution_count": 23,
   "metadata": {},
   "outputs": [
    {
     "name": "stdout",
     "output_type": "stream",
     "text": [
      "Bom dia!\n",
      "São 10 horas!\n"
     ]
    }
   ],
   "source": [
    "# Exemplo de if if\n",
    "if 5 <= hora <= 11:  # Dia entre 5 e 11\n",
    "    print('Bom dia!')\n",
    "if hora == 10:\n",
    "    print('São 10 horas!')"
   ]
  },
  {
   "cell_type": "markdown",
   "metadata": {},
   "source": [
    "### 03.5 - Usando decisões complexas\n",
    "\n",
    "Vejamos como os programas atuam em decisões complexas. Sabemos como executar ou pular código como base em uma condição. Mas e se quiséssemos verificar duas ou mais condições?"
   ]
  },
  {
   "cell_type": "markdown",
   "metadata": {},
   "source": [
    "#### Operador and (e)\n",
    "\n",
    "O operador and nos permite executar código somente se ambas as condições forem True. Ele ignora o bloco de código se uma ou mais condições forem False.\n",
    "\n",
    "Nesse exemplo só poderá dirigir se:\n",
    "\n",
    "tiver 18 ou mais E possuir habilitação"
   ]
  },
  {
   "cell_type": "code",
   "execution_count": 24,
   "metadata": {},
   "outputs": [
    {
     "name": "stdout",
     "output_type": "stream",
     "text": [
      "Pode dirigir.\n"
     ]
    }
   ],
   "source": [
    "# Alere a idade e a carteira_habilitacao para ver outros resultados.\n",
    "idade = 30\n",
    "carteira_habilitacao = True\n",
    "\n",
    "if idade >= 18 and carteira_habilitacao == True:\n",
    "    print('Pode dirigir.')\n",
    "else:\n",
    "    print('Não pode dirigir!')\n"
   ]
  },
  {
   "cell_type": "markdown",
   "metadata": {},
   "source": [
    "#### Operador or (ou)\n",
    "\n",
    "Para executar o código quando uma das condições for True, usamos o operador or (ou). Com ele, o código só será ignorado se todas as condições forem False.\n",
    "\n",
    "Nesse exemplo o aluno só será liberado se o pai OU a mãe estiverem presentes"
   ]
  },
  {
   "cell_type": "code",
   "execution_count": 26,
   "metadata": {},
   "outputs": [
    {
     "name": "stdout",
     "output_type": "stream",
     "text": [
      "Aluno liberado\n"
     ]
    }
   ],
   "source": [
    "# Altere o valor de pai e mae para ver outros resultados.\n",
    "pai = False\n",
    "mae = True\n",
    "\n",
    "if pai or mae:\n",
    "    print('Aluno liberado')\n",
    "else:\n",
    "    print('Aluno não liberado!')"
   ]
  },
  {
   "cell_type": "markdown",
   "metadata": {},
   "source": [
    "TABELA VERDADE\n",
    "\n",
    "- OPERADOR AND (e) - Ambos precisam ser True TRUE + TRUE = TRUE\n",
    "TRUE + FALSE = FALSE\n",
    "FALSE + TRUE = FALSE\n",
    "FALSE + FALSE = FALSE\n",
    "\n",
    "- OPERADOR OR (ou) - Pelo menos um precisa ser True\n",
    "TRUE + TRUE = TRUE\n",
    "TRUE + FALSE = TRUE\n",
    "FALSE + TRUE = TRUE\n",
    "FALSE + FALSE = FALSE"
   ]
  },
  {
   "cell_type": "markdown",
   "metadata": {},
   "source": [
    "#### Aninhamento\n",
    "\n",
    "Podemos usar instruções if, elif e else dentro de outras. A indentação precisa ser colocada corretamente para separar as instruções.\n",
    "\n",
    "Verifique o programa a seguir:"
   ]
  },
  {
   "cell_type": "code",
   "execution_count": 29,
   "metadata": {},
   "outputs": [
    {
     "name": "stdout",
     "output_type": "stream",
     "text": [
      "Pode votar!\n",
      "Voto facultativo!\n"
     ]
    }
   ],
   "source": [
    "# Altere a idade para ver outros resultados.\n",
    "idade = 17\n",
    "\n",
    "# Primeira condição - Verifica se tem pelo menos 16 anos. Se sim, o bloco if será executado.\n",
    "pode_votar = idade >= 16\n",
    "\n",
    "# Segunda condição - Verifica se a idade está entre 18 e 70, para saber se o voto é obrigatório.\n",
    "obrigatorio = 18 <= idade <= 70\n",
    "\n",
    "# Se a idade for maior ou igual a 16, o bloco if será executado.\n",
    "if pode_votar:\n",
    "    print('Pode votar!')\n",
    "    \n",
    "# Se a idade for maior ou igual a 18 e menor ou igual a 70, o bloco if será executado.\n",
    "    if obrigatorio:\n",
    "        print('Voto obrigatório!')\n",
    "        \n",
    "# Se a idade for menor que 18 ou maior que 70, o bloco else será executado.\n",
    "    else:\n",
    "        print('Voto facultativo!')\n",
    "        \n",
    "# Se a idade for menor que 16, o bloco else será executado.      \n",
    "else:\n",
    "    print('Não pode votar!')"
   ]
  }
 ],
 "metadata": {
  "kernelspec": {
   "display_name": "Python 3",
   "language": "python",
   "name": "python3"
  },
  "language_info": {
   "codemirror_mode": {
    "name": "ipython",
    "version": 3
   },
   "file_extension": ".py",
   "mimetype": "text/x-python",
   "name": "python",
   "nbconvert_exporter": "python",
   "pygments_lexer": "ipython3",
   "version": "3.12.1"
  }
 },
 "nbformat": 4,
 "nbformat_minor": 2
}
