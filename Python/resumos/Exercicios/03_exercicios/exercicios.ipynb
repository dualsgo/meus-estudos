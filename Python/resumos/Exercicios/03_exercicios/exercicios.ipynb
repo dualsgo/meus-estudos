{
 "cells": [
  {
   "cell_type": "markdown",
   "metadata": {},
   "source": [
    "# Exercícios sobre Tipos de Dados em Python\n",
    "\n",
    "### Nível Fácil\n",
    "\n",
    "1. Crie uma variável chamada `texto_curto` e atribua a ela uma string curta de sua escolha."
   ]
  },
  {
   "cell_type": "code",
   "execution_count": 3,
   "metadata": {},
   "outputs": [
    {
     "name": "stdout",
     "output_type": "stream",
     "text": [
      "Eu sou uma string!\n",
      "<class 'str'>\n"
     ]
    }
   ],
   "source": [
    "texto_curto = 'Eu sou uma string!'\n",
    "print(texto_curto)\n",
    "print(type(texto_curto))"
   ]
  },
  {
   "cell_type": "markdown",
   "metadata": {},
   "source": [
    "2. Declare uma variável chamada `numero_inteiro` e atribua a ela um número inteiro positivo."
   ]
  },
  {
   "cell_type": "code",
   "execution_count": 4,
   "metadata": {},
   "outputs": [
    {
     "name": "stdout",
     "output_type": "stream",
     "text": [
      "13\n",
      "<class 'int'>\n"
     ]
    }
   ],
   "source": [
    "numero_inteiro = 13\n",
    "print(numero_inteiro)\n",
    "print(type(numero_inteiro))"
   ]
  },
  {
   "cell_type": "markdown",
   "metadata": {},
   "source": [
    "3. Crie uma variável chamada `numero_ponto_flutuante` e atribua a ela um número de ponto flutuante negativo."
   ]
  },
  {
   "cell_type": "code",
   "execution_count": 5,
   "metadata": {},
   "outputs": [
    {
     "name": "stdout",
     "output_type": "stream",
     "text": [
      "-13.0\n",
      "<class 'float'>\n"
     ]
    }
   ],
   "source": [
    "numero_ponto_flutuante = -13.\n",
    "print(numero_ponto_flutuante)\n",
    "print(type(numero_ponto_flutuante))"
   ]
  },
  {
   "cell_type": "markdown",
   "metadata": {},
   "source": [
    "4. Atribua o valor booleano True a uma variável chamada `verdadeiro`."
   ]
  },
  {
   "cell_type": "code",
   "execution_count": 6,
   "metadata": {},
   "outputs": [
    {
     "name": "stdout",
     "output_type": "stream",
     "text": [
      "True\n",
      "<class 'bool'>\n"
     ]
    }
   ],
   "source": [
    "verdadeiro = True\n",
    "print(verdadeiro)\n",
    "print(type(verdadeiro))"
   ]
  },
  {
   "cell_type": "markdown",
   "metadata": {},
   "source": [
    "### Nível Médio\n",
    "\n",
    "5. Concatene as variáveis `texto_curto` e `numero_inteiro` em uma nova variável chamada `concatenado` e imprima o resultado."
   ]
  },
  {
   "cell_type": "code",
   "execution_count": 7,
   "metadata": {},
   "outputs": [
    {
     "name": "stdout",
     "output_type": "stream",
     "text": [
      "('Eu sou uma string!', 13)\n"
     ]
    }
   ],
   "source": [
    "concatenando = texto_curto, numero_inteiro # Devido a diferença entre os tipos de dados, só é possível concatenar utilizando o operador vírgula, não o operador + (ou utilizar f-string ou converter o dado int para str)\n",
    "print(concatenando)"
   ]
  },
  {
   "cell_type": "markdown",
   "metadata": {},
   "source": [
    "6. Crie uma variável chamada `distancia_km` e atribua a ela um valor float representando uma distância em quilômetros."
   ]
  },
  {
   "cell_type": "code",
   "execution_count": 8,
   "metadata": {},
   "outputs": [
    {
     "name": "stdout",
     "output_type": "stream",
     "text": [
      "18.7Km\n"
     ]
    }
   ],
   "source": [
    "distancia_km = 18.7\n",
    "print(distancia_km,'Km', sep='')"
   ]
  },
  {
   "cell_type": "markdown",
   "metadata": {},
   "source": [
    "7. Atribua o valor booleano False a uma variável chamada `falso`."
   ]
  },
  {
   "cell_type": "code",
   "execution_count": 9,
   "metadata": {},
   "outputs": [
    {
     "name": "stdout",
     "output_type": "stream",
     "text": [
      "Falso é False\n"
     ]
    }
   ],
   "source": [
    "falso = False\n",
    "print(f'Falso é {falso}')"
   ]
  },
  {
   "cell_type": "markdown",
   "metadata": {},
   "source": [
    "8. Utilizando operadores de comparação, verifique se `numero_inteiro` é maior que `numero_ponto_flutuante` e atribua o resultado a uma variável chamada `comparacao_resultado`."
   ]
  },
  {
   "cell_type": "code",
   "execution_count": 10,
   "metadata": {},
   "outputs": [
    {
     "name": "stdout",
     "output_type": "stream",
     "text": [
      "13 é maior que -13.0\n",
      "Sim ou não? True\n"
     ]
    }
   ],
   "source": [
    "comparacao_resultado = numero_inteiro > numero_ponto_flutuante\n",
    "print(f'{numero_inteiro} é maior que {numero_ponto_flutuante}')\n",
    "print(f'Sim ou não? {comparacao_resultado}')"
   ]
  },
  {
   "cell_type": "markdown",
   "metadata": {},
   "source": [
    "### Nível Avançado\n",
    "\n",
    "9. Crie uma variável chamada `frase_complexa` que contenha uma string longa com pelo menos três frases chamada `aprovado`."
   ]
  },
  {
   "cell_type": "code",
   "execution_count": 15,
   "metadata": {},
   "outputs": [
    {
     "name": "stdout",
     "output_type": "stream",
     "text": [
      "Eu sou uma string! Eu sou uma string! e 13 é um número inteiro e -13.0 é um número de ponto flutuante\n"
     ]
    }
   ],
   "source": [
    "\n",
    "frase_complexa = f'Eu sou uma string! {texto_curto} e {numero_inteiro} é um número inteiro e {numero_ponto_flutuante} é um número de ponto flutuante'\n",
    "print(frase_complexa)"
   ]
  },
  {
   "cell_type": "markdown",
   "metadata": {},
   "source": [
    "10. Declare uma variável chamada `media` e atribua a ela um valor float representando uma média de notas. Em seguida, verifique se a média é maior que 7.0 e atribua o resultado a uma variável"
   ]
  },
  {
   "cell_type": "code",
   "execution_count": 12,
   "metadata": {},
   "outputs": [
    {
     "name": "stdout",
     "output_type": "stream",
     "text": [
      "A média é maior que 7? True\n"
     ]
    }
   ],
   "source": [
    "media = 8.\n",
    "maior_que_sete = media > 7\n",
    "print(f'A média é maior que 7? {maior_que_sete}')"
   ]
  }
 ],
 "metadata": {
  "kernelspec": {
   "display_name": "Python 3",
   "language": "python",
   "name": "python3"
  },
  "language_info": {
   "codemirror_mode": {
    "name": "ipython",
    "version": 3
   },
   "file_extension": ".py",
   "mimetype": "text/x-python",
   "name": "python",
   "nbconvert_exporter": "python",
   "pygments_lexer": "ipython3",
   "version": "3.12.1"
  }
 },
 "nbformat": 4,
 "nbformat_minor": 2
}
