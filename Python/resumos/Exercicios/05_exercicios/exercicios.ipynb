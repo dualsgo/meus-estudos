{
 "cells": [
  {
   "cell_type": "markdown",
   "metadata": {},
   "source": [
    "# Exercícios sobre Manipulação de Strings em Python\n",
    "\n",
    "### Nível Fácil\n",
    "\n",
    "1. Crie uma variável chamada `fruta` e atribua a ela o valor 'Banana'. Em seguida, imprima a palavra em maiúsculas."
   ]
  },
  {
   "cell_type": "code",
   "execution_count": 1,
   "metadata": {},
   "outputs": [
    {
     "name": "stdout",
     "output_type": "stream",
     "text": [
      "BANANA\n"
     ]
    }
   ],
   "source": [
    "fruta = 'Banana'\n",
    "\n",
    "print(fruta.upper())"
   ]
  },
  {
   "cell_type": "markdown",
   "metadata": {},
   "source": [
    "2. Declare uma variável chamada `cidade` e atribua a ela o nome da sua cidade. Conte e imprima a quantidade de caracteres na cidade."
   ]
  },
  {
   "cell_type": "code",
   "execution_count": 3,
   "metadata": {},
   "outputs": [
    {
     "name": "stdout",
     "output_type": "stream",
     "text": [
      "O nome da cidade \"Rio de Janeiro\" tem 14 caracteres.\n"
     ]
    }
   ],
   "source": [
    "cidade = 'Rio de Janeiro'\n",
    "print(f'O nome da cidade \"{cidade}\" tem {len(cidade)} caracteres.')"
   ]
  },
  {
   "cell_type": "markdown",
   "metadata": {},
   "source": [
    "3. Atribua um número inteiro a uma variável chamada `quantidade_caracteres` representando o número total de caracteres em uma palavra de sua escolha."
   ]
  },
  {
   "cell_type": "code",
   "execution_count": 5,
   "metadata": {},
   "outputs": [
    {
     "name": "stdout",
     "output_type": "stream",
     "text": [
      "6\n"
     ]
    }
   ],
   "source": [
    "quantidade_caracteres = len('Maycon')\n",
    "print(quantidade_caracteres)"
   ]
  },
  {
   "cell_type": "markdown",
   "metadata": {},
   "source": [
    "4. Crie uma variável chamada `preco_produto` e atribua a ela um valor de ponto flutuante representando o preço de um produto."
   ]
  },
  {
   "cell_type": "code",
   "execution_count": 7,
   "metadata": {},
   "outputs": [
    {
     "name": "stdout",
     "output_type": "stream",
     "text": [
      "O produto custa R$199.99\n"
     ]
    }
   ],
   "source": [
    "preco_produto = 199.99\n",
    "print(f'O produto custa R${preco_produto}')"
   ]
  },
  {
   "cell_type": "markdown",
   "metadata": {},
   "source": [
    "### Nível Médio\n",
    "\n",
    "5. Utilizando a técnica de fatiamento, extraia a segunda palavra da frase: \"Python é uma linguagem poderosa.\"."
   ]
  },
  {
   "cell_type": "code",
   "execution_count": 8,
   "metadata": {},
   "outputs": [
    {
     "name": "stdout",
     "output_type": "stream",
     "text": [
      "é\n"
     ]
    }
   ],
   "source": [
    "frase = 'Python é uma linguagem poderosa.'\n",
    "frase_fatiada = frase.split()\n",
    "segunda_palavra = frase_fatiada[1]\n",
    "print(segunda_palavra)"
   ]
  },
  {
   "cell_type": "markdown",
   "metadata": {},
   "source": [
    "6. Atribua um texto a uma variável chamada `texto_original` e, em seguida, crie uma nova variável chamada `texto_modificado` que contenha o texto original em minúsculas."
   ]
  },
  {
   "cell_type": "code",
   "execution_count": 10,
   "metadata": {},
   "outputs": [
    {
     "name": "stdout",
     "output_type": "stream",
     "text": [
      "esse texto servirá de exemplo.\n"
     ]
    }
   ],
   "source": [
    "texto_original = 'Esse texto servirá de exemplo.'\n",
    "texto_modificado = texto_original.lower()\n",
    "print(texto_modificado)"
   ]
  },
  {
   "cell_type": "markdown",
   "metadata": {},
   "source": [
    "7. Inicialize três variáveis, `palavra1`, `palavra2` e `palavra3`, com valores de sua escolha. Em seguida, crie uma variável chamada `frase_completa` que contenha essas três palavras separadas por espaços."
   ]
  },
  {
   "cell_type": "code",
   "execution_count": 15,
   "metadata": {},
   "outputs": [
    {
     "name": "stdout",
     "output_type": "stream",
     "text": [
      "Eu estudo Python\n"
     ]
    }
   ],
   "source": [
    "palavra1, palavra2, palavra3 = 'Eu', 'estudo', 'Python'\n",
    "frase_completa = palavra1, palavra2, palavra3\n",
    "print(' '.join(frase_completa))"
   ]
  },
  {
   "cell_type": "markdown",
   "metadata": {},
   "source": [
    "8. Crie uma variável chamada `nome_completo` e atribua a ela seu nome completo. Substitua seu sobrenome por 'Silva' utilizando o método apropriado."
   ]
  },
  {
   "cell_type": "code",
   "execution_count": 16,
   "metadata": {},
   "outputs": [
    {
     "name": "stdout",
     "output_type": "stream",
     "text": [
      "Maycon Silva\n"
     ]
    }
   ],
   "source": [
    "nome_completo = 'Maycon Douglas'\n",
    "nome = nome_completo.replace('Douglas', 'Silva')\n",
    "print(nome)"
   ]
  },
  {
   "cell_type": "markdown",
   "metadata": {},
   "source": [
    "### Nível Avançado\n",
    "\n",
    "9. Utilizando o método `.split()`, divida a seguinte frase em uma lista de palavras: \"Exercícios de Python são ótimos para aprender programação.\"."
   ]
  },
  {
   "cell_type": "code",
   "execution_count": 17,
   "metadata": {},
   "outputs": [
    {
     "name": "stdout",
     "output_type": "stream",
     "text": [
      "['Exercícios', 'de', 'Python', 'são', 'ótimos', 'para', 'aprender', 'programação.']\n"
     ]
    }
   ],
   "source": [
    "frase = 'Exercícios de Python são ótimos para aprender programação.'\n",
    "print(frase.split())"
   ]
  },
  {
   "cell_type": "markdown",
   "metadata": {},
   "source": [
    "10. Declare duas variáveis, `titulo_livro` e `autor_livro`, e atribua a elas informações sobre um livro fictício (ex: \"Aventuras em Python\" e \"John Doe\"). Em seguida, crie uma terceira variável chamada `referencia_livro` que contenha uma string formatada representando a referência bibliográfica do livro."
   ]
  },
  {
   "cell_type": "code",
   "execution_count": 18,
   "metadata": {},
   "outputs": [
    {
     "name": "stdout",
     "output_type": "stream",
     "text": [
      "O livro \"Aventuras de Python\" foi escrito pelo autor \"Jhon Doe\"\n"
     ]
    }
   ],
   "source": [
    "titulo_livro = 'Aventuras de Python'\n",
    "autor_livro = 'Jhon Doe'\n",
    "referencia_livro = f'O livro \"{titulo_livro}\" foi escrito pelo autor \"{autor_livro}\"' \n",
    "\n",
    "print(referencia_livro)"
   ]
  }
 ],
 "metadata": {
  "kernelspec": {
   "display_name": "Python 3",
   "language": "python",
   "name": "python3"
  },
  "language_info": {
   "codemirror_mode": {
    "name": "ipython",
    "version": 3
   },
   "file_extension": ".py",
   "mimetype": "text/x-python",
   "name": "python",
   "nbconvert_exporter": "python",
   "pygments_lexer": "ipython3",
   "version": "3.12.1"
  }
 },
 "nbformat": 4,
 "nbformat_minor": 2
}
