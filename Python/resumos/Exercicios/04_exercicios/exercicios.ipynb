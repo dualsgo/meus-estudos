{
 "cells": [
  {
   "cell_type": "markdown",
   "metadata": {},
   "source": [
    "# Exercícios sobre Funções em Python\n",
    "\n",
    "### Nível Fácil\n",
    "\n",
    "1. Crie uma função chamada `saudacao` que recebe um nome como argumento e imprime uma saudação personalizada."
   ]
  },
  {
   "cell_type": "code",
   "execution_count": 2,
   "metadata": {},
   "outputs": [
    {
     "name": "stdout",
     "output_type": "stream",
     "text": [
      "Olá, Maycon. Seja bem vindo!\n",
      "Olá, Douglas. Seja bem vindo!\n"
     ]
    }
   ],
   "source": [
    "def saudacao(n): # n é um parâmetro\n",
    "    print(f'Olá, {n}. Seja bem vindo!')\n",
    "\n",
    "\n",
    "saudacao('Maycon') # Maycon é um argumento\n",
    "saudacao('Douglas')"
   ]
  },
  {
   "cell_type": "markdown",
   "metadata": {},
   "source": [
    "2. Defina uma função chamada `calculo_quadrado` que recebe um número como parâmetro e retorna o quadrado desse número."
   ]
  },
  {
   "cell_type": "code",
   "execution_count": 4,
   "metadata": {},
   "outputs": [
    {
     "name": "stdout",
     "output_type": "stream",
     "text": [
      "25\n"
     ]
    }
   ],
   "source": [
    "def calculo_quadrado(n): # n é um parâmetro\n",
    "    return n ** 2\n",
    "\n",
    "\n",
    "print(calculo_quadrado(5)) # 5 é um argumento"
   ]
  },
  {
   "cell_type": "markdown",
   "metadata": {},
   "source": [
    "3. Crie uma função chamada `verifica_par` que aceita um número como entrada e imprime se é par ou ímpar."
   ]
  },
  {
   "cell_type": "code",
   "execution_count": 9,
   "metadata": {},
   "outputs": [
    {
     "name": "stdout",
     "output_type": "stream",
     "text": [
      "True\n",
      "False\n"
     ]
    }
   ],
   "source": [
    "def verifica_par(n):\n",
    "    return True if n % 2 == 0 else False\n",
    "\n",
    "\n",
    "print(verifica_par(2))\n",
    "print(verifica_par(1))"
   ]
  },
  {
   "cell_type": "markdown",
   "metadata": {},
   "source": [
    "4. Implemente uma função chamada `calculo_media` que recebe três notas como parâmetros e retorna a média delas."
   ]
  },
  {
   "cell_type": "code",
   "execution_count": 11,
   "metadata": {},
   "outputs": [
    {
     "name": "stdout",
     "output_type": "stream",
     "text": [
      "6.666666666666667\n"
     ]
    }
   ],
   "source": [
    "def calculo_media(n1, n2, n3):\n",
    "    return (n1 + n2 + n3) / 3\n",
    "\n",
    "\n",
    "print(calculo_media(7, 5, 8))"
   ]
  },
  {
   "cell_type": "markdown",
   "metadata": {},
   "source": [
    "### Nível Médio\n",
    "\n",
    "5. Escreva uma função chamada `verifica_primo` que recebe um número como argumento e retorna True se for primo, e False caso contrário."
   ]
  },
  {
   "cell_type": "code",
   "execution_count": 25,
   "metadata": {},
   "outputs": [
    {
     "name": "stdout",
     "output_type": "stream",
     "text": [
      "True\n",
      "True\n",
      "False\n",
      "False\n",
      "True\n"
     ]
    }
   ],
   "source": [
    "def verifica_primo(x):\n",
    "    d = 0\n",
    "    for n in range(1, x):\n",
    "        \n",
    "        if x % n == 0:\n",
    "            d += 1\n",
    "    return True if d <= 2 else False\n",
    "\n",
    "\n",
    "print(verifica_primo(7))\n",
    "print(verifica_primo(2))\n",
    "print(verifica_primo(10))\n",
    "print(verifica_primo(20))\n",
    "print(verifica_primo(3))"
   ]
  },
  {
   "cell_type": "markdown",
   "metadata": {},
   "source": [
    "6. Crie uma função chamada `imprime_pares` que recebe uma lista de números e imprime apenas os números pares."
   ]
  },
  {
   "cell_type": "code",
   "execution_count": 31,
   "metadata": {},
   "outputs": [
    {
     "name": "stdout",
     "output_type": "stream",
     "text": [
      "0 - 2 - 4 - 6 - 8 - Fim!\n"
     ]
    }
   ],
   "source": [
    "pares = [0, 1, 2, 3, 4, 5, 6, 7, 8, 9]\n",
    "def imprime_pares(lista):\n",
    "    for n in lista:\n",
    "      if n % 2 == 0:\n",
    "        print(n, end=' - ')\n",
    "    else:\n",
    "      print('Fim!')\n",
    "        \n",
    "\n",
    "imprime_pares(pares)"
   ]
  },
  {
   "cell_type": "markdown",
   "metadata": {},
   "source": [
    "7. Implemente uma função chamada `inverte_string` que recebe uma string como parâmetro e retorna a string invertida."
   ]
  },
  {
   "cell_type": "code",
   "execution_count": 1,
   "metadata": {},
   "outputs": [
    {
     "name": "stdout",
     "output_type": "stream",
     "text": [
      "FEDCBA\n"
     ]
    }
   ],
   "source": [
    "def inverte_string(frase):\n",
    "    frase_invertida = ''\n",
    "    for letra in frase:\n",
    "        frase_invertida = letra + frase_invertida\n",
    "    print(frase_invertida)\n",
    "\n",
    "frase_original = 'ABCDEF'\n",
    "inverte_string(frase_original)\n"
   ]
  },
  {
   "cell_type": "markdown",
   "metadata": {},
   "source": [
    "8. Defina uma função chamada `soma_intervalo` que aceita dois números como entrada e retorna a soma de todos os números no intervalo entre eles."
   ]
  },
  {
   "cell_type": "code",
   "execution_count": 4,
   "metadata": {},
   "outputs": [
    {
     "name": "stdout",
     "output_type": "stream",
     "text": [
      "3\n",
      "55\n"
     ]
    }
   ],
   "source": [
    "def soma_intervalo(n1, n2):\n",
    "    soma = 0\n",
    "    for n in range(n1, n2+1):\n",
    "        soma += n\n",
    "    return soma\n",
    "\n",
    "\n",
    "print(soma_intervalo(1, 2))\n",
    "print(soma_intervalo(0, 10))"
   ]
  },
  {
   "cell_type": "markdown",
   "metadata": {},
   "source": [
    "### Nível Avançado\n",
    "\n",
    "9. Escreva uma função chamada `calcula_fatorial` que recebe um número inteiro como argumento e retorna o seu fatorial."
   ]
  },
  {
   "cell_type": "code",
   "execution_count": 2,
   "metadata": {},
   "outputs": [
    {
     "name": "stdout",
     "output_type": "stream",
     "text": [
      "6\n"
     ]
    }
   ],
   "source": [
    "def calcula_fatorial(f):\n",
    "  fat = 1\n",
    "  for n in range(1, f+1):\n",
    "    fat *= n\n",
    "  return fat\n",
    "\n",
    "print(calcula_fatorial(3))"
   ]
  },
  {
   "cell_type": "markdown",
   "metadata": {},
   "source": [
    "10. Crie uma função chamada `analisa_palindrome` que verifica se uma palavra é um palíndromo (lê-se da mesma forma de trás para frente), retornando True ou False."
   ]
  },
  {
   "cell_type": "code",
   "execution_count": 15,
   "metadata": {},
   "outputs": [
    {
     "name": "stdout",
     "output_type": "stream",
     "text": [
      "Palíndromo\n",
      "Palíndromo\n",
      "Não é\n"
     ]
    }
   ],
   "source": [
    "def analisa_palindromo(frase):\n",
    "    frase = frase.replace(' ', '').upper()\n",
    "    frase_invertida = frase[-1::-1]\n",
    "    if frase == frase_invertida:\n",
    "        print('Palíndromo')\n",
    "    else:\n",
    "        print('Não é')\n",
    "\n",
    "analisa_palindromo('ROMA ME TEM AMOR')\n",
    "analisa_palindromo('Ame a ema')\n"
   ]
  }
 ],
 "metadata": {
  "kernelspec": {
   "display_name": "Python 3",
   "language": "python",
   "name": "python3"
  },
  "language_info": {
   "codemirror_mode": {
    "name": "ipython",
    "version": 3
   },
   "file_extension": ".py",
   "mimetype": "text/x-python",
   "name": "python",
   "nbconvert_exporter": "python",
   "pygments_lexer": "ipython3",
   "version": "3.12.1"
  }
 },
 "nbformat": 4,
 "nbformat_minor": 2
}
