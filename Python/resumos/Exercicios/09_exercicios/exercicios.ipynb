{
 "cells": [
  {
   "cell_type": "markdown",
   "metadata": {},
   "source": [
    "## Exercícios sobre Funções em Python\n",
    "\n",
    "### Nível Fácil\n",
    "\n",
    "1. Crie uma função chamada `saudacao` que recebe um nome como parâmetro. Dentro da função, imprima uma saudação personalizada utilizando o nome fornecido."
   ]
  },
  {
   "cell_type": "code",
   "execution_count": 1,
   "metadata": {},
   "outputs": [
    {
     "name": "stdout",
     "output_type": "stream",
     "text": [
      "Olá, Maycon. Seja muito bem vindo!\n"
     ]
    }
   ],
   "source": [
    "def saudacao(nome):\n",
    "    print(f'Olá, {nome}. Seja muito bem vindo!')\n",
    "\n",
    "\n",
    "saudacao('Maycon')"
   ]
  },
  {
   "cell_type": "markdown",
   "metadata": {},
   "source": [
    "2. Escreva uma função chamada `soma_dois_numeros` que aceita dois parâmetros e retorna a soma desses números."
   ]
  },
  {
   "cell_type": "code",
   "execution_count": 2,
   "metadata": {},
   "outputs": [
    {
     "data": {
      "text/plain": [
       "7"
      ]
     },
     "execution_count": 2,
     "metadata": {},
     "output_type": "execute_result"
    }
   ],
   "source": [
    "def soma_dois_numeros(n1, n2):\n",
    "    return n1 + n2\n",
    "\n",
    "\n",
    "soma_dois_numeros(5, 2)"
   ]
  },
  {
   "cell_type": "markdown",
   "metadata": {},
   "source": [
    "### Nível Médio\n",
    "\n",
    "3. Implemente uma função chamada `calcula_media` que recebe uma lista de números como argumento e retorna a média desses valores."
   ]
  },
  {
   "cell_type": "code",
   "execution_count": 7,
   "metadata": {},
   "outputs": [
    {
     "data": {
      "text/plain": [
       "6.75"
      ]
     },
     "execution_count": 7,
     "metadata": {},
     "output_type": "execute_result"
    }
   ],
   "source": [
    "def calcula_media(*num):\n",
    "    soma = 0\n",
    "    for numero in num:\n",
    "        soma += numero\n",
    "    \n",
    "    return soma / len(num)\n",
    "\n",
    "\n",
    "calcula_media(4, 6, 8, 9)"
   ]
  },
  {
   "cell_type": "markdown",
   "metadata": {},
   "source": [
    "4. Crie um programa que utiliza uma função para verificar se um número é primo. Solicite ao usuário que insira um número e informe se o número é primo ou não."
   ]
  },
  {
   "cell_type": "code",
   "execution_count": 10,
   "metadata": {},
   "outputs": [
    {
     "name": "stdout",
     "output_type": "stream",
     "text": [
      "6 não é primo!\n"
     ]
    }
   ],
   "source": [
    "def verifica_primo(num):\n",
    "    divisores = 0\n",
    "    for n in range(1, num+1):\n",
    "        if num % n == 0:\n",
    "            divisores += 1\n",
    "\n",
    "    if divisores == 2:\n",
    "        print(f'{num} é primo!')\n",
    "    else:\n",
    "        print(f'{num} não é primo!')\n",
    "\n",
    "\n",
    "verifica_primo(6)"
   ]
  },
  {
   "cell_type": "markdown",
   "metadata": {},
   "source": [
    "### Nível Avançado\n",
    "\n",
    "5. Desenvolva uma função chamada `calcula_fatorial` que recebe um número inteiro como parâmetro e retorna o fatorial desse número."
   ]
  },
  {
   "cell_type": "markdown",
   "metadata": {},
   "source": [
    "6. Escreva um programa que utiliza uma função para verificar se uma palavra é um palíndromo. Solicite ao usuário que insira uma palavra e informe se é um palíndromo ou não."
   ]
  },
  {
   "cell_type": "markdown",
   "metadata": {},
   "source": [
    "### Desafio\n",
    "\n",
    "7. Crie uma função chamada `gera_matriz_identidade` que recebe um número inteiro como parâmetro e retorna uma matriz identidade de ordem n."
   ]
  },
  {
   "cell_type": "markdown",
   "metadata": {},
   "source": [
    "8. Implemente um programa que simula um jogo de forca. Escolha aleatoriamente uma palavra, e permita que o usuário adivinhe as letras. Forneça dicas sobre as letras corretas e incorretas."
   ]
  },
  {
   "cell_type": "markdown",
   "metadata": {},
   "source": [
    "9. Desenvolva uma função que recebe uma lista de números e retorna uma nova lista contendo apenas os números pares."
   ]
  },
  {
   "cell_type": "code",
   "execution_count": 1,
   "metadata": {},
   "outputs": [
    {
     "name": "stdout",
     "output_type": "stream",
     "text": [
      "[2, 4, 6, 8]\n"
     ]
    }
   ],
   "source": [
    "def apenas_pares(lista):\n",
    "\tpares = [numero for numero in lista if numero % 2 == 0]\n",
    "\treturn pares\n",
    "\n",
    "algo = [1, 2, 3, 4, 5, 6, 7, 8, 9]\n",
    "print(apenas_pares(algo))"
   ]
  },
  {
   "cell_type": "markdown",
   "metadata": {},
   "source": [
    "10. Crie uma função chamada `calcula_exponencial` que recebe dois números inteiros como argumento e retorna o resultado da base elevada ao expoente. Utilize recursão para calcular a exponencial."
   ]
  }
 ],
 "metadata": {
  "kernelspec": {
   "display_name": "Python 3",
   "language": "python",
   "name": "python3"
  },
  "language_info": {
   "codemirror_mode": {
    "name": "ipython",
    "version": 3
   },
   "file_extension": ".py",
   "mimetype": "text/x-python",
   "name": "python",
   "nbconvert_exporter": "python",
   "pygments_lexer": "ipython3",
   "version": "3.12.1"
  }
 },
 "nbformat": 4,
 "nbformat_minor": 2
}
