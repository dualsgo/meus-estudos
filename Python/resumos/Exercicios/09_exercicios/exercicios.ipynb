{
 "cells": [
  {
   "cell_type": "markdown",
   "metadata": {},
   "source": [
    "## Exercícios sobre Funções em Python\n",
    "\n",
    "### Nível Fácil\n",
    "\n",
    "1. Crie uma função chamada `saudacao` que recebe um nome como parâmetro. Dentro da função, imprima uma saudação personalizada utilizando o nome fornecido.\n",
    "\n",
    "2. Escreva uma função chamada `soma_dois_numeros` que aceita dois parâmetros e retorna a soma desses números.\n",
    "\n",
    "### Nível Médio\n",
    "\n",
    "3. Implemente uma função chamada `calcula_media` que recebe uma lista de números como argumento e retorna a média desses valores.\n",
    "\n",
    "4. Crie um programa que utiliza uma função para verificar se um número é primo. Solicite ao usuário que insira um número e informe se o número é primo ou não.\n",
    "\n",
    "### Nível Avançado\n",
    "\n",
    "5. Desenvolva uma função chamada `calcula_fatorial` que recebe um número inteiro como parâmetro e retorna o fatorial desse número.\n",
    "\n",
    "6. Escreva um programa que utiliza uma função para verificar se uma palavra é um palíndromo. Solicite ao usuário que insira uma palavra e informe se é um palíndromo ou não.\n",
    "\n",
    "### Desafio\n",
    "\n",
    "7. Crie uma função chamada `gera_matriz_identidade` que recebe um número inteiro como parâmetro e retorna uma matriz identidade de ordem n.\n",
    "\n",
    "8. Implemente um programa que simula um jogo de forca. Escolha aleatoriamente uma palavra, e permita que o usuário adivinhe as letras. Forneça dicas sobre as letras corretas e incorretas.\n",
    "\n",
    "9. Desenvolva uma função que recebe uma lista de números e retorna uma nova lista contendo apenas os números pares.\n",
    "\n",
    "10. Crie uma função chamada `calcula_exponencial` que recebe dois números inteiros como argumento e retorna o resultado da base elevada ao expoente. Utilize recursão para calcular a exponencial.\n",
    "\n",
    "Lembre-se de utilizar boas práticas de codificação, como comentários explicativos e nomes de variáveis significativos."
   ]
  }
 ],
 "metadata": {
  "language_info": {
   "name": "python"
  }
 },
 "nbformat": 4,
 "nbformat_minor": 2
}
