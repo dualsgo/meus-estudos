{
 "cells": [
  {
   "cell_type": "markdown",
   "metadata": {},
   "source": [
    "# Exercícios de Programação Orientada a Objetos em Python\n",
    "\n",
    "### Nível Iniciante\n",
    "\n",
    "1. **Classe de Veículo:**\n",
    "   - Crie uma classe chamada `Veiculo` com atributos como `marca`, `modelo`, e `ano`. Adicione um método para exibir as informações do veículo.\n",
    "\n",
    "2. **Herança:**\n",
    "   - Crie uma classe derivada chamada `Carro` que herde da classe `Veiculo`. Adicione atributos específicos para carros, como `num_portas` e `tipo_combustivel`.\n",
    "\n",
    "### Nível Intermediário\n",
    "\n",
    "3. **Encapsulamento:**\n",
    "   - Modifique a classe `Veiculo` para tornar alguns atributos privados e forneça métodos de acesso para esses atributos.\n",
    "\n",
    "4. **Abstração:**\n",
    "   - Crie uma classe abstrata chamada `Animal` com um método abstrato `fazer_som()`. Derive classes como `Cachorro`, `Gato`, e `Pato` implementando esse método.\n",
    "\n",
    "### Nível Avançado\n",
    "\n",
    "5. **Polimorfismo:**\n",
    "   - Crie uma função chamada `emitir_som(animal)` que aceite um objeto do tipo `Animal` e chame o método `fazer_som()`. Teste essa função com instâncias de diferentes animais.\n",
    "\n",
    "6. **Construtores:**\n",
    "   - Adicione construtores apropriados às suas classes para garantir que os objetos possam ser inicializados corretamente.\n",
    "\n",
    "7. **Módulo e Pacote:**\n",
    "   - Organize suas classes em um módulo e crie um pacote contendo esse módulo.\n",
    "\n",
    "Lembre-se de praticar a escrita de código e experimentar diferentes abordagens para ganhar familiaridade com os conceitos discutidos. Boa prática!"
   ]
  }
 ],
 "metadata": {
  "language_info": {
   "name": "python"
  }
 },
 "nbformat": 4,
 "nbformat_minor": 2
}
