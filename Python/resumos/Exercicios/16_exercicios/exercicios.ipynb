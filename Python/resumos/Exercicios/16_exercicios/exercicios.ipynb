{
 "cells": [
  {
   "cell_type": "markdown",
   "metadata": {},
   "source": [
    "# # Introdução à Linguagem Python - Exercícios\n",
    "## Dicionários em Python\n",
    "\n",
    "### Nível Fácil\n",
    "\n",
    "1. Crie uma função chamada `exibir_dicionario` que recebe um dicionário como parâmetro e imprime cada chave e valor em uma linha.\n",
    "\n",
    "2. Escreva um programa que utiliza um dicionário para armazenar o nome, idade e cidade de uma pessoa. Em seguida, imprima cada informação separadamente.\n",
    "\n",
    "### Nível Médio\n",
    "\n",
    "3. Implemente uma função chamada `verificar_chave` que recebe um dicionário e uma chave como argumentos e retorna True se a chave estiver presente no dicionário, e False caso contrário.\n",
    "\n",
    "4. Crie um programa que utiliza um dicionário para armazenar o nome e a nota de três alunos. Em seguida, calcule a média das notas e imprima o resultado.\n",
    "\n",
    "### Nível Avançado\n",
    "\n",
    "5. Desenvolva uma função chamada `combinar_dicionarios` que recebe dois dicionários como argumentos e retorna um novo dicionário que contém todas as chaves e valores dos dois dicionários, sem repetições.\n",
    "\n",
    "6. Escreva um programa que utiliza um dicionário para representar uma agenda telefônica. O programa deve permitir ao usuário adicionar, remover e buscar contatos pelo nome.\n",
    "\n",
    "### Desafio\n",
    "\n",
    "7. Crie uma função chamada `calcular_frequencia` que recebe uma lista de palavras como argumento e retorna um dicionário onde as chaves são as palavras únicas da lista e os valores são a frequência de cada palavra.\n",
    "\n",
    "8. Implemente um programa que utiliza dicionários para representar um sistema de cadastro de produtos. Cada produto possui um nome, preço e quantidade em estoque. O programa deve permitir ao usuário realizar operações como adicionar novos produtos, atualizar informações de um produto, e exibir os produtos cadastrados.\n",
    "\n",
    "9. Desenvolva uma função chamada `encontrar_pares_dicionario` que recebe um dicionário onde as chaves são números inteiros e os valores são listas de números inteiros. A função deve retornar uma lista de tuplas contendo pares de chaves e valores onde a soma dos valores na lista é igual à chave.\n",
    "\n",
    "10. Crie uma função chamada `contar_caracteres` que recebe uma string como argumento e retorna um dicionário onde as chaves são os caracteres presentes na string e os valores são a quantidade de vezes que cada caractere aparece.\n",
    "\n",
    "Lembre-se de utilizar boas práticas de codificação, como comentários explicativos e nomes de variáveis significativos."
   ]
  }
 ],
 "metadata": {
  "language_info": {
   "name": "python"
  }
 },
 "nbformat": 4,
 "nbformat_minor": 2
}
