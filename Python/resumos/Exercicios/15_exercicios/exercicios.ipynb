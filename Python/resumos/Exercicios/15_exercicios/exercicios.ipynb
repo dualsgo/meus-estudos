{
 "cells": [
  {
   "cell_type": "markdown",
   "metadata": {},
   "source": [
    "# # Introdução à Linguagem Python - Exercícios\n",
    "## Tuplas em Python\n",
    "\n",
    "### Nível Fácil\n",
    "\n",
    "1. Crie uma função chamada `exibir_tupla` que recebe uma tupla como parâmetro e imprime cada elemento da tupla em uma linha.\n",
    "\n",
    "2. Escreva um programa que define duas tuplas, cada uma representando um ponto no plano cartesiano (x, y). Em seguida, calcule a distância entre esses dois pontos utilizando a fórmula da distância euclidiana: \\( \\sqrt{(x_2 - x_1)^2 + (y_2 - y_1)^2} \\).\n",
    "\n",
    "### Nível Médio\n",
    "\n",
    "3. Implemente uma função chamada `contar_ocorrencias` que recebe uma tupla e um elemento como argumentos e retorna o número de vezes que o elemento ocorre na tupla.\n",
    "\n",
    "4. Crie um programa que utiliza uma tupla para armazenar os nomes dos meses do ano. Em seguida, solicite ao usuário que digite um número de 1 a 12 e exiba o nome do mês correspondente.\n",
    "\n",
    "### Nível Avançado\n",
    "\n",
    "5. Desenvolva uma função chamada `unir_tuplas` que recebe duas tuplas como argumentos e retorna uma nova tupla contendo todos os elementos das duas tuplas, sem elementos duplicados.\n",
    "\n",
    "6. Escreva um programa que utiliza uma tupla para representar os ingredientes de uma receita. Solicite ao usuário que digite um ingrediente, verifique se ele está presente na tupla e informe se o ingrediente está na receita ou não.\n",
    "\n",
    "### Desafio\n",
    "\n",
    "7. Crie uma função chamada `calcular_estatisticas` que recebe uma lista de tuplas, onde cada tupla contém o nome de um aluno e suas notas (pode haver mais de uma nota). A função deve calcular a média, a nota mais alta e a nota mais baixa para cada aluno, e retornar essas estatísticas.\n",
    "\n",
    "8. Implemente um programa que utiliza tuplas para representar as cartas de um baralho. Cada tupla deve conter o valor e o naipe de uma carta. Em seguida, embaralhe as cartas e distribua cinco cartas para dois jogadores. Exiba as mãos dos jogadores e determine quem possui a mão mais alta de acordo com as regras do pôquer.\n",
    "\n",
    "9. Desenvolva uma função chamada `converter_temperatura` que recebe uma lista de tuplas, onde cada tupla contém o nome de uma cidade e a temperatura em graus Celsius. A função deve converter as temperaturas para Fahrenheit e retornar uma nova lista de tuplas com o nome da cidade e a temperatura correspondente em Fahrenheit.\n",
    "\n",
    "10. Crie uma função chamada `encontrar_pares` que recebe uma lista de números inteiros e retorna uma lista de tuplas contendo pares de números que somam 10. Por exemplo, se a lista for [3, 4, 5, 6], a função deve retornar [(4, 6)].\n",
    "\n",
    "Lembre-se de utilizar boas práticas de codificação, como comentários explicativos e nomes de variáveis significativos."
   ]
  }
 ],
 "metadata": {
  "language_info": {
   "name": "python"
  }
 },
 "nbformat": 4,
 "nbformat_minor": 2
}
