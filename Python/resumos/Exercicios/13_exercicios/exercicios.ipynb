{
 "cells": [
  {
   "cell_type": "markdown",
   "metadata": {},
   "source": [
    "# Introdução à Linguagem Python - Exercícios\n",
    "## Manipulação de Listas em Python\n",
    "\n",
    "### Nível Fácil\n",
    "\n",
    "1. Crie uma lista chamada `numeros` com os seguintes números: 10, 5, 7, 2, 8. Em seguida, utilize a função `sum` para calcular a soma de todos os elementos da lista.\n",
    "\n",
    "2. Escreva um programa que solicita ao usuário que insira números inteiros. Continue solicitando números até que o usuário insira o número 0. Armazene esses números em uma lista e, ao final, imprima a lista.\n",
    "\n",
    "### Nível Médio\n",
    "\n",
    "3. Implemente uma função chamada `encontrar_maior` que recebe uma lista de números como argumento e retorna o maior número da lista.\n",
    "\n",
    "4. Crie um programa que verifica se uma palavra fornecida pelo usuário é um palíndromo (ou seja, se ela permanece a mesma quando lida de trás para frente). Utilize uma lista para verificar isso.\n",
    "\n",
    "### Nível Avançado\n",
    "\n",
    "5. Desenvolva uma função chamada `remover_duplicatas` que recebe uma lista como argumento e retorna uma nova lista sem elementos duplicados.\n",
    "\n",
    "6. Escreva um programa que recebe duas listas e retorna uma terceira lista que contém apenas os elementos comuns entre as duas listas.\n",
    "\n",
    "### Desafio\n",
    "\n",
    "7. Crie um programa que simula o jogo da forca. O programa deve escolher uma palavra aleatória de uma lista predefinida e permitir que o usuário adivinhe letras até acertar a palavra ou ser enforcado.\n",
    "\n",
    "8. Implemente um programa que lê um arquivo de texto contendo várias palavras separadas por espaço. Conte quantas vezes cada palavra aparece no arquivo e imprima o resultado.\n",
    "\n",
    "9. Desenvolva uma função chamada `ordenar_lista` que recebe uma lista de números como argumento e retorna a lista ordenada em ordem crescente.\n",
    "\n",
    "10. Crie um programa que recebe duas listas de números e verifica se são iguais, ou seja, se possuem os mesmos elementos, independentemente da ordem.\n",
    "\n",
    "Lembre-se de utilizar boas práticas de codificação, como comentários explicativos e nomes de variáveis significativos."
   ]
  }
 ],
 "metadata": {
  "language_info": {
   "name": "python"
  }
 },
 "nbformat": 4,
 "nbformat_minor": 2
}
