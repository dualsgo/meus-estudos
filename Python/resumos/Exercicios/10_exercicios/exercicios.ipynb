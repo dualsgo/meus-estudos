{
 "cells": [
  {
   "cell_type": "markdown",
   "metadata": {},
   "source": [
    "## Exercícios sobre Introdução à Linguagem Python\n",
    "\n",
    "### Nível Fácil\n",
    "\n",
    "1. Crie uma variável chamada `area_retangulo` e atribua a ela o resultado da multiplicação entre dois números que representem os lados de um retângulo. Imprima o resultado de `area_retangulo`.\n",
    "\n",
    "2. Escreva um programa que solicita ao usuário que digite seu nome. Em seguida, imprima uma mensagem de saudação utilizando o nome fornecido.\n",
    "\n",
    "### Nível Médio\n",
    "\n",
    "3. Implemente uma função chamada `calcular_hipotenusa` que recebe dois catetos de um triângulo retângulo como argumentos e retorna o valor da hipotenusa.\n",
    "\n",
    "4. Crie um programa que recebe do usuário a temperatura em graus Celsius e converte para Fahrenheit utilizando a fórmula: Fahrenheit = (Celsius * 9/5) + 32. Imprima o resultado.\n",
    "\n",
    "### Nível Avançado\n",
    "\n",
    "5. Desenvolva um programa que pede ao usuário para inserir uma palavra. Em seguida, conte o número de vogais (a, e, i, o, u) na palavra e imprima o resultado.\n",
    "\n",
    "6. Escreva uma função chamada `verificar_primo` que recebe um número como argumento e retorna se ele é primo ou não.\n",
    "\n",
    "### Desafio\n",
    "\n",
    "7. Crie um programa que simula um jogo de adivinhação. O computador escolhe aleatoriamente um número entre 1 e 100, e o jogador tenta adivinhar. Forneça dicas sobre se o número é maior ou menor do que a tentativa atual.\n",
    "\n",
    "8. Implemente um programa que lê um arquivo de texto contendo números separados por vírgula. Converta esses números para uma lista de inteiros e, em seguida, calcule a média e o desvio padrão dos números.\n",
    "\n",
    "9. Desenvolva uma função que recebe uma string e retorna a quantidade de palavras presentes nela. Considere palavras como sequências de caracteres separadas por espaços.\n",
    "\n",
    "10. Crie uma função chamada `calcular_fatorial` que recebe um número inteiro como argumento e retorna o fatorial desse número. Utilize a recursão para calcular o fatorial.\n",
    "\n",
    "Lembre-se de utilizar boas práticas de codificação, como comentários explicativos e nomes de variáveis significativos."
   ]
  }
 ],
 "metadata": {
  "language_info": {
   "name": "python"
  }
 },
 "nbformat": 4,
 "nbformat_minor": 2
}
