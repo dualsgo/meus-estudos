{
 "cells": [
  {
   "cell_type": "markdown",
   "metadata": {},
   "source": [
    "# Exercícios sobre Variáveis em Python\n",
    "\n",
    "### Nível Fácil\n",
    "\n",
    "1. Crie uma variável chamada `idade` e atribua a ela o valor da sua idade."
   ]
  },
  {
   "cell_type": "code",
   "execution_count": 4,
   "metadata": {},
   "outputs": [],
   "source": [
    "idade = 30"
   ]
  },
  {
   "cell_type": "markdown",
   "metadata": {},
   "source": [
    "2. Declare duas variáveis, `nome` e `sobrenome`, e atribua a elas seus respectivos nomes."
   ]
  },
  {
   "cell_type": "code",
   "execution_count": 5,
   "metadata": {},
   "outputs": [],
   "source": [
    "nome = 'Maycon'\n",
    "sobrenome = 'Douglas'"
   ]
  },
  {
   "cell_type": "markdown",
   "metadata": {},
   "source": [
    "3. Atribua um número inteiro a uma variável chamada `quantidade_alunos` representando o número de alunos em uma turma.\n"
   ]
  },
  {
   "cell_type": "code",
   "execution_count": 6,
   "metadata": {},
   "outputs": [],
   "source": [
    "quantidade_alunos = 14"
   ]
  },
  {
   "cell_type": "markdown",
   "metadata": {},
   "source": [
    "4. Crie uma variável chamada `temperatura_atual` e atribua a ela um valor de ponto flutuante representando a temperatura atual em graus Celsius."
   ]
  },
  {
   "cell_type": "code",
   "execution_count": 7,
   "metadata": {},
   "outputs": [],
   "source": [
    "temperatura_atual = 26.0"
   ]
  },
  {
   "cell_type": "markdown",
   "metadata": {},
   "source": [
    "### Nível Médio\n",
    "\n",
    "5. Utilizando a técnica de desempacotamento, troque os valores entre duas variáveis chamadas `a` e `b`."
   ]
  },
  {
   "cell_type": "code",
   "execution_count": 10,
   "metadata": {},
   "outputs": [
    {
     "name": "stdout",
     "output_type": "stream",
     "text": [
      "Maycon Douglas\n",
      "Douglas Maycon\n"
     ]
    }
   ],
   "source": [
    "a, b = 'Maycon', 'Douglas'\n",
    "print(a, b)\n",
    "\n",
    "a, b = b, a\n",
    "print(a, b)"
   ]
  },
  {
   "cell_type": "markdown",
   "metadata": {},
   "source": [
    "6. Atribua um texto a uma variável chamada `frase` e, em seguida, imprima-a na tela."
   ]
  },
  {
   "cell_type": "code",
   "execution_count": 11,
   "metadata": {},
   "outputs": [
    {
     "name": "stdout",
     "output_type": "stream",
     "text": [
      "Esse texto será exibido na tela ao executar o programa!\n"
     ]
    }
   ],
   "source": [
    "frase = 'Esse texto será exibido na tela ao executar o programa!'\n",
    "print(frase)"
   ]
  },
  {
   "cell_type": "markdown",
   "metadata": {},
   "source": [
    "7. Inicialize três variáveis, `lado1`, `lado2` e `lado3`, com valores inteiros representando os lados de um triângulo.\n"
   ]
  },
  {
   "cell_type": "code",
   "execution_count": null,
   "metadata": {},
   "outputs": [],
   "source": [
    "lado1, lado2, lado3 = 10, 20, 30"
   ]
  },
  {
   "cell_type": "markdown",
   "metadata": {},
   "source": [
    "8. Crie uma variável chamada `media_notas` e atribua a média de três notas que você escolher."
   ]
  },
  {
   "cell_type": "code",
   "execution_count": 14,
   "metadata": {},
   "outputs": [
    {
     "name": "stdout",
     "output_type": "stream",
     "text": [
      "A média das notas é: 9.0\n"
     ]
    }
   ],
   "source": [
    "media_notas = (10 + 8 + 9) / 3\n",
    "print(f'A média das notas é: {media_notas}')"
   ]
  },
  {
   "cell_type": "markdown",
   "metadata": {},
   "source": [
    "### Nível Avançado\n",
    "\n",
    "9. Utilizando a atribuição em cadeia, crie quatro variáveis, `x`, `y`, `z` e `w`, e atribua a todas o valor 10."
   ]
  },
  {
   "cell_type": "code",
   "execution_count": null,
   "metadata": {},
   "outputs": [],
   "source": [
    "x = y = z = w = 10\n",
    "print(x, y, z, w)"
   ]
  },
  {
   "cell_type": "markdown",
   "metadata": {},
   "source": [
    "10. Declare duas variáveis, `ponto_x` e `ponto_y`, e atribua a elas coordenadas de um ponto no plano cartesiano. Em seguida, crie uma terceira variável chamada `distancia_origem` que receba a distância desse ponto até a origem (0,0)."
   ]
  },
  {
   "cell_type": "code",
   "execution_count": 17,
   "metadata": {},
   "outputs": [
    {
     "name": "stdout",
     "output_type": "stream",
     "text": [
      "A distância do ponto (5, 12) até a origem é: 13.0\n"
     ]
    }
   ],
   "source": [
    "ponto_x, ponto_y = 5, 12\n",
    "\n",
    "# Calculando a distância até a origem usando o teorema de Pitágoras c2 = a2 + b2\n",
    "distancia_origem = (ponto_x ** 2 + ponto_y ** 2) ** 0.5\n",
    "\n",
    "print(f'A distância do ponto ({ponto_x}, {ponto_y}) até a origem é: {distancia_origem}')"
   ]
  }
 ],
 "metadata": {
  "kernelspec": {
   "display_name": "Python 3",
   "language": "python",
   "name": "python3"
  },
  "language_info": {
   "codemirror_mode": {
    "name": "ipython",
    "version": 3
   },
   "file_extension": ".py",
   "mimetype": "text/x-python",
   "name": "python",
   "nbconvert_exporter": "python",
   "pygments_lexer": "ipython3",
   "version": "3.12.1"
  }
 },
 "nbformat": 4,
 "nbformat_minor": 2
}
