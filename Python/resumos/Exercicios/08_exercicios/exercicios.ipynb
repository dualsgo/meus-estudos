{
 "cells": [
  {
   "cell_type": "markdown",
   "metadata": {},
   "source": [
    "## Exercícios sobre Loops e Controle de Fluxo em Python\n",
    "\n",
    "### Nível Fácil\n",
    "\n",
    "1. Crie um programa que solicita ao usuário que insira um número inteiro. Em seguida, utilize um loop for para imprimir todos os números de 1 até o número fornecido."
   ]
  },
  {
   "cell_type": "code",
   "execution_count": 3,
   "metadata": {},
   "outputs": [
    {
     "name": "stdout",
     "output_type": "stream",
     "text": [
      "Fim.\n"
     ]
    }
   ],
   "source": [
    "numero = int(input('Digite um número inteiro: '))\n",
    "\n",
    "for i in range(1, numero):\n",
    "  print(i, end=', ')\n",
    "else:\n",
    "  print('Fim.')"
   ]
  },
  {
   "cell_type": "markdown",
   "metadata": {},
   "source": [
    "2. Escreva uma função chamada `verificar_par` que recebe um número como argumento. A função deve retornar uma mensagem indicando se o número é par ou ímpar."
   ]
  },
  {
   "cell_type": "code",
   "execution_count": 5,
   "metadata": {},
   "outputs": [
    {
     "name": "stdout",
     "output_type": "stream",
     "text": [
      "0 é PAR\n"
     ]
    }
   ],
   "source": [
    "def verificar_par(num):\n",
    "  print(f'{num} é ÍMPAR' if numero % 2 else f'{num} é PAR')\n",
    "  \n",
    "verificar_par(numero)"
   ]
  },
  {
   "cell_type": "markdown",
   "metadata": {},
   "source": [
    "### Nível Médio\n",
    "\n",
    "3. Implemente um programa que imprime os primeiros 10 números da sequência de Fibonacci. (Dica: cada número na sequência é a soma dos dois anteriores)."
   ]
  },
  {
   "cell_type": "code",
   "execution_count": 5,
   "metadata": {},
   "outputs": [
    {
     "name": "stdout",
     "output_type": "stream",
     "text": [
      "0, 1, 1, 2, 3, 5, 8, 13, 21, 34, 55, "
     ]
    }
   ],
   "source": [
    "primeiro = 0\n",
    "segundo = 1\n",
    "print(str(primeiro) + ', ' + str(segundo), end=', ')\n",
    "atual = primeiro + segundo\n",
    "for i in range(1, 10):\n",
    "  print(atual, end=', ')\n",
    "  primeiro, segundo = segundo, atual\n",
    "  atual = primeiro + segundo\n"
   ]
  },
  {
   "cell_type": "markdown",
   "metadata": {},
   "source": [
    "4. Crie uma função chamada `contar_vogais` que recebe uma string como argumento e retorna a quantidade total de vogais na string."
   ]
  },
  {
   "cell_type": "code",
   "execution_count": 7,
   "metadata": {},
   "outputs": [
    {
     "name": "stdout",
     "output_type": "stream",
     "text": [
      "A palavra/frase \"2\" possui 0 vogais.\n"
     ]
    }
   ],
   "source": [
    "frase = str(input('Digite uma palavra ou frase: ')).strip().upper()\n",
    "vogais = 0\n",
    "for letra in frase:\n",
    "  if letra in 'AEIOU':\n",
    "    vogais += 1\n",
    "\n",
    "print(f'A palavra/frase \"{frase}\" possui {vogais} vogais.')"
   ]
  },
  {
   "cell_type": "markdown",
   "metadata": {},
   "source": [
    "### Nível Avançado\n",
    "\n",
    "5. Desenvolva um programa que simule o jogo \"Pedra, Papel e Tesoura\" contra o computador. Solicite ao usuário que escolha uma opção e, em seguida, utilize estruturas condicionais para determinar o vencedor."
   ]
  },
  {
   "cell_type": "code",
   "execution_count": 3,
   "metadata": {},
   "outputs": [
    {
     "name": "stdout",
     "output_type": "stream",
     "text": [
      "Jogador [2] x [3] Computador\n",
      "Perdemos!\n"
     ]
    }
   ],
   "source": [
    "from random import randint\n",
    "\n",
    "escolha = int(input('[1]Pedra\\n[2]Papel\\n[3]Tesoura'))\n",
    "computador = randint(1,3)\n",
    "\n",
    "print(f'Jogador [{escolha}] x [{computador}] Computador')\n",
    "if escolha == 1 and computador != 1:\n",
    "  print('Vencemos!' if computador == 3 else 'Perdemos!')\n",
    "elif escolha == 2 and computador !=2:\n",
    "  print('Vencemos!' if computador == 1 else 'Perdemos!')\n",
    "elif escolha == 3 and computador != 3:\n",
    "    print('Vencemos!' if computador == 2 else 'Perdemos!')\n",
    "else:\n",
    "  print('Empate!')"
   ]
  },
  {
   "cell_type": "markdown",
   "metadata": {},
   "source": [
    "6. Escreva uma função chamada `achar_primos` que recebe um número inteiro como argumento e retorna uma lista com todos os números primos até o número fornecido."
   ]
  },
  {
   "cell_type": "code",
   "execution_count": 8,
   "metadata": {},
   "outputs": [
    {
     "name": "stdout",
     "output_type": "stream",
     "text": [
      "10 não é primo\n"
     ]
    }
   ],
   "source": [
    "def achar_primos(num):\n",
    "  divisores = 0\n",
    "  \n",
    "  for i in range(1, num):\n",
    "    if num % i == 0:\n",
    "      divisores += 1\n",
    "  \n",
    "  print(f'{num} não é primo' if divisores > 2 else f'{num} é primo!')\n",
    "  \n",
    "achar_primos(10)"
   ]
  },
  {
   "cell_type": "markdown",
   "metadata": {},
   "source": [
    "### Desafio\n",
    "\n",
    "7. Crie um programa que gera automaticamente uma senha aleatória para o usuário. A senha deve conter letras maiúsculas, letras minúsculas, números e caracteres especiais. (Dica: utilize a biblioteca `random` e `string` do Python)."
   ]
  },
  {
   "cell_type": "code",
   "execution_count": 15,
   "metadata": {},
   "outputs": [
    {
     "name": "stdout",
     "output_type": "stream",
     "text": [
      "Gerando senha com 10 caracteres...\n",
      "Senha aleatória: Z1pOkcY1\n"
     ]
    }
   ],
   "source": [
    "from random import randint\n",
    "\n",
    "qtde = int(input('Quantidade de caracteres: '))\n",
    "print(f'Gerando senha com {qtde} caracteres...')\n",
    "senha = ''\n",
    "while qtde:\n",
    "  caractere = randint(48, 122)\n",
    "  if 48 <= caractere <= 57 or 64 <= caractere <= 90 or 97 <= caractere <= 122:\n",
    "    senha += chr(caractere)\n",
    "  qtde -= 1\n",
    "\n",
    "print(f'Senha aleatória: {senha}')"
   ]
  },
  {
   "cell_type": "markdown",
   "metadata": {},
   "source": [
    "8. Implemente um jogo da forca simples. O programa deve escolher aleatoriamente uma palavra e permitir que o usuário adivinhe as letras. Mostre o progresso da palavra e o número de tentativas restantes."
   ]
  },
  {
   "cell_type": "code",
   "execution_count": null,
   "metadata": {},
   "outputs": [],
   "source": []
  },
  {
   "cell_type": "markdown",
   "metadata": {},
   "source": [
    "9. Desenvolva um programa que solicita ao usuário que insira uma frase. Em seguida, conte e imprima a frequência de cada palavra na frase."
   ]
  },
  {
   "cell_type": "code",
   "execution_count": 1,
   "metadata": {},
   "outputs": [
    {
     "name": "stdout",
     "output_type": "stream",
     "text": [
      "{'RONALDO,': 1, 'BRILHA': 1, 'MUITO': 1, 'NO': 1, 'CORTINTHIANS': 1}\n"
     ]
    }
   ],
   "source": [
    "# Desenvolva um programa que solicita ao usuário que insira uma frase. Em seguida, conte e imprima a frequência de cada palavra na frase.\n",
    "\n",
    "frase = str(input('Digite uma frase: ')).strip().upper().split()\n",
    "palavras = {}\n",
    "for palavra in frase:\n",
    "  if palavra in palavras:\n",
    "    palavras[palavra] += 1\n",
    "  else:\n",
    "    palavras[palavra] = 1\n",
    "    \n",
    "print(palavras)"
   ]
  },
  {
   "cell_type": "markdown",
   "metadata": {},
   "source": [
    "10. Crie uma função chamada `calcular_fatorial` que recebe um número inteiro como argumento e retorna o fatorial desse número."
   ]
  },
  {
   "cell_type": "code",
   "execution_count": 21,
   "metadata": {},
   "outputs": [
    {
     "name": "stdout",
     "output_type": "stream",
     "text": [
      "5! = 5 x 4 x 3 x 2 x 1 = 120\n",
      "2! = 2 x 1 = 2\n"
     ]
    }
   ],
   "source": [
    "def calcular_fatorial(num):\n",
    "  f = 1\n",
    "  print(f'{num}! =', end=' ')\n",
    "  for i in range(num, 1, -1):\n",
    "    print(f'{i} x', end=' ')\n",
    "    f *= i\n",
    "  else:\n",
    "    print(f'1 = {f}')\n",
    "    \n",
    "\n",
    "calcular_fatorial(5)\n",
    "calcular_fatorial(2)"
   ]
  }
 ],
 "metadata": {
  "kernelspec": {
   "display_name": "Python 3",
   "language": "python",
   "name": "python3"
  },
  "language_info": {
   "codemirror_mode": {
    "name": "ipython",
    "version": 3
   },
   "file_extension": ".py",
   "mimetype": "text/x-python",
   "name": "python",
   "nbconvert_exporter": "python",
   "pygments_lexer": "ipython3",
   "version": "3.12.1"
  }
 },
 "nbformat": 4,
 "nbformat_minor": 2
}
