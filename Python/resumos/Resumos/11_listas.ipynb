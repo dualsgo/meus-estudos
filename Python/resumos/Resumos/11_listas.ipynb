{
 "cells": [
  {
   "cell_type": "markdown",
   "metadata": {},
   "source": [
    "# **`Entendendo Listas em Python`**\n",
    "---\n",
    "No contexto da ciência de dados e da programação em geral, a organização eficiente de grandes conjuntos de dados é fundamental. As listas em Python fornecem uma maneira poderosa de lidar com essa tarefa. Vamos explorar o que são listas e como usá-las de forma eficaz:\n",
    "\n",
    "### O Que São Listas?\n",
    "\n",
    "- **Definição:** Uma lista é uma estrutura de dados em Python que pode armazenar coleções ordenadas de itens.\n",
    "- **Elementos:** Os itens em uma lista são chamados de elementos.\n",
    "- **Flexibilidade:** Os elementos em uma lista podem ser de diferentes tipos, como números inteiros, strings, outras listas e assim por diante.\n",
    "\n",
    "### Criando uma Lista\n",
    "\n",
    "- **Sintaxe:**\n",
    "  - Para criar uma lista vazia, você pode usar `[]` ou `list()`.\n",
    "  - Exemplo: `lista_numeros = []` ou `lista_numeros = list()`\n",
    "\n",
    "### Acesso aos Elementos da Lista\n",
    "\n",
    "- **Indexação:** Em Python, os elementos em uma lista são numerados começando do zero.\n",
    "- **Acesso:** Você pode acessar os elementos de uma lista usando seu índice correspondente.\n",
    "  - Exemplo: `primeiro_elemento = lista[0]`\n",
    "\n",
    "### Manipulação de Listas\n",
    "\n",
    "- **Adição de Elementos:** Você pode adicionar novos elementos a uma lista usando métodos como `append()` e `insert()`.\n",
    "- **Remoção de Elementos:** Os elementos de uma lista podem ser removidos usando métodos como `remove()` e `pop()`.\n",
    "\n",
    "### Funcionalidades Adicionais\n",
    "\n",
    "- **Comprimento da Lista:** Você pode verificar o comprimento de uma lista usando a função `len()`.\n",
    "- **Concatenação de Listas:** Listas podem ser concatenadas usando o operador `+`.\n",
    "- **Repetição de Elementos:** Uma lista pode ser repetida usando o operador `*`.\n",
    "\n",
    "### `Conclusão:`\n",
    "\n",
    "As listas em Python são uma ferramenta poderosa para lidar com coleções de dados de forma eficiente e flexível. Com uma compreensão clara de como criar, acessar e manipular listas, você pode realizar uma ampla variedade de tarefas de programação, desde o processamento de dados até a implementação de algoritmos complexos.\n",
    "\n",
    "### Exemplo Prático:"
   ]
  },
  {
   "cell_type": "code",
   "execution_count": 36,
   "metadata": {},
   "outputs": [
    {
     "name": "stdout",
     "output_type": "stream",
     "text": [
      "[1, 2, 3, 4, 5]\n",
      "[1, 2, 3, 4, 5, 6]\n",
      "O terceiro número é 3\n",
      "[1, 3, 4, 5, 6]\n",
      "O tamanho da lista é 5\n"
     ]
    }
   ],
   "source": [
    "# Criando uma lista de números\n",
    "lista_numeros = [1, 2, 3, 4, 5]\n",
    "print(lista_numeros)\n",
    "\n",
    "# Adicionando um novo número ao final da lista\n",
    "lista_numeros.append(6)\n",
    "print(lista_numeros)\n",
    "\n",
    "# Acessando o terceiro elemento da lista\n",
    "terceiro_numero = lista_numeros[2]\n",
    "print(f'O terceiro número é {terceiro_numero}')\n",
    "\n",
    "# Removendo o segundo elemento da lista\n",
    "lista_numeros.pop(1)\n",
    "print(lista_numeros)\n",
    "\n",
    "# Verificando o comprimento da lista\n",
    "tamanho = len(lista_numeros)\n",
    "print(f'O tamanho da lista é {tamanho}')"
   ]
  },
  {
   "cell_type": "markdown",
   "metadata": {},
   "source": [
    "### **`Indexação e Alteração de Elementos em Listas`**\n",
    "\n",
    "Em Python, você pode acessar e alterar elementos específicos em uma lista usando indexação. Vamos explorar como isso é feito:\n",
    "\n",
    "### Acessando Elementos:\n",
    "\n",
    "- Para acessar um elemento específico em uma lista, você usa a indexação, onde o índice do elemento desejado é colocado entre colchetes após o nome da lista.\n",
    "- Os índices em Python começam em 0, o que significa que o primeiro elemento tem índice 0, o segundo tem índice 1 e assim por diante.\n",
    "\n",
    "### Alterando Elementos:\n",
    "\n",
    "- Para alterar o valor de um elemento em uma lista, você simplesmente atribui um novo valor ao elemento usando a mesma indexação.\n",
    "- Você pode atribuir um novo valor diretamente ao elemento escolhido na lista.\n",
    "\n",
    "### Exemplos:\n",
    "\n",
    "1. **Alterando o Primeiro Elemento:**\n",
    "   ```python\n",
    "   lista_numeros = [12, 20, 30, 40, 50]\n",
    "   lista_numeros[0] = 111\n",
    "   # Antes, lsita_numeros = [12, 20, 30, 40, 50]\n",
    "   # Agora, lista_numeros = [111, 20, 30, 40, 50]\n",
    "   ```\n",
    "\n",
    "2. **Copiando Valor do Quinto Elemento para o Segundo:**\n",
    "   ```python\n",
    "   lista_numeros = [10, 20, 30, 40, 66]\n",
    "   lista_numeros[1] = lista_numeros[4]\n",
    "   # Antes, lista_numeros = [10, 20, 30, 40, 66]\n",
    "   # Agora, lista_numeros = [10, 66, 30, 40, 66]\n",
    "   ```\n",
    "\n",
    "### Considerações Finais:\n",
    "\n",
    "- A operação de seleção de um elemento em uma lista usando indexação é conhecida como **indexação**.\n",
    "- A indexação permite que você acesse e altere elementos específicos em uma lista, proporcionando flexibilidade no processamento de dados.\n",
    "\n",
    "Compreender a indexação e a alteração de elementos em listas é fundamental para manipular eficientemente conjuntos de dados em Python."
   ]
  },
  {
   "cell_type": "markdown",
   "metadata": {},
   "source": [
    "### **`Notação de slice`**\n",
    "\n",
    "Às vezes queremos recuperar vários valores de uma lista. Podemos fazer isso usando `slicing`. Vejamos a sintaxe de slice: **`[start:stop:step]`**\n",
    "\n",
    "Onde: \n",
    "\n",
    "`start`: É o índice que queremos começar.\n",
    "\n",
    "`stop`: É o índice que queremos que termine. O intevalo é aberto, ou seja, este não será incluído.\n",
    "\n",
    "`step`: É um argumento opcional. Seu valor padrão é 1 e representa o número de elementos que você deseja pular."
   ]
  },
  {
   "cell_type": "code",
   "execution_count": 37,
   "metadata": {},
   "outputs": [
    {
     "name": "stdout",
     "output_type": "stream",
     "text": [
      "['eggs', 'flour']\n"
     ]
    }
   ],
   "source": [
    "ingredientes = ['eggs', 'flour', 'sugar', 'salt']\n",
    "print(ingredientes[0:2]) # ['eggs', 'flour']\n",
    "\n",
    "# Podemos omitir o primeiro índice para começar do início ou o segundo para ir até o final."
   ]
  },
  {
   "cell_type": "markdown",
   "metadata": {},
   "source": [
    "O valor à esquerda dos dois pontos é a posição inicial do slice. Como abordamos anteriormente, a indexação do Python começa em zero.\n",
    "\n",
    "Ao codificar **`ingredinetes[3:]`**, recuperamos todos os elementos da lista a partir da posição 3 até o final da lista."
   ]
  },
  {
   "cell_type": "code",
   "execution_count": 38,
   "metadata": {},
   "outputs": [
    {
     "name": "stdout",
     "output_type": "stream",
     "text": [
      "['salt']\n"
     ]
    }
   ],
   "source": [
    "print(ingredientes[3:]) # ['salt']"
   ]
  },
  {
   "cell_type": "markdown",
   "metadata": {},
   "source": [
    "**`step`** pode ser negativo, o que nos permite usar um valor **`start`** maior que o valor **`stop`**. Nesse caso, o slice começa no final da lista e vai até o início da lista, pulando o número de elementos especificado por step."
   ]
  },
  {
   "cell_type": "code",
   "execution_count": 39,
   "metadata": {},
   "outputs": [
    {
     "name": "stdout",
     "output_type": "stream",
     "text": [
      "['salt', 'sugar', 'flour', 'eggs']\n"
     ]
    }
   ],
   "source": [
    "print(ingredientes[::-1]) # ['salt', 'sugar', 'flour', 'eggs']"
   ]
  },
  {
   "cell_type": "markdown",
   "metadata": {},
   "source": [
    "## `Observações:`\n",
    "\n",
    "- O valor inicial pode ser **positivo**, **negativo** ou **omitido**. Se **omitido**, o **slice** começa no início da lista. Valores **negativos** significam que o **slice** começa a partir do **final** da lista.\n",
    "\n",
    "```python\n",
    "lista = [1, 2, 3, 4, 5]\n",
    "\n",
    "# Valor inicial positivo (começa no índice 1)\n",
    "print(lista[1:])  # Saída: [2, 3, 4, 5]\n",
    "\n",
    "# Valor inicial negativo (começa no índice -3, equivalente ao índice 2 contando do final)\n",
    "print(lista[-3:])  # Saída: [3, 4, 5]\n",
    "\n",
    "# Valor inicial omitido (começa no início da lista)\n",
    "print(lista[:3])  # Saída: [1, 2, 3]\n",
    "```\n",
    "\n",
    "- Especificar um **intervalo** fora do **comprimento** da lista não causa um erro. Em vez disso, o **slice** retorna uma **lista vazia**.\n",
    "\n",
    "```python\n",
    "print(lista[10:15])  # Saída: []\n",
    "```\n",
    "\n",
    "- O valor à direita dos dois pontos é a **posição final** do **slice**. O **slice** inclui todos os elementos da **posição inicial** até a **posição final**, mas **não inclui** o elemento da **posição final**.\n",
    "\n",
    "```python\n",
    "print(lista[1:3])  # Saída: [2, 3]\n",
    "```\n",
    "\n",
    "- Se usarmos um valor inicial de zero ou omitirmos o valor inicial, podemos omitir o **primeiro dois pontos**. Um valor de para da **positivo** será igual ao número de **elementos** retornados.\n",
    "\n",
    "```python\n",
    "print(lista[:3])  # Equivalente a lista[0:3], Saída: [1, 2, 3]\n",
    "print(lista[:])   # Retorna uma cópia completa da lista, Saída: [1, 2, 3, 4, 5]\n",
    "```\n",
    "\n",
    "- Um **índice start** maior que o **índice stop** resulta em uma **lista vazia**.\n",
    "\n",
    "```python\n",
    "print(lista[3:1])  # Saída: []\n",
    "```"
   ]
  },
  {
   "cell_type": "code",
   "execution_count": 40,
   "metadata": {},
   "outputs": [
    {
     "name": "stdout",
     "output_type": "stream",
     "text": [
      "[]\n",
      "[500, 400, 300]\n"
     ]
    }
   ],
   "source": [
    "pontos = [100, 200, 300, 400, 500]\n",
    "# Aqui solicitamos os elementos do índice 0 ao 2, com um step de -1. Como start é menor que stop, a lista resultante é vazia.\n",
    "print(pontos[0:2:-1])\n",
    "\n",
    "# Aqui solicitamos os elementos do índice 4 ao 1, com um step de -1. Como start é maior que stop, iteramos de forma decrescente.\n",
    "print(pontos[4:1:-1])"
   ]
  },
  {
   "cell_type": "markdown",
   "metadata": {},
   "source": [
    "Também podemos usar um formato com **dois dois pontos** para especificar um valor de **step**. O valor de **step** é o número de elementos que o **slice** pula a cada iteração. O valor padrão de **step** é **1**.\n",
    "\n",
    "Podemos usar um valor **step** sem valor **start** ou **stop**. Nesse caso, o **slice** começa no início da lista e vai até o final da lista, pulando o número de elementos especificado por **step**."
   ]
  },
  {
   "cell_type": "code",
   "execution_count": 41,
   "metadata": {},
   "outputs": [],
   "source": [
    "lista_numeros = [1, 2, 3, 4, 5]\n",
    "\n",
    "pares = lista_numeros[1::2] # A partir do índice 1, com um step de 2.\n",
    "# Não conta o 1, conta o 2, não conta o 3, conta o 4, não conta o 5. \n",
    "\n",
    "ímpares = lista_numeros[::2] # A partir do índice 0, com um step de 2. \n",
    "# Conta o 1, não conta o 2, conta o 3, não conta o 4, conta o 5."
   ]
  },
  {
   "cell_type": "markdown",
   "metadata": {},
   "source": [
    "### **`Acesso ao conteúdo da lista`**\n",
    "Cada um dos elementos da lista pode ser acessado separadamente. Por exemplo, ele pode ser impresso:\n"
   ]
  },
  {
   "cell_type": "code",
   "execution_count": 42,
   "metadata": {},
   "outputs": [
    {
     "name": "stdout",
     "output_type": "stream",
     "text": [
      "1\n"
     ]
    }
   ],
   "source": [
    "print(lista_numeros[0]) # Acessando o primeiro elemento da lista. \n",
    "# Retorna 1."
   ]
  },
  {
   "cell_type": "markdown",
   "metadata": {},
   "source": [
    "Como você pode ver no editor, a lista também pode ser impressa como um todo, assim como aqui:"
   ]
  },
  {
   "cell_type": "code",
   "execution_count": 43,
   "metadata": {},
   "outputs": [
    {
     "name": "stdout",
     "output_type": "stream",
     "text": [
      "[1, 2, 3, 4, 5]\n"
     ]
    }
   ],
   "source": [
    "print(lista_numeros) # Acessando a lista inteira.\n",
    "# Retorna [1, 2, 3, 4, 5]."
   ]
  },
  {
   "cell_type": "markdown",
   "metadata": {},
   "source": [
    "Como você provavelmente já deve ter notado antes, o Python adota uma saída especial para as listas - elas são impressas entre colchetes e separadas por vírgulas. Isso torna a lista muito fácil de reconhecer."
   ]
  },
  {
   "cell_type": "markdown",
   "metadata": {},
   "source": [
    "### **`Os índices negativos são legais`**\n",
    "\n",
    "Pode parecer estranho, mas os índices negativos são legais e podem ser muito úteis.\n",
    "\n",
    "Um elemento com um índice igual a `-1` é o `último` na lista.\n",
    "\n",
    "A indexação negativa significa que recuperamos um elemento do lado direito de uma lista. Usamos o símbolo de menos (-) antes do índice para indicar um índice negativo.\n",
    "\n",
    "Podemos usar qualquer valor negativo até o comprimento da lista. Com esse recurso, também podemos modificar elementos de uma lista começando pelo final.\n",
    "\n",
    "Encontraremos um erro se tentarmos recuperar um valor em uma posição fora do intervalo do comprimento da lista.\n",
    "\n",
    "Da mesma forma, o elemento com um índice igual a `-2` é o `penúltimo` na lista, e assim por diante."
   ]
  },
  {
   "cell_type": "code",
   "execution_count": 44,
   "metadata": {},
   "outputs": [
    {
     "name": "stdout",
     "output_type": "stream",
     "text": [
      "5\n"
     ]
    }
   ],
   "source": [
    "print(lista_numeros[-1]) # Acessando o último elemento da lista.\n",
    "# Retorna 5."
   ]
  },
  {
   "cell_type": "markdown",
   "metadata": {},
   "source": [
    "### **`A função len()`**\n",
    "\n",
    "O comprimento de uma lista pode variar durante a execução. Novos elementos podem ser adicionados à lista, enquanto outros podem ser removidos. Isso significa que a lista é uma entidade muito dinâmica.\n",
    "\n",
    "Se quiser verificar o comprimento atual da lista, você pode usar uma função chamada `len()` (o nome vem do comprimento).\n",
    "\n",
    "A função usa o nome da lista como argumento e retorna o número de elementos armazenados atualmente na lista (em outras palavras, o comprimento da lista)"
   ]
  },
  {
   "cell_type": "code",
   "execution_count": 45,
   "metadata": {},
   "outputs": [
    {
     "name": "stdout",
     "output_type": "stream",
     "text": [
      "5\n"
     ]
    }
   ],
   "source": [
    "print(len(lista_numeros)) # Acessando o tamanho da lista.\n",
    "# Retorna 5."
   ]
  },
  {
   "cell_type": "markdown",
   "metadata": {},
   "source": [
    "### **`Remover elementos de uma lista`**\n",
    "\n",
    "Qualquer um dos elementos da lista pode ser removido a qualquer momento - isso é feito com uma instrução chamada **`del`** (delete). \n",
    "\n",
    "**Nota:** é uma instrução, não uma função.\n",
    "\n",
    "**Sintaxe:** \n",
    "\n",
    "```python\n",
    "del list[index]\n",
    "```\n",
    "Você precisa apontar para o elemento a ser removido - ele desaparecerá da lista e o comprimento da lista será reduzido em um."
   ]
  },
  {
   "cell_type": "code",
   "execution_count": 46,
   "metadata": {},
   "outputs": [
    {
     "name": "stdout",
     "output_type": "stream",
     "text": [
      "[111, 10, 32, 3, 66, 17, 42, 99, 20]\n",
      "9\n",
      "[111, 32, 3, 66, 17, 42, 99, 20]\n",
      "8\n"
     ]
    }
   ],
   "source": [
    "# Criando uma lista com 9 elementos.\n",
    "lista_numeros =  [111, 10, 32, 3, 66, 17, 42, 99, 20] \n",
    "\n",
    "print(lista_numeros) # Acessando a lista inteira.\n",
    "# Resultado: [111, 10, 32, 3, 66, 17, 42, 99, 20]\n",
    "\n",
    "print(len(lista_numeros)) # Acessando o tamanho da lista.\n",
    "# Resultado: 9\n",
    "\n",
    "del lista_numeros[1] # Removendo o segundo elemento da lista que é 10\n",
    "\n",
    "print(lista_numeros) # Acessando a lista inteira.\n",
    "# Resultado: [111, 32, 3, 66, 17, 42, 99, 20]\n",
    "\n",
    "print(len(lista_numeros)) # Acessando o tamanho da lista após a remoção.\n",
    "# Resultado: 8"
   ]
  },
  {
   "cell_type": "markdown",
   "metadata": {},
   "source": [
    "Você não pode acessar um elemento que não existe - você não pode obter seu valor nem atribuir um valor a ele. Ambas as instruções causarão erros de tempo de execução agora:\n",
    "\n",
    "```python\n",
    "print(lista_numeros[8])\n",
    "# Acessando um elemento que não existe.\n",
    "# Resultado: IndexError: list index out of range\n",
    "```\n",
    "\n",
    "del também pode apagar uma lista completamente. Basta omitir o índice"
   ]
  },
  {
   "cell_type": "markdown",
   "metadata": {},
   "source": [
    "### **`remove()`**\n",
    "remove() é um `método` que remove o `primeiro elemento com um valor especificado`, ou seja, a primeira ocorrência de um valor especificado.\n",
    "\n",
    "O método remove() aceita um argumento que é o valor do elemento a ser removido. Se não houver nenhum elemento com o valor especificado, o Python gerará um erro.\n",
    "\n",
    "É boa prática verificar se o elemento existe na lista antes de removê-lo, utilizando o operador `in`."
   ]
  },
  {
   "cell_type": "code",
   "execution_count": 47,
   "metadata": {},
   "outputs": [
    {
     "name": "stdout",
     "output_type": "stream",
     "text": [
      "O elemento não existe\n"
     ]
    }
   ],
   "source": [
    "# Podemos verificar antes se o elemento existe com o operador in.\n",
    "# O operador in retorna True se o elemento existir na lista e False se não existir.\n",
    "valores = [21, 23]\n",
    "\n",
    "# Verificando se o elemento 24 existe na lista.\n",
    "if 24 in valores:\n",
    "    valores.remove(24)  # Removendo o elemento 24 da lista SE ele existir.\n",
    "else: # Se ele não existir, exibimos uma mensagem.\n",
    "    print(\"O elemento não existe\")"
   ]
  },
  {
   "cell_type": "markdown",
   "metadata": {},
   "source": [
    "### **`pop()`**\n",
    "\n",
    "Além de del, você pode usar o `método pop()` para remover um elemento da lista. O método `pop()` remove o `último elemento da lista` e o retorna.\n",
    "\n",
    "Se você não especificar o índice, o método pop() removerá e retornará o último elemento da lista, mas pop() aceita um argumento opcional que especifica o índice do elemento a ser removido."
   ]
  },
  {
   "cell_type": "code",
   "execution_count": 48,
   "metadata": {},
   "outputs": [
    {
     "name": "stdout",
     "output_type": "stream",
     "text": [
      "Lisa original: [1, 3, 5, 7]\n",
      "Lista atualizada: [1, 3, 5]\n",
      "Removemos o 5\n",
      "[1, 3]\n",
      "Lista após usar remove: [1]\n"
     ]
    }
   ],
   "source": [
    "# Dada a seguinte lista de valores.\n",
    "lista = [1, 3, 5, 7]\n",
    "print(f'Lisa original: {lista}')\n",
    "# Podemos usar o método pop() para remover um elemento da lista.\n",
    "lista.pop() # Remove o último elemento da lista.\n",
    "# Resultado: 7\n",
    "print(f'Lista atualizada: {lista}')\n",
    "\n",
    "# Podemos salvar o elemento removido em uma variável.\n",
    "elemento_removido = lista.pop()\n",
    "print(f'Removemos o {elemento_removido}') # Acessando o elemento removido.\n",
    "# Resultado: 5\n",
    "print(lista) # Acessando a lista após a remoção.\n",
    "\n",
    "# Podemos remover um elemento específico da lista.\n",
    "lista.remove(3) # Remove o elemento 3 da lista.\n",
    "print(f'Lista após usar remove: {lista}') # Acessando a lista após a remoção."
   ]
  },
  {
   "cell_type": "markdown",
   "metadata": {},
   "source": [
    "### **`Diferençãs: del, remove e pop`**\n",
    "\n",
    "del e remove são métodos de lista que alteram a lista. Eles não retornam nenhum valor. Se você tentar atribuir o resultado a uma nova variável, a nova variável será None. \n",
    "\n",
    "Cada um funciona melhor em situações diferentes. \n",
    "\n",
    "- del remove um elemento com um índice especificado.  \n",
    "\n",
    "- remove() remove o primeiro elemento com um valor especificado.\n",
    "\n",
    "- pop remove o último elemento da lista.\n",
    "\n",
    "Ao contrário de del e remove, o resultado de pop pode ser atribuído a uma nova variável. O valor atribuído será o elemento removido da lista."
   ]
  },
  {
   "cell_type": "code",
   "execution_count": 49,
   "metadata": {},
   "outputs": [
    {
     "name": "stdout",
     "output_type": "stream",
     "text": [
      "20\n",
      "[111, 10, 32, 3, 66, 17, 42, 99]\n",
      "3\n",
      "[111, 10, 32, 66, 17, 42, 99]\n",
      "66\n"
     ]
    }
   ],
   "source": [
    "# Utilizando pop()\n",
    "lista_numeros =  [111, 10, 32, 3, 66, 17, 42, 99, 20]\n",
    "\n",
    "# Removendo o último elemento da lista. \n",
    "print(lista_numeros.pop()) # Resultado: 20\n",
    "\n",
    "print(lista_numeros)\n",
    "# [111, 10, 32, 3, 66, 17, 42, 99]\n",
    "\n",
    "# Removendo o elemento de índice 3 da lista.\n",
    "print(lista_numeros.pop(3))\n",
    "\n",
    "print(lista_numeros) \n",
    "# [111, 10, 32, 66, 17, 42, 99]\n",
    "\n",
    "# Removendo o elemento de índice 3 da lista e atribuindo o valor removido à variável valor_removido.\n",
    "valor_removido = lista_numeros.pop(3) \n",
    "\n",
    "print(valor_removido) # Resultado: 66"
   ]
  },
  {
   "cell_type": "markdown",
   "metadata": {},
   "source": [
    "### **`clear`**\n",
    "\n",
    "Podemos utilizar o método clear() para remover todos os elementos de uma lista.\n",
    "\n",
    "A sintaxe é: \n",
    "\n",
    "```python\n",
    "list.clear()\n",
    "```\n",
    "clear() difere de del, pois não exclui a lista, apenas remove todos os elementos."
   ]
  },
  {
   "cell_type": "code",
   "execution_count": 50,
   "metadata": {},
   "outputs": [
    {
     "name": "stdout",
     "output_type": "stream",
     "text": [
      "[]\n"
     ]
    }
   ],
   "source": [
    "lista = [1, 3, 5, 7]\n",
    "lista.clear() # Remove todos os elementos da lista.\n",
    "\n",
    "print(lista) # Resultado: []\n",
    "\n",
    "# clear aceita o argumento de índice.\n",
    "lista = [1, 3, 5, 7]"
   ]
  },
  {
   "cell_type": "markdown",
   "metadata": {},
   "source": [
    "### **`Entendendo Funções e Métodos na Programação`**\n",
    "\n",
    "Na programação, tanto funções quanto métodos desempenham papéis importantes, mas eles têm diferenças fundamentais em sua natureza e uso. Vamos examinar essas diferenças para ter uma compreensão clara de como cada um funciona.\n",
    "\n",
    "**Funções:**\n",
    "\n",
    "Uma função é um bloco de código que executa uma tarefa específica quando é chamada. Aqui estão alguns pontos-chave sobre funções:\n",
    "\n",
    "- **Independência:** As funções são independentes de qualquer dado específico. Elas podem ser chamadas em qualquer lugar do código onde forem necessárias, desde que seus argumentos sejam fornecidos corretamente.\n",
    "- **Escopo:** Elas pertencem ao escopo global do programa, o que significa que não estão associadas a nenhum objeto específico.\n",
    "- **Uso:** São invocadas pelo seu nome seguido pelos argumentos necessários para realizar a tarefa.\n",
    "  - Exemplo: `resultado = calcular_soma(valores)`\n",
    "\n",
    "**Métodos:**\n",
    "\n",
    "Os métodos, por outro lado, são semelhantes às funções, mas estão vinculados a objetos específicos. Aqui estão algumas características dos métodos:\n",
    "\n",
    "- **Associação:** Cada método está associado a um objeto particular e opera diretamente sobre esse objeto.\n",
    "- **Modificação de Estado:** Além de realizar operações, os métodos também podem modificar o estado interno do objeto ao qual estão vinculados.\n",
    "- **Chamada:** Eles são chamados pelo objeto ao qual pertencem, seguido pelo nome do método e quaisquer argumentos necessários.\n",
    "  - Exemplo: `resultado = lista.adicionar_elemento(elemento)`\n",
    "\n",
    "**Diferenciação Visual:**\n",
    "\n",
    "- **Função:** É invocada diretamente pelo seu nome.\n",
    "- **Método:** É chamado utilizando o objeto ao qual pertence, seguido pelo nome do método.\n",
    "\n",
    "**Importância na Programação:**\n",
    "\n",
    "Entender a diferença entre funções e métodos é crucial, especialmente ao trabalhar com paradigmas de programação orientada a objetos. Os métodos desempenham um papel vital na interação com objetos e na modificação de seu estado interno.\n",
    "\n",
    "**Aplicação Prática:**\n",
    "\n",
    "Um exemplo comum de aplicação é ao trabalhar com listas em Python. Métodos como `append()`, `remove()`, e outros são utilizados para modificar o conteúdo da lista, enquanto funções independentes podem ser usadas para realizar tarefas que não estão diretamente ligadas a um objeto específico.\n",
    "\n",
    "Em resumo, funções e métodos têm propósitos distintos na programação, e entender suas diferenças é essencial para escrever código claro, eficiente e fácil de manter."
   ]
  },
  {
   "cell_type": "markdown",
   "metadata": {},
   "source": [
    "### **Entendendo o Método `append()`**\n",
    "\n",
    "O método `append()` é uma ferramenta essencial ao trabalhar com listas em Python. Ele permite adicionar novos elementos ao final de uma lista existente.\n",
    "\n",
    "- **Funcionalidade:** O método `append()` é usado para inserir um novo elemento ao final de uma lista existente.\n",
    "  \n",
    "- **Sintaxe:**\n",
    "  - Para utilizar o método `append()`, você precisa chamar o método em uma lista existente, seguido pelo valor que deseja adicionar entre parênteses.\n",
    "  - Sintaxe: `lista.append(valor)`\n",
    "\n",
    "- **Parâmetro:**\n",
    "  - `valor`: Este é o elemento que você deseja adicionar à lista. Pode ser de qualquer tipo de dado válido em Python.\n",
    "\n",
    "- **Operação:**\n",
    "  - Quando o método `append()` é chamado, ele insere o valor especificado como argumento no final da lista à qual pertence.\n",
    "  - Não retorna nenhum valor explicitamente; ele apenas modifica a lista original, adicionando o novo elemento ao final.\n",
    "\n",
    "- **Exemplo de Uso:**\n",
    "  ```python\n",
    "  lista = [1, 2, 3]\n",
    "  lista.append(4)\n",
    "  print(lista)  # Saída: [1, 2, 3, 4]\n",
    "  ```\n",
    "\n",
    "- **Observações:**\n",
    "  - O método `append()` é uma maneira conveniente de adicionar elementos a uma lista existente sem precisar recriá-la.\n",
    "  - Ele é útil quando você deseja expandir dinamicamente uma lista ao longo do tempo, adicionando novos elementos conforme necessário.\n",
    "\n",
    "O método `append()` é uma ferramenta poderosa e amplamente utilizada em Python para manipulação de listas, tornando-o essencial para qualquer programador que trabalhe com esse tipo de dado."
   ]
  },
  {
   "cell_type": "markdown",
   "metadata": {},
   "source": [
    "### **Entendendo o Método `insert()` em Python**\n",
    "\n",
    "O método `insert()` oferece uma maneira de adicionar um novo elemento em qualquer posição específica dentro de uma lista em Python. Vamos explorar os detalhes desse método:\n",
    "\n",
    "- **Funcionalidade:**\n",
    "  - O método `insert()` permite adicionar um novo elemento em qualquer posição desejada dentro de uma lista, não apenas no final como o método `append()`.\n",
    "\n",
    "- **Sintaxe:**\n",
    "  - A sintaxe para usar o método `insert()` é `lista.insert(posicao, valor)`, onde:\n",
    "    - `posicao` é o índice onde o novo elemento será inserido.\n",
    "    - `valor` é o elemento a ser inserido na lista.\n",
    "\n",
    "- **Argumentos:**\n",
    "  - São necessários dois argumentos para o método `insert()`:\n",
    "    - O primeiro argumento especifica a posição onde o novo elemento será inserido. Todos os elementos à direita dessa posição, incluindo o elemento nessa posição, são deslocados para a direita para abrir espaço para o novo elemento.\n",
    "    - O segundo argumento é o valor do novo elemento a ser inserido na lista.\n",
    "\n",
    "- **Exemplo de Uso:**\n",
    "  ```python\n",
    "  lista = [1, 2, 3]\n",
    "  lista.insert(1, 4)\n",
    "  print(lista)  # Saída: [1, 4, 2, 3]\n",
    "  ```\n",
    "\n",
    "- **Observações:**\n",
    "  - Ao utilizar o método `insert()`, é importante considerar que a contagem dos índices em Python começa em 0. Portanto, o primeiro elemento tem índice 0, o segundo tem índice 1 e assim por diante.\n",
    "  - Após a inserção de um novo elemento usando `insert()`, os elementos existentes são deslocados para a direita para abrir espaço para o novo elemento.\n",
    "  - Comparado ao método `append()`, que adiciona elementos apenas no final da lista, o método `insert()` oferece mais flexibilidade ao permitir a inserção em qualquer posição desejada.\n",
    "\n",
    "O método `insert()` é uma ferramenta útil para manipular listas em Python, especialmente quando é necessário inserir elementos em locais específicos dentro da lista. Ao entender como usar o método `insert()`, você pode ter um controle mais preciso sobre a organização e estruturação dos dados em suas listas.\n",
    "\n",
    "Veja alguns exemplos:"
   ]
  },
  {
   "cell_type": "code",
   "execution_count": 51,
   "metadata": {},
   "outputs": [
    {
     "name": "stdout",
     "output_type": "stream",
     "text": [
      "4\n",
      "[111, 7, 2, 1]\n"
     ]
    }
   ],
   "source": [
    "# A lista original\n",
    "lista_numeros = [111, 7, 2, 1]\n",
    "\n",
    "# Ela possui quatro elementos, numerados de 0 a 3\n",
    "print(len(lista_numeros)) # Resultado: 4\n",
    "\n",
    "# Os elementos são: 111, 7, 2, 1\n",
    "print(lista_numeros)"
   ]
  },
  {
   "cell_type": "code",
   "execution_count": 52,
   "metadata": {},
   "outputs": [
    {
     "name": "stdout",
     "output_type": "stream",
     "text": [
      "5\n",
      "[111, 7, 2, 1, 4]\n"
     ]
    }
   ],
   "source": [
    "# Adicionando um elemento ao final da lista\n",
    "lista_numeros.append(4)\n",
    "\n",
    "# Agora a lista possui cinco elementos, numerados de 0 a 4\n",
    "print(len(lista_numeros)) # Resultado: 5\n",
    "\n",
    "# Os elementos são: 111, 7, 2, 1, 4\n",
    "print(lista_numeros)"
   ]
  },
  {
   "cell_type": "code",
   "execution_count": 53,
   "metadata": {},
   "outputs": [
    {
     "name": "stdout",
     "output_type": "stream",
     "text": [
      "6\n",
      "[222, 111, 7, 2, 1, 4]\n"
     ]
    }
   ],
   "source": [
    "# Adicionando um elemento na posição 0 com o valor 222\n",
    "lista_numeros.insert (0, 222)\n",
    "\n",
    "# Agora a lista possui seis elementos, numerados de 0 a 5\n",
    "print(len(lista_numeros)) # Resultado: 6\n",
    "\n",
    "# Os elementos são: 222, 111, 7, 2, 1, 4\n",
    "print(lista_numeros)"
   ]
  },
  {
   "cell_type": "markdown",
   "metadata": {},
   "source": [
    "Você pode começar a vida de uma lista deixando-a vazia (isso é feito com um par de colchetes vazios) e, em seguida, adicionando novos elementos, conforme necessário."
   ]
  },
  {
   "cell_type": "code",
   "execution_count": 1,
   "metadata": {},
   "outputs": [
    {
     "name": "stdout",
     "output_type": "stream",
     "text": [
      "[1, 2, 3, 4, 5]\n"
     ]
    }
   ],
   "source": [
    "minha_lista = [] # Criando uma lista vazia.\n",
    "\n",
    "# O loop for é executado cinco vezes.\n",
    "for i in range(5):\n",
    "    # Observe: usamos o método append() aqui.\n",
    "    minha_lista.append (i + 1) # Adicionando o valor de i + 1 à lista.\n",
    "    # O valor de i começa em 0, então adicionamos 1 para obter os números de 1 a 5.\n",
    "    \n",
    "# Imprimindo a lista.\n",
    "print (minha_lista)"
   ]
  },
  {
   "cell_type": "code",
   "execution_count": 56,
   "metadata": {},
   "outputs": [
    {
     "name": "stdout",
     "output_type": "stream",
     "text": [
      "[5, 4, 3, 2, 1]\n"
     ]
    }
   ],
   "source": [
    "# Modificamos um pouco o snippet:\n",
    "\n",
    "minha_lista = []  # Criando uma lista vazia.\n",
    "\n",
    "# O loop for é executado cinco vezes.\n",
    "for i in range(5):\n",
    "    # Observe: usamos o método insert() aqui. A lista é preenchida de trás para frente pois cada valor será inserido na primeira posição.\n",
    "    minha_lista.insert(0, i + 1)\n",
    "    \n",
    "# Imprimindo a lista.\n",
    "print(minha_lista)"
   ]
  },
  {
   "cell_type": "markdown",
   "metadata": {},
   "source": [
    "## `Utilização de listas`\n",
    "\n",
    "O loop for tem uma variante especial que pode processar listas de forma muito eficaz - vamos dar uma olhada nisso.\n",
    "\n",
    "Vamos supor que você deseja calcular a soma de todos os valores armazenados na lista lista_valores."
   ]
  },
  {
   "cell_type": "code",
   "execution_count": 6,
   "metadata": {},
   "outputs": [
    {
     "name": "stdout",
     "output_type": "stream",
     "text": [
      "27\n"
     ]
    }
   ],
   "source": [
    "# A uma lista é atribuída uma sequência de cinco valores inteiros.\n",
    "lista_valores = [10, 1, 8, 3, 5]\n",
    "\n",
    "# Você precisa de uma variável cuja soma seja armazenada. A ela é inicialmente atribuído um valor neutro de 0 - seu nome será total.\n",
    "total = 0\n",
    "\n",
    "# Em seguida, adicione todos os elementos da lista usando o loop for. \n",
    "for i in range(len(minha_lista)):\n",
    "\n",
    "# cada um desses elementos é adicionado pelo operador += à variável total , fornecendo o resultado final no final do loop;\n",
    "    total += minha_lista[i]\n",
    "    \n",
    "# A variável i recebe os valores 0, 1, 2, 3 e 4, e depois indexa a lista, selecionando os elementos subsequentes: o primeiro, o segundo, o terceiro, o quarto e o quinto;\n",
    "print(total)\n",
    "\n",
    "# observe a maneira como a função len() foi empregada - ela torna o código independente de quaisquer alterações possíveis no conteúdo da lista."
   ]
  },
  {
   "cell_type": "markdown",
   "metadata": {},
   "source": [
    "### `O segundo aspecto do loop for`\n",
    "\n",
    "Mas o loop for pode fazer muito mais. Ele pode ocultar todas as ações conectadas à indexação da lista e disponibilizar todos os elementos da lista de maneira prática. Este fragmento modificado mostra como funciona:"
   ]
  },
  {
   "cell_type": "code",
   "execution_count": 7,
   "metadata": {},
   "outputs": [
    {
     "name": "stdout",
     "output_type": "stream",
     "text": [
      "27\n"
     ]
    }
   ],
   "source": [
    "minha_lista = [10, 1, 8, 3, 5]\n",
    "total = 0\n",
    "\n",
    "# a instrução for especifica a variável usada para navegar pela lista (i aqui) seguida pela palavra-chave in e o nome da lista que está sendo processada (minha_lista aqui)\n",
    "for i in minha_lista:\n",
    "    total += i\n",
    "# a variável i recebe os valores de todos os elementos da lista subsequente, e o processo ocorre quantas vezes houver elementos na lista; isso significa que você usa a variável i como uma cópia dos valores dos elementos e não precisa usar índices; a função len() também não é necessária.\n",
    "\n",
    "print(total)"
   ]
  },
  {
   "cell_type": "markdown",
   "metadata": {},
   "source": [
    "## `Listas em ação`\n",
    "\n",
    "Imagine que você precisa reorganizar os elementos de uma lista, ou seja, inverter a ordem dos elementos: \n",
    "- o primeiro e o quinto, bem como o segundo e o quarto elementos serão trocados\n",
    "- o terceiro permanecerá intocado\n",
    "\n",
    "Pergunta: como você pode trocar os valores de duas variáveis?"
   ]
  },
  {
   "cell_type": "code",
   "execution_count": 10,
   "metadata": {},
   "outputs": [
    {
     "name": "stdout",
     "output_type": "stream",
     "text": [
      "a = 1, b = 1\n"
     ]
    }
   ],
   "source": [
    "a = 1\n",
    "b = 2\n",
    "\n",
    "# # Se você fizer algo assim, você perderia o valor armazenado anteriormente na b.\n",
    "b = a # Atribuindo o valor da a à b, ou seja, 1.\n",
    "a = b # Atribuindo o valor da b à a, ou seja, 1.\n",
    "\n",
    "print(f'a = {a}, b = {b}') # Resultado: a = 1, b = 1\n",
    "# Alterar a ordem das tarefas não vai ajudar."
   ]
  },
  {
   "cell_type": "code",
   "execution_count": 11,
   "metadata": {},
   "outputs": [
    {
     "name": "stdout",
     "output_type": "stream",
     "text": [
      "a = 2, b = 1\n"
     ]
    }
   ],
   "source": [
    "# Você precisa de uma terceira variável que serve como armazenamento auxiliar.\n",
    "a = 1\n",
    "b = 2\n",
    "\n",
    "# Atribuindo o valor da variável a à variável auxiliar, ou seja, 1.\n",
    "auxiliar = a \n",
    "\n",
    "# Atribuindo o valor da b à a, ou seja, 2.\n",
    "a = b\n",
    "\n",
    "# Atribuindo o valor da variável auxiliar à variável b, ou seja, 1.\n",
    "b = auxiliar\n",
    "\n",
    "print(f'a = {a}, b = {b}') # Resultado: a = 2, b = 1"
   ]
  },
  {
   "cell_type": "markdown",
   "metadata": {},
   "source": [
    "O Python faz o trabalho para você - não há necessidade de uma variável auxiliar.\n",
    "\n",
    "A troca é feita em uma única linha e dessa forma o valor não é perdido.\n",
    "\n",
    "Agora você pode facilmente trocar os elementos da lista para reverter a ordem:"
   ]
  },
  {
   "cell_type": "code",
   "execution_count": 63,
   "metadata": {},
   "outputs": [
    {
     "name": "stdout",
     "output_type": "stream",
     "text": [
      "[5, 3, 8, 1, 10]\n"
     ]
    }
   ],
   "source": [
    "minha_lista = [10, 1, 8, 3, 5]\n",
    "\n",
    "minha_lista[0], minha_lista[4] = minha_lista[4], minha_lista[0]\n",
    "#          10               5  =             5               10\n",
    "minha_lista[1], minha_lista[3] = minha_lista[3], minha_lista[1]\n",
    "#           1               3  =             3               1\n",
    "print(minha_lista)"
   ]
  },
  {
   "cell_type": "markdown",
   "metadata": {},
   "source": [
    "Parece bom com cinco elementos. Ainda será aceitável com uma lista contendo 100 elementos? \n",
    "\n",
    "- *Não, não vai.*\n",
    "\n",
    "Você pode usar o loop for para fazer a mesma coisa automaticamente, independentemente do comprimento da lista?\n",
    "\n",
    "- *Sim, você pode!*"
   ]
  },
  {
   "cell_type": "code",
   "execution_count": 12,
   "metadata": {},
   "outputs": [],
   "source": [
    "minha_lista = [10, 1, 8, 3, 5]\n",
    "# Atribuímos a variável comprimento com o comprimento da lista atual (isso torna nosso código um pouco mais claro e mais curto)\n",
    "comprimento = len(minha_lista)"
   ]
  },
  {
   "cell_type": "code",
   "execution_count": 13,
   "metadata": {},
   "outputs": [
    {
     "name": "stdout",
     "output_type": "stream",
     "text": [
      "[5, 3, 8, 1, 10]\n"
     ]
    }
   ],
   "source": [
    "# Lançamos o loop for para percorrer comprimento // 2 vezes (isso funciona bem para listas com comprimentos pares e ímpares, porque quando a lista contém um número ímpar de elementos, o meio permanece intocado)\n",
    "for i in range(comprimento // 2):  # o operador // é usado para a divisão inteira\n",
    "\n",
    "    minha_lista[i], minha_lista[comprimento - i - 1] = minha_lista[comprimento - i - 1], minha_lista[i]\n",
    "# trocamos o i-ésimo elemento (do início da lista) pelo elemento com um índice igual a (comprimento - i - 1) (do fim da lista); no nosso exemplo, para i igual a 0 o (comprimento - i - 1) dá 4; para i igual a 1, dá 3 - isso é exatamente o que precisávamos.\n",
    "\n",
    "# Por exemplo, quando i for 1 (o segundo elemento da lista), o (comprimento - i - 1) será 3 (o quarto elemento da lista). Quando i for 2 (o terceiro elemento da lista), o (comprimento - i - 1) será 2 (o terceiro elemento da lista, novamente). E assim por diante.\n",
    "\n",
    "print(minha_lista)"
   ]
  },
  {
   "cell_type": "markdown",
   "metadata": {},
   "source": [
    "O desempacotamento de listas é uma maneira conveniente de atribuir valores a várias variáveis em uma única linha. O número de variáveis à esquerda deve corresponder ao número de elementos da lista. Cada elemento da lista é atribuído a uma variável na ordem em que aparece na lista."
   ]
  }
 ],
 "metadata": {
  "kernelspec": {
   "display_name": "Python 3",
   "language": "python",
   "name": "python3"
  },
  "language_info": {
   "codemirror_mode": {
    "name": "ipython",
    "version": 3
   },
   "file_extension": ".py",
   "mimetype": "text/x-python",
   "name": "python",
   "nbconvert_exporter": "python",
   "pygments_lexer": "ipython3",
   "version": "3.12.1"
  }
 },
 "nbformat": 4,
 "nbformat_minor": 2
}
