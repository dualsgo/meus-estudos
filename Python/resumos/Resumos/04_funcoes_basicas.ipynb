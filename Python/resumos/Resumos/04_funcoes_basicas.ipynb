{
 "cells": [
  {
   "cell_type": "markdown",
   "metadata": {},
   "source": [
    "# Funções - Introdução\n",
    "---\n",
    "Vimos anteriormente a sintaxe básica da criação de variáveis e atribuição de valores. Vimos também que o Python é uma linguagem de tipagem dinâmica, ou seja, não precisamos declarar o tipo de uma variável antes de atribuir um valor a ela. O tipo é inferido no momento da atribuição.\n",
    "\n",
    "Fizemos uma introdução aos tipos de dados básicos do Python. Agora veremos como podemos utilizar as variáveis em expressões e exibir o conteúdo delas na tela, atribuir valores através de entrada do usuário e converter tipos de dados.\n",
    "\n",
    "\n",
    "Uma função em Python é um bloco de código que executa uma tarefa específica e pode ser reutilizado em diferentes partes de um programa. As funções podem aceitar argumentos (dados de entrada) e retornar resultados (dados de saída). As funções podem ser chamadas várias vezes em um programa e podem ser definidas pelo programador ou importadas de módulos externos.\n",
    "\n"
   ]
  },
  {
   "cell_type": "markdown",
   "metadata": {},
   "source": [
    "## `print()`\n",
    "---\n",
    "O `print()` em Python é uma função embutida (built-in) que é usada para exibir informações na tela. Ela aceita zero ou mais argumentos como entrada e imprime esses argumentos na saída padrão (normalmente, a tela)."
   ]
  },
  {
   "cell_type": "code",
   "execution_count": 3,
   "metadata": {},
   "outputs": [
    {
     "name": "stdout",
     "output_type": "stream",
     "text": [
      "Olá, Mundo!\n",
      "\n"
     ]
    }
   ],
   "source": [
    "# Neste primeiro exemplo usaremos um comando simples para exibir uma mensagem na tela\n",
    "\n",
    "print('Olá, Mundo!') # Este comando exibirá \"Olá, mundo!\" na tela quando o programa for executado. O print() é uma ferramenta essencial para a depuração de programas e para fornecer feedback ao usuário durante a execução do código.\n",
    "\n",
    "# A string 'Olá, Mundo!' é um argumento passado para a função print()\n",
    "\n",
    "# O argumento passado para a função print() pode ser uma string, um número, uma variável, uma expressão ou uma combinação e etc. Podemos usar vários argumentos separados por vírgula ou usar o operador de concatenação (+) para combinar strings. Mas também podemos passar nenhum argumento para a função print()\n",
    "\n",
    "print() # Este comando exibirá uma linha em branco na tela quando o programa for executado.\n",
    "\n",
    "# Este comportamento se deve ao fato de a função possuir um argumento opicional chamado \"end\" que por padrão possui o valor '\\n' (quebra de linha). Esse comportamento pode ser alterado passando um valor diferente para o argumento \"end\". \n",
    "\n",
    "# Em resumo, a sintaxe da função print() é a seguinte:\n",
    "# print(value1, value2, ..., sep=' ', end='\\n')\n",
    "\n",
    "# Onde:\n",
    "# value1, value2, ... são os valores que serão exibidos na tela\n",
    "# sep é o separador entre os valores (por padrão é um espaço em branco)\n",
    "# end é o caractere que será exibido no final da linha (por padrão é uma quebra de linha)"
   ]
  },
  {
   "cell_type": "markdown",
   "metadata": {},
   "source": [
    "Como você pode ver, este primeiro programa consiste nas seguintes partes:\n",
    "\n",
    "- A palavra **`print`**\n",
    "- Um parêntese de abertura **`(`** e um de fechamento **`)`**.\n",
    "- Uma linha de texto: **`Olá, Mundo!`** entre os parênteses.\n",
    "- Um par de aspas **`\"\"`** envolvendo o texto.\n",
    "\n",
    "Cada uma das opções acima desempenha um papel muito importante no código.\n",
    "\n",
    "**`Os parênteses`** de abertura e fechamento são usados para executar uma função. Uma função é um conjunto de instruções que executa uma tarefa específica. A função print() exibe um texto na tela.\n",
    "\n",
    "O texto que você deseja exibir na tela é chamado de **`argumento da função`**. O argumento é o valor que a função usa para executar sua tarefa. No caso da função print(), o argumento é o texto que você deseja exibir na tela. O argumento é colocado entre os parênteses de abertura e fechamento.\n",
    "\n",
    "Utilizamos os parênteses para envolver o texto que queremos exibir na tela. Isso é necessário porque o interpretador Python precisa saber onde o texto começa e onde termina. O interpretador Python sabe que o texto começa e termina onde os parênteses de abertura e fechamento estão localizados.\n",
    "\n",
    "O único argumento entregue à função print() neste exemplo é uma string.\n"
   ]
  },
  {
   "cell_type": "markdown",
   "metadata": {},
   "source": [
    "## `Instruções`\n",
    "---\n",
    "Linhas de código são instruções para o computador seguir. Quando executamos código, dizemos ao computador para seguir as instruções que montamos.\n",
    "\n",
    "A ordem das instruções é importante porque o computador segue as instruções, linha por linha.\n",
    "\n",
    "O programa a seguir chama a função print() duas vezes, e você pode ver duas linhas separadas no console ‒ isso significa que print() começa sua saída a partir de uma nova linha cada vez que inicia sua execução.\n",
    "\n",
    "***Você pode mudar esse comportamento, mas também pode usá-lo a seu favor.***"
   ]
  },
  {
   "cell_type": "code",
   "execution_count": 6,
   "metadata": {},
   "outputs": [
    {
     "name": "stdout",
     "output_type": "stream",
     "text": [
      "A Dona Aranha subiu pela parede,\n",
      "Já chegou a chuva e a derrubou.\n"
     ]
    }
   ],
   "source": [
    "print(\"A Dona Aranha subiu pela parede,\")\n",
    "print(\"Já chegou a chuva e a derrubou.\")"
   ]
  },
  {
   "cell_type": "markdown",
   "metadata": {},
   "source": [
    "Como dito, funções podem receber qualquer número de argumentos, inclusive zero. O código abaixo é válido, mas também não é recomendado:"
   ]
  },
  {
   "cell_type": "code",
   "execution_count": 4,
   "metadata": {},
   "outputs": [
    {
     "name": "stdout",
     "output_type": "stream",
     "text": [
      "A Dona Aranha subiu pela parede,\n",
      "\n",
      "Já chegou a chuva e a derrubou.\n"
     ]
    }
   ],
   "source": [
    "# Acrescentamos uma instrução print sem argumento\n",
    "\n",
    "print(\"A Dona Aranha subiu pela parede,\")\n",
    "print()  # Essa instrução imprime uma linha em branco, pois esse efeito é causado pelo argumento padrão da função print() chamado end que por padrão é \\n (caractere de nova linha)\n",
    "print(\"Já chegou a chuva e a derrubou.\")"
   ]
  },
  {
   "cell_type": "markdown",
   "metadata": {},
   "source": [
    "Cada invocação `print()` contém uma string diferente, como seu argumento, e o conteúdo do console a reflete ‒ isso significa que as instruções no código são executadas na mesma ordem em que foram colocadas no arquivo-fonte e nenhuma instrução subsequente é executada até que a anterior seja concluída (existem algumas exceções a esta regra, mas você pode ignorá-las por enquanto.)\n",
    "\n",
    "A sintaxe do Python é bastante específica nessa área. Ao contrário da maioria das linguagens de programação, o Python exige que não haja mais de uma instrução em uma linha apesar de ser possível utilizando vírgulas ou ponto e vírgulas.\n",
    "\n",
    "Uma linha pode estar vazia (ou seja, pode não conter nenhuma instrução), mas não deve conter duas, três ou mais instruções."
   ]
  },
  {
   "cell_type": "code",
   "execution_count": 5,
   "metadata": {},
   "outputs": [
    {
     "name": "stdout",
     "output_type": "stream",
     "text": [
      "Olá\n",
      "Mundo!\n"
     ]
    },
    {
     "data": {
      "text/plain": [
       "(None, None)"
      ]
     },
     "execution_count": 5,
     "metadata": {},
     "output_type": "execute_result"
    }
   ],
   "source": [
    "print('Olá'), print('Mundo!') # É permitido, mas não recomendado "
   ]
  },
  {
   "cell_type": "markdown",
   "metadata": {},
   "source": [
    "## `Escape do Python e caracteres de novas linhas`\n",
    "---\n",
    "Curiosamente, enquanto você pode ver dois caracteres em **`\\n`**, o Python vê um.\n",
    "A barra invertida (`\\`) tem um significado muito especial quando usada dentro de strings – isso é chamado de caractere de escape. A letra `n` colocada após a barra invertida vem da palavra newline (nova linha).\n",
    "\n",
    "Esta convenção tem duas consequências importantes:\n",
    "\n",
    "1. Se você quiser colocar apenas uma barra invertida numa string, não se esqueça de sua natureza de escape - você precisa dobrá-la.  \n",
    "\n",
    "2. Nem todos os pares de escape (a barra invertida juntamente com outro caractere) significam algo."
   ]
  },
  {
   "cell_type": "code",
   "execution_count": 9,
   "metadata": {},
   "outputs": [
    {
     "name": "stdout",
     "output_type": "stream",
     "text": [
      "\"\n",
      "\\\n"
     ]
    }
   ],
   "source": [
    "print(\"\\\"\") # Exibe uma aspas dupla pois apesar de estar dentro de aspas duplas, o caractere de escape \\ faz com que o caractere de aspas não seja interpretado como o fim da string\n",
    "\n",
    "print(\"\\\\\") # Exibe uma barra pois a primeira barra é um caractere de escape que faz com que a segunda barra seja interpretada como um caractere normal"
   ]
  },
  {
   "cell_type": "markdown",
   "metadata": {},
   "source": [
    "## `Usando vários argumentos`\n",
    "---\n",
    "Em nosso próximo exemplo, há uma chamada de função print(), mas ela contém três argumentos. Todos eles são cadeias de caracteres.\n",
    "\n",
    "***Os argumentos são separados por vírgulas. Nós os cercamos de espaços para torná-los mais visíveis, mas não é realmente necessário.***"
   ]
  },
  {
   "cell_type": "code",
   "execution_count": 10,
   "metadata": {},
   "outputs": [
    {
     "name": "stdout",
     "output_type": "stream",
     "text": [
      "Um elefante incomoda muita gente dois elefantes incomodam, incomodam muito mais.\n"
     ]
    }
   ],
   "source": [
    "print(\"Um elefante incomoda muita gente\", \"dois elefantes\", \"incomodam, incomodam muito mais.\")"
   ]
  },
  {
   "cell_type": "markdown",
   "metadata": {},
   "source": [
    "Nesse caso, as vírgulas que separam os argumentos desempenham uma função completamente diferente da vírgula dentro da sequência. O primeiro faz parte da sintaxe do Python, enquanto o último deve ser exibido no console.\n",
    "\n",
    "Duas conclusões emergem desse exemplo:\n",
    "- uma função print() chamada com mais de um argumento gera todos eles em uma linha\n",
    "- a função print() coloca um espaço entre os argumentos gerados por sua própria iniciativa. Este efeito é causado pelo argumento `sep` (separador) que por padrão, é um espaço."
   ]
  },
  {
   "cell_type": "markdown",
   "metadata": {},
   "source": [
    "### `Argumentos de palavra-chave`\n",
    "---\n",
    "A função print() tem dois argumentos de palavra-chave que você pode usar para seus propósitos. Um parâmetro é um valor que a função espera receber quando é chamada. Nesse caso, ``end`` e ``sep`` são parâmetros opcionais, pois possuem um valor padrão. Portanto ao não serem especificados pelo usuário adotam seu comportamento padrão."
   ]
  },
  {
   "cell_type": "code",
   "execution_count": 11,
   "metadata": {},
   "outputs": [
    {
     "name": "stdout",
     "output_type": "stream",
     "text": [
      "Olá, mundo! % Olá, mundo!\n",
      "Olá, mundo! % "
     ]
    }
   ],
   "source": [
    "print('Olá, mundo!', end=' % ') # Estamos usando o argumento end para imprimir um caractere de porcentagem no final da string, ao invés de uma nova linha. Isso faz ocorrer a impressão de um espaço em branco após a string, na mesma linha. Consequentemente, a próxima instrução print() irá imprimir na mesma linha que a string anterior. \n",
    "\n",
    "print('Olá, mundo!', end='\\n') # Nessa instrução estamos usando o argumento end para imprimir um caractere de nova linha no final da string. Como este é o seu valor padrão, definir explicitamente o argumento end para \\n é redundante.\n",
    "\n",
    "print('Olá, mundo!', end=' % ') # Ao redefinir novamente o argumento end para imprimir um caractere de porcentagem no final da string, de novo, a próxima instrução print() irá imprimir um espaço em branco após a string, na mesma linha.\n",
    "\n",
    "# Com essas três instruções teremos a seguinte saída:\n",
    "# Olá, mundo! % Olá, mundo!\n",
    "# Olá, mundo! %"
   ]
  },
  {
   "cell_type": "markdown",
   "metadata": {},
   "source": [
    "### `end`\n",
    "---\n",
    "O primeiro é chamado de end.\n",
    "Para usá-lo, é necessário conhecer algumas regras:\n",
    "\n",
    "- um argumento de palavra-chave consiste em três elementos: uma **`palavra-chave`** que identifica o argumento (end aqui) um **`sinal de igual (= Operador de atribuição)`**  e um **`valor`** atribuído a esse argumento\n",
    "\n",
    "- qualquer argumento de palavra-chave deve ser colocado após o último argumento posicional. Por isso são passados após o valor que desejamos exibir. (isso é muito importante!)\n",
    "\n",
    "O comportamento padrão reflete a situação em que o argumento de palavra-chave end é usado implicitamente da seguinte maneira:\n",
    "\n",
    "```python\n",
    "end=\"\\n\". (caractere de escape de nova linha)\n",
    "```\n",
    "Se o argumento end for definido como nada, a função print() também não gera nada, uma vez que seus argumentos posicionais se esgotam. Nenhum caractere de nova linha será enviado para a saída."
   ]
  },
  {
   "cell_type": "code",
   "execution_count": 1,
   "metadata": {},
   "outputs": [],
   "source": [
    "# print(end='55', 'Teste') # Erro de sintaxe, pois o argumento end deve ser o último argumento passado para a função print()"
   ]
  },
  {
   "cell_type": "markdown",
   "metadata": {},
   "source": [
    "### `sep`\n",
    "---\n",
    "O segundo argumento de palavra-chave é chamado de sep. Ele define o caractere usado para separar os argumentos. \n",
    "\n",
    "Dissemos anteriormente que a função print() separa seus argumentos em saída com espaços. Esse comportamento também pode ser alterado.\n",
    "\n",
    "O valor padrão é um único espaço, mas você pode alterá-lo para qualquer caractere ou sequência de caracteres válidos."
   ]
  },
  {
   "cell_type": "code",
   "execution_count": 6,
   "metadata": {},
   "outputs": [
    {
     "name": "stdout",
     "output_type": "stream",
     "text": [
      "Meu nome é Monty Python.\n",
      "Meu nome é Monty Python.\n",
      "MeunomeéMontyPython. 1\n"
     ]
    }
   ],
   "source": [
    "print(\"Meu\", \"nome\", \"é\", \"Monty\", \"Python.\") # Esse é o comportamento padrão. Cada argumento é separado por um espaço em branco. Lembre-se que cercamos os argumentos com espaços para fins de legibilidade.\n",
    "\n",
    "print(\"Meu\",\"nome\",\"é\",\"Monty\",\"Python.\") # O resultado é o mesmo que o exemplo anterior, pois o separador padrão é um espaço em branco.\n",
    "\n",
    "print(\"Meu\"\"nome\"\"é\"\"Monty\"\"Python.\") # Como vimos antes, strings sequenciais são concatenadas automaticamente."
   ]
  },
  {
   "cell_type": "code",
   "execution_count": 7,
   "metadata": {},
   "outputs": [
    {
     "name": "stdout",
     "output_type": "stream",
     "text": [
      "Meu-nome-é-Monty-Python.\n"
     ]
    }
   ],
   "source": [
    "print(\"Meu\", \"nome\", \"é\", \"Monty\", \"Python.\", sep=\"-\")# Agora estamos alterando o valor do argumento sep para um traço. A função print() agora usa um traço, em vez de um espaço para separar os argumentos de saída."
   ]
  },
  {
   "cell_type": "code",
   "execution_count": 8,
   "metadata": {},
   "outputs": [
    {
     "name": "stdout",
     "output_type": "stream",
     "text": [
      "Meu\n",
      "nome\n",
      "é\n",
      "Monty\n",
      "Python.\n"
     ]
    }
   ],
   "source": [
    "print(\"Meu\", \"nome\", \"é\", \"Monty\", \"Python.\", sep=\"\\n\") # Podemos usar o caractere de escape como argumento. A função print() agora usa uma nova linha, em vez de um espaço, para separar os argumentos de saída. Isso significa que cada argumento é impresso em uma nova linha."
   ]
  },
  {
   "cell_type": "markdown",
   "metadata": {},
   "source": [
    "### `Aspas triplas`\n",
    "---\n",
    "Aspas triplas podem ser usadas para escrever textos de várias linhas.\n",
    "\n",
    "O texto será impresso exatamente como foi escrito, incluindo os espaços em branco e as quebras de linha."
   ]
  },
  {
   "cell_type": "code",
   "execution_count": 15,
   "metadata": {},
   "outputs": [
    {
     "name": "stdout",
     "output_type": "stream",
     "text": [
      "Este é um texto de\n",
      "várias linhas. Ele é formado por três linhas.\n",
      "\n",
      "A primeira linha tem apenas algumas palavras. A segunda linha tem mais \n",
      "\n",
      "\n",
      "palavras. A terceira linha tem ainda mais palavras.\n"
     ]
    }
   ],
   "source": [
    "print(\"\"\"Este é um texto de\n",
    "várias linhas. Ele é formado por três linhas.\n",
    "\n",
    "A primeira linha tem apenas algumas palavras. A segunda linha tem mais \n",
    "\n",
    "\n",
    "palavras. A terceira linha tem ainda mais palavras.\"\"\")\n",
    "\n",
    "# Repare que a saída resultante é formatada de acordo com a formatação do texto. Isso é chamado de formatação de texto em bloco. A formatação de texto em bloco é útil para a documentação de programas e para a formatação de strings longas."
   ]
  },
  {
   "cell_type": "code",
   "execution_count": 16,
   "metadata": {},
   "outputs": [
    {
     "name": "stdout",
     "output_type": "stream",
     "text": [
      "Este é um texto de\n",
      "várias linhas. Ele é formado por três linhas.\n",
      "\n",
      "A primeira linha tem apenas algumas palavras. A segunda linha tem mais\n",
      "\n",
      "\n",
      "palavras. A terceira linha tem ainda mais palavras.\n"
     ]
    }
   ],
   "source": [
    "# Para efeito de comparação, veja como seria o código para imprimir o mesmo texto sem usar a formatação de texto em bloco:\n",
    "\n",
    "print(\"Este é um texto de\\nvárias linhas. Ele é formado por três linhas.\\n\\nA primeira linha tem apenas algumas palavras. A segunda linha tem mais\\n\\n\\npalavras. A terceira linha tem ainda mais palavras.\")\n",
    "\n",
    "# A formatação de texto em bloco é mais legível e mais fácil de manter do que a formatação de texto em linha."
   ]
  },
  {
   "cell_type": "markdown",
   "metadata": {},
   "source": [
    "## `Padrão ANSI`\n",
    "---\n",
    "O padrão ANSI de cores é um padrão de cores universal que define uma tabela de cores com códigos numéricos. A sintaxe para usar cores ANSI em Python é:\n",
    "\n",
    "```python\n",
    "\\033[STYLE;COLOR_CODE;BACKGROUND_COLORmTexto\\033[0m\n",
    "```\n",
    "\n",
    "Onde:\n",
    "\n",
    "- `\\033[` indica o início da sequência ANSI.\n",
    "- `STYLE` é um código numérico opcional que define o estilo do texto (por exemplo, negrito, sublinhado).\n",
    "- `COLOR_CODE` é um código numérico que define a cor do texto.\n",
    "- `BACKGROUND_COLOR` é um código numérico que define a cor do fundo.\n",
    "- `m` é o marcador que indica o fim da sequência de estilo e cor.\n",
    "- `Texto` é o texto ao qual a cor ou o estilo será aplicado.\n",
    "- `\\033[0m` é usado para redefinir o estilo e a cor para os padrões.\n",
    "\n",
    "\n",
    "`STYLE` é um código numérico que define o estilo do texto\n",
    "- (0 para nenhum estilo, 1 para negrito, 4 para sublinhado, 7 para negativo).\n",
    "\n",
    "`TEXT_COLOR` é um código numérico que define a cor do texto \n",
    "- (30 para branco, 31 para vermelho, 32 para verde, 33 para amarelo, 34 para azul, 35 para roxo, 36 para azul-claro, 37 para cinza).\n",
    "\n",
    "`BACKGROUND_COLOR` é um código numérico que define a cor de fundo\n",
    "- (40 para branco, 41 para vermelho, 42 para verde, 43 para amarelo, 44 para azul, 45 para roxo, 46 para azul-claro, 47 para cinza)."
   ]
  },
  {
   "cell_type": "code",
   "execution_count": 9,
   "metadata": {},
   "outputs": [
    {
     "name": "stdout",
     "output_type": "stream",
     "text": [
      "\u001b[1;31mTexto em vermelho e negrito\u001b[0m\n"
     ]
    }
   ],
   "source": [
    "# Por exemplo, para imprimir um texto em vermelho e negrito, você usaria:\n",
    "\n",
    "print(\"\\033[1;31mTexto em vermelho e negrito\\033[0m\")\n",
    "\n",
    "# Experimente combinações diferentes alterando os números"
   ]
  },
  {
   "cell_type": "markdown",
   "metadata": {},
   "source": [
    "## `Expressões`\n",
    "---\n",
    "Podemos usar `print()` para exibir variáveis também, como `print(variavel)`.\n",
    "\n",
    "Quando exibimos variáveis no console, seus valores aparecem em vez de seus nomes. Estamos dizendo: \"Mostre o que há dentro da variável\".\n",
    "\n",
    "Valores combinados com operadores são outra maneira de utilizar variáveis. \n",
    "\n",
    "Você pode usar a função `print()` e combinar texto e variáveis usando o operador `+` para gerar sequências e variáveis.\n",
    "\n",
    "O sinal de `+` (mais), quando aplicado a duas cadeias de caracteres, torna-se um operador de concatenação. \n",
    "\n",
    "Ele simplesmente concatena (cola) duas sequências de caracteres em uma. Obviamente, como seu irmão aritmético, ele pode ser usado mais de uma vez em uma expressão e, nesse contexto, se comporta de acordo com a ligação do lado esquerdo.\n",
    "\n",
    "Em contraste com seu irmão aritmético, o operador de concatenação não é comutativo, ou seja, `\"ab\" + \"ba\"` não é o mesmo que `\"ba\" + \"ab\"`.\n",
    "\n",
    "Não se esqueça - se você quiser que o sinal de `+` seja um concatenador, não um somador, certifique-se de que ambos os argumentos sejam cadeias.\n",
    "\n",
    "Por exemplo:"
   ]
  },
  {
   "cell_type": "code",
   "execution_count": 11,
   "metadata": {},
   "outputs": [
    {
     "name": "stdout",
     "output_type": "stream",
     "text": [
      "Versão Python: 3.8.5\n",
      "5\n"
     ]
    }
   ],
   "source": [
    "# Apenas valores string podem ser concatenados com o operador +. Se você tentar concatenar um valor diferente, o Python retornará um erro.\n",
    "\n",
    "var = \"3.8.5\"   # Atribuindo a string \"3.8.5\" à variável var\n",
    "print(\"Versão Python: \" + var) # Concatenando a string \"Versão Python: \" com a variável var e imprimindo o resultado\n",
    "\n",
    "# Com valores numéricos o operador + realiza a adição\n",
    "print(2 + 3) # Imprime 5"
   ]
  },
  {
   "cell_type": "markdown",
   "metadata": {},
   "source": [
    "O operador + é usado para concatenar (ou seja, juntar) duas sequências. Observe que o operador + não adiciona espaços entre as sequências, portanto, se você precisar deles, deverá adicioná-los explicitamente. Este operador só funciona se ambas as sequências forem do mesmo tipo (ou seja, ambas as sequências devem ser strings).\n",
    "\n",
    "Outra forma de concatenar strings é usando o operador de vírgula (,). Observe que o operador de vírgula adiciona um espaço entre as sequências. Este operador funciona com valores de qualquer tipo.\n",
    "\n",
    "O resultado será uma string com os dois valores concatenados\n"
   ]
  },
  {
   "cell_type": "code",
   "execution_count": 12,
   "metadata": {},
   "outputs": [
    {
     "name": "stdout",
     "output_type": "stream",
     "text": [
      "Versão Python: 3.85\n",
      "2 3\n"
     ]
    }
   ],
   "source": [
    "# Valores de tipos diferentes podem ser concatenados usando vírgulas.\n",
    "\n",
    "var = 3.85 # Atribuindo o número float 3.85 à variável var\n",
    "print(\"Versão Python:\", var)    # Imprimindo a string \"Versão Python:\" e a variável var separadas por um espaço em branco\n",
    "\n",
    "# Se ambos os valores forem números, o operador vírgula também realizará a concatenação.\n",
    "\n",
    "print(2, 3) # Imprime 2 3"
   ]
  },
  {
   "cell_type": "markdown",
   "metadata": {},
   "source": [
    "Lembre-se: A função print() possui dois argumentos opcionais: ``sep`` e ``end``. **O valor padrão de sep é um único caractere de espaço**, e **o valor padrão de end é uma nova linha**. Você pode alterar esses valores usando argumentos nomeados."
   ]
  },
  {
   "cell_type": "markdown",
   "metadata": {},
   "source": [
    "O sinal * (asterisco), quando aplicado a uma string e um número (ou um número e uma string, pois permanece comutativo nessa posição) se torna um operador de replicação:\n",
    "\n",
    "```python\n",
    "string * number\n",
    "number * string\n",
    "```\n",
    "\n",
    "Por exemplo:"
   ]
  },
  {
   "cell_type": "code",
   "execution_count": 20,
   "metadata": {},
   "outputs": [
    {
     "name": "stdout",
     "output_type": "stream",
     "text": [
      "JamesJamesJames\n",
      "ananan\n",
      "22222\n"
     ]
    }
   ],
   "source": [
    "print(\"James\" * 3)  # \"JamesJamesJames\" o operador * repete a string \"James\" três vezes\n",
    "print(3 * \"an\")     # \"ananan\" o operador * repete a string \"an\" três vezes\n",
    "print(5 * \"2\")      # \"22222\" o operador * repete a string \"2\" cinco vezes"
   ]
  },
  {
   "cell_type": "markdown",
   "metadata": {},
   "source": [
    "## `f-strings`\n",
    "---\n",
    "Aprendemos que podemos utilizar `+` para adicionar duas strings e exibi-las juntas.\n",
    "\n",
    "Usar `+` para combinar dados numéricos com strings produz um erro.\n",
    "\n",
    "A solução seria utilizar vírgula (`,`) para concatenar valores diferentes em uma expressão.\n",
    "\n",
    "Existe um recurso mais moderno. As f-strings (abreviação de strings formatadas) nos permitem exibir expressões como adicionar um número a uma string, sem nenhum erro.\n",
    "\n",
    "Cada instrução f-string consiste em duas partes: \n",
    "\n",
    "- primeiro o caractere `f`\n",
    "- depois a string que queremos, contendo um conjunto de chaves `{}` (abertura e fechamento) contendo o valor que desejamos exibir na instrução `print()`\n",
    "\n",
    "As f-strings suportam formatação de strings mais avançada, permitindo especificar a largura do campo, alinhamento, número de casas decimais para números de ponto flutuante, entre outros. Isso proporciona uma flexibilidade adicional na formatação de saída de texto."
   ]
  },
  {
   "cell_type": "code",
   "execution_count": 40,
   "metadata": {},
   "outputs": [
    {
     "name": "stdout",
     "output_type": "stream",
     "text": [
      "2 novas mensagens\n"
     ]
    }
   ],
   "source": [
    "print(f'{2} novas mensagens') # Neste caso, estamos inserindo o valor numérico 2 em uma string. O valor numérico 2 é inserido na string sem causar erro."
   ]
  },
  {
   "cell_type": "code",
   "execution_count": 14,
   "metadata": {},
   "outputs": [
    {
     "name": "stdout",
     "output_type": "stream",
     "text": [
      "Nome: Ana\n"
     ]
    }
   ],
   "source": [
    "# Inserir variáveis entre as chaves também funciona.\n",
    "nome = 'Ana'\n",
    "print(f'Nome: {nome}')\n",
    "\n",
    "# Isso permite que criemos programas mais dinâmicos e interativos. Ao atualizar o valor da variável não é necessário alterar a string."
   ]
  },
  {
   "cell_type": "code",
   "execution_count": 17,
   "metadata": {},
   "outputs": [
    {
     "name": "stdout",
     "output_type": "stream",
     "text": [
      "Faltam percorrer 6Km.\n",
      "Faltam percorrer 6Km.\n"
     ]
    }
   ],
   "source": [
    "# Também podemos usar expressões (com variáveis ou sem)\n",
    "distancia = 10\n",
    "distancia_percorrida = 4\n",
    "# A operação pode ser realizada diretamente dentro das chaves\n",
    "print(f'Faltam percorrer {distancia - distancia_percorrida}Km.')\n",
    "\n",
    "# Mas se necessário, podemos usar variáveis para salvar o resultado da expressão\n",
    "diferenca = distancia - distancia_percorrida\n",
    "print(f'Faltam percorrer {diferenca}Km.')"
   ]
  },
  {
   "cell_type": "code",
   "execution_count": 18,
   "metadata": {},
   "outputs": [
    {
     "name": "stdout",
     "output_type": "stream",
     "text": [
      "A distância é de 10Km.\n",
      "Você percorreu 4Km.\n",
      "Faltam percorrer 6Km.\n"
     ]
    }
   ],
   "source": [
    "# Podemos usar quantas chaves forem necessárias para chegar ao resultado desejado.\n",
    "print(f'A distância é de {distancia}Km.\\nVocê percorreu {distancia_percorrida}Km.\\nFaltam percorrer {distancia - distancia_percorrida}Km.')"
   ]
  },
  {
   "cell_type": "code",
   "execution_count": 25,
   "metadata": {},
   "outputs": [
    {
     "name": "stdout",
     "output_type": "stream",
     "text": [
      "89 novas notificações\n"
     ]
    }
   ],
   "source": [
    "# Podemos armazenar a f-string em uma variável se quisermos.    \n",
    "notificacoes = 89\n",
    "status = f'{notificacoes} novas notificações'\n",
    "print(status)"
   ]
  },
  {
   "cell_type": "markdown",
   "metadata": {},
   "source": [
    "Com as f-strings, podemos formatar o número de casas decimais desejadas utilizando a sintaxe `:.quantidadef`, onde `quantidade` é o número de casas decimais que queremos exibir.\n",
    "\n",
    "A notação de dois pontos `:` indica uma máscara de formatação. O ponto `.` indica que queremos formatar um número real. O número especificado após o ponto indica a quantidade de casas decimais desejadas. O `f` indica que queremos um número real (float).\n",
    "\n",
    "Por exemplo, se quisermos exibir um número com três casas decimais, podemos utilizar a seguinte sintaxe:\n",
    "```python\n",
    "numero = 3.14159\n",
    "print(f\"O número pi com três casas decimais é: {numero:.3f}\")\n",
    "```\n",
    "\n",
    "Isso resultará na saída:\n",
    "```\n",
    "O número pi com três casas decimais é: 3.142\n",
    "```\n",
    "\n",
    "Dessa forma, podemos controlar com precisão a formatação de números de ponto flutuante em nossas strings utilizando f-strings."
   ]
  },
  {
   "cell_type": "code",
   "execution_count": 1,
   "metadata": {},
   "outputs": [
    {
     "name": "stdout",
     "output_type": "stream",
     "text": [
      "A divisão é 1.000\n",
      "A divisão é 1.0\n",
      "A divisão é 1\n",
      "Taxa de sucesso: 85.00%\n",
      "Número formatado: 00007\n"
     ]
    }
   ],
   "source": [
    "# Faça um teste com o código a seguir:\n",
    "\n",
    "# Digite dois números inteiros\n",
    "n1 = int(input('Digite um número: '))\n",
    "n2 = int(input('Digite outro número: '))\n",
    "# Dividiremos os números e exibiremos o resultado com três casas decimais\n",
    "divisao = n1 / n2\n",
    "\n",
    "print(f'A divisão é {divisao:.3f}')\n",
    "\n",
    "# Veja o mesmo resultado sem a limitação de casas decimais\n",
    "print(f'A divisão é {divisao}')\n",
    "\n",
    "# Digitos significativos: .3g formata o número para exibir até três dígitos significativos, removendo zeros desnecessários à direita.\n",
    "\n",
    "print(f'A divisão é {divisao:.3g}')\n",
    "\n",
    "taxa_de_sucesso = 0.85\n",
    "print(f\"Taxa de sucesso: {taxa_de_sucesso:.2%}\")  # Saída: Taxa de sucesso: 85.00%\n",
    "\n",
    "numero = 7\n",
    "print(f\"Número formatado: {numero:05d}\")  # Saída: Número formatado: 00007\n"
   ]
  },
  {
   "cell_type": "markdown",
   "metadata": {},
   "source": [
    "Com a notação de dois pontos `:`, podemos formatar o texto em nossas f-strings. Um exemplo é reservar um determinado número de espaços de caracteres para o texto, garantindo que o texto seja alinhado adequadamente em uma saída formatada.\n",
    "\n",
    "Por exemplo, para reservar 20 espaços de caracteres para o texto e alinhá-lo à esquerda, podemos usar a seguinte sintaxe:\n",
    "```python\n",
    "texto = \"Python\"\n",
    "print(f\"|{texto:<20}|\")\n",
    "```\n",
    "\n",
    "Isso resultará na saída:\n",
    "```\n",
    "|Python              |\n",
    "```\n",
    "\n",
    "Como mencionado, se o texto tiver menos de 20 caracteres, os espaços restantes serão preenchidos por espaços em branco após o texto. Se quisermos alinhar o texto à direita ou centralizá-lo, podemos usar os símbolos `>` ou `^`, respectivamente.\n",
    "\n",
    "Além disso, podemos especificar o caractere específico que irá preencher os espaços em branco, colocando-o antes do símbolo de alinhamento. Por exemplo, se quisermos preencher os espaços em branco com um traço (-), podemos usar a seguinte sintaxe:\n",
    "```python\n",
    "texto = \"Python\"\n",
    "print(f\"|{texto:-^20}|\")\n",
    "```\n",
    "\n",
    "Isso resultará na saída:\n",
    "```\n",
    "|-Python-|\n",
    "```\n",
    "\n",
    "Dessa forma, podemos controlar o alinhamento e o preenchimento do texto em nossas strings formatadas, garantindo uma apresentação visualmente agradável dos dados."
   ]
  },
  {
   "cell_type": "code",
   "execution_count": 24,
   "metadata": {},
   "outputs": [
    {
     "name": "stdout",
     "output_type": "stream",
     "text": [
      "--A--\n"
     ]
    }
   ],
   "source": [
    "# Faça um teste:\n",
    "\n",
    "nome = input('Qual é o seu nome? ')\n",
    "tamanho = int(input('Qual é o tamanho da saudação? '))\n",
    "caractere = input('Qual caractere você deseja usar para preencher? ')\n",
    "\n",
    "print(f'{nome:{caractere}^{tamanho}}')"
   ]
  },
  {
   "cell_type": "markdown",
   "metadata": {},
   "source": [
    "Python oferece uma variedade de opções de formatação, incluindo alinhamento (:>, <:, ^:), preenchimento (:_, 0, <, >), especificação de largura e precisão, e especificadores de tipo. Aqui estão alguns exemplos de formatação de strings mais avançados:"
   ]
  },
  {
   "cell_type": "code",
   "execution_count": null,
   "metadata": {},
   "outputs": [
    {
     "name": "stdout",
     "output_type": "stream",
     "text": [
      "|    Python|\n",
      "|Python    |\n",
      "|  Python  |\n"
     ]
    }
   ],
   "source": [
    "# Alinhamento: Você pode especificar o alinhamento de uma string dentro de uma área com uma largura especificada. Os operadores de alinhamento incluem:\n",
    "\n",
    "# :> para alinhamento à direita\n",
    "# :< para alinhamento à esquerda\n",
    "# :^ para alinhamento centralizado\n",
    "\n",
    "texto = \"Python\"\n",
    "print(f\"|{texto:>10}|\")  # Saída: |    Python|\n",
    "print(f\"|{texto:<10}|\")  # Saída: |Python    |\n",
    "print(f\"|{texto:^10}|\")  # Saída: |  Python  |"
   ]
  },
  {
   "cell_type": "code",
   "execution_count": null,
   "metadata": {},
   "outputs": [
    {
     "name": "stdout",
     "output_type": "stream",
     "text": [
      "______42\n",
      "00000042\n"
     ]
    }
   ],
   "source": [
    "# Preenchimento: Você pode especificar um caractere de preenchimento ao formatar uma string. Os caracteres de preenchimento comuns incluem _, 0, <, >.\n",
    "\n",
    "# _ preenche com espaços\n",
    "# 0 preenche com zeros à esquerda para números\n",
    "# < preenche à esquerda\n",
    "# > preenche à direita\n",
    "\n",
    "numero = 42\n",
    "print(f\"{numero:_>8}\")  # Saída: ____42\n",
    "print(f\"{numero:0>8}\")  # Saída: 00000042"
   ]
  },
  {
   "cell_type": "code",
   "execution_count": null,
   "metadata": {},
   "outputs": [
    {
     "name": "stdout",
     "output_type": "stream",
     "text": [
      "                                 3.141592653589793\n",
      "                                              3.14\n"
     ]
    }
   ],
   "source": [
    "# Largura e Precisão: Você pode especificar a largura mínima e a precisão de números de ponto flutuante.\n",
    "\n",
    "# Largura mínima: :{largura}\n",
    "# Precisão de ponto flutuante: :.precisaof\n",
    "\n",
    "# Podemos utilizar juntos ou separados.\n",
    "\n",
    "pi = 3.141592653589793\n",
    "print(f\"{pi:50}\")     # Saída: 3.14159  (largura mínima de 50)\n",
    "print(f\"{pi:50.2f}\")  # Saída: 3.14    (largura mínima de 50 e precisão de 2 casas decimais)\n",
    "\n",
    "# Por padrão o alinhamento é à direita e o preenchimento é com espaços a esquerda."
   ]
  },
  {
   "cell_type": "code",
   "execution_count": 31,
   "metadata": {},
   "outputs": [
    {
     "name": "stdout",
     "output_type": "stream",
     "text": [
      "0000002a\n",
      "101010\n"
     ]
    }
   ],
   "source": [
    "# Especificadores de Tipo: Você pode especificar o tipo de dados a ser formatado.\n",
    "\n",
    "# s para strings\n",
    "# d para números inteiros\n",
    "# f para números de ponto flutuante\n",
    "# x para números hexadecimais\n",
    "# o para números octais\n",
    "# b para números binários\n",
    "\n",
    "# Podemos especificar o tipo de dados após a largura e a precisão.\n",
    "# Aqui 08 especifica a largura mínima de 8 e x especifica que o número deve ser formatado como um número hexadecimal.\n",
    "numero = 42\n",
    "print(f\"{numero:08x}\")  # Saída: 0000002a \n",
    "\n",
    "# Aqui especificamos somente o valor e a base numérica.\n",
    "print(f'{42:b}')  # Saída: 101010"
   ]
  },
  {
   "cell_type": "markdown",
   "metadata": {},
   "source": [
    "### **`Comentários`**\n",
    "---\n",
    "Comentários são pedaços de texto inseridos no código-fonte que são ignorados pelo interpretador Python durante a execução do programa. Eles são úteis para documentar o código, explicar seu funcionamento e fornecer informações adicionais aos leitores humanos.\n",
    "\n",
    "Em Python, um comentário é iniciado com o símbolo `#` (hash) e se estende até o final da linha. Qualquer texto após o `#` na mesma linha é tratado como um comentário e não afeta a execução do programa.\n",
    "\n",
    "Por exemplo:\n",
    "```python\n",
    "# Este é um comentário simples\n",
    "print(\"Olá, mundo!\")  # Este é um comentário após uma instrução\n",
    "```\n",
    "\n",
    "Os comentários podem ser colocados em uma linha separada ou ao lado de uma instrução. Eles são úteis para explicar o propósito de uma linha de código ou fornecer informações sobre o que o código está fazendo.\n",
    "\n",
    "Se você deseja um comentário que se estenda por várias linhas, pode usar o mesmo símbolo `#` no início de cada linha. Por exemplo:\n",
    "```python\n",
    "# Este é um comentário\n",
    "# que se estende\n",
    "# por várias linhas\n",
    "```\n",
    "\n",
    "No entanto, Python não possui uma sintaxe específica para comentários de várias linhas como em algumas outras linguagens de programação."
   ]
  },
  {
   "cell_type": "code",
   "execution_count": 45,
   "metadata": {},
   "outputs": [
    {
     "name": "stdout",
     "output_type": "stream",
     "text": [
      "c = 5.0\n"
     ]
    }
   ],
   "source": [
    "# Esse programa calcula a hipotenusa c.\n",
    "# a e b são os tamanhos dos lados.\n",
    "a = 3.0\n",
    "b = 4.0\n",
    "c = (a ** 2 + b ** 2) ** 0.5  # Nós usamos ** ao invés de raiz quadrada.\n",
    "print(\"c =\", c)"
   ]
  },
  {
   "cell_type": "markdown",
   "metadata": {},
   "source": [
    "Se você deseja colocar um comentário que abrange várias linhas, você precisa colocar # na frente de todas ou utilizar aspas triplas.\n",
    "\n",
    "Além disso, você pode usar um comentário para marcar um pedaço de código que não é necessário no momento (veja a última linha do snippet abaixo), por exemplo:"
   ]
  },
  {
   "cell_type": "code",
   "execution_count": 46,
   "metadata": {},
   "outputs": [
    {
     "name": "stdout",
     "output_type": "stream",
     "text": [
      "Olá!\n"
     ]
    }
   ],
   "source": [
    "# Este programa imprime\n",
    "# uma introdução à tela.\n",
    "print(\"Olá!\")  # Chamando a função print()\n",
    "# print(\"Em Python.\")"
   ]
  },
  {
   "cell_type": "markdown",
   "metadata": {},
   "source": [
    "Usar nomes significativos e autoexplicativos para variáveis é uma prática recomendada na programação. Isso ajuda a tornar o código mais legível e compreensível, tanto para você quanto para outros desenvolvedores que possam revisá-lo no futuro. Em vez de nomes genéricos como `myvar1` e `myvar2`, é melhor escolher nomes descritivos que indiquem claramente o propósito ou o conteúdo das variáveis.\n",
    "\n",
    "Por exemplo, se estivermos armazenando o comprimento e a largura de algo, poderíamos usar nomes como `comprimento` e `largura` em vez de `myvar1` e `myvar2`. Isso torna imediatamente evidente o significado das variáveis e facilita a compreensão do código.\n",
    "\n",
    "Além disso, é importante fornecer comentários quando o código não é autoexplicativo ou quando você deseja fornecer informações adicionais sobre o que o código está fazendo. No entanto, é crucial garantir que os comentários sejam precisos, relevantes e mantenham-se atualizados com o código. Comentários incorretos ou desatualizados podem levar a confusão e dificultar a manutenção do código no futuro.\n",
    "\n",
    "Portanto, ao escrever código, é uma boa prática usar nomes de variáveis descritivos e fornecer comentários úteis e precisos, quando necessário, para garantir que o código seja claro, compreensível e fácil de manter."
   ]
  },
  {
   "cell_type": "markdown",
   "metadata": {},
   "source": [
    "### `input()`\n",
    "---\n",
    "A função `input()` é uma ferramenta útil para criar interatividade em programas Python, permitindo que o usuário forneça dados que serão processados pelo programa. Quando você usa `input()`, o programa aguarda a entrada do usuário e depois continua a execução com base nos dados fornecidos.\n",
    "\n",
    "Aqui está um exemplo simples de como usar a função `input()`:\n",
    "\n",
    "```python\n",
    "nome = input(\"Digite seu nome: \")\n",
    "print(\"Olá, \" + nome + \"! Bem-vindo.\")\n",
    "```\n",
    "\n",
    "Neste exemplo:\n",
    "- A função `input()` é chamada com um argumento opcional, a string de prompt que é o texto que será exibido para solicitar a entrada do usuário.\n",
    "\n",
    "- O programa aguarda até que o usuário insira algum texto e pressione Enter.\n",
    "\n",
    "- A entrada do usuário é armazenada na variável `nome`.\n",
    "\n",
    "- O programa então exibe uma mensagem de boas-vindas usando o nome fornecido pelo usuário.\n",
    "\n",
    "É importante notar que o valor retornado pela função `input()` é sempre uma string, mesmo que o usuário insira números. Se você precisar usar a entrada do usuário como um número, será necessário convertê-la para o tipo apropriado usando funções como `int()` ou `float()`."
   ]
  },
  {
   "cell_type": "code",
   "execution_count": 34,
   "metadata": {},
   "outputs": [
    {
     "name": "stdout",
     "output_type": "stream",
     "text": [
      "Você disse \"\".\n"
     ]
    }
   ],
   "source": [
    "qualquer_coisa = input(\"Conta-me qualquer coisa...\")\n",
    "print(f'Você disse \"{qualquer_coisa}\".')\n",
    "\n",
    "# Também vale ressaltar que se o usuário pressionar enter sem digitar nada, o resultado será uma string vazia"
   ]
  },
  {
   "cell_type": "markdown",
   "metadata": {},
   "source": [
    "É crucial reforçar que o resultado da função `input()` é sempre uma string. Mesmo que o usuário insira números, a função retorna uma string contendo os caracteres digitados no teclado. Isso é importante entender porque significa que você não pode usá-lo diretamente em operações aritméticas ou matemáticas.\n",
    "\n",
    "Por exemplo, se você tentar realizar uma operação como elevar ao quadrado o valor inserido pelo usuário diretamente após usar `input()`, isso resultará em um erro porque o Python não pode elevar uma string ao quadrado.\n",
    "\n",
    "```python\n",
    "# Exemplo incorreto - resultará em erro\n",
    "numero = input(\"Digite um número: \")\n",
    "quadrado = numero ** 2\n",
    "print(\"O quadrado do número é:\", quadrado)\n",
    "```\n",
    "\n",
    "Se o usuário pressionar apenas Enter sem digitar nada, o resultado será uma string vazia. Isso pode causar comportamentos inesperados em seu programa se você não estiver preparado para lidar com esse cenário.\n",
    "\n",
    "Portanto, sempre que você usar `input()`, certifique-se de converter o resultado para o tipo de dados apropriado, como `int` ou `float`, se precisar realizar operações numéricas com os dados inseridos pelo usuário."
   ]
  },
  {
   "cell_type": "code",
   "execution_count": 35,
   "metadata": {},
   "outputs": [
    {
     "ename": "TypeError",
     "evalue": "unsupported operand type(s) for ** or pow(): 'str' and 'float'",
     "output_type": "error",
     "traceback": [
      "\u001b[1;31m---------------------------------------------------------------------------\u001b[0m",
      "\u001b[1;31mTypeError\u001b[0m                                 Traceback (most recent call last)",
      "Cell \u001b[1;32mIn[35], line 3\u001b[0m\n\u001b[0;32m      1\u001b[0m \u001b[38;5;66;03m# Faça o teste: \u001b[39;00m\n\u001b[0;32m      2\u001b[0m numero_digitado \u001b[38;5;241m=\u001b[39m \u001b[38;5;28minput\u001b[39m(\u001b[38;5;124m\"\u001b[39m\u001b[38;5;124mDigite um número: \u001b[39m\u001b[38;5;124m\"\u001b[39m)\n\u001b[1;32m----> 3\u001b[0m calculando \u001b[38;5;241m=\u001b[39m \u001b[43mnumero_digitado\u001b[49m\u001b[43m \u001b[49m\u001b[38;5;241;43m*\u001b[39;49m\u001b[38;5;241;43m*\u001b[39;49m\u001b[43m \u001b[49m\u001b[38;5;241;43m2.0\u001b[39;49m\n\u001b[0;32m      4\u001b[0m \u001b[38;5;28mprint\u001b[39m(\u001b[38;5;124mf\u001b[39m\u001b[38;5;124m'\u001b[39m\u001b[38;5;124mO quadrado de \u001b[39m\u001b[38;5;132;01m{\u001b[39;00mnumero_digitado\u001b[38;5;132;01m}\u001b[39;00m\u001b[38;5;124m é \u001b[39m\u001b[38;5;132;01m{\u001b[39;00mcalculando\u001b[38;5;132;01m}\u001b[39;00m\u001b[38;5;124m.\u001b[39m\u001b[38;5;124m'\u001b[39m) \u001b[38;5;66;03m# TypeError: unsupported operand type(s) for ** or pow(): 'str' and 'float'\u001b[39;00m\n",
      "\u001b[1;31mTypeError\u001b[0m: unsupported operand type(s) for ** or pow(): 'str' and 'float'"
     ]
    }
   ],
   "source": [
    "# Faça o teste: \n",
    "numero_digitado = input(\"Digite um número: \")\n",
    "calculando = numero_digitado ** 2.0\n",
    "print(f'O quadrado de {numero_digitado} é {calculando}.') # TypeError: unsupported operand type(s) for ** or pow(): 'str' and 'float'"
   ]
  },
  {
   "cell_type": "markdown",
   "metadata": {},
   "source": [
    "A última linha da frase explica tudo:\n",
    "\n",
    "```python\n",
    "TypeError: unsupported operand type(s) for ** or pow(): 'str' and 'float'\n",
    "```\n",
    "\n",
    "Você tentou aplicar o operador ** a 'str' (string) acompanhado de 'float'. Isso é proibido.\n",
    "\n",
    "Isso deve ser óbvio - você pode prever o valor de \"ser ou não ser\" elevado à potência de 2?"
   ]
  },
  {
   "cell_type": "markdown",
   "metadata": {},
   "source": [
    "## `Conversão de valores`\n",
    "---\n",
    "O Python oferece funções simples para especificar um tipo de dados e resolver esse problema tipo de problema.\n",
    "\n",
    "Isso é muito simples e muito eficaz. Além disso, você pode chamar qualquer uma das funções passando os resultados de input() diretamente para elas. Não há necessidade de usar nenhuma variável como armazenamento intermediário.\n",
    "\n",
    "Dê uma olhada no exemplo: o programa solicita que o usuário insira um número inteiro e, em seguida, calcula o seu quadrado."
   ]
  },
  {
   "cell_type": "code",
   "execution_count": 36,
   "metadata": {},
   "outputs": [
    {
     "name": "stdout",
     "output_type": "stream",
     "text": [
      "4\n"
     ]
    }
   ],
   "source": [
    "numero_digitado = int(input(\"Digite um número: \"))\n",
    "calculando = numero_digitado ** 2\n",
    "print(calculando)"
   ]
  },
  {
   "cell_type": "markdown",
   "metadata": {},
   "source": [
    "No Python, é possível converter valores de um tipo para outro usando funções de conversão integradas. Essas funções permitem que você altere o tipo de dado de uma variável conforme necessário.\n",
    "\n",
    "Por exemplo, se você solicitar ao usuário um número inteiro usando a função `input()`, o valor retornado será uma string. Para realizar operações matemáticas com esse valor, como calcular o quadrado do número, você precisa converter a string em um número inteiro.\n",
    "\n",
    "Você pode fazer isso usando a função `int()`. Essa função converte uma string em um número inteiro. Aqui está um exemplo:\n",
    "\n",
    "```python\n",
    "numero_str = input(\"Digite um número inteiro: \")  # Recebe o número como string\n",
    "numero_int = int(numero_str)  # Converte a string para um número inteiro\n",
    "quadrado = numero_int ** 2  # Calcula o quadrado do número inteiro\n",
    "print(\"O quadrado do número é:\", quadrado)\n",
    "```\n",
    "\n",
    "Da mesma forma, se você deseja lidar com números decimais, pode usar a função `float()`. Isso converte uma string em um número de ponto flutuante.\n",
    "\n",
    "```python\n",
    "numero_str = input(\"Digite um número decimal: \")  # Recebe o número como string\n",
    "numero_float = float(numero_str)  # Converte a string para um número de ponto flutuante\n",
    "```\n",
    "\n",
    "Essas funções de conversão são muito úteis ao lidar com dados inseridos pelo usuário ou ao trabalhar com diferentes tipos de dados em seu programa. Certifique-se sempre de converter corretamente os valores conforme necessário para evitar erros durante a execução do programa."
   ]
  },
  {
   "cell_type": "code",
   "execution_count": 38,
   "metadata": {},
   "outputs": [
    {
     "name": "stdout",
     "output_type": "stream",
     "text": [
      "Você não digitou um número.\n",
      "Você não digitou um número. Tente novamente.\n",
      "Você não digitou um número. Tente novamente.\n",
      "Você não digitou um número. Tente novamente.\n",
      "4\n"
     ]
    }
   ],
   "source": [
    "# Porém ainda assim, utilizando funções de conversão de tipos, podemos causar um erro. Por exemplo, se o usuário digitar um texto ao invés de um número ou não digitar nada, o programa irá gerar um erro.\n",
    "\n",
    "# Para estes casos usamos funções específicas para tratar exceções. Vejamos um exemplo de tratamento de erros e exceções:\n",
    "\n",
    "# O bloco try é executado normalmente. Se ocorrer um erro, o bloco except é executado, se não ocorrer erro, o bloco except é ignorado e o programa continua a execução normalmente.\n",
    "try:\n",
    "    numero_digitado = int(input(\"Digite um número: \"))\n",
    "    calculando = numero_digitado ** 2\n",
    "    print(calculando)\n",
    "except ValueError:\n",
    "    print(\"Você não digitou um número.\")\n",
    "\n",
    "# Se quisermos garantir que o usuário digite um número, podemos usar um loop while para continuar pedindo ao usuário que digite um número até que ele faça isso.\n",
    "\n",
    "while True:\n",
    "    try:\n",
    "        numero_digitado = int(input(\"Digite um número: \"))\n",
    "        calculando = numero_digitado ** 2\n",
    "        print(calculando)\n",
    "        break\n",
    "    except ValueError:\n",
    "        print(\"Você não digitou um número. Tente novamente.\")"
   ]
  },
  {
   "cell_type": "markdown",
   "metadata": {},
   "source": [
    "### **`type()`**\n",
    "---\n",
    "Vimos os tipos de dados básicos em Python. Se não tivermos certeza do tipo de valor, podemos verificá-lo. \n",
    "\n",
    "O método `type()` é usado para verificar o tipo de dados de uma determinada variável ou valor. Ele retorna o tipo de dados como um objeto de tipo.\n",
    "\n",
    "A sintaxe para usar o método `type()` é `type(valor)`, onde `valor` é a variável ou valor cujo tipo de dados queremos verificar.\n",
    "\n",
    "Por exemplo:\n",
    "\n",
    "```python\n",
    "numero = 10\n",
    "tipo_numero = type(numero)\n",
    "print(tipo_numero)  # Saída: <class 'int'>\n",
    "```\n",
    "\n",
    "Neste exemplo, `numero` é uma variável do tipo inteiro (`int`). Usando o método `type()`, verificamos que o tipo de `numero` e se combinarmos o método `type()` com o método `print()`, podemos ver uma versão abreviada do tipo de dado no console `<class 'int'>`, que é a representação do tipo de dados inteiro em Python.\n",
    "\n",
    "Podemos usar o método `type()` em qualquer variável ou valor para determinar seu tipo de dados. Isso pode ser útil ao escrever código para garantir que estamos manipulando os tipos de dados corretos em nossos programas.\n",
    "\n",
    "Após ter certeza do tipo de dado, podemos converter um tipo de dado em outro. Para isso, usamos os métodos int(), float(), str() e bool()."
   ]
  },
  {
   "cell_type": "code",
   "execution_count": null,
   "metadata": {},
   "outputs": [
    {
     "name": "stdout",
     "output_type": "stream",
     "text": [
      "<class 'int'>\n",
      "int\n"
     ]
    }
   ],
   "source": [
    "dado = 100  # A variável recebe um valor do tipo inteiro\n",
    "print(type(dado))  # Exibe <class 'int'>.\n",
    "\n",
    "print(type(dado).__name__)  # Exibe int.\n",
    "# __name__ é um atributo especial que contém o nome da classe do objeto. Neste caso, o nome da classe do objeto é int."
   ]
  },
  {
   "cell_type": "markdown",
   "metadata": {},
   "source": [
    "### `int()`\n",
    "---\n",
    "A função `int()` é usada para converter um valor em um número inteiro. Ela aceita um argumento (por exemplo, uma string: `int(string)`) e tenta convertê-lo em um número inteiro. Se a conversão falhar, o programa também falhará, a menos que seja tratada a exceção."
   ]
  },
  {
   "cell_type": "code",
   "execution_count": 41,
   "metadata": {},
   "outputs": [
    {
     "name": "stdout",
     "output_type": "stream",
     "text": [
      "A conversão falhou.\n"
     ]
    }
   ],
   "source": [
    "# Se um caractere alfabetico for convertido para um número inteiro, o Python retornará um erro. Para evitar isso, podemos tratar a exceção com um bloco try-except.\n",
    "\n",
    "try:\n",
    "    numero_inteiro = int('A')\n",
    "    print(numero_inteiro)\n",
    "except ValueError:\n",
    "    print(\"A conversão falhou.\")\n",
    "    \n",
    "# Observação: Existe uma função chamada ord() que retorna o valor Unicode de um caractere. Por exemplo, ord('A') retorna 65"
   ]
  },
  {
   "cell_type": "markdown",
   "metadata": {},
   "source": [
    "\n",
    "Se usarmos `int()` em números de ponto flutuante, ela simplesmente removerá o ponto decimal e quaisquer valores subsequentes. Não haverá arredondamento nesse processo. Por exemplo:"
   ]
  },
  {
   "cell_type": "code",
   "execution_count": 39,
   "metadata": {},
   "outputs": [
    {
     "name": "stdout",
     "output_type": "stream",
     "text": [
      "3\n"
     ]
    }
   ],
   "source": [
    "numero_float = 3.9\n",
    "numero_inteiro = int(numero_float)\n",
    "print(numero_inteiro)  # Saída: 3\n",
    "\n",
    "# Neste exemplo, o número de ponto flutuante `3.9` foi convertido para um número inteiro utilizando `int()`, resultando em `3`. O valor após o ponto decimal foi simplesmente removido, sem arredondamento."
   ]
  },
  {
   "cell_type": "markdown",
   "metadata": {},
   "source": [
    "Se quisermos arredondar um número de ponto flutuante para o inteiro mais próximo, podemos usar a função `round()`. Esta função arredondará o número de acordo com a regra matemática padrão: se a parte fracionária for maior ou igual a 0.5, o número será arredondado para cima; caso contrário, será arredondado para baixo.\n",
    "\n",
    "Aqui está um exemplo de como usar `round()` para arredondar um número de ponto flutuante:"
   ]
  },
  {
   "cell_type": "code",
   "execution_count": null,
   "metadata": {},
   "outputs": [
    {
     "name": "stdout",
     "output_type": "stream",
     "text": [
      "4\n",
      "3.14\n",
      "3\n"
     ]
    }
   ],
   "source": [
    "# Neste exemplo, o número de ponto flutuante 3.9 foi arredondado para 4, pois a parte fracionária é maior do que 0.5\n",
    "\n",
    "numero_float = 3.9\n",
    "numero_arredondado = round(numero_float)\n",
    "print(numero_arredondado)  # Saída: 4\n",
    "\n",
    "# round() aceita um segundo argumento opcional que especifica o número de casas decimais a serem arredondadas.\n",
    "numero_float = 3.14159\n",
    "numero_arredondado = round(numero_float, 2)\n",
    "print(numero_arredondado)  # Saída: 3.14\n",
    "\n",
    "# Sem o segundo argumento, round() arredonda para o inteiro mais próximo.\n",
    "numero_float = 3.14159\n",
    "numero_arredondado = round(numero_float)\n",
    "print(numero_arredondado)  # Saída: 3"
   ]
  },
  {
   "cell_type": "markdown",
   "metadata": {},
   "source": [
    "Quando usamos a função `int()` em um booleano em Python, o valor numérico equivalente é `1` para `True` e `0` para `False`. Se convertermos esses valores para float, obteremos `1.0` para `True` e `0.0` para `False`."
   ]
  },
  {
   "cell_type": "code",
   "execution_count": null,
   "metadata": {},
   "outputs": [
    {
     "name": "stdout",
     "output_type": "stream",
     "text": [
      "1\n",
      "0\n",
      "1.0\n",
      "0.0\n"
     ]
    }
   ],
   "source": [
    "# Aqui está um exemplo que demonstra isso:\n",
    "\n",
    "verdadeiro = True\n",
    "falso = False\n",
    "\n",
    "inteiro_verdadeiro = int(verdadeiro)\n",
    "inteiro_falso = int(falso)\n",
    "\n",
    "float_verdadeiro = float(verdadeiro)\n",
    "float_falso = float(falso)\n",
    "\n",
    "print(inteiro_verdadeiro)  # Saída: 1\n",
    "print(inteiro_falso)       # Saída: 0\n",
    "\n",
    "print(float_verdadeiro)    # Saída: 1.0\n",
    "print(float_falso)         # Saída: 0.0\n",
    "\n",
    "\n",
    "# Neste exemplo, ao converter o booleano `True` em inteiro, obtemos `1`, e ao converter o booleano `False`, obtemos `0`. Quando convertemos esses valores para float, obtemos `1.0` e `0.0`, respectivamente."
   ]
  },
  {
   "cell_type": "markdown",
   "metadata": {},
   "source": [
    "### `float()`\n",
    "---\n",
    "Ao usar a função `float()` em um número inteiro em Python, será adicionado um ponto decimal e um zero subsequente, convertendo-o para um número de ponto flutuante.\n",
    "\n",
    "Aqui está um exemplo para ilustrar isso:"
   ]
  },
  {
   "cell_type": "code",
   "execution_count": null,
   "metadata": {},
   "outputs": [
    {
     "name": "stdout",
     "output_type": "stream",
     "text": [
      "5.0\n"
     ]
    }
   ],
   "source": [
    "inteiro = 5\n",
    "float_resultante = float(inteiro)\n",
    "\n",
    "print(float_resultante)  # Saída: 5.0\n",
    "\n",
    "# Neste exemplo, o número inteiro `5` é convertido para um número de ponto flutuante usando a função `float()`, resultando em `5.0`."
   ]
  },
  {
   "cell_type": "markdown",
   "metadata": {},
   "source": [
    "### `bool()`\n",
    "---\n",
    "A função `bool()` em Python é utilizada para converter um valor para o tipo booleano. \n",
    "\n",
    "Quando aplicada a diferentes tipos de dados, a função `bool()` retorna `False` se o valor for considerado vazio, e `True` caso contrário. "
   ]
  },
  {
   "cell_type": "code",
   "execution_count": null,
   "metadata": {},
   "outputs": [
    {
     "name": "stdout",
     "output_type": "stream",
     "text": [
      "True\n",
      "False\n",
      "False\n",
      "True\n",
      "False\n",
      "True\n"
     ]
    }
   ],
   "source": [
    "# Convertendo diferentes valores para booleanos\n",
    "print(bool(\"texto\"))  # Saída: True\n",
    "print(bool(\"\"))       # Saída: False (string vazia)\n",
    "print(bool(0))        # Saída: False\n",
    "print(bool(10))       # Saída: True\n",
    "print(bool([]))       # Saída: False (lista vazia)\n",
    "print(bool([1, 2, 3])) # Saída: True\n",
    "\n",
    "# Como mostrado nos exemplos, strings não vazias, números diferentes de zero e listas não vazias são avaliados como `True`, enquanto strings vazias, o número zero e listas vazias são avaliados como `False`."
   ]
  },
  {
   "cell_type": "markdown",
   "metadata": {},
   "source": [
    "### `str()`\n",
    "---\n",
    "A função `str()` em Python é utilizada para converter valores para o tipo string.\n",
    "\n",
    "Por exemplo, se você tem um número inteiro ou de ponto flutuante e deseja convertê-lo em uma string para fins de exibição ou manipulação de texto, você pode usar a função `str()` para realizar essa conversão.\n",
    "\n",
    "Aqui está um exemplo de como usar `str()`:"
   ]
  },
  {
   "cell_type": "code",
   "execution_count": null,
   "metadata": {},
   "outputs": [
    {
     "name": "stdout",
     "output_type": "stream",
     "text": [
      "42\n",
      "3.14\n"
     ]
    }
   ],
   "source": [
    "# Convertendo um número inteiro para uma string\n",
    "numero = 42\n",
    "numero_em_string = str(numero)\n",
    "print(numero_em_string)  # Saída: \"42\"\n",
    "\n",
    "# Convertendo um número de ponto flutuante para uma string\n",
    "numero_float = 3.14\n",
    "numero_float_em_string = str(numero_float)\n",
    "print(numero_float_em_string)  # Saída: \"3.14\"\n",
    "\n",
    "# Isso pode ser útil ao combinar números e strings em expressões de saída, como ao usar a função `print()`."
   ]
  },
  {
   "cell_type": "markdown",
   "metadata": {},
   "source": [
    "Se um booleano for convertido para uma string, ele será representado como `\"True\"` ou `\"False\"`, correspondendo aos valores booleanos `True` e `False`, respectivamente. Aqui está um exemplo:\n",
    "\n",
    "```python\n",
    "booleano = True\n",
    "booleano_em_string = str(booleano)\n",
    "print(booleano_em_string)  # Saída: \"True\"\n",
    "```\n",
    "\n",
    "```python\n",
    "booleano = False\n",
    "booleano_em_string = str(booleano)\n",
    "print(booleano_em_string)  # Saída: \"False\"\n",
    "```\n",
    "\n",
    "Essa conversão é útil quando você precisa representar um valor booleano como texto, por exemplo, ao escrever em arquivos ou ao exibir mensagens para o usuário.\n",
    "\n",
    "Além de `bool` para `str`, há também a conversão de `listas`, `tuplas`, `conjuntos` e `dicionários` para `strings`. Aqui estão exemplos dessas conversões:\n",
    "\n",
    "1. **Listas para String**: Uma lista pode ser convertida em uma string usando a função `str()`. A string resultante mostrará os elementos da lista separados por vírgulas e entre colchetes.\n",
    "\n",
    "```python\n",
    "lista = [1, 2, 3, 4, 5]\n",
    "lista_em_string = str(lista)\n",
    "print(lista_em_string)  # Saída: \"[1, 2, 3, 4, 5]\"\n",
    "```\n",
    "\n",
    "2. **Tuplas para String**: O mesmo se aplica às tuplas.\n",
    "\n",
    "```python\n",
    "tupla = (1, 2, 3, 4, 5)\n",
    "tupla_em_string = str(tupla)\n",
    "print(tupla_em_string)  # Saída: \"(1, 2, 3, 4, 5)\"\n",
    "```\n",
    "\n",
    "3. **Conjuntos para String**: Conjuntos podem ser convertidos em strings da mesma forma.\n",
    "\n",
    "```python\n",
    "conjunto = {1, 2, 3, 4, 5}\n",
    "conjunto_em_string = str(conjunto)\n",
    "print(conjunto_em_string)  # Saída: \"{1, 2, 3, 4, 5}\"\n",
    "```\n",
    "\n",
    "4. **Dicionários para String**: Dicionários também podem ser convertidos em strings.\n",
    "\n",
    "```python\n",
    "dicionario = {'a': 1, 'b': 2, 'c': 3}\n",
    "dicionario_em_string = str(dicionario)\n",
    "print(dicionario_em_string)  # Saída: \"{'a': 1, 'b': 2, 'c': 3}\"\n",
    "```\n",
    "\n",
    "Essas conversões são úteis ao lidar com saída de dados ou ao armazenar estruturas de dados complexas em um formato legível."
   ]
  }
 ],
 "metadata": {
  "kernelspec": {
   "display_name": "Python 3",
   "language": "python",
   "name": "python3"
  },
  "language_info": {
   "codemirror_mode": {
    "name": "ipython",
    "version": 3
   },
   "file_extension": ".py",
   "mimetype": "text/x-python",
   "name": "python",
   "nbconvert_exporter": "python",
   "pygments_lexer": "ipython3",
   "version": "3.12.1"
  }
 },
 "nbformat": 4,
 "nbformat_minor": 2
}
