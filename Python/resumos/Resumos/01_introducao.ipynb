{
 "cells": [
  {
   "cell_type": "markdown",
   "id": "9dcc2d72",
   "metadata": {},
   "source": [
    "# Introdução a programação\n",
    "---\n",
    "Programação é essencialmente `o processo de criar sequências de instruções que um computador pode entender e executar para realizar uma determinada tarefa ou alcançar um resultado específico`.\n",
    "\n",
    "Isso envolve escrever códigos em uma `linguagem de programação`, seguindo a sintaxe e a lógica da linguagem escolhida, para criar programas ou software funcional. O efeito pode ser diferente em cada caso específico - depende da imaginação, do conhecimento e da experiência do programador e obviamente, essa composição precisa ser correta em muitos sentidos:\n",
    "\n",
    "Quando falamos de programação, é essencial compreender diversas camadas para dominar uma linguagem específica.\n",
    "\n",
    "Primeiramente, entender a organização estrutural é fundamental. Cada linguagem de programação é como um idioma para computadores, com sua própria sintaxe e conjunto de normas. Por exemplo, Python utiliza indentação para delimitar blocos de código, o que a torna popular pela sua simplicidade e legibilidade.\n",
    "\n",
    "Dominar a linguagem lexicalmente também é crucial. Isso envolve conhecer não apenas o vocabulário, mas também os símbolos e estruturas fundamentais da linguagem. Em Python, além das palavras-chave como `if`, `else`, `for`, `while`, é importante entender operadores como `+`, `-`, `*`, `/`, e tipos de dados como `int`, `float`, `str`, `list`, `dict`. Essa compreensão permite expressar ideias de forma clara e precisa, facilitando o desenvolvimento de uma variedade de aplicações.\n",
    "\n",
    "Outro aspecto essencial é a sintaxe da linguagem. Cada uma possui suas próprias regras sintáticas para escrever e organizar comandos e estruturas. Python, por exemplo, é conhecido por sua clareza e utiliza indentação para definir blocos de código, diferentemente de outras linguagens que usam chaves ou palavras-chave específicas. Essas regras garantem que o código seja interpretado corretamente, desde simples instruções até estruturas mais complexas.\n",
    "\n",
    "Por fim, a semântica do código é crucial para que ele não apenas execute corretamente, mas também atenda aos objetivos esperados. Um programa deve fazer sentido semanticamente, produzindo os resultados desejados quando executado. Isso garante que o software desenvolvido seja eficiente e confiável, atendendo às necessidades e expectativas dos usuários finais.\n",
    "\n",
    "Dominar todos esses aspectos é essencial para se tornar um programador habilidoso e eficiente, capaz de criar soluções robustas e funcionais para uma variedade de problemas e necessidades computacionais.\n",
    "\n",
    "Podemos dizer então que cada linguagem (máquina ou natural, não importa) consiste nos seguintes elementos:\n",
    "\n",
    "- `Um alfabeto`: Na linguagem natural, o alfabeto consiste em letras que são usadas para formar palavras. Por exemplo, o alfabeto inglês consiste nas letras A a Z. Em linguagens de programação, o \"alfabeto\" é composto por símbolos, como letras, números e caracteres especiais, que são usados para escrever código.\n",
    "\n",
    "- `Uma lexis ou dicionário`: Este é o conjunto de palavras ou termos disponíveis em uma linguagem, que são usados para construir expressões e instruções. No contexto da linguagem natural, o dicionário contém todas as palavras reconhecidas e aceitas em uma língua. Em programação, o dicionário é o conjunto de palavras-chave, funções, variáveis e outros elementos que compõem a linguagem de programação.\n",
    "\n",
    "- `Uma sintaxe`: um conjunto de regras que definem como as palavras podem ser combinadas para formar frases. Assim como na linguagem natural, a sintaxe em programação refere-se às regras e estrutura gramatical que governam como as palavras e símbolos são combinados para formar instruções e expressões válidas. Violando essas regras resultará em erros de sintaxe, impedindo a execução correta do programa.\n",
    "\n",
    "- `Semântica`: um conjunto de regras que definem o significado das frases. Esta é a camada mais profunda de significado. Na linguagem natural, refere-se ao significado das palavras e como elas se relacionam umas com as outras em contexto. Em programação, a semântica refere-se ao significado das instruções e estruturas de controle em um programa. Uma instrução pode estar correta em termos de sintaxe, mas produzir resultados inesperados se sua semântica estiver incorreta.\n",
    "\n",
    "Entender esses elementos é fundamental para comunicar-se efetivamente em qualquer linguagem, seja natural ou de programação. Isso é especialmente importante na programação, onde a precisão e a clareza são essenciais para garantir que um programa faça o que é esperado."
   ]
  },
  {
   "cell_type": "markdown",
   "id": "995942a2",
   "metadata": {},
   "source": [
    "## Linguagem de máquina x Linguagem natural\n",
    "---\n",
    "Computadores possuem sua própria linguagem, chamada linguagem de máquina e um conjunto completo de comandos conhecidos como lista de instruções ou IL. \n",
    "\n",
    "- Linguagem de máquina: É a linguagem diretamente compreendida e executada pelos processadores dos computadores. Consiste em instruções binárias (0s e 1s) que representam operações elementares, como adição, subtração, movimentação de dados na memória, entre outras. Essa linguagem é de baixo nível e difícil de ser compreendida e escrita pelos humanos.\n",
    "\n",
    "- Linguagens de programação de alto nível: São linguagens mais próximas da linguagem humana, facilitando a escrita e compreensão do código por parte dos programadores. Os programas escritos nessas linguagens precisam ser traduzidos para a linguagem de máquina antes de serem executados. Isso é feito por compiladores ou interpretadores.\n",
    "\n",
    "- Python: É uma linguagem de programação de alto nível que ganhou popularidade devido à sua sintaxe clara e legibilidade. Muitas pessoas acham que a estrutura do código Python se assemelha à linguagem inglesa, tornando-a relativamente fácil de aprender e entender para iniciantes. No entanto, é importante notar que, apesar de sua semelhança com a linguagem humana, Python ainda é uma linguagem de programação com regras e sintaxe específicas que devem ser seguidas para escrever código válido."
   ]
  },
  {
   "cell_type": "markdown",
   "id": "8e214ff6",
   "metadata": {},
   "source": [
    "## Apresentando o Python\n",
    "---\n",
    "Python é uma linguagem de programação popular criada por Guido van Rossum em 1991. É amplamente utilizado em diversas áreas, incluindo desenvolvimento web (server-side), desenvolvimento de software, matemática e script do sistema.\n",
    "\n",
    "Python pode ser usado para criar aplicações web em servidores, desenvolver fluxos de trabalho em conjunto com outros softwares, conectar-se a sistemas de banco de dados, manipular arquivos, lidar com big data, realizar matemática complexa, prototipagem rápida e desenvolvimento de software pronto para produção.\n",
    "\n",
    "Algumas razões para escolher Python incluem sua capacidade de funcionar em diferentes plataformas, sua sintaxe simples e legível, sua capacidade de escrever programas com menos linhas de código em comparação com outras linguagens, sua execução rápida devido ao sistema interpretador e sua capacidade de ser tratado de forma processual, orientada a objetos ou funcional.\n",
    "\n",
    "A versão principal mais recente é o Python 3, embora o Python 2 ainda seja popular. Python pode ser escrito em editores de texto ou em Ambientes de Desenvolvimento Integrado (IDEs) como Thonny, PyCharm, NetBeans ou Eclipse.\n",
    "\n",
    "A sintaxe de Python é projetada para legibilidade e usa novas linhas para completar um comando. Ela também depende de recuo (espaço em branco) para definir o escopo, como o escopo de loops, funções e classes, ao contrário de outras linguagens que geralmente usam colchetes para essa finalidade.\n",
    "\n",
    "O Python pode já estar instalado em muitos PCs e Macs. Para verificar se está instalado, siga estas instruções:\n",
    "\n",
    "- No Windows, procure por Python na barra de busca ou execute `python --version` no prompt de comando (cmd.exe).\n",
    "- No Linux ou Mac, abra o Terminal e digite `python --version`.\n",
    "\n",
    "Se não estiver instalado, você pode baixá-lo gratuitamente no site oficial python.org.\n",
    "\n",
    "Para começar a programar em Python, siga este guia rápido:\n",
    "\n",
    "1. Escreva seu código Python em um arquivo de texto (com extensão .py).\n",
    "2. Execute o arquivo Python no interpretador Python.\n",
    "\n",
    "Por exemplo, vamos criar um arquivo chamado \"helloworld.py\" com o seguinte conteúdo:\n",
    "\n",
    "```python\n",
    "print(\"Hello, World!\")\n",
    "```\n",
    "\n",
    "Salve o arquivo e execute-o no prompt de comando (cmd.exe ou Terminal):\n",
    "\n",
    "```\n",
    "python helloworld.py\n",
    "```\n",
    "\n",
    "Você deve ver a saída:\n",
    "\n",
    "```\n",
    "Hello, World!\n",
    "```\n",
    "\n",
    "Parabéns! Você escreveu e executou seu primeiro programa Python."
   ]
  },
  {
   "cell_type": "code",
   "execution_count": 1,
   "id": "18942528",
   "metadata": {},
   "outputs": [
    {
     "name": "stdout",
     "output_type": "stream",
     "text": [
      "Hello, World!\n"
     ]
    }
   ],
   "source": [
    "print(\"Hello, World!\")"
   ]
  },
  {
   "cell_type": "markdown",
   "id": "0b6091f9",
   "metadata": {},
   "source": [
    "A estrutura de um código Python é fundamental para garantir que o programa seja executado corretamente e de forma compreensível tanto para o desenvolvedor quanto para o interpretador da linguagem. Aqui estão alguns aspectos importantes da estrutura de um código Python:\n",
    "\n",
    "1. **Indentação**: Em Python, a indentação é crucial para definir a estrutura do código. Blocos de código são delimitados pela indentação, geralmente utilizando espaços em branco (tabs ou espaços). Ao contrário de outras linguagens que usam chaves `{}` para delimitar blocos, Python utiliza a indentação para indicar a estrutura do código. Isso não apenas torna o código mais legível, mas também garante que a hierarquia e a execução do programa sejam interpretadas corretamente pelo Python.\n",
    "\n",
    "2. **Ordem de Execução (Leitura de cima para baixo)**: O Python executa o código de cima para baixo, linha por linha. Isso significa que a ordem em que as instruções são escritas é crucial para o fluxo de execução do programa. Variáveis devem ser definidas antes de serem utilizadas, e funções devem ser definidas antes de serem chamadas. Essa ordem é fundamental para garantir que o código funcione conforme esperado.\n",
    "\n",
    "3. **Comentários**: Comentários em Python são marcados pelo caractere `#`. Eles são usados para explicar o código e fazer anotações que não são executadas pelo interpretador Python. Comentários são úteis para documentar partes complexas do código, explicar a lógica por trás de decisões específicas ou para tornar o código mais compreensível para outros desenvolvedores que possam revisá-lo no futuro.\n",
    "\n",
    "4. **Instruções e Expressões**: Python suporta tanto instruções quanto expressões. Instruções são operações que realizam uma ação, como atribuições de variáveis, chamadas de função, estruturas de controle como `if`, `for`, `while`, entre outras. Expressões, por outro lado, produzem um valor, como operações aritméticas, chamadas de função que retornam um resultado, etc.\n",
    "\n",
    "5. **Importação de Módulos**: Python permite importar funcionalidades de módulos externos para estender a funcionalidade padrão da linguagem. Isso é feito com declarações de importação, como `import nome_do_modulo` ou `from nome_do_modulo import funcao_especifica`. Importar módulos permite utilizar bibliotecas pré-existentes para realizar tarefas específicas, como manipulação de dados, operações matemáticas avançadas, entre outras.\n",
    "\n",
    "6. **Organização e Estruturação**: Embora Python seja flexível quanto à estruturação do código, é uma boa prática organizar o código em funções e classes, quando necessário, para modularizar e reutilizar código. Funções permitem encapsular blocos de código que realizam tarefas específicas, enquanto classes fornecem um mecanismo para agrupar dados e funções relacionados em um único objeto.\n",
    "\n",
    "Entender e aplicar corretamente esses conceitos de estrutura de código Python não apenas melhora a legibilidade e a manutenção do código, mas também facilita a colaboração entre desenvolvedores e aumenta a eficiência na criação de software robusto e funcional."
   ]
  }
 ],
 "metadata": {
  "kernelspec": {
   "display_name": "Python 3 (ipykernel)",
   "language": "python",
   "name": "python3"
  },
  "language_info": {
   "codemirror_mode": {
    "name": "ipython",
    "version": 3
   },
   "file_extension": ".py",
   "mimetype": "text/x-python",
   "name": "python",
   "nbconvert_exporter": "python",
   "pygments_lexer": "ipython3",
   "version": "3.12.1"
  }
 },
 "nbformat": 4,
 "nbformat_minor": 5
}
