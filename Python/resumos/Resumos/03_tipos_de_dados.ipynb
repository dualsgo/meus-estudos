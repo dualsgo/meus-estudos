{
 "cells": [
  {
   "cell_type": "markdown",
   "metadata": {},
   "source": [
    "# Tipos de dados\n",
    "---\n",
    "**Literais** são valores de dados que têm um valor fixo, não variável. Em Python, eles podem ser números, strings (texto), booleanos, entre outros. \n",
    "\n",
    "Por exemplo, o número `1` e a string `'1'` têm o mesmo valor, que é `1`, mas são de tipos diferentes. O valor literal representa o valor intrínseco do dado. Portanto, o valor literal de `1` e `'1'` é o mesmo (`1`), mas eles têm tipos de dados diferentes.\n",
    "\n",
    "**Exemplos de literais**\n",
    "\n",
    "```python\n",
    "numero = 1\n",
    "texto = '1'\n",
    "\n",
    "print(numero)  # Saída: 1\n",
    "print(texto)   # Saída: 1\n",
    "```\n",
    "\n",
    "A função `print()` os apresenta exatamente da mesma maneira, pois sua representação legível por humanos também é a mesma.\n",
    "\n",
    "Internamente, na memória do computador, esses dois valores são armazenados de formas completamente diferentes. A string existe apenas como uma sequência de letras, enquanto o número é armazenado em uma representação de máquina (um conjunto de bits). Apesar disso, a função `print()` é capaz de exibir ambos em um formato legível para humanos."
   ]
  },
  {
   "cell_type": "markdown",
   "metadata": {},
   "source": [
    "## `Strings`"
   ]
  },
  {
   "cell_type": "markdown",
   "metadata": {},
   "source": [
    "**Strings** são dados de texto delimitados por aspas simples (' ') ou duplas (\" \"). Elas são usadas para representar sequências de caracteres, que podem incluir letras, números, símbolos ou espaços.\n",
    "\n",
    "A escolha entre aspas simples e duplas depende do conteúdo da string. Se a string contiver aspas simples dentro dela, você deve usar aspas duplas para delimitá-la e vice-versa. Isso evita erros de sintaxe e permite que o Python saiba onde a string termina. Essa prática é fundamental para garantir que suas strings sejam interpretadas corretamente pelo Python.\n",
    "\n",
    "Uma string vazia, representada por aspas simples sem nenhum caractere dentro ou aspas duplas sem nenhum caractere dentro ('', \"\"), é considerada uma string válida, já que ***uma string é uma sequência de caracteres, e uma string vazia representa simplesmente uma sequência de zero caracteres***. Embora não haja caracteres visíveis dentro de uma string vazia, ela ainda é uma instância válida do tipo de dado string. Isso ocorre porque Python permite a criação de strings vazias para fins de conveniência e consistência na manipulação de dados.\n",
    "\n",
    "Embora strings sejam comumente consideradas como uma sequência de caracteres, elas também podem ser vistas como um tipo de valor composto, assim como listas. Em Python, strings são iteráveis e podem ser acessadas por índices, da mesma forma que as listas."
   ]
  },
  {
   "cell_type": "code",
   "execution_count": 1,
   "metadata": {
    "ExecuteTime": {
     "end_time": "2024-02-05T01:19:50.183176300Z",
     "start_time": "2024-02-05T01:19:50.171945800Z"
    }
   },
   "outputs": [
    {
     "name": "stdout",
     "output_type": "stream",
     "text": [
      "Python\n",
      "Olá, mundo!\n",
      "/caminho/para/arquivo.txt\n",
      "João disse: 'Olá!'\n",
      "Ela respondeu: \"Como vai?\"\n",
      "0\n",
      "0\n",
      "O\n",
      " \n",
      "!\n"
     ]
    }
   ],
   "source": [
    "# Exemplos de strings\n",
    "nome = \"Python\"\n",
    "mensagem = 'Olá, mundo!'\n",
    "caminho_arquivo = \"/caminho/para/arquivo.txt\"\n",
    "\n",
    "print(nome)          # Saída: Python\n",
    "print(mensagem)      # Saída: Olá, mundo!\n",
    "print(caminho_arquivo)  # Saída: /caminho/para/arquivo.txt\n",
    "\n",
    "# Exemplo de uso correto de aspas para evitar erros de sintaxe\n",
    "mensagem = \"João disse: 'Olá!'\"\n",
    "citação = 'Ela respondeu: \"Como vai?\"'\n",
    "\n",
    "print(mensagem)  # Saída: João disse: 'Olá!'\n",
    "print(citação)   # Saída: Ela respondeu: \"Como vai?\"\n",
    "\n",
    "# Exemplo de string vazia\n",
    "string_vazia = ''\n",
    "outra_string_vazia = \"\"\n",
    "\n",
    "print(len(string_vazia))         # Saída: 0\n",
    "print(len(outra_string_vazia))   # Saída: 0\n",
    "\n",
    "# Exemplo de string como uma lista de caracteres\n",
    "mensagem = \"Olá, mundo!\"\n",
    "\n",
    "print(mensagem[0])     # Saída: O\n",
    "print(mensagem[4])     # Saída: ,\n",
    "print(mensagem[-1])    # Saída: !"
   ]
  },
  {
   "cell_type": "markdown",
   "metadata": {},
   "source": [
    "## `Números`\n",
    "---\n",
    "Os **números** manipulados pelos computadores podem ser de dois tipos:\n",
    "\n",
    "- **`inteiros`**, ou seja, aqueles desprovidos da parte fracionária (`int`)\n",
    "- números de **`ponto flutuante`** (ou simplesmente `float`), que contêm (ou conseguem conter) a parte fracionária."
   ]
  },
  {
   "cell_type": "markdown",
   "metadata": {},
   "source": [
    "### **`Inteiros (int)`**\n",
    "---\n",
    "Os números inteiros são aqueles que não possuem parte fracionária. Em Python, eles são representados pelo tipo de dados **`int`**. Eles podem ser positivos, negativos ou zero.\n",
    "\n",
    "Tomemos, por exemplo, o número onze milhões cento e onze mil cento e onze. Se você pegasse um lápis na mão agora, escreveria o número assim:\n",
    "\n",
    "**11.111.111**, ou até mesmo assim: **11 111 111**.\n",
    "\n",
    "É claro que essa disposição facilita a leitura, especialmente quando o número consiste em muitos dígitos. No entanto, o Python não aceita coisas como essas. Isso o confunde, portanto é proibido."
   ]
  },
  {
   "cell_type": "code",
   "execution_count": 4,
   "metadata": {},
   "outputs": [],
   "source": [
    "# numero_grande = 11 11 111 - Não é um número válido devido aos espaços\n",
    "# numero_grande = 11,111,111 - Não é um número válido devido às vírgulas\n",
    "# numero_grande = 11.111.111 - Não é um número válido devido aos pontos usados incorretamente\n",
    "\n",
    "# O que o Python 3.6+ permite, porém, é o uso de sublinhados em literais numéricos.*\n",
    "\n",
    "# Portanto, você pode escrever este número da seguinte forma: \n",
    "numero_grande = 11111111\n",
    "\n",
    "# ou desta forma:\n",
    "numero_grande = 11_111_111\n",
    "\n",
    "# Para números negativos basta colocar o sinal de menos na frente do literal: -11111111 ou -11_111_111.\n",
    "# Números positivos não carecem de um sinal, mas você pode colocá-lo se quiser: +11111111 ou +11_111_111.\n",
    "\n",
    "# Sobre os pontos...\n",
    "# numero_grande = 11.111.111 - Não é um número válido devido aos pontos usados incorretamente porém\n",
    "\n",
    "# numero_grande = 11111.111 - É um número válido pois o ponto está no lugar correto\n",
    "\n",
    "# numero_grande = 11.111111 - É um número válido pois o ponto está no lugar correto\n",
    "\n",
    "# numero_grande = 111111111. - É um número válido pois o ponto está no lugar correto. Podemos omitir os zeros à direita.\n",
    "\n",
    "# numero_grande = .111111111 - É um número válido pois o ponto está no lugar correto. Podemos omitir os zeros à esquerda."
   ]
  },
  {
   "cell_type": "markdown",
   "metadata": {},
   "source": [
    "### **`Ponto Flutuante (float)`**\n",
    "---\n",
    "Valores **`float`** são números que contêm (ou são capazes de conter) um componente fracionário. Eles são escritos com um ponto decimal como separador entre a parte inteira e a parte fracionária.\n",
    "\n",
    "**Por exemplo**: `2.5` ou `0.4`\n",
    "\n",
    "Como vimos antes, embora se o seu idioma nativo preferir usar vírgula em vez de um ponto no número, você deve garantir que seu número não contenha nenhuma vírgula. O Python não aceitará isso, ou (em casos muito raros, mas possíveis) pode interpretar mal suas intenções, pois a vírgula tem seu próprio significado reservado em Python.\n",
    "\n",
    "Se você quiser usar apenas um valor de dois e meio, escreva-o como mostrado acima. \n",
    "\n",
    "Observe mais uma vez: há um ponto entre 2 e 5, não uma vírgula."
   ]
  },
  {
   "cell_type": "code",
   "execution_count": 3,
   "metadata": {},
   "outputs": [
    {
     "name": "stdout",
     "output_type": "stream",
     "text": [
      "2 5\n",
      "2.5\n"
     ]
    }
   ],
   "source": [
    "# Como vimos antes, podemos criar programas que sejam executados sem erros, mas que não produzam o resultado esperado. Isso acontece quando o programa tem um erro de lógica. Python não pode detectar esse tipo de erro, pois o programa está sintaticamente correto.\n",
    "\n",
    "print(2,5) # A vírgula é usada para separar os argumentos em uma chamada de função. Por isso print(2,5) é uma sentença válida. O Python executará o programa sem erros pois a sintaxe está correta mas o resultado não é o esperado. Em vez de imprimir 2,5 ele imprime 2 5 (Separados por espaço pois é o padrão do separador na função print). \n",
    "\n",
    "print(2.5) # Agora comando com a intenção de imprimir um número decimal foi dado da maneira correta ao Python "
   ]
  },
  {
   "cell_type": "markdown",
   "metadata": {},
   "source": [
    "Como você provavelmente pode imaginar, o valor de zero ponto quatro poderia ser escrito em Python como **`0.4`**, mas não se esqueça desta regra simples - **você pode omitir zero quando for o único dígito antes ou depois da vírgula**.\n",
    "\n",
    "Em essência, você pode escrever o valor **`0.4`** como **`.4`** e o valor de **`4.0`** pode ser escrito como **`4.`**\n",
    "\n",
    "**`4`** é um número inteiro, enquanto **`4.0`** ou **`4.`** é um número de ponto flutuante, desde que haja um ponto decimal no literal.\n",
    "\n",
    "Por outro lado, não são apenas os pontos que fazem um float. Você também pode usar a letra **`e`**.\n",
    "\n",
    "A letra **e (ou E)** é usada para indicar a **potência de dez**. Por exemplo, para evitar escrever tantos zeros, os livros de física usam uma forma abreviada, que você provavelmente já viu: \n",
    "\n",
    "**`3 x 10 ** 8 = 300000000`**\n",
    "\n",
    "O Python permite que você escreva o mesmo valor como **``3e8``**.\n",
    "\n",
    "A letra E (você também pode usar a letra minúscula e - vem da palavra expoente) é um registro conciso da frase vezes dez à potência de.\n",
    "\n",
    "- o expoente (o valor após o E) tem que ser um número inteiro;\n",
    "- a base (o valor na frente do E) pode ser um número inteiro ou um valor flutuante.\n",
    "\n",
    "Vamos ver como essa convenção é usada para registrar números muito pequenos (no sentido de seu valor absoluto, que é próximo de zero).\n",
    "\n",
    "O Python sempre escolhe a forma mais econômica de apresentação do número, e você deve levar isso em consideração ao criar literais."
   ]
  },
  {
   "cell_type": "code",
   "execution_count": 9,
   "metadata": {
    "ExecuteTime": {
     "end_time": "2024-02-05T01:19:50.214182100Z",
     "start_time": "2024-02-05T01:19:50.185173300Z"
    }
   },
   "outputs": [
    {
     "name": "stdout",
     "output_type": "stream",
     "text": [
      "6.62607e-34\n",
      "300000000.0\n",
      "1e-22\n"
     ]
    }
   ],
   "source": [
    "# Uma constante física chamada constante de Planck (e indicada como h), conforme os livros didáticos, tem o valor de: 6,62607 x 10-34. São 34 zeros, oque torna o número cansativo de ser digitado ou lido.\n",
    "# O Python permite que você escreva o mesmo valor como 6.62607e-34.\n",
    "\n",
    "h = 6.62607 * (10**-34) # abreviamos (10**-34) para e-34 \n",
    "print(h)  # Saída: 6.62607e-34\n",
    "\n",
    "# Outros exemplos:\n",
    "print(3e8) # Saída: 300000000.0 - Nesse caso Python escolheu exibir o número em notação decimal, pois é mais fácil de ler.\n",
    "\n",
    "print(0.0000000000000000000001)  # Saída: 1e-22 - Nesse caso Python escolheu exibir o número em notação científica, pois é mais fácil de ler. "
   ]
  },
  {
   "cell_type": "markdown",
   "metadata": {},
   "source": [
    "## `Booleans`\n",
    "---\n",
    "Essas literais não são tão óbvias quanto as anteriores, pois são usadas para representar um valor muito abstrato - a veracidade. O nome vem do matemático George Boole, o primeiro a definir um sistema de álgebra booleana, a base da lógica moderna e da computação que usa apenas dois valores: verdadeiro e falso denotados como 1 e 0, respectivamente.\n",
    "\n",
    "Cada vez que você pergunta ao Python se um número é maior que outro, a pergunta resulta na criação de alguns dados específicos - um valor booleano. Você nunca receberá uma resposta como: ***\"não sei\"*** ou ***\"Provavelmente, sim, mas não tenho certeza\"***.\n",
    "\n",
    "O Python sempre responderá com um dos dois valores: True ou False. Você não pode mudar nada. É necessário aceitar esses símbolos como eles são e é importante notar que a distinção entre maiúsculas e minúsculas é significativa em Python, ou seja, True e False são diferentes de true e false."
   ]
  },
  {
   "cell_type": "markdown",
   "metadata": {},
   "source": [
    "### O Valor Booleano `True`\n",
    "---\n",
    "Em Python, `True` é um valor booleano que representa a verdade ou a confirmação de uma condição. Este valor é utilizado para indicar que uma expressão ou condição é avaliada como verdadeira.\n",
    "\n",
    "1. **Utilização em Expressões Lógicas**:\n",
    "   - `True` é frequentemente usado em expressões lógicas para representar que uma condição é verdadeira. Por exemplo, em uma instrução `if`, `True` indica que o bloco de código associado será executado se a condição for verdadeira.\n",
    "\n",
    "   Exemplo:\n",
    "   ```python\n",
    "   if True:\n",
    "       print(\"Esta condição é verdadeira!\")\n",
    "   ```\n",
    "\n",
    "2. **Retorno de Funções e Métodos**:\n",
    "   - Algumas funções ou métodos em Python podem retornar o valor `True` para indicar que uma operação foi bem-sucedida ou que uma condição foi atendida.\n",
    "\n",
    "   Exemplo:\n",
    "   ```python\n",
    "   def verificar_condicao(numero):\n",
    "       if numero > 0:\n",
    "           return True\n",
    "       else:\n",
    "           return False\n",
    "\n",
    "   resultado = verificar_condicao(10)\n",
    "   print(resultado)  # Saída: True\n",
    "   ```\n",
    "\n",
    "3. **Comparação e Avaliação**:\n",
    "   - `True` é usado para comparar ou avaliar valores em expressões condicionais, loops e outras estruturas de controle de fluxo.\n",
    "\n",
    "   Exemplo:\n",
    "   ```python\n",
    "   condicao = (5 > 2)\n",
    "   print(condicao)  # Saída: True\n",
    "   ```\n",
    "\n",
    "4. **Constante Booleana**:\n",
    "   - Em Python, `True` é uma constante booleana embutida e não pode ser reatribuída a outro valor.\n",
    "\n",
    "   Exemplo:\n",
    "   ```python\n",
    "   True = False  # Isso resultará em um erro de sintaxe, pois True é uma palavra reservada\n",
    "   ```"
   ]
  },
  {
   "cell_type": "markdown",
   "metadata": {},
   "source": [
    "### O Valor Booleano `False`\n",
    "---\n",
    "Em Python, `False` é um valor booleano que representa a falsidade ou a negação de uma condição. Enquanto `True` indica que uma condição é verdadeira, `False` indica que uma condição é falsa ou não é verdadeira.\n",
    "\n",
    "1. **Utilização em Expressões Lógicas**:\n",
    "   - `False` é frequentemente usado em expressões lógicas para representar que uma condição não é verdadeira. Ele é útil em situações onde se deseja controlar o fluxo do programa com base em condições que não são atendidas.\n",
    "\n",
    "   Exemplo:\n",
    "   ```python\n",
    "   if condicao == False:\n",
    "       print(\"A condição não foi atendida.\")\n",
    "   ```\n",
    "\n",
    "2. **Valor Padrão em Alguns Contextos**:\n",
    "   - Em certos contextos, `False` é utilizado como um valor padrão ou de inicialização. Por exemplo, em algumas estruturas de dados, como dicionários ou listas, um valor `False` pode ser usado como padrão para indicar que uma determinada condição não foi verificada ou uma ação não foi realizada.\n",
    "\n",
    "   Exemplo:\n",
    "   ```python\n",
    "   resultados = {\n",
    "       'sucesso': False,\n",
    "       'mensagem': 'A operação falhou.'\n",
    "   }\n",
    "   ```\n",
    "\n",
    "3. **Comparação e Avaliação**:\n",
    "   - `False` é usado para comparar ou avaliar valores em expressões condicionais, loops e outras estruturas de controle de fluxo. Ele pode ser combinado com operadores lógicos, como `and`, `or` e `not`, para criar expressões mais complexas.\n",
    "\n",
    "   Exemplo:\n",
    "   ```python\n",
    "   if not condicao:\n",
    "       print(\"A condição não foi atendida.\")\n",
    "   ```\n",
    "\n",
    "4. **Constante Booleana**:\n",
    "   - `False` é uma constante booleana embutida em Python e não pode ser reatribuída a outro valor. Ele é uma parte fundamental da linguagem Python e é amplamente utilizado em diversas situações.\n",
    "\n",
    "   Exemplo:\n",
    "   ```python\n",
    "   False = True  # Isso resultará em um erro de sintaxe, pois False é uma palavra reservada\n",
    "   ```"
   ]
  },
  {
   "cell_type": "markdown",
   "metadata": {},
   "source": [
    "### O Valor `None`\n",
    "---\n",
    "Em Python, `None` é um valor especial que representa a ausência de um valor significativo. É frequentemente usado para indicar que uma variável não possui um valor atribuído ou que uma função não retornou nenhum resultado.\n",
    "\n",
    "1. **Ausência de Valor Atribuído**:\n",
    "   - O valor `None` é frequentemente utilizado para inicializar variáveis que podem ser atribuídas posteriormente. Quando uma variável é definida como `None`, isso indica que ela ainda não tem um valor atribuído.\n",
    "\n",
    "   Exemplo:\n",
    "   ```python\n",
    "   resultado = None\n",
    "   ```\n",
    "\n",
    "2. **Retorno de Funções e Métodos**:\n",
    "   - `None` é comumente retornado por funções e métodos quando não há um valor significativo para retornar. Isso é útil quando uma função precisa indicar que não houve sucesso ou que uma condição não foi atendida.\n",
    "\n",
    "   Exemplo:\n",
    "   ```python\n",
    "   def buscar_elemento(lista, elemento):\n",
    "       if elemento in lista:\n",
    "           return elemento\n",
    "       else:\n",
    "           return None\n",
    "\n",
    "   resultado = buscar_elemento(lista, elemento)\n",
    "   if resultado is None:\n",
    "       print(\"O elemento não foi encontrado.\")\n",
    "   ```\n",
    "\n",
    "No caso do código fornecido, o `else` poderia ser omitido sem afetar o comportamento da função. Se o elemento não estiver na lista, a função simplesmente não encontrará o elemento e, implicitamente, retornará `None`. \n",
    "\n",
    "Aqui está uma versão simplificada do código sem o bloco `else`:\n",
    "\n",
    "```python\n",
    "def buscar_elemento(lista, elemento):\n",
    "    if elemento in lista:\n",
    "        return elemento\n",
    "    # Se o elemento não for encontrado, None será retornado implicitamente\n",
    "```\n",
    "\n",
    "Esta abordagem é perfeitamente válida em Python e é comumente utilizada para simplificar o código em situações onde a lógica do programa é direta e o retorno de `None` é esperado quando uma condição não é atendida.\n",
    "\n",
    "3. **Verificação de Valor Nulo**:\n",
    "   - O valor `None` pode ser usado para verificar se uma variável ou resultado de uma função possui um valor atribuído. Isso é útil para evitar erros ao lidar com valores nulos.\n",
    "\n",
    "   Exemplo:\n",
    "   ```python\n",
    "   if variavel is None:\n",
    "       print(\"A variável não possui um valor atribuído.\")\n",
    "   ```\n",
    "\n",
    "4. **Parâmetro Padrão em Funções**:\n",
    "   - Em definições de funções, você pode usar `None` como um valor padrão para parâmetros, indicando que o argumento é opcional e pode ser omitido. Isso permite flexibilidade ao chamar a função.\n",
    "\n",
    "   Exemplo:\n",
    "   ```python\n",
    "   def saudacao(nome=None):\n",
    "       if nome is None:\n",
    "           return \"Olá, mundo!\"\n",
    "       else:\n",
    "           return f\"Olá, {nome}!\"\n",
    "\n",
    "   print(saudacao())      # Saída: Olá, mundo!\n",
    "   print(saudacao(\"João\"))# Saída: Olá, João!\n",
    "   ```"
   ]
  },
  {
   "cell_type": "markdown",
   "metadata": {},
   "source": [
    "### Outros tipos de dados\n",
    "---\n",
    "Abordaremos esses valores complexos individualmente posteriormente, mas veja uma breve introdução sobre cada um:\n",
    "\n",
    "1. **Listas (`list`)**: Uma lista é uma coleção ordenada de itens que podem ser de diferentes tipos de dados. Os elementos de uma lista são separados por vírgulas e são colocados entre colchetes `[]`.\n",
    "\n",
    "Exemplo:\n",
    "```python\n",
    "minha_lista = [1, 2, 3, 'quatro', 5.5]\n",
    "```\n",
    "\n",
    "2. **Tuplas (`tuple`)**: Semelhantes às listas, as tuplas também são coleções ordenadas de itens, mas são imutáveis, ou seja, uma vez criadas, não podem ser modificadas. Os elementos de uma tupla são separados por vírgulas e podem ser colocados entre parênteses `()`.\n",
    "\n",
    "Exemplo:\n",
    "```python\n",
    "minha_tupla = (1, 2, 'três', 4.4)\n",
    "```\n",
    "\n",
    "3. **Dicionários (`dict`)**: Um dicionário é uma coleção não ordenada de pares chave-valor. Cada chave em um dicionário é única e associada a um valor. Os pares chave-valor são separados por vírgulas e os pares são colocados entre chaves `{}`.\n",
    "\n",
    "Exemplo:\n",
    "```python\n",
    "meu_dicionario = {'nome': 'João', 'idade': 30,'cidade': 'São Paulo'}\n",
    "```\n",
    "\n",
    "4. **Conjuntos (`set`)**: Um conjunto é uma coleção não ordenada e sem elementos duplicados. Os elementos de um conjunto são colocados entre chaves `{}` e separados por vírgulas.\n",
    "\n",
    "Exemplo:\n",
    "```python\n",
    "meu_conjunto = {1, 2, 3, 4, 5}\n",
    "```\n",
    "Importante destacar a diferença sintática enter dicionários e conjuntos pois ambos utilizam chaves para envolver os vales, porém dicionários exigem um par de chave:valor"
   ]
  }
 ],
 "metadata": {
  "kernelspec": {
   "display_name": "Python 3",
   "language": "python",
   "name": "python3"
  },
  "language_info": {
   "codemirror_mode": {
    "name": "ipython",
    "version": 3
   },
   "file_extension": ".py",
   "mimetype": "text/x-python",
   "name": "python",
   "nbconvert_exporter": "python",
   "pygments_lexer": "ipython3",
   "version": "3.12.1"
  }
 },
 "nbformat": 4,
 "nbformat_minor": 2
}
