{
 "cells": [
  {
   "cell_type": "markdown",
   "metadata": {},
   "source": [
    "# `Operadores`\n",
    "---\n",
    "\n",
    "Ao programar, é comum criar programas que façam perguntas e tomem decisões com base nas respostas recebidas. Essas perguntas são essenciais para controlar o fluxo de execução do programa e adaptar o comportamento do software de acordo com diferentes cenários.\n",
    "\n",
    "No mundo da programação, os computadores respondem de maneira simples: `sim` ou `não`. Eles não têm capacidade de raciocínio complexo ou indecisão. Essa característica simplificada permite que os programadores construam sistemas confiáveis e previsíveis.\n",
    "\n",
    "Os operadores desempenham um papel fundamental nesse processo. Assim como na aritmética, onde o sinal de + realiza adição, na programação, os operadores têm funções específicas para operar com valores e expressões.\n",
    "\n",
    "Vamos explorar alguns dos operadores mais comuns em Python:"
   ]
  },
  {
   "cell_type": "markdown",
   "metadata": {},
   "source": [
    "## `Operadores Aritméticos`\n",
    "---\n",
    "\n",
    "Os operadores aritméticos são essenciais para realizar operações matemáticas em Python. Eles nos permitem realizar cálculos simples ou complexos, desde adição até operações de potenciação e divisão.\n",
    "\n",
    "Vamos explorar os principais operadores aritméticos em Python:\n",
    "\n",
    "- `+` (Adição): Este operador adiciona dois valores.\n",
    "- `-` (Subtração): Subtrai um valor de outro.\n",
    "- `*` (Multiplicação): Multiplica dois valores.\n",
    "- `**` (Potenciação): Eleva um valor à potência de outro.\n",
    "- `/` (Divisão): Divide um valor por outro.\n",
    "- `//` (Divisão inteira): Divide um valor por outro, arredondando o resultado para baixo para o número inteiro mais próximo.\n",
    "- `%` (Módulo): Calcula o resto da divisão de um valor por outro.\n",
    "\n",
    "Esses operadores são fundamentais para realizar uma variedade de cálculos em Python. Vamos ver como eles funcionam em alguns exemplos simples."
   ]
  },
  {
   "cell_type": "markdown",
   "metadata": {},
   "source": [
    "### **`**` Exponenciação**\n",
    "---\n",
    "\n",
    "A operação de exponenciação em Python é representada pelo operador `**`. Ela calcula o valor de um número elevado à potência de outro.\n",
    "\n",
    "Os exemplos mostram uma característica importante dos operadores numéricos em Python:"
   ]
  },
  {
   "cell_type": "code",
   "execution_count": 1,
   "metadata": {},
   "outputs": [
    {
     "name": "stdout",
     "output_type": "stream",
     "text": [
      "8\n",
      "8.0\n",
      "8.0\n",
      "8.0\n"
     ]
    }
   ],
   "source": [
    "# Quando ambos os argumentos são inteiros, o resultado também é um número inteiro. Por exemplo:\n",
    "print(2 ** 3)  # 8\n",
    "\n",
    "# Quando pelo menos um dos argumentos é um float, o resultado será um float. Por exemplo:\n",
    "print(2 ** 3.)  # 8.0 - 3. é float\n",
    "print(2. ** 3)  # 8.0 - 2. é float\n",
    "print(2. ** 3.)  # 8.0 - 2. e 3. são floats"
   ]
  },
  {
   "cell_type": "markdown",
   "metadata": {},
   "source": [
    "### **`*` Multiplicação**\n",
    "---\n",
    "\n",
    "O operador de multiplicação em Python é representado pelo símbolo * (asterisco). Ele é usado para multiplicar dois valores.\n",
    "\n",
    "É importante observar que esse operador também pode ser usado com strings. Quando aplicado a uma string, o operador * repete a string um determinado número de vezes."
   ]
  },
  {
   "cell_type": "code",
   "execution_count": 2,
   "metadata": {},
   "outputs": [
    {
     "name": "stdout",
     "output_type": "stream",
     "text": [
      "15\n",
      "PythonPythonPython\n"
     ]
    }
   ],
   "source": [
    "# Multiplicação de números\n",
    "resultado = 5 * 3 # Com número age como uma multiplicação normal\n",
    "print(resultado)  # Saída: 15\n",
    "\n",
    "# Multiplicação de strings\n",
    "texto = \"Python\"\n",
    "resultado = texto * 3 # Com string age como uma repetição - a string seguinte é ligada a string anterior\n",
    "print(resultado)  # Saída: PythonPythonPython"
   ]
  },
  {
   "cell_type": "markdown",
   "metadata": {},
   "source": [
    "### **`/` Divisão**\n",
    "---\n",
    "\n",
    "O operador de divisão em Python é representado pelo símbolo / (barra). Ele é usado para dividir um valor pelo outro.\n",
    "\n",
    "O valor à esquerda da barra é o dividendo, enquanto o valor à direita é o divisor."
   ]
  },
  {
   "cell_type": "code",
   "execution_count": 3,
   "metadata": {},
   "outputs": [
    {
     "name": "stdout",
     "output_type": "stream",
     "text": [
      "5.0\n",
      "5.0\n"
     ]
    }
   ],
   "source": [
    "# É importante observar que, mesmo se a divisão envolver apenas números inteiros, o resultado será um float.\n",
    "\n",
    "# # Divisão de números inteiros\n",
    "resultado = 10 / 2\n",
    "print(resultado)  # Saída: 5.0\n",
    "\n",
    "# Divisão de números float\n",
    "resultado = 10.0 / 2\n",
    "print(resultado)  # Saída: 5.0"
   ]
  },
  {
   "cell_type": "markdown",
   "metadata": {},
   "source": [
    "O resultado produzido pelo operador de divisão é sempre um float, independentemente de parecer ou não ser um flutuante à primeira vista.\n",
    "\n",
    "Isso é um problema?\n",
    "\n",
    "Sim.\n",
    "\n",
    "Talvez você realmente precise de uma divisão que forneça um valor inteiro (no sentido de tipo de dado), não um valor flutuante.\n",
    "\n",
    "Felizmente, o Python pode ajudá-lo com isso."
   ]
  },
  {
   "cell_type": "markdown",
   "metadata": {},
   "source": [
    "### **`//` Divisão de número inteiro (divisão arredondada)**\n",
    "---\n",
    "O operador de divisão inteira em Python é representado pelo símbolo `//` (barra dupla). Ele é usado quando se deseja obter o quociente inteiro de uma divisão, descartando qualquer parte fracionária, mesmo que seja zero.\n",
    "\n",
    "Este operador difere do operador de divisão padrão `/` em dois aspectos principais:\n",
    "\n",
    "Seu resultado é sempre um número inteiro ou um float com a parte decimal truncada, garantindo que não haja parte fracionária no resultado.\n",
    "Ele segue a regra de divisão de número inteiro vs. float."
   ]
  },
  {
   "cell_type": "code",
   "execution_count": 7,
   "metadata": {},
   "outputs": [
    {
     "name": "stdout",
     "output_type": "stream",
     "text": [
      "5\n",
      "3.3333333333333335\n",
      "3.0\n"
     ]
    }
   ],
   "source": [
    "# Divisão inteira de números inteiros - o resultado é um número inteiro\n",
    "resultado = 10 // 2\n",
    "print(resultado)  # Saída: 5\n",
    "\n",
    "# Observe as duas próximas divisões. A primeira é uma divisão tradicional de dois números float, e a segunda é uma divisão inteira de dois números float\n",
    "\n",
    "# Divisão tradicional de um número float\n",
    "resultado = 10.0 / 3\n",
    "print(resultado)  # Saída: 3.3333333333333335\n",
    "\n",
    "# Divisão inteira de números float\n",
    "resultado = 10.0 // 3\n",
    "print(resultado)  # Saída: 3.0\n",
    "\n",
    "# A saída da divisão inteira é um número float, mesmo que o resultado seja um número inteiro. Isso ocorre porque o operador // sempre retorna um float. Além disso o valor foi arredondado para baixo (truncate) para o número inteiro mais próximo."
   ]
  },
  {
   "cell_type": "markdown",
   "metadata": {},
   "source": [
    "Observe o trecho a seguir:\n",
    "\n",
    "Vejamos a utilização de `/` e de `//` - você poderia prever os resultados?"
   ]
  },
  {
   "cell_type": "code",
   "execution_count": 11,
   "metadata": {},
   "outputs": [
    {
     "name": "stdout",
     "output_type": "stream",
     "text": [
      "1.5\n",
      "1.5\n",
      "1.5\n",
      "1\n",
      "1.0\n",
      "1.0\n"
     ]
    }
   ],
   "source": [
    "# Faremos os dois tipos de divisão com os mesmos valores, mudando apenas os tipos dos números.\n",
    "print(6 / 4)  # 1.5 - divisão normal de inteiros\n",
    "print(6. / 4)  # 1.5 - divisão normal de float com inteiro\n",
    "print(6. / 4.) # 1.5 - divisão normal de floats\n",
    "# O resultado: 4 * 1.5 = 6.0\n",
    "\n",
    "\n",
    "# Agora vejamos a divisão inteira\n",
    "print(6 // 4)  # 1 - divisão inteira de inteiros\n",
    "print(6. // 4)  # 1.0 - divisão inteira de float com inteiro\n",
    "print(6 // 4.)  # 1.0 - divisão inteira de inteiro com float\n",
    "# O resultado: 4 * 1 = 4\n",
    "\n",
    "# O resultado foi arredondado para baixo (truncate) para o número inteiro mais próximo."
   ]
  },
  {
   "cell_type": "markdown",
   "metadata": {},
   "source": [
    "O resultado da divisão do número inteiro é sempre arredondado para o valor inteiro mais próximo que é menor que o resultado real (não arredondado).\n",
    "\n",
    "Isso é muito importante:\n",
    "\n",
    "`o arredondamento sempre vai para o número inteiro menor`\n",
    "\n",
    "Observe o código abaixo e tente prever os resultados mais uma vez:"
   ]
  },
  {
   "cell_type": "code",
   "execution_count": 9,
   "metadata": {},
   "outputs": [
    {
     "name": "stdout",
     "output_type": "stream",
     "text": [
      "-2\n",
      "-2.0\n",
      "-1.5\n",
      "-1.5\n"
     ]
    }
   ],
   "source": [
    "# O resultado real (não arredondado) é -1,5 em ambos os casos. \n",
    "\n",
    "# No entanto, os resultados são sujeitos a arredondamento. O arredondamento vai em direção ao valor inteiro menor, e o valor inteiro menor é -2, portanto: -2 e -2.0.\n",
    "print(-6 // 4)  # -2\n",
    "print(6. // -4)  # -2.0\n",
    "# Pois 4 * -2 = -8 - 6 = -2\n",
    "\n",
    "# Note a diferença em relação à divisão tradicional\n",
    "print(-6 / 4)  # -1.5\n",
    "print(6 / -4)  # -1.5\n",
    "# Pois 4 * -1.5 = -6 + 6 = 0"
   ]
  },
  {
   "cell_type": "markdown",
   "metadata": {},
   "source": [
    "### **`%` Restante (módulo)**\n",
    "--- \n",
    "\n",
    "Sua representação gráfica em Python é o sinal de ***`% (percentual)`***, que pode parecer um pouco confuso. O resultado do operador é o restante após a divisão do número inteiro. Em outras palavras, é o valor que falta após dividir um valor por outro para produzir um quociente inteiro."
   ]
  },
  {
   "cell_type": "code",
   "execution_count": 12,
   "metadata": {},
   "outputs": [
    {
     "name": "stdout",
     "output_type": "stream",
     "text": [
      "2\n"
     ]
    }
   ],
   "source": [
    "# Se dividirmos 14 por 4 normalmente o resultado seria 3,5 - pois 4 * 3,5 = 14\n",
    "# Se quisermos um resultado inteiro, a divisão inteira seria: 4 * 3 = 12 - pois 12 é o maior número inteiro que cabe em 14\n",
    "# Portanto se quisesemos saber o resto da divisão?\n",
    "\n",
    "# Como você pode ver, o resultado é dois. É por isso que:\n",
    "# 14 // 4 dá 3 → este é o quociente inteiro;\n",
    "# 3 * 4 dá 12 → como resultado da multiplicação de quociente e divisor;\n",
    "# 14 - 12 dá 2 → este é o restante.\n",
    "\n",
    "# O operador % é chamado de módulo. Ele retorna o restante da divisão de dois números. Por exemplo:\n",
    "print(14 % 4)  # 2"
   ]
  },
  {
   "cell_type": "markdown",
   "metadata": {},
   "source": [
    "Este exemplo é um pouco mais complicado.\n",
    "\n",
    "Qual é o resultado?"
   ]
  },
  {
   "cell_type": "code",
   "execution_count": 13,
   "metadata": {},
   "outputs": [
    {
     "name": "stdout",
     "output_type": "stream",
     "text": [
      "3.0\n",
      "2.0\n"
     ]
    }
   ],
   "source": [
    "print(12 % 4.5)\n",
    "print(12 // 4.5) # O quocienete é 2. [2 * 4.5 = 9] [12 - 9 = 3]\n",
    "\n",
    "# 3.0 – não 3 mas 3.0\n",
    "\n",
    "# A regra ainda funciona: 12 dividido por 4,5 dá 2,6666666666666665.\n",
    "\n",
    "# O quociente é 2.\n",
    "# O produto de 2 e 4,5 é 9.\n",
    "# O restante é 12 - 9 = 3,0\n",
    "# O resultado é um float porque um dos operandos é um float."
   ]
  },
  {
   "cell_type": "markdown",
   "metadata": {},
   "source": [
    "### ``Como não dividir``\n",
    "---\n",
    "Como você provavelmente sabe, a divisão por zero não funciona.\n",
    "\n",
    "Não tente:\n",
    "- realizar uma divisão por zero;\n",
    "- realizar uma divisão inteira por zero;\n",
    "- encontrar o resto de uma divisão por zero\n"
   ]
  },
  {
   "cell_type": "markdown",
   "metadata": {},
   "source": [
    "### **`+` Adição**\n",
    "---\n",
    "\n",
    "O operador de adição, representado pelo símbolo `+` (mais), segue os padrões matemáticos convencionais quando utilizado com valores do tipo int ou float.\n",
    "\n",
    "Além disso, o operador `+` também pode ser utilizado com strings como operador de concatenação, que une os caracteres. Por exemplo:"
   ]
  },
  {
   "cell_type": "code",
   "execution_count": 14,
   "metadata": {},
   "outputs": [
    {
     "name": "stdout",
     "output_type": "stream",
     "text": [
      "5\n",
      "Olá mundo\n",
      "10\n",
      "5\n"
     ]
    }
   ],
   "source": [
    "# Neste caso, a adição de 2 e 3 resulta em 5, como esperado.\n",
    "print(2 + 3)  # Saída: 5\n",
    "\n",
    "# Aqui, o operador `+` concatena os valores das variáveis `texto1` e `texto2`, juntando as strings \"Olá\" e \"mundo\" com um espaço entre elas.\n",
    "texto1 = \"Olá\"\n",
    "texto2 = \"mundo\"\n",
    "print(texto1 + \" \" + texto2)  # Saída: Olá mundo\n",
    "\n",
    "# O operador `+` não pode ser usado para adicionar um número a uma string. O código abaixo resultará em um erro:\n",
    "# print(\"Olá \" + 5)  # Erro\n",
    "# Mas podemos usar variáveis para fazer isso e usa-las em uma expressão\n",
    "\n",
    "numero = 5\n",
    "print(5 + numero)  # Saída: 10\n",
    "\n",
    "# O operador de + pode ser usado de forma unária para converter um número em um número positivo. Mas isso não é muito útil, pois sabemos que ao omitir o sinal de um número ele é positivo.\n",
    "print(+5)"
   ]
  },
  {
   "cell_type": "markdown",
   "metadata": {},
   "source": [
    "### **`-` Subtração**\n",
    "---\n",
    "O operador de subtração, representado pelo sinal `-` (menos), é utilizado para subtrair um valor de outro. No entanto, vale ressaltar que esse operador também pode ser empregado para alterar o sinal de um número, o que o torna um operador unário em vez de binário.\n",
    "\n",
    "Em operações de subtração, o operador `-` espera dois argumentos: o minuendo (o valor da esquerda) e o subtraendo (o valor da direita).\n",
    "\n",
    "Por exemplo:\n",
    "\n",
    "```python\n",
    "resultado = 10 - 5\n",
    "print(resultado)  # Saída: 5\n",
    "```\n",
    "\n",
    "Neste caso, 10 é o minuendo e 5 é o subtraendo, e o resultado da operação é 5.\n",
    "\n",
    "Além disso, o operador `-` pode ser utilizado de forma unária para alterar o sinal de um número. Por exemplo:\n",
    "\n",
    "```python\n",
    "numero = 5\n",
    "resultado_negativo = -numero\n",
    "print(resultado_negativo)  # Saída: -5\n",
    "```\n",
    "\n",
    "Neste exemplo, o operador `-` é aplicado ao número 5, resultando em -5, o que indica um valor negativo.\n",
    "\n",
    "Portanto, o operador de subtração pode funcionar tanto como um operador binário, subtraindo um valor de outro, quanto como um operador unário, alterando o sinal de um número."
   ]
  },
  {
   "cell_type": "code",
   "execution_count": 14,
   "metadata": {},
   "outputs": [
    {
     "name": "stdout",
     "output_type": "stream",
     "text": [
      "-8\n",
      "-4.0\n",
      "-1.1\n"
     ]
    }
   ],
   "source": [
    "print(-4 - 4)   # -8 - operador binário: subtração\n",
    "print(4. - 8)  # -4.0 - operador binário: subtração\n",
    "print(-1.1)   # -1.1 - operador unário: altera o sinal do operando"
   ]
  },
  {
   "cell_type": "markdown",
   "metadata": {},
   "source": [
    "### `Ordem de precedência`\n",
    "---\n",
    "\n",
    "O Python segue uma hierarquia de prioridades para determinar a ordem de execução das operações quando há mais de um operador na mesma expressão. Essa hierarquia garante que os operadores de maior prioridade sejam executados primeiro, seguidos pelos de menor prioridade.\n",
    "\n",
    "Aqui está a hierarquia de prioridades dos operadores em Python, da mais alta para a mais baixa:\n",
    "\n",
    "- Operadores unários: `+` (positivo) e `-` (negativo)\n",
    "- Operadores de multiplicação, divisão e resto da divisão: `*`, `/`, `//` e `%`\n",
    "- Operadores de adição e subtração: `+` e `-`\n",
    "\n",
    "Vale ressaltar que o uso de parênteses pode ser utilizado para alterar a ordem de execução das operações."
   ]
  },
  {
   "cell_type": "markdown",
   "metadata": {},
   "source": [
    "### `Operadores e suas ligações`\n",
    "---\n",
    "A ligação dos operadores em uma expressão determina a ordem em que as computações são realizadas quando há operadores com igual prioridade colocados lado a lado. Na maioria dos casos, os operadores em Python têm ligação do lado esquerdo, o que significa que a expressão é avaliada da esquerda para a direita.\n",
    "\n",
    "Por exemplo, considere a expressão `9 % 6 % 2`. Há duas maneiras possíveis de avaliar essa expressão:\n",
    "\n",
    "1. Da esquerda para a direita: primeiro, `9 % 6` dá `3`, e então `3 % 2` dá `1`.\n",
    "2. Da direita para a esquerda: primeiro, `6 % 2` dá `0` e depois `9 % 0` causaria um erro fatal.\n",
    "\n",
    "O resultado correto é `1`, indicando que o operador de módulo (`%`) possui ligação do lado esquerdo.\n",
    "\n",
    "Entretanto, há uma exceção interessante quando se trata do operador de exponenciação (`**`). Este operador possui ligação do lado direito. Por exemplo, na expressão `2 ** 2 ** 3`, existem dois resultados possíveis:\n",
    "\n",
    "1. `2 ** 2` resulta em `4`, e então `4 ** 3` resulta em `64`.\n",
    "2. `2 ** 3` resulta em `8`, e então `2 ** 8` resulta em `256`.\n",
    "\n",
    "O resultado esperado é `256`, indicando que o operador de exponenciação usa a associação do lado direito.\n",
    "\n",
    "Observação: operadores unários localizados ao lado direito do operador de potência se vinculam mais fortemente. Por exemplo, `-3 ** 2` resulta em `-9`, pois o operador unário `-` é aplicado depois do operador de potência. Por outro lado, `(-3) ** 2` resulta em `9`, pois o operador unário `-` é aplicado antes do operador de potência, devido ao uso dos parênteses para alterar a prioridade."
   ]
  },
  {
   "cell_type": "code",
   "execution_count": 16,
   "metadata": {},
   "outputs": [],
   "source": [
    "# Para ser mais preciso:\n",
    "\n",
    "# -3 ** 2 é intermpretado como -(3 ** 2) = -9\n",
    "# Isto é o mesmo que 3 ** 2 = 9, Assim, a operação entre os parenteses é realizada primeiro e então o sinal negativo é aplicado ao resultado.\n",
    "\n",
    "# (-3) ** 2 é interpretado como (-3) * (-3) = 9\n",
    "# Neste caso, o sinal negativo é aplicado ao 3 antes de ele ser elevado ao quadrado. Na multiplicação, dois números negativos resultam em um número positivo.\n",
    "\n",
    "# (-3) ** 3 é o mesmo que  ((-3) * (-3)) * (-3) = -27\n",
    "#                                9       * (-3) = -27\n",
    "\n",
    "# Nesse caso temos um positivo e um negativo. Na multiplicação de um positivo por um negativo o resultado é um negativo\n",
    "\n",
    "# Seguimos a regra matemática: Sinais iguais resultam em um número positivo, sinais diferentes resultam em um número negativo."
   ]
  },
  {
   "cell_type": "markdown",
   "metadata": {},
   "source": [
    "### `Operador de parênteses`\n",
    "---\n",
    "Os parênteses em uma expressão matemática em Python, assim como em muitas outras linguagens de programação, têm um papel fundamental na determinação da ordem de avaliação das operações. Eles são usados para agrupar partes da expressão e indicar ao interpretador Python a ordem em que as operações devem ser realizadas.\n",
    "\n",
    "Por exemplo, na expressão:\n",
    "\n",
    "```python\n",
    "print((5 * ((25 % 13) + 100) / (2 * 13)) // 2)\n",
    "```\n",
    "\n",
    "Os parênteses são usados para definir claramente a ordem das operações. Sem eles, a expressão seria avaliada de maneira diferente, seguindo as regras padrão de precedência de operadores.\n",
    "\n",
    "Os parênteses mais externos `( ... )` são utilizados para envolver toda a expressão, indicando que o resultado final deve ser submetido à operação de divisão de inteiros `// 2`.\n",
    "\n",
    "Os parênteses internos `(25 % 13)` são usados para calcular o resto da divisão de `25` por `13`. Isso garante que essa operação seja realizada antes da adição com `100`.\n",
    "\n",
    "Em resumo, os parênteses são essenciais para garantir a correta ordem de avaliação das operações em uma expressão, especialmente quando há múltiplos operadores e é necessário evitar ambiguidades ou garantir um comportamento específico."
   ]
  },
  {
   "cell_type": "code",
   "execution_count": 18,
   "metadata": {},
   "outputs": [
    {
     "name": "stdout",
     "output_type": "stream",
     "text": [
      "10.0\n",
      "10.0\n",
      "31.0\n",
      "1820.0\n",
      "329.0\n",
      "333.0\n"
     ]
    }
   ],
   "source": [
    "# Veja o impacto da precedência dos operadores:\n",
    "\n",
    "# Esta é a operação original:\n",
    "print((5 * ((25 % 13) + 100) / (2 * 13)) // 2)\n",
    "\n",
    "# Nesse exemplo não houve mudança, pois a precedência dos operadores foi mantida.\n",
    "\n",
    "# Aqui removemos os parênteses em torno de 5 * ((25 % 13) + 100) / (2 * 13)\n",
    "print(5 * ((25 % 13) + 100) / (2 * 13) // 2)\n",
    "\n",
    "# As demais operações tiveram impacto no resultado devido a mudança na precedência dos operadores.\n",
    "\n",
    "# Aqui removemos os parênteses em torno de 2 * 13:\n",
    "print((5 * (25 % 13) + 100 / (2 * 13)) // 2)\n",
    "# Aqui removemos os parênteses em torno de 100 / (2 * 13):\n",
    "print((5 * ((25 % 13) + 100) / 2 * 13) // 2)\n",
    "# Aqui removemos os parênteses em torno de 5 * (25 % 13):\n",
    "print((5 * 25 % 13 + 100 / 2 * 13) // 2)\n",
    "# Aqui removemos os parênteses em torno de 100 / 2 * 13:\n",
    "print(5 * 25 % 13 + 100 / 2 * 13 // 2)\n",
    "\n",
    "# Veja os resultados de cada operação:"
   ]
  },
  {
   "cell_type": "markdown",
   "metadata": {},
   "source": [
    "## ``Operadores de comparação``\n",
    "---\n",
    "\n",
    "- `==` : Verifica se dois valores são iguais.\n",
    "- `!=` : Verifica se dois valores são diferentes.\n",
    "- `>` : Verifica se o valor à esquerda é maior que o valor à direita.\n",
    "- `<` : Verifica se o valor à esquerda é menor que o valor à direita.\n",
    "- `>=` : Verifica se o valor à esquerda é maior ou igual ao valor à direita.\n",
    "- `<=` : Verifica se o valor à esquerda é menor ou igual ao valor à direita.\n",
    "\n",
    "Esses operadores são essenciais para comparar valores e tomar decisões com base nessas comparações. Eles ajudam a controlar o fluxo de execução do programa, permitindo que você escreva lógica condicional para lidar com diferentes situações.\n",
    "\n",
    "Vamos ver esses operadores em ação em alguns exemplos simples."
   ]
  },
  {
   "cell_type": "markdown",
   "metadata": {},
   "source": [
    "### **`Operador Relacional de Igualdade (==)`**\n",
    "---\n",
    "\n",
    "O operador relacional de igualdade `(==)` é um operador binário com ligação do lado esquerdo. Ele necessita de dois argumentos e verifica se são iguais.\n",
    "\n",
    "O operador `(==)` compara os valores de dois operandos. Se eles forem iguais, o resultado da comparação é `True`. Caso contrário, se não forem iguais, o resultado da comparação é `False`."
   ]
  },
  {
   "cell_type": "code",
   "execution_count": 29,
   "metadata": {},
   "outputs": [
    {
     "name": "stdout",
     "output_type": "stream",
     "text": [
      "True\n",
      "True\n",
      "False\n",
      "True\n"
     ]
    }
   ],
   "source": [
    "# Se a comparação for feita entre um número inteiro e um número float, o Python considera os valores iguais se forem iguais numericamente, mesmo que sejam de tipos diferentes.\n",
    "\n",
    "print(2 == 2) # Saída: True\n",
    "print(2.0 == 2) # Saída: True\n",
    "\n",
    "# Se a comparação for feita entre um número inteiro e uma string, o Python considera os valores diferentes, mesmo que sejam numericamente iguais.\n",
    "\n",
    "print(2 == '2') # Saída: False\n",
    "\n",
    "# Podemos comparar variáveis também. Assim seus valores são comparados.\n",
    "valor_esquerdo = 2\n",
    "valor_direito = 2\n",
    "print(valor_esquerdo == valor_direito)"
   ]
  },
  {
   "cell_type": "markdown",
   "metadata": {},
   "source": [
    "Podemos usar comparações para verificar se uma string é igual ou diferente de outra string.\n",
    "\n",
    "Para verificar se uma string é igual a outra, utilizamos o operador de igualdade (==).\n",
    "\n",
    "Se a string da esquerda for igual à string da direita o resultado é True. Se não, o resultado e False."
   ]
  },
  {
   "cell_type": "code",
   "execution_count": 23,
   "metadata": {},
   "outputs": [
    {
     "name": "stdout",
     "output_type": "stream",
     "text": [
      "True\n",
      "False\n"
     ]
    }
   ],
   "source": [
    "# A comparação é case-sensitive, ou seja, o Python diferencia letras maiúsculas de minúsculas.\n",
    "\n",
    "print('online' == 'online')  # True\n",
    "print('online' == 'ONLINE')  # False - Pois as letras maiúsculas e minúsculas são diferentes."
   ]
  },
  {
   "cell_type": "markdown",
   "metadata": {},
   "source": [
    "### **`Operador relacional de desigualdade (!=)`**\n",
    "---\n",
    "\n",
    "O operador \"!=\" (não é igual a ou diferente de) também compara os valores de dois operandos.\n",
    "\n",
    "Aqui está a diferença: se eles são iguais, o resultado da comparação é `False`. Se eles não forem iguais, o resultado da comparação é `True`."
   ]
  },
  {
   "cell_type": "code",
   "execution_count": 31,
   "metadata": {},
   "outputs": [
    {
     "name": "stdout",
     "output_type": "stream",
     "text": [
      "False\n"
     ]
    }
   ],
   "source": [
    "# Em outras palavras, queremos saber se os valores são diferentes. Se forem, a expressão é verdadeira. Se forem iguais, a expressão é falsa.\n",
    "print(valor_esquerdo != valor_direito)"
   ]
  },
  {
   "cell_type": "markdown",
   "metadata": {},
   "source": [
    "Para verificar se uma string não é igual (ou diferente) de outra, utilizamos o operador de desigualdade (!=)\n",
    "Se a string da esquerda for diferente da string da direita, o resultado é True. Se não, o resultado é False."
   ]
  },
  {
   "cell_type": "code",
   "execution_count": 25,
   "metadata": {},
   "outputs": [
    {
     "name": "stdout",
     "output_type": "stream",
     "text": [
      "True\n",
      "False\n",
      "True\n"
     ]
    }
   ],
   "source": [
    "print('online' != 'offline')  # True\n",
    "print('online' != 'online')  # False\n",
    "print('online' != 'ONLINE')  # True"
   ]
  },
  {
   "cell_type": "markdown",
   "metadata": {},
   "source": [
    "Também podemos comparar variáveis que armazenam strings entre sí."
   ]
  },
  {
   "cell_type": "code",
   "execution_count": 26,
   "metadata": {},
   "outputs": [
    {
     "name": "stdout",
     "output_type": "stream",
     "text": [
      "False\n",
      "True\n"
     ]
    }
   ],
   "source": [
    "fruta_1 = 'Maçã'\n",
    "fruta_2 = 'Laranja'\n",
    "\n",
    "print(fruta_1 == fruta_2)  # False\n",
    "print(fruta_1 != fruta_2)  # True"
   ]
  },
  {
   "cell_type": "markdown",
   "metadata": {},
   "source": [
    "### **`Comparando números - Operadores de comparação`**\n",
    "---\n",
    "\n",
    "Podemos usar comparações para verificar se um número é menor ou maior que outro número.\n",
    "\n",
    "Para isso utilizamos os operadores < (menor que) e > (maior que) que retornam True ou False."
   ]
  },
  {
   "cell_type": "code",
   "execution_count": 32,
   "metadata": {},
   "outputs": [
    {
     "name": "stdout",
     "output_type": "stream",
     "text": [
      "True\n",
      "False\n",
      "False\n",
      "True\n"
     ]
    }
   ],
   "source": [
    "# Pergunta: x é menor que y?\n",
    "print(1 < 10)  # Se o número da esquerda for menor que o da direita, o resultado será True.\n",
    "print(10 < 1)  # Se o número da esquerda não for menor que o da direita, o resultado será False.\n",
    "\n",
    "# Pergunta: x é maior que y?\n",
    "print(1 > 10)  # Se o número da esquerda não for maior que o da direita, o resultado será False.\n",
    "print(10 > 1)  # Se o número da esquerda for maior que o da direita, o resultado será True."
   ]
  },
  {
   "cell_type": "markdown",
   "metadata": {},
   "source": [
    "Note essa situação:\n",
    "\n",
    "Caso os números sejam iguais retornará False em todos os casos!"
   ]
  },
  {
   "cell_type": "code",
   "execution_count": 33,
   "metadata": {},
   "outputs": [
    {
     "name": "stdout",
     "output_type": "stream",
     "text": [
      "False\n",
      "False\n"
     ]
    }
   ],
   "source": [
    "print(1 > 1) # False\n",
    "print(1 < 1) # False\n",
    "\n",
    "# Como ressolvemos isso?"
   ]
  },
  {
   "cell_type": "markdown",
   "metadata": {},
   "source": [
    "### **`Verificando a igualdade`**\n",
    "---\n",
    "\n",
    "Para verificar se um número é maior ou igual ou se é menor ou igual a outro, usamos os operadores <= ou >=\n",
    "\n",
    "Agora verificamos duas possibilidades, se o número é maior ou igual ou se é menor ou igual a outro."
   ]
  },
  {
   "cell_type": "code",
   "execution_count": 34,
   "metadata": {},
   "outputs": [
    {
     "name": "stdout",
     "output_type": "stream",
     "text": [
      "True\n",
      "True\n"
     ]
    }
   ],
   "source": [
    "print(1 >= 1) # True\n",
    "print(1 <= 1) # True"
   ]
  },
  {
   "cell_type": "markdown",
   "metadata": {},
   "source": [
    "Assim como podemos comparar variáveis umas com as outras.\n",
    "\n",
    "Podemos armazenar o resultado das comparações em variáveis."
   ]
  },
  {
   "cell_type": "code",
   "execution_count": 35,
   "metadata": {},
   "outputs": [
    {
     "name": "stdout",
     "output_type": "stream",
     "text": [
      "True\n"
     ]
    }
   ],
   "source": [
    "menor_valor = 1\n",
    "maior_valor = 11\n",
    "\n",
    "resultado = menor_valor <= maior_valor\n",
    "\n",
    "print(resultado) # Saída: True\n",
    "\n",
    "# O resultado de uma comparação é sempre um valor booleano, ou seja, True ou False. Salvar o resultado de uma comparação em uma variável nos premite usá-lo posteriormente."
   ]
  },
  {
   "cell_type": "markdown",
   "metadata": {},
   "source": [
    "## **`Operadores Lógicos`**\n",
    "---\n",
    "Os operadores lógicos são utilizados para realizar operações de lógica booleana em Python. Eles permitem combinar expressões booleanas e tomar decisões com base nessas combinações. Os principais operadores lógicos em Python são:\n",
    "\n",
    "- `and`: Retorna True se ambas as expressões forem True.\n",
    "- `or`: Retorna True se pelo menos uma das expressões for True.\n",
    "- `not`: Retorna True se a expressão for False e vice-versa.\n",
    "\n",
    "Esses operadores são essenciais para construir condições complexas em Python, permitindo que você controle o fluxo do seu programa com base em diferentes cenários lógicos. Vamos ver como eles funcionam em alguns exemplos práticos."
   ]
  },
  {
   "cell_type": "markdown",
   "metadata": {},
   "source": [
    "## `Conjunção (AND)`\n",
    "---\n",
    "Em Python, `and` é um operador de conjunção lógica usado para combinar duas expressões booleanas. Ele retorna True se ambas as expressões forem verdadeiras e False caso contrário.\n",
    "\n",
    "A prioridade do operador and é menor que a dos operadores de comparação, o que significa que as expressões que envolvem and serão avaliadas depois de quaisquer expressões que envolvam operadores de comparação.\n",
    "\n",
    "Ela nos permite codificar condições complexas.\n",
    "\n",
    "Vejamos como os programas atuam em decisões complexas. Sabemos como executar ou pular código como base em uma condição. Mas e se quiséssemos verificar duas ou mais condições?\n",
    "\n",
    "O operador and nos permite executar código somente se ambas as condições forem True. Ele ignora o bloco de código se uma ou mais condições forem False.\n",
    "\n",
    "O resultado fornecido pelo operador and pode ser determinado com base na tabela verdade.\n",
    "\n",
    "`TRUE + TRUE = TRUE`\n",
    "\n",
    "`TRUE + FALSE = FALSE`\n",
    "\n",
    "`FALSE + TRUE = FALSE`\n",
    "\n",
    "`FALSE + FALSE = FALSE`"
   ]
  },
  {
   "cell_type": "code",
   "execution_count": 13,
   "metadata": {},
   "outputs": [
    {
     "name": "stdout",
     "output_type": "stream",
     "text": [
      "Vou ficar em casa.\n"
     ]
    }
   ],
   "source": [
    "# Se tivermos tempo livre, e se o tempo estiver bom, vamos dar uma volta.\n",
    "\n",
    "# Usamos a conjunção and, o que significa que sair para passear depende do cumprimento simultâneo dessas duas condições.\n",
    "\n",
    "tempo_livre = True\n",
    "tempo_bom = False\n",
    "\n",
    "if tempo_livre and tempo_bom:\n",
    "    print('Vou sair para passear!') # Se ambos os valores forem True, a expressão será True.\n",
    "else:\n",
    "    print('Vou ficar em casa.') # Se um dos valores for False, a expressão será False."
   ]
  },
  {
   "cell_type": "markdown",
   "metadata": {},
   "source": [
    "## `Disjunção (OR)`\n",
    "---\n",
    "Em Python, `or` é um operador de disjunção lógica usado para combinar duas expressões booleanas. Ele retorna `True` se pelo menos uma das expressões for verdadeira e `False` apenas se ambas as expressões forem falsas.\n",
    "\n",
    "Assim como o and, a prioridade do operador or é menor que a dos operadores de comparação, mas maior que a do and. Isso significa que as expressões que envolvem or serão avaliadas depois das expressões que envolvem and, mas antes das expressões que envolvem operadores de comparação.\n",
    "\n",
    "Para executar o código quando uma das condições for True, usamos o operador or (ou). Com ele, o código só será ignorado se todas as condições forem False.\n",
    "\n",
    "`TRUE + TRUE = TRUE`\n",
    "\n",
    "`TRUE + FALSE = TRUE`\n",
    "\n",
    "`FALSE + TRUE = TRUE`\n",
    "\n",
    "`FALSE + FALSE = FALSE`"
   ]
  },
  {
   "cell_type": "code",
   "execution_count": 37,
   "metadata": {},
   "outputs": [
    {
     "name": "stdout",
     "output_type": "stream",
     "text": [
      "Vou comprar frutas.\n"
     ]
    }
   ],
   "source": [
    "# Se você for ao supermercado ou feira, compre frutas.\n",
    "\n",
    "# A aparência da palavra or significa que a compra depende de pelo menos uma dessas condições.\n",
    "\n",
    "supermercado = True\n",
    "feira = False\n",
    "\n",
    "if supermercado or feira:\n",
    "    print('Vou comprar frutas.') # Se um dos valores for True, a expressão será True.\n",
    "else:\n",
    "    print('Só passei na farmácia.') # Se ambos os valores forem False, a expressão será False."
   ]
  },
  {
   "cell_type": "markdown",
   "metadata": {},
   "source": [
    "## `not`\n",
    "---\n",
    "O operador `not` é um operador lógico em Python que realiza a negação de uma expressão booleana. Ele inverte o valor da expressão, ou seja, se a expressão for True, o operador `not` a tornará False, e vice-versa.\n",
    "\n",
    "Aqui está como o operador `not` funciona:\n",
    "\n",
    "- Se a expressão é True, `not` a torna False.\n",
    "- Se a expressão é False, `not` a torna True.\n",
    "\n",
    "Podemos usá-lo para negar uma única expressão booleana ou como parte de expressões lógicas mais complexas para criar condições condicionais. Por exemplo, podemos usar `not` para verificar se algo não é verdadeiro.\n",
    "\n",
    "Vejamos um exemplo simples:\n",
    "\n",
    "```python\n",
    "x = 5\n",
    "print(not x > 10)  # Isso imprimirá True, pois a expressão x > 10 é False, e not inverte isso para True\n",
    "```\n",
    "\n",
    "O operador `not` é útil quando precisamos verificar se uma condição não é atendida em uma instrução condicional. Ele complementa o operador `and`, `or` e outras operações lógicas, permitindo-nos criar lógicas mais sofisticadas em nossos programas."
   ]
  },
  {
   "cell_type": "markdown",
   "metadata": {},
   "source": [
    "\n",
    "Aqui está a ordem de precedência dos operadores lógicos em Python, da maior para a menor prioridade:\n",
    "\n",
    "`not: Operador de negação lógica.`\n",
    "\n",
    "`and: Operador de conjunção lógica.`\n",
    "\n",
    "`or: Operador de disjunção lógica.`\n",
    "\n",
    "Isso significa que o operador not tem a maior prioridade, seguido pelo and e depois pelo or. Quando você tem expressões lógicas misturadas em uma mesma linha de código, o Python avaliará primeiro as expressões dentro de parênteses, seguido da negação (not), em seguida a conjunção (and) e, por último, a disjunção (or), se necessário."
   ]
  },
  {
   "cell_type": "code",
   "execution_count": 45,
   "metadata": {},
   "outputs": [
    {
     "name": "stdout",
     "output_type": "stream",
     "text": [
      "True\n"
     ]
    }
   ],
   "source": [
    "resultado = not 5 > 3 and 10 < 5 or 7 == 7\n",
    "# Primeiro, a negação é aplicada ao valor 5 > 3, que é True. O resultado é False.\n",
    "# Em seguida, a conjunção and é aplicada a False e 10 < 5, que é False. O resultado é False.\n",
    "# Por fim, a disjunção or é aplicada a False e 7 == 7, que é True. O resultado é True.\n",
    "print(resultado)"
   ]
  },
  {
   "cell_type": "markdown",
   "metadata": {},
   "source": [
    "## **`Bases numéricas`**\n",
    "---\n",
    "### `Octais`\n",
    "Números octais são representações numéricas que utilizam a base 8. No Python, podemos representar números octais prefixando o valor com `0o` ou `0O` (zero-o).\n",
    "\n",
    "Por exemplo, se um inteiro for precedido por `0o` ou `0O`, como em `0o123`, ele será interpretado como um número octal. Isso significa que os dígitos permitidos são apenas aqueles do intervalo de 0 a 7.\n",
    "\n",
    "O número `0o123` é um exemplo de número octal, onde o valor decimal correspondente é 83. Quando utilizamos a função `print()`, o Python realiza a conversão automaticamente, exibindo o valor decimal associado.\n",
    "\n",
    "Essa capacidade de representar números octais é útil em várias situações, especialmente em contextos onde a manipulação de bits e operações binárias são comuns, como em programação de baixo nível e em aplicações que envolvem hardware.\n",
    "\n",
    "Vejamos um exemplo de uso de números octais em Python:\n",
    "\n",
    "```python\n",
    "# Representando um número octal\n",
    "numero_octal = 0o123\n",
    "\n",
    "# Exibindo o valor decimal correspondente\n",
    "print(numero_octal)  # Saída: 83\n",
    "```\n",
    "\n",
    "Dessa forma, podemos utilizar números octais em nossos programas Python quando necessário, aproveitando suas propriedades e aplicações específicas."
   ]
  },
  {
   "cell_type": "code",
   "execution_count": 27,
   "metadata": {},
   "outputs": [
    {
     "name": "stdout",
     "output_type": "stream",
     "text": [
      "83\n",
      "83\n"
     ]
    }
   ],
   "source": [
    "numero_octal = 0o123  # Este número é interpretado como octal\n",
    "\n",
    "print(numero_octal)\n",
    "# Saída: 83 (pois 1*8^2 + 2*8^1 + 3*8^0 = 83)\n",
    "#                  1*64  + 2*8   + 3*1   = 83\n",
    "\n",
    "print(int('0123', 8))  # 8 é a base do número octal (0123)"
   ]
  },
  {
   "cell_type": "markdown",
   "metadata": {},
   "source": [
    "## `Hexadecimais`\n",
    "---\n",
    "Hexadecimais são números que utilizam a base 16. No Python, podemos representar números hexadecimais prefixando o valor com `0x` ou `0X` (zero-x).\n",
    "\n",
    "Por exemplo, se um número for precedido por `0x` ou `0X`, como em `0x123`, ele será interpretado como um número hexadecimal. Isso significa que os dígitos permitidos são de 0 a 9, além das letras de A a F (ou a, b, c, d, e, f), que representam os valores de 10 a 15, respectivamente.\n",
    "\n",
    "O número `0x123` é um exemplo de número hexadecimal, onde o valor decimal correspondente é 291. Assim como com números octais, a função `print()` também pode lidar com números hexadecimais e realizar a conversão automaticamente.\n",
    "\n",
    "Essa capacidade de representar números hexadecimais é especialmente útil em contextos relacionados à computação, como programação de baixo nível, manipulação de dados binários e comunicação com dispositivos de hardware.\n",
    "\n",
    "Aqui está um exemplo de como podemos usar números hexadecimais em Python:\n",
    "\n",
    "```python\n",
    "# Representando um número hexadecimal\n",
    "numero_hexadecimal = 0x123\n",
    "\n",
    "# Exibindo o valor decimal correspondente\n",
    "print(numero_hexadecimal)  # Saída: 291\n",
    "```\n",
    "\n",
    "Dessa forma, podemos utilizar números hexadecimais em nossos programas Python quando necessário, aproveitando suas propriedades e aplicações específicas."
   ]
  },
  {
   "cell_type": "code",
   "execution_count": 21,
   "metadata": {},
   "outputs": [
    {
     "name": "stdout",
     "output_type": "stream",
     "text": [
      "291\n",
      "291\n"
     ]
    }
   ],
   "source": [
    "numero_hexadecimal = 0x123\n",
    "print(numero_hexadecimal)\n",
    "# Saída: 291 (pois 1*16^2 + 2*16^1 + 3*16^0 = 291)\n",
    "#                   1*256 + 2*16 + 3*1 = 291\n",
    "\n",
    "# Podemos converter um número hexadecimal em decimal usando a função int() e especificando a base do número hexadecimal (16) como segundo argumento:\n",
    "print(int('0x' + '123', 16))  # 16 é a base do número hexadecimal (0x123)\n",
    "\n"
   ]
  },
  {
   "cell_type": "markdown",
   "metadata": {},
   "source": [
    "Assim utilizaremos a função format() para converter um número decimal em octal ou hexadecimal.\n",
    "\n",
    "Basta especificar a base como segundo argumento da função format(). 'o' para octal e 'x' para hexadecimal."
   ]
  },
  {
   "cell_type": "code",
   "execution_count": 14,
   "metadata": {},
   "outputs": [
    {
     "name": "stdout",
     "output_type": "stream",
     "text": [
      "123\n",
      "53\n",
      "1010011\n",
      "83 b\n"
     ]
    }
   ],
   "source": [
    "print(format(83, 'o'))\n",
    "print(format(83, 'x'))\n",
    "print(format(83, 'b'))"
   ]
  },
  {
   "cell_type": "markdown",
   "metadata": {},
   "source": [
    "## `Binários`\n",
    "---\n",
    "Números binários são fundamentais para a computação moderna, pois são a base para representar todos os tipos de dados dentro de um computador. No sistema binário, os números são representados utilizando apenas dois dígitos: 0 e 1. Esses dígitos podem ser interpretados como \"desligado\" e \"ligado\", respectivamente.\n",
    "\n",
    "Os computadores funcionam com eletricidade, que pode estar em dois estados: ligada ou desligada. Portanto, o sistema binário é uma escolha natural para representar dados, pois corresponde diretamente aos estados físicos dos componentes eletrônicos dentro de um computador.\n",
    "\n",
    "Para indicar que um número está sendo representado no sistema binário, é comum usar um prefixo `0b`. Isso diferencia os números binários de outros sistemas numéricos, como decimal, octal ou hexadecimal.\n",
    "\n",
    "Por exemplo, o número binário `0b1010` pode ser lido como \"um-zero-um-zero\" em binário e representa o valor decimal 10.\n",
    "\n",
    "Aqui está um exemplo de como podemos usar números binários em Python:\n",
    "\n",
    "```python\n",
    "# Representando um número binário\n",
    "numero_binario = 0b1010\n",
    "\n",
    "# Exibindo o valor decimal correspondente\n",
    "print(numero_binario)  # Saída: 10\n",
    "```\n",
    "\n",
    "Essa capacidade de representar números binários é essencial para muitos aspectos da programação e da computação em geral, especialmente em áreas como programação de baixo nível, manipulação de dados binários e comunicação com dispositivos de hardware."
   ]
  },
  {
   "cell_type": "code",
   "execution_count": 24,
   "metadata": {},
   "outputs": [
    {
     "name": "stdout",
     "output_type": "stream",
     "text": [
      "83\n"
     ]
    }
   ],
   "source": [
    "print(0b1010011)\n",
    "# Saída: 83 (pois 1*2^6 + 0*2^5 + 1*2^4 + 0*2^3 + 0*2^2 + 1*2^1 + 1*2^0 = 83)\n",
    "#                 1*64  + 0*32  + 1*16  + 0*8   + 0*4   + 1*2   + 1*1   = 83"
   ]
  },
  {
   "cell_type": "markdown",
   "metadata": {},
   "source": [
    "Bits são as unidades fundamentais de informação em sistemas digitais. Cada bit pode representar um único valor lógico, que geralmente é interpretado como 0 (False) ou 1 (True). Os computadores usam bits para armazenar e manipular dados, e todas as informações dentro de um computador são representadas em termos de bits.\n",
    "\n",
    "Um grupo de 4 bits é conhecido como nibble. Um nibble pode representar até 16 valores diferentes, pois cada bit pode estar em um de dois estados (0 ou 1), resultando em 2 ** 4 = 16 combinações possíveis.\n",
    "\n",
    "Os valores em um nibble podem ser representados de várias maneiras, mas uma forma comum é usar a notação hexadecimal. Cada dígito hexadecimal representa precisamente 4 bits. Por exemplo, o valor hexadecimal 0xA pode ser interpretado como 1010 em binário.\n",
    "\n",
    "Um grupo de 8 bits é chamado de byte. Um byte pode representar até 256 valores diferentes, pois cada bit pode estar em um de dois estados, resultando em 2 ** 8 = 256 combinações possíveis.\n",
    "\n",
    "Um byte é frequentemente usado para armazenar um caractere. Por exemplo, o caractere 'A' pode ser representado em binário como 01000001. Cada caractere em um texto é representado por um byte correspondente de acordo com um esquema de codificação específico, como ASCII ou Unicode.\n",
    "\n",
    "Esses conceitos de bits, nibbles e bytes são fundamentais para entender como a informação é armazenada e processada em sistemas de computação. Eles são a base para uma variedade de operações e estruturas de dados em programação e ciência da computação."
   ]
  },
  {
   "cell_type": "code",
   "execution_count": 49,
   "metadata": {},
   "outputs": [
    {
     "name": "stdout",
     "output_type": "stream",
     "text": [
      "Isso é um bit 0\n",
      "Isso é um nibble 0000\n",
      "Isso é um byte 00000000\n"
     ]
    }
   ],
   "source": [
    "# Um bit é a menor unidade de armazenamento de dados em um computador. Um bit pode ser 0 ou 1, o que corresponde a desligado ou ligado, respectivamente.\n",
    "print('Isso é um bit', '0')\n",
    "\n",
    "# Um nibble é um grupo de 4 bits. Um nibble pode representar 16 valores diferentes (2^4), variando de 0 a 15.\n",
    "print('Isso é um nibble', '0000')\n",
    "\n",
    "# Um byte é um grupo de 8 bits. Um byte pode representar 256 valores diferentes (2^8), variando de 0 a 255.\n",
    "print('Isso é um byte', '00000000')"
   ]
  },
  {
   "cell_type": "code",
   "execution_count": 2,
   "metadata": {},
   "outputs": [
    {
     "name": "stdout",
     "output_type": "stream",
     "text": [
      "0b1\n",
      "0o1\n",
      "0x1\n",
      "1\n",
      "1010011\n",
      "123\n",
      "53\n",
      "83\n"
     ]
    }
   ],
   "source": [
    "# Formas de converter os valores:\n",
    "numero = 83\n",
    "\n",
    "# Usando funções built-in específicas para essa finalidade:\n",
    "print(bin(numero))  # 0b1010011\n",
    "print(oct(numero))  # 0o123\n",
    "print(hex(numero))  # 0x53\n",
    "\n",
    "# Com notação de dois pontos em uma string formatada:\n",
    "print(f'{numero:b}')  # 1010011\n",
    "\n",
    "numero = 83\n",
    "# Usando a função format(numero, 'base'):\n",
    "print(format(numero, 'b'))  # 1010011\n",
    "print(format(numero, 'o'))  # 123\n",
    "print(format(numero, 'x'))  # 53\n",
    "\n",
    "# Com a função int(string, base):\n",
    "print(int('1010011', 2))  # 83\n"
   ]
  },
  {
   "cell_type": "markdown",
   "metadata": {},
   "source": [
    "### **`ASCII`**\n",
    "---\n",
    "\n",
    "Cada caractere é representado por um número inteiro, e vice-versa. O Python usa o código ASCII para isso. Você pode ver a tabela ASCII aqui: https://pt.wikipedia.org/wiki/ASCII\n",
    "\n",
    "Por exemplo, o caractere 'A' é representado pelo número 65 (01000001 em binário), 'B' pelo 66, etc.\n",
    "\n",
    "O Python tem uma função chamada ord() que retorna o código ASCII de um caractere:"
   ]
  },
  {
   "cell_type": "code",
   "execution_count": 54,
   "metadata": {},
   "outputs": [
    {
     "data": {
      "text/plain": [
       "84"
      ]
     },
     "execution_count": 54,
     "metadata": {},
     "output_type": "execute_result"
    }
   ],
   "source": [
    "ord('T') # retorna o valor Unicode do caractere 'T' que é 84"
   ]
  },
  {
   "cell_type": "markdown",
   "metadata": {},
   "source": [
    "\n",
    "O contrário também é possível. Podemos converter um número para seu equivalente em caractere usando a função chr():"
   ]
  },
  {
   "cell_type": "code",
   "execution_count": 56,
   "metadata": {},
   "outputs": [
    {
     "data": {
      "text/plain": [
       "'T'"
      ]
     },
     "execution_count": 56,
     "metadata": {},
     "output_type": "execute_result"
    }
   ],
   "source": [
    "chr(84) # retorna o caractere correspondente ao valor Unicode 84 que é 'T'\n",
    "\n",
    "# Tabela de números e letras em ASCII\n",
    "\n",
    "# 48-57: 0-9\n",
    "# 65-90: A-Z\n",
    "# 97-122: a-z"
   ]
  },
  {
   "cell_type": "markdown",
   "metadata": {},
   "source": [
    "Ou exibir seu correspondente binário com a função bin():\n",
    "\n",
    "bin() é uma função embutida que converte um número inteiro em sua representação binária. O resultado é uma string prefixada com 0b. \n",
    "\n",
    "Para remover o prefixo, você pode usar a função format() para converter o número em uma string e especificar o formato binário:"
   ]
  },
  {
   "cell_type": "code",
   "execution_count": 55,
   "metadata": {},
   "outputs": [
    {
     "name": "stdout",
     "output_type": "stream",
     "text": [
      "0b1010100\n",
      "1010100\n"
     ]
    }
   ],
   "source": [
    "print(bin(84)) # retorna a representação binária do número 84 que é 1010100\n",
    "\n",
    "print(format(84, 'b')) # retorna a representação binária do número sem o prefixo 0b"
   ]
  },
  {
   "cell_type": "markdown",
   "metadata": {},
   "source": [
    "### **`Valores lógicos vs. bits individuais`**\n",
    "---\n",
    "Os operadores lógicos avaliam seus argumentos como um todo, sem considerar quantos bits eles contêm. Esses operadores reconhecem apenas o valor: zero (quando todos os bits estão redefinidos) representa False; diferente de zero (quando pelo menos um bit está definido) representa True.\n",
    "\n",
    "O resultado das operações é sempre um desses valores: False ou True. Isso implica que o seguinte trecho de código atribuirá o valor True à variável 'j' se 'i' não for zero; caso contrário, atribuirá False."
   ]
  },
  {
   "cell_type": "code",
   "execution_count": 56,
   "metadata": {},
   "outputs": [
    {
     "name": "stdout",
     "output_type": "stream",
     "text": [
      "True\n"
     ]
    }
   ],
   "source": [
    "i = 1\n",
    "j = not not i  # 'not not' é uma forma de converter qualquer valor em um valor booleano. 'not i' inverte o valor de 'i' (True vira False), e o segundo 'not' inverte o resultado da primeira operação 'not' (False vira True).\n",
    "print(j)  # True"
   ]
  },
  {
   "cell_type": "markdown",
   "metadata": {},
   "source": [
    "### **`Operadores bit a bit`**\n",
    "---\n",
    "\n",
    "No entanto, existem quatro operadores que permitem manipular **bits únicos** de dados. Eles são chamados de **operadores bit a bit**.\n",
    "\n",
    "Esses operadores abrangem todas as operações que mencionamos anteriormente no contexto lógico e um operador adicional. Este é o operador **xor** (ou exclusivo), indicado como ^ (circunflexo).\n",
    "\n",
    "Aqui estão todos eles:\n",
    "\n",
    "- ( & - **e comercial** ) - **conjunção bit a bit**; o operador & requer exatamente dois bits 1 para fornecer 1 como resultado;\n",
    "\n",
    "- ( | - **barra** ) - **disjunção bit a bit**; o operador | requer pelo menos um bit 1 para fornecer 1 como resultado;\n",
    "\n",
    "- ( ^ - **circunflexo** ) - operador **bit a bit exclusivo ou (xor)**; o operador ^ requer exatamente um bit 1 para fornecer 1 como resultado;\n",
    "\n",
    "- ( ~ - **til** ) - **negação bit a bit**;\n",
    "\n",
    "**Observação:** Os argumentos desses operadores devem ser números inteiros; não devemos usar carros alegóricos aqui.\n",
    "\n",
    "A diferença na operação dos operadores lógicos e de bit é importante: os operadores lógicos não penetram no nível de bit de seu argumento. Eles estão interessados apenas no valor inteiro final.\n",
    "\n",
    "Os operadores de bit a bit são mais rigorosos: eles lidam com cada bit separadamente. Se assumirmos que a variável inteira ocupa 64 bits (o que é comum em sistemas de computadores modernos), você pode imaginar a operação bit a bit como uma avaliação de 64 vezes do operador lógico para cada par de bits dos argumentos. Essa analogia é obviamente imperfeita, pois no mundo real todas essas 64 operações são realizadas ao mesmo tempo (simultaneamente)."
   ]
  },
  {
   "cell_type": "markdown",
   "metadata": {},
   "source": [
    "### **`Operações bit a bit (& , | , e ^ ) - conjunção bit a bit, disjunção bit a bit e bit a bit exclusivo ou (xor)`**\n",
    "---\n",
    "\n",
    "As operações bit a bit são operações fundamentais em computação que manipulam os bits individuais de um número. Elas incluem a **conjunção bit a bit** (representada por **&**), a **disjunção bit a bit** (representada por **|**), e o **bit a bit exclusivo ou (xor)** (representado por **^**). Vamos dar uma olhada em como essas operações funcionam usando uma tabela de verdade:\n",
    "\n",
    "| A | B | A & B | A \\| B | A ^ B |\n",
    "|---|---|-------|--------|-------|\n",
    "| 0 | 0 |   0   |   0    |   0   |\n",
    "| 0 | 1 |   0   |   1    |   1   |\n",
    "| 1 | 0 |   0   |   1    |   1   |\n",
    "| 1 | 1 |   1   |   1    |   0   |\n",
    "\n",
    "Na operação de **conjunção bit a bit (&)**, um bit resultante é **1** somente se os bits correspondentes em ambos os operandos forem **1**.\n",
    "\n",
    "Na operação de **disjunção bit a bit (|)**, um bit resultante é **1** se pelo menos um dos bits correspondentes em ambos os operandos for **1**.\n",
    "\n",
    "Na operação de **bit a bit exclusivo ou (xor) (^)**, um bit resultante é **1** se os bits correspondentes em ambos os operandos forem diferentes.\n",
    "\n",
    "### Operação bit a bit de negação (~)\n",
    "\n",
    "A operação de negação bit a bit, representada por **~**, inverte cada bit em um número. Ou seja, transforma cada **0** em **1** e cada **1** em **0**. Veja a tabela abaixo:\n",
    "\n",
    "| A | ~A |\n",
    "|---|----|\n",
    "| 0 |  1 |\n",
    "| 1 |  0 |\n",
    "\n",
    "Esta operação é útil para inverter o valor de todos os bits de um número."
   ]
  },
  {
   "cell_type": "markdown",
   "metadata": {},
   "source": [
    "### **`Operações lógicas x operações de bit`**\n",
    "---\n",
    "Se assumirmos que os números inteiros são armazenados com 32 bits, a imagem bit a bit das duas variáveis será a seguinte:"
   ]
  },
  {
   "cell_type": "code",
   "execution_count": 29,
   "metadata": {},
   "outputs": [],
   "source": [
    "i = 15 # i = 00000000 00000000 00000000 00001111\n",
    "j = 22 # j = 00000000 00000000 00000000 00010110"
   ]
  },
  {
   "cell_type": "code",
   "execution_count": 72,
   "metadata": {},
   "outputs": [
    {
     "name": "stdout",
     "output_type": "stream",
     "text": [
      "22\n"
     ]
    }
   ],
   "source": [
    "# A tarefa é dada: \n",
    "log = i and j # Dado que i é 15 e j é 22, a expressão log = i and j irá resultar no valor de j (22) porque ambos i e j são considerados verdadeiros em contextos booleanos em Python.\n",
    "\n",
    "print(log) # Em Python, o operador and retorna o último valor verdadeiro se todos os valores forem verdadeiros. Neste caso, tanto i quanto j são considerados verdadeiros quando usados em contextos booleanos."
   ]
  },
  {
   "cell_type": "code",
   "execution_count": 74,
   "metadata": {},
   "outputs": [
    {
     "name": "stdout",
     "output_type": "stream",
     "text": [
      "6\n"
     ]
    }
   ],
   "source": [
    "# Agora, a operação bit a bit - aqui está:\n",
    "\n",
    "i = 15       # 00000000 00000000 00000000 00001111\n",
    "j = 22       # 00000000 00000000 00000000 00010110\n",
    "#             ------------------------------------\n",
    "bit = i & j  # 00000000 00000000 00000000 00000110\n",
    "\n",
    "#              1     1     0    \n",
    "# Resultado é 2^2 + 2^1 + 2^0\n",
    "#              4  +  2  +  0 \n",
    "\n",
    "print(bit) # O resultado é 6."
   ]
  },
  {
   "cell_type": "markdown",
   "metadata": {},
   "source": [
    "O operador **&** operará com cada par de bits correspondentes separadamente, produzindo os valores dos bits relevantes do resultado. Portanto, o resultado será o seguinte:\n",
    "\n",
    "**&** requer exatamente dois **1** s para fornecer **1** como resultado;\n",
    "\n",
    "```\n",
    "i: 00001111\n",
    "j: 00010110\n",
    "------------------\n",
    "   00000010\n",
    "```\n",
    "\n",
    "Esses bits correspondem ao valor inteiro de **dois**."
   ]
  },
  {
   "cell_type": "markdown",
   "metadata": {},
   "source": [
    "Vejamos os operadores de negação agora. Primeiro a lógica:"
   ]
  },
  {
   "cell_type": "code",
   "execution_count": 43,
   "metadata": {},
   "outputs": [
    {
     "name": "stdout",
     "output_type": "stream",
     "text": [
      "False\n"
     ]
    }
   ],
   "source": [
    "i = 15\n",
    "logneg = not i # A variável logneg será definida como False - nada mais precisa ser feito.\n",
    "print(logneg)\n"
   ]
  },
  {
   "cell_type": "markdown",
   "metadata": {},
   "source": [
    "A negação bit a bit é assim:"
   ]
  },
  {
   "cell_type": "code",
   "execution_count": 44,
   "metadata": {},
   "outputs": [
    {
     "name": "stdout",
     "output_type": "stream",
     "text": [
      "-16\n"
     ]
    }
   ],
   "source": [
    "bitneg = ~i # A variável bitneg será definida como -16.\n",
    "# i    00000000 00000000 00000000 00001111\n",
    "# ~i   11111111 11111111 11111111 11110000\n",
    "\n",
    "# 11111111 11111111 11111111 11110000\n",
    "# representa o número -16 em complemento de dois.\n",
    "\n",
    "# 00000000 00000000 00000000 00001111\n",
    "# representa o número 15.\n",
    "\n",
    "# 00000000 00000000 00000000 00010000\n",
    "# representa o número 16.\n",
    "\n",
    "print(bitneg)"
   ]
  },
  {
   "cell_type": "markdown",
   "metadata": {},
   "source": [
    "Pode ser um pouco surpreendente:\n",
    "\n",
    "o valor da variável bitneg é -16. \n",
    "\n",
    "Isso pode parecer estranho, mas não é. O valor inteiro -16 é representado em binário como\n",
    "\n",
    "**`11111111111111111111111111110000`**\n",
    "\n",
    "A negação bit a bit de bitneg = ~i\n",
    "\n",
    "**`00000000000000000000000000001111`**\n",
    "**`11111111111111111111111111110000`**"
   ]
  },
  {
   "cell_type": "markdown",
   "metadata": {},
   "source": [
    "### **`Operadores de atribuição combinada`**\n",
    "---\n",
    "\n",
    "Cada um desses operadores de dois argumentos pode ser usado de forma abreviada. Estes são os exemplos de notações equivalentes:\n",
    "\n",
    "- `x &= y` é equivalente a `x = x & y`: atualiza o valor de **x** para ser o resultado da operação bit a bit **AND** entre **x** e **y**.\n",
    "  \n",
    "- `x |= y` é equivalente a `x = x | y`: atualiza o valor de **x** para ser o resultado da operação bit a bit **OR** entre **x** e **y**.\n",
    "  \n",
    "- `x ^= y` é equivalente a `x = x ^ y`: atualiza o valor de **x** para ser o resultado da operação bit a bit **XOR** entre **x** e **y**.\n",
    "\n",
    "Essas notações abreviadas são úteis para tornar o código mais eficiente e legível.\n",
    "\n",
    "### Tabela de Operadores Bit a Bit\n",
    "\n",
    "| A | B | A & B | A \\| B | A ^ B |\n",
    "|---|---|-------|--------|-------|\n",
    "| 0 | 0 |   0   |   0    |   0   |\n",
    "| 0 | 1 |   0   |   1    |   1   |\n",
    "| 1 | 0 |   0   |   1    |   1   |\n",
    "| 1 | 1 |   1   |   1    |   0   |\n",
    "\n"
   ]
  },
  {
   "cell_type": "markdown",
   "metadata": {},
   "source": [
    "### **`Como lidamos com bits únicos?`**\n",
    "---\n",
    "Vamos mostrar para que você pode usar operadores bit a bit. Imagine que você é um desenvolvedor obrigado a escrever uma parte importante de um sistema operacional. Você foi informado de que pode usar uma variável atribuída da seguinte maneira:"
   ]
  },
  {
   "cell_type": "code",
   "execution_count": 78,
   "metadata": {},
   "outputs": [
    {
     "name": "stdout",
     "output_type": "stream",
     "text": [
      "0b1001000110100\n"
     ]
    }
   ],
   "source": [
    "flag_register = 0x1234\n",
    "print(bin(flag_register))"
   ]
  },
  {
   "cell_type": "markdown",
   "metadata": {},
   "source": [
    "A variável armazena as informações sobre vários aspectos da operação do sistema. Cada bit da variável armazena um valor sim/não. Você também foi informado de que apenas um desses bits é seu - o terceiro (lembre-se de que os bits são numerados de zero, e o número de bits zero é o mais baixo, enquanto o mais alto é o número 31). Os bits restantes não têm permissão para alterar, porque pretendem armazenar outros dados. Aqui está o seu bit marcado com a letra x: \n",
    "\n",
    "flag_register = 0000000000000000000000000000x000"
   ]
  },
  {
   "cell_type": "markdown",
   "metadata": {},
   "source": [
    "Você pode se deparar com as seguintes tarefas:\n",
    "\n",
    "1. Verifique o estado do seu bit - você quer descobrir o valor do seu bit; comparar a variável inteira com zero não fará nada, porque os bits restantes podem ter valores completamente imprevisíveis, mas você pode usar a seguinte propriedade de conjunção:\n",
    "\n",
    "x & 1 = x\n",
    "\n",
    "x & 0 = 0\n",
    "\n",
    "Se você aplicar a operação & à variável flag_register junto com a seguinte imagem de bit:\n",
    "\n",
    "00000000000000000000000000001000\n",
    "\n",
    "(observe o 1 na posição do bit), como resultado, você obtém uma das seguintes cadeias de bits:\n",
    "\n",
    "00000000000000000000000000001000 se o bit foi definido como 1\n",
    "\n",
    "00000000000000000000000000000000 se o bit foi redefinido para 0\n",
    "\n",
    "Essa sequência de zeros e uns, cuja tarefa é capturar o valor ou alterar os bits selecionados, é chamada de máscara de bit.\n",
    "\n",
    "Vamos construir uma máscara de bit para detectar o estado do bit. Deve apontar para o terceiro bit. Esse bit tem o peso de 23 = 8. Uma máscara adequada pode ser criada pela seguinte declaração:"
   ]
  },
  {
   "cell_type": "code",
   "execution_count": 79,
   "metadata": {},
   "outputs": [
    {
     "name": "stdout",
     "output_type": "stream",
     "text": [
      "Bit 3 está desligado\n"
     ]
    }
   ],
   "source": [
    "the_mask = 8\n",
    "\n",
    "# Você também pode fazer uma sequência de instruções, dependendo do estado do seu bit. Aqui está:\n",
    "if flag_register & the_mask:\n",
    "    print(\"Bit 3 está ligado\")\n",
    "else:\n",
    "    print(\"Bit 3 está desligado\")"
   ]
  },
  {
   "cell_type": "markdown",
   "metadata": {},
   "source": [
    "2. Redefinir seu bit - você atribui um zero ao bit enquanto todos os outros bits devem permanecer inalterados; vamos usar a mesma propriedade da conjunção como antes, mas vamos usar uma máscara ligeiramente diferente, exatamente como abaixo:\n",
    "\n",
    "11111111111111111111111111110111\n",
    "\n",
    "Observe que a máscara foi criada como resultado da negação de todos os bits da variável the_mask. Redefinir o bit é simples, e fica assim (escolha o que você mais gosta):"
   ]
  },
  {
   "cell_type": "code",
   "execution_count": 49,
   "metadata": {},
   "outputs": [],
   "source": [
    "flag_register = flag_register & ~the_mask\n",
    "flag_register &= ~the_mask"
   ]
  },
  {
   "cell_type": "markdown",
   "metadata": {},
   "source": [
    "3. Defina seu bit - você atribui um 1 ao bit, enquanto todos os bits restantes devem permanecer inalterados; use a seguinte propriedade de disjunção:\n",
    "\n",
    "x | 1 = 1\n",
    "\n",
    "x | 0 = x\n",
    "\n",
    "Você está pronto para definir o seu bit com uma das seguintes instruções:"
   ]
  },
  {
   "cell_type": "code",
   "execution_count": 50,
   "metadata": {},
   "outputs": [],
   "source": [
    "flag_register = flag_register | the_mask\n",
    "flag_register |= the_mask"
   ]
  },
  {
   "cell_type": "markdown",
   "metadata": {},
   "source": [
    "4. Negue sua parte - você substitui um 1 por um 0 e um 0 por um 1. Você pode usar uma propriedade interessante do operador xor:\n",
    "\n",
    "x ^ 1 = ~x\n",
    "\n",
    "x ^ 0 = x\n",
    "\n",
    "e negue sua parte com as seguintes instruções:"
   ]
  },
  {
   "cell_type": "code",
   "execution_count": 51,
   "metadata": {},
   "outputs": [],
   "source": [
    "flag_register = flag_register ^ the_mask\n",
    "flag_register ^= the_mask"
   ]
  },
  {
   "cell_type": "markdown",
   "metadata": {},
   "source": [
    "### **`Deslocamento binário para a esquerda e deslocamento binário para a direita`**\n",
    "\n",
    "O Python oferece ainda outra operação relacionada a bits únicos: deslocamento. Isso é aplicado apenas a valores inteiros, e você não deve usar carros alegóricos como argumentos para ele.\n",
    "\n",
    "Você já aplica essa operação com muita frequência e inconsciência. Como você multiplica um número por dez? Dê uma olhada:\n",
    "\n",
    "12345 * 10 = 123450\n",
    "\n",
    "Como você pode ver, multiplicar por dez é, na verdade, um deslocamento de todos os dígitos para a esquerda e preencher a lacuna resultante com zero.\n",
    "\n",
    "Divisão por dez? Dê uma olhada:\n",
    "12340 / 10 = 1234\n",
    "\n",
    "Dividir por dez nada mais é do que mudar os dígitos para a direita.\n",
    "\n",
    "O mesmo tipo de operação é realizado pelo computador, mas com uma diferença: como dois é a base para números binários (não 10), deslocar um valor um bit para a esquerda corresponde à multiplicação por dois; respectivamente, mudar um bit para a direita é como dividir por dois (observe que o bit mais à direita está perdido).\n",
    "\n",
    "Os operadores de deslocamento em Python são um par de dígrafos: << e >>, sugerindo claramente em qual direção o deslocamento vai agir.\n",
    "\n",
    "valor << bits\n",
    "\n",
    "valor >> bits\n",
    "\n",
    "O argumento à esquerda desses operadores é um valor inteiro cujos bits são deslocados. O argumento certo determina o tamanho do turno. Ela mostra que essa operação certamente não é comutativa."
   ]
  },
  {
   "cell_type": "code",
   "execution_count": 52,
   "metadata": {},
   "outputs": [
    {
     "name": "stdout",
     "output_type": "stream",
     "text": [
      "17 68 8\n"
     ]
    }
   ],
   "source": [
    "var = 17\n",
    "# 00000000000000000000000000010001 - 17\n",
    "var_right = var >> 1\n",
    "# 00000000000000000000000000001000 - 8\n",
    "var_left = var << 2\n",
    "# 00000000000000000000000001000100 - 68\n",
    "print(var, var_left, var_right)\n",
    "# 17 68 8"
   ]
  },
  {
   "cell_type": "markdown",
   "metadata": {},
   "source": [
    "17 >> 1 → 17 // 2 (17 piso dividido por 2 à potência de 1) → 8 (deslocar para a direita por um bit é igual a divisão inteira por dois)\n",
    "\n",
    "17 << 2 → 17 * 4 (17 multiplicado por 2 à potência de 2) → 68 (deslocar para a esquerda por dois bits é igual a multiplicação do número inteiro por quatro)"
   ]
  }
 ],
 "metadata": {
  "kernelspec": {
   "display_name": "Python 3",
   "language": "python",
   "name": "python3"
  },
  "language_info": {
   "codemirror_mode": {
    "name": "ipython",
    "version": 3
   },
   "file_extension": ".py",
   "mimetype": "text/x-python",
   "name": "python",
   "nbconvert_exporter": "python",
   "pygments_lexer": "ipython3",
   "version": "3.12.1"
  }
 },
 "nbformat": 4,
 "nbformat_minor": 2
}
