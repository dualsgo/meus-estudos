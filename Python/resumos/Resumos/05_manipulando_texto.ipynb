{
 "cells": [
  {
   "cell_type": "markdown",
   "metadata": {},
   "source": [
    "# **`Manipulando Textos`**\n",
    "---\n",
    "\n",
    "Uma cadeia de caracteres, conhecida como string, representa um texto delimitado por aspas simples ou duplas.\n",
    "\n",
    "Quando uma palavra ou frase é atribuída a uma variável, a frase é dividida em espaços na memória e cada espaço recebe um índice que identifica sua posição, começando em zero. Os caracteres da frase, incluindo os espaços entre as palavras, ocupam essas posições. Esse comportamento é semelhante ao de uma lista; uma string é, de fato, uma lista de caracteres."
   ]
  },
  {
   "cell_type": "code",
   "execution_count": 41,
   "metadata": {},
   "outputs": [],
   "source": [
    "# Armazenamos a frase em uma variável. Assim podemos realizar operações com ela.\n",
    "\n",
    "frase = 'Curso em Vídeo Python'\n",
    "#        012345678901234567890"
   ]
  },
  {
   "cell_type": "markdown",
   "metadata": {},
   "source": [
    "## `Fatiamento de Strings`\n",
    "---\n",
    "\n",
    "Podemos realizar operações com strings.\n",
    "\n",
    "Tecnicamente, uma string é uma lista de caracteres. Sendo assim, podemos acessar os seus índices da mesma forma que faríamos com uma lista. \n",
    "\n",
    "Por exemplo, se tivermos a string `frase = 'Curso em Vídeo Python'`, podemos acessar caracteres individuais ou fatias da string usando índices.\n",
    "\n",
    "Por exemplo, `frase[0]` nos dá o caractere `'C'`, `frase[6]` nos dá `'m'`, e `frase[9:14]` nos dá `'Vídeo'`.\n",
    "\n",
    "Esta é uma das maneiras pelas quais podemos manipular strings em Python."
   ]
  },
  {
   "cell_type": "code",
   "execution_count": 43,
   "metadata": {},
   "outputs": [
    {
     "name": "stdout",
     "output_type": "stream",
     "text": [
      "C\n"
     ]
    }
   ],
   "source": [
    "frase = 'Curso em Vídeo Python'\n",
    "\n",
    "primeiro_caractere = frase[0] # Estamos atribuindo à variável o primeiro caractere da string.\n",
    "\n",
    "print(primeiro_caractere)\n",
    "\n",
    "# Os índices iniciam em 0 e terminam em n-1, onde n é o tamanho da string."
   ]
  },
  {
   "cell_type": "markdown",
   "metadata": {},
   "source": [
    "## `len(lista)`\n",
    "---\n",
    "O método `len(lista)` retorna o comprimento da cadeia de caracteres, ou seja, o número total de caracteres na string. Sua sintaxe é simples: `len()` seguido dos parênteses de abertura e fechamento, dentro dos quais colocamos a variável que queremos analisar.\n",
    "\n",
    "O método `len(lista)` é útil para determinar o tamanho de uma string, fornecendo o número total de caracteres contidos nela. Isso é útil em muitos contextos, como ao iterar sobre os caracteres de uma string, verificar se uma string atende a determinados requisitos de comprimento ou simplesmente para exibir informações sobre a string para o usuário."
   ]
  },
  {
   "cell_type": "code",
   "execution_count": 46,
   "metadata": {},
   "outputs": [
    {
     "name": "stdout",
     "output_type": "stream",
     "text": [
      "21\n"
     ]
    }
   ],
   "source": [
    "frase = 'Curso em Vídeo Python'\n",
    "\n",
    "# A frase \"Curso em Vídeo Python\" tem 21 caracteres incluindo os espaços.\n",
    "tamanho_frase = len(frase)\n",
    "\n",
    "print(tamanho_frase)\n",
    "\n",
    "# CURSO EM VÍDEO PYTHON\n",
    "# 012345678901234567890\n",
    "\n",
    "# Não se esqueça: o último índice é 20, pois começa do 0 e termina em n-1.\n",
    "# Podemos afirmar que o último índice é o tamanho da frase - 1"
   ]
  },
  {
   "cell_type": "markdown",
   "metadata": {},
   "source": [
    "## `.count('valor')`\n",
    "---\n",
    "O método `.count('valor')` é utilizado para contar quantas vezes um determinado valor ocorre dentro de uma string. Ele retorna o número de ocorrências desse valor na string. \n",
    "\n",
    "A sintaxe do método `.count('valor')` é bastante simples e direta. Para usá-lo, primeiro você precisa ter uma string, por exemplo, atribuída a uma variável chamada frase. Em seguida, você chama o método .count() na variável `frase`, passando como argumento o valor que deseja contar entre parênteses.\n",
    "\n",
    "Isso pode ser útil em diversas situações, como na contagem de letras em uma palavra ou na verificação da frequência de determinados caracteres em um texto. O método `.count('valor')` mostra a quantidade de ocorrências de um valor informado entre as aspas."
   ]
  },
  {
   "cell_type": "code",
   "execution_count": 50,
   "metadata": {},
   "outputs": [
    {
     "name": "stdout",
     "output_type": "stream",
     "text": [
      "3\n",
      "1\n"
     ]
    }
   ],
   "source": [
    "frase = 'Curso em Vídeo Python'\n",
    "\n",
    "# Irá exibir a quantidade de ocorrências de o minúsculo.\n",
    "print(frase.count('o'))\n",
    "\n",
    "# Esse método aceita a indicação de um intervalo em seus argumentos\n",
    "\n",
    "print(frase.count('o', 0, 13))\n",
    "# O índice 13 não é incluído na contagem. Com isso percebemos o comportamento de intervalo de Python. O intervalo é sempre aberto à direita, ou seja, o último índice não é incluído.\n",
    "\n",
    "# Curso em Víde - Corresponde ao intervalo 0, 13\n",
    "# 0123456789012"
   ]
  },
  {
   "cell_type": "markdown",
   "metadata": {},
   "source": [
    "## `find()`\n",
    "---\n",
    "O método `find()` em Python é utilizado para encontrar a primeira ocorrência de uma substring em uma string. Sua sintaxe consiste em três parâmetros:\n",
    "\n",
    "- **string**: É a string na qual você deseja realizar a busca pela substring.\n",
    "- **substring**: É a substring que você deseja encontrar dentro da string.\n",
    "- **start (opcional)**: É o índice a partir do qual a pesquisa deve começar. Por padrão, é 0.\n",
    "- **end (opcional)**: É o índice até o qual a pesquisa deve ser feita. Por padrão, é o comprimento da string.\n",
    "\n",
    "Se a substring for encontrada na string, o método retorna o índice da primeira ocorrência da substring. Caso contrário, retorna -1, indicando que a substring não foi encontrada na string."
   ]
  },
  {
   "cell_type": "code",
   "execution_count": 56,
   "metadata": {},
   "outputs": [
    {
     "name": "stdout",
     "output_type": "stream",
     "text": [
      "11\n",
      "19\n",
      "-1\n"
     ]
    }
   ],
   "source": [
    "frase = 'Curso em Vídeo Python' # String original\n",
    "\n",
    "# Exibe 11, que é a posição do caractere d\n",
    "print(frase.find('deo')) # Substring \n",
    "\n",
    "# Exibe 19, que é a posição do caractere o a partir do índice 14\n",
    "print(frase.find('o', 14)) # Substring com intervalo opcional\n",
    "\n",
    "# Se o valor não for encontrado, o retorno será -1\n",
    "print(frase.find('do'))"
   ]
  },
  {
   "cell_type": "markdown",
   "metadata": {},
   "source": [
    "## `rfind()`\n",
    "---\n",
    "O método `rfind()` em Python é semelhante ao método `find()`, porém, em vez de encontrar a primeira ocorrência de uma substring em uma string, ele localiza a última ocorrência. Sua sintaxe é semelhante à do método `find()`, com três parâmetros:\n",
    "\n",
    "- **string**: A string na qual você deseja realizar a busca pela substring.\n",
    "- **substring**: A substring que você deseja encontrar dentro da string.\n",
    "- **start (opcional)**: O índice a partir do qual a pesquisa deve começar. Por padrão, é 0.\n",
    "- **end (opcional)**: O índice até o qual a pesquisa deve ser feita. Por padrão, é o comprimento da string.\n",
    "\n",
    "O método `rfind()` começa a busca pela direita, encontrando a última ocorrência da substring na string. Em outras palavras, é semelhante a utilizar `find('substring', -1)`. Se a substring for encontrada, o método retorna o índice da última ocorrência. Caso contrário, retorna -1, indicando que a substring não foi encontrada na string."
   ]
  },
  {
   "cell_type": "code",
   "execution_count": 57,
   "metadata": {},
   "outputs": [
    {
     "name": "stdout",
     "output_type": "stream",
     "text": [
      "19\n"
     ]
    }
   ],
   "source": [
    "# Se quisermos encontrar a última ocorrência de o minúsculo\n",
    "print(frase.rfind('o')) # Exibe 19"
   ]
  },
  {
   "cell_type": "markdown",
   "metadata": {},
   "source": [
    "## Operador de pertencimento `in`\n",
    "---\n",
    "O operador `in` pode ser utilizado em Python para verificar se uma determinada substring está contida dentro de uma string maior. Ele retorna um valor booleano indicando se a substring está presente ou não na string.\n",
    "\n",
    "A sintaxe do operador `in` é a seguinte:\n",
    "\n",
    "```python\n",
    "substring in string\n",
    "```\n",
    "\n",
    "Onde:\n",
    "- `substring` é o valor que desejamos verificar se está presente na string.\n",
    "- `string` é a string na qual queremos realizar a verificação.\n",
    "\n",
    "Se a `substring` estiver presente em `string`, o operador `in` retornará `True`. Caso contrário, retornará `False`.\n",
    "\n",
    "Por exemplo:"
   ]
  },
  {
   "cell_type": "code",
   "execution_count": 58,
   "metadata": {},
   "outputs": [
    {
     "name": "stdout",
     "output_type": "stream",
     "text": [
      "True\n",
      "False\n"
     ]
    }
   ],
   "source": [
    "print('Curso' in frase) # Exibe True pois a palavra corresponde ao conteúdo da variável\n",
    "print('curso' in frase) # Exibe False pois a palavra está com a primeira letra minúscula, diferente do conteúdo da variável"
   ]
  },
  {
   "cell_type": "markdown",
   "metadata": {},
   "source": [
    "## Métodos `startswith()` e `endswith()`\n",
    "---\n",
    "O método `startswith()` e `endswith()` são duas funções embutidas em Python usadas para verificar se uma string começa ou termina com um determinado prefixo ou sufixo, respectivamente.\n",
    "\n",
    "Aqui está a sintaxe para cada método:"
   ]
  },
  {
   "cell_type": "markdown",
   "metadata": {},
   "source": [
    "### Método `startswith()`:\n",
    "---\n",
    "```python\n",
    "string.startswith(prefixo, início, fim)\n",
    "```\n",
    "\n",
    "- `string`: A string que queremos verificar.\n",
    "- `prefixo`: O prefixo que estamos verificando se a string começa com ele.\n",
    "- `início` (opcional): O índice a partir do qual a verificação deve começar. Por padrão, é 0.\n",
    "- `fim` (opcional): O índice até o qual a verificação deve ser feita. Por padrão, é o comprimento da string.\n",
    "\n",
    "Este método retorna `True` se a string começar com o prefixo especificado e `False` caso contrário."
   ]
  },
  {
   "cell_type": "code",
   "execution_count": 59,
   "metadata": {},
   "outputs": [
    {
     "name": "stdout",
     "output_type": "stream",
     "text": [
      "O nome começa com 'Silva'\n"
     ]
    }
   ],
   "source": [
    "# Queremos verificar se o nome começa com Silva\n",
    "nome = \"Silvana\"\n",
    "\n",
    "# Verifica se a nome começa com \"Silva\"\n",
    "if nome.startswith(\"Silva\"):\n",
    "    print(\"O nome começa com 'Silva'\")\n",
    "else:\n",
    "    print(\"A nome não começa com 'Silva'\")"
   ]
  },
  {
   "cell_type": "markdown",
   "metadata": {},
   "source": [
    "### Método `endswith()`:\n",
    "---\n",
    "```python\n",
    "string.endswith(sufixo, início, fim)\n",
    "```\n",
    "\n",
    "- `string`: A string que queremos verificar.\n",
    "- `sufixo`: O sufixo que estamos verificando se a string termina com ele.\n",
    "- `início` (opcional): O índice a partir do qual a verificação deve começar. Por padrão, é 0.\n",
    "- `fim` (opcional): O índice até o qual a verificação deve ser feita. Por padrão, é o comprimento da string.\n",
    "\n",
    "Este método retorna `True` se a string terminar com o sufixo especificado e `False` caso contrário.\n",
    "\n",
    "Esses métodos são úteis para verificar padrões simples no início ou no final de uma string, facilitando a implementação de lógicas condicionais baseadas nessas verificações."
   ]
  },
  {
   "cell_type": "code",
   "execution_count": 60,
   "metadata": {},
   "outputs": [
    {
     "name": "stdout",
     "output_type": "stream",
     "text": [
      "O nome termina com 'Silva'\n"
     ]
    }
   ],
   "source": [
    "# Queremos verificar se o último nome é Silva\n",
    "nome = \"Thiago Silva\"\n",
    "\n",
    "# Verifica se a nome termina com \"Silva\"\n",
    "if nome.endswith(\"Silva\"):\n",
    "    print(\"O nome termina com 'Silva'\")\n",
    "else:\n",
    "    print(\"A nome não termina com 'Silva'\")"
   ]
  },
  {
   "cell_type": "markdown",
   "metadata": {},
   "source": [
    "## `.replace()`\n",
    "---\n",
    "Podemos substituir uma parte de uma string armazenada numa variável codificando primeiro o nome da variável e depois o método `.replace()`\n",
    "\n",
    "O método `.replace()` é utilizado para substituir parte de uma string por outra parte especificada. Este método não altera a string original, mas retorna uma nova string com as substituições feitas.\n",
    "\n",
    "Aqui está a sintaxe do método `.replace()`:\n",
    "\n",
    "```python\n",
    "string.replace(valor_antigo, novo_valor, quantidade)\n",
    "```\n",
    "\n",
    "- `string`: A string na qual queremos fazer a substituição.\n",
    "- `valor_antigo`: A parte da string que queremos substituir.\n",
    "- `novo_valor`: A parte pela qual queremos substituir o valor_antigo.\n",
    "- `quantidade` (opcional): O número máximo de substituições a serem feitas. Por padrão, todas as ocorrências serão substituídas.\n",
    "\n",
    "O método `.replace()` é útil não apenas para substituir partes específicas de uma string, mas também para remover caracteres indesejados. Por exemplo, se quisermos remover todos os espaços em branco de uma string, podemos usar `string.replace(' ', '')`."
   ]
  },
  {
   "cell_type": "code",
   "execution_count": 1,
   "metadata": {},
   "outputs": [
    {
     "name": "stdout",
     "output_type": "stream",
     "text": [
      "Curso em Vídeo Python\n",
      "Curso em Vídeo Android\n",
      "Curso em Vídeo Python\n",
      " P o d e m o s   i n s e r i r   c a r a c t e r e s \n"
     ]
    }
   ],
   "source": [
    "# Salvamos uma frase em uma variável\n",
    "frase = 'Curso em Vídeo Python'\n",
    "\n",
    "# Utilizamos o método .replace() para substituir a palavra Python por Android\n",
    "frase.replace('Python', 'Android')\n",
    "\n",
    "# Se codificarmos a variável original, notaremos que o valor dela permanece inalterado. Isso ocorre pois o método .replace() não altera o valor da variável original, mas cria uma nova string com o valor atualizado.\n",
    "print(frase)\n",
    "\n",
    "# Podemos armazenar o valor atualizado em uma nova variável\n",
    "nova_frase = frase.replace('Python', 'Android')\n",
    "\n",
    "# Agora, ao exibir a nova variável, notaremos que o valor foi atualizado\n",
    "print(nova_frase) \n",
    "\n",
    "# Executamos novamente a variável original para confirmar que o valor permanece inalterado\n",
    "print(frase)\n",
    "\n",
    "# Este método também nos permite incluir caracteres\n",
    "teste = 'Podemos inserir caracteres'\n",
    "print(teste.replace('', ' '))"
   ]
  },
  {
   "cell_type": "markdown",
   "metadata": {},
   "source": [
    "## `.upper()` e `.lower()`\n",
    "---\n",
    "Os métodos `.upper()` e `.lower()` são usados para transformar os caracteres de uma string em maiúsculas e minúsculas, respectivamente. Eles são métodos de transformação que ajudam a padronizar o texto de acordo com as necessidades do programa.\n",
    "\n",
    "- O método `.upper()` transforma todos os caracteres da string em letras maiúsculas.\n",
    "- O método `.lower()` transforma todos os caracteres da string em letras minúsculas.\n",
    "\n",
    "Esses métodos são úteis quando precisamos comparar strings sem diferenciar maiúsculas de minúsculas, ou quando queremos apresentar a saída em um formato consistente. \n",
    "\n",
    "Por exemplo:"
   ]
  },
  {
   "cell_type": "code",
   "execution_count": 61,
   "metadata": {},
   "outputs": [
    {
     "name": "stdout",
     "output_type": "stream",
     "text": [
      "CURSO EM VÍDEO PYTHON\n",
      "Curso em Vídeo Python\n",
      "curso em vídeo python\n",
      "Curso em Vídeo Python\n"
     ]
    }
   ],
   "source": [
    "print(frase.upper()) # Exibe a frase em maiúsculo. \n",
    "print(frase) # O método .upper() não altera o valor da variável original, mas cria uma nova string com o valor atualizado.\n",
    "\n",
    "print(frase.lower()) # Exibe a frase em minúsculo.\n",
    "print(frase) # O método .lower() não altera o valor da variável original, mas cria uma nova string com o valor atualizado."
   ]
  },
  {
   "cell_type": "markdown",
   "metadata": {},
   "source": [
    "## `.title()`\n",
    "---\n",
    "O método `.title()` é usado para capitalizar o primeiro caractere de cada palavra em uma string, transformando as outras letras em minúsculas. Isso é útil quando queremos formatar o texto para que cada palavra comece com uma letra maiúscula, como em títulos ou nomes próprios.\n",
    "\n",
    "Por exemplo:"
   ]
  },
  {
   "cell_type": "code",
   "execution_count": 26,
   "metadata": {},
   "outputs": [
    {
     "name": "stdout",
     "output_type": "stream",
     "text": [
      "Curso Em Vídeo Python\n",
      "Curso em Vídeo Python\n"
     ]
    }
   ],
   "source": [
    "print(frase.title()) # Exibe a frase com a primeira letra de cada palavra em maiúsculo. Também não altera o valor da variável original.\n",
    "\n",
    "print(frase) # Exibe a frase original\n",
    "\n",
    "# Como você pode ver, o método `.title()` capitaliza o primeiro caractere de cada palavra na string `frase`, enquanto as letras restantes são convertidas em minúsculas. Isso resulta em uma formatação adequada para um título ou cabeçalho."
   ]
  },
  {
   "cell_type": "markdown",
   "metadata": {},
   "source": [
    "## `.capitalize()`\n",
    "---\n",
    "O método `.capitalize()` é usado para transformar apenas o primeiro caractere de uma string em maiúscula, enquanto todas as outras letras são convertidas em minúsculas. Isso é útil quando queremos capitalizar apenas o primeiro caractere de uma frase, mantendo as outras letras inalteradas.\n",
    "\n",
    "Por exemplo:"
   ]
  },
  {
   "cell_type": "code",
   "execution_count": 27,
   "metadata": {},
   "outputs": [
    {
     "name": "stdout",
     "output_type": "stream",
     "text": [
      "Curso em vídeo python\n",
      "Curso em Vídeo Python\n"
     ]
    }
   ],
   "source": [
    "print(frase.capitalize()) # Exibe a frase com a primeira letra em maiúsculo e as demais em minúsculo. Também não altera o valor da variável original.\n",
    "\n",
    "print(frase) # Exibe a frase original\n",
    "\n",
    "# Como você pode ver, o método `.capitalize()` capitaliza apenas o primeiro caractere da string `frase`, mantendo as outras letras como estão. Isso é útil quando queremos garantir que a primeira letra de uma frase seja maiúscula, independentemente do restante da string."
   ]
  },
  {
   "cell_type": "markdown",
   "metadata": {},
   "source": [
    "## `.split()`\n",
    "---\n",
    "Ao trabalhar com diferentes tipos de dados, muitas vezes os receberemos em um formato que pode dificultar o trabalho.\n",
    "\n",
    "Conseguimos dividir strings e armazenar os valores individuais numa lista utilizando o método .split() - split significa dividir.\n",
    "\n",
    "O método `.split()` é usado para dividir uma string em substrings com base em um separador especificado e retornar uma lista das substrings resultantes.\n",
    "\n",
    "Por padrão, o método `.split()` usa espaços em branco como separador para dividir a string. No entanto, você pode especificar um separador personalizado passando-o como argumento para o método `.split()`.\n",
    "\n",
    "Por exemplo:"
   ]
  },
  {
   "cell_type": "code",
   "execution_count": 63,
   "metadata": {},
   "outputs": [
    {
     "name": "stdout",
     "output_type": "stream",
     "text": [
      "['Curso', 'em', 'Vídeo', 'Python']\n",
      "Curso em Vídeo Python\n",
      "['Curso', 'em', 'Vídeo', 'Python']\n",
      "Vídeo\n",
      "V\n"
     ]
    }
   ],
   "source": [
    "frase = 'Curso em Vídeo Python'\n",
    "print(frase.split())\n",
    "# O método .split() divide a string em uma lista de strings.\n",
    "# O padrão é dividir a string nos espaços em branco.\n",
    "# Será exibida uma lista com as palavras da frase: ['Curso', 'em', 'Vídeo', 'Python']\n",
    "\n",
    "print(frase)\n",
    "# O método .split() não altera o valor da variável original.\n",
    "\n",
    "# Podemos armazenar o valor da lista em uma variável\n",
    "frase_dividida = frase.split()\n",
    "print(frase_dividida) # Exibe a lista ['Curso', 'em', 'Vídeo', 'Python']\n",
    "\n",
    "# Nesse exemplo, o primeiro valor indica a palavra e o segundo o caractere\n",
    "print(frase_dividida[2]) # Exibe 'Vídeo' pois é o terceiro [2] valor da lista\n",
    "print(frase_dividida[2][0]) # Exibe 'V' pois é o primeiro [0] caractere da palavra 'Vídeo'. Indicamos a palavra e o caractere."
   ]
  },
  {
   "cell_type": "markdown",
   "metadata": {},
   "source": [
    "O método `.split()` pode ser usado para dividir uma string com base em qualquer caractere específico, não apenas espaços em branco.\n",
    "\n",
    "Se você deseja dividir uma string em um caractere diferente de espaço em branco, pode especificar esse caractere como argumento para o método `.split()`.\n",
    "\n",
    "Por exemplo:"
   ]
  },
  {
   "cell_type": "code",
   "execution_count": 65,
   "metadata": {},
   "outputs": [
    {
     "name": "stdout",
     "output_type": "stream",
     "text": [
      "['Maycon', 'Masculino', 'Pardo', 'Douglas', 'Masculino', 'Branco', 'Maria', 'Feminino', 'Branca']\n",
      "['Maycon', 'Douglas', 'Maria']\n",
      "['Masculino', 'Masculino', 'Feminino']\n",
      "['Pardo', 'Branco', 'Branca']\n"
     ]
    }
   ],
   "source": [
    "# O texto está separado por vírgula e espaço. Portanto usaremos o método split() para separar o texto em uma lista \n",
    "texto = 'Maycon, Masculino, Pardo, Douglas, Masculino, Branco, Maria, Feminino, Branca'\n",
    "\n",
    "# Como o método split() não altera o valor da variável original, podemos armazenar o valor da lista em uma variável\n",
    "lista_texto = texto.split(', ')\n",
    "\n",
    "# A nossa saída será uma lista com os nomes, gêneros e etnias\n",
    "print(lista_texto)\n",
    "\n",
    "# Agora podemos manipular a lista\n",
    "print(lista_texto[0::3]) # Exibe os nomes que estão na posição 0, 3, 6, 9\n",
    "print(lista_texto[1::3]) # Exibe os sexos que estão na posição 1, 4, 7, 10\n",
    "print(lista_texto[2::3]) # Exibe as etnias que estão na posição 2, 5, 8, 11"
   ]
  },
  {
   "cell_type": "markdown",
   "metadata": {},
   "source": [
    "## `''.join()`\n",
    "---\n",
    "O método `.join()` é usado para juntar os itens de uma sequência (como uma lista) em uma única string, separando-os com um separador especificado.\n",
    "\n",
    "Por exemplo:"
   ]
  },
  {
   "cell_type": "code",
   "execution_count": 31,
   "metadata": {},
   "outputs": [
    {
     "name": "stdout",
     "output_type": "stream",
     "text": [
      "maçã, banana, laranja, uva\n",
      "['maçã', 'banana', 'laranja', 'uva']\n"
     ]
    }
   ],
   "source": [
    "# Temos uma lista de frutas\n",
    "frutas = ['maçã', 'banana', 'laranja', 'uva']\n",
    "\n",
    "# Desejamos unir os itens da lista em uma única string. Como o método não altera o valor da variável original, podemos armazenar o valor da string em uma variável\n",
    "\n",
    "# Usamos um separador para unir os itens da lista\n",
    "frutas_str = ', '.join(frutas)\n",
    "\n",
    "# Ao exibir a variável, notaremos que os itens da lista foram unidos em uma única string\n",
    "print(frutas_str)\n",
    "\n",
    "# Veja a diferença para a exibição da lista\n",
    "print(frutas)\n",
    "\n",
    "# Neste exemplo, o método `.join()` é usado para juntar os itens da lista `frutas`, separando-os por vírgula e espaço. O resultado é uma única string contendo todas as frutas, separadas por vírgula e espaço."
   ]
  },
  {
   "cell_type": "markdown",
   "metadata": {},
   "source": [
    " O método `.join()` pode ser usado para unir os caracteres de uma string, separando-os com o separador especificado. Aqui está um exemplo:"
   ]
  },
  {
   "cell_type": "code",
   "execution_count": 33,
   "metadata": {},
   "outputs": [
    {
     "name": "stdout",
     "output_type": "stream",
     "text": [
      "P-y-t-h-o-n\n"
     ]
    }
   ],
   "source": [
    "texto = \"Python\"\n",
    "separador = \"-\"\n",
    "texto_separado = separador.join(texto)\n",
    "\n",
    "print(texto_separado)"
   ]
  },
  {
   "cell_type": "markdown",
   "metadata": {},
   "source": [
    "## `.strip()`\n",
    "---\n",
    "O método `.strip()` é usado para remover espaços em branco desnecessários no início e no final de uma string. Aqui está um exemplo:"
   ]
  },
  {
   "cell_type": "code",
   "execution_count": 37,
   "metadata": {},
   "outputs": [
    {
     "name": "stdout",
     "output_type": "stream",
     "text": [
      "    Aprenda Python   \n",
      "21\n",
      "Aprenda Python\n",
      "14\n",
      "    Aprenda Python\n",
      "Aprenda Python   \n"
     ]
    }
   ],
   "source": [
    "frase = '    Aprenda Python   '\n",
    "\n",
    "# Exibe a frase com espaços à esquerda e à direita\n",
    "print(frase)\n",
    "\n",
    "# Exibe 21, que é o tamanho da frase incluindo os espaços\n",
    "print(len(frase))\n",
    "\n",
    "# Exibe a frase sem os espaços à esquerda e à direita\n",
    "print(frase.strip())\n",
    "\n",
    "# Exibe 13, que é o tamanho da frase sem os espaços à esquerda e à direita\n",
    "print(len(frase.strip()))\n",
    "\n",
    "# Há duas variações: Somente da direita rstrip() e somente da esquerda lstrip()\n",
    "print(frase.rstrip()) # Exibe a frase sem os espaços à direita\n",
    "print(frase.lstrip()) # Exibe a frase sem os espaços à esquerda"
   ]
  },
  {
   "cell_type": "markdown",
   "metadata": {},
   "source": [
    "## `dir()`\n",
    "---\n",
    "Em Python, tudo é tratado como um objeto. Os objetos têm métodos, que são funções que podem ser executadas por esse objeto.\n",
    "\n",
    "Para strings, há uma variedade de métodos disponíveis para realizar análises e manipulações. A sintaxe para chamar esses métodos é utilizando a notação de ponto:\n",
    "\n",
    "```\n",
    "objeto.método()\n",
    "```\n",
    "\n",
    "Por exemplo, se tivermos uma string chamada `texto`, podemos usar métodos como `upper()`, `lower()`, `count()`, `startswith()`, `endswith()`, entre outros, para analisar e manipular essa string.\n",
    "\n",
    "Para listar todos os métodos disponíveis para uma string, podemos usar a função `dir()`. Por exemplo:"
   ]
  },
  {
   "cell_type": "code",
   "execution_count": 67,
   "metadata": {},
   "outputs": [
    {
     "name": "stdout",
     "output_type": "stream",
     "text": [
      "['__add__', '__class__', '__contains__', '__delattr__', '__dir__', '__doc__', '__eq__', '__format__', '__ge__', '__getattribute__', '__getitem__', '__getnewargs__', '__getstate__', '__gt__', '__hash__', '__init__', '__init_subclass__', '__iter__', '__le__', '__len__', '__lt__', '__mod__', '__mul__', '__ne__', '__new__', '__reduce__', '__reduce_ex__', '__repr__', '__rmod__', '__rmul__', '__setattr__', '__sizeof__', '__str__', '__subclasshook__', 'capitalize', 'casefold', 'center', 'count', 'encode', 'endswith', 'expandtabs', 'find', 'format', 'format_map', 'index', 'isalnum', 'isalpha', 'isascii', 'isdecimal', 'isdigit', 'isidentifier', 'islower', 'isnumeric', 'isprintable', 'isspace', 'istitle', 'isupper', 'join', 'ljust', 'lower', 'lstrip', 'maketrans', 'partition', 'removeprefix', 'removesuffix', 'replace', 'rfind', 'rindex', 'rjust', 'rpartition', 'rsplit', 'rstrip', 'split', 'splitlines', 'startswith', 'strip', 'swapcase', 'title', 'translate', 'upper', 'zfill']\n"
     ]
    }
   ],
   "source": [
    "texto = \"Exemplo de string\"\n",
    "print(dir(texto))\n",
    "\n",
    "# Isso imprimirá uma lista de todos os métodos disponíveis para a string `texto`.\n",
    "\n",
    "# Agora, você pode explorar e experimentar diversos métodos para analisar e manipular strings em Python!"
   ]
  },
  {
   "cell_type": "markdown",
   "metadata": {},
   "source": [
    "Algums métodos de string são:"
   ]
  },
  {
   "cell_type": "code",
   "execution_count": 1,
   "metadata": {},
   "outputs": [
    {
     "name": "stdout",
     "output_type": "stream",
     "text": [
      "False\n",
      "False\n",
      "True\n",
      "False\n",
      "False\n",
      "False\n",
      "True\n",
      "True\n",
      "True\n",
      "False\n",
      "False\n",
      "True\n",
      "exemplo123\n",
      "-----Exemplo123-----\n",
      "Exemplo123**********\n",
      "**********Exemplo123\n",
      "eXEMPLO123\n",
      "4\n",
      "7\n",
      "00000Exemplo123\n",
      "Exemplo123\n"
     ]
    }
   ],
   "source": [
    "algo = \"Exemplo123\"\n",
    "\n",
    "print(algo.isnumeric())  # Verifica se o valor é um número para dizer se é possível converter para int ou float\n",
    "\n",
    "print(algo.isalpha())  # Verifica se o valor é alfabético\n",
    "\n",
    "print(algo.isalnum())  # Verifica se o valor possui letras e números.\n",
    "\n",
    "print(algo.isupper())  # Verifica se o valor está em maiúsculo.\n",
    "\n",
    "print(algo.islower())  # Verifica se o valor está em minúsculo.\n",
    "\n",
    "print(algo.isspace())  # Verifica se o valor é um espaço (espaço, tab, quebra de linha)\n",
    "\n",
    "print(algo.istitle())  # Verifica se o valor está em formato de título. Ex: Curso em Vídeo\n",
    "\n",
    "print(algo.isprintable())  # Verifica se o valor é imprimível. Ex: \\n não é imprimível\n",
    "\n",
    "print(algo.isascii())  # Verifica se o valor está em formato ASCII. Acentos não são ASCII\n",
    "\n",
    "print(algo.isdecimal())  # Verifica se o valor é decimal\n",
    "\n",
    "print(algo.isdigit())  # Verifica se o valor é um dígito. \n",
    "\n",
    "print(algo.isidentifier())  # Verifica se o valor é um identificador. Ex: Nome de variável, função, classe, etc.\n",
    "\n",
    "print(algo.casefold())  # exemplo123 (todas as letras em minúsculo)\n",
    "\n",
    "print(algo.center(20, '-'))  # ---Exemplo123---- (centraliza a string com espaços ou o caractere fornecido)\n",
    "\n",
    "print(algo.ljust(20, '*'))  # 'Exemplo123*********' (justifica a string à esquerda em um campo de largura total de 20 caracteres, preenchendo os espaços extras com '*')\n",
    "print(algo.rjust(20, '*'))  # '*********Exemplo123' (justifica a string à direita em um campo de largura total de 20 caracteres, preenchendo os espaços extras com '*')\n",
    "\n",
    "print(algo.swapcase())  # eXEMPLO123 (troca letras maiúsculas por minúsculas e vice-versa)\n",
    "\n",
    "print(algo.index('p'))  # 3 (retorna o índice da primeira ocorrência de 'p' na string)\n",
    "\n",
    "print(algo.rindex('1'))  # 8 (retorna o índice da última ocorrência de '1' na string)\n",
    "\n",
    "print(algo.zfill(15))  # 0000000Exemplo123 (preenche a string com zeros à esquerda até alcançar o tamanho especificado)\n",
    "\n",
    "\n"
   ]
  },
  {
   "cell_type": "markdown",
   "metadata": {},
   "source": [
    "Exemplo de uso de isnumeric: Consiste em um programa que solicita ao usuário para digitar um número inteiro e, em seguida, exibe o dobro desse número. O programa deve verificar se a entrada do usuário é numérica antes de realizar a operação."
   ]
  },
  {
   "cell_type": "code",
   "execution_count": 40,
   "metadata": {},
   "outputs": [
    {
     "name": "stdout",
     "output_type": "stream",
     "text": [
      "Por favor, digite um número inteiro válido.\n"
     ]
    }
   ],
   "source": [
    "# Solicita ao usuário para digitar um número\n",
    "entrada_usuario = input('Digite um número inteiro: ')\n",
    "\n",
    "# Verifica se a entrada do usuário é numérica\n",
    "if entrada_usuario.isnumeric():\n",
    "    # Converte a entrada para um número inteiro\n",
    "    numero_inteiro = int(entrada_usuario)\n",
    "    \n",
    "    # Realiza alguma operação com o número (por exemplo, dobrá-lo)\n",
    "    resultado = numero_inteiro * 2\n",
    "    \n",
    "    # Exibe o resultado\n",
    "    print(f'O dobro do número digitado é: {resultado}')\n",
    "else:\n",
    "    print('Por favor, digite um número inteiro válido.')"
   ]
  }
 ],
 "metadata": {
  "kernelspec": {
   "display_name": "Python 3",
   "language": "python",
   "name": "python3"
  },
  "language_info": {
   "codemirror_mode": {
    "name": "ipython",
    "version": 3
   },
   "file_extension": ".py",
   "mimetype": "text/x-python",
   "name": "python",
   "nbconvert_exporter": "python",
   "pygments_lexer": "ipython3",
   "version": "3.12.1"
  }
 },
 "nbformat": 4,
 "nbformat_minor": 2
}
