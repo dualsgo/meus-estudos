{
 "cells": [
  {
   "cell_type": "markdown",
   "metadata": {},
   "source": [
    "### **`Compreendendo o Comportamento das Listas em Python`**\n",
    "\n",
    "Ao trabalhar com listas em Python, é importante entender como elas são armazenadas na memória e como as operações afetam variáveis que compartilham o mesmo conteúdo. Vamos explorar isso com um exemplo prático:\n",
    "\n",
    "```python\n",
    "list_1 = [1]  # Cria a lista chamada list_1 com um elemento [1]\n",
    "\n",
    "list_2 = list_1  # Atribui a lista_1 a lista_2 - [1]\n",
    "\n",
    "list_1[0] = 2  # Altera o único elemento de list_1 para 2\n",
    "\n",
    "print(list_2)  # Imprime a lista_2 - [2]\n",
    "```\n",
    "\n",
    "O resultado inesperado é `[2]`, não `[1]`, como poderíamos esperar. Vamos entender por que isso acontece.\n",
    "\n",
    "### Comportamento das Listas em Python\n",
    "\n",
    "- **Armazenamento em Memória:**\n",
    "  - O nome de uma lista em Python é um identificador para o local na memória onde a lista é armazenada.\n",
    "  - Quando atribuímos uma lista a outra variável, estamos apenas copiando o identificador da lista, não o conteúdo da lista em si.\n",
    "\n",
    "### Consequências da Referência Compartilhada\n",
    "\n",
    "- **Referência Compartilhada:**\n",
    "  - Ambas as variáveis `list_1` e `list_2` apontam para o mesmo local na memória, onde a lista `[1]` está armazenada.\n",
    "  - Portanto, qualquer modificação feita em uma variável afeta a outra, pois elas compartilham o mesmo conteúdo.\n",
    "  - Modificar `list_1` para `[2]` também modifica `list_2`, pois ambas apontam para o mesmo local de memória.\n",
    "\n",
    "### Conclusão\n",
    "\n",
    "Ao lidar com listas em Python, lembre-se de que a atribuição de uma lista a outra variável não cria uma cópia separada da lista original. Em vez disso, ambas as variáveis compartilham o mesmo conteúdo na memória. Isso pode levar a comportamentos inesperados se não for devidamente considerado ao escrever código que envolve manipulação de listas."
   ]
  },
  {
   "cell_type": "markdown",
   "metadata": {},
   "source": [
    "### **`Os poderes do fatiamento`**\n",
    "\n",
    "Felizmente, a solução está ao seu alcance - é chamada de fatia.\n",
    "\n",
    "Uma fatia é um elemento da sintaxe do Python que permite fazer uma cópia totalmente nova de uma lista ou de partes de uma lista.\n",
    "\n",
    "Na verdade, ele copia o conteúdo da lista, não o nome da lista."
   ]
  },
  {
   "cell_type": "code",
   "execution_count": 8,
   "metadata": {},
   "outputs": [
    {
     "name": "stdout",
     "output_type": "stream",
     "text": [
      "[1]\n"
     ]
    }
   ],
   "source": [
    "list_1 = [1] # Como antes, cria uma lista chamada list_1 com um elemento [1];\n",
    "\n",
    "list_2 = list_1[:] # Agora com o fatiamento, cria uma cópia completa da lista_1 e atribui a lista_2 - [1];\n",
    "\n",
    "list_1[0] = 2 # Sem alterar a lista_2, altera o único elemento de list_1 para 2;\n",
    "\n",
    "print(list_2) # Ao imprimir a lista_2, o resultado é [1], já que a lista_2 não foi alterada."
   ]
  },
  {
   "cell_type": "markdown",
   "metadata": {},
   "source": [
    "Esta parte discreta do código descrito como **`[:]`** é capaz de produzir uma nova lista.\n",
    "\n",
    "A sintaxe é a seguinte: **`my_list[start:end]`**\n",
    "\n",
    "start é o índice do primeiro elemento incluído na fatia;\n",
    "end é o índice do primeiro elemento não incluído na fatia.\n",
    "\n",
    "Se especificarmos o fim, mas não o início, a fatia começará no início da lista.\n",
    "\n",
    "Se especificarmos o início, mas não o fim, a fatia terminará no final da lista.\n",
    "\n",
    "Sendo assim, a fatia [:] cria uma cópia completa da lista. (Inicio ao fim)\n",
    "\n",
    "Lembrando que o fim é o índice do primeiro elemento não incluído na fatia. É como fim - 1; Se dizemos 1 até 10, o 10 não está incluído, então é 9 (Fica subentendido 10 - 1)"
   ]
  },
  {
   "cell_type": "markdown",
   "metadata": {},
   "source": [
    "#### Fatias - índices negativos\n",
    "\n",
    "Quando usamos índices negativos, começamos a contar a partir do final da lista.\n",
    "Um step negativo indica que estamos percorrendo a lista de trás para frente."
   ]
  },
  {
   "cell_type": "code",
   "execution_count": 9,
   "metadata": {},
   "outputs": [
    {
     "name": "stdout",
     "output_type": "stream",
     "text": [
      "[8, 6, 4]\n",
      "[]\n",
      "[2, 4, 6]\n"
     ]
    }
   ],
   "source": [
    "my_list = [10, 8, 6, 4, 2]\n",
    "\n",
    "new_list = my_list[1:-1] # cria uma nova lista sem o primeiro e o último elemento da lista original. O primerio elemento é 10 e o último é 2.\n",
    "# Se o start especificar um elemento além do descrito no end (do início da lista), a fatia estará vazia:\n",
    "print(new_list) # [8, 6, 4]\n",
    "\n",
    "new_list = my_list[-1:1] # cria uma nova lista vazia já que o start é o último elemento da lista e o end é o segundo elemento da lista. Como o start é maior que o end, a fatia estará vazia. Lembre-se que o step é 1 por padrão e o índice negativo significa que a contagem começa do final da lista.\n",
    "print(new_list) # []\n",
    "\n",
    "new_list = my_list[-1:1:-1] # cria uma nova lista com os elementos da lista original na ordem inversa. O start é o último elemento da lista, o end é o segundo elemento da lista e o step é -1. O start é maior que o end, mas o step é negativo.\n",
    "print(new_list) # [2, 4, 6]"
   ]
  },
  {
   "cell_type": "markdown",
   "metadata": {},
   "source": [
    "### Mais sobre a instrução del\n",
    "\n",
    "A instrução del descrita anteriormente é capaz de excluir os elementos de uma lista de uma só vez e ela também pode excluir fatias:"
   ]
  },
  {
   "cell_type": "code",
   "execution_count": 10,
   "metadata": {},
   "outputs": [
    {
     "name": "stdout",
     "output_type": "stream",
     "text": [
      "[10, 4, 2]\n"
     ]
    }
   ],
   "source": [
    "my_list = [10, 8, 6, 4, 2]\n",
    "del my_list[1:3] # Exclui 8 e 6 da lista.\n",
    "print(my_list)  # outputs: [10, 4, 2]"
   ]
  },
  {
   "cell_type": "markdown",
   "metadata": {},
   "source": [
    "Também é possível excluir todos os elementos de uma só vez:"
   ]
  },
  {
   "cell_type": "code",
   "execution_count": 11,
   "metadata": {},
   "outputs": [
    {
     "name": "stdout",
     "output_type": "stream",
     "text": [
      "[]\n"
     ]
    }
   ],
   "source": [
    "\n",
    "my_list = [10, 8, 6, 4, 2]\n",
    "\n",
    "del my_list[:] # Exclui todos os elementos da lista. Restando uma lista vazia. FuncioNa como o método clear(). Sem este [:] o comando del excluiria a lista e não apenas os elementos.\n",
    "\n",
    "print(my_list) # outputs: []"
   ]
  },
  {
   "cell_type": "markdown",
   "metadata": {},
   "source": [
    "A remoção da fatia do código muda bastante de significado. A instrução del excluirá a lista em si, não seu conteúdo."
   ]
  },
  {
   "cell_type": "code",
   "execution_count": 12,
   "metadata": {},
   "outputs": [],
   "source": [
    "my_list = [10, 8, 6, 4, 2]\n",
    "del my_list # Exclui a lista inteira. Não restará nada, então é como se a lista nunca tivesse sido criada."
   ]
  },
  {
   "cell_type": "code",
   "execution_count": 13,
   "metadata": {},
   "outputs": [
    {
     "ename": "NameError",
     "evalue": "name 'my_list' is not defined",
     "output_type": "error",
     "traceback": [
      "\u001b[1;31m---------------------------------------------------------------------------\u001b[0m",
      "\u001b[1;31mNameError\u001b[0m                                 Traceback (most recent call last)",
      "Cell \u001b[1;32mIn[13], line 1\u001b[0m\n\u001b[1;32m----> 1\u001b[0m \u001b[38;5;28mprint\u001b[39m(\u001b[43mmy_list\u001b[49m) \u001b[38;5;66;03m# Se tentarmos imprimir a lista recebemos oerro - NameError: name 'my_list' is not defined\u001b[39;00m\n",
      "\u001b[1;31mNameError\u001b[0m: name 'my_list' is not defined"
     ]
    }
   ],
   "source": [
    "print(my_list) # Se tentarmos imprimir a lista recebemos oerro - NameError: name 'my_list' is not defined"
   ]
  },
  {
   "cell_type": "markdown",
   "metadata": {},
   "source": [
    "### Os operadores in e not in\n",
    "\n",
    "O Python oferece dois operadores muito eficientes, capazes de examinar a lista para verificar se um valor específico é armazenado ou não na lista.\n",
    "\n",
    "\n",
    "elemento in my_list\n",
    "Retorna True se o elemento estiver na lista my_list\n",
    "\n",
    "elemento not in my_list\n",
    "Retorna True se o elemento não estiver na lista my_list"
   ]
  },
  {
   "cell_type": "code",
   "execution_count": null,
   "metadata": {},
   "outputs": [
    {
     "name": "stdout",
     "output_type": "stream",
     "text": [
      "False\n",
      "True\n",
      "True\n"
     ]
    }
   ],
   "source": [
    "my_list = [0, 3, 12, 8, 2]\n",
    "\n",
    "print(5 in my_list) # False\n",
    "print(5 not in my_list) # True\n",
    "print(12 in my_list) # True"
   ]
  },
  {
   "cell_type": "markdown",
   "metadata": {},
   "source": [
    "## **Filtrando com Instruções if e List Comprehension**\n",
    "\n",
    "List comprehension é uma técnica poderosa em Python para criar novas listas filtrando elementos de uma lista existente. Permite criar listas de forma concisa e eficiente. Vamos entender a sintaxe e aplicação dessa técnica com alguns exemplos.\n",
    "\n",
    "**Sintaxe Básica:**\n",
    "\n",
    "A sintaxe geral de list comprehension é a seguinte:\n",
    "\n",
    "```python\n",
    "nova_lista = [expressão for elemento in iterável if condição]\n",
    "```\n",
    "\n",
    "- `nova_lista`: Lista resultante após aplicar a operação.\n",
    "- `expressão`: Operação a ser aplicada a cada elemento.\n",
    "- `elemento`: Variável que representa cada elemento do iterável.\n",
    "- `iterável`: Lista, tupla, conjunto, ou outra estrutura iterável.\n",
    "- `condição` (opcional): Filtra os elementos de acordo com uma condição.\n",
    "\n",
    "**Exemplo 1: Filtrando Pontuações Maiores que 20**\n",
    "\n",
    "```python\n",
    "scores = [12, 47, 30, 29, 19, 35]  # Lista de pontuações\n",
    "high_scores = [score for score in scores if score > 20]  # Lista de pontuações maiores que 20\n",
    "high_scores.sort()  # Ordena a lista\n",
    "print(high_scores)  # Output: [29, 30, 35, 47]\n",
    "```\n",
    "\n",
    "Neste exemplo, `high_scores` é uma nova lista que contém apenas as pontuações maiores que 20. Utilizamos uma condição `if score > 20` para filtrar os elementos durante a criação da lista.\n",
    "\n",
    "**Exemplo 2: List Comprehension com Operações Matemáticas**\n",
    "\n",
    "```python\n",
    "squares = [x ** 2 for x in range(10)]  # Lista com os quadrados dos números de 0 a 9\n",
    "print(squares)  # Output: [0, 1, 4, 9, 16, 25, 36, 49, 64, 81]\n",
    "```\n",
    "\n",
    "Aqui, `squares` é uma lista que contém os quadrados dos números de 0 a 9. Utilizamos a expressão `x ** 2` para calcular o quadrado de cada número do intervalo.\n",
    "\n",
    "**Exemplo 3: List Comprehension com Condições Complexas**\n",
    "\n",
    "```python\n",
    "odds = [x for x in squares if x % 2 != 0]  # Lista com números ímpares da lista squares\n",
    "print(odds)  # Output: [1, 9, 25, 49, 81]\n",
    "```\n",
    "\n",
    "Neste exemplo, `odds` é uma lista que contém apenas os números ímpares da lista `squares`. Utilizamos a condição `if x % 2 != 0` para filtrar os números ímpares durante a criação da lista.\n",
    "\n",
    "**Conclusão:**\n",
    "\n",
    "List comprehension é uma técnica elegante para criar novas listas em Python, combinando expressões concisas e capacidade de filtragem com instruções `if`. É uma ferramenta poderosa que contribui para o código limpo e legível."
   ]
  },
  {
   "cell_type": "markdown",
   "metadata": {},
   "source": [
    "## **`Listas em Listas: Explorando Listas Aninhadas em Python`**\n",
    "\n",
    "As listas podem ser armazenadas dentro de outras listas, formando o que chamamos de listas aninhadas. Essa estrutura de dados é extremamente útil para lidar com informações mais complexas, permitindo representar dados em múltiplas dimensões. Vamos explorar esse conceito com explicações claras e exemplos práticos.\n",
    "\n",
    "Em Python, uma lista é uma coleção ordenada de elementos que pode conter diferentes tipos de dados. Por exemplo:\n",
    "\n",
    "```python\n",
    "animais = ['cachorro', 'gato', 'pássaro']\n",
    "```\n",
    "\n",
    "Agora, imagine que cada elemento dessa lista precisa armazenar informações adicionais, como idade e cor. Em vez de criar listas separadas para cada tipo de informação, podemos utilizar listas aninhadas:\n",
    "\n",
    "```python\n",
    "animais_info = [['cachorro', 3, 'marrom'], ['gato', 2, 'preto'], ['pássaro', 1, 'verde']]\n",
    "```\n",
    "\n",
    "Aqui, cada sublista contém o nome do animal, idade e cor, formando assim uma lista aninhada.\n",
    "\n",
    "**Acessando Informações Específicas:**\n",
    "\n",
    "Para acessar informações específicas em listas aninhadas, utilizamos índices para navegar entre os elementos. Por exemplo:\n",
    "\n",
    "```python\n",
    "primeiro_animal = animais_info[0]  # Acessa o primeiro elemento da lista animais_info\n",
    "nome_do_primeiro_animal = primeiro_animal[0]  # Acessa o primeiro elemento da sublista primeiro_animal\n",
    "print(f\"Nome: {nome_do_primeiro_animal}\")  # Imprime o nome do primeiro animal\n",
    "\n",
    "idade_do_primeiro_animal = primeiro_animal[1]  # Acessa o segundo elemento da sublista primeiro_animal\n",
    "print(f\"Idade: {idade_do_primeiro_animal} anos\")  # Imprime a idade do primeiro animal\n",
    "\n",
    "cor_do_primeiro_animal = primeiro_animal[2]  # Acessa o terceiro elemento da sublista primeiro_animal\n",
    "print(f\"Cor: {cor_do_primeiro_animal}\")  # Imprime a cor do primeiro animal\n",
    "```\n",
    "\n",
    "Dessa forma, conseguimos acessar informações específicas dentro das listas aninhadas.\n",
    "\n",
    "**Destaque:**\n",
    "\n",
    "- As listas aninhadas permitem representar estruturas de dados mais complexas.\n",
    "- Utilizamos índices para acessar elementos dentro das listas aninhadas.\n",
    "- Cada sublista dentro da lista aninhada é tratada como um elemento individual.\n",
    "\n",
    "As listas aninhadas são uma ferramenta poderosa em Python para lidar com dados estruturados de forma organizada e eficiente."
   ]
  },
  {
   "cell_type": "markdown",
   "metadata": {},
   "source": [
    "### Matrizes bidimensionais\n",
    "\n",
    "Uma matriz bidimensional é uma lista de listas. Cada lista dentro da lista é uma linha da matriz."
   ]
  },
  {
   "cell_type": "code",
   "execution_count": 14,
   "metadata": {},
   "outputs": [
    {
     "name": "stdout",
     "output_type": "stream",
     "text": [
      "[[0, 0, 0, 0, 0, 0, 0, 0], [0, 0, 0, 0, 0, 0, 0, 0], [0, 0, 0, 0, 0, 0, 0, 0], [0, 0, 0, 0, 0, 0, 0, 0], [0, 0, 0, 0, 0, 0, 0, 0], [0, 0, 0, 0, 0, 0, 0, 0], [0, 0, 0, 0, 0, 0, 0, 0], [0, 0, 0, 0, 0, 0, 0, 0]]\n"
     ]
    }
   ],
   "source": [
    "tabuleiro = []\n",
    "\n",
    "for i in range(8):\n",
    "    linha = [0 for i in range(8)] # Cria uma lista de 8 elementos com o valor 0.\n",
    "    tabuleiro.append(linha) # Adiciona a lista linha a lista tabuleiro.\n",
    "\n",
    "print(tabuleiro) # Serão exibidas 8 listas com 8 elementos cada.\n",
    "\n",
    "# saída:\n",
    "# [[0, 0, 0, 0, 0, 0, 0, 0],\n",
    "#  [0, 0, 0, 0, 0, 0, 0, 0],\n",
    "#  [0, 0, 0, 0, 0, 0, 0, 0],\n",
    "#  [0, 0, 0, 0, 0, 0, 0, 0],\n",
    "#  [0, 0, 0, 0, 0, 0, 0, 0],\n",
    "#  [0, 0, 0, 0, 0, 0, 0, 0],\n",
    "#  [0, 0, 0, 0, 0, 0, 0, 0],\n",
    "#  [0, 0, 0, 0, 0, 0, 0, 0]]"
   ]
  },
  {
   "cell_type": "markdown",
   "metadata": {},
   "source": [
    "Como as compreensões da lista podem ser aninhadas, podemos reduzir a criação da placa da seguinte maneira:"
   ]
  },
  {
   "cell_type": "code",
   "execution_count": null,
   "metadata": {},
   "outputs": [
    {
     "name": "stdout",
     "output_type": "stream",
     "text": [
      "[[0, 0, 0, 0, 0, 0, 0, 0], [0, 0, 0, 0, 0, 0, 0, 0], [0, 0, 0, 0, 0, 0, 0, 0], [0, 0, 0, 0, 0, 0, 0, 0], [0, 0, 0, 0, 0, 0, 0, 0], [0, 0, 0, 0, 0, 0, 0, 0], [0, 0, 0, 0, 0, 0, 0, 0], [0, 0, 0, 0, 0, 0, 0, 0]]\n"
     ]
    }
   ],
   "source": [
    "tabuleiro = [[0 for i in range(8)] for j in range(8)] # Cria uma lista de 8 listas com 8 elementos cada.\n",
    "\n",
    "print(tabuleiro) # Serão exibidas 8 listas com 8 elementos cada."
   ]
  },
  {
   "cell_type": "markdown",
   "metadata": {},
   "source": [
    "- A variável **`tabuleiro`** - é a lista que será criada.\n",
    "\n",
    "- **`[0 for i in range(8)]`** - especifica os dados que serão armazenados na lista. O valor de 0 será armazenado na lista tabuleiro, a cada iteração.\n",
    "\n",
    "- **`for j in range(8)`** - especifica os elementos que serão iterados. O valor de j será dado pela cláusula for, a cada iteração no intervalo de 0 a 7.\n",
    "\n",
    "Resumidamente a parte interna da compreensão da lista cria uma lista com 8 elementos com o valor 0 e a parte externa cria uma lista com 8 listas com 8 elementos cada.\n",
    "\n",
    "Cada campo contém um par de índices que devem ser dados para acessar o conteúdo do campo:\n",
    "\n",
    "Vamos colocar algumas peças de xadrez no tabuleiro. Primeiro, vamos adicionar todas as torres:"
   ]
  },
  {
   "cell_type": "code",
   "execution_count": null,
   "metadata": {},
   "outputs": [],
   "source": [
    "# [[0, 0, 0, 0, 0, 0, 0, 0],\n",
    "#  [0, 0, 0, 0, 0, 0, 0, 0],\n",
    "#  [0, 0, 0, 0, 0, 0, 0, 0],\n",
    "#  [0, 0, 0, 0, 0, 0, 0, 0],\n",
    "#  [0, 0, 0, 0, 0, 0, 0, 0],\n",
    "#  [0, 0, 0, 0, 0, 0, 0, 0],\n",
    "#  [0, 0, 0, 0, 0, 0, 0, 0],\n",
    "#  [0, 0, 0, 0, 0, 0, 0, 0]]\n",
    "\n",
    "tabuleiro[0][0] = 1#\"Torre Preta\"\n",
    "tabuleiro[0][7] = 1#\"Torre Preta\"\n",
    "tabuleiro[7][0] = 1#\"Torre Branca\"\n",
    "tabuleiro[7][7] = 1#\"Torre Branca\"\n",
    "# Cavalheiros\n",
    "tabuleiro[0][1] = 9#\"Cavalo Preto\"\n",
    "tabuleiro[0][6] = 9#\"Cavalo Preto\"\n",
    "tabuleiro[7][1] = 8#\"Cavalo Branco\"\n",
    "tabuleiro[7][6] = 8#\"Cavalo Branco\"\n",
    "\n",
    "# [[1, 9, 0, 0, 0, 0, 9, 1],\n",
    "#  [0, 0, 0, 0, 0, 0, 0, 0],\n",
    "#  [0, 0, 0, 0, 0, 0, 0, 0],\n",
    "#  [0, 0, 0, 0, 0, 0, 0, 0],\n",
    "#  [0, 0, 0, 0, 0, 0, 0, 0],\n",
    "#  [0, 0, 0, 0, 0, 0, 0, 0],\n",
    "#  [8, 9, 0, 0, 0, 0, 9, 8]]"
   ]
  },
  {
   "cell_type": "markdown",
   "metadata": {},
   "source": [
    "#### Natureza multidimensional das listas: aplicações avançadas\n",
    "\n",
    "Vamos aprofundar a natureza multidimensional das listas. Para encontrar qualquer elemento de uma lista bidimensional, você precisa usar duas coordenadas:\n",
    "\n",
    "- a vertical (número da linha)\n",
    "- e horizontal (número da coluna).\n",
    "  \n",
    "Imagine que você está desenvolvendo um software para uma estação meteorológica automática. O dispositivo registra a temperatura do ar a cada hora e faz isso durante todo o mês. Isso gera um total de 24 × 31 = 744 valores. Vamos tentar criar uma lista capaz de armazenar todos esses resultados.\n",
    "\n",
    "Primeiro, você precisa decidir que tipo de dados seria adequado para essa aplicação. Nesse caso, um float seria o melhor, já que este termômetro é capaz de medir a temperatura com uma precisão de 0,1 ° C.\n",
    "\n",
    "Em seguida, você toma uma decisão arbitrária de que as linhas gravarão as leituras de hora em hora (para que a linha tenha 24 elementos) e cada uma das linhas será atribuída a um dia do mês (vamos supor que cada mês tenha 31 dias, então você precisa de 31 linhas). Aqui está o par apropriado de compreensões (h é para hora, d para dia):"
   ]
  },
  {
   "cell_type": "code",
   "execution_count": 23,
   "metadata": {},
   "outputs": [
    {
     "name": "stdout",
     "output_type": "stream",
     "text": [
      "[[31.33786531178823, 14.709327918201154, 25.943729867015904, 26.813414718821395, 37.43452538668403, 25.283155466268276, 37.21334728484748, 13.999478334676702, 10.97728352586117, 14.784900757237342, 37.52043453480753, 13.932196469064612, 36.45758669781975, 38.63838427081623, 18.318114403863433, 12.28119444852259, 32.989470703455524, 24.12584558406934, 22.67408785465365, 24.174713919933623, 37.087375686083135, 27.1226405737562, 20.330724866623726, 23.287992105380738], [25.090555800659992, 20.80814062004739, 23.601996750288883, 19.44234333221635, 18.91793037060682, 19.48321308815954, 12.51355295938632, 31.09860093279779, 30.276901947948286, 19.297653434568886, 29.142074682852133, 37.91301794024717, 28.68911913428838, 13.988591891185154, 25.501183728529575, 25.00068351218908, 35.56628597391668, 12.437227410070616, 35.53829245442339, 35.02878057494685, 32.63825861000239, 16.575079363726168, 34.50664883302615, 16.824362072728743], [21.409821855407657, 32.34289996064555, 36.077611691385016, 14.29648140312488, 34.52924741227972, 20.302084582460814, 19.04696095126614, 31.138137136245415, 37.33506440218409, 27.669649234391695, 36.561841916316716, 21.63442173415596, 26.13011810985474, 33.45567543607779, 12.225026008779995, 34.49415727176128, 10.76828262775648, 18.384826620052653, 24.238189213930614, 31.007906826857717, 13.257593275096157, 24.363489806143214, 13.284672745462645, 38.427080256386375], [37.77128264212611, 30.73866130003223, 34.121903171984705, 29.90047749055729, 36.70121441440791, 32.902888723980794, 10.531653178432796, 14.701591681913285, 19.069027010453773, 38.54027230863093, 26.563159207117607, 31.061113224112997, 11.87645677113547, 18.678994979767626, 23.178739113605133, 33.424365496280025, 17.478316463039572, 16.105435403686226, 12.801791039977246, 28.90110616347386, 19.799198826897243, 29.403272018535606, 10.749439814902928, 31.168908204602207], [38.1524311853878, 27.883578394194735, 28.593137224255234, 29.55043698532196, 16.429629102694086, 29.846803325751225, 18.20911683218948, 32.43115898836885, 17.284697148562195, 13.25925773786926, 21.307143659545183, 24.344329961509903, 21.378594942201786, 14.240896645427519, 19.9443737248584, 25.03735680854405, 25.62018144687007, 37.238688495183204, 22.28909423432257, 21.198728359370573, 21.563407007406283, 17.63056057274457, 38.943266574092036, 25.972726799953495], [36.214533410521625, 17.842476945561547, 25.247638460234715, 27.532729654201013, 33.807860251062436, 26.72302146339987, 33.674859724555844, 21.422387881717704, 24.33498631759109, 27.012503488294925, 20.96737678355734, 37.94527098206969, 23.41781117704283, 19.237425302788402, 19.238660808175336, 16.150547382110567, 32.980150362570726, 31.675476740839756, 22.54704107787008, 27.556079584708527, 19.028742670729258, 20.024385777639267, 38.47368145790048, 22.16172824542086], [36.59907568664127, 36.17497242832505, 26.30006099179078, 35.77686157926547, 15.33779018001728, 25.686410614994653, 20.87388468479699, 25.88686343281684, 34.3087972857889, 27.141962392240654, 20.18593661004038, 29.619265224385387, 34.595748602850804, 15.657371354333831, 31.463897028818728, 33.728456592073854, 35.50960203681696, 35.865733430081676, 37.425344317106095, 29.30474688696162, 12.405835057708465, 31.88592463005022, 16.76089278482896, 19.766851100965187], [23.2116454571078, 25.730657661218647, 22.960850327595516, 35.15378744631468, 37.75897422962437, 23.668988570415493, 13.99236032680221, 21.24575094411665, 27.88015121194685, 35.1930144355517, 13.89839754016175, 17.484519660775337, 22.556738108987382, 17.975034259780877, 13.342134025675977, 32.09650022648495, 27.128056916325654, 21.752094946348947, 23.602728660800125, 38.73588927784081, 34.91995110024118, 19.0096531898532, 26.567416390585485, 26.65807320653971], [12.75068415721993, 36.14587623185076, 24.28895588920427, 10.636478245537697, 36.67160805014109, 37.49751060773347, 11.129158777104667, 18.01795003698586, 16.659860703844515, 19.827954099919413, 31.440857777389077, 14.190577434829661, 34.36920232678669, 13.005019494305527, 23.580915538116017, 18.56663595652883, 22.672723111091166, 10.503223995062957, 15.189073358641455, 22.869507867596354, 14.250714403411763, 16.663930460263344, 20.732062518484106, 14.806473254062327], [10.573394915342842, 34.36385726683902, 27.322420154214832, 21.220508850770067, 37.195092167700366, 23.78457564431632, 29.295590442890038, 35.918493065406246, 10.499065844745074, 11.88232719942492, 23.880191821858077, 33.073887386873444, 25.190152976642104, 28.71272056287876, 26.695240087534525, 20.304334605720406, 18.636767582553148, 25.73214867550245, 29.52846828768268, 11.150014831325908, 28.110907975036984, 30.90906830590416, 10.070895214763656, 32.627699431286274], [23.249805703830916, 17.67170685541642, 27.167253377225183, 25.04450158084554, 23.446204017439648, 23.718116126222313, 20.940461914231953, 17.22322383282964, 15.01092364790252, 24.380930261763126, 21.663998086028922, 27.407756548456643, 31.21533338088791, 18.212214288259055, 24.44855929940983, 19.99214000840985, 14.484147975901053, 24.405740503475137, 10.536965264783731, 26.40512301982178, 31.85203699492229, 12.123552090466088, 23.106088939656157, 10.491082459338866], [23.757682229202878, 29.896648920133522, 38.80426968553296, 29.409372937191804, 38.446376893837964, 22.52481358214932, 25.03203533424081, 24.533342948750832, 24.645950766521494, 14.045572125154258, 17.732654882514428, 12.347896434089282, 14.014168584164008, 36.51884304969848, 15.290480524696012, 15.124961893484791, 35.09895869664428, 32.23699211616634, 34.69399669034855, 29.165609195711053, 17.03262321002073, 29.090243806948493, 25.40087236715484, 34.53386606690435], [30.028168179373523, 23.158462414586058, 17.363203989601704, 16.1477057108009, 26.950353922674577, 15.748292380082116, 21.22654705141895, 17.943247298633423, 34.66290992470876, 28.60186406571621, 22.98431374878114, 28.208381863441257, 14.035190038766522, 24.288067721934112, 19.688719071669993, 38.9404227541556, 22.126981774603234, 11.332461474255837, 24.376527344005098, 11.235349758114253, 36.37887728529061, 18.77408369903934, 30.013116717027536, 16.80410688586118], [36.267909590667195, 20.111927380303364, 31.612202847321385, 11.040457463696749, 20.511945972969905, 15.931474744256068, 11.553682404225638, 10.792663475383796, 33.98637216536179, 15.093770046964137, 38.751181615505686, 37.5099125347583, 33.241782792238865, 16.59925888759053, 26.197304248114516, 32.94011980207739, 32.887607377349354, 34.755555661871114, 34.763665696410754, 33.823759831510145, 17.39518465316276, 33.61479690521272, 12.349347560057574, 23.61257657084694], [33.32055279058382, 10.877956333306855, 27.51025991811278, 13.731550630715823, 12.2068706891518, 15.014000868242551, 33.05220820741162, 26.83684407754298, 18.150623785480736, 10.348000871271534, 35.467673735595085, 14.420128380276784, 15.784112833959538, 15.717620108895858, 26.179137037164555, 10.993334299829638, 23.848683361859806, 13.592317627350965, 22.040928603416283, 10.388329971348245, 37.96863971976664, 15.393769726103464, 33.926132385046444, 10.235407624114865], [16.59519113403534, 28.238007450472036, 10.509792125236292, 19.386992323883405, 34.69465240203604, 24.07218357915325, 35.74854307835213, 26.60317103913254, 17.928633423906696, 11.860179424148415, 31.50171793210845, 27.96856999847572, 21.55205884886118, 22.12231810117582, 31.867168452581552, 20.00769655288759, 27.225134572525683, 31.365203434995344, 10.059388913394216, 36.79188606298363, 12.765307837934863, 13.197844849316532, 18.795303147452486, 11.658228468077361], [28.65893040183863, 12.531439436959925, 13.815262328925117, 25.18678073636232, 21.275666655768468, 30.809907034695073, 11.382255174584271, 27.306404301379015, 21.83922307176911, 13.94840921732198, 24.806371756588764, 30.489871786532902, 17.91887095009531, 10.323675141164033, 27.94773140921947, 30.71759883541209, 19.72541806382474, 16.57988488453023, 14.685099468136453, 16.9758470006579, 17.096946099678043, 22.745003762134786, 33.38879939497683, 11.556441734190843], [37.43760620900233, 25.40269070984737, 33.778888342976636, 26.671649029853846, 32.15656971739514, 27.31006353406056, 13.134908265198575, 37.79743154346677, 14.337597718864249, 18.580652842440102, 11.271629195123712, 12.001230221629434, 38.8785809915243, 11.76316167514105, 18.85041991119585, 22.19757445613122, 15.280870464185334, 17.138819163921752, 23.021200005989435, 38.0758180239397, 21.46810024143479, 21.850098858501653, 10.76585182401571, 26.8602312228191], [38.6587915669449, 20.253924306694124, 20.112550840792576, 36.48683629243391, 29.282700272104524, 35.64075361810988, 19.41455262385538, 36.54469403801239, 22.06203289797667, 25.99894579342515, 21.9211170034248, 29.874586787059528, 16.880296581035164, 23.464032125438898, 22.595759753216118, 35.13952924538106, 29.734242083181194, 20.006644555202, 14.593064826572625, 37.83097796093253, 35.01628632434068, 10.145887378397164, 34.14691649931106, 37.99544580107067], [21.674883160812428, 32.78062038260784, 35.7376035719294, 30.694745105313345, 26.80870896051174, 26.771144494396495, 27.67604456210143, 37.543910018168816, 10.90837700889013, 22.362026507980453, 17.786492084424168, 14.957125654864392, 19.122293097880004, 10.999453683961677, 24.187842480018883, 19.154992860169244, 22.14672776139988, 29.03310831628599, 35.444364491134124, 14.282325519084893, 37.87118835788634, 19.581928193395672, 38.995843687134006, 25.477138667517707], [11.25612521690233, 27.465146073638916, 33.37853077739334, 38.229588148105336, 33.32230124157673, 28.32209762978487, 31.05482961911489, 32.522649053304924, 12.662111332502413, 37.593747036542595, 27.791856430570096, 24.215763841525728, 29.63426797336073, 14.779510786876738, 33.39127777352351, 11.049991335422375, 11.675568916998351, 20.366197921811665, 38.70557169838375, 18.889654113512044, 26.320026098908233, 29.848986156554115, 23.58387787899412, 36.24631700748883], [20.05679527044207, 22.664211161279965, 32.183723670464886, 19.45496137382526, 32.694825770070466, 15.281501132231552, 16.759421519387725, 35.607817541283865, 37.3307589941259, 34.143245058295406, 32.966743768702415, 30.786508207549186, 24.853353605368433, 31.771905484511617, 27.999380715926883, 32.52113556682197, 14.101637991421994, 15.245253834938469, 21.855436526608337, 35.47850267006038, 27.747447566293896, 21.501025008447368, 30.636574857761577, 16.632743284780936], [14.291251420918524, 24.968405715243115, 14.970283250967041, 16.22961404506819, 12.334168418096716, 15.419639676483772, 29.693341835393664, 18.455011543718363, 11.359278167807975, 30.705115706653686, 26.227459999718132, 25.371278863795972, 18.05297818881653, 34.09684390053596, 13.339402496358028, 36.70948916579731, 38.852913161040995, 37.991273170851876, 27.110928406995132, 13.739592249702019, 36.28630535816923, 28.521375703136332, 32.50554576658155, 31.099687999782347], [13.604011871022596, 18.684020349011384, 19.28411503397973, 18.073050327475332, 25.563473952421035, 33.350204714853035, 15.104725534349575, 14.473586007843917, 18.75357719285182, 37.99012366713286, 13.085738988178448, 37.709325073292334, 32.278038136757594, 30.049444666317076, 22.81539751225084, 38.94295831222455, 17.559193639439904, 15.939525930599018, 17.525687534906567, 38.24727937177668, 12.681959944689432, 29.641582062783325, 26.71198858944103, 13.712568644200784], [32.52407115349399, 31.279009881090833, 29.862830830684413, 17.857654564853448, 23.357627949278502, 31.456629612529426, 29.31259261567883, 16.617966203178973, 34.13615851628436, 16.025757312774104, 20.13600942067508, 20.819632101921663, 23.383918100531886, 34.95225951841179, 37.72053045888086, 15.140048037782279, 31.264978306837346, 18.944660079973996, 18.775276571489016, 18.683081946584128, 29.44148494655488, 10.324682643789897, 20.11950980137793, 20.337613064817337], [31.309949883421925, 12.4869831219944, 26.055140870193725, 19.361035102449478, 19.168632727934163, 33.49860718854314, 33.30530702224573, 38.958497983442136, 35.715346907638775, 19.83073983297492, 10.838498227369339, 27.104521505136756, 24.367260901741524, 23.309934807702096, 27.43296330553926, 19.405492870434465, 10.405401696741343, 28.568807412170834, 25.32460948539923, 12.245969704012616, 29.91011309755174, 10.803857820327764, 12.049248318586098, 31.458307932319805], [31.75379454227234, 20.286231887013905, 34.47873412631453, 27.64107582882813, 24.267063714943873, 24.90811835246678, 21.308603662135404, 30.08878036763984, 16.704449029331034, 23.394292614832302, 26.058140433280762, 36.44425962271217, 10.668588016524842, 15.862995087364768, 23.500175682433003, 30.920006496621994, 10.51414270837525, 24.842248830944662, 21.81544751106318, 15.217311516356915, 21.559952656367937, 24.230943687789328, 14.588903301179165, 30.31714050562917], [21.248218197626947, 26.967706589318958, 19.710007935282846, 35.300649214795, 21.970254213072288, 12.629962469949458, 24.45128679761722, 16.75354806619536, 36.7762570593345, 20.78040638138541, 37.86969239876818, 16.826155513692356, 20.686410476940182, 15.100338122550822, 19.489599658227753, 20.439402960272034, 26.619923827486154, 19.7908892458956, 27.585899962935112, 17.82196068066547, 17.63040436216492, 22.231784861158168, 29.77081224455564, 11.658818962548395], [37.105543742554325, 16.49214919073344, 22.87332754418256, 21.817594738995634, 24.257062319767982, 36.43740706518578, 34.7856744132921, 15.270625494745596, 17.86211040794401, 10.75845484877939, 31.5850789833468, 14.489370011395824, 38.12080946150199, 28.1673586666897, 34.019106616565324, 25.688015197819297, 36.531265851488904, 13.999739941470072, 32.939810778564876, 11.037436955545363, 19.417420980564273, 13.2738899956333, 31.823497749322204, 12.372398978691304], [21.870864607271585, 19.124479314490856, 30.548806563299124, 29.560870957435228, 14.10185160351271, 21.271147676584945, 14.046390245501616, 34.34216505317307, 12.870442707927426, 34.93221222528564, 24.069010061601478, 16.776867078083573, 20.0128845506229, 33.00417381450626, 16.521304462124316, 37.93192987090902, 33.06573957317744, 19.29309571932081, 19.068628780440342, 32.31666049515496, 26.98342072210281, 15.07396159875966, 37.00441294726089, 24.63620009915249], [21.087743810547437, 26.79372101382758, 20.34447595381755, 18.66093177488937, 27.067233065560178, 19.439522254926445, 37.51817578746068, 16.433548659332182, 15.65521880466255, 11.891060596266188, 14.294922143915809, 17.243314799331813, 21.46131323908446, 31.269709453125035, 37.17469177094205, 13.058076497478234, 32.98863712846402, 26.470054523317156, 22.621311679315948, 23.7220646532455, 28.639705030163856, 29.528789463470975, 36.82561610352767, 34.53889668598592]]\n"
     ]
    }
   ],
   "source": [
    "import random\n",
    "\n",
    "# Aqui criamos uma lista com 24 elementos, cada um com um valor aleatório entre 0.0 e 50.0.\n",
    "temperaturas = [[random.uniform(10.0, 39.0) for h in range(24)] for d in range(31)]\n",
    "\n",
    "# random.uniform(0.0, 50.0) - gera um número aleatório uniformemente distribuído entre 0.0 e 50.0.\n",
    "\n",
    "# uniform() é um método da classe random que gera um número aleatório com distribuição uniforme entre dois valores, start e stop. A diferença para randint() é que randint() gera números inteiros, enquanto uniform() gera números de ponto flutuante.\n",
    "\n",
    "# [random.uniform(0.0, 50.0) for h in range(24)] - cria uma lista com 24 elementos, cada um com um valor aleatório entre 0.0 e 50.0.\n",
    "# for d in range(31) - repete o processo 31 vezes, criando uma lista de 31 listas, cada uma com 24 elementos.\n",
    "\n",
    "print(temperaturas) # Serão exibidas 31 listas com 24 elementos cada.\n",
    "\n",
    "# Para limitar "
   ]
  },
  {
   "cell_type": "markdown",
   "metadata": {},
   "source": [
    "Toda a matriz está preenchida com zeros agora. Você pode supor que ela é atualizada automaticamente usando agentes de hardware especiais. O que você precisa fazer é esperar que a matriz seja preenchida com medidas.\n",
    "\n",
    "Agora é hora de determinar a temperatura média mensal ao meio-dia. Adicione todas as 31 leituras gravadas ao meio-dia e divida a soma por 31. Você pode supor que a temperatura da meia-noite é armazenada primeiro. Aqui está o código relevante:"
   ]
  },
  {
   "cell_type": "code",
   "execution_count": 24,
   "metadata": {},
   "outputs": [
    {
     "name": "stdout",
     "output_type": "stream",
     "text": [
      "Temperatura média ao meio-dia: 24.65\n"
     ]
    }
   ],
   "source": [
    "total = 0.0 # Variável para armazenar a soma das temperaturas.\n",
    "\n",
    "# Loop através de cada dia na lista temperaturas.\n",
    "for dia in temperaturas: # Loop através da lista temperaturas.\n",
    "    total += dia[11] # Adiciona o valor da temperatura ao meio-dia a variável total.\n",
    "\n",
    "media = total / 31 # Calcula a temperatura média ao meio-dia.\n",
    "\n",
    "print(f\"Temperatura média ao meio-dia: {media:.2f}\") # Exibe a temperatura média ao meio-dia com duas casas decimais.\n"
   ]
  },
  {
   "cell_type": "markdown",
   "metadata": {},
   "source": [
    "Observação: a variável day usada pelo loop for não é escalar; cada passagem pela matriz day itera por todas as linhas na temps a atribui às linhas subsequentes da matriz; portanto, é uma lista. Ele precisa ser indexado com 11 para acessar o valor de temperatura medido ao meio-dia. Em outras palavras, day[11] é um elemento de uma lista que é um elemento de outra lista.\n",
    "\n",
    "Agora, encontre a temperatura mais alta durante todo o mês - veja o código:"
   ]
  },
  {
   "cell_type": "code",
   "execution_count": 25,
   "metadata": {},
   "outputs": [
    {
     "name": "stdout",
     "output_type": "stream",
     "text": [
      "A maior temperatura foi: 39.00\n"
     ]
    }
   ],
   "source": [
    "maior_temperatura = -100.0 # Variável para armazenar a maior temperatura.\n",
    "\n",
    "for dia in temperaturas: # Loop através da lista temperaturas.\n",
    "    for temperatura in dia: # Loop através da lista dia.\n",
    "        if temperatura > maior_temperatura: # Se o valor da temperatura for maior que o valor da variável maior_temperatura:\n",
    "            maior_temperatura = temperatura # Atribui o valor da temperatura a variável maior_temperatura.\n",
    "\n",
    "print(f\"A maior temperatura foi: {maior_temperatura:.2f}\")\n",
    "\n",
    "# A variável dia itera por todas as 31 linhas na matriz temperaturas. Cada dia (dia) é uma lista de 24 elementos (horas). A variável temperatura itera por todos os 24 elementos da linha atual (dia) que são valores de temperatura.\n"
   ]
  },
  {
   "cell_type": "markdown",
   "metadata": {},
   "source": [
    "O Python não limita a profundidade da inclusão na lista. Aqui você pode ver um exemplo de uma matriz tridimensional:\n",
    "\n",
    "Imagine um hotel. É um grande hotel composto de três edifícios, de 15 andares cada. Há 20 salas em cada andar. Para isso, você precisa de uma matriz que possa coletar e processar informações sobre as salas ocupadas/livres.\n",
    "\n",
    "1. Primeira etapa - o tipo dos elementos da matriz. Nesse caso, um valor booleano (True/False) seria adequado.\n",
    "\n",
    "2. Etapa dois - Análise calma da situação. Resuma as informações disponíveis: três edifícios, 15 andares, 20 salas."
   ]
  },
  {
   "cell_type": "code",
   "execution_count": null,
   "metadata": {},
   "outputs": [],
   "source": [
    "rooms = [[[False for r in range(20)] for f in range(15)] for t in range(3)]"
   ]
  },
  {
   "cell_type": "markdown",
   "metadata": {},
   "source": [
    "A lista rooms é uma lista tridimensional. A primeira dimensão (índice 0) representa o número do edifício (0, 1 ou 2). A segunda dimensão (índice 1) representa o número do andar (0 a 14). A terceira dimensão (índice 2) representa o número da sala (0 a 19).\n",
    "\n",
    "Agora você pode reservar um quarto para dois noivos: no segundo edifício, no décimo andar, quarto 14:"
   ]
  },
  {
   "cell_type": "code",
   "execution_count": null,
   "metadata": {},
   "outputs": [
    {
     "name": "stdout",
     "output_type": "stream",
     "text": [
      "20\n"
     ]
    }
   ],
   "source": [
    "rooms[1][9][13] = True # Reserva o quarto 14 do décimo andar do segundo edifício.\n",
    "\n",
    "# Verifique se há vagas no 15º andar do terceiro edifício:\n",
    "vacancy = 0\n",
    "\n",
    "for room_number in range(20):\n",
    "    if not rooms[2][14][room_number]:\n",
    "        vacancy += 1\n",
    "        \n",
    "print(vacancy) # 20"
   ]
  },
  {
   "cell_type": "markdown",
   "metadata": {},
   "source": [
    "#### Listas - alguns programas simples\n",
    "\n",
    "Agora, queremos mostrar alguns programas simples que utilizam listas. \n",
    "\n",
    "O primeiro deles tenta encontrar o maior valor na lista. Veja o código no editor."
   ]
  },
  {
   "cell_type": "code",
   "execution_count": null,
   "metadata": {},
   "outputs": [
    {
     "name": "stdout",
     "output_type": "stream",
     "text": [
      "17\n"
     ]
    }
   ],
   "source": [
    "my_list = [17, 3, 11, 5, 1, 9, 7, 15, 13]\n",
    "\n",
    "largest = my_list[0] # Assume temporariamente que o primeiro elemento é o maior.\n",
    "\n",
    "for i in range(1, len(my_list)): # Loop através da lista.\n",
    "  # O primeiro argumento de range() é 1, porque o primeiro elemento já foi assumido como o maior. Então, não precisamos compará-lo com ele mesmo.Seguimos a partir do segundo até o último elemento, definido por len(my_list) que retorna o tamanho da lista.\n",
    "  \n",
    "    if my_list[i] > largest: # Se o elemento atual for maior que o maior encontrado até agora:\n",
    "      \n",
    "        largest = my_list[i] # Atualiza o maior valor encontrado.\n",
    "        \n",
    "print(largest)"
   ]
  },
  {
   "cell_type": "markdown",
   "metadata": {},
   "source": [
    "Agora vamos encontrar a localização de um determinado elemento dentro de uma lista:"
   ]
  },
  {
   "cell_type": "code",
   "execution_count": null,
   "metadata": {},
   "outputs": [
    {
     "name": "stdout",
     "output_type": "stream",
     "text": [
      "Elemento encontrado no índice 4\n"
     ]
    }
   ],
   "source": [
    "my_list = [1, 2, 3, 4, 5, 6, 7, 8, 9, 10]\n",
    "\n",
    "to_find = 5 # O elemento que estamos procurando.\n",
    "\n",
    "found = False # Define como False até que o elemento seja encontrado.\n",
    "\n",
    "for i in range(len(my_list)):\n",
    "    found = my_list[i] == to_find # Verifica cada elemento. Se for encontrado, found é True.\n",
    "    \n",
    "    if found: # Se found for True:\n",
    "        break # Sai do loop.\n",
    "\n",
    "if found: # Se found for True:\n",
    "    print(\"Elemento encontrado no índice\", i) # Imprime o índice onde o elemento foi encontrado.\n",
    "else:\n",
    "    print(\"ausente\")"
   ]
  },
  {
   "cell_type": "markdown",
   "metadata": {},
   "source": [
    "O valor de destino é armazenado na variável to_find;\n",
    "O status atual da pesquisa é armazenado na variável found (True/False)\n",
    "\n",
    "Quando found se torna True, o loop for é encerrado.\n",
    "\n",
    "O python oferece uma maneira mais simples de fazer isso: o operador in.\n",
    "\n",
    "Também existem métodos de lista que podem fazer isso."
   ]
  },
  {
   "cell_type": "code",
   "execution_count": null,
   "metadata": {},
   "outputs": [
    {
     "name": "stdout",
     "output_type": "stream",
     "text": [
      "Encontrei no índice 4\n"
     ]
    }
   ],
   "source": [
    "# O método index() retorna o índice do primeiro elemento com um valor específico.\n",
    "print(f'Encontrei no índice {my_list.index(to_find)}') # outputs: 4"
   ]
  },
  {
   "cell_type": "markdown",
   "metadata": {},
   "source": [
    "Vamos supor que você tenha escolhido os seguintes números na loteria: \n",
    "\n",
    "3, 7, 11, 42, 34, 49.\n",
    "\n",
    "Os números que foram sorteados são: \n",
    "\n",
    "5, 11, 9, 42, 3, 49.\n",
    "\n",
    "A pergunta é: quantos números você acertou?"
   ]
  },
  {
   "cell_type": "code",
   "execution_count": null,
   "metadata": {},
   "outputs": [
    {
     "name": "stdout",
     "output_type": "stream",
     "text": [
      "4\n"
     ]
    }
   ],
   "source": [
    "acertos = 0 # Número de acertos.\n",
    "\n",
    "drawn = [5, 11, 9, 42, 3, 49] # Números sorteados.\n",
    "\n",
    "bets = [3, 7, 11, 42, 34, 49] # Números apostados.\n",
    "\n",
    "for number in bets: # Loop através dos números apostados.\n",
    "  \n",
    "    if number in drawn: # Se o número apostado estiver entre os sorteados:\n",
    "      \n",
    "        acertos += 1 # Atualiza o número de acertos.\n",
    "\n",
    "print(acertos)"
   ]
  },
  {
   "cell_type": "markdown",
   "metadata": {},
   "source": [
    "## Listas em aplicativos avançados\n",
    "\n",
    "### Listas em listas\n",
    "\n",
    "As listas podem ser armazenadas em listas - isso é chamado de lista aninhada.\n",
    "\n",
    "Listas aninhadas, também conhecidas como listas dentro de listas, são estruturas de dados em que uma lista contém outras listas como elementos. Isso permite criar estruturas mais complexas, representando dados em várias dimensões. Vamos explorar esse conceito com uma explicação didática e um exemplo prático.\n",
    "\n",
    "Em Python, uma lista é uma coleção ordenada de elementos que pode conter diferentes tipos de dados. Por exemplo:"
   ]
  },
  {
   "cell_type": "code",
   "execution_count": null,
   "metadata": {},
   "outputs": [],
   "source": [
    "animais = ['cachorro', 'gato', 'pássaro']"
   ]
  },
  {
   "cell_type": "markdown",
   "metadata": {},
   "source": [
    "Agora, imagine que cada elemento da lista acima pode ter informações adicionais, como idade e cor. Em vez de criar duas listas separadas (uma para os tipos de animais e outra para as informações adicionais), podemos usar listas aninhadas:"
   ]
  },
  {
   "cell_type": "code",
   "execution_count": null,
   "metadata": {},
   "outputs": [],
   "source": [
    "animais_info = [['cachorro', 3, 'marrom'], ['gato', 2, 'preto'], ['pássaro', 1, 'verde']]"
   ]
  },
  {
   "cell_type": "markdown",
   "metadata": {},
   "source": [
    "Aqui, cada sublista contém o nome do animal, idade e cor. Esta é uma lista aninhada.\n",
    "\n",
    "Lista aninhada com informações sobre animais"
   ]
  },
  {
   "cell_type": "code",
   "execution_count": null,
   "metadata": {},
   "outputs": [],
   "source": [
    "animais_info = [['cachorro', 3, 'marrom'], ['gato', 2, 'preto'], ['pássaro', 1, 'verde']]"
   ]
  },
  {
   "cell_type": "markdown",
   "metadata": {},
   "source": [
    "Acessando informações específicas"
   ]
  },
  {
   "cell_type": "code",
   "execution_count": null,
   "metadata": {},
   "outputs": [],
   "source": [
    "\n",
    "primeiro_animal = animais_info[0] # Primeiro elemento da lista animais_info"
   ]
  },
  {
   "cell_type": "code",
   "execution_count": null,
   "metadata": {},
   "outputs": [
    {
     "name": "stdout",
     "output_type": "stream",
     "text": [
      "Nome: cachorro\n"
     ]
    }
   ],
   "source": [
    "nome_do_primeiro_animal = primeiro_animal[0] # Primeiro elemento da lista primeiro_animal\n",
    "\n",
    "print(f\"Nome: {nome_do_primeiro_animal}\")"
   ]
  },
  {
   "cell_type": "code",
   "execution_count": null,
   "metadata": {},
   "outputs": [
    {
     "name": "stdout",
     "output_type": "stream",
     "text": [
      "Idade: 3 anos\n"
     ]
    }
   ],
   "source": [
    "idade_do_primeiro_animal = primeiro_animal[1] # Segundo elemento da lista primeiro_animal\n",
    "\n",
    "print(f\"Idade: {idade_do_primeiro_animal} anos\")"
   ]
  },
  {
   "cell_type": "code",
   "execution_count": null,
   "metadata": {},
   "outputs": [
    {
     "name": "stdout",
     "output_type": "stream",
     "text": [
      "Cor: marrom\n"
     ]
    }
   ],
   "source": [
    "cor_do_primeiro_animal = primeiro_animal[2] # Terceiro elemento da lista primeiro_animal\n",
    "\n",
    "print(f\"Cor: {cor_do_primeiro_animal}\")"
   ]
  },
  {
   "cell_type": "markdown",
   "metadata": {},
   "source": [
    "Cada lista dentro da lista é um elemento, sendo assim recebe um índice que pode ser acessado. Além disso, cada elemento dentro da lista aninhada também pode ser acessado por meio de um índice. Por exemplo:"
   ]
  },
  {
   "cell_type": "code",
   "execution_count": null,
   "metadata": {},
   "outputs": [
    {
     "name": "stdout",
     "output_type": "stream",
     "text": [
      "marrom\n"
     ]
    }
   ],
   "source": [
    "print(animais_info[0][2]) # Acessando o terceiro elemento da primeira lista da lista animais_info."
   ]
  }
 ],
 "metadata": {
  "kernelspec": {
   "display_name": "Python 3",
   "language": "python",
   "name": "python3"
  },
  "language_info": {
   "codemirror_mode": {
    "name": "ipython",
    "version": 3
   },
   "file_extension": ".py",
   "mimetype": "text/x-python",
   "name": "python",
   "nbconvert_exporter": "python",
   "pygments_lexer": "ipython3",
   "version": "3.12.1"
  }
 },
 "nbformat": 4,
 "nbformat_minor": 2
}
