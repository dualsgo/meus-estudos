{
 "cells": [
  {
   "cell_type": "markdown",
   "metadata": {},
   "source": [
    "### **`Compreendendo o Comportamento das Listas em Python`**\n",
    "\n",
    "Ao trabalhar com listas em Python, é importante entender como elas são armazenadas na memória e como as operações afetam variáveis que compartilham o mesmo conteúdo. Vamos explorar isso com um exemplo prático:\n",
    "\n",
    "```python\n",
    "lista_1 = [1]  # Cria a lista chamada lista_1 com um elemento [1]\n",
    "\n",
    "lista_2 = lista_1  # Atribui a lista_1 a lista_2 - [1]\n",
    "\n",
    "lista_1[0] = 2  # Altera o único elemento de lista_1 para 2\n",
    "\n",
    "print(lista_2)  # Imprime a lista_2 - [2]\n",
    "```\n",
    "\n",
    "O resultado inesperado é `[2]`, não `[1]`, como poderíamos imaginar. Vamos entender por que isso acontece.\n",
    "\n",
    "### Comportamento das Listas em Python\n",
    "\n",
    "- **Armazenamento em Memória:**\n",
    "  - O nome de uma lista em Python é um identificador para o local na memória onde a lista é armazenada.\n",
    "  - Quando atribuímos uma lista a outra variável, estamos apenas copiando o identificador da lista, não o conteúdo da lista em si.\n",
    "\n",
    "### Consequências da Referência Compartilhada\n",
    "\n",
    "- **Referência Compartilhada:**\n",
    "  - Ambas as variáveis `lista_1` e `lista_2` apontam para o mesmo local na memória, onde a lista `[1]` está armazenada.\n",
    "  - Portanto, qualquer modificação feita em uma variável afeta a outra, pois elas compartilham o mesmo conteúdo.\n",
    "  - Modificar `lista_1` para `[2]` também modifica `lista_2`, pois ambas apontam para o mesmo local de memória.\n",
    "\n",
    "### Conclusão\n",
    "\n",
    "Ao lidar com listas em Python, lembre-se de que a atribuição de uma lista a outra variável não cria uma cópia separada da lista original. Em vez disso, ambas as variáveis compartilham o mesmo conteúdo na memória. Isso pode levar a comportamentos inesperados se não for devidamente considerado ao escrever código que envolve manipulação de listas."
   ]
  },
  {
   "cell_type": "markdown",
   "metadata": {},
   "source": [
    "### **`Os poderes do fatiamento`**\n",
    "\n",
    "Felizmente, a solução está ao seu alcance - é chamada de fatia.\n",
    "\n",
    "Uma fatia é um elemento da sintaxe do Python que permite fazer uma cópia totalmente nova de uma lista ou de partes de uma lista.\n",
    "\n",
    "Na verdade, ele copia o conteúdo da lista, não o nome da lista."
   ]
  },
  {
   "cell_type": "code",
   "execution_count": 25,
   "metadata": {},
   "outputs": [
    {
     "name": "stdout",
     "output_type": "stream",
     "text": [
      "[1]\n"
     ]
    }
   ],
   "source": [
    "lista_1 = [1] # Como antes, cria uma lista chamada lista_1 com um elemento [1];\n",
    "\n",
    "lista_2 = lista_1[:] # Agora com o fatiamento, cria uma cópia completa da lista_1 e atribui a lista_2 - [1];\n",
    "\n",
    "lista_1[0] = 2 # Sem alterar a lista_2, altera o único elemento de lista_1 para 2;\n",
    "\n",
    "print(lista_2) # Ao imprimir a lista_2, o resultado é [1], já que a lista_2 não foi alterada."
   ]
  },
  {
   "cell_type": "markdown",
   "metadata": {},
   "source": [
    "Esta parte discreta do código descrito como **`[:]`** é capaz de produzir uma nova lista.\n",
    "\n",
    "A sintaxe é a seguinte: **`minha_lista[start:end]`**\n",
    "\n",
    "`start` é o índice do primeiro elemento incluído na fatia;\n",
    "`end` é o índice do primeiro elemento não incluído na fatia.\n",
    "\n",
    "Se especificarmos o fim, mas não o início, a fatia começará no início da lista.\n",
    "\n",
    "Se especificarmos o início, mas não o fim, a fatia terminará no final da lista.\n",
    "\n",
    "Sendo assim, a fatia `[:]` cria uma cópia completa da lista. (Inicio ao fim)\n",
    "\n",
    "Lembrando que o fim é o índice do primeiro elemento não incluído na fatia. É como fim - 1; Se dizemos 1 até 10, o 10 não está incluído, então é 9 (Fica subentendido 10 - 1)"
   ]
  },
  {
   "cell_type": "markdown",
   "metadata": {},
   "source": [
    "## `Fatias - índices negativos`\n",
    "\n",
    "Quando usamos índices negativos, começamos a contar a partir do final da lista.\n",
    "\n",
    "Um `step` negativo indica que estamos percorrendo a lista de trás para frente."
   ]
  },
  {
   "cell_type": "code",
   "execution_count": 26,
   "metadata": {},
   "outputs": [
    {
     "name": "stdout",
     "output_type": "stream",
     "text": [
      "[8, 6, 4]\n",
      "[]\n",
      "[2, 4, 6]\n"
     ]
    }
   ],
   "source": [
    "minha_lista = [10, 8, 6, 4, 2]\n",
    "\n",
    "nova_lista = minha_lista[1:-1] # cria uma nova lista sem o primeiro e o último elemento da lista original. O primerio elemento é 10 e o último é 2.\n",
    "# Se o start especificar um elemento além do descrito no end (do início da lista), a fatia estará vazia:\n",
    "print(nova_lista) # [8, 6, 4]\n",
    "\n",
    "nova_lista = minha_lista[-1:1] # cria uma nova lista vazia já que o start é o último elemento da lista e o end é o segundo elemento da lista. Como o start é maior que o end, a fatia estará vazia. Lembre-se que o step é 1 por padrão e o índice negativo significa que a contagem começa do final da lista.\n",
    "print(nova_lista) # []\n",
    "\n",
    "nova_lista = minha_lista[-1:1:-1] # cria uma nova lista com os elementos da lista original na ordem inversa. O start é o último elemento da lista, o end é o segundo elemento da lista e o step é -1. O start é maior que o end, mas o step é negativo.\n",
    "print(nova_lista) # [2, 4, 6]"
   ]
  },
  {
   "cell_type": "markdown",
   "metadata": {},
   "source": [
    "### `Mais sobre a instrução del`\n",
    "\n",
    "A instrução del descrita anteriormente é capaz de excluir os elementos de uma lista de uma só vez e ela também pode excluir fatias:"
   ]
  },
  {
   "cell_type": "code",
   "execution_count": 27,
   "metadata": {},
   "outputs": [
    {
     "name": "stdout",
     "output_type": "stream",
     "text": [
      "[10, 4, 2]\n"
     ]
    }
   ],
   "source": [
    "minha_lista = [10, 8, 6, 4, 2]\n",
    "del minha_lista[1:3] # Exclui 8 e 6 da lista.\n",
    "print(minha_lista)  # outputs: [10, 4, 2]"
   ]
  },
  {
   "cell_type": "code",
   "execution_count": 28,
   "metadata": {},
   "outputs": [
    {
     "name": "stdout",
     "output_type": "stream",
     "text": [
      "[]\n"
     ]
    }
   ],
   "source": [
    "# Também é possível excluir todos os elementos de uma só vez:\n",
    "minha_lista = [10, 8, 6, 4, 2]\n",
    "\n",
    "# Exclui todos os elementos da lista. Restando uma lista vazia. Funciona como o método clear().\n",
    "del minha_lista[:]\n",
    "# Sem este [:] o comando del excluiria a lista e não apenas os elementos.\n",
    "\n",
    "print(minha_lista) # outputs: []"
   ]
  },
  {
   "cell_type": "markdown",
   "metadata": {},
   "source": [
    "A remoção da fatia do código muda bastante de significado. A instrução del excluirá a lista em si, não seu conteúdo."
   ]
  },
  {
   "cell_type": "code",
   "execution_count": 29,
   "metadata": {},
   "outputs": [
    {
     "ename": "NameError",
     "evalue": "name 'minha_lista' is not defined",
     "output_type": "error",
     "traceback": [
      "\u001b[1;31m---------------------------------------------------------------------------\u001b[0m",
      "\u001b[1;31mNameError\u001b[0m                                 Traceback (most recent call last)",
      "Cell \u001b[1;32mIn[29], line 4\u001b[0m\n\u001b[0;32m      1\u001b[0m minha_lista \u001b[38;5;241m=\u001b[39m [\u001b[38;5;241m10\u001b[39m, \u001b[38;5;241m8\u001b[39m, \u001b[38;5;241m6\u001b[39m, \u001b[38;5;241m4\u001b[39m, \u001b[38;5;241m2\u001b[39m]\n\u001b[0;32m      2\u001b[0m \u001b[38;5;28;01mdel\u001b[39;00m minha_lista \u001b[38;5;66;03m# Exclui a lista inteira. Não restará nada, então é como se a lista nunca tivesse sido criada.\u001b[39;00m\n\u001b[1;32m----> 4\u001b[0m \u001b[38;5;28mprint\u001b[39m(\u001b[43mminha_lista\u001b[49m) \u001b[38;5;66;03m# Se tentarmos imprimir a lista recebemos oerro - NameError: name 'minha_lista' is not defined\u001b[39;00m\n",
      "\u001b[1;31mNameError\u001b[0m: name 'minha_lista' is not defined"
     ]
    }
   ],
   "source": [
    "minha_lista = [10, 8, 6, 4, 2]\n",
    "del minha_lista # Exclui a lista inteira. Não restará nada, então é como se a lista nunca tivesse sido criada.\n",
    "\n",
    "print(minha_lista) # Se tentarmos imprimir a lista recebemos oerro - NameError: name 'minha_lista' is not defined"
   ]
  },
  {
   "cell_type": "markdown",
   "metadata": {},
   "source": [
    "### `Os operadores in e not in`\n",
    "\n",
    "O Python oferece dois operadores muito eficientes, capazes de examinar a lista para verificar se um valor específico é armazenado ou não na lista.\n",
    "\n",
    "\n",
    "*elemento in minha_lista:*\n",
    "- Retorna `True` se o elemento `estiver` na lista minha_lista\n",
    "\n",
    "*elemento not in minha_lista:*\n",
    "- Retorna `True` se o elemento `não estiver` na lista minha_lista"
   ]
  },
  {
   "cell_type": "code",
   "execution_count": null,
   "metadata": {},
   "outputs": [],
   "source": [
    "minha_lista = [0, 3, 12, 8, 2]\n",
    "\n",
    "print(5 in minha_lista) # False - 5 não está na lista\n",
    "print(5 not in minha_lista) # True - 5 não está na lista\n",
    "print(12 in minha_lista) # True - 12 está na lista"
   ]
  },
  {
   "cell_type": "markdown",
   "metadata": {},
   "source": [
    "## **Filtrando com `if` e `List Comprehension`**\n",
    "\n",
    "`List comprehension` é uma técnica poderosa em Python para criar novas listas filtrando elementos de uma lista existente. Permite criar listas de forma concisa e eficiente. Vamos entender a sintaxe e aplicação dessa técnica com alguns exemplos.\n",
    "\n",
    "**Sintaxe Básica:**\n",
    "\n",
    "*A sintaxe geral de list comprehension é a seguinte:*\n",
    "```python\n",
    "nova_lista = [expressão for elemento in iterável if condição]\n",
    "```\n",
    "\n",
    "- `nova_lista`: Lista resultante após aplicar a operação.\n",
    "- `expressão`: Operação a ser aplicada a cada elemento.\n",
    "- `elemento`: Variável que representa cada elemento do iterável.\n",
    "- `iterável`: Lista, tupla, conjunto, ou outra estrutura iterável.\n",
    "- `condição` (opcional): Filtra os elementos de acordo com uma condição."
   ]
  },
  {
   "cell_type": "code",
   "execution_count": null,
   "metadata": {},
   "outputs": [
    {
     "name": "stdout",
     "output_type": "stream",
     "text": [
      "[29, 30, 35, 47]\n"
     ]
    }
   ],
   "source": [
    "# Exemplo 1: Filtrando Pontuações Maiores que 20\n",
    "# Neste exemplo, high_scores é uma nova lista que contém apenas as pontuações maiores que 20. Utilizamos uma condição if score > 20 para filtrar os elementos durante a criação da lista.\n",
    "\n",
    "# Lista de pontuações - é o iterável\n",
    "scores = [12, 47, 30, 29, 19, 35]  \n",
    "\n",
    "# high_scores é a lista resultante\n",
    "high_scores = [score for score in scores if score > 20]\n",
    "# score é a expressão. Nesse caso, é uma variável temporária que representa cada elemento da lista scores.\n",
    "# for score in scores é o iterador. Ele percorre cada elemento da lista scores.\n",
    "# scores é o iterável. Nesse caso, é a lista de pontuações.\n",
    "# if score > 20 é a condição. A expressão só é adicionada à lista resultante se a condição for verdadeira.\n",
    "\n",
    "# Lemos a expressão acima como: \"Adicione a pontuação à lista high_scores para cada pontuação na lista scores se a pontuação for maior que 20.\"\n",
    "\n",
    "high_scores.sort()  # Ordena a lista\n",
    "print(high_scores)  # Output: [29, 30, 35, 47]"
   ]
  },
  {
   "cell_type": "code",
   "execution_count": null,
   "metadata": {},
   "outputs": [
    {
     "name": "stdout",
     "output_type": "stream",
     "text": [
      "[0, 1, 4, 9, 16, 25, 36, 49, 64, 81]\n"
     ]
    }
   ],
   "source": [
    "# Exemplo 2: List Comprehension com Operações Matemáticas\n",
    "# Aqui, squares é uma lista que contém os quadrados dos números de 0 a 9. Utilizamos a expressão x ** 2 para calcular o quadrado de cada número do intervalo.\n",
    "\n",
    "squares = [x ** 2 for x in range(10)]\n",
    "# Aqui nosso iterável é range(10), que gera números de 0 a 9.\n",
    "# x é a variável temporária que representa cada número do intervalo.\n",
    "# x ** 2 é a expressão. Calcula o quadrado de x.\n",
    "# for x in range(10) é o iterador. Ele percorre cada número de 0 a 9.\n",
    "\n",
    "# Lemos a expressão acima como: \"Adicione o quadrado de x à lista squares para cada número x no intervalo de 0 a 9.\"\n",
    "\n",
    "print(squares)  # Output: [0, 1, 4, 9, 16, 25, 36, 49, 64, 81]"
   ]
  },
  {
   "cell_type": "code",
   "execution_count": null,
   "metadata": {},
   "outputs": [
    {
     "name": "stdout",
     "output_type": "stream",
     "text": [
      "[1, 9, 25, 49, 81]\n"
     ]
    }
   ],
   "source": [
    "# Exemplo 3: List Comprehension com Condições Complexas\n",
    "# Neste exemplo, odds é uma lista que contém apenas os números ímpares da lista squares. Utilizamos a condição if x % 2 != 0 para filtrar os números ímpares durante a criação da lista.\n",
    "\n",
    "odds = [x for x in squares if x % 2 != 0]\n",
    "# Aqui, odds é a lista resultante que conterá apenas os números ímpares.\n",
    "# x é a variável temporária que representa cada número da lista squares.\n",
    "# for x in squares é o iterador. Ele percorre cada número da lista squares.\n",
    "# squares é o iterável. Nesse caso, é a lista de quadrados gerada anteriormente.\n",
    "# if x % 2 != 0 é a condição. A expressão só é adicionada à lista resultante se o número for ímpar.\n",
    "\n",
    "# Lemos a expressão acima como: \"Adicione x à lista odds para cada número x na lista squares se x for ímpar.\"\n",
    "print(odds)  # Output: [1, 9, 25, 49, 81]"
   ]
  },
  {
   "cell_type": "markdown",
   "metadata": {},
   "source": [
    "## **`Listas em Listas: Explorando Listas Aninhadas em Python`**\n",
    "\n",
    "As listas podem ser armazenadas dentro de outras listas, formando o que chamamos de listas aninhadas. Essa estrutura de dados é extremamente útil para lidar com informações mais complexas, permitindo representar dados em múltiplas dimensões. Vamos explorar esse conceito com explicações claras e exemplos práticos.\n",
    "\n",
    "Em Python, uma lista é uma coleção ordenada de elementos que pode conter diferentes tipos de dados. Por exemplo:\n",
    "\n",
    "```python\n",
    "animais = ['cachorro', 'gato', 'pássaro']\n",
    "```\n",
    "\n",
    "Agora, imagine que cada elemento dessa lista precisa armazenar informações adicionais, como idade e cor. Em vez de criar listas separadas para cada tipo de informação, podemos utilizar listas aninhadas:\n",
    "\n",
    "```python\n",
    "animais_info = [['cachorro', 3, 'marrom'], ['gato', 2, 'preto'], ['pássaro', 1, 'verde']]\n",
    "```\n",
    "\n",
    "Aqui, cada sublista contém o nome do animal, idade e cor, formando assim uma lista aninhada.\n",
    "\n",
    "**Acessando Informações Específicas:**\n",
    "\n",
    "Para acessar informações específicas em listas aninhadas, utilizamos índices para navegar entre os elementos. Por exemplo:\n",
    "\n",
    "```python\n",
    "primeiro_animal = animais_info[0]  # Acessa o primeiro elemento da lista animais_info\n",
    "nome_do_primeiro_animal = primeiro_animal[0]  # Acessa o primeiro elemento da sublista primeiro_animal\n",
    "print(f\"Nome: {nome_do_primeiro_animal}\")  # Imprime o nome do primeiro animal\n",
    "\n",
    "idade_do_primeiro_animal = primeiro_animal[1]  # Acessa o segundo elemento da sublista primeiro_animal\n",
    "print(f\"Idade: {idade_do_primeiro_animal} anos\")  # Imprime a idade do primeiro animal\n",
    "\n",
    "cor_do_primeiro_animal = primeiro_animal[2]  # Acessa o terceiro elemento da sublista primeiro_animal\n",
    "print(f\"Cor: {cor_do_primeiro_animal}\")  # Imprime a cor do primeiro animal\n",
    "```\n",
    "\n",
    "Dessa forma, conseguimos acessar informações específicas dentro das listas aninhadas.\n",
    "\n",
    "**Destaque:**\n",
    "\n",
    "- As listas aninhadas permitem representar estruturas de dados mais complexas.\n",
    "- Utilizamos índices para acessar elementos dentro das listas aninhadas.\n",
    "- Cada sublista dentro da lista aninhada é tratada como um elemento individual.\n",
    "\n",
    "As listas aninhadas são uma ferramenta poderosa em Python para lidar com dados estruturados de forma organizada e eficiente."
   ]
  },
  {
   "cell_type": "markdown",
   "metadata": {},
   "source": [
    "## **`Matrizes bidimensionais`**\n",
    "\n",
    "Uma matriz bidimensional é uma lista de listas. Cada lista dentro da lista é uma linha da matriz."
   ]
  },
  {
   "cell_type": "code",
   "execution_count": null,
   "metadata": {},
   "outputs": [],
   "source": [
    "# Imagine um tabuleiro de xadrez 8x8 representado por uma lista de listas em Python. Cada elemento da lista externa representa uma linha do tabuleiro, e cada elemento da lista interna representa uma casa do tabuleiro. Podemos inicializar um tabuleiro vazio com zeros usando listas aninhadas e loops.\n",
    "tabuleiro = []\n",
    "\n",
    "# O loop externo cria as linhas do tabuleiro utilizando um range de 8 (representando as 8 linhas do tabuleiro).\n",
    "for i in range(8):\n",
    "\n",
    "# O loop interno cria as casas de cada linha, preenchendo-as com zeros. \n",
    "    linha = [0 for i in range(8)] # Cria uma lista de 8 elementos com o valor 0.\n",
    "    tabuleiro.append(linha) # Adiciona a lista linha a lista tabuleiro.\n",
    "\n",
    "print(tabuleiro) # Serão exibidas 8 listas com 8 elementos cada.\n",
    "\n",
    "# saída:\n",
    "# [[0, 0, 0, 0, 0, 0, 0, 0],\n",
    "#  [0, 0, 0, 0, 0, 0, 0, 0],\n",
    "#  [0, 0, 0, 0, 0, 0, 0, 0],\n",
    "#  [0, 0, 0, 0, 0, 0, 0, 0],\n",
    "#  [0, 0, 0, 0, 0, 0, 0, 0],\n",
    "#  [0, 0, 0, 0, 0, 0, 0, 0],\n",
    "#  [0, 0, 0, 0, 0, 0, 0, 0],\n",
    "#  [0, 0, 0, 0, 0, 0, 0, 0]]"
   ]
  },
  {
   "cell_type": "code",
   "execution_count": null,
   "metadata": {},
   "outputs": [
    {
     "name": "stdout",
     "output_type": "stream",
     "text": [
      "[[0, 0, 0, 0, 0, 0, 0, 0], [0, 0, 0, 0, 0, 0, 0, 0], [0, 0, 0, 0, 0, 0, 0, 0], [0, 0, 0, 0, 0, 0, 0, 0], [0, 0, 0, 0, 0, 0, 0, 0], [0, 0, 0, 0, 0, 0, 0, 0], [0, 0, 0, 0, 0, 0, 0, 0], [0, 0, 0, 0, 0, 0, 0, 0]]\n"
     ]
    }
   ],
   "source": [
    "# Como list comprehensions são uma forma mais concisa e elegante de criar listas, podemos simplificar o código acima utilizando uma list comprehension aninhada:\n",
    "\n",
    "tabuleiro = [[0 for i in range(8)] for j in range(8)] # Cria uma lista de 8 listas com 8 elementos cada.\n",
    "\n",
    "# Aqui temos uma lista [0 for i in range(8)] que é repetida 8 vezes pela condição for j in range(8), criando assim uma lista de 8 listas com 8 elementos cada.\n",
    "\n",
    "# Em [0 for i in range(8)] temos:\n",
    "# 0 é o valor que preencherá cada elemento da lista.\n",
    "# for i in range(8) é o iterador que cria uma lista de 8 elementos com o valor 0.\n",
    "\n",
    "# for j in range(8) é o iterador que cria 8 listas com 8 elementos cada. Sendo cada elemento outra lista com 8 elementos.\n",
    "\n",
    "print(tabuleiro) # Serão exibidas 8 listas com 8 elementos cada.\n",
    "\n",
    "# saída:\n",
    "# [[0, 0, 0, 0, 0, 0, 0, 0],\n",
    "#  [0, 0, 0, 0, 0, 0, 0, 0],\n",
    "#  [0, 0, 0, 0, 0, 0, 0, 0],\n",
    "#  [0, 0, 0, 0, 0, 0, 0, 0],\n",
    "#  [0, 0, 0, 0, 0, 0, 0, 0],\n",
    "#  [0, 0, 0, 0, 0, 0, 0, 0],\n",
    "#  [0, 0, 0, 0, 0, 0, 0, 0],\n",
    "#  [0, 0, 0, 0, 0, 0, 0, 0]]"
   ]
  },
  {
   "cell_type": "markdown",
   "metadata": {},
   "source": [
    "Como vimos, a variável **`tabuleiro`** - é a lista que será criada.\n",
    "\n",
    "**`[0 for i in range(8)]`** - especifica os dados que serão armazenados na lista. O valor de 0 será armazenado na lista tabuleiro, a cada iteração.\n",
    "\n",
    "**`for j in range(8)`** - especifica os elementos que serão iterados. O valor de j será dado pela cláusula for, a cada iteração no intervalo de 0 a 7.\n",
    "\n",
    "Resumidamente a parte interna da compreensão da lista cria uma lista com 8 elementos com o valor 0 e a parte externa cria uma lista com 8 listas com 8 elementos cada.\n",
    "\n",
    "Cada campo contém um par de índices que devem ser dados para acessar o conteúdo do campo:\n",
    "\n",
    "Vamos colocar algumas peças de xadrez no tabuleiro. Primeiro, vamos adicionar todas as torres:"
   ]
  },
  {
   "cell_type": "code",
   "execution_count": null,
   "metadata": {},
   "outputs": [],
   "source": [
    "# [[0, 0, 0, 0, 0, 0, 0, 0],\n",
    "#  [0, 0, 0, 0, 0, 0, 0, 0],\n",
    "#  [0, 0, 0, 0, 0, 0, 0, 0],\n",
    "#  [0, 0, 0, 0, 0, 0, 0, 0],\n",
    "#  [0, 0, 0, 0, 0, 0, 0, 0],\n",
    "#  [0, 0, 0, 0, 0, 0, 0, 0],\n",
    "#  [0, 0, 0, 0, 0, 0, 0, 0],\n",
    "#  [0, 0, 0, 0, 0, 0, 0, 0]]\n",
    "\n",
    "tabuleiro[0][0] = 1 #\"Torre Preta\"\n",
    "tabuleiro[0][7] = 1 #\"Torre Preta\"\n",
    "tabuleiro[7][0] = 1 #\"Torre Branca\"\n",
    "tabuleiro[7][7] = 1 #\"Torre Branca\"\n",
    "tabuleiro[0][1] = 9 #\"Cavalo Preto\"\n",
    "tabuleiro[0][6] = 9 #\"Cavalo Preto\"\n",
    "tabuleiro[7][1] = 8 #\"Cavalo Branco\"\n",
    "tabuleiro[7][6] = 8 #\"Cavalo Branco\"\n",
    "\n",
    "# [[1, 9, 0, 0, 0, 0, 9, 1],\n",
    "#  [0, 0, 0, 0, 0, 0, 0, 0],\n",
    "#  [0, 0, 0, 0, 0, 0, 0, 0],\n",
    "#  [0, 0, 0, 0, 0, 0, 0, 0],\n",
    "#  [0, 0, 0, 0, 0, 0, 0, 0],\n",
    "#  [0, 0, 0, 0, 0, 0, 0, 0],\n",
    "#  [8, 9, 0, 0, 0, 0, 9, 8]]"
   ]
  },
  {
   "cell_type": "markdown",
   "metadata": {},
   "source": [
    "## **`Natureza multidimensional das listas`**\n",
    "\n",
    "Vamos aprofundar a natureza multidimensional das listas. Para encontrar qualquer elemento de uma lista bidimensional, você precisa usar duas coordenadas:\n",
    "\n",
    "- a vertical (número da linha)\n",
    "- e horizontal (número da coluna).\n",
    "\n",
    "*Imagine que você está desenvolvendo um software para uma estação meteorológica automática. O dispositivo registra a temperatura do ar `a cada hora` e faz isso durante `todo o mês`. Isso gera um total de `24 × 31 = 744 valores`.*\n",
    "\n",
    "Vamos tentar criar uma lista capaz de armazenar todos esses resultados.\n",
    "\n",
    "- Primeiro, você precisa decidir que tipo de dados seria adequado para essa aplicação. Nesse caso, um float seria o melhor, já que este termômetro é capaz de medir a temperatura com uma precisão de 0,1 ° C.\n",
    "\n",
    "- Em seguida, você toma uma decisão arbitrária de que as linhas gravarão as leituras de hora em hora (para que a linha tenha 24 elementos) e cada uma das linhas será atribuída a um dia do mês (vamos supor que cada mês tenha 31 dias, então você precisa de 31 linhas). Aqui está o par apropriado de compreensões (h é para hora, d para dia):"
   ]
  },
  {
   "cell_type": "code",
   "execution_count": null,
   "metadata": {},
   "outputs": [
    {
     "name": "stdout",
     "output_type": "stream",
     "text": [
      "[[17.2, 36.2, 11.7, 19.3, 38.1, 28.6, 17.6, 10.9, 30.6, 37.0, 12.0, 28.8, 14.8, 13.5, 16.1, 15.9, 30.3, 24.9, 30.6, 19.1, 38.9, 32.6, 12.9, 24.8], [14.2, 26.4, 14.4, 37.6, 18.3, 17.3, 17.1, 17.2, 18.7, 18.6, 12.1, 35.3, 27.2, 24.4, 31.7, 38.9, 22.8, 19.5, 24.9, 30.3, 30.2, 14.5, 13.7, 28.0], [10.9, 21.1, 16.1, 26.9, 16.0, 21.2, 13.5, 35.0, 37.7, 11.5, 27.2, 32.6, 14.6, 27.1, 34.3, 28.3, 30.6, 29.3, 23.5, 24.7, 33.4, 15.6, 27.9, 24.0], [15.2, 21.5, 19.8, 31.2, 35.5, 28.9, 24.4, 35.2, 22.7, 15.5, 20.1, 27.6, 27.2, 27.8, 31.3, 15.6, 27.1, 28.9, 25.3, 20.3, 25.4, 23.5, 19.7, 35.8], [16.4, 27.0, 11.9, 11.3, 23.7, 21.9, 30.6, 24.3, 34.6, 30.9, 24.2, 23.0, 16.3, 33.4, 23.4, 32.0, 26.0, 38.9, 19.3, 25.6, 30.9, 30.2, 33.5, 18.8], [13.2, 13.9, 37.4, 25.4, 27.2, 20.5, 12.1, 27.9, 37.5, 15.5, 14.0, 19.1, 17.2, 28.7, 26.9, 27.6, 37.3, 17.4, 23.2, 14.0, 15.7, 31.9, 33.8, 30.5], [32.5, 20.8, 28.8, 24.4, 17.1, 38.1, 35.5, 17.4, 10.3, 11.6, 35.3, 21.2, 20.1, 37.0, 17.4, 33.3, 17.2, 32.4, 29.0, 27.7, 29.4, 18.3, 38.6, 15.3], [36.3, 15.1, 13.6, 17.3, 12.2, 19.9, 23.7, 38.9, 19.8, 32.6, 31.5, 23.2, 26.5, 32.5, 12.0, 29.3, 37.3, 25.0, 37.4, 33.7, 21.9, 37.5, 17.0, 32.5], [34.6, 19.9, 23.0, 14.0, 22.3, 15.6, 10.1, 15.4, 28.1, 26.7, 17.8, 12.4, 37.0, 36.4, 29.9, 38.9, 16.5, 37.2, 23.8, 21.1, 29.5, 16.7, 10.5, 12.0], [23.8, 15.5, 21.1, 24.4, 21.7, 24.9, 16.1, 10.5, 29.6, 17.8, 31.8, 16.7, 24.4, 19.9, 15.2, 38.9, 34.3, 15.4, 30.5, 39.0, 15.8, 19.1, 25.6, 38.5], [23.0, 35.9, 29.6, 29.9, 35.4, 12.8, 15.2, 17.6, 26.0, 27.4, 30.7, 10.4, 38.4, 31.3, 16.8, 23.9, 34.4, 18.8, 13.2, 10.2, 26.6, 36.4, 30.4, 25.5], [14.3, 38.1, 33.6, 33.3, 34.3, 28.8, 29.4, 27.6, 29.2, 12.6, 19.6, 25.6, 21.1, 28.8, 26.0, 15.2, 21.1, 13.2, 27.1, 11.9, 35.0, 33.2, 20.7, 33.9], [34.5, 21.4, 12.1, 32.8, 32.3, 16.9, 10.2, 29.2, 37.7, 22.2, 16.1, 19.8, 35.9, 13.7, 28.2, 15.6, 33.4, 16.5, 37.5, 26.0, 24.0, 26.9, 16.4, 18.3], [14.4, 31.0, 38.9, 37.2, 26.3, 14.6, 35.8, 11.7, 14.3, 38.3, 34.5, 16.8, 23.2, 15.7, 36.6, 22.0, 28.9, 27.6, 28.9, 23.1, 12.2, 24.4, 14.8, 23.2], [13.9, 36.4, 20.3, 11.8, 23.3, 30.5, 17.8, 12.1, 29.8, 29.8, 27.9, 15.2, 11.8, 29.4, 34.8, 31.0, 25.6, 34.9, 10.5, 12.6, 32.4, 25.3, 20.7, 29.9], [34.2, 38.1, 33.8, 27.6, 25.7, 12.5, 32.1, 13.3, 38.3, 19.8, 17.3, 35.6, 31.6, 26.6, 14.1, 32.3, 37.4, 29.3, 27.9, 23.4, 13.3, 13.9, 25.8, 15.6], [18.4, 33.8, 20.7, 30.0, 20.7, 19.8, 12.3, 36.2, 31.3, 16.7, 24.3, 32.1, 32.4, 17.3, 23.2, 11.1, 29.2, 28.3, 19.4, 33.7, 37.8, 23.1, 27.1, 25.5], [11.6, 17.5, 10.1, 35.0, 21.1, 36.3, 38.7, 38.1, 22.2, 36.6, 20.7, 20.1, 35.4, 16.6, 24.3, 19.8, 22.7, 25.7, 27.2, 13.2, 34.9, 15.5, 21.7, 16.6], [16.9, 34.8, 17.7, 12.1, 24.9, 38.9, 33.2, 36.8, 14.6, 24.5, 28.5, 12.2, 37.6, 10.6, 25.2, 24.3, 36.5, 26.1, 29.6, 17.2, 17.2, 13.6, 14.4, 22.6], [13.3, 26.9, 21.5, 23.6, 34.3, 34.9, 33.1, 11.5, 12.4, 29.3, 20.5, 13.0, 15.3, 24.3, 28.0, 12.3, 22.6, 16.0, 13.2, 35.3, 24.6, 23.6, 17.8, 35.5], [16.3, 29.1, 26.3, 22.3, 35.0, 33.3, 34.9, 35.9, 36.3, 29.5, 32.0, 24.9, 24.6, 14.8, 39.0, 38.3, 20.9, 31.2, 35.3, 34.2, 35.8, 37.1, 13.2, 31.3], [31.9, 19.2, 36.5, 18.2, 35.1, 38.1, 20.9, 36.6, 16.2, 15.6, 19.1, 13.6, 22.3, 31.4, 27.9, 28.1, 35.4, 15.0, 13.1, 22.7, 15.1, 20.1, 16.8, 34.6], [30.9, 37.7, 20.6, 18.4, 20.9, 17.5, 24.1, 11.2, 25.8, 25.6, 38.5, 37.3, 22.8, 10.6, 22.9, 12.4, 16.9, 26.7, 15.1, 17.1, 34.0, 23.1, 15.3, 27.6], [30.6, 34.5, 25.3, 10.9, 20.2, 29.3, 31.1, 28.7, 20.6, 20.7, 28.4, 31.5, 27.4, 34.7, 28.0, 14.6, 27.0, 34.3, 21.3, 12.2, 26.0, 29.9, 24.4, 25.7], [34.9, 31.1, 17.2, 34.1, 33.2, 28.9, 14.5, 24.1, 27.7, 31.9, 32.9, 24.7, 35.8, 29.3, 16.4, 18.7, 36.2, 35.7, 10.8, 28.1, 10.1, 32.7, 34.4, 32.3], [22.2, 25.1, 25.4, 13.2, 33.7, 29.8, 11.8, 13.2, 10.3, 33.5, 37.2, 11.3, 19.0, 16.3, 22.5, 11.2, 24.4, 18.8, 21.0, 25.2, 15.4, 34.5, 29.4, 37.3], [14.4, 37.2, 24.2, 31.4, 14.2, 26.6, 21.9, 36.1, 12.7, 22.5, 35.3, 12.9, 36.6, 25.7, 29.7, 10.1, 28.2, 11.4, 32.9, 10.9, 30.0, 32.2, 26.8, 28.3], [37.4, 36.2, 13.4, 15.2, 11.3, 34.0, 22.3, 25.0, 34.4, 30.5, 39.0, 20.3, 19.0, 24.5, 36.3, 35.6, 30.7, 30.7, 31.2, 18.9, 18.4, 12.9, 22.7, 27.2], [16.8, 31.0, 18.1, 22.2, 25.0, 23.8, 31.3, 11.5, 12.5, 37.0, 29.5, 35.3, 33.4, 14.1, 22.0, 34.6, 24.6, 37.1, 36.1, 21.6, 13.7, 21.1, 14.0, 17.8], [14.1, 19.5, 18.8, 38.0, 20.0, 36.0, 32.4, 17.9, 11.4, 37.2, 21.0, 33.8, 20.7, 32.8, 24.0, 19.3, 39.0, 16.7, 36.1, 29.1, 24.4, 32.5, 34.3, 35.6], [32.7, 17.3, 30.8, 37.9, 16.0, 30.3, 33.3, 17.8, 27.1, 34.1, 21.6, 27.4, 26.3, 16.9, 19.8, 13.9, 23.5, 18.5, 23.1, 26.2, 38.3, 26.2, 22.7, 24.2]]\n"
     ]
    }
   ],
   "source": [
    "import random\n",
    "\n",
    "# Usaremos a função random.uniform() para gerar temperaturas aleatórias entre 10.0 e 39.0 graus Celsius para cada hora do dia durante 31 dias.\n",
    "\n",
    "# Para limitar as casas decimais, podemos usar a função round() para arredondar os valores para uma casa decimal.\n",
    "temperaturas = [[round(random.uniform(10.0, 39.0), 1) for h in range(24)] for d in range(31)]\n",
    "\n",
    "# round(random.uniform(10.0, 39.0), 1) - gera um número aleatório entre 10.0 e 39.0 e arredonda para uma casa decimal.\n",
    "\n",
    "# uniform() é um método da classe random que gera um número aleatório com distribuição uniforme entre dois valores, start e stop. A diferença para randint() é que randint() gera números inteiros, enquanto uniform() gera números de ponto flutuante.\n",
    "\n",
    "# [random.uniform(10.0, 39.0) for h in range(24)] - cria uma lista com 24 elementos, cada um com um valor aleatório entre 10.0 e 39.0.\n",
    "# for d in range(31) - repete o processo 31 vezes, criando uma lista de 31 listas, cada uma com 24 elementos.\n",
    "\n",
    "print(temperaturas) # Serão exibidas 31 listas com 24 elementos cada."
   ]
  },
  {
   "cell_type": "markdown",
   "metadata": {},
   "source": [
    "Toda a matriz está preenchida com valores aleatórios agora. Você pode supor que ela é atualizada automaticamente usando agentes de hardware especiais. O que você precisa fazer é esperar que a matriz seja preenchida com medidas.\n",
    "\n",
    "Agora é hora de determinar a temperatura média mensal ao meio-dia. Adicione todas as 31 leituras gravadas ao meio-dia e divida a soma por 31. Você pode supor que a temperatura da meia-noite é armazenada primeiro. Aqui está o código relevante:"
   ]
  },
  {
   "cell_type": "code",
   "execution_count": null,
   "metadata": {},
   "outputs": [
    {
     "name": "stdout",
     "output_type": "stream",
     "text": [
      "Temperatura média ao meio-dia: 23.0\n"
     ]
    }
   ],
   "source": [
    "total = 0.0 # Variável para armazenar a soma das temperaturas.\n",
    "\n",
    "# Aqui temperaturas é uma lista de 31 listas, onde cada lista interna representa as temperaturas de um dia.\n",
    "for dia in temperaturas:\n",
    "# Iteramos por cada uma das 31 listas internas, que representam as temperaturas de cada dia.\n",
    "    total += dia[11] # E adicionamos a temperatura ao meio-dia (índice 11) à variável total.\n",
    "\n",
    "media = total / 31 # Calcula a temperatura média ao meio-dia.\n",
    "\n",
    "print(f\"Temperatura média ao meio-dia: {media:.1f}\") # Exibe a temperatura média ao meio-dia com uma casaa decimal.\n",
    "\n",
    "# Observação: A variável dia usada pelo loop for não é escalar. Ela é uma lista, portanto precisa ser indexada para acessar os elementos internos, nesse caso, as temperaturas de cada hora do dia."
   ]
  },
  {
   "cell_type": "code",
   "execution_count": null,
   "metadata": {},
   "outputs": [
    {
     "name": "stdout",
     "output_type": "stream",
     "text": [
      "A maior temperatura foi: 39.0\n"
     ]
    }
   ],
   "source": [
    "# Agora, encontre a temperatura mais alta durante todo o mês - veja o código:\n",
    "\n",
    "# Inicializa a variável maior_temperatura com o menor valor possível usando a técnica de sentinela.\n",
    "maior_temperatura =  float('-inf') \n",
    "\n",
    "# Novamente, temperaturas é uma lista de 31 listas. Sendo assim, temperaturas corresponde ao mês. Dia é uma lista de 24 elementos, representando as temperaturas de cada hora do dia\n",
    "for dia in temperaturas: \n",
    "\n",
    "# Itera por cada uma das 24 temperaturas de um dia.\n",
    "    for temperatura in dia:\n",
    "\n",
    "# Verifica se a temperatura atual é maior que a maior temperatura registrada até o momento. Na primeira iteração, a condição sempre será verdadeira, pois maior_temperatura é inicializada com o menor valor possível.\n",
    "        if temperatura > maior_temperatura: \n",
    "\n",
    "# Se a temperatura atual for maior que a maior temperatura registrada, atribui o valor da temperatura à variável maior_temperatura.\n",
    "            maior_temperatura = temperatura\n",
    "\n",
    "print(f\"A maior temperatura foi: {maior_temperatura:.1f}\")"
   ]
  },
  {
   "cell_type": "markdown",
   "metadata": {},
   "source": [
    "O Python não limita a profundidade da inclusão na lista. Aqui você pode ver um exemplo de uma matriz tridimensional:\n",
    "\n",
    "*Imagine um hotel. É um grande hotel composto de `3 edifícios`, de `15 andares` cada. Há `20 salas` em cada andar. Para isso, você precisa de uma matriz que possa coletar e processar informações sobre as salas ocupadas/livres.*"
   ]
  },
  {
   "cell_type": "code",
   "execution_count": 39,
   "metadata": {},
   "outputs": [],
   "source": [
    "# Analise a situação e resuma as informações disponíveis: 3 edifícios, 15 andares, 20 salas.\n",
    "# Nesse caso, um valor booleano (True/False) seria adequado para verificar se uma sala está ocupada ou não. Podemos representar essa situação com uma lista de listas de listas, onde cada elemento da lista mais externa representa um edifício, cada elemento da lista intermediária representa um andar e cada elemento da lista interna representa uma sala.\n",
    "\n",
    "salas = [[[False for r in range(20)] for f in range(15)] for t in range(3)]\n",
    "#                          20 salas          15 andares        3 edifícios\n",
    "\n",
    "# Aqui, rooms é uma lista de 3 elementos, representando os 3 edifícios.\n",
    "# for t in range(3) itera por cada edifício.\n",
    "# [[False for r in range(20)] for f in range(15)] cria uma lista de 15 listas, representando os andares de um edifício.\n",
    "# for f in range(15) itera por cada andar.\n",
    "# [False for r in range(20)] cria uma lista de 20 elementos, representando as salas de um andar."
   ]
  },
  {
   "cell_type": "code",
   "execution_count": 40,
   "metadata": {},
   "outputs": [],
   "source": [
    "# Agora você pode reservar um quarto para dois noivos: no segundo edifício, no décimo andar, quarto 14:\n",
    "\n",
    "# Reserva o quarto 14 do décimo andar do segundo edifício.\n",
    "salas[1][9][13] = True \n",
    "# O índice 1 corresponde ao segundo edifício, pois a contagem começa em 0.\n",
    "# O índice 9 corresponde ao décimo andar, pois a contagem começa em 0.\n",
    "# O índice 13 corresponde ao quarto 14, pois a contagem começa em 0."
   ]
  },
  {
   "cell_type": "code",
   "execution_count": 38,
   "metadata": {},
   "outputs": [
    {
     "name": "stdout",
     "output_type": "stream",
     "text": [
      "20\n"
     ]
    }
   ],
   "source": [
    "# Verifique se há vagas no décimo andar do segundo edifício:\n",
    "\n",
    "# Inicializa a variável vagas com 0.\n",
    "vagas = 0\n",
    "\n",
    "# Itera por cada quarto do décimo andar do segundo edifício. Usamos range(20) para percorrer os 20 quartos. Quarto representa o índice da sala (de 0 a 19).\n",
    "for quarto in range(20):\n",
    "\n",
    "# Verifica se a sala está disponível. A indexação é feita com base em: salas[1][9][quarto]. O índice 1 corresponde ao segundo edifício, o índice 9 corresponde ao décimo andar e o índice quarto corresponde ao quarto atual.\n",
    "    if not salas[1][9][quarto]:\n",
    "        vagas += 1\n",
    "# Se a sala não estiver ocupada, incrementa a variável vagas.\n",
    "\n",
    "# Como reservamos um quarto para os noivos antes, a saída será 19.\n",
    "print(vagas) # 19"
   ]
  },
  {
   "cell_type": "markdown",
   "metadata": {},
   "source": [
    "### **`Listas - alguns programas simples`**\n",
    "\n",
    "Agora, queremos mostrar alguns programas simples que utilizam listas. \n",
    "\n",
    "O primeiro deles tenta encontrar o maior valor na lista. Veja o código no editor."
   ]
  },
  {
   "cell_type": "code",
   "execution_count": 41,
   "metadata": {},
   "outputs": [
    {
     "name": "stdout",
     "output_type": "stream",
     "text": [
      "17\n"
     ]
    }
   ],
   "source": [
    "minha_lista = [17, 3, 11, 5, 1, 9, 7, 15, 13]\n",
    "\n",
    "maior = minha_lista[0] # Assume temporariamente que o primeiro elemento é o maior.\n",
    "\n",
    "for i in range(1, len(minha_lista)): # Loop através da lista.\n",
    "  # O primeiro argumento de range() é 1, porque o primeiro elemento já foi assumido como o maior. Então, não precisamos compará-lo com ele mesmo. Seguimos a partir do segundo até o último elemento, definido por len(minha_lista) que retorna o tamanho da lista.\n",
    "  \n",
    "    if minha_lista[i] > maior: # Se o elemento atual for maior que o maior encontrado até agora:\n",
    "      \n",
    "        maior = minha_lista[i] # Atualiza o maior valor encontrado.\n",
    "        \n",
    "print(maior)"
   ]
  },
  {
   "cell_type": "markdown",
   "metadata": {},
   "source": [
    "Agora vamos encontrar a localização de um determinado elemento dentro de uma lista:"
   ]
  },
  {
   "cell_type": "code",
   "execution_count": 42,
   "metadata": {},
   "outputs": [
    {
     "name": "stdout",
     "output_type": "stream",
     "text": [
      "Elemento encontrado no índice 4\n"
     ]
    }
   ],
   "source": [
    "minha_lista = [1, 2, 3, 4, 5, 6, 7, 8, 9, 10]\n",
    "\n",
    "buscar = 5 # O elemento que estamos procurando.\n",
    "\n",
    "encontrado = False # Define como False até que o elemento seja encontrado.\n",
    "\n",
    "for i in range(len(minha_lista)):\n",
    "    encontrado = minha_lista[i] == buscar # Verifica cada elemento. Se ele for igual ao elemento definido para a busca, atualizamos encontrado para True\n",
    "    \n",
    "    if encontrado: # Se encontrado for True:\n",
    "        break # Sai do loop.\n",
    "\n",
    "if encontrado: # Se encontrado for True:\n",
    "    print(\"Elemento encontrado no índice\", i) # Imprime o índice onde o elemento foi encontrado.\n",
    "else:\n",
    "    print(\"ausente\")"
   ]
  },
  {
   "cell_type": "markdown",
   "metadata": {},
   "source": [
    "O valor de destino é armazenado na variável buscar\n",
    "\n",
    "O status atual da pesquisa é armazenado na variável encontrado (True/False)\n",
    "\n",
    "Quando encontrado se torna True, o loop for é encerrado.\n",
    "\n",
    "O python oferece uma maneira mais simples de fazer isso: o operador in.\n",
    "\n",
    "Também existem métodos de lista que podem fazer isso."
   ]
  },
  {
   "cell_type": "code",
   "execution_count": 43,
   "metadata": {},
   "outputs": [
    {
     "name": "stdout",
     "output_type": "stream",
     "text": [
      "Encontrei no índice 4\n"
     ]
    }
   ],
   "source": [
    "# O método index() retorna o índice do primeiro elemento com um valor específico.\n",
    "print(f'Encontrei no índice {minha_lista.index(buscar)}') # outputs: 4"
   ]
  },
  {
   "cell_type": "markdown",
   "metadata": {},
   "source": [
    "Vamos supor que você tenha escolhido os seguintes números na loteria: \n",
    "\n",
    "*3, 7, 11, 42, 34, 49*\n",
    "\n",
    "Os números que foram sorteados são: \n",
    "\n",
    "*5, 11, 9, 42, 3, 49*\n",
    "\n",
    "A pergunta é: quantos números você acertou?"
   ]
  },
  {
   "cell_type": "code",
   "execution_count": 45,
   "metadata": {},
   "outputs": [
    {
     "name": "stdout",
     "output_type": "stream",
     "text": [
      "4\n"
     ]
    }
   ],
   "source": [
    "acertos = 0 # Número de acertos.\n",
    "\n",
    "meu_jogo = [3, 7, 11, 42, 34, 49] # Números apostados.\n",
    "sorteados = [5, 11, 9, 42, 3, 49] # Números sorteados.\n",
    "\n",
    "# Loop através dos números sorteados.\n",
    "for número in sorteados: \n",
    "\n",
    "# Se o número apostado estiver entre os sorteados:\n",
    "    if número in meu_jogo: # Se o número apostado estiver entre os sorteados:\n",
    "        acertos += 1 # Atualiza o número de acertos.\n",
    "\n",
    "print(acertos) # 4"
   ]
  }
 ],
 "metadata": {
  "kernelspec": {
   "display_name": "Python 3",
   "language": "python",
   "name": "python3"
  },
  "language_info": {
   "codemirror_mode": {
    "name": "ipython",
    "version": 3
   },
   "file_extension": ".py",
   "mimetype": "text/x-python",
   "name": "python",
   "nbconvert_exporter": "python",
   "pygments_lexer": "ipython3",
   "version": "3.12.1"
  }
 },
 "nbformat": 4,
 "nbformat_minor": 2
}
