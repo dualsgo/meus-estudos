{
 "cells": [
  {
   "cell_type": "markdown",
   "metadata": {},
   "source": [
    "# Interactive Help\n",
    "\n",
    "Em Python, a função `help()` é uma ferramenta útil para obter informações sobre módulos, funções, classes e métodos. Ela fornece uma descrição interativa da documentação associada a um objeto específico. Quando você chama a função `help()` e passa um objeto como argumento, o Python exibirá informações detalhadas sobre esse objeto.\n",
    "\n",
    "Por exemplo:\n",
    "```python\n",
    "help(print)\n",
    "```\n",
    "\n",
    "A função `help()` também pode ser usada diretamente no prompt de comando Python para obter informações sobre módulos e tópicos em geral.\n",
    "\n",
    "Além da função `help()`, muitos objetos em Python têm um atributo chamado `__doc__`, que contém a string de documentação associada ao objeto. Esse atributo é frequentemente utilizado para fornecer informações sobre o propósito e o funcionamento do objeto em questão. Você pode acessar o `__doc__` diretamente para obter uma visão rápida da documentação.\n",
    "\n",
    "Por exemplo:\n",
    "```python\n",
    "print(print.__doc__)\n",
    "```\n",
    "\n",
    "Experimente usar a função `help()` para explorar e entender melhor os diversos recursos e funcionalidades disponíveis em Python."
   ]
  },
  {
   "cell_type": "code",
   "execution_count": 1,
   "metadata": {},
   "outputs": [
    {
     "name": "stdout",
     "output_type": "stream",
     "text": [
      "Help on method raw_input in module ipykernel.kernelbase:\n",
      "\n",
      "raw_input(prompt='') method of ipykernel.ipkernel.IPythonKernel instance\n",
      "    Forward raw_input to frontends\n",
      "\n",
      "    Raises\n",
      "    ------\n",
      "    StdinNotImplementedError if active frontend doesn't support stdin.\n",
      "\n",
      "Forward raw_input to frontends\n",
      "\n",
      "        Raises\n",
      "        ------\n",
      "        StdinNotImplementedError if active frontend doesn't support stdin.\n",
      "        \n"
     ]
    }
   ],
   "source": [
    "help(input) # retorna a documentação da função\n",
    "print(input.__doc__) # retorna a documentação da função de forma mais direta"
   ]
  },
  {
   "cell_type": "markdown",
   "metadata": {},
   "source": [
    "# Docstrings\n",
    "\n",
    "A string de documentação associada a um objeto é frequentemente chamada de \"docstring\". Uma docstring é uma convenção em Python e é usada para documentar o propósito, parâmetros e comportamento de funções, classes e módulos. A docstring geralmente é colocada no início do bloco de código correspondente e pode ser de várias linhas.\n",
    "\n",
    "Ao escrever suas próprias funções, classes e módulos, é uma prática recomendada incluir docstrings claras e informativas para facilitar a compreensão do código por outros desenvolvedores e para você mesmo no futuro."
   ]
  },
  {
   "cell_type": "code",
   "execution_count": null,
   "metadata": {},
   "outputs": [],
   "source": [
    "def contador(i, f, p):\n",
    "    \"\"\"\n",
    "    Faz uma contagem e mostra na tela.\n",
    "    :param i: INÍCIO da contagem\n",
    "    :param f: FIM da contagem\n",
    "    :param p: PASSO daa contagem\n",
    "    :return: Sem retorno\n",
    "    \"\"\"\n",
    "    c = i\n",
    "    while c <= f:\n",
    "        print(f'{c}', end='..')\n",
    "        c += p\n",
    "    print('FIM!')\n",
    "\n",
    "\n",
    "contador(2, 10, 2)"
   ]
  },
  {
   "cell_type": "markdown",
   "metadata": {},
   "source": [
    "# **`Funções Built-in e Módulos`**\n",
    "---\n",
    "Funções built-in são funções já existentes no Python, incluindo:\n",
    "\n",
    "- `print()`\n",
    "- `len()`\n",
    "- `input()`\n",
    "- `sum()`\n",
    "- `max()`\n",
    "- `min()`\n",
    "- `count()`\n",
    "e muitas outras.\n",
    "\n",
    "Além das funções pré-definidas, podemos criar nossas próprias funções. No entanto, também podemos utilizar funções criadas por outros programadores ou disponibilizadas pela comunidade Python.\n",
    "\n",
    "## **`Módulos (Pacotes, Bibliotecas)`**\n",
    "---\n",
    "Módulos são pacotes de comandos e recursos que oferecem funcionalidades extras além das disponíveis por padrão no Python.\n",
    "\n",
    "Para usar um módulo, usamos a palavra reservada `import` seguida do nome do módulo.\n",
    "\n",
    "Se desejarmos importar apenas algumas funcionalidades específicas de um módulo, podemos utilizar o comando `from biblioteca import funcionalidade`.\n",
    "\n",
    "Depois de importar um módulo, podemos acessar seus dados e funcionalidades usando a notação de ponto, como `math.pi` e `math.sqrt()`."
   ]
  },
  {
   "cell_type": "code",
   "execution_count": 2,
   "metadata": {},
   "outputs": [
    {
     "name": "stdout",
     "output_type": "stream",
     "text": [
      "3.141592653589793\n",
      "5.0\n"
     ]
    }
   ],
   "source": [
    "import math\n",
    "print(math.pi)  # 3.141592653589793\n",
    "# O módulo math também fornece funções matemáticas como sqrt() para calcular a raiz quadrada de um número.\n",
    "print(math.sqrt(25))  # 5.0"
   ]
  },
  {
   "cell_type": "markdown",
   "metadata": {},
   "source": [
    "O módulo math possui várias funções matemáticas.\n",
    "\n",
    "Podemos descobrir as funcionalidades que um módulo fornece usando a função dir() ou help().\n"
   ]
  },
  {
   "cell_type": "code",
   "execution_count": 3,
   "metadata": {},
   "outputs": [
    {
     "name": "stdout",
     "output_type": "stream",
     "text": [
      "['__doc__', '__loader__', '__name__', '__package__', '__spec__', 'acos', 'acosh', 'asin', 'asinh', 'atan', 'atan2', 'atanh', 'cbrt', 'ceil', 'comb', 'copysign', 'cos', 'cosh', 'degrees', 'dist', 'e', 'erf', 'erfc', 'exp', 'exp2', 'expm1', 'fabs', 'factorial', 'floor', 'fmod', 'frexp', 'fsum', 'gamma', 'gcd', 'hypot', 'inf', 'isclose', 'isfinite', 'isinf', 'isnan', 'isqrt', 'lcm', 'ldexp', 'lgamma', 'log', 'log10', 'log1p', 'log2', 'modf', 'nan', 'nextafter', 'perm', 'pi', 'pow', 'prod', 'radians', 'remainder', 'sin', 'sinh', 'sqrt', 'sumprod', 'tan', 'tanh', 'tau', 'trunc', 'ulp']\n"
     ]
    }
   ],
   "source": [
    "# dir() retorna uma lista de todas as funcionalidades disponíveis em um módulo.\n",
    "print(dir(math))"
   ]
  },
  {
   "cell_type": "code",
   "execution_count": 4,
   "metadata": {},
   "outputs": [
    {
     "name": "stdout",
     "output_type": "stream",
     "text": [
      "Help on built-in module math:\n",
      "\n",
      "NAME\n",
      "    math\n",
      "\n",
      "DESCRIPTION\n",
      "    This module provides access to the mathematical functions\n",
      "    defined by the C standard.\n",
      "\n",
      "FUNCTIONS\n",
      "    acos(x, /)\n",
      "        Return the arc cosine (measured in radians) of x.\n",
      "\n",
      "        The result is between 0 and pi.\n",
      "\n",
      "    acosh(x, /)\n",
      "        Return the inverse hyperbolic cosine of x.\n",
      "\n",
      "    asin(x, /)\n",
      "        Return the arc sine (measured in radians) of x.\n",
      "\n",
      "        The result is between -pi/2 and pi/2.\n",
      "\n",
      "    asinh(x, /)\n",
      "        Return the inverse hyperbolic sine of x.\n",
      "\n",
      "    atan(x, /)\n",
      "        Return the arc tangent (measured in radians) of x.\n",
      "\n",
      "        The result is between -pi/2 and pi/2.\n",
      "\n",
      "    atan2(y, x, /)\n",
      "        Return the arc tangent (measured in radians) of y/x.\n",
      "\n",
      "        Unlike atan(y/x), the signs of both x and y are considered.\n",
      "\n",
      "    atanh(x, /)\n",
      "        Return the inverse hyperbolic tangent of x.\n",
      "\n",
      "    cbrt(x, /)\n",
      "        Return the cube root of x.\n",
      "\n",
      "    ceil(x, /)\n",
      "        Return the ceiling of x as an Integral.\n",
      "\n",
      "        This is the smallest integer >= x.\n",
      "\n",
      "    comb(n, k, /)\n",
      "        Number of ways to choose k items from n items without repetition and without order.\n",
      "\n",
      "        Evaluates to n! / (k! * (n - k)!) when k <= n and evaluates\n",
      "        to zero when k > n.\n",
      "\n",
      "        Also called the binomial coefficient because it is equivalent\n",
      "        to the coefficient of k-th term in polynomial expansion of the\n",
      "        expression (1 + x)**n.\n",
      "\n",
      "        Raises TypeError if either of the arguments are not integers.\n",
      "        Raises ValueError if either of the arguments are negative.\n",
      "\n",
      "    copysign(x, y, /)\n",
      "        Return a float with the magnitude (absolute value) of x but the sign of y.\n",
      "\n",
      "        On platforms that support signed zeros, copysign(1.0, -0.0)\n",
      "        returns -1.0.\n",
      "\n",
      "    cos(x, /)\n",
      "        Return the cosine of x (measured in radians).\n",
      "\n",
      "    cosh(x, /)\n",
      "        Return the hyperbolic cosine of x.\n",
      "\n",
      "    degrees(x, /)\n",
      "        Convert angle x from radians to degrees.\n",
      "\n",
      "    dist(p, q, /)\n",
      "        Return the Euclidean distance between two points p and q.\n",
      "\n",
      "        The points should be specified as sequences (or iterables) of\n",
      "        coordinates.  Both inputs must have the same dimension.\n",
      "\n",
      "        Roughly equivalent to:\n",
      "            sqrt(sum((px - qx) ** 2.0 for px, qx in zip(p, q)))\n",
      "\n",
      "    erf(x, /)\n",
      "        Error function at x.\n",
      "\n",
      "    erfc(x, /)\n",
      "        Complementary error function at x.\n",
      "\n",
      "    exp(x, /)\n",
      "        Return e raised to the power of x.\n",
      "\n",
      "    exp2(x, /)\n",
      "        Return 2 raised to the power of x.\n",
      "\n",
      "    expm1(x, /)\n",
      "        Return exp(x)-1.\n",
      "\n",
      "        This function avoids the loss of precision involved in the direct evaluation of exp(x)-1 for small x.\n",
      "\n",
      "    fabs(x, /)\n",
      "        Return the absolute value of the float x.\n",
      "\n",
      "    factorial(n, /)\n",
      "        Find n!.\n",
      "\n",
      "        Raise a ValueError if x is negative or non-integral.\n",
      "\n",
      "    floor(x, /)\n",
      "        Return the floor of x as an Integral.\n",
      "\n",
      "        This is the largest integer <= x.\n",
      "\n",
      "    fmod(x, y, /)\n",
      "        Return fmod(x, y), according to platform C.\n",
      "\n",
      "        x % y may differ.\n",
      "\n",
      "    frexp(x, /)\n",
      "        Return the mantissa and exponent of x, as pair (m, e).\n",
      "\n",
      "        m is a float and e is an int, such that x = m * 2.**e.\n",
      "        If x is 0, m and e are both 0.  Else 0.5 <= abs(m) < 1.0.\n",
      "\n",
      "    fsum(seq, /)\n",
      "        Return an accurate floating point sum of values in the iterable seq.\n",
      "\n",
      "        Assumes IEEE-754 floating point arithmetic.\n",
      "\n",
      "    gamma(x, /)\n",
      "        Gamma function at x.\n",
      "\n",
      "    gcd(*integers)\n",
      "        Greatest Common Divisor.\n",
      "\n",
      "    hypot(...)\n",
      "        hypot(*coordinates) -> value\n",
      "\n",
      "        Multidimensional Euclidean distance from the origin to a point.\n",
      "\n",
      "        Roughly equivalent to:\n",
      "            sqrt(sum(x**2 for x in coordinates))\n",
      "\n",
      "        For a two dimensional point (x, y), gives the hypotenuse\n",
      "        using the Pythagorean theorem:  sqrt(x*x + y*y).\n",
      "\n",
      "        For example, the hypotenuse of a 3/4/5 right triangle is:\n",
      "\n",
      "            >>> hypot(3.0, 4.0)\n",
      "            5.0\n",
      "\n",
      "    isclose(a, b, *, rel_tol=1e-09, abs_tol=0.0)\n",
      "        Determine whether two floating point numbers are close in value.\n",
      "\n",
      "          rel_tol\n",
      "            maximum difference for being considered \"close\", relative to the\n",
      "            magnitude of the input values\n",
      "          abs_tol\n",
      "            maximum difference for being considered \"close\", regardless of the\n",
      "            magnitude of the input values\n",
      "\n",
      "        Return True if a is close in value to b, and False otherwise.\n",
      "\n",
      "        For the values to be considered close, the difference between them\n",
      "        must be smaller than at least one of the tolerances.\n",
      "\n",
      "        -inf, inf and NaN behave similarly to the IEEE 754 Standard.  That\n",
      "        is, NaN is not close to anything, even itself.  inf and -inf are\n",
      "        only close to themselves.\n",
      "\n",
      "    isfinite(x, /)\n",
      "        Return True if x is neither an infinity nor a NaN, and False otherwise.\n",
      "\n",
      "    isinf(x, /)\n",
      "        Return True if x is a positive or negative infinity, and False otherwise.\n",
      "\n",
      "    isnan(x, /)\n",
      "        Return True if x is a NaN (not a number), and False otherwise.\n",
      "\n",
      "    isqrt(n, /)\n",
      "        Return the integer part of the square root of the input.\n",
      "\n",
      "    lcm(*integers)\n",
      "        Least Common Multiple.\n",
      "\n",
      "    ldexp(x, i, /)\n",
      "        Return x * (2**i).\n",
      "\n",
      "        This is essentially the inverse of frexp().\n",
      "\n",
      "    lgamma(x, /)\n",
      "        Natural logarithm of absolute value of Gamma function at x.\n",
      "\n",
      "    log(...)\n",
      "        log(x, [base=math.e])\n",
      "        Return the logarithm of x to the given base.\n",
      "\n",
      "        If the base is not specified, returns the natural logarithm (base e) of x.\n",
      "\n",
      "    log10(x, /)\n",
      "        Return the base 10 logarithm of x.\n",
      "\n",
      "    log1p(x, /)\n",
      "        Return the natural logarithm of 1+x (base e).\n",
      "\n",
      "        The result is computed in a way which is accurate for x near zero.\n",
      "\n",
      "    log2(x, /)\n",
      "        Return the base 2 logarithm of x.\n",
      "\n",
      "    modf(x, /)\n",
      "        Return the fractional and integer parts of x.\n",
      "\n",
      "        Both results carry the sign of x and are floats.\n",
      "\n",
      "    nextafter(x, y, /, *, steps=None)\n",
      "        Return the floating-point value the given number of steps after x towards y.\n",
      "\n",
      "        If steps is not specified or is None, it defaults to 1.\n",
      "\n",
      "        Raises a TypeError, if x or y is not a double, or if steps is not an integer.\n",
      "        Raises ValueError if steps is negative.\n",
      "\n",
      "    perm(n, k=None, /)\n",
      "        Number of ways to choose k items from n items without repetition and with order.\n",
      "\n",
      "        Evaluates to n! / (n - k)! when k <= n and evaluates\n",
      "        to zero when k > n.\n",
      "\n",
      "        If k is not specified or is None, then k defaults to n\n",
      "        and the function returns n!.\n",
      "\n",
      "        Raises TypeError if either of the arguments are not integers.\n",
      "        Raises ValueError if either of the arguments are negative.\n",
      "\n",
      "    pow(x, y, /)\n",
      "        Return x**y (x to the power of y).\n",
      "\n",
      "    prod(iterable, /, *, start=1)\n",
      "        Calculate the product of all the elements in the input iterable.\n",
      "\n",
      "        The default start value for the product is 1.\n",
      "\n",
      "        When the iterable is empty, return the start value.  This function is\n",
      "        intended specifically for use with numeric values and may reject\n",
      "        non-numeric types.\n",
      "\n",
      "    radians(x, /)\n",
      "        Convert angle x from degrees to radians.\n",
      "\n",
      "    remainder(x, y, /)\n",
      "        Difference between x and the closest integer multiple of y.\n",
      "\n",
      "        Return x - n*y where n*y is the closest integer multiple of y.\n",
      "        In the case where x is exactly halfway between two multiples of\n",
      "        y, the nearest even value of n is used. The result is always exact.\n",
      "\n",
      "    sin(x, /)\n",
      "        Return the sine of x (measured in radians).\n",
      "\n",
      "    sinh(x, /)\n",
      "        Return the hyperbolic sine of x.\n",
      "\n",
      "    sqrt(x, /)\n",
      "        Return the square root of x.\n",
      "\n",
      "    sumprod(p, q, /)\n",
      "        Return the sum of products of values from two iterables p and q.\n",
      "\n",
      "        Roughly equivalent to:\n",
      "\n",
      "            sum(itertools.starmap(operator.mul, zip(p, q, strict=True)))\n",
      "\n",
      "        For float and mixed int/float inputs, the intermediate products\n",
      "        and sums are computed with extended precision.\n",
      "\n",
      "    tan(x, /)\n",
      "        Return the tangent of x (measured in radians).\n",
      "\n",
      "    tanh(x, /)\n",
      "        Return the hyperbolic tangent of x.\n",
      "\n",
      "    trunc(x, /)\n",
      "        Truncates the Real x to the nearest Integral toward 0.\n",
      "\n",
      "        Uses the __trunc__ magic method.\n",
      "\n",
      "    ulp(x, /)\n",
      "        Return the value of the least significant bit of the float x.\n",
      "\n",
      "DATA\n",
      "    e = 2.718281828459045\n",
      "    inf = inf\n",
      "    nan = nan\n",
      "    pi = 3.141592653589793\n",
      "    tau = 6.283185307179586\n",
      "\n",
      "FILE\n",
      "    (built-in)\n",
      "\n",
      "\n",
      "None\n"
     ]
    }
   ],
   "source": [
    "# help() retorna uma lista de todas as funcionalidades disponíveis em um módulo, além de informações sobre como usar cada funcionalidade.\n",
    "print(help(math))"
   ]
  },
  {
   "cell_type": "markdown",
   "metadata": {},
   "source": [
    "statistics é outro módulo integrado que fornece funcionalidades para calcular estatísticas. Por exemplo, podemos usar a função mean() para calcular a média de uma lista de números."
   ]
  },
  {
   "cell_type": "code",
   "execution_count": null,
   "metadata": {},
   "outputs": [],
   "source": [
    "import statistics\n",
    "\n",
    "scores = [85, 93, 45, 87, 93]\n",
    "mean = statistics.mean(scores)\n",
    "print(f'Média: {mean}')  # Média: 80.6"
   ]
  },
  {
   "cell_type": "markdown",
   "metadata": {},
   "source": [
    "Podemos usar vários módulos diferentes no mesmo arquivo adicionando uma vírgula entre os nomes dos módulos.\n",
    "\n",
    "```python\n",
    "import math, statistics\n",
    "```\n",
    "\n",
    "Se quisermos importar todas as funcionalidades de um módulo, podemos usar o comando `from biblioteca import *` ou simplesmente `import biblioteca`.\n",
    "\n",
    "Às vezes, queremos usar apenas partes de um módulo. Podemos fazer isso usando a palavra reservada `from`.\n",
    "\n",
    "```python\n",
    "from math import pi\n",
    "```\n",
    "\n",
    "Quando usamos `from`, não precisamos usar a notação de ponto para acessar as funcionalidades do módulo. Podemos usar a funcionalidade diretamente."
   ]
  },
  {
   "cell_type": "markdown",
   "metadata": {},
   "source": [
    "## **`Aliasing - Atribuindo um Apelido para um Módulo`**\n",
    "---\n",
    "Podemos modificar o nome do módulo que estamos importando usando a palavra reservada `as`.\n",
    "\n",
    "```python\n",
    "import statistics as stats\n",
    "```\n",
    "\n",
    "Isso é útil quando o nome do módulo é muito longo ou quando o nome do módulo entra em conflito com o nome de uma variável que já existe. Isso é chamado de aliasing.\n",
    "\n",
    "```python\n",
    "import math as m\n",
    "```"
   ]
  },
  {
   "cell_type": "markdown",
   "metadata": {},
   "source": [
    "## **`Bibliotecas`**\n",
    "---\n",
    "Bibliotecas são coleções de módulos que nos ajudam a economizar tempo na codificação. Pense nelas como uma biblioteca de livros, onde você pode pegar um livro em vez de escrever o livro inteiro. As bibliotecas são muito úteis quando você está escrevendo um programa, pois permitem usar funcionalidades prontas em vez de escrevê-las do zero.\n",
    "\n",
    "Muitos módulos constituem uma biblioteca. Por exemplo, usamos `math` e `statistics`, que fazem parte da mesma biblioteca.\n",
    "\n",
    "Esses módulos fazem parte da The Python Standard Library, que é uma coleção de módulos integrados que vêm com o Python. A biblioteca padrão é instalada junto com o Python, portanto, não precisamos instalá-la separadamente.\n",
    "\n",
    "Se quisermos saber mais sobre bibliotecas, devemos acessar a documentação oficial do Python.\n",
    "\n",
    "Além da biblioteca padrão, existem bibliotecas externas que oferecem funcionalidades adicionais. Por exemplo:\n",
    "\n",
    "- Se quisermos lidar com expressões regulares, podemos usar a biblioteca de processamento de texto `re`.\n",
    "- Se quisermos lidar com datas e horas, podemos usar a biblioteca de data e hora `datetime`.\n",
    "\n",
    "Para instalar uma nova biblioteca externa, devemos usar o comando `pip install` seguido do nome da biblioteca. `pip` significa Python Install Package e é um gerenciador de pacotes para Python. Um gerenciador de pacotes é um programa que instala e gerencia bibliotecas e módulos.\n",
    "\n",
    "Por exemplo, podemos instalar a biblioteca `matplotlib`, que fornece funcionalidades para criar gráficos. Após a instalação, podemos importar a biblioteca e usar suas funcionalidades."
   ]
  },
  {
   "cell_type": "code",
   "execution_count": 5,
   "metadata": {},
   "outputs": [],
   "source": [
    "from matplotlib import pyplot"
   ]
  },
  {
   "cell_type": "markdown",
   "metadata": {},
   "source": [
    "Podemos usar a função plot() para criar um gráfico de linha e a função show() para exibir o gráfico.\n",
    "\n",
    "plot() aceita 2 parâmetros:\n",
    "\n",
    "uma lista de valores para o eixo x e uma lista de valores para o eixo y.\n",
    "\n",
    "show() não aceita parâmetros."
   ]
  },
  {
   "cell_type": "code",
   "execution_count": 6,
   "metadata": {},
   "outputs": [
    {
     "data": {
      "image/png": "[encoded data removed]",
      "text/plain": [
       "<Figure size 640x480 with 1 Axes>"
      ]
     },
     "metadata": {},
     "output_type": "display_data"
    }
   ],
   "source": [
    "x = [0, 1]\n",
    "y = [0, 1]\n",
    "pyplot.plot(x, y)\n",
    "pyplot.show()"
   ]
  },
  {
   "cell_type": "markdown",
   "metadata": {},
   "source": [
    "## **`Introdução ao NumPy`**\n",
    "\n",
    "Projetos da vida real tendem a lidar com grandes volumes de dados, o que pode tornar as operações muito lentas. Por exemplo, pense em uma rede social: inicialmente, o número de usuários pode ser pequeno, mas à medida que a rede cresce, a lista de usuários se torna muito longa.\n",
    "\n",
    "O NumPy, abreviação de Numerical Python, é uma biblioteca que fornece funcionalidades para trabalhar com grandes quantidades de dados. O NumPy é uma das bibliotecas mais populares para trabalhar com dados numéricos em Python. Ele oferece uma estrutura de dados chamada array, que é semelhante a uma lista, mas muito mais eficiente em termos de desempenho. Além disso, o NumPy fornece funções para operações matemáticas em arrays.\n",
    "\n",
    "É comum abreviar NumPy como `np`."
   ]
  },
  {
   "cell_type": "code",
   "execution_count": null,
   "metadata": {},
   "outputs": [],
   "source": [
    "import numpy as np"
   ]
  },
  {
   "cell_type": "markdown",
   "metadata": {},
   "source": [
    "Numpy nos permite armazenar dados em arrays. Podemos criar um array a partir de uma lista usando a função array().\n",
    "\n",
    "array() aceita uma lista como parâmetro e retorna um array."
   ]
  },
  {
   "cell_type": "code",
   "execution_count": null,
   "metadata": {},
   "outputs": [],
   "source": [
    "np_array = np.array([1, 2, 3, 4, 5])"
   ]
  },
  {
   "cell_type": "markdown",
   "metadata": {},
   "source": [
    "Vejamos, por exemplo, se quisermos adicionar 1 a cada elemento de uma lista."
   ]
  },
  {
   "cell_type": "code",
   "execution_count": null,
   "metadata": {},
   "outputs": [],
   "source": [
    "print(np_array)  # [1 2 3 4 5]"
   ]
  },
  {
   "cell_type": "markdown",
   "metadata": {},
   "source": [
    "Com NumPy podemos fazer isso em uma única linha."
   ]
  },
  {
   "cell_type": "code",
   "execution_count": null,
   "metadata": {},
   "outputs": [],
   "source": [
    "print(np_array + 1)  # [2 3 4 5 6]"
   ]
  },
  {
   "cell_type": "markdown",
   "metadata": {},
   "source": [
    "Sem ele teríamos que usar um loop for. Iteramos sobre os índices da lista e adicionamos 1 a cada elemento.\n",
    "\n",
    "for i in range(len(np_array)):\n",
    "  np_array[i] += 1\n",
    "\n",
    "Com np_array = np.array([1, 2, 3, 4, 5]) estamos transformando uma lista em um array. Podemos criar um array vazio usando a função empty().\n",
    "\n",
    "Podemos converter listas com todos os tipos de dados, desde que todos os elementos sejam do mesmo tipo.\n",
    "\n",
    "Tentar criar um array com tipos de dados diferentes resultará em um array com um único tipo de dados."
   ]
  },
  {
   "cell_type": "code",
   "execution_count": null,
   "metadata": {},
   "outputs": [],
   "source": [
    "stock = np.array([10, 12, \"25\"])\n",
    "print(stock)  # ['10' '12' '25']"
   ]
  },
  {
   "cell_type": "markdown",
   "metadata": {},
   "source": [
    "Usamos a indexação para acessar elementos de um array. A indexação funciona da mesma forma que as listas. Podemos usar um índice negativo para acessar elementos a partir do final do array."
   ]
  },
  {
   "cell_type": "code",
   "execution_count": null,
   "metadata": {},
   "outputs": [],
   "source": [
    "print(stock[0])  # 10"
   ]
  },
  {
   "cell_type": "markdown",
   "metadata": {},
   "source": [
    "Para saber a composição de um array usamos a função size()."
   ]
  },
  {
   "cell_type": "code",
   "execution_count": null,
   "metadata": {},
   "outputs": [],
   "source": [
    "print(stock.size)  # 3\n",
    "print(np.size(stock))  # 3"
   ]
  },
  {
   "cell_type": "markdown",
   "metadata": {},
   "source": [
    "NumPy fornece funções para criar arrays com valores padrão. Por exemplo, podemos criar um array com todos os valores iguais a 0 usando a função zeros(). Precisamos somente informar o tamanho do array como parâmetro."
   ]
  },
  {
   "cell_type": "code",
   "execution_count": null,
   "metadata": {},
   "outputs": [],
   "source": [
    "print(np.zeros(5))  # [0. 0. 0. 0. 0.]"
   ]
  },
  {
   "cell_type": "markdown",
   "metadata": {},
   "source": [
    "zeros cria um array com valores de ponto flutuante. Podemos criar um array com valores inteiros usando a função zeros() e especificando o tipo de dados como int.\n",
    "\n",
    "Da mesma forma, podemos criar um array com todos os valores iguais a 1 usando a função ones().\n",
    "\n",
    "Se quisermos criar um array com valores diferentes, o método arange() cria um array com valores sequenciais. O array começa em zero. Precisamos informar o valor inicial, o valor final e o intervalo como parâmetros. O valor final não é incluído no array."
   ]
  },
  {
   "cell_type": "code",
   "execution_count": null,
   "metadata": {},
   "outputs": [],
   "source": [
    "print(np.arange(1, 10, 2))  # [1 3 5 7 9]"
   ]
  },
  {
   "cell_type": "markdown",
   "metadata": {},
   "source": [
    "Se quisermos criar um array com valores aleatórios, podemos usar a função random(). Precisamos informar o tamanho do array como parâmetro."
   ]
  },
  {
   "cell_type": "code",
   "execution_count": null,
   "metadata": {},
   "outputs": [],
   "source": [
    "print(np.random.random(5))  # O intervalo padrão é entre 0 e 1"
   ]
  },
  {
   "cell_type": "markdown",
   "metadata": {},
   "source": [
    "Podemos criar um array de números aleatórios inteiros entre 0 e 10 usando randint()."
   ]
  },
  {
   "cell_type": "code",
   "execution_count": null,
   "metadata": {},
   "outputs": [],
   "source": [
    "print(np.random.randint(1, 10, 5))"
   ]
  }
 ],
 "metadata": {
  "kernelspec": {
   "display_name": "Python 3",
   "language": "python",
   "name": "python3"
  },
  "language_info": {
   "codemirror_mode": {
    "name": "ipython",
    "version": 3
   },
   "file_extension": ".py",
   "mimetype": "text/x-python",
   "name": "python",
   "nbconvert_exporter": "python",
   "pygments_lexer": "ipython3",
   "version": "3.12.1"
  }
 },
 "nbformat": 4,
 "nbformat_minor": 2
}
