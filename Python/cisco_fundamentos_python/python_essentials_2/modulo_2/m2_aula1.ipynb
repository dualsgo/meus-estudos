{
 "cells": [
  {
   "cell_type": "markdown",
   "metadata": {},
   "source": [
    "### 2.1.1 Como os computadores entendem caracteres únicos\n",
    "\n",
    "Você escreveu alguns programas interessantes desde que começou este curso, mas todos eles processaram apenas um tipo de dados – números. Como você sabe (você pode ver isso em todos os lugares ao seu redor) muitos dados de computador não são números: nomes, sobrenomes, endereços, títulos, poemas, artigos científicos, e-mails, sentenças judiciais, declarações de amor e muito, muito mais.\n",
    "\n",
    "Todos esses dados devem ser armazenados, inseridos, produzidos, pesquisados e transformados por **computadores contemporâneos** como qualquer outro dado, não importa se são **caracteres únicos** ou enciclopédias de vários volumes.\n",
    "\n",
    "#### Como é possível?\n",
    "\n",
    "Como você pode fazer isso em Python? É o que vamos discutir agora. Vamos começar com como os computadores entendem **caracteres únicos**.\n",
    "\n",
    "Os computadores armazenam **caracteres** como números. Cada **caractere** usado por um computador corresponde a um número único, e vice-versa. Essa atribuição deve incluir mais **caracteres** do que o esperado. Muitos deles são invisíveis para os seres humanos, mas essenciais para os computadores.\n",
    "\n",
    "Alguns desses **caracteres** são chamados de **espaços em branco**, enquanto outros são chamados de **caracteres de controle**, porque sua finalidade é controlar dispositivos de entrada/saída.\n",
    "\n",
    "Um exemplo de um **espaço em branco** que é completamente invisível a olho nu é um código especial, ou um par de códigos (diferentes sistemas operacionais podem tratar esse problema de forma diferente), que são usados para marcar as extremidades das linhas dentro de arquivos de texto.\n",
    "\n",
    "As pessoas não veem este sinal (ou esses sinais), mas são capazes de observar o efeito de sua aplicação onde as linhas são quebradas.\n",
    "\n",
    "Podemos criar praticamente qualquer número de atribuições de número de **caracteres**, mas a vida em um mundo em que cada tipo de computador usasse uma codificação de **caracteres** diferente não seria muito conveniente. Este sistema levou à necessidade de introduzir um padrão universal e amplamente aceito implementado por (quase) todos os computadores e sistemas operacionais em todo o mundo.\n",
    "\n",
    "O chamado **ASCII** (abreviação de American Standard Code for Information Interchange) é o mais utilizado, e você pode assumir que quase todos os dispositivos modernos (como computadores, impressoras, celulares, tablets, etc.) usam esse código.\n",
    "\n",
    "O código fornece espaço para 256 **caracteres** diferentes, mas estamos interessados apenas nos primeiros 128. Se você quiser ver como o código é construído, veja a tabela abaixo. Clique na tabela para ampliá-la. Olhe com atenção – há alguns fatos interessantes. Olhe para o código do **caractere** mais comum – o **espaço**. São 32.\n",
    "\n",
    "Character | Code | Character | Code | Character | Code | Character | Code\n",
    "----------|------|-----------|------|-----------|------|-----------|-----\n",
    "(NUL)     | 0    | (space)   | 32   | @         | 64   | `         | 96\n",
    "(SOH)     | 1    | !         | 33   | A         | 65   | a         | 97\n",
    "(STX)     | 2    | \"         | 34   | B         | 66   | b         | 98\n",
    "(ETX)     | 3    | #         | 35   | C         | 67   | c         | 99\n",
    "(EOT)     | 4    | $         | 36   | D         | 68   | d         | 100\n",
    "(ENQ)     | 5    | %         | 37   | E         | 69   | e         | 101\n",
    "(ACK)     | 6    | &         | 38   | F         | 70   | f         | 102\n",
    "(BEL)     | 7    | '         | 39   | G         | 71   | g         | 103\n",
    "(BS)      | 8    | (         | 40   | H         | 72   | h         | 104\n",
    "(HT)      | 9    | )         | 41   | I         | 73   | i         | 105\n",
    "(LF)      | 10   | *         | 42   | J         | 74   | j         | 106\n",
    "(VT)      | 11   | +         | 43   | K         | 75   | k         | 107\n",
    "(FF)      | 12   | ,         | 44   | L         | 76   | l         | 108\n",
    "(CR)      | 13   | -         | 45   | M         | 77   | m         | 109\n",
    "(SO)      | 14   | .         | 46   | N         | 78   | n         | 110\n",
    "(SI)      | 15   | /         | 47   | O         | 79   | o         | 111\n",
    "(DLE)     | 16   | 0         | 48   | P         | 80   | p         | 112\n",
    "(DC1)     | 17   | 1         | 49   | Q         | 81   | q         | 113\n",
    "(DC2)     | 18   | 2         | 50   | R         | 82   | r         | 114\n",
    "(DC3)     | 19   | 3         | 51   | S         | 83   | s         | 115\n",
    "(DC4)     | 20   | 4         | 52   | T         | 84   | t         | 116\n",
    "(NAK)     | 21   | 5         | 23   | U         | 85   | u         | 117\n",
    "(SYN)     | 22   | 6         | 54   | V         | 86   | v         | 118\n",
    "(ETB)     | 23   | 7         | 55   | W         | 87   | w         | 119\n",
    "(CAN)     | 24   | 8         | 56   | X         | 88   | x         | 120\n",
    "(EM)      | 25   | 9         | 57   | Y         | 89   | y         | 121\n",
    "(SUB)     | 26   | :         | 58   | Z         | 90   | z         | 122\n",
    "(ESC)     | 27   | ;         | 59   | [         | 91   | {         | 123\n",
    "(FS)      | 28   | <         | 60   | \\         | 92   | |         | 124\n",
    "(GS)      | 29   | =         | 61   | ]         | 93   | }         | 125\n",
    "(RS)      | 30   | >         | 62   | ^         | 94   | ~         | 126\n",
    "(EUA)     | 31   | ?         | 63   | _         | 95   |           | 127\n",
    "\n",
    "Agora verifique o código da letra minúscula **a**. São 97. E agora encontre o **A** maiúsculo. Seu código é 65. Agora trabalhe a diferença entre o código de **a** e **A**. É igual a 32. Esse é o código de um **espaço**. Interessante, não é?\n",
    "\n",
    "Observe também que as letras estão organizadas na mesma ordem do **alfabeto latino**.\n"
   ]
  },
  {
   "cell_type": "code",
   "execution_count": 1,
   "metadata": {},
   "outputs": [
    {
     "name": "stdout",
     "output_type": "stream",
     "text": [
      "97\n"
     ]
    }
   ],
   "source": [
    "# Em Python, podemos decobrir o código ASCII de um caractere com a função ord()\n",
    "\n",
    "# Exemplo:\n",
    "print(ord('a')) # 97"
   ]
  },
  {
   "cell_type": "markdown",
   "metadata": {},
   "source": [
    "### **`I18N`**\n",
    "\n",
    "É claro que o **alfabeto latino** não é suficiente para toda a humanidade. Os usuários desse alfabeto são minoria. Era necessário criar algo mais flexível e amplo do que o **ASCII**, algo capaz de tornar todos os softwares do mundo passíveis de **internacionalização**, porque línguas diferentes usam alfabetos completamente diferentes, e às vezes esses alfabetos não são tão simples quanto o latino.\n",
    "\n",
    "A palavra **internacionalização** é comumente abreviada para **I18N**.\n",
    "\n",
    "Por que? Olhe com atenção – há um **I** na frente da palavra, em seguida há **18** letras diferentes e um **N** no final.\n",
    "\n",
    "Apesar da origem levemente humorística, o termo é usado oficialmente em muitos documentos e normas.\n",
    "\n",
    "O software **I18N** é um padrão nos tempos atuais. Cada programa tem de ser escrito de uma forma que permita que seja usado em todo o mundo, entre diferentes culturas, línguas e alfabetos.\n",
    "\n",
    "Uma forma clássica de código **ASCII** usa oito bits para cada sinal. Oito bits significam 256 caracteres diferentes. Os primeiros 128 são usados para o alfabeto latino padrão (caracteres maiúsculos e minúsculos). É possível empurrar todos os outros personagens nacionais usados ao redor do mundo para os 128 locais restantes?\n",
    "\n",
    "Não. Não é."
   ]
  }
 ],
 "metadata": {
  "kernelspec": {
   "display_name": "Python 3",
   "language": "python",
   "name": "python3"
  },
  "language_info": {
   "codemirror_mode": {
    "name": "ipython",
    "version": 3
   },
   "file_extension": ".py",
   "mimetype": "text/x-python",
   "name": "python",
   "nbconvert_exporter": "python",
   "pygments_lexer": "ipython3",
   "version": "3.12.1"
  }
 },
 "nbformat": 4,
 "nbformat_minor": 2
}
