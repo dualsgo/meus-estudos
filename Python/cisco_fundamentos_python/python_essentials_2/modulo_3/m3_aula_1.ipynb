{
 "cells": [
  {
   "cell_type": "markdown",
   "metadata": {},
   "source": [
    "# Módulo 3 - Programação Orientada a Objetos;"
   ]
  }
 ],
 "metadata": {
  "language_info": {
   "name": "python"
  }
 },
 "nbformat": 4,
 "nbformat_minor": 2
}
