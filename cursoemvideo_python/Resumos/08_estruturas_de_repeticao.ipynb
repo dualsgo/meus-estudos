{
 "cells": [
  {
   "cell_type": "markdown",
   "metadata": {},
   "source": [
    "# **`Estruturas de Repetição`**\n",
    "---\n",
    "Os programas repetem as mesmas linhas de código continuamente para construir todo tipo de coisas, como elementos repetidos de aplicativos.\n",
    "\n",
    "Uma maneira de repetir linhas de código é escrevê-las repetidamente, mas isso leva muito tempo se quisermos criar programas maiores."
   ]
  },
  {
   "cell_type": "code",
   "execution_count": 1,
   "metadata": {},
   "outputs": [
    {
     "name": "stdout",
     "output_type": "stream",
     "text": [
      "Olá, mundo!\n",
      "Olá, mundo!\n",
      "Olá, mundo!\n",
      "Olá, mundo!\n",
      "Olá, mundo!\n",
      "Olá, mundo!\n",
      "Olá, mundo!\n",
      "Olá, mundo!\n"
     ]
    }
   ],
   "source": [
    "# Se quissessemos por exemplo exibir uma mensagem repetidamente, poderíamos fazer algo assim:\n",
    "\n",
    "print(\"Olá, mundo!\")\n",
    "print(\"Olá, mundo!\")\n",
    "print(\"Olá, mundo!\")\n",
    "print(\"Olá, mundo!\")\n",
    "\n",
    "# Parece não ser tão ruim assim, não é? Mas e se quiséssemos exibir a mensagem 100 vezes? Ou 1000 vezes? Ou 10000 vezes? Seria muito trabalhoso escrever a mesma linha de código tantas vezes. Mesmo que as copiasse e colasse, ainda seria um trabalho tedioso e propenso a erros. Felizmente, existe uma maneira mais eficiente de fazer isso: usando loops.\n",
    "\n",
    "# Um loop é uma estrutura de controle que permite executar um bloco de código várias vezes. Em Python, existem dois tipos de loops: o for e o while.\n",
    "\n",
    "# O loop for é usado para iterar sobre uma sequência de elementos, como uma lista, uma tupla, um dicionário, etc. Por exemplo, para exibir a mensagem \"Olá, mundo!\" 4 vezes, podemos fazer assim:\n",
    "\n",
    "for i in range(4):\n",
    "    print(\"Olá, mundo!\")\n",
    "\n",
    "# Ao executar esse código, a mensagem \"Olá, mundo!\" será exibida 4 vezes. Chegamos ao mesmo resultado, mas de forma muito mais simples e eficiente. Mas como isso funciona? Vamos analisar o código linha por linha:\n",
    "\n",
    "# 1. A função range(4) cria uma sequência de números de 0 a 3. Ou seja, ela gera os números 0, 1, 2 e 3. Essa é a sequência de números que o loop for irá iterar.\n",
    "# 2. O loop for itera sobre essa sequência de números, atribuindo cada número à variável i.\n",
    "# 3. Dentro do bloco de código do loop, a função print(\"Olá, mundo!\") exibe a mensagem \"Olá, mundo!\" na tela.\n",
    "\n",
    "# Vamos abordar outros conceitos e nos aprofundar mais nos loops"
   ]
  },
  {
   "cell_type": "markdown",
   "metadata": {},
   "source": [
    "## **`Autoatribuição e Operadores`**\n",
    "\n",
    "Vamos aprender um novo conceito que explica como as variáveis controlam coisas como adicionar ou retirar reais de uma carteira.\n",
    "\n",
    "Autoatribuição é quando definimos uma variável com seu próprio valor. Por exemplo, podemos definir `carteira` com valor 3 usando um operador de atribuição como `=`:"
   ]
  },
  {
   "cell_type": "code",
   "execution_count": 2,
   "metadata": {},
   "outputs": [],
   "source": [
    "carteira = 3 # Lembre-se: O conceito de variável é dar nome a um valor, então carteira é o nome dado ao valor 3 (atulmente)"
   ]
  },
  {
   "cell_type": "markdown",
   "metadata": {},
   "source": [
    "Como podemos autoatribuir variáveis, podemos aumentar ou diminuir variáveis definidas com números."
   ]
  },
  {
   "cell_type": "code",
   "execution_count": 5,
   "metadata": {},
   "outputs": [
    {
     "name": "stdout",
     "output_type": "stream",
     "text": [
      "4\n"
     ]
    }
   ],
   "source": [
    "carteira = 3 # A variável carteira tem o valor 3\n",
    "\n",
    "carteira = carteira + 1 # Estamos dizendo que queremos manter o valor atual da variável, que atualmente é 3 e adicionar 1 a ela. Ou seja, 3 (valor atual) + 1 = 4\n",
    "\n",
    "print(carteira) # O valor impresso será 4"
   ]
  },
  {
   "cell_type": "markdown",
   "metadata": {},
   "source": [
    "O Python oferece uma maneira reduzida de escrever operações como essas.\n",
    "\n",
    "Variáveis autoatribuídas nos permitem rastrear dados que mudam ao longo do tempo."
   ]
  },
  {
   "cell_type": "code",
   "execution_count": 1,
   "metadata": {},
   "outputs": [
    {
     "name": "stdout",
     "output_type": "stream",
     "text": [
      "4\n",
      "4\n"
     ]
    }
   ],
   "source": [
    "carteira = 3 # A variável carteira tem o valor 3\n",
    "\n",
    "carteira = carteira + 2  # 3 + 2 = 5\n",
    "# Valor atual da variável que é 3, somado 2, resultando em 5\n",
    "\n",
    "carteira = carteira - 1  # 5 - 1 = 4\n",
    "# Valor atual da variável que é 5, subtraído 1, resultando em 4\n",
    "\n",
    "print(carteira) # O valor impresso será 4\n",
    "\n",
    "# Este mesmo exemplo, poderia ser feito de forma mais simplificada, como a seguir:\n",
    "\n",
    "carteira = 3\n",
    "\n",
    "carteira += 2 # 3 + 2 = 5\n",
    "# A variável carteira é somada a 2, resultando em 5\n",
    "\n",
    "carteira -= 1 # 5 - 1 = 4\n",
    "# A variável carteira é subtraída por 1, resultando em 4\n",
    "\n",
    "print(carteira) # O valor impresso será 4\n",
    "\n",
    "# Este conceito abrevia a operação. O operador += é chamado de operador de atribuição composta. Ele é usado para adicionar um valor e atribuí-lo à variável em uma única etapa.\n",
    "\n",
    "# O valor a esquerda é o valor atual da variável, e o valor a direita é o valor que será adicionado a ela"
   ]
  },
  {
   "cell_type": "markdown",
   "metadata": {},
   "source": [
    "Como a autoatribuição é uma ferramenta poderosa para criar programas, vamos aprender alguns operadores que nos ajudam a escrever código com mais rapidez:"
   ]
  },
  {
   "cell_type": "code",
   "execution_count": 6,
   "metadata": {},
   "outputs": [
    {
     "name": "stdout",
     "output_type": "stream",
     "text": [
      "5\n",
      "6\n",
      "5\n",
      "10\n",
      "5.0\n"
     ]
    }
   ],
   "source": [
    "likes = 5 # o valor atual da variável likes é 5\n",
    "print(likes) # 5\n",
    "\n",
    "# Incrementando - Adicionando 1 ao valor atual da variável\n",
    "likes += 1 # 5 + 1 = 6\n",
    "print(likes) # 6\n",
    "\n",
    "# Decrementando - Subtraindo 1 do valor atual da variável\n",
    "likes -= 1 # 6 - 1 = 5\n",
    "print(likes) # 5\n",
    "\n",
    "# Multiplicando - Multiplicando o valor atual da variável por 2\n",
    "likes *= 2 # 5 * 2 = 10\n",
    "print(likes) # 10\n",
    "\n",
    "# Dividindo - Dividindo o valor atual da variável por 2\n",
    "likes /= 2 # 10 / 2 = 5.0\n",
    "print(likes) # 5.0\n",
    "\n",
    "# Lembre-se que a cada instrução de atribuição, o valor da variável é atualizado"
   ]
  },
  {
   "cell_type": "markdown",
   "metadata": {},
   "source": [
    "# Tipos de Laços de Repetição em Python\n",
    "\n",
    "Os laços de repetição, também conhecidos como loops, são ferramentas essenciais em qualquer linguagem de programação, e o Python oferece dois tipos principais: `for` e `while`. Cada um possui características e aplicações específicas, permitindo automatizar tarefas repetitivas e processar coleções de dados com eficiência.\n",
    "\n",
    "## 1. Laço `for`\n",
    "\n",
    "O laço `for` é ideal para iterar sobre uma sequência ordenada de elementos, como listas, tuplas, strings ou ranges. Sua estrutura básica é a seguinte:\n",
    "\n",
    "```python\n",
    "for <variável_controle> in <sequência>:\n",
    "    # Código a ser executado para cada elemento\n",
    "```\n",
    "\n",
    "- **Variável de controle:** Recebe cada elemento da sequência a cada iteração.\n",
    "- **Sequência:** Define os elementos a serem iterados.\n",
    "\n",
    "**Exemplo:**\n",
    "\n",
    "```python\n",
    "for fruta in [\"maçã\", \"banana\", \"laranja\"]:\n",
    "    print(f\"Eu gosto de comer {fruta}.\")\n",
    "```\n",
    "\n",
    "**Resultado:**\n",
    "\n",
    "```\n",
    "Eu gosto de comer maçã.\n",
    "Eu gosto de comer banana.\n",
    "Eu gosto de comer laranja.\n",
    "```\n",
    "\n",
    "## 2. Laço `while`\n",
    "\n",
    "O laço `while` executa um bloco de código enquanto uma condição específica permanecer verdadeira. É útil quando o número de iterações é desconhecido ou depende de uma condição que muda durante a execução.\n",
    "\n",
    "Sua estrutura básica é:\n",
    "\n",
    "```python\n",
    "while <condição>:\n",
    "    # Código a ser executado enquanto a condição for verdadeira\n",
    "```\n",
    "\n",
    "**Exemplo:**\n",
    "\n",
    "```python\n",
    "contador = 1\n",
    "while contador <= 5:\n",
    "    print(f\"Contagem: {contador}\")\n",
    "    contador += 1\n",
    "```\n",
    "\n",
    "**Resultado:**\n",
    "\n",
    "```\n",
    "Contagem: 1\n",
    "Contagem: 2\n",
    "Contagem: 3\n",
    "Contagem: 4\n",
    "Contagem: 5\n",
    "```\n",
    "\n",
    "## Diferenças Essenciais\n",
    "\n",
    "- **Conhecimento prévio das iterações:** `for` exige o conhecimento prévio do número de iterações (tamanho da sequência), enquanto `while` depende de uma condição que determina o término.\n",
    "- **Precisão:** `for` é mais preciso para um número fixo de repetições, enquanto `while` é mais adequado para situações com um número indeterminado de iterações.\n",
    "- **Flexibilidade:** `while` oferece maior flexibilidade, pois a condição pode ser alterada dentro do loop, permitindo um controle mais dinâmico da execução.\n",
    "\n",
    "## Escolha do Laço Adequado\n",
    "\n",
    "A escolha entre `for` e `while` depende do contexto e das características do problema a ser resolvido.\n",
    "\n",
    "- Utilize `for` quando:\n",
    "    - A quantidade de iterações for conhecida e fixa.\n",
    "    - Você precisa iterar sobre uma sequência ordenada de elementos.\n",
    "    - O foco principal for na iteração em si, sem necessidade de uma condição complexa.\n",
    "- Utilize `while` quando:\n",
    "    - O número de iterações for desconhecido ou depender de uma condição.\n",
    "    - A condição de término do loop precisar ser verificada e atualizada a cada iteração.\n",
    "    - Você precisa de um controle mais flexível sobre a execução do loop.\n",
    "\n",
    "## Domine os Laços e Aprimore sua Programação\n",
    "\n",
    "Ao dominar os laços `for` e `while`, você terá ferramentas poderosas para automatizar tarefas, processar dados e escrever código mais eficiente e elegante em Python. Explore exemplos práticos, pratique diferentes cenários e aperfeiçoe suas habilidades para se tornar um programador Python mais completo.\n"
   ]
  },
  {
   "cell_type": "markdown",
   "metadata": {},
   "source": [
    "## **`while`**\n",
    "---\n",
    "A estrutura **while** executa o código enquanto uma condição for verdadeira.\n",
    "\n",
    "Em geral, em Python, um loop pode ser representado da seguinte forma:\n",
    "\n",
    "```python\n",
    "# enquanto há algo para fazer:\n",
    "#    faça isso\n",
    "\n",
    "# while condição:\n",
    "#    instrução\n",
    "```\n",
    "\n",
    "Observe que esse registro deixa implícito que se nada precisa ser feito, nada será feito. Mesmo que hajam instruções dentro do loop, elas não serão executadas se não houver nada a fazer.\n",
    "\n",
    "Se você observar algumas semelhanças com a instrução **if**, tudo bem. Na verdade, a diferença sintática é apenas uma: você usa a palavra **while** em vez da palavra **if**.\n",
    "\n",
    "A diferença semântica é mais importante: quando a condição é atendida, **if** executa suas instruções apenas uma vez; Enquanto um loop repete a execução, enquanto a condição avalia como True.\n",
    "\n",
    "**Nota**: todas as regras relacionadas à indentação também são aplicáveis aqui. Mostraremos isso em breve.\n",
    "\n",
    "**Importante**:\n",
    "\n",
    "- se você quiser executar mais de uma instrução dentro de um loop **while**, você deve (como no **if**) recuar todas as instruções da mesma maneira;\n",
    "- uma instrução ou um conjunto de instruções executadas dentro do loop **while** é chamado de corpo do loop;\n",
    "- se a condição for False (igual a zero) quando for testada pela primeira vez, o corpo não será executado uma única vez (observe a analogia de não ter que fazer nada se não houver nada a fazer);\n",
    "- o corpo deve ser capaz de alterar o valor da condição, porque se a condição for True no início, o corpo poderá ser executado continuamente até o infinito (observe que fazer algo geralmente diminui o número de coisas a fazer).\n",
    "\n",
    "O laço **while** pode ser usado para criar um menu de opções, pois pode executar o código enquanto o usuário não digitar uma opção de saída entre as opções disponíveis. Isso é conhecido como loop infinito.\n",
    "\n",
    "```python\n",
    "# while True:\n",
    "#   print(\"Estou preso dentro de um loop.\")\n",
    "```\n",
    "\n",
    "Esse loop exibirá infinitamente \"Estou preso dentro de um loop\" pois não há nada que altere a condição do loop. Ela sempre será True.\n",
    "\n",
    "Vamos mostrar como usar esse loop recém-aprendido para encontrar o maior número de um grande conjunto de dados inseridos."
   ]
  },
  {
   "cell_type": "code",
   "execution_count": 3,
   "metadata": {},
   "outputs": [
    {
     "ename": "ValueError",
     "evalue": "invalid literal for int() with base 10: '  '",
     "output_type": "error",
     "traceback": [
      "\u001b[1;31m---------------------------------------------------------------------------\u001b[0m",
      "\u001b[1;31mValueError\u001b[0m                                Traceback (most recent call last)",
      "Cell \u001b[1;32mIn[3], line 5\u001b[0m\n\u001b[0;32m      2\u001b[0m maior_numero \u001b[38;5;241m=\u001b[39m \u001b[38;5;28mfloat\u001b[39m(\u001b[38;5;124m'\u001b[39m\u001b[38;5;124m-inf\u001b[39m\u001b[38;5;124m'\u001b[39m) \u001b[38;5;66;03m# float('-inf') é uma tecnica para definir o menor valor possivel para um float. Chamamos a tecnica de \"sentinela\". Desse modo garantimos que o primeiro número que o usuário digitar será maior que o maior número atual, tendo em vista que qualquer valor é maior que o menor valor possível.\u001b[39;00m\n\u001b[0;32m      4\u001b[0m \u001b[38;5;66;03m# Insira o primeiro valor. Essa é a primeira entrada do usuário. Se o usuário digitar -1, o loop não será executado. Qualquer outro número iniciará o loop.\u001b[39;00m\n\u001b[1;32m----> 5\u001b[0m number \u001b[38;5;241m=\u001b[39m \u001b[38;5;28;43mint\u001b[39;49m\u001b[43m(\u001b[49m\u001b[38;5;28;43minput\u001b[39;49m\u001b[43m(\u001b[49m\u001b[38;5;124;43m\"\u001b[39;49m\u001b[38;5;124;43mDigite um número ou digite -1 para parar: \u001b[39;49m\u001b[38;5;124;43m\"\u001b[39;49m\u001b[43m)\u001b[49m\u001b[43m)\u001b[49m\n\u001b[0;32m      7\u001b[0m \u001b[38;5;66;03m# Se o número não for igual a -1, continue.\u001b[39;00m\n\u001b[0;32m      8\u001b[0m \u001b[38;5;28;01mwhile\u001b[39;00m number \u001b[38;5;241m!=\u001b[39m \u001b[38;5;241m-\u001b[39m\u001b[38;5;241m1\u001b[39m:\n\u001b[0;32m      9\u001b[0m \u001b[38;5;66;03m# Uma vez dentro do loop, a instrução if verifica se o número atual é maior que o maior número atual.\u001b[39;00m\n\u001b[0;32m     10\u001b[0m \n\u001b[0;32m     11\u001b[0m     \u001b[38;5;66;03m# Se o número atual for maior que o maior número atual, atualize o maior número.\u001b[39;00m\n",
      "\u001b[1;31mValueError\u001b[0m: invalid literal for int() with base 10: '  '"
     ]
    }
   ],
   "source": [
    "# Armazene o maior número atual aqui.\n",
    "maior_numero = float('-inf') # float('-inf') é uma tecnica para definir o menor valor possivel para um float. Chamamos a tecnica de \"sentinela\". Desse modo garantimos que o primeiro número que o usuário digitar será maior que o maior número atual, tendo em vista que qualquer valor é maior que o menor valor possível.\n",
    "\n",
    "# Insira o primeiro valor. Essa é a primeira entrada do usuário. Se o usuário digitar -1, o loop não será executado. Qualquer outro número iniciará o loop.\n",
    "number = int(input(\"Digite um número ou digite -1 para parar: \"))\n",
    "\n",
    "# Se o número não for igual a -1, continue.\n",
    "while number != -1:\n",
    "# Uma vez dentro do loop, a instrução if verifica se o número atual é maior que o maior número atual.\n",
    "\n",
    "    # Se o número atual for maior que o maior número atual, atualize o maior número.\n",
    "    if number > maior_numero:\n",
    "        maior_numero = number\n",
    "    \n",
    "    # Fica implícito que se o número não for maior que o maior número, não precisamos fazer nada.\n",
    "\n",
    "    # Após passar pela verificação do bloco if, o loop solicita outra entrada do usuário, independentemente do resultado da verificação. Lembre-se, o loop while continuará até que o usuário digite -1.\n",
    "    number = int(input(\"Digite um número ou digite -1 para parar: \"))\n",
    "    \n",
    "    # Se o usuário digitar -1, o loop while será interrompido e o programa continuará com a próxima verficação.\n",
    "\n",
    "# Se o usuário digitar -1, o loop while será interrompido e a mensagem abaixo será exibida.\n",
    "print(f\"O maior número digitado foi: {maior_numero}\" )"
   ]
  },
  {
   "cell_type": "markdown",
   "metadata": {},
   "source": [
    "Vejamos outro exemplo empregando o loop while. Siga os comentários para descobrir a ideia e a solução.\n",
    "\n",
    "Um programa que lê uma sequência de números e conta quantos números são pares e quantos são ímpares. O programa termina quando zero é digitado."
   ]
  },
  {
   "cell_type": "code",
   "execution_count": 3,
   "metadata": {},
   "outputs": [
    {
     "name": "stdout",
     "output_type": "stream",
     "text": [
      "Números ímpares digitados: 2\n",
      "Números pares digitados: 2\n"
     ]
    }
   ],
   "source": [
    "# Para esse programa, precisamos inicializar contadores para números pares e ímpares. Eles serão atualizados conforme o usuário digita números. No final, exibiremos o total de números pares e ímpares digitados.\n",
    "pares = impares = 0\n",
    "\n",
    "# Lemos o primeiro número. Em nosso programa, zero é o valor de parada. Se o usuário digitar 0, o loop while será interrompido. Se zero for o primeiro número digitado, o loop não será executado.\n",
    "number = int(input(\"Digite um número qualquer (0 para parar): \"))\n",
    "\n",
    "while number: # while number espera que number seja diferente de 0\n",
    "# while espera um valor booleano True para continuar a execução do loop.\n",
    "# Sabemos que 0 é False e qualquer outro número é True.\n",
    "# Portanto, 0 é o valor perfeito para parar o loop.\n",
    "\n",
    "# Verifique se o número é ímpar.\n",
    "    if number % 2: # espera que o resto da divisão de number por 2 seja diferente de 0 (ou seja, que seja ímpar) logo equivalente a True.\n",
    "\n",
    "# Incrementar o contador de números impares.\n",
    "        impares += 1\n",
    "\n",
    "# Incrementar o contador de números pares se a condição acima não for satisfeita. Ou seja, se o número for par. (ou mais precisamente não for ímpar)\n",
    "    else:\n",
    "        pares += 1\n",
    "\n",
    "# Leia o número seguinte. O código retorna para o início do loop e verifica esse novo número. Se for 0, o loop para.\n",
    "    number = int(input(\"Digite um número ou digite 0 para parar: \"))\n",
    "\n",
    "# Se o loop for finalizado, imprima os resultados.\n",
    "print(\"Números ímpares digitados:\", impares)\n",
    "print(\"Números pares digitados:\", pares)"
   ]
  },
  {
   "cell_type": "markdown",
   "metadata": {},
   "source": [
    "Tente se lembrar de como o Python interpreta a verdade de uma condição e observe que essas duas formas são equivalentes:\n",
    "\n",
    "Em Python, qualquer valor diferente de zero é considerado verdadeiro quando avaliado em um contexto booleano, e zero é considerado falso.\n",
    "\n",
    "\n",
    "1. `while number != 0:` e `while number:`\n",
    "   \n",
    "   Ambas as condições verificam se `number` é diferente de zero. Se `number` for diferente de zero, a condição será verdadeira e o loop continuará. Se `number` for zero, a condição será falsa e o loop terminará.\n",
    "\n",
    "2. `if number % 2 == 1:` e `if number % 2:`\n",
    "\n",
    "   Ambas as condições verificam se `number` é ímpar. Se o resto da divisão de `number` por 2 for igual a 1, significa que `number` é ímpar. Em Python, quando `number % 2` é calculado, se o resultado for diferente de zero (ou seja, 1 para números ímpares), a condição será verdadeira, indicando que `number` é ímpar.\n",
    "\n",
    "Essas formas são úteis para escrever código mais conciso e claro em Python."
   ]
  },
  {
   "cell_type": "markdown",
   "metadata": {},
   "source": [
    "### **`Usando uma Variável Counter para Sair do Loop`**\n",
    "\n",
    "Este código destina-se a imprimir a cadeia de caracteres ***\"dentro do loop\"*** e o valor armazenado na variável do contador durante um determinado loop exatamente cinco vezes. Quando a condição não for atendida (a variável do contador atingiu 0), o loop é encerrado e a mensagem \"Fora do loop\", assim como o valor armazenado no contador, é impresso."
   ]
  },
  {
   "cell_type": "code",
   "execution_count": 5,
   "metadata": {},
   "outputs": [
    {
     "name": "stdout",
     "output_type": "stream",
     "text": [
      "Estamos dentro do laço. Counter vale 5\n",
      "Estamos dentro do laço. Counter vale 4\n",
      "Estamos dentro do laço. Counter vale 3\n",
      "Estamos dentro do laço. Counter vale 2\n",
      "Estamos dentro do laço. Counter vale 1\n",
      "Estamos fora do laço. Counter vale 0\n"
     ]
    }
   ],
   "source": [
    "# Neste exemplo atualizamos o contador após a exibição do número.\n",
    "\n",
    "counter = 5 # contador - precisa ser definido antes do loop\n",
    "\n",
    "while counter != 0:  # enquanto contador for diferente de zero\n",
    "\n",
    "    print(f\"Estamos dentro do laço. Counter vale {counter}\") # imprime o contador\n",
    "\n",
    "    counter -= 1 # diminui o contador e reavalia a condição do while\n",
    "\n",
    "print(f\"Estamos fora do laço. Counter vale {counter}\") # imprime o contador quando for igual a zero"
   ]
  },
  {
   "cell_type": "code",
   "execution_count": 6,
   "metadata": {},
   "outputs": [
    {
     "name": "stdout",
     "output_type": "stream",
     "text": [
      "Estamos dentro do laço. Counter vale 4\n",
      "Estamos dentro do laço. Counter vale 3\n",
      "Estamos dentro do laço. Counter vale 2\n",
      "Estamos dentro do laço. Counter vale 1\n",
      "Estamos dentro do laço. Counter vale 0\n",
      "Estamos fora do laço. Counter vale 0\n"
     ]
    }
   ],
   "source": [
    "# Neste exemplo, o contador é atualizado antes da exibição do número.\n",
    "\n",
    "counter = 5 # contador\n",
    "\n",
    "while counter != 0:  # enquanto contador for diferente de zero\n",
    "    \n",
    "    counter -= 1 # diminui o contador\n",
    "    \n",
    "    print(f\"Estamos dentro do laço. Counter vale {counter}\") # imprime o contador\n",
    "\n",
    "print(f\"Estamos fora do laço. Counter vale {counter}\") # imprime o contador quando for igual a zero"
   ]
  },
  {
   "cell_type": "markdown",
   "metadata": {},
   "source": [
    "## **`for`**\n",
    "---\n",
    "Outro tipo de loop disponível no Python vem da observação de que, às vezes, é mais importante contar as \"voltas\" do loop do que verificar as condições.\n",
    "\n",
    "Imagine que o corpo de um loop precisa ser executado exatamente uma centena de vezes. Se você quiser usar o loop **while**, pode ser assim:"
   ]
  },
  {
   "cell_type": "code",
   "execution_count": 7,
   "metadata": {},
   "outputs": [
    {
     "name": "stdout",
     "output_type": "stream",
     "text": [
      "1 - 2 - 3 - 4 - 5 - 6 - 7 - 8 - 9 - 10 - 11 - 12 - 13 - 14 - 15 - 16 - 17 - 18 - 19 - 20 - 21 - 22 - 23 - 24 - 25 - 26 - 27 - 28 - 29 - 30 - 31 - 32 - 33 - 34 - 35 - 36 - 37 - 38 - 39 - 40 - 41 - 42 - 43 - 44 - 45 - 46 - 47 - 48 - 49 - 50 - 51 - 52 - 53 - 54 - 55 - 56 - 57 - 58 - 59 - 60 - 61 - 62 - 63 - 64 - 65 - 66 - 67 - 68 - 69 - 70 - 71 - 72 - 73 - 74 - 75 - 76 - 77 - 78 - 79 - 80 - 81 - 82 - 83 - 84 - 85 - 86 - 87 - 88 - 89 - 90 - 91 - 92 - 93 - 94 - 95 - 96 - 97 - 98 - 99 - 100Fim."
     ]
    }
   ],
   "source": [
    "# Primeiro teríamos que inicializar um contador que começa em 0 e armazenaria o número de iterações.\n",
    "\n",
    "i = 0 # contador\n",
    "\n",
    "# Em seguida, teríamos que criar um loop que continuaria enquanto o contador fosse menor que 100.\n",
    "\n",
    "while i < 100: # enquanto contador for menor que 100\n",
    "    \n",
    "    i += 1 # aumenta o contador\n",
    "    \n",
    "    print(i, end=' - ' if i < 100 else '- Fim.') # imprime o contador a cada iteração, separando por um hífen. Quando o contador for igual a 100, imprime '- Fim.'"
   ]
  },
  {
   "cell_type": "markdown",
   "metadata": {},
   "source": [
    "O for foi projetado para realizar tarefas mais complicadas - ele pode \"navegar\" em grandes coleções de itens de dados por item e até percorrer todos os caracteres de uma string."
   ]
  },
  {
   "cell_type": "code",
   "execution_count": 4,
   "metadata": {},
   "outputs": [
    {
     "name": "stdout",
     "output_type": "stream",
     "text": [
      "0 - 1 - 2 - 3 - 4 - 5 - 6 - 7 - 8 - 9 - 10 - 11 - 12 - 13 - 14 - 15 - 16 - 17 - 18 - 19 - 20 - 21 - 22 - 23 - 24 - 25 - 26 - 27 - 28 - 29 - 30 - 31 - 32 - 33 - 34 - 35 - 36 - 37 - 38 - 39 - 40 - 41 - 42 - 43 - 44 - 45 - 46 - 47 - 48 - 49 - 50 - 51 - 52 - 53 - 54 - 55 - 56 - 57 - 58 - 59 - 60 - 61 - 62 - 63 - 64 - 65 - 66 - 67 - 68 - 69 - 70 - 71 - 72 - 73 - 74 - 75 - 76 - 77 - 78 - 79 - 80 - 81 - 82 - 83 - 84 - 85 - 86 - 87 - 88 - 89 - 90 - 91 - 92 - 93 - 94 - 95 - 96 - 97 - 98 - 99 - "
     ]
    }
   ],
   "source": [
    "# Diferente do programa acima que utiliza while, o for é mais simples e direto. O contador é inicializado dentro do próprio loop e a condição de parada é definida na função range().\n",
    "\n",
    "for i in range(100): # para i no intervalo de 100\n",
    "    print(i, end=' - ' if i < 100 else '- Fim.')"
   ]
  },
  {
   "cell_type": "markdown",
   "metadata": {},
   "source": [
    "Existem alguns elementos novos. Vamos falar sobre eles:\n",
    "\n",
    "- a palavra-chave **for** abre o loop **for**; *observação - não há nenhuma condição depois; você não precisa pensar nas condições, pois elas são verificadas internamente, sem qualquer intervenção;*\n",
    "\n",
    "- qualquer variável após a palavra-chave **for** é a variável de controle do loop; *conta as voltas do loop e o faz automaticamente ;*\n",
    "\n",
    "- a palavra-chave **in** introduz um elemento de sintaxe que descreve o intervalo de valores possíveis que estão sendo atribuídos à variável de controle; *in como vimos, é o operador de pertencimento;*\n",
    "\n",
    "- a função **range()** (essa é uma função muito especial) é responsável por gerar todos os valores desejados da variável de controle; *em nosso exemplo, a função criará (podemos até dizer que alimentará o loop com) valores subsequentes do seguinte conjunto: 0, 1, 2 .. 97, 98, 99. Nota: nesse caso, a função **range()** inicia seu trabalho de 0 e o conclui uma etapa (um número inteiro) antes do valor do argumento;*"
   ]
  },
  {
   "cell_type": "code",
   "execution_count": 9,
   "metadata": {},
   "outputs": [
    {
     "name": "stdout",
     "output_type": "stream",
     "text": [
      "O valor de i é atualmente 0\n",
      "O valor de i é atualmente 1\n",
      "O valor de i é atualmente 2\n",
      "O valor de i é atualmente 3\n",
      "O valor de i é atualmente 4\n",
      "O valor de i é atualmente 5\n",
      "O valor de i é atualmente 6\n",
      "O valor de i é atualmente 7\n",
      "O valor de i é atualmente 8\n",
      "O valor de i é atualmente 9\n"
     ]
    }
   ],
   "source": [
    "for i in range(10): # Em outras palavras, range é uma função que gera uma sequência de 10 números inteiros começando em 0 e consequentemente terminando em 9.\n",
    "    print(f\"O valor de i é atualmente {i}\")\n",
    "    # exibe os valores de 0 a 9\n",
    "    \n",
    "# A cada iteração, o valor de i é atualizado para o próximo número na sequência gerada por range."
   ]
  },
  {
   "cell_type": "markdown",
   "metadata": {},
   "source": [
    "O loop foi executado dez vezes (é o argumento da função range())\n",
    "\n",
    "O valor da última variável de controle é 9 (não 10, pois começa em 0, não em 1)\n",
    "\n",
    "A invocação da função range() pode ser equipada com dois argumentos, não apenas um:"
   ]
  },
  {
   "cell_type": "code",
   "execution_count": 46,
   "metadata": {},
   "outputs": [
    {
     "name": "stdout",
     "output_type": "stream",
     "text": [
      "O valor de i é atualmente 2\n",
      "O valor de i é atualmente 3\n",
      "O valor de i é atualmente 4\n",
      "O valor de i é atualmente 5\n",
      "O valor de i é atualmente 6\n",
      "O valor de i é atualmente 7\n"
     ]
    }
   ],
   "source": [
    "for i in range(2, 8): # Aqui o primeiro argumento (2) indica o início da sequência e o segundo argumento (8) indica o fim da sequência.\n",
    "    print(\"O valor de i é atualmente\", i)\n",
    "# exibe os valores de 2 a 7"
   ]
  },
  {
   "cell_type": "markdown",
   "metadata": {},
   "source": [
    "Nesse caso, o primeiro argumento determina o (primeiro) valor inicial da variável de controle.\n",
    "\n",
    "O último argumento mostra o primeiro valor em que a variável de controle não será atribuída.\n",
    "\n",
    "Nota: a função range() aceita apenas números inteiros como argumentos e gera sequências de números inteiros. Isso significa que podemos usar variáveis como argumento, desde que contenham valores inteiros."
   ]
  },
  {
   "cell_type": "markdown",
   "metadata": {},
   "source": [
    "####  **`Mais sobre o loop for e a funçao range() com três argumentos`**\n",
    "\n",
    "A função range() também pode aceitar três argumentos - dê uma olhada no código no editor."
   ]
  },
  {
   "cell_type": "code",
   "execution_count": 10,
   "metadata": {},
   "outputs": [
    {
     "name": "stdout",
     "output_type": "stream",
     "text": [
      "O valor de i é atualmente 2\n",
      "O valor de i é atualmente 5\n"
     ]
    }
   ],
   "source": [
    "for i in range(2, 8, 3):\n",
    "    print(\"O valor de i é atualmente\", i)"
   ]
  },
  {
   "cell_type": "markdown",
   "metadata": {},
   "source": [
    "O terceiro argumento é um incremento - é um valor adicionado para controlar a variável a cada volta do loop (como você pode suspeitar, o valor padrão do incremento é 1).\n",
    "\n",
    "O programa exibirá duas linhas:\n",
    "\n",
    "```python\n",
    "O valor de i é atualmente 2\n",
    "O valor de i é atualmente 5\n",
    "```\n",
    "\n",
    "Você sabe por quê?\n",
    "\n",
    "- O primeiro argumento passado para a função `range()` nos diz qual é o número inicial da sequência (portanto, 2 na saída).\n",
    "- O segundo argumento diz à função onde parar a sequência (a função gera números até o número indicado pelo segundo argumento, mas não o inclui).\n",
    "- Por fim, o terceiro argumento indica a etapa, que realmente significa a diferença entre cada número na sequência de números gerada pela função.\n",
    "\n",
    "    - 2 (número inicial) → 5 (incremento de 2 por 3 é igual a 5 - o número está dentro do intervalo de 2 a 8) → 8 (incremento de 5 por 3 é igual a 8 - o número não está dentro do intervalo de 2 a 8, porque o parâmetro stop não é incluído na sequência de números gerada pela função.)\n",
    "\n",
    "**Nota**: se o conjunto gerado pela função `range()` estiver vazio, o loop não executará seu corpo."
   ]
  },
  {
   "cell_type": "code",
   "execution_count": 11,
   "metadata": {},
   "outputs": [
    {
     "name": "stdout",
     "output_type": "stream",
     "text": [
      "O valor de i é atualmente 0\n"
     ]
    }
   ],
   "source": [
    "for i in range(1, 1): # A cotagem não começa em 0, mas em 1. O valor inicial é 1 e o valor final é 1. Como o valor final não é incluído, o loop não é executado.\n",
    "    print(\"O valor de i é atualmente\", i)\n",
    "\n",
    "# Porém, essa variante será executada uma vez:\n",
    "for i in range(1):  # estamos indicando somente o valor final, que é 1. O valor inicial é 0 por padrão.\n",
    "    print(\"O valor de i é atualmente\", i)"
   ]
  },
  {
   "cell_type": "markdown",
   "metadata": {},
   "source": [
    "Observação: o conjunto gerado pelo range() deve ser classificado em ordem crescente. Não há como forçar o range() a criar um conjunto de uma forma diferente quando a função range() aceitar exatamente dois argumentos. Isso significa que o segundo argumento do range() deve ser maior que o primeiro.\n",
    "\n",
    "Para resolver esse problema, você pode usar um incremento negativo. Dessa forma, o primeiro argumento será maior que o segundo.\n"
   ]
  },
  {
   "cell_type": "code",
   "execution_count": 15,
   "metadata": {},
   "outputs": [
    {
     "name": "stdout",
     "output_type": "stream",
     "text": [
      "10 9 8 7 6 5 4 3 2 1 Fim.\n",
      "2 à potência de 0 é 1\n",
      "2 à potência de 1 é 2\n",
      "2 à potência de 2 é 4\n",
      "2 à potência de 3 é 8\n",
      "2 à potência de 4 é 16\n",
      "2 à potência de 5 é 32\n",
      "2 à potência de 6 é 64\n",
      "2 à potência de 7 é 128\n",
      "2 à potência de 8 é 256\n",
      "2 à potência de 9 é 512\n",
      "2 à potência de 10 é 1024\n"
     ]
    }
   ],
   "source": [
    "# Contagem regressiva\n",
    "for i in range(10, 0, -1): # Contagem regressiva de 10 a 1\n",
    "    print(i, end=' ') # imprime os números separados por espaço\n",
    "print('Fim.')\n",
    "# Note que o primeiro argumento é o valor inicial, o segundo argumento é o valor final e o terceiro argumento é o passo.\n",
    "\n",
    "power = 1 # potência\n",
    "for expo in range(11): # expoente 0 a 10\n",
    "    # A variável expo é usada como uma variável de controle para o loop e indica o valor atual do expoente.\n",
    "    print(\"2 à potência de\", expo, \"é\", power)\n",
    "    power *= 2 # potência multiplicada por 2. power é atualizada, dobrando seu valor a cada volta do loop"
   ]
  },
  {
   "cell_type": "markdown",
   "metadata": {},
   "source": [
    "O método ``enumerate()`` retorna uma tupla com o índice e o valor de cada elemento da lista. Podemos usar o desempacotamento para atribuir cada valor a uma variável."
   ]
  },
  {
   "cell_type": "code",
   "execution_count": 5,
   "metadata": {},
   "outputs": [
    {
     "name": "stdout",
     "output_type": "stream",
     "text": [
      "0 - 0\n",
      "1 - 10\n",
      "2 - 20\n",
      "3 - 30\n",
      "4 - 40\n",
      "5 - 50\n",
      "6 - 60\n",
      "7 - 70\n",
      "8 - 80\n",
      "9 - 90\n",
      "10 - 100\n",
      "2 x  1 = 02\n",
      "2 x  2 = 04\n",
      "2 x  3 = 06\n",
      "2 x  4 = 08\n",
      "2 x  5 = 10\n",
      "2 x  6 = 12\n",
      "2 x  7 = 14\n",
      "2 x  8 = 16\n",
      "2 x  9 = 18\n",
      "2 x 10 = 20\n"
     ]
    }
   ],
   "source": [
    "# Nessa variante temos duas variáveis de controle, indice e valor. Indice é o índice do valor atual na sequência gerada por range e valor é o valor atual.\n",
    "\n",
    "# Nosso range começa em 0 e termina em 100, com um passo de 10.\n",
    "for indice, valor in enumerate(range(0, 101, 10)):\n",
    "    print(f'{indice} - {valor}')\n",
    "# Será exibido o índice a esquerda e o valor a direita, separados por um hífen.\n",
    "\n",
    "# Dessa forma poderíamos criar uma calculadora de tabuada.\n",
    "numero = int(input('Digite um número: '))\n",
    "for indice, valor in enumerate(range(numero,numero*10+1, numero), 1):\n",
    "    print(f'2 x {indice:2} = {valor:0>2}')"
   ]
  },
  {
   "cell_type": "markdown",
   "metadata": {},
   "source": [
    "Podemos utilizar o loop for para percorrer uma string:"
   ]
  },
  {
   "cell_type": "code",
   "execution_count": 6,
   "metadata": {},
   "outputs": [
    {
     "name": "stdout",
     "output_type": "stream",
     "text": [
      "P\n",
      "y\n",
      "t\n",
      "h\n",
      "o\n",
      "n\n",
      "1\n",
      "2\n",
      "3\n",
      "4\n",
      "5\n"
     ]
    }
   ],
   "source": [
    "# letra é uma variável de controle que armazena a letra atual em cada iteração. 'Python' é a sequência de caracteres que queremos percorrer. A cada repetição do loop, a variável letra armazenará um caractere da sequência 'Python'.\n",
    "for letra in 'Python':\n",
    "    print(letra)\n",
    "    \n",
    "# Podemos utilizar o loop for para percorrer uma lista:\n",
    "for numero in [1, 2, 3, 4, 5]:\n",
    "    print(numero)"
   ]
  },
  {
   "cell_type": "markdown",
   "metadata": {},
   "source": [
    "Vejamos outro exemplo de uso:"
   ]
  },
  {
   "cell_type": "code",
   "execution_count": 7,
   "metadata": {},
   "outputs": [
    {
     "name": "stdout",
     "output_type": "stream",
     "text": [
      "A frase digitada foi: AMOR ROMA\n",
      "O inverso da frase é: ROMA AMOR\n",
      "A frase não é um palíndromo!\n"
     ]
    }
   ],
   "source": [
    "frase = str(input('Digite sua frase ou palavra: ')).strip().upper()  # Solicita e converte a frase para maiúsculas e remove espaços extras\n",
    "\n",
    "frase = frase.split() # Separa a frase em palavras\n",
    "\n",
    "nova_frase = []  # Inicializa a variável para armazenar a nova frase invertida\n",
    "\n",
    "for palavra in frase: # Percorre cada palavra da frase\n",
    "    nova_palavra = '' # Inicializa a variável para armazenar a nova palavra invertida\n",
    "    \n",
    "    for letra in palavra[::-1]: # Percorre cada letra da palavra de trás para frente\n",
    "        nova_palavra += letra  # Adiciona cada letra invertida à nova frase\n",
    "        \n",
    "    nova_frase.append(nova_palavra) # Adiciona cada palavra invertida à nova frase\n",
    "\n",
    "print(f'A frase digitada foi: {' '.join(frase)}') # Imprime a frase original\n",
    "print(f'O inverso da frase é: {' '.join(nova_frase)}') # Imprime a frase invertida\n",
    "\n",
    "# Verifica se é um palíndromo\n",
    "if nova_frase == frase:\n",
    "    print('A frase é um palíndromo!') # Imprime se for um palíndromo\n",
    "else: \n",
    "    print('A frase não é um palíndromo!') # Imprime se não for um palíndromo"
   ]
  },
  {
   "cell_type": "markdown",
   "metadata": {},
   "source": [
    "## **`As instruções break e continue`**\n",
    "\n",
    "No Python, as instruções break e continue são utilizadas para controlar o fluxo de loops. Apesar de um programador experiente conseguir codificar qualquer algoritmo sem elas, elas são consideradas açúcar sintático, pois simplificam o código e o tornam mais legível.\n",
    "\n",
    "``Instrução break:`` Sai do loop inteiro, interrompendo a execução e passando para a próxima instrução após o término do loop.\n",
    "\n",
    "``Instrução continue:`` Pula para a próxima iteração do loop, ignorando o restante do corpo do loop na iteração atual."
   ]
  },
  {
   "cell_type": "markdown",
   "metadata": {},
   "source": [
    "### **`break`**\n",
    "\n",
    "A instrução break é usada para interromper a execução do loop antes que ele complete todas as iterações previstas. Quando o break é executado, o controle do programa sai imediatamente do loop e continua com a instrução seguinte após o loop.\n",
    "\n",
    "Exemplo de uso do break:"
   ]
  },
  {
   "cell_type": "code",
   "execution_count": 1,
   "metadata": {},
   "outputs": [
    {
     "name": "stdout",
     "output_type": "stream",
     "text": [
      "Número 5 encontrado!\n"
     ]
    }
   ],
   "source": [
    "# Imagine que você está procurando um número específico em uma lista. Assim que encontrar o número, você pode usar break para parar a busca.\n",
    "\n",
    "numeros = [1, 2, 3, 4, 5, 6, 7, 8, 9, 10] # lista de números\n",
    "procurado = 5 # número procurado\n",
    "\n",
    "for numero in numeros: # para cada número na lista\n",
    "    if numero == procurado: # se o número for igual ao número procurado\n",
    "        print(f'Número {procurado} encontrado!')  # imprime que o número foi encontrado\n",
    "        break # interrompe a busca\n",
    "else: # se o loop terminar sem interrupção\n",
    "    print(f'Número {procurado} não encontrado.') # imprime que o número não foi encontrado"
   ]
  },
  {
   "cell_type": "markdown",
   "metadata": {},
   "source": [
    "### **`continue`**\n",
    "\n",
    "A instrução continue é usada para pular a execução do restante do corpo do loop para a iteração atual e passar para a próxima iteração. Quando continue é executado, o loop não termina, mas salta diretamente para a próxima iteração.\n",
    "\n",
    "Exemplo de uso do continue:"
   ]
  },
  {
   "cell_type": "code",
   "execution_count": 6,
   "metadata": {},
   "outputs": [
    {
     "name": "stdout",
     "output_type": "stream",
     "text": [
      "2\n",
      "4\n",
      "6\n",
      "8\n",
      "10\n"
     ]
    }
   ],
   "source": [
    "# Imagine que você queira imprimir apenas os números pares de uma lista. Você pode usar continue para pular os números ímpares.\n",
    "\n",
    "numeros = [1, 2, 3, 4, 5, 6, 7, 8, 9, 10] # lista de números\n",
    "\n",
    "for numero in numeros: # para cada número na lista\n",
    "    if numero % 2 != 0: # se o número for ímpar\n",
    "        continue # pula para a próxima iteração\n",
    "    print(numero) # imprime o número par"
   ]
  },
  {
   "cell_type": "code",
   "execution_count": 5,
   "metadata": {},
   "outputs": [
    {
     "name": "stdout",
     "output_type": "stream",
     "text": [
      "2\n",
      "4\n",
      "6\n",
      "8\n",
      "10\n"
     ]
    }
   ],
   "source": [
    "# Como disse, o uso de continue é opcional. Você poderia ter feito o mesmo sem ele com apenas alguns ajustes\n",
    "\n",
    "numeros = [1, 2, 3, 4, 5, 6, 7, 8, 9, 10] # lista de números\n",
    "\n",
    "for numero in numeros: # para cada número na lista\n",
    "    if numero % 2 == 0: # se o número for par\n",
    "        print(numero) # imprime o número par"
   ]
  },
  {
   "cell_type": "markdown",
   "metadata": {},
   "source": [
    "### **`O loop while e o ramo else`**"
   ]
  },
  {
   "cell_type": "markdown",
   "metadata": {},
   "source": [
    "Ambos os loops, while e for, têm um recurso interessante (e raramente usado).\n",
    "\n",
    "Como você pode ter suspeitado, os loops também podem ter o ramo else, como os ifs.\n",
    "\n",
    "O ramo else do loop sempre é executada uma vez, independentemente de o loop ter entrado em seu corpo ou não."
   ]
  },
  {
   "cell_type": "code",
   "execution_count": 8,
   "metadata": {},
   "outputs": [
    {
     "name": "stdout",
     "output_type": "stream",
     "text": [
      "1\n",
      "2\n",
      "3\n",
      "4\n",
      "else: 5\n"
     ]
    }
   ],
   "source": [
    "i = 1 # contador\n",
    "while i < 5: # enquanto contador for menor que 5\n",
    "    print(i) # imprime o contador\n",
    "    i += 1 # aumenta o contador\n",
    "else:\n",
    "    print(\"else:\", i) # imprime o contador quando for igual a 5"
   ]
  },
  {
   "cell_type": "markdown",
   "metadata": {},
   "source": [
    "Obteríamos o mesmo efeito se utilizar o operador menor ou igual a (<=) em vez de menor que (<) na condição do loop. Ou até mesmo uniciando o contador com o valor 0 e incrementando antes de imprimir o valor do contador."
   ]
  },
  {
   "cell_type": "markdown",
   "metadata": {},
   "source": [
    "### **`O loop for e o ramo else`**\n",
    "\n",
    "Os loops for se comportam de forma um pouco diferente - dê uma olhada no snippet no editor e execute-o."
   ]
  },
  {
   "cell_type": "code",
   "execution_count": 9,
   "metadata": {},
   "outputs": [
    {
     "name": "stdout",
     "output_type": "stream",
     "text": [
      "0\n",
      "1\n",
      "2\n",
      "3\n",
      "4\n",
      "else: 4\n"
     ]
    }
   ],
   "source": [
    "for i in range(5):  # Loop de 0 a 4\n",
    "    print(i)  # Imprime o valor do contador durante cada iteração\n",
    "else:  # Esta parte é executada quando o loop termina normalmente (quando i atinge 4)\n",
    "    print(\"else:\", i)  # Imprime o valor final de i quando o loop termina que é 4"
   ]
  },
  {
   "cell_type": "markdown",
   "metadata": {},
   "source": [
    "O loop for é projetado para iterar sobre uma sequência de valores, neste caso, a função range(5), que gera uma sequência de números de 0 a 4.\n",
    "\n",
    "Durante cada iteração do loop, o valor atual de i é impresso.\n",
    "\n",
    "Após a conclusão bem-sucedida do loop, a cláusula else é executada. Isso pode parecer um pouco contra intuitivo, pois geralmente associamos o \"else\" com condicionais (if-else), mas no caso dos loops for e while em Python, o bloco else é executado quando o loop é concluído normalmente, sem ser interrompido por uma instrução break.\n",
    "\n",
    "Neste exemplo, a cláusula else imprime o valor final de i quando o loop termina normalmente.\n",
    "\n",
    "Se o loop fosse interrompido por uma instrução break, o bloco else não seria executado. Portanto, a presença do bloco else aqui indica que o loop foi concluído sem ser interrompido por uma instrução break.\n"
   ]
  },
  {
   "cell_type": "code",
   "execution_count": 3,
   "metadata": {},
   "outputs": [
    {
     "name": "stdout",
     "output_type": "stream",
     "text": [
      "else: 111\n"
     ]
    }
   ],
   "source": [
    "i = 111  # Atribuímos um valor à variável i antes do loop\n",
    "for i in range(2, 1):  # O range(2, 1) não gera nenhum valor, pois o valor inicial é maior que o valor final\n",
    "    print(i)  # O corpo do loop não será executado\n",
    "else:\n",
    "    print(\"else:\", i)  # O bloco else será executado, imprimindo \"else:\" seguido do valor atual de i"
   ]
  },
  {
   "cell_type": "markdown",
   "metadata": {},
   "source": [
    "O corpo do loop não será executado aqui. Nota: atribuímos a variável i antes do loop.\n",
    "\n",
    "Quando o corpo do loop não é executado, a variável de controle retém o valor que tinha antes do loop.\n",
    "\n",
    "Nota: se a variável de controle não existir antes do início do loop, ela não existirá quando a execução atingir a filial do resto else."
   ]
  }
 ],
 "metadata": {
  "kernelspec": {
   "display_name": "Python 3",
   "language": "python",
   "name": "python3"
  },
  "language_info": {
   "codemirror_mode": {
    "name": "ipython",
    "version": 3
   },
   "file_extension": ".py",
   "mimetype": "text/x-python",
   "name": "python",
   "nbconvert_exporter": "python",
   "pygments_lexer": "ipython3",
   "version": "3.12.1"
  }
 },
 "nbformat": 4,
 "nbformat_minor": 2
}
