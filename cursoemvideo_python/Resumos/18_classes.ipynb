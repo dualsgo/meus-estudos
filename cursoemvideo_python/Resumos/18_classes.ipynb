{
 "cells": [
  {
   "cell_type": "markdown",
   "metadata": {},
   "source": [
    "# **`Classes`**\n",
    "\n",
    "À medida que construímos programas, muitas vezes precisaremos criar muitos objetos semelhantes, mas distintos. Como várias configurações diferentes de um computador.\n",
    "\n",
    "Criar novas variáveis para cada uma das diferentes configurações de um computador levaria muito tempo e poderia levar a erros."
   ]
  },
  {
   "cell_type": "code",
   "execution_count": null,
   "metadata": {},
   "outputs": [],
   "source": [
    "computer1_size = \"15\"\n",
    "computer1_storage = \"1TB\"\n",
    "\n",
    "computer2_size = \"13\"\n",
    "computer2_storage = \"256GB\""
   ]
  },
  {
   "cell_type": "code",
   "execution_count": null,
   "metadata": {},
   "outputs": [],
   "source": [
    "print(\"Computer1 display size: \" + computer1_size)\n",
    "print(\"Computer1 storage: \" + computer1_storage)"
   ]
  },
  {
   "cell_type": "code",
   "execution_count": null,
   "metadata": {},
   "outputs": [],
   "source": [
    "print(\"Computer2 display size: \" + computer2_size)\n",
    "print(\"Computer2 storage: \" + computer2_storage)"
   ]
  },
  {
   "cell_type": "markdown",
   "metadata": {},
   "source": [
    "Para nos ajudar a agrupar dados e funcionalidades, criamos uma classe. Uma classe é um modelo que usamos para criar muitas coisas semelhantes, mas distintas.\n",
    "\n",
    "A sintaxe é a seguinte:\n",
    "\n",
    "> class NomeDaClasse:\n",
    "> \n",
    ">    código da classe\n",
    "\n",
    "Usamos recuos para indicar que o código abaixo da linha de definição da classe pertence à classe.\n",
    "\n",
    "O nome da classe deve começar com uma letra maiúscula. Por convenção, usamos CamelCase para nomes de classes.\n",
    "\n",
    "A classe Computer é um modelo para criar computadores. Ela não é um computador real, mas um modelo para criar computadores."
   ]
  },
  {
   "cell_type": "code",
   "execution_count": null,
   "metadata": {},
   "outputs": [],
   "source": [
    "class Computer:\n",
    "    # O método __init__ é chamado quando criamos um novo objeto da classe. Ele nos permite definir os atributos do objeto.\n",
    "    def __init__(self, size, storage):\n",
    "        # O primeiro parâmetro de um método de classe é sempre self. Ele se refere ao objeto que está sendo criado. Os parâmetros restantes são os atributos do objeto.\n",
    "\n",
    "        self.size = size  # O atributo self.size é definido como o valor do parâmetro size.\n",
    "        self.storage = storage  # O atributo self.storage é definido como o valor do parâmetro storage.\n",
    "\n",
    "    # O método print_specs imprime os atributos do objeto.\n",
    "    def print_specs(self):\n",
    "        # O primeiro parâmetro de um método de classe é sempre self. Ele se refere ao objeto que está sendo criado. Os parâmetros restantes são os atributos do objeto.\n",
    "        print(\"Display size: \" + self.size)\n",
    "        print(\"Storage: \" + self.storage)\n",
    "        # Métodos em classes são semelhantes a funções, mas são chamados usando a notação de ponto. São opcionais e podem ser omitidos.\n"
   ]
  },
  {
   "cell_type": "markdown",
   "metadata": {},
   "source": [
    "Resumindo o que fizemos até agora: criamos uma classe Computer que é um modelo para criar computadores. A classe Computer tem dois atributos: size e storage. Também criamos um método print_specs que imprime os atributos do objeto.\n",
    "\n",
    "Ao usar um modelo, podemos criar configurações diferentes sem ter que criar variáveis individuais como size e storage a cada vez."
   ]
  },
  {
   "cell_type": "code",
   "execution_count": null,
   "metadata": {},
   "outputs": [],
   "source": [
    "low_spec = Computer(\"13\", \"256GB\")  # Criamos um novo objeto da classe Computer e o atribuímos à variável low_spec.\n",
    "# Os valores dos atributos são passados para o método __init__. O parâmetro self é passado automaticamente e não precisamos passá-lo.\n",
    "high_spec = Computer(\"15\", \"1TB\")\n",
    "\n",
    "print(\"Low spec Computer:\")\n",
    "low_spec.print_specs()  # Chamamos o método print_specs no objeto low_spec."
   ]
  },
  {
   "cell_type": "markdown",
   "metadata": {},
   "source": [
    "Criamos um método para facilitar a impressão dos atributos do objeto. Chamamos o método print_specs no objet low_spec. Mas poderíamos executar os print() diretamente. \n",
    "\n",
    "Assim:"
   ]
  },
  {
   "cell_type": "code",
   "execution_count": null,
   "metadata": {},
   "outputs": [],
   "source": [
    "print(\"Low spec Computer:\")\n",
    "print(\"Display size: \" + low_spec.size)"
   ]
  },
  {
   "cell_type": "markdown",
   "metadata": {},
   "source": [
    "Vamos fazer passo a passo:\n",
    "\n",
    "Para começar a criar o modelo, adicionamos a palavra-chave class seguida de um nome e dois pontos. Aqui, criaremos a class, chamada Person:"
   ]
  },
  {
   "cell_type": "code",
   "execution_count": null,
   "metadata": {},
   "outputs": [],
   "source": [
    "class Person:\n",
    "    # Para adicionar código à classe, recuamos da palavra-chave class como a instrução print() aqui.\n",
    "    print('Inside the class')\n",
    "    # Criar variáveis numa classe funciona exatamente como criar variáveis normais. Ele precisa ser recuado corretamente e receber um valor.\n",
    "    nationality = 'Brazilian'\n",
    "    # Podemos adicionar quantas variáveis quisermos numa classe, como acontece com a variável passatempo com o valor \"Cooking\" aqui.\n",
    "    hobby = 'Cooking'\n",
    "\n",
    "    # Se quisermos adicionar uma funcionalidade à classe, podemos criar uma função dentro dela. Aqui, criamos uma função chamada say_hello() que imprime \"Hello, world!\".\n",
    "    def say_hello(self):\n",
    "        # Para a funcionalidade acessar as variáveis da classe, precisamos usar a palavra-chave self. antes do nome da variável. Aqui, usamos self.hobby para acessar a variável hobby.\n",
    "        print('Hello, world!')\n",
    "        print('My hobby is ' + self.hobby)"
   ]
  },
  {
   "cell_type": "markdown",
   "metadata": {},
   "source": [
    "###  Criando instâncias de classe\n",
    "\n",
    "Quando queremos usar nosso modelo de classe para criar algo, começamos criando uma variável, como fluffy aqui.\n",
    "\n",
    "A seguir, adicionamos o nome da classe e parênteses para criá-la, como acontece aqui. Isso é chamado de instanciar a classe."
   ]
  },
  {
   "cell_type": "code",
   "execution_count": null,
   "metadata": {},
   "outputs": [],
   "source": [
    "class VirtualPet:\n",
    "    color = \"brown\"\n",
    "    legs = 4\n",
    "    lives = \"9\""
   ]
  },
  {
   "cell_type": "code",
   "execution_count": null,
   "metadata": {},
   "outputs": [],
   "source": [
    "fluffy = VirtualPet()"
   ]
  },
  {
   "cell_type": "markdown",
   "metadata": {},
   "source": [
    "Quando criamos variáveis a partir do modelo de classe, estamos criando instâncias da classe. fluffy é uma instância da classe VirtualPet.\n",
    "\n",
    "A classe VirtualPet que estamos usando para criar as variáveis fluffy é chamada de definição.\n",
    "\n",
    "VirtualPet é a definição, fluffy é a instância.\n",
    "\n",
    "Para acessar uma variável de classe, adicionamos o nome da instância, um ponto e o nome da variável que queremos"
   ]
  },
  {
   "cell_type": "code",
   "execution_count": null,
   "metadata": {},
   "outputs": [],
   "source": [
    "print(fluffy.color)  # brown"
   ]
  },
  {
   "cell_type": "markdown",
   "metadata": {},
   "source": [
    "color é um atributo de fluffy pois é uma variável da classe VirtualPet e fluffy é uma instância da classe VirtualPet.\n",
    "\n",
    "Podemos acessar todas as variáveis da classe. Acessamos o valor da variável codificando o nome da instância, um ponto e o nome da variável.\n",
    "\n",
    "Se quiser alterar o valor de uma variável de classe, podemos fazer isso usando a notação de ponto. Se quiséssemos mostrar fluffy com outros atributos, poderíamos fazer isso:"
   ]
  },
  {
   "cell_type": "code",
   "execution_count": null,
   "metadata": {},
   "outputs": [],
   "source": [
    "fluffy.color = \"black\"\n",
    "fluffy.lives = \"1\""
   ]
  },
  {
   "cell_type": "markdown",
   "metadata": {},
   "source": [
    "Outra forma seria colocar argumentos na classe VirtualPet, como fizemos com o método __init__ da classe Computer."
   ]
  },
  {
   "cell_type": "code",
   "execution_count": null,
   "metadata": {},
   "outputs": [],
   "source": [
    "class VirtualPet:\n",
    "    def __init__(self, color, lives):\n",
    "        # O primeiro parâmetro de um método de classe é sempre self. Ele se refere ao objeto que está sendo criado. Os parâmetros restantes são os atributos do objeto.\n",
    "        self.color = color  # O atributo self.color é definido como o valor do parâmetro color.\n",
    "        self.lives = lives  # O atributo self.lives é definido como o valor do parâmetro lives.\n"
   ]
  },
  {
   "cell_type": "markdown",
   "metadata": {},
   "source": [
    "Agora, quando criamos uma instância da classe VirtualPet, precisamos passar os argumentos color e lives."
   ]
  },
  {
   "cell_type": "code",
   "execution_count": null,
   "metadata": {},
   "outputs": [],
   "source": [
    "fluffy = VirtualPet(\"white\", \"9\")"
   ]
  },
  {
   "cell_type": "markdown",
   "metadata": {},
   "source": [
    "###  Classes com métodos\n",
    "\n",
    "As classes também podem ter funções, conhecidas como métodos quando estão numa classe. Como método bark() aqui."
   ]
  },
  {
   "cell_type": "code",
   "execution_count": null,
   "metadata": {},
   "outputs": [],
   "source": [
    "class VirtualPet:\n",
    "    color = \"brown\"\n",
    "\n",
    "    def bark(self):\n",
    "        print(\"Bark bark bark!\")\n",
    "    # self é uma palavra-chave especial que precisamos usar dentro de nossa definição de classe. Passamos self como o primeiro parâmetro para todos os métodos que adicionamos. Ele se refere ao objeto que está sendo criado. Sempre que criamos um método de classe, precisamos passar self como o primeiro parâmetro. O Python passa automaticamente o objeto que está sendo criado como o primeiro argumento para todos os métodos de classe.\n",
    "\n",
    "    def display_color(self):\n",
    "        print(self.color)\n",
    "    # Usamos self como parâmetro nos métodos de classe para podermos acessar as variáveis de classe como color e legs dentro dos métodos. Sem self, não poderíamos acessar as variáveis de classe. Dentro de display_color(), usamos self.color para acessar a variável de classe color = \"brown\".\n",
    "\n",
    "    # Sem usar self não conseguiríamos acessar as variáveis de classe, pois elas são declaradas fora do escopo do método classe.\n"
   ]
  },
  {
   "cell_type": "code",
   "execution_count": null,
   "metadata": {},
   "outputs": [],
   "source": [
    "rocky = VirtualPet()\n"
   ]
  },
  {
   "cell_type": "markdown",
   "metadata": {},
   "source": [
    "Para usar um método de classe é o mesmo que usar uma variável de classe, exceto que precisamos adicionar parênteses. Como aqui com rocky.bark()."
   ]
  },
  {
   "cell_type": "code",
   "execution_count": null,
   "metadata": {},
   "outputs": [],
   "source": [
    "rocky.bark()"
   ]
  },
  {
   "cell_type": "markdown",
   "metadata": {},
   "source": [
    "###  Construtores\n",
    "\n",
    "Existe um método que podemos usar que é mais flexível ao criar diferentes instâncias de uma classe. É chamado de método construtor."
   ]
  },
  {
   "cell_type": "code",
   "execution_count": null,
   "metadata": {},
   "outputs": [],
   "source": [
    "class VirtualPet:\n",
    "    # O método construtor se parece com __init__() e nos permite definir valores exclusivos para as variáveis de classe quando criamos uma instância. Para adicionar essa flexibilidade às nossas classes, começamos adicionando a função de construção, que se parece com __init__().\n",
    "\n",
    "    def __init__(self, color):\n",
    "        # Assim como acontece com os métodos de classe regulares, precisamos adicionar self como o primeiro parâmetro método construtor. A seguir, adicionamos os parâmetros para os valores personalizados que queremos definir ao criar uma instância, como acontece com color aqui.\n",
    "\n",
    "        self.color = color\n",
    "        # Em seguida definimos o valor codificando self, um ponto e o nome do parâmetro e, em seguida, igualando-o ao valor do parâmetro novamente. Isso faz com que o valor do parâmetro seja atribuído à variável de classe color. O valor será diferente para cada instância que criarmos, sendo definido quando criamos a instância e passamos o valor do parâmetro.\n",
    "\n",
    "    def display_color(self):\n",
    "        # Podemos acessar os parâmetros de outros locais na definição da classe usando self. Aqui, usamos self.color para acessar o valor do parâmetro color.\n",
    "        print(self.color)"
   ]
  },
  {
   "cell_type": "markdown",
   "metadata": {},
   "source": [
    "Em vez de uma definição de classe que terá sempre a mesma cor, como:\n",
    "\n",
    "- color = \"brown\"\n",
    "  \n",
    "um método construtor nos permite especificar o que queremos ao criá-la\n",
    "\n",
    "Quando criamos uma instância a partir da definição de classe, podemos passar valores únicos entre parênteses, como acontece com rocky e benny aqui.\n"
   ]
  },
  {
   "cell_type": "code",
   "execution_count": null,
   "metadata": {},
   "outputs": [],
   "source": [
    "rocky = VirtualPet(\"brown\")\n",
    "benny = VirtualPet(\"black\")\n",
    "\n",
    "print(rocky.color)\n",
    "print(benny.color)\n",
    "rocky.display_color()"
   ]
  },
  {
   "cell_type": "markdown",
   "metadata": {},
   "source": [
    "###  Compreendendo as classes\n",
    "\n",
    "Semelhante à nomeação de variáveis e funções, existem algumas práticas comuns ao definir classes."
   ]
  },
  {
   "cell_type": "code",
   "execution_count": null,
   "metadata": {},
   "outputs": [],
   "source": [
    "class Person:\n",
    "    def __init__(self, name, age):\n",
    "      self.name = name\n",
    "      self.age = age"
   ]
  },
  {
   "cell_type": "code",
   "execution_count": null,
   "metadata": {},
   "outputs": [],
   "source": [
    "teacher = Person(\"Ashley\", 32)"
   ]
  },
  {
   "cell_type": "markdown",
   "metadata": {},
   "source": [
    "1. Os nomes das classes geralmente têm a primeira letra maiúscula e o restante minúsculo. Como Person. Essa convenção é chamada de CamelCase.\n",
    "   \n",
    "2. Assim como variáveis e funções, tentamos nomear as classes de forma descritiva.\n",
    "  \n",
    "3. Devemos nomear as coisas de forma consistente e tomar cuidado com a capitalização\n",
    "\n",
    "4. Assim como os métodos fora das classes, você pode usar as funções integradas e os principais recursos do Python."
   ]
  },
  {
   "cell_type": "code",
   "execution_count": null,
   "metadata": {},
   "outputs": [],
   "source": [
    "class Pie:\n",
    "    def __init__(self, flavor, ingredients):\n",
    "        # O argumento flavor nesse exemplo é uma string. Podemos acessar o valor do argumento usando self.flavor.\n",
    "        self.flavor = flavor\n",
    "        # O argumento ingredients é uma lista. Podemos acessar o valor do argumento usando self.ingredients.\n",
    "        self.ingredients = ingredients\n",
    "\n",
    "    # O método print_ingredients() imprime os ingredientes da torta usando um loop for.\n",
    "    def print_ingredients(self):\n",
    "        # O argumento ingredients é uma lista de ingredientes. Podemos iterar sobre a lista usando um loop for.\n",
    "        for i in self.ingredients:\n",
    "            print(i)"
   ]
  },
  {
   "cell_type": "code",
   "execution_count": null,
   "metadata": {},
   "outputs": [],
   "source": [
    "applePie = Pie('apple', ['flour', 'eggs', 'apples', 'butter'])"
   ]
  },
  {
   "cell_type": "code",
   "execution_count": null,
   "metadata": {},
   "outputs": [],
   "source": [
    "applePie.print_ingredients()"
   ]
  },
  {
   "cell_type": "markdown",
   "metadata": {},
   "source": [
    "###  Programação Orientada a objetos\n",
    "###  Encapsulamento - Encapsulando objetos\n",
    "\n",
    "Vamos aprender sobre os diferentes estilos de codificação usados pelos desenvolvedores. Exploraremos a programação funcional e a programação orientada a objetos.\n",
    "\n",
    "Diferentes estilos de codificação também são conhecidos como paradigmas. Um estilo comum é chamado de programação funcional, ou FP, para abreviar. Na programação funcional, usamos muitas funções e variáveis."
   ]
  },
  {
   "cell_type": "code",
   "execution_count": null,
   "metadata": {},
   "outputs": [],
   "source": [
    "def get_total(a, b):\n",
    "    # Define a função get_total que retorna a soma de dois valores\n",
    "    return a + b"
   ]
  },
  {
   "cell_type": "code",
   "execution_count": null,
   "metadata": {},
   "outputs": [],
   "source": [
    "num1 = 2  # Declara a variável num1 e atribui o valor 2\n",
    "num2 = 3  # Declara a variável num2 e atribui o valor 3\n",
    "total = get_total(num1, num2)  # Chama a função get_total com os valores de num1 e num2 e atribui o resultado a total\n",
    "print(total)  # Imprime o valor de total"
   ]
  },
  {
   "cell_type": "markdown",
   "metadata": {},
   "source": [
    "No estilo FP, mantemos os dados e as funcionalidades separados. Passamos dados para funções sempre que queremos alguma coisa."
   ]
  },
  {
   "cell_type": "code",
   "execution_count": null,
   "metadata": {},
   "outputs": [],
   "source": [
    "def get_distance(mph, h):\n",
    "    # Define a função getDistance que retorna a multiplicação de dois valores\n",
    "    # Na programação funcional, as funções retornam novos valores e depois usam esses valores em algum lugar do código.\n",
    "    return mph * h"
   ]
  },
  {
   "cell_type": "code",
   "execution_count": null,
   "metadata": {},
   "outputs": [],
   "source": [
    "mph = 60  # Declara a variável mph e atribui o valor 60\n",
    "h = 2  # Declara a variável h e atribui o valor 2\n",
    "distance = get_distance(mph, h)  # Chama a função getDistance com os valores de mph e h e atribui o resultado a distance"
   ]
  },
  {
   "cell_type": "markdown",
   "metadata": {},
   "source": [
    "Na programação orientada a objetos OOP, agrupamos dados e funcionalidades como propriedades e métodos dentro de objetos, como Virtual_Pet aqui."
   ]
  },
  {
   "cell_type": "code",
   "execution_count": null,
   "metadata": {},
   "outputs": [],
   "source": [
    "class Virtual_Pet:\n",
    "  # Define a classe Virtual_Pet com um construtor que inicializa as propriedades color e name\n",
    "    def __init__(self, color, name):\n",
    "        self.color = color  # Atribui o valor da variável color ao atributo color do objeto\n",
    "        self.name = name  # Atribui o valor da variável name ao atributo name do objeto"
   ]
  },
  {
   "cell_type": "code",
   "execution_count": null,
   "metadata": {},
   "outputs": [],
   "source": [
    "rocky = Virtual_Pet(\"brown\", \"Rocky\")  # Cria uma instância da classe Virtual_Pet chamada rocky\n",
    "print(rocky.color)  # Imprime o valor do atributo color do objeto rocky\n",
    "print(rocky.name)  # Imprime o valor do atributo name do objeto rocky"
   ]
  },
  {
   "cell_type": "markdown",
   "metadata": {},
   "source": [
    "OOP possibilita modelar objetos da realidade ou não. Objetos têm propriedades e métodos que tratamos como uma coisa só, como Car aqui."
   ]
  },
  {
   "cell_type": "code",
   "execution_count": null,
   "metadata": {},
   "outputs": [],
   "source": [
    "class Car:\n",
    "    mileage = 12000  # Atribui o valor 12000 ao atributo mileage da classe Car\n",
    "\n",
    "    def drive(self, miles):\n",
    "        # Define o método drive que atualiza o valor do atributo mileage com base no número de milhas percorridas\n",
    "        self.mileage = self.mileage + miles"
   ]
  },
  {
   "cell_type": "code",
   "execution_count": null,
   "metadata": {},
   "outputs": [],
   "source": [
    "tesla = Car()  # Cria uma instância da classe Car chamada tesla\n",
    "tesla.drive(100)  # Chama o método drive da instância tesla com o valor 100\n",
    "print(tesla.mileage)  # Imprime o valor do atributo mileage da instância tesla"
   ]
  },
  {
   "cell_type": "markdown",
   "metadata": {},
   "source": [
    "Em OOP, usamos métodos para atualizar os valores existentes de um objeto, como aqui, onde usamos eat() para atualizar o valor de hungry()"
   ]
  },
  {
   "cell_type": "code",
   "execution_count": null,
   "metadata": {},
   "outputs": [],
   "source": [
    "class Dog:\n",
    "    hungry = True  # Atribui o valor True ao atributo hungry da classe Dog\n",
    "\n",
    "    def eat(self):\n",
    "        # Define o método eat que atualiza o valor do atributo hungry para False\n",
    "        self.hungry = False"
   ]
  },
  {
   "cell_type": "markdown",
   "metadata": {},
   "source": [
    "Vamos criar um cofrinho virtual com OOP. Primeiro, criamos uma nova classe chamada Piggy com uma propriedade value definida como 0."
   ]
  },
  {
   "cell_type": "code",
   "execution_count": null,
   "metadata": {},
   "outputs": [],
   "source": [
    "class Piggy:\n",
    "    value = 0  # Atribui o valor 0 ao atributo value da classe Piggy\n",
    "    # A seguir, adicionamos um método chamado addMoney() que aceita um parâmetro chamado amount\n",
    "\n",
    "    def addMoney(self, amount):\n",
    "        # Define o método addMoney() que atualiza o valor com a soma do valor atual e amount de Piggy\n",
    "        self.value = self.value + amount"
   ]
  },
  {
   "cell_type": "markdown",
   "metadata": {},
   "source": [
    "Vamos colocar R$ 100 em nosso cofrinho chamando o método addMoney() de Piggy com 100 como argumento."
   ]
  },
  {
   "cell_type": "code",
   "execution_count": null,
   "metadata": {},
   "outputs": [],
   "source": [
    "myPiggy = Piggy()  # Cria uma instância da classe Piggy chamada myPiggy\n",
    "myPiggy.addMoney(100)  # Chama o método addMoney() da instância myPiggy com o valor 100 como argumento"
   ]
  },
  {
   "cell_type": "markdown",
   "metadata": {},
   "source": [
    "Finalmente vamos imprimir o valor de Piggy para ver se o dinheiro foi adicionado."
   ]
  },
  {
   "cell_type": "code",
   "execution_count": null,
   "metadata": {},
   "outputs": [],
   "source": [
    "print(myPiggy.value)  # Imprime o valor do atributo value da instância myPiggy"
   ]
  },
  {
   "cell_type": "markdown",
   "metadata": {},
   "source": [
    "Na OOP, agrupamos dados e funções relacionadas no mesmo objeto. Chamamos isso de encapsulamento.\n",
    "\n",
    "Com o encapsulamento, também temos métodos que utilizam as demais propriedades que pertencem ao objeto, como neste exemplo eat acessando a propriedade hungry."
   ]
  },
  {
   "cell_type": "code",
   "execution_count": null,
   "metadata": {},
   "outputs": [],
   "source": [
    "class Dog:\n",
    "    name = 'Fido'  # Atribui o valor 'Fido' ao atributo name da classe Dog\n",
    "    hungry = False  # Atribui o valor False ao atributo hungry da classe Dog\n",
    "\n",
    "    def eat(self):\n",
    "        # Define o método eat que atualiza o valor do atributo hungry para True\n",
    "        self.hungry = True"
   ]
  },
  {
   "cell_type": "markdown",
   "metadata": {},
   "source": [
    "No FP, o código não é encapsulado. Os dados e a função não são agrupados em um objeto."
   ]
  },
  {
   "cell_type": "code",
   "execution_count": null,
   "metadata": {},
   "outputs": [],
   "source": [
    "def get_distance(mph, h):\n",
    "  # Define a função getDistance que retorna a multiplicação de dois valores\n",
    "  return mph * h"
   ]
  },
  {
   "cell_type": "code",
   "execution_count": null,
   "metadata": {},
   "outputs": [],
   "source": [
    "mph = 60  # Declara a variável mph e atribui o valor 60\n",
    "h = 2  # Declara a variável h e atribui o valor 2"
   ]
  },
  {
   "cell_type": "markdown",
   "metadata": {},
   "source": [
    "Podemos detectar código que não está bem encapsulado se métodos e propriedades relacionados estiverem em objetos diferentes."
   ]
  },
  {
   "cell_type": "code",
   "execution_count": null,
   "metadata": {},
   "outputs": [],
   "source": [
    "class Dog:\n",
    "    name = 'Fido'  # Atribui o valor 'Fido' ao atributo name da classe Dog\n",
    "    hungry = False  # Atribui o valor False ao atributo hungry da classe Dog"
   ]
  },
  {
   "cell_type": "code",
   "execution_count": null,
   "metadata": {},
   "outputs": [],
   "source": [
    "def eat():\n",
    "  # Define a função eat que atualiza o valor da variável hungry para True\n",
    "  hungry = True"
   ]
  },
  {
   "cell_type": "markdown",
   "metadata": {},
   "source": [
    "Na OOP identificamos quais métodos e propriedades pertencem reciprocamente e dever ser adicionados ao mesmo objeto."
   ]
  },
  {
   "cell_type": "code",
   "execution_count": null,
   "metadata": {},
   "outputs": [],
   "source": [
    "class Cat:\n",
    "  color = 'Orange'  # Atribui o valor 'Orange' ao atributo color da classe Cat\n",
    "\n",
    "  def meow(self):\n",
    " # Define o método meow que imprime 'Meow!'\n",
    "    print('Meow!')"
   ]
  },
  {
   "cell_type": "code",
   "execution_count": null,
   "metadata": {},
   "outputs": [],
   "source": [
    "class Car:\n",
    "    color = 'Red'  # Atribui o valor 'Red' ao atributo color da classe Car\n",
    "\n",
    "    def drive(self):\n",
    "        # Define o método drive que imprime 'Vroom!'\n",
    "        print('Vroom!')"
   ]
  },
  {
   "cell_type": "markdown",
   "metadata": {},
   "source": [
    "###  Aplicando herança\n",
    "\n",
    "Como aprendemos anteriormente, OOP significa encapsular dados e funções relacionadas dentro de objetos\n",
    "\n",
    "Quando criamos objetos um por um, nos deparamos com o problema de ter código duplicado."
   ]
  },
  {
   "cell_type": "code",
   "execution_count": null,
   "metadata": {},
   "outputs": [],
   "source": [
    "from typing import Any"
   ]
  },
  {
   "cell_type": "code",
   "execution_count": null,
   "metadata": {},
   "outputs": [],
   "source": [
    "class Person1:\n",
    "  # Define a classe Person1\n",
    "  name = 'John'\n",
    "  def greet(self):\n",
    "    # Define o método greet que imprime uma saudação usando o atributo name\n",
    "    print(f'Hello, my name is {self.name}')"
   ]
  },
  {
   "cell_type": "code",
   "execution_count": null,
   "metadata": {},
   "outputs": [],
   "source": [
    "class Person2:\n",
    "  # Define a classe Person2\n",
    "  name = 'Mike'\n",
    "  def greet(self):\n",
    "    # Define o método greet que imprime uma saudação usando o atributo name\n",
    "    print(f'Hello, my name is {self.name}')"
   ]
  },
  {
   "cell_type": "code",
   "execution_count": null,
   "metadata": {},
   "outputs": [],
   "source": [
    "class Person3:\n",
    "  # Define a classe Person3\n",
    "  name = 'Jane'\n",
    "  def greet(self):\n",
    "    # Define o método greet que imprime uma saudação usando o atributo name\n",
    "    print(f'Hello, my name is {self.name}')"
   ]
  },
  {
   "cell_type": "markdown",
   "metadata": {},
   "source": [
    "Usamos herança para tornar nosso código eficiente. Através de herança, as classes recebem métodos de outras classes."
   ]
  },
  {
   "cell_type": "code",
   "execution_count": null,
   "metadata": {},
   "outputs": [],
   "source": [
    "class Parent:\n",
    "  # Define a classe Parent\n",
    "  def __init__(self):\n",
    "    # Define o construtor da classe Parent que inicializa o atributo eyes\n",
    "    self.eyes = 'brown'"
   ]
  },
  {
   "cell_type": "markdown",
   "metadata": {},
   "source": [
    "Aqui vemos que a classe Child está herdando a classe Parent porque está entre parênteses após a definição da classe."
   ]
  },
  {
   "cell_type": "code",
   "execution_count": null,
   "metadata": {},
   "outputs": [],
   "source": [
    "class Child(Parent):\n",
    "  # Define a classe Child que herda da classe Parent\n",
    "  def __init__(self):\n",
    "    # Chama o construtor da classe Parent usando super() e inicializa o atributo age\n",
    "    super().__init__()\n",
    "    self.age = 7"
   ]
  },
  {
   "cell_type": "code",
   "execution_count": null,
   "metadata": {},
   "outputs": [],
   "source": [
    "child = Child()\n",
    "print(child.eyes)  # Imprime o valor do atributo eyes herdado da classe Parent"
   ]
  },
  {
   "cell_type": "code",
   "execution_count": null,
   "metadata": {},
   "outputs": [],
   "source": [
    "print(child.age)  # Imprime o valor do atributo age da classe Child"
   ]
  },
  {
   "cell_type": "markdown",
   "metadata": {},
   "source": [
    "Vejamos como uma classe pode herdar métodos de outra. Ao definir a classe, adicionamos parênteses à classe que herdamos."
   ]
  },
  {
   "cell_type": "code",
   "execution_count": null,
   "metadata": {},
   "outputs": [],
   "source": [
    "class Greetings():\n",
    "  # Define a classe Greetings\n",
    "  def greet(self):\n",
    "    # Define o método greet que imprime 'Hello!'\n",
    "    print('Hello!')"
   ]
  },
  {
   "cell_type": "markdown",
   "metadata": {},
   "source": [
    "A classe Person agora pode usar métodos da Saudação como os seus."
   ]
  },
  {
   "cell_type": "code",
   "execution_count": null,
   "metadata": {},
   "outputs": [],
   "source": [
    "class Person(Greetings):\n",
    "  # Define a classe Person que herda da classe Greetings\n",
    "  name = 'George'\n",
    "\n",
    "p = Person()\n",
    "p.greet()  # Chama o método greet herdado da classe Greetings"
   ]
  },
  {
   "cell_type": "markdown",
   "metadata": {},
   "source": [
    "Podemos atualizar o funcionamento das classes definindo métodos diretamente na classe."
   ]
  },
  {
   "cell_type": "code",
   "execution_count": null,
   "metadata": {},
   "outputs": [],
   "source": [
    "class Car:\n",
    "  # Define a classe Car\n",
    "  def start_car(self):\n",
    "    # Define o método start_car que imprime 'Starting the car'\n",
    "    print('Starting the car')"
   ]
  },
  {
   "cell_type": "code",
   "execution_count": null,
   "metadata": {},
   "outputs": [],
   "source": [
    "class Hybrid(Car):\n",
    "  # Define a classe Hybrid que herda da classe Car\n",
    "  def charge(self):\n",
    "    # Define o método charge que imprime 'Charging the battery'\n",
    "    print('Charging the battery')"
   ]
  },
  {
   "cell_type": "code",
   "execution_count": null,
   "metadata": {},
   "outputs": [],
   "source": [
    "class Electric(Car):\n",
    "  # Define a classe Electric que herda da classe Car\n",
    "  def fuel(self):\n",
    "    # Define o método fuel que imprime 'No fuel needed'\n",
    "    print('No fuel needed')"
   ]
  },
  {
   "cell_type": "code",
   "execution_count": null,
   "metadata": {},
   "outputs": [],
   "source": [
    "prius = Hybrid()\n",
    "electric = Electric()\n",
    "prius.start_car()  # Chama o método start_car da classe Car herdado pela classe Hybrid"
   ]
  },
  {
   "cell_type": "code",
   "execution_count": null,
   "metadata": {},
   "outputs": [],
   "source": [
    "electric.start_car()  # Chama o método start_car da classe Car herdado pela classe Electric"
   ]
  },
  {
   "cell_type": "code",
   "execution_count": null,
   "metadata": {},
   "outputs": [],
   "source": [
    "prius.charge()  # Chama o método charge da classe Hybrid"
   ]
  },
  {
   "cell_type": "code",
   "execution_count": null,
   "metadata": {},
   "outputs": [],
   "source": [
    "electric.fuel()  # Chama o método fuel da classe Electric"
   ]
  },
  {
   "cell_type": "markdown",
   "metadata": {},
   "source": [
    "As classes contêm um método chamado construtor que define as propriedades de novos objetos, conhecidos como instâncias."
   ]
  },
  {
   "cell_type": "code",
   "execution_count": null,
   "metadata": {},
   "outputs": [],
   "source": [
    "class Person:\n",
    "  # Define a classe Person\n",
    "  def __init__(self, name, age):\n",
    "    # Define o construtor da classe Person que inicializa os atributos name e age\n",
    "    self.name = name\n",
    "    self.age = age"
   ]
  },
  {
   "cell_type": "code",
   "execution_count": null,
   "metadata": {},
   "outputs": [],
   "source": [
    "sam = Person('Sam', 7)\n",
    "print(sam.name, sam.age)  # Imprime os valores dos atributos name e age da instância sam"
   ]
  },
  {
   "cell_type": "markdown",
   "metadata": {},
   "source": [
    "Podemos usar o conceito de herança para reutilizar partes de código em nossas classes, tornando nosso código mais eficiente."
   ]
  },
  {
   "cell_type": "code",
   "execution_count": null,
   "metadata": {},
   "outputs": [],
   "source": [
    "class Person:\n",
    "  # Define a classe Person\n",
    "  def __init__(self, name, age):\n",
    "    # Define o construtor da classe Person que inicializa os atributos name e age\n",
    "    self.name = name\n",
    "    self.age = age\n",
    "  def greet(self):\n",
    "    # Define o método greet que imprime 'Hello!'\n",
    "    print('Hello!')"
   ]
  },
  {
   "cell_type": "code",
   "execution_count": null,
   "metadata": {},
   "outputs": [],
   "source": [
    "class Nurse(Person):\n",
    "  # Define a classe Nurse que herda da classe Person\n",
    "  def __init__(self, name, age):\n",
    "    # Chama o construtor da classe Person usando super() e inicializa o atributo name\n",
    "    super().__init__('Nurse '+ name, age)\n",
    "  def intro(self):\n",
    "    # Define o método intro que imprime uma introdução\n",
    "    print(\"Hi, I'm Nurse \" + self.name)"
   ]
  },
  {
   "cell_type": "code",
   "execution_count": null,
   "metadata": {},
   "outputs": [],
   "source": [
    "\n",
    "Person1 = Person('John', 36)\n",
    "Person1.greet()  # Chama o método greet da classe Person"
   ]
  },
  {
   "cell_type": "code",
   "execution_count": null,
   "metadata": {},
   "outputs": [],
   "source": [
    "Person2 = Nurse('Jane', 32)\n",
    "Person2.intro()  # Chama o método intro da classe Nurse"
   ]
  },
  {
   "cell_type": "markdown",
   "metadata": {},
   "source": [
    "Ao trabalhar com classes, temos que pensar um pouco em como aplicar herança. Suponha que queríamos modelar uma classe student em nosso código.\n",
    "\n",
    "Queremos que Student funcione como Person, exceto que tenha um major. Se criarmos uma nova classe Student, acabaremos com código duplicado.\n",
    "\n",
    "Em vez disso faz, faz mais sentido, neste caso, criar uma subclasse que herde o método greet() da classe Person, codificando (Person) após Student."
   ]
  },
  {
   "cell_type": "code",
   "execution_count": null,
   "metadata": {},
   "outputs": [],
   "source": [
    "class Student(Person):\n",
    "  # Define a classe Student que herda da classe Person\n",
    "  def __init__(self, name, age, major):\n",
    "    # Chama o construtor da classe Person usando super() e inicializa o atributo major\n",
    "    super().__init__(name, age)\n",
    "    self.major = major\n",
    "  def intro(self):\n",
    "    # Define o método intro que imprime uma introdução personalizada para Student\n",
    "    print(f'Hi, I am {self.name} and I study {self.major}')"
   ]
  },
  {
   "cell_type": "markdown",
   "metadata": {},
   "source": [
    "### Abstraindo objetos\n",
    "\n",
    "Vamos tentar modelar um objeto complicado como um carro, usando OOP. Quando dirigimos um carro, não precisamos entender a mecânica interna dele.\n",
    "\n",
    "Da mesma forma, ao trabalhar com código, queremos compreender os métodos principais sem nos prender a detalhes.\n",
    "\n",
    "Um carro faz muitas coisas ao mesmo tempo. Por exemplo, um carro injeta e acende combustível milhares de vezes por minuto, apenas para continuar funcionando.\n",
    "\n",
    "Modelar um carro em Python funciona da mesma forma. No entanto, chamar métodos repetidamente pode dificultar a compreensão do código e o uso.\n",
    "\n",
    "Além disso, gerenciar cada chamada de método individual por nós mesmos, aumenta a chance de cometermos um erro e causar um bug.\n",
    "\n",
    "Os carros fazem toda essa funcionalidade de baixo nível para nós, e só precisamos ligá-lo e dirigir. Ocultar esses detalhes é chamado de abstração.\n",
    "\n",
    "Implementamos abstração em OOP escrevendo algumas funções principais que lidam com todo o trabalho de baixo nível para nós."
   ]
  },
  {
   "cell_type": "code",
   "execution_count": null,
   "metadata": {},
   "outputs": [],
   "source": [
    "class Motor:\n",
    "  def __init__(self):\n",
    "    self.on = False\n",
    "    \n",
    "  def injectFuel(self):\n",
    "    # Simula a injeção de combustível\n",
    "    print('Injecting fuel')\n",
    "      \n",
    "  def igniteFuel(self):\n",
    "    # Simula a ignição do combustível\n",
    "    print('Igniting fuel')\n",
    "      \n",
    "  def startUp(self):\n",
    "    # Inicia o motor simulando a injeção e ignição do combustível continuamente\n",
    "    self.on = True\n",
    "    while self.on:\n",
    "      self.injectFuel()\n",
    "      self.igniteFuel()"
   ]
  },
  {
   "cell_type": "markdown",
   "metadata": {},
   "source": [
    "A abstração permite que outros desenvolvedores usem uma classe sem precisar saber quais métodos de baixo nível ela possui ou como eles funcionam.\n",
    "\n",
    "Outros desenvolvedores podem criar um novo objeto a partir da nossa classe e usá-lo apenas chamando alguns métodos principais."
   ]
  },
  {
   "cell_type": "code",
   "execution_count": null,
   "metadata": {},
   "outputs": [],
   "source": [
    "car = Motor()\n",
    "car.startUp()  # Inicia o motor do carro simulando a injeção e ignição do combustível continuamente\n"
   ]
  },
  {
   "cell_type": "code",
   "execution_count": null,
   "metadata": {},
   "outputs": [],
   "source": [
    "plane = Motor()\n",
    "plane.startUp()  # Inicia o motor do avião simulando a injeção e ignição do combustível continuamente"
   ]
  },
  {
   "cell_type": "markdown",
   "metadata": {},
   "source": [
    "### Objetos polimórficos\n",
    "\n",
    "Métodos representam comportamentos. Por exemplo, um método speak() exibe mensagem na tela.\n",
    "\n",
    "Com herança, podemos estender a funcionalidade de uma classe filha. Mas e se quisermos implementar comportamentos de classe de maneira diferente?"
   ]
  },
  {
   "cell_type": "code",
   "execution_count": null,
   "metadata": {},
   "outputs": [],
   "source": [
    "class Feline:\n",
    "  def speak(self):\n",
    "    # Define o comportamento padrão para o método speak() na classe Feline\n",
    "    print('Meow!')"
   ]
  },
  {
   "cell_type": "code",
   "execution_count": null,
   "metadata": {},
   "outputs": [],
   "source": [
    "class Cat(Feline):\n",
    "  def lick(self):\n",
    "    # Define um comportamento específico para o método lick() na classe Cat\n",
    "    print('Licking paw')"
   ]
  },
  {
   "cell_type": "markdown",
   "metadata": {},
   "source": [
    "Aqui vemos o gato miando, o que é correto. Queremos que um comportamento diferente de speak() com base na classe. Isso é chamado de polimorfismo."
   ]
  },
  {
   "cell_type": "code",
   "execution_count": null,
   "metadata": {},
   "outputs": [],
   "source": [
    "class Lion(Feline):\n",
    "  def prey(self):\n",
    "    # Define um comportamento específico para o método prey() na classe Lion\n",
    "    print('Hunting for food')"
   ]
  },
  {
   "cell_type": "markdown",
   "metadata": {},
   "source": [
    "Uma subclasse pode substituir os métodos que herda de sua superclasse. Simplesmente definimos o método com o mesmo nome na subclasse."
   ]
  },
  {
   "cell_type": "code",
   "execution_count": null,
   "metadata": {},
   "outputs": [],
   "source": [
    "def speak(self):\n",
    "    # Define um comportamento específico para o método speak() na classe Lion\n",
    "    print('Roar!')"
   ]
  },
  {
   "cell_type": "code",
   "execution_count": null,
   "metadata": {},
   "outputs": [],
   "source": [
    "cat = Cat()\n",
    "cat.speak()  # Chama o método speak() da classe Feline na classe Cat"
   ]
  },
  {
   "cell_type": "code",
   "execution_count": null,
   "metadata": {},
   "outputs": [],
   "source": [
    "lion = Lion()\n",
    "lion.speak()  # Chama o método speak() da classe Lion"
   ]
  }
 ],
 "metadata": {
  "kernelspec": {
   "display_name": "Python 3",
   "language": "python",
   "name": "python3"
  },
  "language_info": {
   "codemirror_mode": {
    "name": "ipython",
    "version": 3
   },
   "file_extension": ".py",
   "mimetype": "text/x-python",
   "name": "python",
   "nbconvert_exporter": "python",
   "pygments_lexer": "ipython3",
   "version": "3.12.1"
  }
 },
 "nbformat": 4,
 "nbformat_minor": 2
}
