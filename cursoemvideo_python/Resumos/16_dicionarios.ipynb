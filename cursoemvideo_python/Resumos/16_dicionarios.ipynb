{
 "cells": [
  {
   "cell_type": "markdown",
   "metadata": {},
   "source": [
    "# `Dicionários em Python`\n",
    "\n",
    "Enquanto as listas em Python armazenam elementos ordenados por índice, os dicionários armazenam elementos acessíveis por meio de chaves únicas, proporcionando uma maneira eficiente de mapear dados.\n",
    "\n",
    "Em Python, um dicionário é uma estrutura de dados poderosa que armazena dados em pares chave-valor. Imagine um dicionário real: cada palavra é uma chave e sua definição é o valor associado. Em um dicionário Python, funciona da mesma maneira:\n",
    "\n",
    "`Chave`: É um identificador único que referencia um valor. As chaves podem ser strings, números, tuplas ou outros tipos imutáveis.\n",
    "\n",
    "`Valor`: É o dado que você deseja armazenar. Pode ser qualquer tipo de dado em Python, como strings, números, listas, etc.\n",
    "\n",
    "Dicionários são uteis para armazenar informações de um usuário, como nome, idade e cidade.\n",
    "Criar um catálogo de produtos com nome, preço e descrição. Mapear palavras em um texto para seus sinônimos entre outros usos.\n",
    "\n",
    "**Sintaxe de Criação:**\n",
    "\n",
    "Para criar um dicionário em Python, utilizamos chaves `{}` e separamos cada par chave-valor por dois pontos `:`"
   ]
  },
  {
   "cell_type": "code",
   "execution_count": 13,
   "metadata": {},
   "outputs": [],
   "source": [
    "# Criando um dicionário vazio\n",
    "dicionario = {} # ou dicionario = dict()\n",
    "\n",
    "# Criando um dicionário com alguns elementos\n",
    "dicionario = {\"nome\": \"João\", \"idade\": 25, \"cidade\": \"Rio de Janeiro\"}"
   ]
  },
  {
   "cell_type": "markdown",
   "metadata": {},
   "source": [
    "**Acessando os Valores:**\n",
    "\n",
    "Podemos acessar os valores de um dicionário fornecendo a chave correspondente entre colchetes `[]`. \n",
    "\n",
    "O valor retornado é o valor associado a essa chave e se a chave não existir, uma exceção é lançada. Podemos armazenar o valor retornado em uma variável."
   ]
  },
  {
   "cell_type": "code",
   "execution_count": 14,
   "metadata": {},
   "outputs": [],
   "source": [
    "dicionario = {\"nome\": \"João\", \"idade\": 25, \"cidade\": \"Rio de Janeiro\"}\n",
    "\n",
    "nome = dicionario[\"nome\"] # Retorna \"João\"\n",
    "idade = dicionario[\"idade\"] # Retorna 25\n",
    "\n",
    "# excessao = dicionario[\"excessao\"] # Retorna KeyError\n",
    "# KeyError é lançado quando tentamos acessar uma chave que não existe no dicionário.\n",
    "\n",
    "# Para evitar isso, podemos usar o método get().\n",
    "excessao = dicionario.get(\"excessao\") # Retorna None se a chave não existir\n",
    "\n",
    "# O método get() possui um segundo argumento opcional que é retornado caso a chave não exista. Ele é uma string vazia por padrão. Podemos alterrar esse valor.\n",
    "excessao = dicionario.get(\"excessao\", \"Chave não encontrada\") # Retorna \"Chave não encontrada\"\n",
    "\n",
    "# Outra opção seria usar o método setdefault(). Ele retorna o valor da chave se ela existir. Caso contrário, ele insere a chave com o valor padrão e retorna esse valor.\n",
    "excessao = dicionario.setdefault(\"excessao\", \"Chave não encontrada\") # Retorna \"Chave não encontrada\"\n",
    "\n",
    "# Podemos verificar se uma chave existe no dicionário com o operador in.\n",
    "existe_nome = \"nome\" in dicionario # Retorna True\n",
    "existe_excessao = \"excessao\" in dicionario # Retorna False"
   ]
  },
  {
   "cell_type": "markdown",
   "metadata": {},
   "source": [
    "**Atualizando, adicionando e removendo elementos:**\n",
    "\n",
    "Dicionários são estruturas mutáveis, portanto podemos adicionar ou remover elementos. Podemos modificar os valores de um dicionário atribuindo novos valores a uma chave específica."
   ]
  },
  {
   "cell_type": "code",
   "execution_count": 18,
   "metadata": {},
   "outputs": [
    {
     "name": "stdout",
     "output_type": "stream",
     "text": [
      "João\n",
      "José\n"
     ]
    }
   ],
   "source": [
    "dicionario = {\"nome\": \"João\", \"idade\": 25, \"cidade\": \"Rio de Janeiro\"}\n",
    "print(dicionario[\"nome\"]) # Retorna \"João\"\n",
    "dicionario[\"nome\"] = \"José\" # Altera o valor da chave \"nome\"\n",
    "print(dicionario[\"nome\"]) # Retorna \"José\""
   ]
  },
  {
   "cell_type": "markdown",
   "metadata": {},
   "source": [
    "## **É fácil adicionar novos elementos.**\n",
    "\n",
    "Adicionamos um novo elemento ao dicionário simplesmente atribuindo um valor a uma nova chave.\n"
   ]
  },
  {
   "cell_type": "code",
   "execution_count": 16,
   "metadata": {},
   "outputs": [],
   "source": [
    "dicionario[\"profissao\"] = \"Desenvolvedor\" # Adiciona uma nova chave ao dicionário"
   ]
  },
  {
   "cell_type": "markdown",
   "metadata": {},
   "source": [
    "## **Remover também é fácil**\n",
    "\n",
    "Podemos remover um elemento do dicionário com o método pop(). Ele remove a chave especificada e retorna o valor associado a ela. "
   ]
  },
  {
   "cell_type": "code",
   "execution_count": 22,
   "metadata": {},
   "outputs": [
    {
     "name": "stdout",
     "output_type": "stream",
     "text": [
      "{'nome': 'João', 'idade': 25, 'cidade': 'Rio de Janeiro'}\n",
      "{'nome': 'João', 'cidade': 'Rio de Janeiro'}\n",
      "{'nome': 'João'}\n",
      "{}\n"
     ]
    }
   ],
   "source": [
    "dicionario = {\"nome\": \"João\", \"idade\": 25, \"cidade\": \"Rio de Janeiro\"}\n",
    "print(dicionario) # O dicionário possui as chaves \"nome\", \"idade\" e \"cidade\"\n",
    "\n",
    "# Removemos um elemento do dicionário com o método pop(). Esse método remove a chave e retorna o valor associado a ela. Vamos atribuir esse valor a uma variável.\n",
    "idade = dicionario.pop(\"idade\") # Retorna 25 e remove a chave \"idade\" do dicionário\n",
    "\n",
    "print(dicionario) # Agora o dicionário não possui a chave \"idade\"\n",
    "\n",
    "# Podemos remover um elemento do dicionário com o operador del.\n",
    "del dicionario[\"cidade\"] # Remove a chave \"cidade\" do dicionário\n",
    "\n",
    "print(dicionario) # Agora o dicionário não possui as chaves \"idade\" e \"cidade\"\n",
    "\n",
    "# Assim como as listas, podemos usar o método clear() para remover todos os elementos do dicionário sem precisar deletá-lo.\n",
    "\n",
    "dicionario = {\"nome\": \"João\", \"idade\": 25, \"cidade\": \"Rio de Janeiro\"}\n",
    "dicionario.clear() # Remove todos os elementos do dicionário\n",
    "print(dicionario) # O dicionário está vazio {}\n",
    "\n",
    "# del, pop() e clear() lançam um erro KeyError se a chave não existir no dicionário.\n",
    "\n"
   ]
  },
  {
   "cell_type": "markdown",
   "metadata": {},
   "source": [
    "## Métodos `pop()`, `del` e `clear()`\n",
    "\n",
    "1. **`pop(chave)`:**\n",
    "   - O método `pop()` é usado para remover um elemento específico do dicionário, especificando a chave.\n",
    "   - Ele retorna o valor associado à chave removida.\n",
    "   - Exemplo:\n",
    "     ```python\n",
    "     dicionario = {\"nome\": \"João\", \"idade\": 25, \"cidade\": \"Rio de Janeiro\"}\n",
    "     idade = dicionario.pop(\"idade\")  # Retorna 25 e remove a chave \"idade\"\n",
    "     print(dicionario)  # Saída: {'nome': 'João', 'cidade': 'Rio de Janeiro'}\n",
    "     ```\n",
    "\n",
    "2. **`del dicionario[chave]`:**\n",
    "   - O operador `del` remove um elemento do dicionário especificando a chave.\n",
    "   - Não retorna nenhum valor.\n",
    "   - Exemplo:\n",
    "     ```python\n",
    "     dicionario = {\"nome\": \"João\", \"idade\": 25, \"cidade\": \"Rio de Janeiro\"}\n",
    "     del dicionario[\"cidade\"]  # Remove a chave \"cidade\"\n",
    "     print(dicionario)  # Saída: {'nome': 'João', 'idade': 25}\n",
    "     ```\n",
    "\n",
    "3. **`clear()`:**\n",
    "   - O método `clear()` remove todos os elementos do dicionário, deixando-o vazio.\n",
    "   - Não retorna nenhum valor.\n",
    "   - Exemplo:\n",
    "     ```python\n",
    "     dicionario = {\"nome\": \"João\", \"idade\": 25, \"cidade\": \"Rio de Janeiro\"}\n",
    "     dicionario.clear()  # Remove todos os elementos do dicionário\n",
    "     print(dicionario)  # Saída: {}\n",
    "     ```\n",
    "\n",
    "Esses métodos e operadores são úteis para manipular dicionários, permitindo remover elementos específicos ou limpar completamente o dicionário, dependendo das necessidades do programa. Eles lançam um erro `KeyError` se a chave não existir no dicionário, portanto, é importante verificar a existência da chave antes de utilizar esses métodos para evitar erros."
   ]
  },
  {
   "cell_type": "markdown",
   "metadata": {},
   "source": [
    "## **`Funções úteis`**\n",
    "\n",
    "`len(dicionario):`\n",
    "\n",
    "Esta função retorna o número de elementos no dicionário, ou seja, o número de pares chave-valor que estão presentes no dicionário."
   ]
  },
  {
   "cell_type": "code",
   "execution_count": null,
   "metadata": {},
   "outputs": [],
   "source": [
    "# Se quiser saber a quantidade da pares chave-valor de um dicionário, use o método len().\n",
    "\n",
    "dicionario = {\"nome\": \"João\", \"idade\": 25, \"cidade\": \"Rio de Janeiro\"}\n",
    "tamanho = len(dicionario) # Retorna 3"
   ]
  },
  {
   "cell_type": "markdown",
   "metadata": {},
   "source": [
    "`dicionario.keys():`\n",
    "\n",
    "Retorna uma lista contendo todas as chaves presentes no dicionário.\n",
    "Isso permite iterar sobre as chaves do dicionário ou verificar a existência de uma chave específica."
   ]
  },
  {
   "cell_type": "code",
   "execution_count": 27,
   "metadata": {},
   "outputs": [
    {
     "name": "stdout",
     "output_type": "stream",
     "text": [
      "dict_keys(['nome', 'idade', 'cidade'])\n"
     ]
    }
   ],
   "source": [
    "# Podemos usar o método keys() para obter uma lista com todas as chaves do dicionário.\n",
    "dicionario = {\"nome\": \"João\", \"idade\": 25, \"cidade\": \"Rio de Janeiro\"}\n",
    "chaves = dicionario.keys() # Retorna [\"nome\", \"idade\", \"cidade\"]\n",
    "print(chaves)"
   ]
  },
  {
   "cell_type": "markdown",
   "metadata": {},
   "source": [
    "`dicionario.values():`\n",
    "\n",
    "Retorna uma lista contendo todos os valores presentes no dicionário.\n",
    "Isso permite iterar sobre os valores do dicionário ou acessar valores específicos.\n"
   ]
  },
  {
   "cell_type": "code",
   "execution_count": 28,
   "metadata": {},
   "outputs": [
    {
     "name": "stdout",
     "output_type": "stream",
     "text": [
      "dict_values(['João', 25, 'Rio de Janeiro'])\n"
     ]
    }
   ],
   "source": [
    "# Podemos usar o método values() para obter uma lista com todos os valores do dicionário.\n",
    "dicionario = {\"nome\": \"João\", \"idade\": 25, \"cidade\": \"Rio de Janeiro\"}\n",
    "valores = dicionario.values() # Retorna [\"João\", 25, \"Rio de Janeiro\"]\n",
    "print(valores)"
   ]
  },
  {
   "cell_type": "markdown",
   "metadata": {},
   "source": [
    "`dicionario.items():`\n",
    "\n",
    "Retorna uma lista com todas as chaves do dicionário"
   ]
  },
  {
   "cell_type": "code",
   "execution_count": 30,
   "metadata": {},
   "outputs": [
    {
     "name": "stdout",
     "output_type": "stream",
     "text": [
      "dict_items([('nome', 'João'), ('idade', 25), ('cidade', 'Rio de Janeiro')])\n"
     ]
    }
   ],
   "source": [
    "# Podemos usar o método items() para obter uma lista com todos os pares chave-valor do dicionário.\n",
    "\n",
    "dicionario = {\"nome\": \"João\", \"idade\": 25, \"cidade\": \"Rio de Janeiro\"}\n",
    "itens = dicionario.items() # Retorna [(\"nome\", \"João\"), (\"idade\", 25), (\"cidade\", \"Rio de Janeiro\")]\n",
    "print(itens)"
   ]
  },
  {
   "cell_type": "markdown",
   "metadata": {},
   "source": [
    "## **`Percorrendo dicionários`**\n",
    "\n",
    "Percorrer um dicionário em Python é uma tarefa comum e pode ser feita de várias maneiras. \n",
    "\n",
    "- Uma delas é usando um `laço for` para percorrer as chaves do dicionário.\n",
    "- Outra é usando o método `items()` para percorrer os pares chave-valor.\n",
    "- Ou o método `values()` para percorrer os valores.\n",
    "- Ou o método `keys()` para percorrer as chaves."
   ]
  },
  {
   "cell_type": "markdown",
   "metadata": {},
   "source": [
    "## **`Loop for nas chaves:`**\n",
    "\n",
    "Nesta abordagem, você itera sobre as chaves do dicionário e acessa os valores correspondentes usando essas chaves.\n",
    "\n",
    "```python\n",
    "for chave in dicionario:\n",
    "    # Acessar valor usando dicionario[chave]\n",
    "```\n",
    "\n",
    "- Vantagens:\n",
    "  - Simples e direto.\n",
    "  - Útil se apenas as chaves forem necessárias.\n",
    "- Desvantagens:\n",
    "  - É necessário acessar explicitamente os valores usando as chaves"
   ]
  },
  {
   "cell_type": "code",
   "execution_count": 31,
   "metadata": {},
   "outputs": [
    {
     "name": "stdout",
     "output_type": "stream",
     "text": [
      "nome : João\n",
      "idade : 25\n",
      "cidade : Rio de Janeiro\n"
     ]
    }
   ],
   "source": [
    "dicionario = {\"nome\": \"João\", \"idade\": 25, \"cidade\": \"Rio de Janeiro\"}\n",
    "\n",
    "# Aqui chave é uma variável que vai receber as chaves do dicionário. Nomeamos ela assim para facilitar a leitura do código.\n",
    "\n",
    "# Dicionário é iterável, então podemos usar um for para percorrer as chaves. Ele representa o dicionário criado acima.\n",
    "for chave in dicionario:\n",
    "    print(chave, \":\", dicionario[chave])\n",
    "    \n",
    "# Nesse método precisamos explicitar que queremos acessar o valor associado a chave. Isso é feito com dicionario[chave]."
   ]
  },
  {
   "cell_type": "markdown",
   "metadata": {},
   "source": [
    "## **`Usando o método items():`**\n",
    "\n",
    "Nesta abordagem, você itera sobre os pares chave-valor do dicionário usando o método items(), que retorna uma sequência de tuplas onde cada tupla contém uma chave e seu valor correspondente.\n",
    "\n",
    "```python\n",
    "for chave, valor in dicionario.items():\n",
    "    # Acessar chave e valor diretamente\n",
    "```\n",
    "- Vantagens:\n",
    "    - Mais explícito, pois fornece tanto as chaves quanto os valores diretamente.\n",
    "    - Pode ser mais eficiente do que acessar explicitamente os valores usando as chaves.\n",
    "- Desvantagens:\n",
    "    - Pode parecer mais complexo para iniciantes, pois envolve o conceito de descompactação de tuplas."
   ]
  },
  {
   "cell_type": "code",
   "execution_count": 32,
   "metadata": {},
   "outputs": [
    {
     "name": "stdout",
     "output_type": "stream",
     "text": [
      "nome : João\n",
      "idade : 25\n",
      "cidade : Rio de Janeiro\n"
     ]
    }
   ],
   "source": [
    "dicionario = {\"nome\": \"João\", \"idade\": 25, \"cidade\": \"Rio de Janeiro\"}\n",
    "# Aqui chave e valor são variáveis que vão receber as chaves e valores do dicionário. Nomeamos elas assim para facilitar a leitura do código.\n",
    "for chave, valor in dicionario.items():\n",
    "    print(chave, \":\", valor) \n",
    "    \n",
    "# Nesse método, a função items() retorna uma lista com os pares chave-valor. Assim, podemos acessar a chave e o valor associado a ela com chave e valor, respectivamente.\n",
    "\n",
    "# Observação: Note que esse método se assemelha ao enumerate() que vimos nas listas. A diferença é que o enumerate() retorna o índice e o valor de uma lista, enquanto o items() retorna a chave e o valor de um dicionário."
   ]
  },
  {
   "cell_type": "markdown",
   "metadata": {},
   "source": [
    "## **`Usando keys() e values()`**\n",
    "\n",
    "Também temos os métodos keys() e values() que retornam as chaves e os valores do dicionário, respectivamente. Eles são úteis quando queremos acessar apenas as chaves ou os valores do dicionário."
   ]
  },
  {
   "cell_type": "code",
   "execution_count": 36,
   "metadata": {},
   "outputs": [
    {
     "name": "stdout",
     "output_type": "stream",
     "text": [
      "nome\n",
      "idade\n",
      "cidade\n",
      "João\n",
      "25\n",
      "Rio de Janeiro\n"
     ]
    }
   ],
   "source": [
    "dicionario = {\"nome\": \"João\", \"idade\": 25, \"cidade\": \"Rio de Janeiro\"}\n",
    "\n",
    "# Aqui keys() retorna uma lista com as chaves do dicionário.\n",
    "for chave in dicionario.keys():\n",
    "    print(chave)\n",
    "\n",
    "# Aqui values() retorna uma lista com os valores do dicionário.\n",
    "for valor in dicionario.values():\n",
    "    print(valor)"
   ]
  },
  {
   "cell_type": "code",
   "execution_count": 39,
   "metadata": {},
   "outputs": [
    {
     "name": "stdout",
     "output_type": "stream",
     "text": [
      "nome : João\n",
      "idade : 25\n",
      "cidade : Rio de Janeiro\n",
      "profissao : Desenvolvedor\n"
     ]
    }
   ],
   "source": [
    "# Estruturas aninhadas\n",
    "\n",
    "# Podemos criar dicionários aninhados, ou seja, dicionários dentro de dicionários.\n",
    "dicionario = {\n",
    "    \"pessoa\": {\n",
    "        \"nome\": \"João\",\n",
    "        \"idade\": 25,\n",
    "        \"cidade\": \"Rio de Janeiro\"\n",
    "    },\n",
    "    \"profissao\": \"Desenvolvedor\"\n",
    "}\n",
    "\n",
    "# Temos um dicionário com duas chaves: \"pessoa\" e \"profissao\". A chave \"pessoa\" possui um dicionário com as chaves \"nome\", \"idade\" e \"cidade\".\n",
    "\n",
    "# Podemos acessar os valores de um dicionário aninhado da seguinte forma:\n",
    "nome = dicionario[\"pessoa\"][\"nome\"] # Retorna \"João\"\n",
    "idade = dicionario[\"pessoa\"][\"idade\"] # Retorna 25\n",
    "cidade = dicionario[\"pessoa\"][\"cidade\"] # Retorna \"Rio de Janeiro\"\n",
    "profissao = dicionario[\"profissao\"] # Retorna \"Desenvolvedor\"\n",
    "\n",
    "# Para percorrer um dicionário aninhado, podemos usar dois fors.\n",
    "\n",
    "# Aqui, o primeiro for percorre as chaves do dicionário. Se o valor associado a chave for um dicionário, o segundo for percorre as chaves desse dicionário. Caso contrário, ele imprime a chave e o valor associado a ela.\n",
    "for chave in dicionario:\n",
    "    # Verificamos se o valor associado a chave é um dicionário.\n",
    "    if type(dicionario[chave]) is dict: \n",
    "        for chave_aninhada in dicionario[chave]:\n",
    "            print(chave_aninhada, \":\", dicionario[chave][chave_aninhada])\n",
    "    else:\n",
    "        print(chave, \":\", dicionario[chave])\n",
    "        \n",
    "# Se o valor aninhado for uma lista em vez de um dicionário? Por exemplo:\n",
    "dicionario = {\"cidades\": [\"Rio de Janeiro\", \"São Paulo\"]}\n",
    "\n",
    "# Acessamos os valores da lista combinando os métodos de acesso de listas e dicionários.\n",
    "cidades = dicionario[\"cidades\"] # Retorna [\"Rio de Janeiro\", \"São Paulo\"]\n",
    "primeira_cidade = dicionario[\"cidades\"][0] # Retorna \"Rio de Janeiro\"\n"
   ]
  },
  {
   "cell_type": "markdown",
   "metadata": {},
   "source": [
    "## **`Ordenação de Dicionários:`**\n",
    "\n",
    "Os dicionários em Python não mantêm uma ordem específica para seus elementos, o que significa que a ordem de acesso aos elementos pode variar. No entanto, você pode usar a função `sorted()` para ordenar as chaves ou valores de um dicionário em uma ordem específica.\n",
    "\n",
    "*O `sorted()` retorna uma nova sequência ordenada, enquanto o dicionário original permanece inalterado.*"
   ]
  },
  {
   "cell_type": "code",
   "execution_count": 3,
   "metadata": {},
   "outputs": [
    {
     "name": "stdout",
     "output_type": "stream",
     "text": [
      "['a', 'b', 'c']\n",
      "{'b': 2, 'a': 1, 'c': 3}\n",
      "['c', 'b', 'a']\n",
      "['c', 'b', 'a']\n"
     ]
    },
    {
     "ename": "AttributeError",
     "evalue": "'list' object has no attribute 'keys'",
     "output_type": "error",
     "traceback": [
      "\u001b[1;31m---------------------------------------------------------------------------\u001b[0m",
      "\u001b[1;31mAttributeError\u001b[0m                            Traceback (most recent call last)",
      "Cell \u001b[1;32mIn[3], line 21\u001b[0m\n\u001b[0;32m     17\u001b[0m \u001b[38;5;28mprint\u001b[39m(chaves_ordenadas)  \u001b[38;5;66;03m# Resultado: ['a', 'b', 'c']\u001b[39;00m\n\u001b[0;32m     19\u001b[0m \u001b[38;5;66;03m# Podemos simplificar usando dicionario.get no lugar de lambda x: dicionario[x]. O método get() retorna o valor associado a chave x.\u001b[39;00m\n\u001b[1;32m---> 21\u001b[0m dicionario \u001b[38;5;241m=\u001b[39m \u001b[38;5;28msorted\u001b[39m(\u001b[43mdicionario\u001b[49m\u001b[38;5;241;43m.\u001b[39;49m\u001b[43mkeys\u001b[49m(), key\u001b[38;5;241m=\u001b[39mdicionario\u001b[38;5;241m.\u001b[39mget)\n\u001b[0;32m     22\u001b[0m \u001b[38;5;28mprint\u001b[39m(chaves_ordenadas)  \u001b[38;5;66;03m# Resultado: ['a', 'b', 'c']\u001b[39;00m\n",
      "\u001b[1;31mAttributeError\u001b[0m: 'list' object has no attribute 'keys'"
     ]
    }
   ],
   "source": [
    "dicionario = {\"b\": 2, \"a\": 1, \"c\": 3}\n",
    "# O método sorted() retorna uma lista com as chaves do dicionário ordenadas.\n",
    "chaves_ordenadas = sorted(dicionario.keys())\n",
    "print(chaves_ordenadas)  # Resultado: ['a', 'b', 'c']\n",
    "\n",
    "# O diciário original não é alterado.\n",
    "print(dicionario)  # Resultado: {'b': 2, 'a': 1, 'c': 3}\n",
    "\n",
    "# O método sorted() possui um argumento opcional reverse que inverte a ordem da lista. O valor padrão é False.\n",
    "chaves_ordenadas = sorted(dicionario.keys(), reverse=True)\n",
    "print(chaves_ordenadas)  # Resultado: ['c', 'b', 'a']\n",
    "\n",
    "# Além dele temos o argumento key que recebe uma função que será aplicada a cada elemento da lista antes de ordená-la.\n",
    "\n",
    "# Aqui, a função lambda x: dicionario[x] retorna o valor associado a chave x. Assim, a lista é ordenada de acordo com os valores do dicionário.\n",
    "chaves_ordenadas = sorted(dicionario.keys(), key=lambda x: dicionario[x])\n",
    "print(chaves_ordenadas)  # Resultado: ['a', 'b', 'c']\n",
    "\n",
    "# Podemos simplificar usando dicionario.get no lugar de lambda x: dicionario[x]. O método get() retorna o valor associado a chave x.\n",
    "\n",
    "# chaves_ordenadas = sorted(dicionario.keys(), key=dicionario.get)\n",
    "print(chaves_ordenadas)  # Resultado: ['a', 'b', 'c']\n"
   ]
  },
  {
   "cell_type": "markdown",
   "metadata": {},
   "source": [
    "## **`Compreensões de Dicionários:`**\n",
    "\n",
    "As compreensões de dicionários são uma construção concisa e eficiente para criar dicionários em Python usando loops for. Elas seguem uma sintaxe semelhante às compreensões de listas, mas produzem dicionários em vez de listas."
   ]
  },
  {
   "cell_type": "code",
   "execution_count": 44,
   "metadata": {},
   "outputs": [
    {
     "name": "stdout",
     "output_type": "stream",
     "text": [
      "{0: 0, 1: 1, 2: 4, 3: 9, 4: 16}\n"
     ]
    }
   ],
   "source": [
    "quadrados = {x: x**2 for x in range(5)}\n",
    "# x é a chave e x**2 é o valor associado a ela.\n",
    "# for x in range(5) percorre os valores de 0 a 4.\n",
    "\n",
    "print(quadrados)  # Resultado: {0: 0, 1: 1, 2: 4, 3: 9, 4: 16}"
   ]
  },
  {
   "cell_type": "markdown",
   "metadata": {},
   "source": [
    "## **`Método update()`**\n",
    "\n",
    "O método `update()` é usado para mesclar dois dicionários, atualizando as chaves e valores do primeiro dicionário com os do segundo.\n",
    "\n",
    "Se uma chave existir em ambos os dicionários, o valor correspondente no primeiro dicionário será substituído pelo valor no segundo dicionário.\n",
    "\n",
    "Este método modifica o dicionário original e não retorna nada."
   ]
  },
  {
   "cell_type": "code",
   "execution_count": 45,
   "metadata": {},
   "outputs": [
    {
     "name": "stdout",
     "output_type": "stream",
     "text": [
      "{'a': 1, 'b': 3, 'c': 4}\n"
     ]
    }
   ],
   "source": [
    "dicionario1 = {\"a\": 1, \"b\": 2}\n",
    "dicionario2 = {\"b\": 3, \"c\": 4}\n",
    "# a é uma chave que existe apenas no dicionário1.\n",
    "# b é uma chave que existe nos dois dicionários. O valor associado a ela no dicionário2 é 3.\n",
    "# c é uma chave que existe apenas no dicionário2.\n",
    "\n",
    "dicionario1.update(dicionario2)\n",
    "print(dicionario1)  # Resultado: {'a': 1, 'b': 3, 'c': 4}"
   ]
  },
  {
   "cell_type": "markdown",
   "metadata": {},
   "source": [
    "## **`Verificação de Chave:`**\n",
    "\n",
    "O operador `in` pode ser usado para verificar se uma chave existe em um dicionário.\n",
    "Se a chave existir no dicionário, o operador retornará True; caso contrário, retornará False."
   ]
  },
  {
   "cell_type": "code",
   "execution_count": 49,
   "metadata": {},
   "outputs": [
    {
     "name": "stdout",
     "output_type": "stream",
     "text": [
      "A chave 'a' existe!\n",
      "A chave 'c' não existe!\n"
     ]
    }
   ],
   "source": [
    "dicionario = {\"a\": 1, \"b\": 2}\n",
    "if \"a\" in dicionario:\n",
    "    print(\"A chave 'a' existe!\")\n",
    "    \n",
    "# in é útil para verificar se uma chave existe em um dicionário e evitar um erro KeyError.\n",
    "\n",
    "# Lembrando que para essa finalidade também podemos usar o método get().\n",
    "dicionario = {\"a\": 1, \"b\": 2}\n",
    "if dicionario.get(\"c\") is None:\n",
    "    print(\"A chave 'c' não existe!\")\n",
    "# O método get() retorna None se a chave não existir no dicionário. Assim, podemos verificar se a chave existe ou não."
   ]
  },
  {
   "cell_type": "markdown",
   "metadata": {},
   "source": [
    "## **`Conversão de Dicionários:`**\n",
    "\n",
    "É possível converter dicionários para outras estruturas de dados, como listas ou tuplas, usando as funções list(), tuple(), etc.\n",
    "\n",
    "Isso pode ser útil para manipular os dados de diferentes maneiras ou para passá-los para funções que esperam um tipo de dados específico."
   ]
  },
  {
   "cell_type": "code",
   "execution_count": 50,
   "metadata": {},
   "outputs": [
    {
     "name": "stdout",
     "output_type": "stream",
     "text": [
      "[('a', 1), ('b', 2)]\n"
     ]
    }
   ],
   "source": [
    "dicionario = {\"a\": 1, \"b\": 2}\n",
    "lista_chave_valor = list(dicionario.items())\n",
    "print(lista_chave_valor)  # Resultado: [('a', 1), ('b', 2)]"
   ]
  }
 ],
 "metadata": {
  "kernelspec": {
   "display_name": "Python 3",
   "language": "python",
   "name": "python3"
  },
  "language_info": {
   "codemirror_mode": {
    "name": "ipython",
    "version": 3
   },
   "file_extension": ".py",
   "mimetype": "text/x-python",
   "name": "python",
   "nbconvert_exporter": "python",
   "pygments_lexer": "ipython3",
   "version": "3.12.1"
  }
 },
 "nbformat": 4,
 "nbformat_minor": 2
}
